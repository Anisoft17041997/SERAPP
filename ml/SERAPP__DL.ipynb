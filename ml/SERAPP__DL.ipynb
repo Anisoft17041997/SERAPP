{
  "cells": [
    {
      "attachments": {},
      "cell_type": "markdown",
      "metadata": {
        "id": "EWH_tr0rGTiT"
      },
      "source": [
        "# Projet SER"
      ]
    },
    {
      "cell_type": "code",
      "execution_count": 1,
      "metadata": {},
      "outputs": [],
      "source": [
        "import os\n",
        "import numpy as np\n",
        "import pandas as pd\n",
        "import joblib\n",
        "import json\n",
        "import kaggle\n",
        "import keras\n",
        "import pickle\n",
        "from keras.models import load_model\n",
        "\n",
        "from IPython.display import Audio\n",
        "import librosa\n",
        "import librosa.display\n",
        "import seaborn as sns\n",
        "import matplotlib.pyplot as plt\n",
        "\n",
        "from sklearn.preprocessing import  LabelEncoder, MinMaxScaler\n",
        "from sklearn.metrics import confusion_matrix, classification_report\n",
        "from sklearn.model_selection import train_test_split, GridSearchCV\n",
        "from sklearn.metrics import accuracy_score, precision_score, recall_score\n",
        "\n",
        "from keras.models import Sequential\n",
        "from keras.layers import Dense, Dropout, BatchNormalization\n",
        "from keras.callbacks import EarlyStopping, ModelCheckpoint"
      ]
    },
    {
      "cell_type": "code",
      "execution_count": 2,
      "metadata": {},
      "outputs": [],
      "source": [
        "# List of feature names\n",
        "feature_names = [\n",
        "    'ZCR', 'Energy', 'SpectralCentroid', 'SpectralSpread', 'SpectralFlux',\n",
        "    'MFCC1', 'MFCC2', 'MFCC3', 'MFCC4', 'MFCC5', 'MFCC6', 'MFCC7',\n",
        "    'MFCC8', 'MFCC9', 'MFCC10', 'MFCC11', 'MFCC12', 'MFCC13',\n",
        "    'Chroma1', 'Chroma2', 'Chroma3', 'Chroma4', 'Chroma5', 'Chroma6',\n",
        "    'Chroma7', 'Chroma8', 'Chroma9', 'Chroma10', 'Chroma11', 'Chroma12'\n",
        "]\n"
      ]
    },
    {
      "attachments": {},
      "cell_type": "markdown",
      "metadata": {},
      "source": [
        "### Get features"
      ]
    },
    {
      "attachments": {},
      "cell_type": "markdown",
      "metadata": {},
      "source": [
        "#### Features without data augmentation\n",
        "\n",
        "no_augm == no data augmentation"
      ]
    },
    {
      "cell_type": "code",
      "execution_count": 3,
      "metadata": {},
      "outputs": [],
      "source": [
        "df_features_no_augm = pd.read_parquet('data/datasets/features_without_data_augmentation.parquet')"
      ]
    },
    {
      "cell_type": "code",
      "execution_count": 4,
      "metadata": {},
      "outputs": [
        {
          "data": {
            "text/plain": [
              "(11682, 31)"
            ]
          },
          "execution_count": 4,
          "metadata": {},
          "output_type": "execute_result"
        }
      ],
      "source": [
        "df_features_no_augm.shape"
      ]
    },
    {
      "cell_type": "code",
      "execution_count": 5,
      "metadata": {},
      "outputs": [
        {
          "data": {
            "text/html": [
              "<div>\n",
              "<style scoped>\n",
              "    .dataframe tbody tr th:only-of-type {\n",
              "        vertical-align: middle;\n",
              "    }\n",
              "\n",
              "    .dataframe tbody tr th {\n",
              "        vertical-align: top;\n",
              "    }\n",
              "\n",
              "    .dataframe thead th {\n",
              "        text-align: right;\n",
              "    }\n",
              "</style>\n",
              "<table border=\"1\" class=\"dataframe\">\n",
              "  <thead>\n",
              "    <tr style=\"text-align: right;\">\n",
              "      <th></th>\n",
              "      <th>ZCR</th>\n",
              "      <th>Energy</th>\n",
              "      <th>SpectralCentroid</th>\n",
              "      <th>SpectralSpread</th>\n",
              "      <th>SpectralFlux</th>\n",
              "      <th>MFCC1</th>\n",
              "      <th>MFCC2</th>\n",
              "      <th>MFCC3</th>\n",
              "      <th>MFCC4</th>\n",
              "      <th>MFCC5</th>\n",
              "      <th>...</th>\n",
              "      <th>Chroma4</th>\n",
              "      <th>Chroma5</th>\n",
              "      <th>Chroma6</th>\n",
              "      <th>Chroma7</th>\n",
              "      <th>Chroma8</th>\n",
              "      <th>Chroma9</th>\n",
              "      <th>Chroma10</th>\n",
              "      <th>Chroma11</th>\n",
              "      <th>Chroma12</th>\n",
              "      <th>labels</th>\n",
              "    </tr>\n",
              "  </thead>\n",
              "  <tbody>\n",
              "    <tr>\n",
              "      <th>0</th>\n",
              "      <td>0.204540</td>\n",
              "      <td>0.018793</td>\n",
              "      <td>3157.236579</td>\n",
              "      <td>2216.501199</td>\n",
              "      <td>2.351883</td>\n",
              "      <td>-440.286591</td>\n",
              "      <td>52.299297</td>\n",
              "      <td>-6.665863</td>\n",
              "      <td>4.278304</td>\n",
              "      <td>-15.808314</td>\n",
              "      <td>...</td>\n",
              "      <td>0.321975</td>\n",
              "      <td>0.346781</td>\n",
              "      <td>0.480067</td>\n",
              "      <td>0.331558</td>\n",
              "      <td>0.274953</td>\n",
              "      <td>0.354453</td>\n",
              "      <td>0.393035</td>\n",
              "      <td>0.393787</td>\n",
              "      <td>0.369280</td>\n",
              "      <td>angry</td>\n",
              "    </tr>\n",
              "    <tr>\n",
              "      <th>1</th>\n",
              "      <td>0.189815</td>\n",
              "      <td>0.012744</td>\n",
              "      <td>2744.419931</td>\n",
              "      <td>1984.251392</td>\n",
              "      <td>1.925617</td>\n",
              "      <td>-484.020691</td>\n",
              "      <td>52.436253</td>\n",
              "      <td>-8.613789</td>\n",
              "      <td>6.417563</td>\n",
              "      <td>-3.227553</td>\n",
              "      <td>...</td>\n",
              "      <td>0.285417</td>\n",
              "      <td>0.207637</td>\n",
              "      <td>0.242176</td>\n",
              "      <td>0.227869</td>\n",
              "      <td>0.242703</td>\n",
              "      <td>0.299185</td>\n",
              "      <td>0.388764</td>\n",
              "      <td>0.382405</td>\n",
              "      <td>0.378763</td>\n",
              "      <td>fear</td>\n",
              "    </tr>\n",
              "    <tr>\n",
              "      <th>2</th>\n",
              "      <td>0.200589</td>\n",
              "      <td>0.061085</td>\n",
              "      <td>3130.434636</td>\n",
              "      <td>2301.913172</td>\n",
              "      <td>2.341648</td>\n",
              "      <td>-315.505432</td>\n",
              "      <td>27.667685</td>\n",
              "      <td>-38.753201</td>\n",
              "      <td>0.213876</td>\n",
              "      <td>-14.901350</td>\n",
              "      <td>...</td>\n",
              "      <td>0.237158</td>\n",
              "      <td>0.168251</td>\n",
              "      <td>0.235008</td>\n",
              "      <td>0.320012</td>\n",
              "      <td>0.395711</td>\n",
              "      <td>0.443678</td>\n",
              "      <td>0.420142</td>\n",
              "      <td>0.433307</td>\n",
              "      <td>0.439407</td>\n",
              "      <td>fear</td>\n",
              "    </tr>\n",
              "    <tr>\n",
              "      <th>3</th>\n",
              "      <td>0.177156</td>\n",
              "      <td>0.040083</td>\n",
              "      <td>2874.637946</td>\n",
              "      <td>2220.399237</td>\n",
              "      <td>2.429970</td>\n",
              "      <td>-346.149780</td>\n",
              "      <td>52.521111</td>\n",
              "      <td>-14.139482</td>\n",
              "      <td>6.766320</td>\n",
              "      <td>-16.968788</td>\n",
              "      <td>...</td>\n",
              "      <td>0.367692</td>\n",
              "      <td>0.330350</td>\n",
              "      <td>0.368875</td>\n",
              "      <td>0.278672</td>\n",
              "      <td>0.218055</td>\n",
              "      <td>0.257016</td>\n",
              "      <td>0.376277</td>\n",
              "      <td>0.342528</td>\n",
              "      <td>0.312693</td>\n",
              "      <td>angry</td>\n",
              "    </tr>\n",
              "    <tr>\n",
              "      <th>4</th>\n",
              "      <td>0.175203</td>\n",
              "      <td>0.006512</td>\n",
              "      <td>2897.465696</td>\n",
              "      <td>2159.335761</td>\n",
              "      <td>2.339541</td>\n",
              "      <td>-532.369385</td>\n",
              "      <td>70.741547</td>\n",
              "      <td>-1.425078</td>\n",
              "      <td>11.303340</td>\n",
              "      <td>-9.632647</td>\n",
              "      <td>...</td>\n",
              "      <td>0.345111</td>\n",
              "      <td>0.322321</td>\n",
              "      <td>0.372758</td>\n",
              "      <td>0.350202</td>\n",
              "      <td>0.387294</td>\n",
              "      <td>0.438436</td>\n",
              "      <td>0.350818</td>\n",
              "      <td>0.331767</td>\n",
              "      <td>0.371133</td>\n",
              "      <td>disgust</td>\n",
              "    </tr>\n",
              "  </tbody>\n",
              "</table>\n",
              "<p>5 rows × 31 columns</p>\n",
              "</div>"
            ],
            "text/plain": [
              "        ZCR    Energy  SpectralCentroid  SpectralSpread  SpectralFlux  \\\n",
              "0  0.204540  0.018793       3157.236579     2216.501199      2.351883   \n",
              "1  0.189815  0.012744       2744.419931     1984.251392      1.925617   \n",
              "2  0.200589  0.061085       3130.434636     2301.913172      2.341648   \n",
              "3  0.177156  0.040083       2874.637946     2220.399237      2.429970   \n",
              "4  0.175203  0.006512       2897.465696     2159.335761      2.339541   \n",
              "\n",
              "        MFCC1      MFCC2      MFCC3      MFCC4      MFCC5  ...   Chroma4  \\\n",
              "0 -440.286591  52.299297  -6.665863   4.278304 -15.808314  ...  0.321975   \n",
              "1 -484.020691  52.436253  -8.613789   6.417563  -3.227553  ...  0.285417   \n",
              "2 -315.505432  27.667685 -38.753201   0.213876 -14.901350  ...  0.237158   \n",
              "3 -346.149780  52.521111 -14.139482   6.766320 -16.968788  ...  0.367692   \n",
              "4 -532.369385  70.741547  -1.425078  11.303340  -9.632647  ...  0.345111   \n",
              "\n",
              "    Chroma5   Chroma6   Chroma7   Chroma8   Chroma9  Chroma10  Chroma11  \\\n",
              "0  0.346781  0.480067  0.331558  0.274953  0.354453  0.393035  0.393787   \n",
              "1  0.207637  0.242176  0.227869  0.242703  0.299185  0.388764  0.382405   \n",
              "2  0.168251  0.235008  0.320012  0.395711  0.443678  0.420142  0.433307   \n",
              "3  0.330350  0.368875  0.278672  0.218055  0.257016  0.376277  0.342528   \n",
              "4  0.322321  0.372758  0.350202  0.387294  0.438436  0.350818  0.331767   \n",
              "\n",
              "   Chroma12   labels  \n",
              "0  0.369280    angry  \n",
              "1  0.378763     fear  \n",
              "2  0.439407     fear  \n",
              "3  0.312693    angry  \n",
              "4  0.371133  disgust  \n",
              "\n",
              "[5 rows x 31 columns]"
            ]
          },
          "execution_count": 5,
          "metadata": {},
          "output_type": "execute_result"
        }
      ],
      "source": [
        "df_features_no_augm.head()"
      ]
    },
    {
      "attachments": {},
      "cell_type": "markdown",
      "metadata": {},
      "source": [
        "#### Features with data augmentation\n",
        "with_augm == with data augmentation"
      ]
    },
    {
      "cell_type": "code",
      "execution_count": 6,
      "metadata": {},
      "outputs": [],
      "source": [
        "df_features_with_augm = pd.read_parquet('data/datasets/features_with_data_augmentation.parquet')"
      ]
    },
    {
      "cell_type": "code",
      "execution_count": 7,
      "metadata": {},
      "outputs": [
        {
          "data": {
            "text/plain": [
              "(35046, 31)"
            ]
          },
          "execution_count": 7,
          "metadata": {},
          "output_type": "execute_result"
        }
      ],
      "source": [
        "df_features_with_augm.shape"
      ]
    },
    {
      "cell_type": "code",
      "execution_count": 8,
      "metadata": {},
      "outputs": [
        {
          "data": {
            "text/html": [
              "<div>\n",
              "<style scoped>\n",
              "    .dataframe tbody tr th:only-of-type {\n",
              "        vertical-align: middle;\n",
              "    }\n",
              "\n",
              "    .dataframe tbody tr th {\n",
              "        vertical-align: top;\n",
              "    }\n",
              "\n",
              "    .dataframe thead th {\n",
              "        text-align: right;\n",
              "    }\n",
              "</style>\n",
              "<table border=\"1\" class=\"dataframe\">\n",
              "  <thead>\n",
              "    <tr style=\"text-align: right;\">\n",
              "      <th></th>\n",
              "      <th>ZCR</th>\n",
              "      <th>Energy</th>\n",
              "      <th>SpectralCentroid</th>\n",
              "      <th>SpectralSpread</th>\n",
              "      <th>SpectralFlux</th>\n",
              "      <th>MFCC1</th>\n",
              "      <th>MFCC2</th>\n",
              "      <th>MFCC3</th>\n",
              "      <th>MFCC4</th>\n",
              "      <th>MFCC5</th>\n",
              "      <th>...</th>\n",
              "      <th>Chroma4</th>\n",
              "      <th>Chroma5</th>\n",
              "      <th>Chroma6</th>\n",
              "      <th>Chroma7</th>\n",
              "      <th>Chroma8</th>\n",
              "      <th>Chroma9</th>\n",
              "      <th>Chroma10</th>\n",
              "      <th>Chroma11</th>\n",
              "      <th>Chroma12</th>\n",
              "      <th>labels</th>\n",
              "    </tr>\n",
              "  </thead>\n",
              "  <tbody>\n",
              "    <tr>\n",
              "      <th>0</th>\n",
              "      <td>0.204540</td>\n",
              "      <td>0.018793</td>\n",
              "      <td>3157.236579</td>\n",
              "      <td>2216.501199</td>\n",
              "      <td>2.351883</td>\n",
              "      <td>-440.286591</td>\n",
              "      <td>52.299297</td>\n",
              "      <td>-6.665863</td>\n",
              "      <td>4.278304</td>\n",
              "      <td>-15.808314</td>\n",
              "      <td>...</td>\n",
              "      <td>0.321975</td>\n",
              "      <td>0.346781</td>\n",
              "      <td>0.480067</td>\n",
              "      <td>0.331558</td>\n",
              "      <td>0.274953</td>\n",
              "      <td>0.354453</td>\n",
              "      <td>0.393035</td>\n",
              "      <td>0.393787</td>\n",
              "      <td>0.369280</td>\n",
              "      <td>angry</td>\n",
              "    </tr>\n",
              "    <tr>\n",
              "      <th>1</th>\n",
              "      <td>0.355532</td>\n",
              "      <td>0.022118</td>\n",
              "      <td>4779.178496</td>\n",
              "      <td>3151.482991</td>\n",
              "      <td>1.258613</td>\n",
              "      <td>-232.722713</td>\n",
              "      <td>13.950570</td>\n",
              "      <td>3.320304</td>\n",
              "      <td>-0.422506</td>\n",
              "      <td>-4.984953</td>\n",
              "      <td>...</td>\n",
              "      <td>0.493244</td>\n",
              "      <td>0.494773</td>\n",
              "      <td>0.545488</td>\n",
              "      <td>0.415705</td>\n",
              "      <td>0.412091</td>\n",
              "      <td>0.510564</td>\n",
              "      <td>0.548447</td>\n",
              "      <td>0.561863</td>\n",
              "      <td>0.527673</td>\n",
              "      <td>angry</td>\n",
              "    </tr>\n",
              "    <tr>\n",
              "      <th>2</th>\n",
              "      <td>0.230451</td>\n",
              "      <td>0.008324</td>\n",
              "      <td>3406.733059</td>\n",
              "      <td>2340.013524</td>\n",
              "      <td>1.496660</td>\n",
              "      <td>-491.448151</td>\n",
              "      <td>47.446922</td>\n",
              "      <td>-12.718010</td>\n",
              "      <td>-4.566107</td>\n",
              "      <td>-22.940006</td>\n",
              "      <td>...</td>\n",
              "      <td>0.209843</td>\n",
              "      <td>0.225962</td>\n",
              "      <td>0.267457</td>\n",
              "      <td>0.327613</td>\n",
              "      <td>0.502695</td>\n",
              "      <td>0.313019</td>\n",
              "      <td>0.257691</td>\n",
              "      <td>0.319452</td>\n",
              "      <td>0.360415</td>\n",
              "      <td>angry</td>\n",
              "    </tr>\n",
              "    <tr>\n",
              "      <th>3</th>\n",
              "      <td>0.189815</td>\n",
              "      <td>0.012744</td>\n",
              "      <td>2744.419931</td>\n",
              "      <td>1984.251392</td>\n",
              "      <td>1.925617</td>\n",
              "      <td>-484.020691</td>\n",
              "      <td>52.436253</td>\n",
              "      <td>-8.613789</td>\n",
              "      <td>6.417563</td>\n",
              "      <td>-3.227553</td>\n",
              "      <td>...</td>\n",
              "      <td>0.285417</td>\n",
              "      <td>0.207637</td>\n",
              "      <td>0.242176</td>\n",
              "      <td>0.227869</td>\n",
              "      <td>0.242703</td>\n",
              "      <td>0.299185</td>\n",
              "      <td>0.388764</td>\n",
              "      <td>0.382405</td>\n",
              "      <td>0.378763</td>\n",
              "      <td>fear</td>\n",
              "    </tr>\n",
              "    <tr>\n",
              "      <th>4</th>\n",
              "      <td>0.326448</td>\n",
              "      <td>0.014248</td>\n",
              "      <td>4586.606062</td>\n",
              "      <td>3168.801230</td>\n",
              "      <td>1.250617</td>\n",
              "      <td>-311.395009</td>\n",
              "      <td>17.698572</td>\n",
              "      <td>8.428658</td>\n",
              "      <td>0.337073</td>\n",
              "      <td>-0.577668</td>\n",
              "      <td>...</td>\n",
              "      <td>0.530345</td>\n",
              "      <td>0.481812</td>\n",
              "      <td>0.458058</td>\n",
              "      <td>0.429658</td>\n",
              "      <td>0.432802</td>\n",
              "      <td>0.442983</td>\n",
              "      <td>0.469787</td>\n",
              "      <td>0.516060</td>\n",
              "      <td>0.554791</td>\n",
              "      <td>fear</td>\n",
              "    </tr>\n",
              "  </tbody>\n",
              "</table>\n",
              "<p>5 rows × 31 columns</p>\n",
              "</div>"
            ],
            "text/plain": [
              "        ZCR    Energy  SpectralCentroid  SpectralSpread  SpectralFlux  \\\n",
              "0  0.204540  0.018793       3157.236579     2216.501199      2.351883   \n",
              "1  0.355532  0.022118       4779.178496     3151.482991      1.258613   \n",
              "2  0.230451  0.008324       3406.733059     2340.013524      1.496660   \n",
              "3  0.189815  0.012744       2744.419931     1984.251392      1.925617   \n",
              "4  0.326448  0.014248       4586.606062     3168.801230      1.250617   \n",
              "\n",
              "        MFCC1      MFCC2      MFCC3     MFCC4      MFCC5  ...   Chroma4  \\\n",
              "0 -440.286591  52.299297  -6.665863  4.278304 -15.808314  ...  0.321975   \n",
              "1 -232.722713  13.950570   3.320304 -0.422506  -4.984953  ...  0.493244   \n",
              "2 -491.448151  47.446922 -12.718010 -4.566107 -22.940006  ...  0.209843   \n",
              "3 -484.020691  52.436253  -8.613789  6.417563  -3.227553  ...  0.285417   \n",
              "4 -311.395009  17.698572   8.428658  0.337073  -0.577668  ...  0.530345   \n",
              "\n",
              "    Chroma5   Chroma6   Chroma7   Chroma8   Chroma9  Chroma10  Chroma11  \\\n",
              "0  0.346781  0.480067  0.331558  0.274953  0.354453  0.393035  0.393787   \n",
              "1  0.494773  0.545488  0.415705  0.412091  0.510564  0.548447  0.561863   \n",
              "2  0.225962  0.267457  0.327613  0.502695  0.313019  0.257691  0.319452   \n",
              "3  0.207637  0.242176  0.227869  0.242703  0.299185  0.388764  0.382405   \n",
              "4  0.481812  0.458058  0.429658  0.432802  0.442983  0.469787  0.516060   \n",
              "\n",
              "   Chroma12  labels  \n",
              "0  0.369280   angry  \n",
              "1  0.527673   angry  \n",
              "2  0.360415   angry  \n",
              "3  0.378763    fear  \n",
              "4  0.554791    fear  \n",
              "\n",
              "[5 rows x 31 columns]"
            ]
          },
          "execution_count": 8,
          "metadata": {},
          "output_type": "execute_result"
        }
      ],
      "source": [
        "df_features_with_augm.head()"
      ]
    },
    {
      "attachments": {},
      "cell_type": "markdown",
      "metadata": {},
      "source": [
        "### Creation of a column to predict only anger emotion"
      ]
    },
    {
      "cell_type": "code",
      "execution_count": 9,
      "metadata": {},
      "outputs": [],
      "source": [
        "original_labels = ['angry', 'calm', 'disgust', 'fear', 'happy', 'neutral', 'sad', 'surprise']\n",
        "target_emotions = ['angry']"
      ]
    },
    {
      "cell_type": "code",
      "execution_count": 10,
      "metadata": {},
      "outputs": [],
      "source": [
        "# Add a new column 'is_angry' to the dataframe\n",
        "df_features_no_augm['is_angry'] = np.where(df_features_no_augm['labels'].isin(target_emotions), 1, 0)\n",
        "df_features_with_augm['is_angry'] = np.where(df_features_with_augm['labels'].isin(target_emotions), 1, 0)"
      ]
    },
    {
      "cell_type": "code",
      "execution_count": 11,
      "metadata": {},
      "outputs": [
        {
          "data": {
            "text/html": [
              "<div>\n",
              "<style scoped>\n",
              "    .dataframe tbody tr th:only-of-type {\n",
              "        vertical-align: middle;\n",
              "    }\n",
              "\n",
              "    .dataframe tbody tr th {\n",
              "        vertical-align: top;\n",
              "    }\n",
              "\n",
              "    .dataframe thead th {\n",
              "        text-align: right;\n",
              "    }\n",
              "</style>\n",
              "<table border=\"1\" class=\"dataframe\">\n",
              "  <thead>\n",
              "    <tr style=\"text-align: right;\">\n",
              "      <th></th>\n",
              "      <th>ZCR</th>\n",
              "      <th>Energy</th>\n",
              "      <th>SpectralCentroid</th>\n",
              "      <th>SpectralSpread</th>\n",
              "      <th>SpectralFlux</th>\n",
              "      <th>MFCC1</th>\n",
              "      <th>MFCC2</th>\n",
              "      <th>MFCC3</th>\n",
              "      <th>MFCC4</th>\n",
              "      <th>MFCC5</th>\n",
              "      <th>...</th>\n",
              "      <th>Chroma5</th>\n",
              "      <th>Chroma6</th>\n",
              "      <th>Chroma7</th>\n",
              "      <th>Chroma8</th>\n",
              "      <th>Chroma9</th>\n",
              "      <th>Chroma10</th>\n",
              "      <th>Chroma11</th>\n",
              "      <th>Chroma12</th>\n",
              "      <th>labels</th>\n",
              "      <th>is_angry</th>\n",
              "    </tr>\n",
              "  </thead>\n",
              "  <tbody>\n",
              "    <tr>\n",
              "      <th>0</th>\n",
              "      <td>0.204540</td>\n",
              "      <td>0.018793</td>\n",
              "      <td>3157.236579</td>\n",
              "      <td>2216.501199</td>\n",
              "      <td>2.351883</td>\n",
              "      <td>-440.286591</td>\n",
              "      <td>52.299297</td>\n",
              "      <td>-6.665863</td>\n",
              "      <td>4.278304</td>\n",
              "      <td>-15.808314</td>\n",
              "      <td>...</td>\n",
              "      <td>0.346781</td>\n",
              "      <td>0.480067</td>\n",
              "      <td>0.331558</td>\n",
              "      <td>0.274953</td>\n",
              "      <td>0.354453</td>\n",
              "      <td>0.393035</td>\n",
              "      <td>0.393787</td>\n",
              "      <td>0.369280</td>\n",
              "      <td>angry</td>\n",
              "      <td>1</td>\n",
              "    </tr>\n",
              "    <tr>\n",
              "      <th>1</th>\n",
              "      <td>0.189815</td>\n",
              "      <td>0.012744</td>\n",
              "      <td>2744.419931</td>\n",
              "      <td>1984.251392</td>\n",
              "      <td>1.925617</td>\n",
              "      <td>-484.020691</td>\n",
              "      <td>52.436253</td>\n",
              "      <td>-8.613789</td>\n",
              "      <td>6.417563</td>\n",
              "      <td>-3.227553</td>\n",
              "      <td>...</td>\n",
              "      <td>0.207637</td>\n",
              "      <td>0.242176</td>\n",
              "      <td>0.227869</td>\n",
              "      <td>0.242703</td>\n",
              "      <td>0.299185</td>\n",
              "      <td>0.388764</td>\n",
              "      <td>0.382405</td>\n",
              "      <td>0.378763</td>\n",
              "      <td>fear</td>\n",
              "      <td>0</td>\n",
              "    </tr>\n",
              "    <tr>\n",
              "      <th>2</th>\n",
              "      <td>0.200589</td>\n",
              "      <td>0.061085</td>\n",
              "      <td>3130.434636</td>\n",
              "      <td>2301.913172</td>\n",
              "      <td>2.341648</td>\n",
              "      <td>-315.505432</td>\n",
              "      <td>27.667685</td>\n",
              "      <td>-38.753201</td>\n",
              "      <td>0.213876</td>\n",
              "      <td>-14.901350</td>\n",
              "      <td>...</td>\n",
              "      <td>0.168251</td>\n",
              "      <td>0.235008</td>\n",
              "      <td>0.320012</td>\n",
              "      <td>0.395711</td>\n",
              "      <td>0.443678</td>\n",
              "      <td>0.420142</td>\n",
              "      <td>0.433307</td>\n",
              "      <td>0.439407</td>\n",
              "      <td>fear</td>\n",
              "      <td>0</td>\n",
              "    </tr>\n",
              "    <tr>\n",
              "      <th>3</th>\n",
              "      <td>0.177156</td>\n",
              "      <td>0.040083</td>\n",
              "      <td>2874.637946</td>\n",
              "      <td>2220.399237</td>\n",
              "      <td>2.429970</td>\n",
              "      <td>-346.149780</td>\n",
              "      <td>52.521111</td>\n",
              "      <td>-14.139482</td>\n",
              "      <td>6.766320</td>\n",
              "      <td>-16.968788</td>\n",
              "      <td>...</td>\n",
              "      <td>0.330350</td>\n",
              "      <td>0.368875</td>\n",
              "      <td>0.278672</td>\n",
              "      <td>0.218055</td>\n",
              "      <td>0.257016</td>\n",
              "      <td>0.376277</td>\n",
              "      <td>0.342528</td>\n",
              "      <td>0.312693</td>\n",
              "      <td>angry</td>\n",
              "      <td>1</td>\n",
              "    </tr>\n",
              "    <tr>\n",
              "      <th>4</th>\n",
              "      <td>0.175203</td>\n",
              "      <td>0.006512</td>\n",
              "      <td>2897.465696</td>\n",
              "      <td>2159.335761</td>\n",
              "      <td>2.339541</td>\n",
              "      <td>-532.369385</td>\n",
              "      <td>70.741547</td>\n",
              "      <td>-1.425078</td>\n",
              "      <td>11.303340</td>\n",
              "      <td>-9.632647</td>\n",
              "      <td>...</td>\n",
              "      <td>0.322321</td>\n",
              "      <td>0.372758</td>\n",
              "      <td>0.350202</td>\n",
              "      <td>0.387294</td>\n",
              "      <td>0.438436</td>\n",
              "      <td>0.350818</td>\n",
              "      <td>0.331767</td>\n",
              "      <td>0.371133</td>\n",
              "      <td>disgust</td>\n",
              "      <td>0</td>\n",
              "    </tr>\n",
              "  </tbody>\n",
              "</table>\n",
              "<p>5 rows × 32 columns</p>\n",
              "</div>"
            ],
            "text/plain": [
              "        ZCR    Energy  SpectralCentroid  SpectralSpread  SpectralFlux  \\\n",
              "0  0.204540  0.018793       3157.236579     2216.501199      2.351883   \n",
              "1  0.189815  0.012744       2744.419931     1984.251392      1.925617   \n",
              "2  0.200589  0.061085       3130.434636     2301.913172      2.341648   \n",
              "3  0.177156  0.040083       2874.637946     2220.399237      2.429970   \n",
              "4  0.175203  0.006512       2897.465696     2159.335761      2.339541   \n",
              "\n",
              "        MFCC1      MFCC2      MFCC3      MFCC4      MFCC5  ...   Chroma5  \\\n",
              "0 -440.286591  52.299297  -6.665863   4.278304 -15.808314  ...  0.346781   \n",
              "1 -484.020691  52.436253  -8.613789   6.417563  -3.227553  ...  0.207637   \n",
              "2 -315.505432  27.667685 -38.753201   0.213876 -14.901350  ...  0.168251   \n",
              "3 -346.149780  52.521111 -14.139482   6.766320 -16.968788  ...  0.330350   \n",
              "4 -532.369385  70.741547  -1.425078  11.303340  -9.632647  ...  0.322321   \n",
              "\n",
              "    Chroma6   Chroma7   Chroma8   Chroma9  Chroma10  Chroma11  Chroma12  \\\n",
              "0  0.480067  0.331558  0.274953  0.354453  0.393035  0.393787  0.369280   \n",
              "1  0.242176  0.227869  0.242703  0.299185  0.388764  0.382405  0.378763   \n",
              "2  0.235008  0.320012  0.395711  0.443678  0.420142  0.433307  0.439407   \n",
              "3  0.368875  0.278672  0.218055  0.257016  0.376277  0.342528  0.312693   \n",
              "4  0.372758  0.350202  0.387294  0.438436  0.350818  0.331767  0.371133   \n",
              "\n",
              "    labels  is_angry  \n",
              "0    angry         1  \n",
              "1     fear         0  \n",
              "2     fear         0  \n",
              "3    angry         1  \n",
              "4  disgust         0  \n",
              "\n",
              "[5 rows x 32 columns]"
            ]
          },
          "execution_count": 11,
          "metadata": {},
          "output_type": "execute_result"
        }
      ],
      "source": [
        "# Check the modified dataframe\n",
        "df_features_no_augm.head()"
      ]
    },
    {
      "cell_type": "code",
      "execution_count": 12,
      "metadata": {},
      "outputs": [
        {
          "data": {
            "text/html": [
              "<div>\n",
              "<style scoped>\n",
              "    .dataframe tbody tr th:only-of-type {\n",
              "        vertical-align: middle;\n",
              "    }\n",
              "\n",
              "    .dataframe tbody tr th {\n",
              "        vertical-align: top;\n",
              "    }\n",
              "\n",
              "    .dataframe thead th {\n",
              "        text-align: right;\n",
              "    }\n",
              "</style>\n",
              "<table border=\"1\" class=\"dataframe\">\n",
              "  <thead>\n",
              "    <tr style=\"text-align: right;\">\n",
              "      <th></th>\n",
              "      <th>ZCR</th>\n",
              "      <th>Energy</th>\n",
              "      <th>SpectralCentroid</th>\n",
              "      <th>SpectralSpread</th>\n",
              "      <th>SpectralFlux</th>\n",
              "      <th>MFCC1</th>\n",
              "      <th>MFCC2</th>\n",
              "      <th>MFCC3</th>\n",
              "      <th>MFCC4</th>\n",
              "      <th>MFCC5</th>\n",
              "      <th>...</th>\n",
              "      <th>Chroma5</th>\n",
              "      <th>Chroma6</th>\n",
              "      <th>Chroma7</th>\n",
              "      <th>Chroma8</th>\n",
              "      <th>Chroma9</th>\n",
              "      <th>Chroma10</th>\n",
              "      <th>Chroma11</th>\n",
              "      <th>Chroma12</th>\n",
              "      <th>labels</th>\n",
              "      <th>is_angry</th>\n",
              "    </tr>\n",
              "  </thead>\n",
              "  <tbody>\n",
              "    <tr>\n",
              "      <th>0</th>\n",
              "      <td>0.204540</td>\n",
              "      <td>0.018793</td>\n",
              "      <td>3157.236579</td>\n",
              "      <td>2216.501199</td>\n",
              "      <td>2.351883</td>\n",
              "      <td>-440.286591</td>\n",
              "      <td>52.299297</td>\n",
              "      <td>-6.665863</td>\n",
              "      <td>4.278304</td>\n",
              "      <td>-15.808314</td>\n",
              "      <td>...</td>\n",
              "      <td>0.346781</td>\n",
              "      <td>0.480067</td>\n",
              "      <td>0.331558</td>\n",
              "      <td>0.274953</td>\n",
              "      <td>0.354453</td>\n",
              "      <td>0.393035</td>\n",
              "      <td>0.393787</td>\n",
              "      <td>0.369280</td>\n",
              "      <td>angry</td>\n",
              "      <td>1</td>\n",
              "    </tr>\n",
              "    <tr>\n",
              "      <th>1</th>\n",
              "      <td>0.355532</td>\n",
              "      <td>0.022118</td>\n",
              "      <td>4779.178496</td>\n",
              "      <td>3151.482991</td>\n",
              "      <td>1.258613</td>\n",
              "      <td>-232.722713</td>\n",
              "      <td>13.950570</td>\n",
              "      <td>3.320304</td>\n",
              "      <td>-0.422506</td>\n",
              "      <td>-4.984953</td>\n",
              "      <td>...</td>\n",
              "      <td>0.494773</td>\n",
              "      <td>0.545488</td>\n",
              "      <td>0.415705</td>\n",
              "      <td>0.412091</td>\n",
              "      <td>0.510564</td>\n",
              "      <td>0.548447</td>\n",
              "      <td>0.561863</td>\n",
              "      <td>0.527673</td>\n",
              "      <td>angry</td>\n",
              "      <td>1</td>\n",
              "    </tr>\n",
              "    <tr>\n",
              "      <th>2</th>\n",
              "      <td>0.230451</td>\n",
              "      <td>0.008324</td>\n",
              "      <td>3406.733059</td>\n",
              "      <td>2340.013524</td>\n",
              "      <td>1.496660</td>\n",
              "      <td>-491.448151</td>\n",
              "      <td>47.446922</td>\n",
              "      <td>-12.718010</td>\n",
              "      <td>-4.566107</td>\n",
              "      <td>-22.940006</td>\n",
              "      <td>...</td>\n",
              "      <td>0.225962</td>\n",
              "      <td>0.267457</td>\n",
              "      <td>0.327613</td>\n",
              "      <td>0.502695</td>\n",
              "      <td>0.313019</td>\n",
              "      <td>0.257691</td>\n",
              "      <td>0.319452</td>\n",
              "      <td>0.360415</td>\n",
              "      <td>angry</td>\n",
              "      <td>1</td>\n",
              "    </tr>\n",
              "    <tr>\n",
              "      <th>3</th>\n",
              "      <td>0.189815</td>\n",
              "      <td>0.012744</td>\n",
              "      <td>2744.419931</td>\n",
              "      <td>1984.251392</td>\n",
              "      <td>1.925617</td>\n",
              "      <td>-484.020691</td>\n",
              "      <td>52.436253</td>\n",
              "      <td>-8.613789</td>\n",
              "      <td>6.417563</td>\n",
              "      <td>-3.227553</td>\n",
              "      <td>...</td>\n",
              "      <td>0.207637</td>\n",
              "      <td>0.242176</td>\n",
              "      <td>0.227869</td>\n",
              "      <td>0.242703</td>\n",
              "      <td>0.299185</td>\n",
              "      <td>0.388764</td>\n",
              "      <td>0.382405</td>\n",
              "      <td>0.378763</td>\n",
              "      <td>fear</td>\n",
              "      <td>0</td>\n",
              "    </tr>\n",
              "    <tr>\n",
              "      <th>4</th>\n",
              "      <td>0.326448</td>\n",
              "      <td>0.014248</td>\n",
              "      <td>4586.606062</td>\n",
              "      <td>3168.801230</td>\n",
              "      <td>1.250617</td>\n",
              "      <td>-311.395009</td>\n",
              "      <td>17.698572</td>\n",
              "      <td>8.428658</td>\n",
              "      <td>0.337073</td>\n",
              "      <td>-0.577668</td>\n",
              "      <td>...</td>\n",
              "      <td>0.481812</td>\n",
              "      <td>0.458058</td>\n",
              "      <td>0.429658</td>\n",
              "      <td>0.432802</td>\n",
              "      <td>0.442983</td>\n",
              "      <td>0.469787</td>\n",
              "      <td>0.516060</td>\n",
              "      <td>0.554791</td>\n",
              "      <td>fear</td>\n",
              "      <td>0</td>\n",
              "    </tr>\n",
              "  </tbody>\n",
              "</table>\n",
              "<p>5 rows × 32 columns</p>\n",
              "</div>"
            ],
            "text/plain": [
              "        ZCR    Energy  SpectralCentroid  SpectralSpread  SpectralFlux  \\\n",
              "0  0.204540  0.018793       3157.236579     2216.501199      2.351883   \n",
              "1  0.355532  0.022118       4779.178496     3151.482991      1.258613   \n",
              "2  0.230451  0.008324       3406.733059     2340.013524      1.496660   \n",
              "3  0.189815  0.012744       2744.419931     1984.251392      1.925617   \n",
              "4  0.326448  0.014248       4586.606062     3168.801230      1.250617   \n",
              "\n",
              "        MFCC1      MFCC2      MFCC3     MFCC4      MFCC5  ...   Chroma5  \\\n",
              "0 -440.286591  52.299297  -6.665863  4.278304 -15.808314  ...  0.346781   \n",
              "1 -232.722713  13.950570   3.320304 -0.422506  -4.984953  ...  0.494773   \n",
              "2 -491.448151  47.446922 -12.718010 -4.566107 -22.940006  ...  0.225962   \n",
              "3 -484.020691  52.436253  -8.613789  6.417563  -3.227553  ...  0.207637   \n",
              "4 -311.395009  17.698572   8.428658  0.337073  -0.577668  ...  0.481812   \n",
              "\n",
              "    Chroma6   Chroma7   Chroma8   Chroma9  Chroma10  Chroma11  Chroma12  \\\n",
              "0  0.480067  0.331558  0.274953  0.354453  0.393035  0.393787  0.369280   \n",
              "1  0.545488  0.415705  0.412091  0.510564  0.548447  0.561863  0.527673   \n",
              "2  0.267457  0.327613  0.502695  0.313019  0.257691  0.319452  0.360415   \n",
              "3  0.242176  0.227869  0.242703  0.299185  0.388764  0.382405  0.378763   \n",
              "4  0.458058  0.429658  0.432802  0.442983  0.469787  0.516060  0.554791   \n",
              "\n",
              "   labels  is_angry  \n",
              "0   angry         1  \n",
              "1   angry         1  \n",
              "2   angry         1  \n",
              "3    fear         0  \n",
              "4    fear         0  \n",
              "\n",
              "[5 rows x 32 columns]"
            ]
          },
          "execution_count": 12,
          "metadata": {},
          "output_type": "execute_result"
        }
      ],
      "source": [
        "df_features_with_augm.head()"
      ]
    },
    {
      "attachments": {},
      "cell_type": "markdown",
      "metadata": {},
      "source": [
        "### Get X and Y values for each dataset"
      ]
    },
    {
      "attachments": {},
      "cell_type": "markdown",
      "metadata": {},
      "source": [
        "#### Without data augmentation"
      ]
    },
    {
      "cell_type": "code",
      "execution_count": 13,
      "metadata": {},
      "outputs": [],
      "source": [
        "X_no_augm = df_features_no_augm.drop(['labels', 'is_angry'], axis=1)\n",
        "Y_no_augm = df_features_no_augm['is_angry']"
      ]
    },
    {
      "cell_type": "code",
      "execution_count": 31,
      "metadata": {},
      "outputs": [
        {
          "data": {
            "text/plain": [
              "(11682, 30)"
            ]
          },
          "execution_count": 31,
          "metadata": {},
          "output_type": "execute_result"
        }
      ],
      "source": [
        "X_no_augm.shape"
      ]
    },
    {
      "cell_type": "code",
      "execution_count": 14,
      "metadata": {},
      "outputs": [
        {
          "data": {
            "text/plain": [
              "(array([1, 0]), (11682,))"
            ]
          },
          "execution_count": 14,
          "metadata": {},
          "output_type": "execute_result"
        }
      ],
      "source": [
        "Y_no_augm.unique(), Y_no_augm.shape"
      ]
    },
    {
      "cell_type": "code",
      "execution_count": 15,
      "metadata": {},
      "outputs": [],
      "source": [
        "Y_no_augm = np.array(Y_no_augm)\n",
        "X_no_augm = np.array(X_no_augm)"
      ]
    },
    {
      "cell_type": "code",
      "execution_count": 16,
      "metadata": {},
      "outputs": [
        {
          "data": {
            "text/plain": [
              "((11682, 30), (11682,))"
            ]
          },
          "execution_count": 16,
          "metadata": {},
          "output_type": "execute_result"
        }
      ],
      "source": [
        "X_no_augm.shape, Y_no_augm.shape"
      ]
    },
    {
      "cell_type": "code",
      "execution_count": 17,
      "metadata": {},
      "outputs": [
        {
          "data": {
            "text/plain": [
              "(-1131.3707275390625, 4990.732365133476)"
            ]
          },
          "execution_count": 17,
          "metadata": {},
          "output_type": "execute_result"
        }
      ],
      "source": [
        "np.min(X_no_augm), np.max(X_no_augm)"
      ]
    },
    {
      "attachments": {},
      "cell_type": "markdown",
      "metadata": {},
      "source": [
        "#### With data augmentation"
      ]
    },
    {
      "cell_type": "code",
      "execution_count": 18,
      "metadata": {},
      "outputs": [],
      "source": [
        "X_with_augm = df_features_with_augm.drop(['labels', 'is_angry'], axis=1)\n",
        "Y_with_augm = df_features_with_augm['is_angry']"
      ]
    },
    {
      "cell_type": "code",
      "execution_count": 19,
      "metadata": {},
      "outputs": [
        {
          "data": {
            "text/plain": [
              "(array([1, 0]), (35046,))"
            ]
          },
          "execution_count": 19,
          "metadata": {},
          "output_type": "execute_result"
        }
      ],
      "source": [
        "Y_with_augm.unique(), Y_with_augm.shape"
      ]
    },
    {
      "cell_type": "code",
      "execution_count": 20,
      "metadata": {},
      "outputs": [],
      "source": [
        "Y_with_augm = np.array(Y_with_augm)\n",
        "X_with_augm = np.array(X_with_augm)"
      ]
    },
    {
      "cell_type": "code",
      "execution_count": 21,
      "metadata": {},
      "outputs": [
        {
          "data": {
            "text/plain": [
              "((35046, 30), (35046,))"
            ]
          },
          "execution_count": 21,
          "metadata": {},
          "output_type": "execute_result"
        }
      ],
      "source": [
        "X_with_augm.shape, Y_with_augm.shape"
      ]
    },
    {
      "cell_type": "code",
      "execution_count": 22,
      "metadata": {},
      "outputs": [
        {
          "data": {
            "text/plain": [
              "(-1131.3709716796875, 5135.884469052664)"
            ]
          },
          "execution_count": 22,
          "metadata": {},
          "output_type": "execute_result"
        }
      ],
      "source": [
        "np.min(X_with_augm), np.max(X_with_augm)"
      ]
    },
    {
      "attachments": {},
      "cell_type": "markdown",
      "metadata": {},
      "source": [
        "#### Data Scaling "
      ]
    },
    {
      "cell_type": "code",
      "execution_count": 24,
      "metadata": {},
      "outputs": [],
      "source": [
        "# Initialize MinMaxScaler\n",
        "scaler = MinMaxScaler()"
      ]
    },
    {
      "cell_type": "code",
      "execution_count": 38,
      "metadata": {},
      "outputs": [],
      "source": [
        "# Fit and transform the data\n",
        "X_no_augm_scaled = scaler.fit_transform(X_no_augm)\n",
        "X_with_augm_scaled = scaler.fit_transform(X_with_augm)"
      ]
    },
    {
      "cell_type": "code",
      "execution_count": 39,
      "metadata": {},
      "outputs": [
        {
          "data": {
            "text/plain": [
              "(0.0, 1.0000000000000002)"
            ]
          },
          "execution_count": 39,
          "metadata": {},
          "output_type": "execute_result"
        }
      ],
      "source": [
        "np.min(X_no_augm_scaled), np.max(X_no_augm_scaled)"
      ]
    },
    {
      "cell_type": "code",
      "execution_count": 40,
      "metadata": {},
      "outputs": [
        {
          "data": {
            "text/plain": [
              "(0.0, 1.0)"
            ]
          },
          "execution_count": 40,
          "metadata": {},
          "output_type": "execute_result"
        }
      ],
      "source": [
        "np.min(X_with_augm_scaled), np.max(X_with_augm_scaled)"
      ]
    },
    {
      "attachments": {},
      "cell_type": "markdown",
      "metadata": {},
      "source": [
        "#### Data Split"
      ]
    },
    {
      "attachments": {},
      "cell_type": "markdown",
      "metadata": {},
      "source": [
        "#### Data without augmentation"
      ]
    },
    {
      "cell_type": "code",
      "execution_count": 43,
      "metadata": {},
      "outputs": [
        {
          "data": {
            "text/plain": [
              "((9345, 30), (9345,), (2337, 30), (2337,))"
            ]
          },
          "execution_count": 43,
          "metadata": {},
          "output_type": "execute_result"
        }
      ],
      "source": [
        "# splitting data\n",
        "X_train_no_augm, X_test_no_augm, y_train_no_augm, y_test_no_augm = train_test_split(X_no_augm_scaled, Y_no_augm, random_state=42, test_size=0.2)\n",
        "X_train_no_augm.shape, y_train_no_augm.shape, X_test_no_augm.shape, y_test_no_augm.shape"
      ]
    },
    {
      "cell_type": "code",
      "execution_count": 44,
      "metadata": {},
      "outputs": [
        {
          "data": {
            "text/plain": [
              "array([0, 0, 0, ..., 0, 1, 0])"
            ]
          },
          "execution_count": 44,
          "metadata": {},
          "output_type": "execute_result"
        }
      ],
      "source": [
        "y_test_no_augm"
      ]
    },
    {
      "attachments": {},
      "cell_type": "markdown",
      "metadata": {},
      "source": [
        "#### Data split with augmentation"
      ]
    },
    {
      "cell_type": "code",
      "execution_count": 47,
      "metadata": {},
      "outputs": [
        {
          "data": {
            "text/plain": [
              "((9345, 30), (28036,), (7010, 30), (7010,))"
            ]
          },
          "execution_count": 47,
          "metadata": {},
          "output_type": "execute_result"
        }
      ],
      "source": [
        "# splitting data\n",
        "X_train_with_augm, X_test_with_augm, y_train_with_augm, y_test_with_augm = train_test_split(X_with_augm_scaled, Y_with_augm, random_state=42, test_size=0.2)\n",
        "X_train_no_augm.shape, y_train_with_augm.shape, X_test_with_augm.shape, y_test_with_augm.shape"
      ]
    },
    {
      "cell_type": "code",
      "execution_count": 48,
      "metadata": {},
      "outputs": [
        {
          "data": {
            "text/plain": [
              "array([0, 0, 0, ..., 0, 0, 0])"
            ]
          },
          "execution_count": 48,
          "metadata": {},
          "output_type": "execute_result"
        }
      ],
      "source": [
        "y_test_with_augm"
      ]
    },
    {
      "attachments": {},
      "cell_type": "markdown",
      "metadata": {},
      "source": [
        "#### Model Training"
      ]
    },
    {
      "cell_type": "code",
      "execution_count": 49,
      "metadata": {},
      "outputs": [],
      "source": [
        "def cnn_train_model(num_classes, input_features):\n",
        "    model = Sequential()\n",
        "    model.add(Dense(128, activation='relu', input_shape=(input_features,)))\n",
        "    model.add(BatchNormalization())\n",
        "    model.add(Dropout(0.5))\n",
        "    model.add(Dense(64, activation='relu'))\n",
        "    model.add(Dense(num_classes, activation='sigmoid'))\n",
        "    \n",
        "    return model\n"
      ]
    },
    {
      "cell_type": "code",
      "execution_count": 50,
      "metadata": {},
      "outputs": [],
      "source": [
        "num_classes = 1"
      ]
    },
    {
      "cell_type": "code",
      "execution_count": 51,
      "metadata": {},
      "outputs": [],
      "source": [
        "# earlystopping and callbacks\n",
        "early_stopping = EarlyStopping(monitor='val_loss', patience=20, restore_best_weights=True, verbose=1)\n",
        "model_checkpoint = ModelCheckpoint('best_model.h5', monitor='val_loss', save_best_only=True, verbose=0)"
      ]
    },
    {
      "attachments": {},
      "cell_type": "markdown",
      "metadata": {},
      "source": [
        "#### Training on data without augmentation"
      ]
    },
    {
      "cell_type": "code",
      "execution_count": 52,
      "metadata": {},
      "outputs": [],
      "source": [
        "input_features_no_augm = X_train_no_augm.shape[1]\n",
        "\n",
        "# initializing the cnn model\n",
        "cnn__binary_model_no_augm = cnn_train_model(num_classes, input_features_no_augm)"
      ]
    },
    {
      "cell_type": "code",
      "execution_count": 54,
      "metadata": {},
      "outputs": [],
      "source": [
        "num_epochs_no_augm = 30\n",
        "learning_rate_no_augm = 0.001\n",
        "batch_size_no_augm = 50\n",
        "optimizer_no_augm = keras.optimizers.legacy.Adam(learning_rate=learning_rate_no_augm)"
      ]
    },
    {
      "cell_type": "code",
      "execution_count": 55,
      "metadata": {},
      "outputs": [],
      "source": [
        "# Compile the model\n",
        "cnn__binary_model_no_augm.compile(optimizer=optimizer_no_augm, loss='binary_crossentropy', metrics=['accuracy'])\n"
      ]
    },
    {
      "cell_type": "code",
      "execution_count": 56,
      "metadata": {},
      "outputs": [
        {
          "name": "stdout",
          "output_type": "stream",
          "text": [
            "Model: \"sequential\"\n",
            "_________________________________________________________________\n",
            " Layer (type)                Output Shape              Param #   \n",
            "=================================================================\n",
            " dense (Dense)               (None, 128)               3968      \n",
            "                                                                 \n",
            " batch_normalization (Batch  (None, 128)               512       \n",
            " Normalization)                                                  \n",
            "                                                                 \n",
            " dropout (Dropout)           (None, 128)               0         \n",
            "                                                                 \n",
            " dense_1 (Dense)             (None, 64)                8256      \n",
            "                                                                 \n",
            " dense_2 (Dense)             (None, 1)                 65        \n",
            "                                                                 \n",
            "=================================================================\n",
            "Total params: 12801 (50.00 KB)\n",
            "Trainable params: 12545 (49.00 KB)\n",
            "Non-trainable params: 256 (1.00 KB)\n",
            "_________________________________________________________________\n"
          ]
        }
      ],
      "source": [
        "cnn__binary_model_no_augm.summary()"
      ]
    },
    {
      "cell_type": "code",
      "execution_count": 57,
      "metadata": {},
      "outputs": [
        {
          "name": "stdout",
          "output_type": "stream",
          "text": [
            "Epoch 1/30\n",
            "150/150 - 1s - loss: 0.4489 - accuracy: 0.7812 - val_loss: 0.4171 - val_accuracy: 0.8379 - 563ms/epoch - 4ms/step\n",
            "Epoch 2/30\n",
            "150/150 - 0s - loss: 0.3086 - accuracy: 0.8680 - val_loss: 0.3453 - val_accuracy: 0.8497 - 123ms/epoch - 823us/step\n",
            "Epoch 3/30\n"
          ]
        },
        {
          "name": "stderr",
          "output_type": "stream",
          "text": [
            "/Users/siakesophie/Local_Docs/ING_3/S9/Engineering_project/project/SERAPP/.env-serapp/lib/python3.10/site-packages/keras/src/engine/training.py:3103: UserWarning: You are saving your model as an HDF5 file via `model.save()`. This file format is considered legacy. We recommend using instead the native Keras format, e.g. `model.save('my_model.keras')`.\n",
            "  saving_api.save_model(\n"
          ]
        },
        {
          "name": "stdout",
          "output_type": "stream",
          "text": [
            "150/150 - 0s - loss: 0.2942 - accuracy: 0.8761 - val_loss: 0.3120 - val_accuracy: 0.8748 - 121ms/epoch - 806us/step\n",
            "Epoch 4/30\n",
            "150/150 - 0s - loss: 0.2924 - accuracy: 0.8743 - val_loss: 0.2902 - val_accuracy: 0.8769 - 130ms/epoch - 864us/step\n",
            "Epoch 5/30\n",
            "150/150 - 0s - loss: 0.2866 - accuracy: 0.8747 - val_loss: 0.2772 - val_accuracy: 0.8925 - 127ms/epoch - 848us/step\n",
            "Epoch 6/30\n",
            "150/150 - 0s - loss: 0.2778 - accuracy: 0.8835 - val_loss: 0.2818 - val_accuracy: 0.8844 - 117ms/epoch - 781us/step\n",
            "Epoch 7/30\n",
            "150/150 - 0s - loss: 0.2703 - accuracy: 0.8839 - val_loss: 0.2699 - val_accuracy: 0.8935 - 120ms/epoch - 797us/step\n",
            "Epoch 8/30\n",
            "150/150 - 0s - loss: 0.2666 - accuracy: 0.8886 - val_loss: 0.2811 - val_accuracy: 0.8973 - 114ms/epoch - 763us/step\n",
            "Epoch 9/30\n",
            "150/150 - 0s - loss: 0.2659 - accuracy: 0.8894 - val_loss: 0.2662 - val_accuracy: 0.8951 - 145ms/epoch - 968us/step\n",
            "Epoch 10/30\n",
            "150/150 - 0s - loss: 0.2617 - accuracy: 0.8927 - val_loss: 0.2640 - val_accuracy: 0.8946 - 119ms/epoch - 790us/step\n",
            "Epoch 11/30\n",
            "150/150 - 0s - loss: 0.2636 - accuracy: 0.8900 - val_loss: 0.2588 - val_accuracy: 0.8999 - 122ms/epoch - 812us/step\n",
            "Epoch 12/30\n",
            "150/150 - 0s - loss: 0.2561 - accuracy: 0.8896 - val_loss: 0.2652 - val_accuracy: 0.8925 - 118ms/epoch - 790us/step\n",
            "Epoch 13/30\n",
            "150/150 - 0s - loss: 0.2549 - accuracy: 0.8941 - val_loss: 0.2672 - val_accuracy: 0.8850 - 115ms/epoch - 767us/step\n",
            "Epoch 14/30\n",
            "150/150 - 0s - loss: 0.2511 - accuracy: 0.8983 - val_loss: 0.2916 - val_accuracy: 0.8689 - 115ms/epoch - 768us/step\n",
            "Epoch 15/30\n",
            "150/150 - 0s - loss: 0.2501 - accuracy: 0.8985 - val_loss: 0.2568 - val_accuracy: 0.8957 - 118ms/epoch - 787us/step\n",
            "Epoch 16/30\n",
            "150/150 - 0s - loss: 0.2468 - accuracy: 0.8957 - val_loss: 0.2649 - val_accuracy: 0.8850 - 113ms/epoch - 755us/step\n",
            "Epoch 17/30\n",
            "150/150 - 0s - loss: 0.2447 - accuracy: 0.8981 - val_loss: 0.2625 - val_accuracy: 0.8978 - 111ms/epoch - 738us/step\n",
            "Epoch 18/30\n",
            "150/150 - 0s - loss: 0.2451 - accuracy: 0.8985 - val_loss: 0.2609 - val_accuracy: 0.8919 - 111ms/epoch - 740us/step\n",
            "Epoch 19/30\n",
            "150/150 - 0s - loss: 0.2458 - accuracy: 0.8978 - val_loss: 0.2527 - val_accuracy: 0.8994 - 119ms/epoch - 793us/step\n",
            "Epoch 20/30\n",
            "150/150 - 0s - loss: 0.2465 - accuracy: 0.8981 - val_loss: 0.2493 - val_accuracy: 0.8989 - 115ms/epoch - 767us/step\n",
            "Epoch 21/30\n",
            "150/150 - 0s - loss: 0.2421 - accuracy: 0.8997 - val_loss: 0.2554 - val_accuracy: 0.9021 - 111ms/epoch - 738us/step\n",
            "Epoch 22/30\n",
            "150/150 - 0s - loss: 0.2417 - accuracy: 0.9001 - val_loss: 0.2663 - val_accuracy: 0.8919 - 108ms/epoch - 720us/step\n",
            "Epoch 23/30\n",
            "150/150 - 0s - loss: 0.2392 - accuracy: 0.9002 - val_loss: 0.2497 - val_accuracy: 0.9053 - 113ms/epoch - 751us/step\n",
            "Epoch 24/30\n",
            "150/150 - 0s - loss: 0.2355 - accuracy: 0.8999 - val_loss: 0.2697 - val_accuracy: 0.9016 - 111ms/epoch - 739us/step\n",
            "Epoch 25/30\n",
            "150/150 - 0s - loss: 0.2432 - accuracy: 0.8993 - val_loss: 0.2535 - val_accuracy: 0.8994 - 112ms/epoch - 744us/step\n",
            "Epoch 26/30\n",
            "150/150 - 0s - loss: 0.2385 - accuracy: 0.9010 - val_loss: 0.2462 - val_accuracy: 0.8973 - 116ms/epoch - 770us/step\n",
            "Epoch 27/30\n",
            "150/150 - 0s - loss: 0.2331 - accuracy: 0.9014 - val_loss: 0.2468 - val_accuracy: 0.8994 - 112ms/epoch - 746us/step\n",
            "Epoch 28/30\n",
            "150/150 - 0s - loss: 0.2372 - accuracy: 0.9013 - val_loss: 0.2570 - val_accuracy: 0.9053 - 114ms/epoch - 759us/step\n",
            "Epoch 29/30\n",
            "150/150 - 0s - loss: 0.2383 - accuracy: 0.9037 - val_loss: 0.2536 - val_accuracy: 0.8973 - 123ms/epoch - 820us/step\n",
            "Epoch 30/30\n",
            "150/150 - 0s - loss: 0.2359 - accuracy: 0.9020 - val_loss: 0.2496 - val_accuracy: 0.9096 - 110ms/epoch - 736us/step\n"
          ]
        }
      ],
      "source": [
        "# Train the model with callbacks\n",
        "history_no_augm = cnn__binary_model_no_augm.fit(X_train_no_augm, y_train_no_augm, epochs=num_epochs_no_augm, batch_size=batch_size_no_augm,\n",
        "                                  validation_split=0.2, verbose=2, callbacks=[early_stopping, model_checkpoint])\n"
      ]
    },
    {
      "attachments": {},
      "cell_type": "markdown",
      "metadata": {},
      "source": [
        "### Saving the model without data augmentation"
      ]
    },
    {
      "cell_type": "code",
      "execution_count": 58,
      "metadata": {},
      "outputs": [],
      "source": [
        "# Save the model\n",
        "cnn__binary_model_no_augm.save('models/cnn_model_no_augm.h5')\n",
        "\n",
        "# Save the training history\n",
        "with open('models/training_history_no_augm.pkl', 'wb') as f:\n",
        "    pickle.dump(history_no_augm.history, f)"
      ]
    },
    {
      "attachments": {},
      "cell_type": "markdown",
      "metadata": {},
      "source": [
        "#### Training on data with augmentation"
      ]
    },
    {
      "cell_type": "code",
      "execution_count": 59,
      "metadata": {},
      "outputs": [],
      "source": [
        "input_features_with_augm = X_train_with_augm.shape[1]\n",
        "\n",
        "# initializing the cnn model\n",
        "cnn__binary_model_with_augm = cnn_train_model(num_classes, input_features_with_augm)"
      ]
    },
    {
      "cell_type": "code",
      "execution_count": 60,
      "metadata": {},
      "outputs": [],
      "source": [
        "num_epochs_with_augm = 30\n",
        "learning_rate_with_augm = 0.001\n",
        "batch_size_with_augm = 50\n",
        "optimizer_with_augm = keras.optimizers.legacy.Adam(learning_rate=learning_rate_with_augm)"
      ]
    },
    {
      "cell_type": "code",
      "execution_count": 61,
      "metadata": {},
      "outputs": [],
      "source": [
        "# Compile the model\n",
        "cnn__binary_model_with_augm.compile(optimizer=optimizer_with_augm, loss='binary_crossentropy', metrics=['accuracy'])\n"
      ]
    },
    {
      "cell_type": "code",
      "execution_count": 62,
      "metadata": {},
      "outputs": [
        {
          "name": "stdout",
          "output_type": "stream",
          "text": [
            "Model: \"sequential_1\"\n",
            "_________________________________________________________________\n",
            " Layer (type)                Output Shape              Param #   \n",
            "=================================================================\n",
            " dense_3 (Dense)             (None, 128)               3968      \n",
            "                                                                 \n",
            " batch_normalization_1 (Bat  (None, 128)               512       \n",
            " chNormalization)                                                \n",
            "                                                                 \n",
            " dropout_1 (Dropout)         (None, 128)               0         \n",
            "                                                                 \n",
            " dense_4 (Dense)             (None, 64)                8256      \n",
            "                                                                 \n",
            " dense_5 (Dense)             (None, 1)                 65        \n",
            "                                                                 \n",
            "=================================================================\n",
            "Total params: 12801 (50.00 KB)\n",
            "Trainable params: 12545 (49.00 KB)\n",
            "Non-trainable params: 256 (1.00 KB)\n",
            "_________________________________________________________________\n"
          ]
        }
      ],
      "source": [
        "cnn__binary_model_with_augm.summary()"
      ]
    },
    {
      "cell_type": "code",
      "execution_count": 64,
      "metadata": {},
      "outputs": [
        {
          "name": "stdout",
          "output_type": "stream",
          "text": [
            "Epoch 1/30\n",
            "449/449 - 1s - loss: 0.3385 - accuracy: 0.8542 - val_loss: 0.3152 - val_accuracy: 0.8718 - 611ms/epoch - 1ms/step\n",
            "Epoch 2/30\n",
            "449/449 - 0s - loss: 0.3034 - accuracy: 0.8703 - val_loss: 0.3203 - val_accuracy: 0.8689 - 323ms/epoch - 719us/step\n",
            "Epoch 3/30\n",
            "449/449 - 0s - loss: 0.2944 - accuracy: 0.8743 - val_loss: 0.2811 - val_accuracy: 0.8880 - 302ms/epoch - 672us/step\n",
            "Epoch 4/30\n",
            "449/449 - 0s - loss: 0.2885 - accuracy: 0.8791 - val_loss: 0.2736 - val_accuracy: 0.8914 - 299ms/epoch - 667us/step\n",
            "Epoch 5/30\n",
            "449/449 - 0s - loss: 0.2825 - accuracy: 0.8832 - val_loss: 0.2990 - val_accuracy: 0.8837 - 300ms/epoch - 668us/step\n",
            "Epoch 6/30\n",
            "449/449 - 0s - loss: 0.2821 - accuracy: 0.8819 - val_loss: 0.2928 - val_accuracy: 0.8793 - 314ms/epoch - 700us/step\n",
            "Epoch 7/30\n",
            "449/449 - 0s - loss: 0.2770 - accuracy: 0.8846 - val_loss: 0.2836 - val_accuracy: 0.8837 - 346ms/epoch - 770us/step\n",
            "Epoch 8/30\n",
            "449/449 - 0s - loss: 0.2748 - accuracy: 0.8856 - val_loss: 0.2692 - val_accuracy: 0.8925 - 313ms/epoch - 696us/step\n",
            "Epoch 9/30\n",
            "449/449 - 0s - loss: 0.2740 - accuracy: 0.8848 - val_loss: 0.2767 - val_accuracy: 0.8845 - 309ms/epoch - 689us/step\n",
            "Epoch 10/30\n",
            "449/449 - 0s - loss: 0.2725 - accuracy: 0.8868 - val_loss: 0.2580 - val_accuracy: 0.8941 - 303ms/epoch - 674us/step\n",
            "Epoch 11/30\n",
            "449/449 - 0s - loss: 0.2728 - accuracy: 0.8863 - val_loss: 0.2587 - val_accuracy: 0.8971 - 305ms/epoch - 679us/step\n",
            "Epoch 12/30\n",
            "449/449 - 0s - loss: 0.2704 - accuracy: 0.8884 - val_loss: 0.2574 - val_accuracy: 0.8973 - 319ms/epoch - 710us/step\n",
            "Epoch 13/30\n",
            "449/449 - 0s - loss: 0.2660 - accuracy: 0.8928 - val_loss: 0.2524 - val_accuracy: 0.8976 - 305ms/epoch - 680us/step\n",
            "Epoch 14/30\n",
            "449/449 - 0s - loss: 0.2670 - accuracy: 0.8896 - val_loss: 0.2683 - val_accuracy: 0.8811 - 309ms/epoch - 688us/step\n",
            "Epoch 15/30\n",
            "449/449 - 0s - loss: 0.2656 - accuracy: 0.8896 - val_loss: 0.2621 - val_accuracy: 0.8927 - 302ms/epoch - 672us/step\n",
            "Epoch 16/30\n",
            "449/449 - 0s - loss: 0.2675 - accuracy: 0.8904 - val_loss: 0.2695 - val_accuracy: 0.8959 - 341ms/epoch - 760us/step\n",
            "Epoch 17/30\n",
            "449/449 - 0s - loss: 0.2657 - accuracy: 0.8909 - val_loss: 0.2847 - val_accuracy: 0.8832 - 300ms/epoch - 669us/step\n",
            "Epoch 18/30\n",
            "449/449 - 0s - loss: 0.2628 - accuracy: 0.8904 - val_loss: 0.2616 - val_accuracy: 0.8939 - 474ms/epoch - 1ms/step\n",
            "Epoch 19/30\n",
            "449/449 - 0s - loss: 0.2649 - accuracy: 0.8926 - val_loss: 0.2535 - val_accuracy: 0.8989 - 309ms/epoch - 688us/step\n",
            "Epoch 20/30\n",
            "449/449 - 0s - loss: 0.2647 - accuracy: 0.8915 - val_loss: 0.2510 - val_accuracy: 0.8998 - 309ms/epoch - 689us/step\n",
            "Epoch 21/30\n",
            "449/449 - 0s - loss: 0.2615 - accuracy: 0.8929 - val_loss: 0.2534 - val_accuracy: 0.8973 - 296ms/epoch - 660us/step\n",
            "Epoch 22/30\n",
            "449/449 - 0s - loss: 0.2579 - accuracy: 0.8947 - val_loss: 0.2757 - val_accuracy: 0.8896 - 301ms/epoch - 669us/step\n",
            "Epoch 23/30\n",
            "449/449 - 0s - loss: 0.2617 - accuracy: 0.8918 - val_loss: 0.2502 - val_accuracy: 0.9005 - 296ms/epoch - 659us/step\n",
            "Epoch 24/30\n",
            "449/449 - 0s - loss: 0.2578 - accuracy: 0.8946 - val_loss: 0.2573 - val_accuracy: 0.8982 - 296ms/epoch - 659us/step\n",
            "Epoch 25/30\n",
            "449/449 - 0s - loss: 0.2586 - accuracy: 0.8923 - val_loss: 0.2517 - val_accuracy: 0.9009 - 339ms/epoch - 756us/step\n",
            "Epoch 26/30\n",
            "449/449 - 0s - loss: 0.2595 - accuracy: 0.8922 - val_loss: 0.2482 - val_accuracy: 0.8998 - 295ms/epoch - 657us/step\n",
            "Epoch 27/30\n",
            "449/449 - 0s - loss: 0.2581 - accuracy: 0.8957 - val_loss: 0.2495 - val_accuracy: 0.8985 - 305ms/epoch - 679us/step\n",
            "Epoch 28/30\n",
            "449/449 - 0s - loss: 0.2563 - accuracy: 0.8945 - val_loss: 0.2555 - val_accuracy: 0.8955 - 293ms/epoch - 653us/step\n",
            "Epoch 29/30\n",
            "449/449 - 0s - loss: 0.2557 - accuracy: 0.8943 - val_loss: 0.2548 - val_accuracy: 0.8943 - 296ms/epoch - 659us/step\n",
            "Epoch 30/30\n",
            "449/449 - 0s - loss: 0.2554 - accuracy: 0.8951 - val_loss: 0.2601 - val_accuracy: 0.8959 - 294ms/epoch - 656us/step\n"
          ]
        }
      ],
      "source": [
        "# Train the model with callbacks\n",
        "history_with_augm = cnn__binary_model_with_augm.fit(X_train_with_augm, y_train_with_augm, \n",
        "                                epochs=num_epochs_with_augm, batch_size=batch_size_with_augm,\n",
        "                                validation_split=0.2, verbose=2, callbacks=[early_stopping, model_checkpoint])\n"
      ]
    },
    {
      "attachments": {},
      "cell_type": "markdown",
      "metadata": {},
      "source": [
        "### Saving the model"
      ]
    },
    {
      "cell_type": "code",
      "execution_count": 65,
      "metadata": {},
      "outputs": [
        {
          "name": "stderr",
          "output_type": "stream",
          "text": [
            "/Users/siakesophie/Local_Docs/ING_3/S9/Engineering_project/project/SERAPP/.env-serapp/lib/python3.10/site-packages/keras/src/engine/training.py:3103: UserWarning: You are saving your model as an HDF5 file via `model.save()`. This file format is considered legacy. We recommend using instead the native Keras format, e.g. `model.save('my_model.keras')`.\n",
            "  saving_api.save_model(\n"
          ]
        }
      ],
      "source": [
        "# Save the model\n",
        "cnn__binary_model_with_augm.save('models/cnn_model_with_augm.h5')\n",
        "\n",
        "# Save the training history\n",
        "with open('models/training_history_with_augm.pkl', 'wb') as f:\n",
        "    pickle.dump(history_with_augm.history, f)"
      ]
    },
    {
      "attachments": {},
      "cell_type": "markdown",
      "metadata": {},
      "source": [
        "### Model évaluation"
      ]
    },
    {
      "cell_type": "code",
      "execution_count": 66,
      "metadata": {},
      "outputs": [],
      "source": [
        "def evaluate_binary_cnn_model(model, X_test, y_test):\n",
        "    # Evaluate the model\n",
        "    loss, accuracy = model.evaluate(X_test, y_test, verbose=0)\n",
        "    print(f'Test Loss: {loss:.4f}')\n",
        "    print(f'Test Accuracy: {accuracy:.4f}')\n",
        "\n",
        "    # Predictions\n",
        "    y_pred_prob = model.predict(X_test)\n",
        "    y_pred = (y_pred_prob > 0.5).astype(int)\n",
        "\n",
        "    # Print the confusion matrix\n",
        "    confusion_mat = confusion_matrix(y_test, y_pred)\n",
        "    print(\"Confusion Matrix:\")\n",
        "    print(confusion_mat)\n",
        "\n",
        "    # Classification Report\n",
        "    report = classification_report(y_test, y_pred)\n",
        "    print(\"\\nClassification Report:\")\n",
        "    print(report)\n",
        "\n",
        "    # Accuracy Score\n",
        "    acc_score = accuracy_score(y_test, y_pred)\n",
        "    print(f\"\\nAccuracy Score: {acc_score:.4f}\")\n",
        "\n",
        "    # Visualize the Confusion Matrix\n",
        "    plt.figure(figsize=(4, 3))\n",
        "    sns.heatmap(confusion_mat, annot=True, fmt='d', cmap='Blues')\n",
        "    plt.title('Confusion Matrix')\n",
        "    plt.xlabel('Predicted Labels')\n",
        "    plt.ylabel('True Labels')\n",
        "    plt.show()"
      ]
    },
    {
      "attachments": {},
      "cell_type": "markdown",
      "metadata": {},
      "source": [
        "#### Evalution of model without data augmentation"
      ]
    },
    {
      "cell_type": "code",
      "execution_count": 67,
      "metadata": {},
      "outputs": [],
      "source": [
        "# Load the model\n",
        "best_model_no_augm = load_model('models/cnn_model_no_augm.h5')"
      ]
    },
    {
      "cell_type": "code",
      "execution_count": 68,
      "metadata": {},
      "outputs": [
        {
          "name": "stdout",
          "output_type": "stream",
          "text": [
            "Test Loss: 0.2453\n",
            "Test Accuracy: 0.9089\n",
            "74/74 [==============================] - 0s 380us/step\n",
            "Confusion Matrix:\n",
            "[[1888   63]\n",
            " [ 150  236]]\n",
            "\n",
            "Classification Report:\n",
            "              precision    recall  f1-score   support\n",
            "\n",
            "           0       0.93      0.97      0.95      1951\n",
            "           1       0.79      0.61      0.69       386\n",
            "\n",
            "    accuracy                           0.91      2337\n",
            "   macro avg       0.86      0.79      0.82      2337\n",
            "weighted avg       0.90      0.91      0.90      2337\n",
            "\n",
            "\n",
            "Accuracy Score: 0.9089\n"
          ]
        },
        {
          "data": {
            "image/png": "[encoded data removed]",
            "text/plain": [
              "<Figure size 400x300 with 2 Axes>"
            ]
          },
          "metadata": {},
          "output_type": "display_data"
        }
      ],
      "source": [
        "evaluate_binary_cnn_model(best_model_no_augm, X_test_no_augm, y_test_no_augm)"
      ]
    },
    {
      "attachments": {},
      "cell_type": "markdown",
      "metadata": {},
      "source": [
        "#### Evalution of model with augmentation"
      ]
    },
    {
      "cell_type": "code",
      "execution_count": 70,
      "metadata": {},
      "outputs": [],
      "source": [
        "# Load the model\n",
        "best_model_with_augm = load_model('models/cnn_model_with_augm.h5')"
      ]
    },
    {
      "cell_type": "code",
      "execution_count": 71,
      "metadata": {},
      "outputs": [
        {
          "name": "stdout",
          "output_type": "stream",
          "text": [
            "Test Loss: 0.2604\n",
            "Test Accuracy: 0.8890\n",
            "220/220 [==============================] - 0s 675us/step\n",
            "Confusion Matrix:\n",
            "[[5425  405]\n",
            " [ 373  807]]\n",
            "\n",
            "Classification Report:\n",
            "              precision    recall  f1-score   support\n",
            "\n",
            "           0       0.94      0.93      0.93      5830\n",
            "           1       0.67      0.68      0.67      1180\n",
            "\n",
            "    accuracy                           0.89      7010\n",
            "   macro avg       0.80      0.81      0.80      7010\n",
            "weighted avg       0.89      0.89      0.89      7010\n",
            "\n",
            "\n",
            "Accuracy Score: 0.8890\n"
          ]
        },
        {
          "data": {
            "image/png": "[encoded data removed]",
            "text/plain": [
              "<Figure size 400x300 with 2 Axes>"
            ]
          },
          "metadata": {},
          "output_type": "display_data"
        }
      ],
      "source": [
        "evaluate_binary_cnn_model(best_model_with_augm, X_test_with_augm, y_test_with_augm)"
      ]
    },
    {
      "attachments": {},
      "cell_type": "markdown",
      "metadata": {},
      "source": [
        "### Check for model overfitting"
      ]
    },
    {
      "cell_type": "code",
      "execution_count": 72,
      "metadata": {},
      "outputs": [],
      "source": [
        "def evaluate_cnn_model_overfitting(loaded_history=None):\n",
        "    \n",
        "    if loaded_history:\n",
        "        # Plot training & validation loss values\n",
        "        plt.subplot(1, 2, 1)\n",
        "        plt.plot(loaded_history['loss'])\n",
        "        plt.plot(loaded_history['val_loss'])\n",
        "        plt.title('Model Loss')\n",
        "        plt.ylabel('Loss')\n",
        "        plt.xlabel('Epoch')\n",
        "        plt.legend(['Train', 'Validation'], loc='upper left')\n",
        "\n",
        "        # Plot training & validation accuracy values\n",
        "        plt.subplot(1, 2, 2)\n",
        "        plt.plot(loaded_history['accuracy'])\n",
        "        plt.plot(loaded_history['val_accuracy'])\n",
        "        plt.title('Model Accuracy')\n",
        "        plt.ylabel('Accuracy')\n",
        "        plt.xlabel('Epoch')\n",
        "        plt.legend(['Train', 'Validation'], loc='upper left')\n",
        "\n",
        "        plt.tight_layout()\n",
        "        plt.show()\n"
      ]
    },
    {
      "attachments": {},
      "cell_type": "markdown",
      "metadata": {},
      "source": [
        "#### Overfitting check on model without data augmentation"
      ]
    },
    {
      "cell_type": "code",
      "execution_count": 73,
      "metadata": {},
      "outputs": [],
      "source": [
        "# Load the training history\n",
        "with open('models/training_history_no_augm.pkl', 'rb') as f:\n",
        "    loaded_history_no_augm = pickle.load(f)"
      ]
    },
    {
      "cell_type": "code",
      "execution_count": 74,
      "metadata": {},
      "outputs": [
        {
          "data": {
            "image/png": "[encoded data removed]",
            "text/plain": [
              "<Figure size 640x480 with 2 Axes>"
            ]
          },
          "metadata": {},
          "output_type": "display_data"
        }
      ],
      "source": [
        "evaluate_cnn_model_overfitting( loaded_history_no_augm)"
      ]
    },
    {
      "attachments": {},
      "cell_type": "markdown",
      "metadata": {},
      "source": [
        "#### Overfitting check on model with data augmentation"
      ]
    },
    {
      "cell_type": "code",
      "execution_count": 75,
      "metadata": {},
      "outputs": [],
      "source": [
        "# Load the training history\n",
        "with open('models/training_history_with_augm.pkl', 'rb') as f:\n",
        "    loaded_history_with_augm = pickle.load(f)\n"
      ]
    },
    {
      "cell_type": "code",
      "execution_count": 76,
      "metadata": {},
      "outputs": [
        {
          "data": {
            "image/png": "[encoded data removed]",
            "text/plain": [
              "<Figure size 640x480 with 2 Axes>"
            ]
          },
          "metadata": {},
          "output_type": "display_data"
        }
      ],
      "source": [
        "evaluate_cnn_model_overfitting( loaded_history_with_augm)"
      ]
    },
    {
      "attachments": {},
      "cell_type": "markdown",
      "metadata": {},
      "source": [
        "### Predictions"
      ]
    },
    {
      "attachments": {},
      "cell_type": "markdown",
      "metadata": {},
      "source": [
        "#### Prediction on data without augmentation"
      ]
    },
    {
      "cell_type": "code",
      "execution_count": 77,
      "metadata": {},
      "outputs": [
        {
          "name": "stdout",
          "output_type": "stream",
          "text": [
            "74/74 [==============================] - 0s 999us/step\n"
          ]
        }
      ],
      "source": [
        "# Make predictions on the test data\n",
        "predictions_prob_no_augm = best_model_no_augm.predict(X_test_no_augm)\n",
        "predictions_no_augm = (predictions_prob_no_augm > 0.5).astype(int)"
      ]
    },
    {
      "cell_type": "code",
      "execution_count": 78,
      "metadata": {},
      "outputs": [],
      "source": [
        "flat_predictions_no_augm = predictions_no_augm.flatten()"
      ]
    },
    {
      "cell_type": "code",
      "execution_count": 80,
      "metadata": {},
      "outputs": [
        {
          "data": {
            "text/html": [
              "<div>\n",
              "<style scoped>\n",
              "    .dataframe tbody tr th:only-of-type {\n",
              "        vertical-align: middle;\n",
              "    }\n",
              "\n",
              "    .dataframe tbody tr th {\n",
              "        vertical-align: top;\n",
              "    }\n",
              "\n",
              "    .dataframe thead th {\n",
              "        text-align: right;\n",
              "    }\n",
              "</style>\n",
              "<table border=\"1\" class=\"dataframe\">\n",
              "  <thead>\n",
              "    <tr style=\"text-align: right;\">\n",
              "      <th></th>\n",
              "      <th>Predicted Labels</th>\n",
              "      <th>Actual Labels</th>\n",
              "    </tr>\n",
              "  </thead>\n",
              "  <tbody>\n",
              "    <tr>\n",
              "      <th>0</th>\n",
              "      <td>0</td>\n",
              "      <td>0</td>\n",
              "    </tr>\n",
              "    <tr>\n",
              "      <th>1</th>\n",
              "      <td>0</td>\n",
              "      <td>0</td>\n",
              "    </tr>\n",
              "    <tr>\n",
              "      <th>2</th>\n",
              "      <td>0</td>\n",
              "      <td>0</td>\n",
              "    </tr>\n",
              "    <tr>\n",
              "      <th>3</th>\n",
              "      <td>0</td>\n",
              "      <td>0</td>\n",
              "    </tr>\n",
              "    <tr>\n",
              "      <th>4</th>\n",
              "      <td>0</td>\n",
              "      <td>1</td>\n",
              "    </tr>\n",
              "    <tr>\n",
              "      <th>5</th>\n",
              "      <td>0</td>\n",
              "      <td>0</td>\n",
              "    </tr>\n",
              "    <tr>\n",
              "      <th>6</th>\n",
              "      <td>0</td>\n",
              "      <td>0</td>\n",
              "    </tr>\n",
              "    <tr>\n",
              "      <th>7</th>\n",
              "      <td>0</td>\n",
              "      <td>0</td>\n",
              "    </tr>\n",
              "    <tr>\n",
              "      <th>8</th>\n",
              "      <td>0</td>\n",
              "      <td>0</td>\n",
              "    </tr>\n",
              "    <tr>\n",
              "      <th>9</th>\n",
              "      <td>0</td>\n",
              "      <td>0</td>\n",
              "    </tr>\n",
              "  </tbody>\n",
              "</table>\n",
              "</div>"
            ],
            "text/plain": [
              "   Predicted Labels  Actual Labels\n",
              "0                 0              0\n",
              "1                 0              0\n",
              "2                 0              0\n",
              "3                 0              0\n",
              "4                 0              1\n",
              "5                 0              0\n",
              "6                 0              0\n",
              "7                 0              0\n",
              "8                 0              0\n",
              "9                 0              0"
            ]
          },
          "execution_count": 80,
          "metadata": {},
          "output_type": "execute_result"
        }
      ],
      "source": [
        "df_no_augm = pd.DataFrame(columns=['Predicted Labels', 'Actual Labels'])\n",
        "df_no_augm['Predicted Labels'] = flat_predictions_no_augm\n",
        "df_no_augm['Actual Labels'] = y_test_no_augm\n",
        "\n",
        "df_no_augm.head(10)"
      ]
    },
    {
      "cell_type": "code",
      "execution_count": 81,
      "metadata": {},
      "outputs": [
        {
          "name": "stdout",
          "output_type": "stream",
          "text": [
            "Number of right prédictions ===> 2124\n",
            "Number of emotions in total 2337\n"
          ]
        }
      ],
      "source": [
        "print(\"Number of right prédictions ===>\", np.sum(df_no_augm['Predicted Labels']== df_no_augm['Actual Labels']))\n",
        "print(\"Number of emotions in total\" , len(df_no_augm))"
      ]
    },
    {
      "attachments": {},
      "cell_type": "markdown",
      "metadata": {},
      "source": [
        "#### Prediction on data with augmentation"
      ]
    },
    {
      "cell_type": "code",
      "execution_count": 84,
      "metadata": {},
      "outputs": [
        {
          "name": "stdout",
          "output_type": "stream",
          "text": [
            "220/220 [==============================] - 0s 451us/step\n"
          ]
        }
      ],
      "source": [
        "# Make predictions on the test data\n",
        "predictions_prob_with_augm = best_model_with_augm.predict(X_test_with_augm)\n",
        "predictions_with_augm = (predictions_prob_with_augm > 0.5).astype(int)"
      ]
    },
    {
      "cell_type": "code",
      "execution_count": 85,
      "metadata": {},
      "outputs": [],
      "source": [
        "flat_predictions_with_augm = predictions_with_augm.flatten()"
      ]
    },
    {
      "cell_type": "code",
      "execution_count": 86,
      "metadata": {},
      "outputs": [
        {
          "data": {
            "text/html": [
              "<div>\n",
              "<style scoped>\n",
              "    .dataframe tbody tr th:only-of-type {\n",
              "        vertical-align: middle;\n",
              "    }\n",
              "\n",
              "    .dataframe tbody tr th {\n",
              "        vertical-align: top;\n",
              "    }\n",
              "\n",
              "    .dataframe thead th {\n",
              "        text-align: right;\n",
              "    }\n",
              "</style>\n",
              "<table border=\"1\" class=\"dataframe\">\n",
              "  <thead>\n",
              "    <tr style=\"text-align: right;\">\n",
              "      <th></th>\n",
              "      <th>Predicted Labels</th>\n",
              "      <th>Actual Labels</th>\n",
              "    </tr>\n",
              "  </thead>\n",
              "  <tbody>\n",
              "    <tr>\n",
              "      <th>0</th>\n",
              "      <td>0</td>\n",
              "      <td>0</td>\n",
              "    </tr>\n",
              "    <tr>\n",
              "      <th>1</th>\n",
              "      <td>0</td>\n",
              "      <td>0</td>\n",
              "    </tr>\n",
              "    <tr>\n",
              "      <th>2</th>\n",
              "      <td>0</td>\n",
              "      <td>0</td>\n",
              "    </tr>\n",
              "    <tr>\n",
              "      <th>3</th>\n",
              "      <td>0</td>\n",
              "      <td>0</td>\n",
              "    </tr>\n",
              "    <tr>\n",
              "      <th>4</th>\n",
              "      <td>0</td>\n",
              "      <td>0</td>\n",
              "    </tr>\n",
              "    <tr>\n",
              "      <th>5</th>\n",
              "      <td>0</td>\n",
              "      <td>0</td>\n",
              "    </tr>\n",
              "    <tr>\n",
              "      <th>6</th>\n",
              "      <td>0</td>\n",
              "      <td>0</td>\n",
              "    </tr>\n",
              "    <tr>\n",
              "      <th>7</th>\n",
              "      <td>0</td>\n",
              "      <td>0</td>\n",
              "    </tr>\n",
              "    <tr>\n",
              "      <th>8</th>\n",
              "      <td>1</td>\n",
              "      <td>1</td>\n",
              "    </tr>\n",
              "    <tr>\n",
              "      <th>9</th>\n",
              "      <td>0</td>\n",
              "      <td>0</td>\n",
              "    </tr>\n",
              "  </tbody>\n",
              "</table>\n",
              "</div>"
            ],
            "text/plain": [
              "   Predicted Labels  Actual Labels\n",
              "0                 0              0\n",
              "1                 0              0\n",
              "2                 0              0\n",
              "3                 0              0\n",
              "4                 0              0\n",
              "5                 0              0\n",
              "6                 0              0\n",
              "7                 0              0\n",
              "8                 1              1\n",
              "9                 0              0"
            ]
          },
          "execution_count": 86,
          "metadata": {},
          "output_type": "execute_result"
        }
      ],
      "source": [
        "df_with_augm = pd.DataFrame(columns=['Predicted Labels', 'Actual Labels'])\n",
        "df_with_augm['Predicted Labels'] = flat_predictions_with_augm\n",
        "df_with_augm['Actual Labels'] = y_test_with_augm\n",
        "\n",
        "df_with_augm.head(10)"
      ]
    },
    {
      "cell_type": "code",
      "execution_count": 87,
      "metadata": {},
      "outputs": [
        {
          "name": "stdout",
          "output_type": "stream",
          "text": [
            "Number of right prédictions ===> 6232\n",
            "Number of emotions in total 7010\n"
          ]
        }
      ],
      "source": [
        "print(\"Number of right prédictions ===>\", np.sum(df_with_augm['Predicted Labels']== df_with_augm['Actual Labels']))\n",
        "print(\"Number of emotions in total\" , len(df_with_augm))"
      ]
    },
    {
      "attachments": {},
      "cell_type": "markdown",
      "metadata": {},
      "source": [
        "### Test of models"
      ]
    },
    {
      "cell_type": "code",
      "execution_count": 88,
      "metadata": {},
      "outputs": [],
      "source": [
        "def extract_features(data, sample_rate):\n",
        "    # ZCR (Zero Crossing Rate)\n",
        "    zcr = np.mean(librosa.feature.zero_crossing_rate(y=data).T, axis=0)\n",
        "\n",
        "    # Energy\n",
        "    energy = np.mean((librosa.feature.rms(y=data)).T, axis=0)\n",
        "\n",
        "    # Spectral Centroid\n",
        "    spectral_centroid = np.mean(librosa.feature.spectral_centroid(y=data, sr=sample_rate).T, axis=0)\n",
        "\n",
        "    # Spectral Spread\n",
        "    spectral_spread = np.mean(librosa.feature.spectral_bandwidth(y=data, sr=sample_rate).T, axis=0)\n",
        "\n",
        "    # Spectral Flux\n",
        "    spectral_flux = np.mean(librosa.onset.onset_strength(y=data, sr=sample_rate).T, axis=0)\n",
        "\n",
        "    # MFCC (Mel-Frequency Cepstral Coefficients)\n",
        "    mfcc = np.mean(librosa.feature.mfcc(y=data, sr=sample_rate, n_mfcc=13).T, axis=0)\n",
        "\n",
        "    # Chroma Vector\n",
        "    chroma = np.mean(librosa.feature.chroma_stft(y=data, sr=sample_rate).T, axis=0)\n",
        "\n",
        "    # Stack all features horizontally\n",
        "    result = np.hstack((zcr, energy, spectral_centroid, spectral_spread, spectral_flux, mfcc, chroma))\n",
        "    return result"
      ]
    },
    {
      "cell_type": "code",
      "execution_count": 89,
      "metadata": {},
      "outputs": [],
      "source": [
        "def get_features(audio_path):\n",
        "    # duration and offset are used to take care of the no audio in start \n",
        "    # and the ending of each audio files as seen above.\n",
        "    data, sample_rate = librosa.load(audio_path, duration=2.5, offset=0.6)\n",
        "    \n",
        "    result = extract_features(data, sample_rate)\n",
        "    \n",
        "    return result"
      ]
    },
    {
      "cell_type": "code",
      "execution_count": 93,
      "metadata": {},
      "outputs": [],
      "source": [
        "def predict_binary_emotion(model, scaler, audio_test_file):\n",
        "    # Extract features (assuming you have an extract_features function)\n",
        "    res1 = get_features(audio_test_file)\n",
        "    result = np.array(res1).reshape(1, -1)\n",
        "    res = scaler.fit_transform(result)\n",
        "\n",
        "    # Make prediction using the provided model\n",
        "    prediction_prob = model.predict(res)\n",
        "    predicted_label = (prediction_prob > 0.5).astype(int)\n",
        "\n",
        "    print(\"Audio File is anger: \", audio_test_file)\n",
        "    print(\"Binary CNN Prediction (Probabilities): \", prediction_prob)\n",
        "    print(\"Binary CNN Prediction (Binary): \", predicted_label[0])\n",
        "\n",
        "    return predicted_label[0]"
      ]
    },
    {
      "attachments": {},
      "cell_type": "markdown",
      "metadata": {},
      "source": [
        "#### Test on a single audio file"
      ]
    },
    {
      "cell_type": "code",
      "execution_count": 101,
      "metadata": {},
      "outputs": [],
      "source": [
        "audio_file = \"test_data/Savee_audios/DC_a02.wav\""
      ]
    },
    {
      "cell_type": "code",
      "execution_count": 102,
      "metadata": {},
      "outputs": [
        {
          "name": "stdout",
          "output_type": "stream",
          "text": [
            "1/1 [==============================] - 0s 94ms/step\n",
            "Audio File is anger:  test_data/Savee_audios/DC_a02.wav\n",
            "Binary CNN Prediction (Probabilities):  [[0.07166327]]\n",
            "Binary CNN Prediction (Binary):  [0]\n"
          ]
        }
      ],
      "source": [
        "predicted_emotions_no_augm = predict_binary_emotion(best_model_no_augm, scaler, audio_file)"
      ]
    },
    {
      "cell_type": "code",
      "execution_count": 103,
      "metadata": {},
      "outputs": [
        {
          "name": "stdout",
          "output_type": "stream",
          "text": [
            "1/1 [==============================] - 0s 30ms/step\n",
            "Audio File is anger:  test_data/Savee_audios/DC_a02.wav\n",
            "Binary CNN Prediction (Probabilities):  [[0.97889316]]\n",
            "Binary CNN Prediction (Binary):  [1]\n"
          ]
        }
      ],
      "source": [
        "predicted_emotions_with_augm = predict_binary_emotion(best_model_with_augm, scaler, audio_file)"
      ]
    },
    {
      "attachments": {},
      "cell_type": "markdown",
      "metadata": {},
      "source": [
        "#### Prediction on several audio files in a directory"
      ]
    },
    {
      "cell_type": "code",
      "execution_count": 104,
      "metadata": {},
      "outputs": [],
      "source": [
        "def get_true_label(file_path):\n",
        "    label_mapping = {\n",
        "        'a': 'angry',\n",
        "        'c': 'calm',\n",
        "        'd': 'disgust',\n",
        "        'f': 'fear',\n",
        "        'h': 'happy',\n",
        "        'n': 'neutral',\n",
        "        'sa': 'sad',\n",
        "        'su': 'surprise'\n",
        "    }\n",
        "\n",
        "    # Extract the first letter after the underscore\n",
        "    file_name = os.path.basename(file_path)\n",
        "    parts = file_name.split('.')[0]\n",
        "    part = parts.split('_')[1]\n",
        "    \n",
        "    letters = [char.lower() for char in part if char.isalpha()]\n",
        "    label = ''.join(letters)\n",
        "    \n",
        "    # Get the corresponding label from the mapping\n",
        "    true_label = label_mapping[label]\n",
        "\n",
        "    return true_label"
      ]
    },
    {
      "cell_type": "code",
      "execution_count": 105,
      "metadata": {},
      "outputs": [
        {
          "data": {
            "text/plain": [
              "'angry'"
            ]
          },
          "execution_count": 105,
          "metadata": {},
          "output_type": "execute_result"
        }
      ],
      "source": [
        "file_path = \"test_data/Savee_audios/DC_a01.wav\"\n",
        "get_true_label(file_path)"
      ]
    },
    {
      "cell_type": "code",
      "execution_count": 106,
      "metadata": {},
      "outputs": [],
      "source": [
        "def predict_binary_emotions_in_directory(model, scaler, directory_path):\n",
        "    audio_files = [os.path.join(directory_path, file) for file in os.listdir(directory_path) if file.endswith('.wav')]\n",
        "        \n",
        "    predictions = []\n",
        "    probabilities = []\n",
        "    true_emotions = []\n",
        "\n",
        "    correct_predictions = 0\n",
        "    incorrect_predictions = 0\n",
        "\n",
        "    for audio_file in audio_files:\n",
        "        res1 = get_features(audio_file)\n",
        "        result = np.array(res1).reshape(1, -1)\n",
        "        res = scaler.fit_transform(result)\n",
        "            \n",
        "        # Make prediction using the provided model\n",
        "        prediction_prob = model.predict(res)\n",
        "        predicted_label = (prediction_prob > 0.5).astype(int)\n",
        "\n",
        "        # Decode the predicted label (not necessary for binary classification)\n",
        "        predicted_emotion = 'angry' if predicted_label[0] == 1 else 'not angry'\n",
        "        \n",
        "        true_label = get_true_label(audio_file)\n",
        "        \n",
        "        # Check if the prediction is correct\n",
        "        if predicted_label[0] == 1 and true_label == 'angry':\n",
        "            correct_predictions += 1\n",
        "        elif predicted_label[0] == 0 and true_label != 'angry':\n",
        "            correct_predictions += 1\n",
        "        else:\n",
        "            incorrect_predictions += 1\n",
        "\n",
        "        # Get the probability of the predicted label\n",
        "        predicted_probability = np.max(prediction_prob)\n",
        "\n",
        "        predictions.append(predicted_emotion)\n",
        "        probabilities.append(predicted_probability)\n",
        "        true_emotions.append(true_label)\n",
        "\n",
        "    total_predictions = len(audio_files)\n",
        "    print(f\"\\nTotal Predictions: {total_predictions}\")\n",
        "    print(f\"Correct Predictions: {correct_predictions}\")\n",
        "    print(f\"Incorrect Predictions: {incorrect_predictions}\")\n",
        "        \n",
        "    return predictions, true_emotions, probabilities"
      ]
    },
    {
      "cell_type": "code",
      "execution_count": 107,
      "metadata": {},
      "outputs": [],
      "source": [
        "directory_path = \"test_data/Savee_audios\""
      ]
    },
    {
      "attachments": {},
      "cell_type": "markdown",
      "metadata": {},
      "source": [
        "#### Prediction on audios without augmentation"
      ]
    },
    {
      "cell_type": "code",
      "execution_count": 108,
      "metadata": {},
      "outputs": [
        {
          "name": "stdout",
          "output_type": "stream",
          "text": [
            "1/1 [==============================] - 0s 20ms/step\n",
            "1/1 [==============================] - 0s 16ms/step\n",
            "1/1 [==============================] - 0s 33ms/step\n",
            "1/1 [==============================] - 0s 26ms/step\n",
            "1/1 [==============================] - 0s 37ms/step\n",
            "1/1 [==============================] - 0s 12ms/step\n",
            "1/1 [==============================] - 0s 11ms/step\n",
            "1/1 [==============================] - 0s 11ms/step\n",
            "1/1 [==============================] - 0s 52ms/step\n",
            "1/1 [==============================] - 0s 26ms/step\n",
            "1/1 [==============================] - 0s 11ms/step\n",
            "1/1 [==============================] - 0s 16ms/step\n",
            "1/1 [==============================] - 0s 22ms/step\n",
            "1/1 [==============================] - 0s 33ms/step\n",
            "1/1 [==============================] - 0s 10ms/step\n",
            "1/1 [==============================] - 0s 13ms/step\n",
            "1/1 [==============================] - 0s 10ms/step\n",
            "1/1 [==============================] - 0s 12ms/step\n",
            "1/1 [==============================] - 0s 15ms/step\n",
            "1/1 [==============================] - 0s 10ms/step\n",
            "1/1 [==============================] - 0s 15ms/step\n",
            "1/1 [==============================] - 0s 11ms/step\n",
            "1/1 [==============================] - 0s 10ms/step\n",
            "1/1 [==============================] - 0s 27ms/step\n",
            "1/1 [==============================] - 0s 13ms/step\n",
            "1/1 [==============================] - 0s 30ms/step\n",
            "1/1 [==============================] - 0s 30ms/step\n",
            "1/1 [==============================] - 0s 15ms/step\n",
            "1/1 [==============================] - 0s 25ms/step\n",
            "1/1 [==============================] - 0s 25ms/step\n",
            "1/1 [==============================] - 0s 38ms/step\n",
            "1/1 [==============================] - 0s 15ms/step\n",
            "1/1 [==============================] - 0s 57ms/step\n",
            "1/1 [==============================] - 0s 15ms/step\n",
            "1/1 [==============================] - 0s 16ms/step\n",
            "1/1 [==============================] - 0s 11ms/step\n",
            "1/1 [==============================] - 0s 13ms/step\n",
            "1/1 [==============================] - 0s 10ms/step\n",
            "1/1 [==============================] - 0s 10ms/step\n",
            "1/1 [==============================] - 0s 22ms/step\n",
            "1/1 [==============================] - 0s 16ms/step\n",
            "1/1 [==============================] - 0s 11ms/step\n",
            "1/1 [==============================] - 0s 16ms/step\n",
            "1/1 [==============================] - 0s 13ms/step\n",
            "1/1 [==============================] - 0s 22ms/step\n",
            "1/1 [==============================] - 0s 16ms/step\n",
            "1/1 [==============================] - 0s 25ms/step\n",
            "1/1 [==============================] - 0s 13ms/step\n",
            "1/1 [==============================] - 0s 23ms/step\n",
            "1/1 [==============================] - 0s 16ms/step\n",
            "1/1 [==============================] - 0s 14ms/step\n",
            "1/1 [==============================] - 0s 23ms/step\n",
            "1/1 [==============================] - 0s 18ms/step\n",
            "1/1 [==============================] - 0s 20ms/step\n",
            "1/1 [==============================] - 0s 18ms/step\n",
            "1/1 [==============================] - 0s 45ms/step\n",
            "1/1 [==============================] - 0s 17ms/step\n",
            "1/1 [==============================] - 0s 17ms/step\n",
            "1/1 [==============================] - 0s 79ms/step\n",
            "1/1 [==============================] - 0s 16ms/step\n",
            "1/1 [==============================] - 0s 17ms/step\n",
            "1/1 [==============================] - 0s 25ms/step\n",
            "1/1 [==============================] - 0s 69ms/step\n",
            "1/1 [==============================] - 0s 73ms/step\n",
            "1/1 [==============================] - 0s 48ms/step\n",
            "1/1 [==============================] - 0s 27ms/step\n",
            "1/1 [==============================] - 0s 30ms/step\n",
            "1/1 [==============================] - 0s 67ms/step\n",
            "1/1 [==============================] - 0s 76ms/step\n",
            "1/1 [==============================] - 0s 12ms/step\n",
            "1/1 [==============================] - 0s 42ms/step\n",
            "1/1 [==============================] - 0s 27ms/step\n",
            "1/1 [==============================] - 0s 17ms/step\n",
            "1/1 [==============================] - 0s 19ms/step\n",
            "1/1 [==============================] - 0s 17ms/step\n",
            "1/1 [==============================] - 0s 28ms/step\n",
            "1/1 [==============================] - 0s 19ms/step\n",
            "1/1 [==============================] - 0s 58ms/step\n",
            "1/1 [==============================] - 0s 27ms/step\n",
            "1/1 [==============================] - 0s 21ms/step\n",
            "1/1 [==============================] - 0s 51ms/step\n",
            "1/1 [==============================] - 0s 28ms/step\n",
            "1/1 [==============================] - 0s 34ms/step\n",
            "1/1 [==============================] - 0s 18ms/step\n",
            "1/1 [==============================] - 0s 21ms/step\n",
            "1/1 [==============================] - 0s 30ms/step\n",
            "1/1 [==============================] - 0s 37ms/step\n",
            "1/1 [==============================] - 0s 41ms/step\n",
            "1/1 [==============================] - 0s 18ms/step\n",
            "1/1 [==============================] - 0s 13ms/step\n",
            "1/1 [==============================] - 0s 27ms/step\n",
            "1/1 [==============================] - 0s 49ms/step\n",
            "1/1 [==============================] - 0s 22ms/step\n",
            "1/1 [==============================] - 0s 26ms/step\n",
            "1/1 [==============================] - 0s 35ms/step\n",
            "1/1 [==============================] - 0s 28ms/step\n",
            "1/1 [==============================] - 0s 67ms/step\n",
            "1/1 [==============================] - 0s 21ms/step\n",
            "1/1 [==============================] - 0s 15ms/step\n",
            "1/1 [==============================] - 0s 34ms/step\n",
            "1/1 [==============================] - 0s 29ms/step\n",
            "1/1 [==============================] - 0s 31ms/step\n",
            "1/1 [==============================] - 0s 17ms/step\n",
            "1/1 [==============================] - 0s 12ms/step\n",
            "1/1 [==============================] - 0s 34ms/step\n",
            "1/1 [==============================] - 0s 31ms/step\n",
            "1/1 [==============================] - 0s 15ms/step\n",
            "1/1 [==============================] - 0s 17ms/step\n",
            "1/1 [==============================] - 0s 20ms/step\n",
            "1/1 [==============================] - 0s 16ms/step\n",
            "1/1 [==============================] - 0s 17ms/step\n",
            "1/1 [==============================] - 0s 22ms/step\n",
            "1/1 [==============================] - 0s 19ms/step\n",
            "1/1 [==============================] - 0s 32ms/step\n",
            "1/1 [==============================] - 0s 10ms/step\n",
            "1/1 [==============================] - 0s 22ms/step\n",
            "1/1 [==============================] - 0s 21ms/step\n",
            "1/1 [==============================] - 0s 19ms/step\n",
            "1/1 [==============================] - 0s 17ms/step\n",
            "1/1 [==============================] - 0s 12ms/step\n",
            "1/1 [==============================] - 0s 56ms/step\n",
            "1/1 [==============================] - 0s 18ms/step\n",
            "1/1 [==============================] - 0s 17ms/step\n",
            "1/1 [==============================] - 0s 11ms/step\n",
            "1/1 [==============================] - 0s 68ms/step\n",
            "1/1 [==============================] - 0s 11ms/step\n",
            "1/1 [==============================] - 0s 13ms/step\n",
            "1/1 [==============================] - 0s 11ms/step\n",
            "1/1 [==============================] - 0s 34ms/step\n",
            "1/1 [==============================] - 0s 12ms/step\n",
            "1/1 [==============================] - 0s 14ms/step\n",
            "1/1 [==============================] - 0s 31ms/step\n",
            "1/1 [==============================] - 0s 63ms/step\n",
            "1/1 [==============================] - 0s 16ms/step\n",
            "1/1 [==============================] - 0s 48ms/step\n",
            "1/1 [==============================] - 0s 34ms/step\n",
            "1/1 [==============================] - 0s 38ms/step\n",
            "1/1 [==============================] - 0s 23ms/step\n",
            "1/1 [==============================] - 0s 12ms/step\n",
            "1/1 [==============================] - 0s 19ms/step\n",
            "1/1 [==============================] - 0s 51ms/step\n",
            "1/1 [==============================] - 0s 16ms/step\n",
            "1/1 [==============================] - 0s 25ms/step\n",
            "1/1 [==============================] - 0s 10ms/step\n",
            "1/1 [==============================] - 0s 17ms/step\n",
            "1/1 [==============================] - 0s 13ms/step\n",
            "1/1 [==============================] - 0s 18ms/step\n",
            "1/1 [==============================] - 0s 20ms/step\n",
            "1/1 [==============================] - 0s 10ms/step\n",
            "1/1 [==============================] - 0s 11ms/step\n",
            "1/1 [==============================] - 0s 15ms/step\n",
            "1/1 [==============================] - 0s 13ms/step\n",
            "1/1 [==============================] - 0s 14ms/step\n",
            "1/1 [==============================] - 0s 20ms/step\n",
            "1/1 [==============================] - 0s 14ms/step\n",
            "1/1 [==============================] - 0s 11ms/step\n",
            "1/1 [==============================] - 0s 18ms/step\n",
            "1/1 [==============================] - 0s 21ms/step\n",
            "1/1 [==============================] - 0s 11ms/step\n",
            "1/1 [==============================] - 0s 13ms/step\n",
            "1/1 [==============================] - 0s 18ms/step\n",
            "1/1 [==============================] - 0s 11ms/step\n",
            "1/1 [==============================] - 0s 33ms/step\n",
            "1/1 [==============================] - 0s 10ms/step\n",
            "1/1 [==============================] - 0s 17ms/step\n",
            "1/1 [==============================] - 0s 12ms/step\n",
            "1/1 [==============================] - 0s 12ms/step\n",
            "1/1 [==============================] - 0s 21ms/step\n",
            "1/1 [==============================] - 0s 15ms/step\n",
            "1/1 [==============================] - 0s 10ms/step\n",
            "1/1 [==============================] - 0s 11ms/step\n",
            "1/1 [==============================] - 0s 10ms/step\n",
            "1/1 [==============================] - 0s 13ms/step\n",
            "1/1 [==============================] - 0s 13ms/step\n",
            "1/1 [==============================] - 0s 18ms/step\n",
            "1/1 [==============================] - 0s 13ms/step\n",
            "1/1 [==============================] - 0s 10ms/step\n",
            "1/1 [==============================] - 0s 17ms/step\n",
            "1/1 [==============================] - 0s 12ms/step\n",
            "1/1 [==============================] - 0s 12ms/step\n",
            "1/1 [==============================] - 0s 77ms/step\n",
            "1/1 [==============================] - 0s 81ms/step\n",
            "1/1 [==============================] - 0s 13ms/step\n",
            "1/1 [==============================] - 0s 68ms/step\n",
            "1/1 [==============================] - 0s 16ms/step\n",
            "1/1 [==============================] - 0s 22ms/step\n",
            "1/1 [==============================] - 0s 18ms/step\n",
            "1/1 [==============================] - 0s 16ms/step\n",
            "1/1 [==============================] - 0s 24ms/step\n",
            "1/1 [==============================] - 0s 23ms/step\n",
            "1/1 [==============================] - 0s 11ms/step\n",
            "1/1 [==============================] - 0s 11ms/step\n",
            "1/1 [==============================] - 0s 12ms/step\n",
            "1/1 [==============================] - 0s 50ms/step\n",
            "1/1 [==============================] - 0s 15ms/step\n",
            "1/1 [==============================] - 0s 22ms/step\n",
            "1/1 [==============================] - 0s 26ms/step\n",
            "1/1 [==============================] - 0s 12ms/step\n",
            "1/1 [==============================] - 0s 18ms/step\n",
            "1/1 [==============================] - 0s 18ms/step\n",
            "1/1 [==============================] - 0s 25ms/step\n",
            "1/1 [==============================] - 0s 11ms/step\n",
            "1/1 [==============================] - 0s 19ms/step\n",
            "1/1 [==============================] - 0s 17ms/step\n",
            "1/1 [==============================] - 0s 27ms/step\n",
            "1/1 [==============================] - 0s 19ms/step\n",
            "1/1 [==============================] - 0s 17ms/step\n",
            "1/1 [==============================] - 0s 18ms/step\n",
            "1/1 [==============================] - 0s 13ms/step\n",
            "1/1 [==============================] - 0s 15ms/step\n",
            "1/1 [==============================] - 0s 20ms/step\n",
            "1/1 [==============================] - 0s 13ms/step\n",
            "1/1 [==============================] - 0s 19ms/step\n",
            "1/1 [==============================] - 0s 18ms/step\n",
            "1/1 [==============================] - 0s 17ms/step\n",
            "1/1 [==============================] - 0s 25ms/step\n",
            "1/1 [==============================] - 0s 30ms/step\n",
            "1/1 [==============================] - 0s 11ms/step\n",
            "1/1 [==============================] - 0s 17ms/step\n",
            "1/1 [==============================] - 0s 11ms/step\n",
            "1/1 [==============================] - 0s 11ms/step\n",
            "1/1 [==============================] - 0s 24ms/step\n",
            "1/1 [==============================] - 0s 23ms/step\n",
            "1/1 [==============================] - 0s 14ms/step\n",
            "1/1 [==============================] - 0s 26ms/step\n",
            "1/1 [==============================] - 0s 18ms/step\n",
            "1/1 [==============================] - 0s 15ms/step\n",
            "1/1 [==============================] - 0s 21ms/step\n",
            "1/1 [==============================] - 0s 11ms/step\n",
            "1/1 [==============================] - 0s 11ms/step\n",
            "1/1 [==============================] - 0s 18ms/step\n",
            "1/1 [==============================] - 0s 18ms/step\n",
            "1/1 [==============================] - 0s 15ms/step\n",
            "1/1 [==============================] - 0s 29ms/step\n",
            "1/1 [==============================] - 0s 14ms/step\n",
            "1/1 [==============================] - 0s 21ms/step\n",
            "1/1 [==============================] - 0s 11ms/step\n",
            "1/1 [==============================] - 0s 19ms/step\n",
            "1/1 [==============================] - 0s 114ms/step\n",
            "1/1 [==============================] - 0s 13ms/step\n",
            "1/1 [==============================] - 0s 11ms/step\n",
            "1/1 [==============================] - 0s 16ms/step\n",
            "1/1 [==============================] - 0s 12ms/step\n",
            "1/1 [==============================] - 0s 89ms/step\n",
            "1/1 [==============================] - 0s 40ms/step\n",
            "1/1 [==============================] - 0s 23ms/step\n",
            "1/1 [==============================] - 0s 18ms/step\n",
            "1/1 [==============================] - 0s 11ms/step\n",
            "1/1 [==============================] - 0s 20ms/step\n",
            "1/1 [==============================] - 0s 15ms/step\n",
            "1/1 [==============================] - 0s 19ms/step\n",
            "1/1 [==============================] - 0s 12ms/step\n",
            "1/1 [==============================] - 0s 10ms/step\n",
            "1/1 [==============================] - 0s 15ms/step\n",
            "1/1 [==============================] - 0s 18ms/step\n",
            "1/1 [==============================] - 0s 22ms/step\n",
            "1/1 [==============================] - 0s 10ms/step\n",
            "1/1 [==============================] - 0s 26ms/step\n",
            "1/1 [==============================] - 0s 14ms/step\n",
            "1/1 [==============================] - 0s 17ms/step\n",
            "1/1 [==============================] - 0s 10ms/step\n",
            "1/1 [==============================] - 0s 17ms/step\n",
            "1/1 [==============================] - 0s 10ms/step\n",
            "1/1 [==============================] - 0s 21ms/step\n",
            "1/1 [==============================] - 0s 13ms/step\n",
            "1/1 [==============================] - 0s 18ms/step\n",
            "1/1 [==============================] - 0s 15ms/step\n",
            "1/1 [==============================] - 0s 18ms/step\n",
            "1/1 [==============================] - 0s 11ms/step\n",
            "1/1 [==============================] - 0s 19ms/step\n",
            "1/1 [==============================] - 0s 26ms/step\n",
            "1/1 [==============================] - 0s 21ms/step\n",
            "1/1 [==============================] - 0s 23ms/step\n",
            "1/1 [==============================] - 0s 10ms/step\n",
            "1/1 [==============================] - 0s 10ms/step\n",
            "1/1 [==============================] - 0s 18ms/step\n",
            "1/1 [==============================] - 0s 18ms/step\n",
            "1/1 [==============================] - 0s 17ms/step\n",
            "1/1 [==============================] - 0s 30ms/step\n",
            "1/1 [==============================] - 0s 23ms/step\n",
            "1/1 [==============================] - 0s 23ms/step\n",
            "1/1 [==============================] - 0s 57ms/step\n",
            "1/1 [==============================] - 0s 19ms/step\n",
            "1/1 [==============================] - 0s 17ms/step\n",
            "1/1 [==============================] - 0s 14ms/step\n",
            "1/1 [==============================] - 0s 23ms/step\n",
            "1/1 [==============================] - 0s 14ms/step\n",
            "1/1 [==============================] - 0s 21ms/step\n",
            "1/1 [==============================] - 0s 49ms/step\n",
            "1/1 [==============================] - 0s 14ms/step\n",
            "1/1 [==============================] - 0s 13ms/step\n",
            "1/1 [==============================] - 0s 13ms/step\n",
            "1/1 [==============================] - 0s 20ms/step\n",
            "1/1 [==============================] - 0s 11ms/step\n",
            "1/1 [==============================] - 0s 14ms/step\n",
            "1/1 [==============================] - 0s 12ms/step\n",
            "1/1 [==============================] - 0s 49ms/step\n",
            "1/1 [==============================] - 0s 17ms/step\n",
            "1/1 [==============================] - 0s 33ms/step\n",
            "1/1 [==============================] - 0s 61ms/step\n",
            "1/1 [==============================] - 0s 11ms/step\n",
            "1/1 [==============================] - 0s 14ms/step\n",
            "1/1 [==============================] - 0s 12ms/step\n",
            "1/1 [==============================] - 0s 15ms/step\n",
            "1/1 [==============================] - 0s 11ms/step\n",
            "1/1 [==============================] - 0s 25ms/step\n",
            "1/1 [==============================] - 0s 20ms/step\n",
            "1/1 [==============================] - 0s 12ms/step\n",
            "1/1 [==============================] - 0s 14ms/step\n",
            "1/1 [==============================] - 0s 21ms/step\n",
            "1/1 [==============================] - 0s 11ms/step\n",
            "1/1 [==============================] - 0s 10ms/step\n",
            "1/1 [==============================] - 0s 16ms/step\n",
            "1/1 [==============================] - 0s 13ms/step\n",
            "1/1 [==============================] - 0s 10ms/step\n",
            "1/1 [==============================] - 0s 11ms/step\n",
            "1/1 [==============================] - 0s 29ms/step\n",
            "1/1 [==============================] - 0s 18ms/step\n",
            "1/1 [==============================] - 0s 24ms/step\n",
            "1/1 [==============================] - 0s 59ms/step\n",
            "1/1 [==============================] - 0s 45ms/step\n",
            "1/1 [==============================] - 0s 25ms/step\n",
            "1/1 [==============================] - 0s 130ms/step\n",
            "1/1 [==============================] - 0s 14ms/step\n",
            "1/1 [==============================] - 0s 28ms/step\n",
            "1/1 [==============================] - 0s 21ms/step\n",
            "1/1 [==============================] - 0s 14ms/step\n",
            "1/1 [==============================] - 0s 15ms/step\n",
            "1/1 [==============================] - 0s 32ms/step\n",
            "1/1 [==============================] - 0s 25ms/step\n",
            "1/1 [==============================] - 0s 10ms/step\n",
            "1/1 [==============================] - 0s 21ms/step\n",
            "1/1 [==============================] - 0s 20ms/step\n",
            "1/1 [==============================] - 0s 11ms/step\n",
            "1/1 [==============================] - 0s 11ms/step\n",
            "1/1 [==============================] - 0s 11ms/step\n",
            "1/1 [==============================] - 0s 13ms/step\n",
            "1/1 [==============================] - 0s 13ms/step\n",
            "1/1 [==============================] - 0s 13ms/step\n",
            "1/1 [==============================] - 0s 17ms/step\n",
            "1/1 [==============================] - 0s 17ms/step\n",
            "1/1 [==============================] - 0s 11ms/step\n",
            "1/1 [==============================] - 0s 12ms/step\n",
            "1/1 [==============================] - 0s 19ms/step\n",
            "1/1 [==============================] - 0s 10ms/step\n",
            "1/1 [==============================] - 0s 10ms/step\n",
            "1/1 [==============================] - 0s 15ms/step\n",
            "1/1 [==============================] - 0s 11ms/step\n",
            "1/1 [==============================] - 0s 100ms/step\n",
            "1/1 [==============================] - 0s 13ms/step\n",
            "1/1 [==============================] - 0s 11ms/step\n",
            "1/1 [==============================] - 0s 11ms/step\n",
            "1/1 [==============================] - 0s 39ms/step\n",
            "1/1 [==============================] - 0s 24ms/step\n",
            "1/1 [==============================] - 0s 17ms/step\n",
            "1/1 [==============================] - 0s 12ms/step\n",
            "1/1 [==============================] - 0s 37ms/step\n",
            "1/1 [==============================] - 0s 11ms/step\n",
            "1/1 [==============================] - 0s 11ms/step\n",
            "1/1 [==============================] - 0s 18ms/step\n",
            "1/1 [==============================] - 0s 15ms/step\n",
            "1/1 [==============================] - 0s 18ms/step\n",
            "1/1 [==============================] - 0s 11ms/step\n",
            "1/1 [==============================] - 0s 44ms/step\n",
            "1/1 [==============================] - 0s 34ms/step\n",
            "1/1 [==============================] - 0s 29ms/step\n",
            "1/1 [==============================] - 0s 14ms/step\n",
            "1/1 [==============================] - 0s 11ms/step\n",
            "1/1 [==============================] - 0s 14ms/step\n",
            "1/1 [==============================] - 0s 26ms/step\n",
            "1/1 [==============================] - 0s 27ms/step\n",
            "1/1 [==============================] - 0s 31ms/step\n",
            "1/1 [==============================] - 0s 19ms/step\n",
            "1/1 [==============================] - 0s 11ms/step\n",
            "1/1 [==============================] - 0s 28ms/step\n",
            "1/1 [==============================] - 0s 19ms/step\n",
            "1/1 [==============================] - 0s 17ms/step\n",
            "1/1 [==============================] - 0s 16ms/step\n",
            "1/1 [==============================] - 0s 34ms/step\n",
            "1/1 [==============================] - 0s 27ms/step\n",
            "1/1 [==============================] - 0s 19ms/step\n",
            "1/1 [==============================] - 0s 15ms/step\n",
            "1/1 [==============================] - 0s 20ms/step\n",
            "1/1 [==============================] - 0s 18ms/step\n",
            "1/1 [==============================] - 0s 35ms/step\n",
            "1/1 [==============================] - 0s 23ms/step\n",
            "1/1 [==============================] - 0s 15ms/step\n",
            "1/1 [==============================] - 0s 21ms/step\n",
            "1/1 [==============================] - 0s 10ms/step\n",
            "1/1 [==============================] - 0s 13ms/step\n",
            "1/1 [==============================] - 0s 10ms/step\n",
            "1/1 [==============================] - 0s 25ms/step\n",
            "1/1 [==============================] - 0s 16ms/step\n",
            "1/1 [==============================] - 0s 11ms/step\n",
            "1/1 [==============================] - 0s 18ms/step\n",
            "1/1 [==============================] - 0s 22ms/step\n",
            "1/1 [==============================] - 0s 13ms/step\n",
            "1/1 [==============================] - 0s 21ms/step\n",
            "1/1 [==============================] - 0s 24ms/step\n",
            "1/1 [==============================] - 0s 17ms/step\n",
            "1/1 [==============================] - 0s 14ms/step\n",
            "1/1 [==============================] - 0s 26ms/step\n",
            "1/1 [==============================] - 0s 60ms/step\n",
            "1/1 [==============================] - 0s 23ms/step\n",
            "1/1 [==============================] - 0s 11ms/step\n",
            "1/1 [==============================] - 0s 19ms/step\n",
            "1/1 [==============================] - 0s 20ms/step\n",
            "1/1 [==============================] - 0s 21ms/step\n",
            "1/1 [==============================] - 0s 88ms/step\n",
            "1/1 [==============================] - 0s 20ms/step\n",
            "1/1 [==============================] - 0s 12ms/step\n",
            "1/1 [==============================] - 0s 17ms/step\n",
            "1/1 [==============================] - 0s 23ms/step\n",
            "1/1 [==============================] - 0s 20ms/step\n",
            "1/1 [==============================] - 0s 21ms/step\n",
            "1/1 [==============================] - 0s 13ms/step\n",
            "1/1 [==============================] - 0s 40ms/step\n",
            "1/1 [==============================] - 0s 13ms/step\n",
            "1/1 [==============================] - 0s 42ms/step\n",
            "1/1 [==============================] - 0s 23ms/step\n",
            "1/1 [==============================] - 0s 10ms/step\n",
            "1/1 [==============================] - 0s 14ms/step\n",
            "1/1 [==============================] - 0s 15ms/step\n",
            "1/1 [==============================] - 0s 19ms/step\n",
            "1/1 [==============================] - 0s 15ms/step\n",
            "1/1 [==============================] - 0s 30ms/step\n",
            "1/1 [==============================] - 0s 18ms/step\n",
            "1/1 [==============================] - 0s 32ms/step\n",
            "1/1 [==============================] - 0s 23ms/step\n",
            "1/1 [==============================] - 0s 13ms/step\n",
            "1/1 [==============================] - 0s 22ms/step\n",
            "1/1 [==============================] - 0s 68ms/step\n",
            "1/1 [==============================] - 0s 21ms/step\n",
            "1/1 [==============================] - 0s 12ms/step\n",
            "1/1 [==============================] - 0s 22ms/step\n",
            "1/1 [==============================] - 0s 33ms/step\n",
            "1/1 [==============================] - 0s 15ms/step\n",
            "1/1 [==============================] - 0s 19ms/step\n",
            "1/1 [==============================] - 0s 20ms/step\n",
            "1/1 [==============================] - 0s 11ms/step\n",
            "1/1 [==============================] - 0s 24ms/step\n",
            "1/1 [==============================] - 0s 15ms/step\n",
            "1/1 [==============================] - 0s 20ms/step\n",
            "1/1 [==============================] - 0s 17ms/step\n",
            "1/1 [==============================] - 0s 10ms/step\n",
            "1/1 [==============================] - 0s 12ms/step\n",
            "1/1 [==============================] - 0s 18ms/step\n",
            "1/1 [==============================] - 0s 19ms/step\n",
            "1/1 [==============================] - 0s 38ms/step\n",
            "1/1 [==============================] - 0s 22ms/step\n",
            "1/1 [==============================] - 0s 52ms/step\n",
            "1/1 [==============================] - 0s 18ms/step\n",
            "1/1 [==============================] - 0s 18ms/step\n",
            "1/1 [==============================] - 0s 52ms/step\n",
            "1/1 [==============================] - 0s 20ms/step\n",
            "1/1 [==============================] - 0s 19ms/step\n",
            "1/1 [==============================] - 0s 11ms/step\n",
            "1/1 [==============================] - 0s 16ms/step\n",
            "1/1 [==============================] - 0s 29ms/step\n",
            "1/1 [==============================] - 0s 10ms/step\n",
            "1/1 [==============================] - 0s 10ms/step\n",
            "1/1 [==============================] - 0s 11ms/step\n",
            "1/1 [==============================] - 0s 16ms/step\n",
            "1/1 [==============================] - 0s 18ms/step\n",
            "1/1 [==============================] - 0s 11ms/step\n",
            "1/1 [==============================] - 0s 15ms/step\n",
            "1/1 [==============================] - 0s 29ms/step\n",
            "1/1 [==============================] - 0s 15ms/step\n",
            "1/1 [==============================] - 0s 17ms/step\n",
            "1/1 [==============================] - 0s 22ms/step\n",
            "1/1 [==============================] - 0s 16ms/step\n",
            "1/1 [==============================] - 0s 15ms/step\n",
            "1/1 [==============================] - 0s 16ms/step\n",
            "1/1 [==============================] - 0s 20ms/step\n",
            "1/1 [==============================] - 0s 17ms/step\n",
            "1/1 [==============================] - 0s 11ms/step\n",
            "1/1 [==============================] - 0s 17ms/step\n",
            "1/1 [==============================] - 0s 13ms/step\n",
            "1/1 [==============================] - 0s 20ms/step\n",
            "1/1 [==============================] - 0s 11ms/step\n",
            "\n",
            "Total Predictions: 480\n",
            "Correct Predictions: 420\n",
            "Incorrect Predictions: 60\n"
          ]
        }
      ],
      "source": [
        "predicted_labels_no_augm, true_emotions_no_augm, predicted_probabilities_no_augm = predict_binary_emotions_in_directory(best_model_no_augm, scaler, directory_path)"
      ]
    },
    {
      "cell_type": "code",
      "execution_count": 109,
      "metadata": {},
      "outputs": [],
      "source": [
        "list_values_no_augm = list(zip(true_emotions_no_augm, predicted_labels_no_augm, predicted_probabilities_no_augm))"
      ]
    },
    {
      "cell_type": "code",
      "execution_count": 110,
      "metadata": {},
      "outputs": [
        {
          "data": {
            "text/html": [
              "<div>\n",
              "<style scoped>\n",
              "    .dataframe tbody tr th:only-of-type {\n",
              "        vertical-align: middle;\n",
              "    }\n",
              "\n",
              "    .dataframe tbody tr th {\n",
              "        vertical-align: top;\n",
              "    }\n",
              "\n",
              "    .dataframe thead th {\n",
              "        text-align: right;\n",
              "    }\n",
              "</style>\n",
              "<table border=\"1\" class=\"dataframe\">\n",
              "  <thead>\n",
              "    <tr style=\"text-align: right;\">\n",
              "      <th></th>\n",
              "      <th>label</th>\n",
              "      <th>prediction</th>\n",
              "      <th>probability</th>\n",
              "    </tr>\n",
              "  </thead>\n",
              "  <tbody>\n",
              "    <tr>\n",
              "      <th>0</th>\n",
              "      <td>sad</td>\n",
              "      <td>not angry</td>\n",
              "      <td>0.071663</td>\n",
              "    </tr>\n",
              "    <tr>\n",
              "      <th>1</th>\n",
              "      <td>sad</td>\n",
              "      <td>not angry</td>\n",
              "      <td>0.071663</td>\n",
              "    </tr>\n",
              "    <tr>\n",
              "      <th>2</th>\n",
              "      <td>neutral</td>\n",
              "      <td>not angry</td>\n",
              "      <td>0.071663</td>\n",
              "    </tr>\n",
              "    <tr>\n",
              "      <th>3</th>\n",
              "      <td>surprise</td>\n",
              "      <td>not angry</td>\n",
              "      <td>0.071663</td>\n",
              "    </tr>\n",
              "    <tr>\n",
              "      <th>4</th>\n",
              "      <td>neutral</td>\n",
              "      <td>not angry</td>\n",
              "      <td>0.071663</td>\n",
              "    </tr>\n",
              "  </tbody>\n",
              "</table>\n",
              "</div>"
            ],
            "text/plain": [
              "      label prediction  probability\n",
              "0       sad  not angry     0.071663\n",
              "1       sad  not angry     0.071663\n",
              "2   neutral  not angry     0.071663\n",
              "3  surprise  not angry     0.071663\n",
              "4   neutral  not angry     0.071663"
            ]
          },
          "execution_count": 110,
          "metadata": {},
          "output_type": "execute_result"
        }
      ],
      "source": [
        "df_pred_no_augm = pd.DataFrame(list_values_no_augm, columns=['label', 'prediction', 'probability'])\n",
        "df_pred_no_augm.head()"
      ]
    },
    {
      "cell_type": "code",
      "execution_count": 111,
      "metadata": {},
      "outputs": [],
      "source": [
        "# Assuming df_pred is your DataFrame containing predictions\n",
        "confusion_matrix_no_augm = pd.crosstab(df_pred_no_augm['label'], df_pred_no_augm['prediction'], rownames=['Actual'], colnames=['Predicted'])\n",
        "\n",
        "# Count the correct predictions for each emotion\n",
        "correct_predictions_no_augm = []\n",
        "\n",
        "for label in confusion_matrix_no_augm.index:\n",
        "    try:\n",
        "        correct_predictions_no_augm.append(confusion_matrix_no_augm.loc[label, label])\n",
        "    except KeyError:\n",
        "        correct_predictions_no_augm.append(0)\n",
        "\n",
        "# Add a new column to your DataFrame for correct predictions\n",
        "df_pred_no_augm['correct_predictions'] = np.where(df_pred_no_augm['label'] == df_pred_no_augm['prediction'], 1, 0)\n",
        "\n",
        "# Calculate the total correct predictions for each emotion\n",
        "total_correct_predictions_no_augm = df_pred_no_augm.groupby('label')['correct_predictions'].sum()\n"
      ]
    },
    {
      "cell_type": "code",
      "execution_count": 112,
      "metadata": {},
      "outputs": [
        {
          "data": {
            "text/plain": [
              "label\n",
              "angry       0\n",
              "disgust     0\n",
              "fear        0\n",
              "happy       0\n",
              "neutral     0\n",
              "sad         0\n",
              "surprise    0\n",
              "Name: correct_predictions, dtype: int64"
            ]
          },
          "execution_count": 112,
          "metadata": {},
          "output_type": "execute_result"
        }
      ],
      "source": [
        "total_correct_predictions_no_augm"
      ]
    },
    {
      "attachments": {},
      "cell_type": "markdown",
      "metadata": {},
      "source": [
        "#### Evalution of model without data augmentation"
      ]
    },
    {
      "cell_type": "code",
      "execution_count": 117,
      "metadata": {},
      "outputs": [
        {
          "name": "stdout",
          "output_type": "stream",
          "text": [
            "Test Loss: 0.2453\n",
            "Test Accuracy: 0.9089\n",
            "74/74 [==============================] - 0s 391us/step\n",
            "Confusion Matrix:\n",
            "[[1888   63]\n",
            " [ 150  236]]\n",
            "\n",
            "Classification Report:\n",
            "              precision    recall  f1-score   support\n",
            "\n",
            "           0       0.93      0.97      0.95      1951\n",
            "           1       0.79      0.61      0.69       386\n",
            "\n",
            "    accuracy                           0.91      2337\n",
            "   macro avg       0.86      0.79      0.82      2337\n",
            "weighted avg       0.90      0.91      0.90      2337\n",
            "\n",
            "\n",
            "Accuracy Score: 0.9089\n"
          ]
        },
        {
          "data": {
            "image/png": "[encoded data removed]",
            "text/plain": [
              "<Figure size 400x300 with 2 Axes>"
            ]
          },
          "metadata": {},
          "output_type": "display_data"
        }
      ],
      "source": [
        "evaluate_binary_cnn_model(best_model_no_augm, X_test_no_augm, y_test_no_augm)"
      ]
    },
    {
      "attachments": {},
      "cell_type": "markdown",
      "metadata": {},
      "source": [
        "#### Prediction on data with augmentation"
      ]
    },
    {
      "cell_type": "code",
      "execution_count": 118,
      "metadata": {},
      "outputs": [
        {
          "name": "stdout",
          "output_type": "stream",
          "text": [
            "1/1 [==============================] - 0s 15ms/step\n",
            "1/1 [==============================] - 0s 11ms/step\n",
            "1/1 [==============================] - 0s 19ms/step\n",
            "1/1 [==============================] - 0s 12ms/step\n",
            "1/1 [==============================] - 0s 28ms/step\n",
            "1/1 [==============================] - 0s 19ms/step\n",
            "1/1 [==============================] - 0s 15ms/step\n",
            "1/1 [==============================] - 0s 12ms/step\n",
            "1/1 [==============================] - 0s 11ms/step\n",
            "1/1 [==============================] - 0s 11ms/step\n",
            "1/1 [==============================] - 0s 14ms/step\n",
            "1/1 [==============================] - 0s 42ms/step\n",
            "1/1 [==============================] - 0s 25ms/step\n",
            "1/1 [==============================] - 0s 28ms/step\n",
            "1/1 [==============================] - 0s 21ms/step\n",
            "1/1 [==============================] - 0s 14ms/step\n",
            "1/1 [==============================] - 0s 15ms/step\n",
            "1/1 [==============================] - 0s 15ms/step\n",
            "1/1 [==============================] - 0s 14ms/step\n",
            "1/1 [==============================] - 0s 89ms/step\n",
            "1/1 [==============================] - 0s 23ms/step\n",
            "1/1 [==============================] - 0s 16ms/step\n",
            "1/1 [==============================] - 0s 28ms/step\n",
            "1/1 [==============================] - 0s 56ms/step\n",
            "1/1 [==============================] - 0s 10ms/step\n",
            "1/1 [==============================] - 0s 14ms/step\n",
            "1/1 [==============================] - 0s 40ms/step\n",
            "1/1 [==============================] - 0s 11ms/step\n",
            "1/1 [==============================] - 0s 11ms/step\n",
            "1/1 [==============================] - 0s 14ms/step\n",
            "1/1 [==============================] - 0s 13ms/step\n",
            "1/1 [==============================] - 0s 11ms/step\n",
            "1/1 [==============================] - 0s 15ms/step\n",
            "1/1 [==============================] - 0s 16ms/step\n",
            "1/1 [==============================] - 0s 11ms/step\n",
            "1/1 [==============================] - 0s 16ms/step\n",
            "1/1 [==============================] - 0s 13ms/step\n",
            "1/1 [==============================] - 0s 10ms/step\n",
            "1/1 [==============================] - 0s 10ms/step\n",
            "1/1 [==============================] - 0s 12ms/step\n",
            "1/1 [==============================] - 0s 12ms/step\n",
            "1/1 [==============================] - 0s 20ms/step\n",
            "1/1 [==============================] - 0s 11ms/step\n",
            "1/1 [==============================] - 0s 11ms/step\n",
            "1/1 [==============================] - 0s 17ms/step\n",
            "1/1 [==============================] - 0s 13ms/step\n",
            "1/1 [==============================] - 0s 10ms/step\n",
            "1/1 [==============================] - 0s 12ms/step\n",
            "1/1 [==============================] - 0s 18ms/step\n",
            "1/1 [==============================] - 0s 14ms/step\n",
            "1/1 [==============================] - 0s 20ms/step\n",
            "1/1 [==============================] - 0s 21ms/step\n",
            "1/1 [==============================] - 0s 15ms/step\n",
            "1/1 [==============================] - 0s 35ms/step\n",
            "1/1 [==============================] - 0s 10ms/step\n",
            "1/1 [==============================] - 0s 13ms/step\n",
            "1/1 [==============================] - 0s 25ms/step\n",
            "1/1 [==============================] - 0s 13ms/step\n",
            "1/1 [==============================] - 0s 18ms/step\n",
            "1/1 [==============================] - 0s 11ms/step\n",
            "1/1 [==============================] - 0s 10ms/step\n",
            "1/1 [==============================] - 0s 13ms/step\n",
            "1/1 [==============================] - 0s 11ms/step\n",
            "1/1 [==============================] - 0s 13ms/step\n",
            "1/1 [==============================] - 0s 14ms/step\n",
            "1/1 [==============================] - 0s 16ms/step\n",
            "1/1 [==============================] - 0s 21ms/step\n",
            "1/1 [==============================] - 0s 22ms/step\n",
            "1/1 [==============================] - 0s 13ms/step\n",
            "1/1 [==============================] - 0s 90ms/step\n",
            "1/1 [==============================] - 0s 19ms/step\n",
            "1/1 [==============================] - 0s 20ms/step\n",
            "1/1 [==============================] - 0s 13ms/step\n",
            "1/1 [==============================] - 0s 17ms/step\n",
            "1/1 [==============================] - 0s 20ms/step\n",
            "1/1 [==============================] - 0s 28ms/step\n",
            "1/1 [==============================] - 0s 29ms/step\n",
            "1/1 [==============================] - 0s 12ms/step\n",
            "1/1 [==============================] - 0s 16ms/step\n",
            "1/1 [==============================] - 0s 21ms/step\n",
            "1/1 [==============================] - 0s 18ms/step\n",
            "1/1 [==============================] - 0s 27ms/step\n",
            "1/1 [==============================] - 0s 17ms/step\n",
            "1/1 [==============================] - 0s 16ms/step\n",
            "1/1 [==============================] - 0s 15ms/step\n",
            "1/1 [==============================] - 0s 34ms/step\n",
            "1/1 [==============================] - 0s 19ms/step\n",
            "1/1 [==============================] - 0s 15ms/step\n",
            "1/1 [==============================] - 0s 64ms/step\n",
            "1/1 [==============================] - 0s 13ms/step\n",
            "1/1 [==============================] - 0s 18ms/step\n",
            "1/1 [==============================] - 0s 17ms/step\n",
            "1/1 [==============================] - 0s 24ms/step\n",
            "1/1 [==============================] - 0s 29ms/step\n",
            "1/1 [==============================] - 0s 11ms/step\n",
            "1/1 [==============================] - 0s 16ms/step\n",
            "1/1 [==============================] - 0s 24ms/step\n",
            "1/1 [==============================] - 0s 26ms/step\n",
            "1/1 [==============================] - 0s 19ms/step\n",
            "1/1 [==============================] - 0s 18ms/step\n",
            "1/1 [==============================] - 0s 38ms/step\n",
            "1/1 [==============================] - 0s 11ms/step\n",
            "1/1 [==============================] - 0s 10ms/step\n",
            "1/1 [==============================] - 0s 15ms/step\n",
            "1/1 [==============================] - 0s 20ms/step\n",
            "1/1 [==============================] - 0s 15ms/step\n",
            "1/1 [==============================] - 0s 11ms/step\n",
            "1/1 [==============================] - 0s 12ms/step\n",
            "1/1 [==============================] - 0s 18ms/step\n",
            "1/1 [==============================] - 0s 17ms/step\n",
            "1/1 [==============================] - 0s 12ms/step\n",
            "1/1 [==============================] - 0s 11ms/step\n",
            "1/1 [==============================] - 0s 10ms/step\n",
            "1/1 [==============================] - 0s 18ms/step\n",
            "1/1 [==============================] - 0s 15ms/step\n",
            "1/1 [==============================] - 0s 12ms/step\n",
            "1/1 [==============================] - 0s 10ms/step\n",
            "1/1 [==============================] - 0s 14ms/step\n",
            "1/1 [==============================] - 0s 19ms/step\n",
            "1/1 [==============================] - 0s 13ms/step\n",
            "1/1 [==============================] - 0s 11ms/step\n",
            "1/1 [==============================] - 0s 11ms/step\n",
            "1/1 [==============================] - 0s 22ms/step\n",
            "1/1 [==============================] - 0s 17ms/step\n",
            "1/1 [==============================] - 0s 17ms/step\n",
            "1/1 [==============================] - 0s 11ms/step\n",
            "1/1 [==============================] - 0s 10ms/step\n",
            "1/1 [==============================] - 0s 16ms/step\n",
            "1/1 [==============================] - 0s 17ms/step\n",
            "1/1 [==============================] - 0s 43ms/step\n",
            "1/1 [==============================] - 0s 19ms/step\n",
            "1/1 [==============================] - 0s 37ms/step\n",
            "1/1 [==============================] - 0s 23ms/step\n",
            "1/1 [==============================] - 0s 19ms/step\n",
            "1/1 [==============================] - 0s 31ms/step\n",
            "1/1 [==============================] - 0s 18ms/step\n",
            "1/1 [==============================] - 0s 11ms/step\n",
            "1/1 [==============================] - 0s 17ms/step\n",
            "1/1 [==============================] - 0s 42ms/step\n",
            "1/1 [==============================] - 0s 17ms/step\n",
            "1/1 [==============================] - 0s 18ms/step\n",
            "1/1 [==============================] - 0s 16ms/step\n",
            "1/1 [==============================] - 0s 19ms/step\n",
            "1/1 [==============================] - 0s 15ms/step\n",
            "1/1 [==============================] - 0s 13ms/step\n",
            "1/1 [==============================] - 0s 19ms/step\n",
            "1/1 [==============================] - 0s 16ms/step\n",
            "1/1 [==============================] - 0s 10ms/step\n",
            "1/1 [==============================] - 0s 20ms/step\n",
            "1/1 [==============================] - 0s 11ms/step\n",
            "1/1 [==============================] - 0s 15ms/step\n",
            "1/1 [==============================] - 0s 24ms/step\n",
            "1/1 [==============================] - 0s 21ms/step\n",
            "1/1 [==============================] - 0s 15ms/step\n",
            "1/1 [==============================] - 0s 11ms/step\n",
            "1/1 [==============================] - 0s 11ms/step\n",
            "1/1 [==============================] - 0s 10ms/step\n",
            "1/1 [==============================] - 0s 20ms/step\n",
            "1/1 [==============================] - 0s 13ms/step\n",
            "1/1 [==============================] - 0s 15ms/step\n",
            "1/1 [==============================] - 0s 17ms/step\n",
            "1/1 [==============================] - 0s 11ms/step\n",
            "1/1 [==============================] - 0s 11ms/step\n",
            "1/1 [==============================] - 0s 15ms/step\n",
            "1/1 [==============================] - 0s 10ms/step\n",
            "1/1 [==============================] - 0s 15ms/step\n",
            "1/1 [==============================] - 0s 19ms/step\n",
            "1/1 [==============================] - 0s 11ms/step\n",
            "1/1 [==============================] - 0s 17ms/step\n",
            "1/1 [==============================] - 0s 15ms/step\n",
            "1/1 [==============================] - 0s 15ms/step\n",
            "1/1 [==============================] - 0s 12ms/step\n",
            "1/1 [==============================] - 0s 10ms/step\n",
            "1/1 [==============================] - 0s 11ms/step\n",
            "1/1 [==============================] - 0s 24ms/step\n",
            "1/1 [==============================] - 0s 11ms/step\n",
            "1/1 [==============================] - 0s 11ms/step\n",
            "1/1 [==============================] - 0s 12ms/step\n",
            "1/1 [==============================] - 0s 12ms/step\n",
            "1/1 [==============================] - 0s 17ms/step\n",
            "1/1 [==============================] - 0s 11ms/step\n",
            "1/1 [==============================] - 0s 10ms/step\n",
            "1/1 [==============================] - 0s 16ms/step\n",
            "1/1 [==============================] - 0s 10ms/step\n",
            "1/1 [==============================] - 0s 34ms/step\n",
            "1/1 [==============================] - 0s 11ms/step\n",
            "1/1 [==============================] - 0s 18ms/step\n",
            "1/1 [==============================] - 0s 16ms/step\n",
            "1/1 [==============================] - 0s 17ms/step\n",
            "1/1 [==============================] - 0s 13ms/step\n",
            "1/1 [==============================] - 0s 19ms/step\n",
            "1/1 [==============================] - 0s 11ms/step\n",
            "1/1 [==============================] - 0s 10ms/step\n",
            "1/1 [==============================] - 0s 24ms/step\n",
            "1/1 [==============================] - 0s 14ms/step\n",
            "1/1 [==============================] - 0s 12ms/step\n",
            "1/1 [==============================] - 0s 17ms/step\n",
            "1/1 [==============================] - 0s 13ms/step\n",
            "1/1 [==============================] - 0s 18ms/step\n",
            "1/1 [==============================] - 0s 19ms/step\n",
            "1/1 [==============================] - 0s 22ms/step\n",
            "1/1 [==============================] - 0s 38ms/step\n",
            "1/1 [==============================] - 0s 12ms/step\n",
            "1/1 [==============================] - 0s 19ms/step\n",
            "1/1 [==============================] - 0s 13ms/step\n",
            "1/1 [==============================] - 0s 22ms/step\n",
            "1/1 [==============================] - 0s 15ms/step\n",
            "1/1 [==============================] - 0s 11ms/step\n",
            "1/1 [==============================] - 0s 13ms/step\n",
            "1/1 [==============================] - 0s 28ms/step\n",
            "1/1 [==============================] - 0s 16ms/step\n",
            "1/1 [==============================] - 0s 13ms/step\n",
            "1/1 [==============================] - 0s 10ms/step\n",
            "1/1 [==============================] - 0s 18ms/step\n",
            "1/1 [==============================] - 0s 11ms/step\n",
            "1/1 [==============================] - 0s 23ms/step\n",
            "1/1 [==============================] - 0s 31ms/step\n",
            "1/1 [==============================] - 0s 17ms/step\n",
            "1/1 [==============================] - 0s 20ms/step\n",
            "1/1 [==============================] - 0s 14ms/step\n",
            "1/1 [==============================] - 0s 11ms/step\n",
            "1/1 [==============================] - 0s 11ms/step\n",
            "1/1 [==============================] - 0s 13ms/step\n",
            "1/1 [==============================] - 0s 11ms/step\n",
            "1/1 [==============================] - 0s 20ms/step\n",
            "1/1 [==============================] - 0s 16ms/step\n",
            "1/1 [==============================] - 0s 10ms/step\n",
            "1/1 [==============================] - 0s 12ms/step\n",
            "1/1 [==============================] - 0s 23ms/step\n",
            "1/1 [==============================] - 0s 12ms/step\n",
            "1/1 [==============================] - 0s 12ms/step\n",
            "1/1 [==============================] - 0s 19ms/step\n",
            "1/1 [==============================] - 0s 20ms/step\n",
            "1/1 [==============================] - 0s 17ms/step\n",
            "1/1 [==============================] - 0s 23ms/step\n",
            "1/1 [==============================] - 0s 11ms/step\n",
            "1/1 [==============================] - 0s 11ms/step\n",
            "1/1 [==============================] - 0s 14ms/step\n",
            "1/1 [==============================] - 0s 15ms/step\n",
            "1/1 [==============================] - 0s 17ms/step\n",
            "1/1 [==============================] - 0s 11ms/step\n",
            "1/1 [==============================] - 0s 11ms/step\n",
            "1/1 [==============================] - 0s 11ms/step\n",
            "1/1 [==============================] - 0s 13ms/step\n",
            "1/1 [==============================] - 0s 11ms/step\n",
            "1/1 [==============================] - 0s 16ms/step\n",
            "1/1 [==============================] - 0s 17ms/step\n",
            "1/1 [==============================] - 0s 13ms/step\n",
            "1/1 [==============================] - 0s 16ms/step\n",
            "1/1 [==============================] - 0s 10ms/step\n",
            "1/1 [==============================] - 0s 11ms/step\n",
            "1/1 [==============================] - 0s 29ms/step\n",
            "1/1 [==============================] - 0s 21ms/step\n",
            "1/1 [==============================] - 0s 14ms/step\n",
            "1/1 [==============================] - 0s 18ms/step\n",
            "1/1 [==============================] - 0s 22ms/step\n",
            "1/1 [==============================] - 0s 10ms/step\n",
            "1/1 [==============================] - 0s 46ms/step\n",
            "1/1 [==============================] - 0s 10ms/step\n",
            "1/1 [==============================] - 0s 13ms/step\n",
            "1/1 [==============================] - 0s 22ms/step\n",
            "1/1 [==============================] - 0s 28ms/step\n",
            "1/1 [==============================] - 0s 14ms/step\n",
            "1/1 [==============================] - 0s 19ms/step\n",
            "1/1 [==============================] - 0s 24ms/step\n",
            "1/1 [==============================] - 0s 17ms/step\n",
            "1/1 [==============================] - 0s 11ms/step\n",
            "1/1 [==============================] - 0s 23ms/step\n",
            "1/1 [==============================] - 0s 21ms/step\n",
            "1/1 [==============================] - 0s 17ms/step\n",
            "1/1 [==============================] - 0s 15ms/step\n",
            "1/1 [==============================] - 0s 13ms/step\n",
            "1/1 [==============================] - 0s 13ms/step\n",
            "1/1 [==============================] - 0s 11ms/step\n",
            "1/1 [==============================] - 0s 23ms/step\n",
            "1/1 [==============================] - 0s 19ms/step\n",
            "1/1 [==============================] - 0s 29ms/step\n",
            "1/1 [==============================] - 0s 24ms/step\n",
            "1/1 [==============================] - 0s 24ms/step\n",
            "1/1 [==============================] - 0s 12ms/step\n",
            "1/1 [==============================] - 0s 13ms/step\n",
            "1/1 [==============================] - 0s 10ms/step\n",
            "1/1 [==============================] - 0s 18ms/step\n",
            "1/1 [==============================] - 0s 24ms/step\n",
            "1/1 [==============================] - 0s 22ms/step\n",
            "1/1 [==============================] - 0s 11ms/step\n",
            "1/1 [==============================] - 0s 13ms/step\n",
            "1/1 [==============================] - 0s 15ms/step\n",
            "1/1 [==============================] - 0s 10ms/step\n",
            "1/1 [==============================] - 0s 20ms/step\n",
            "1/1 [==============================] - 0s 22ms/step\n",
            "1/1 [==============================] - 0s 11ms/step\n",
            "1/1 [==============================] - 0s 10ms/step\n",
            "1/1 [==============================] - 0s 11ms/step\n",
            "1/1 [==============================] - 0s 11ms/step\n",
            "1/1 [==============================] - 0s 34ms/step\n",
            "1/1 [==============================] - 0s 17ms/step\n",
            "1/1 [==============================] - 0s 10ms/step\n",
            "1/1 [==============================] - 0s 11ms/step\n",
            "1/1 [==============================] - 0s 17ms/step\n",
            "1/1 [==============================] - 0s 21ms/step\n",
            "1/1 [==============================] - 0s 10ms/step\n",
            "1/1 [==============================] - 0s 20ms/step\n",
            "1/1 [==============================] - 0s 17ms/step\n",
            "1/1 [==============================] - 0s 31ms/step\n",
            "1/1 [==============================] - 0s 22ms/step\n",
            "1/1 [==============================] - 0s 18ms/step\n",
            "1/1 [==============================] - 0s 27ms/step\n",
            "1/1 [==============================] - 0s 18ms/step\n",
            "1/1 [==============================] - 0s 14ms/step\n",
            "1/1 [==============================] - 0s 10ms/step\n",
            "1/1 [==============================] - 0s 18ms/step\n",
            "1/1 [==============================] - 0s 45ms/step\n",
            "1/1 [==============================] - 0s 27ms/step\n",
            "1/1 [==============================] - 0s 26ms/step\n",
            "1/1 [==============================] - 0s 16ms/step\n",
            "1/1 [==============================] - 0s 20ms/step\n",
            "1/1 [==============================] - 0s 19ms/step\n",
            "1/1 [==============================] - 0s 16ms/step\n",
            "1/1 [==============================] - 0s 26ms/step\n",
            "1/1 [==============================] - 0s 18ms/step\n",
            "1/1 [==============================] - 0s 21ms/step\n",
            "1/1 [==============================] - 0s 18ms/step\n",
            "1/1 [==============================] - 0s 15ms/step\n",
            "1/1 [==============================] - 0s 11ms/step\n",
            "1/1 [==============================] - 0s 27ms/step\n",
            "1/1 [==============================] - 0s 10ms/step\n",
            "1/1 [==============================] - 0s 13ms/step\n",
            "1/1 [==============================] - 0s 15ms/step\n",
            "1/1 [==============================] - 0s 15ms/step\n",
            "1/1 [==============================] - 0s 21ms/step\n",
            "1/1 [==============================] - 0s 11ms/step\n",
            "1/1 [==============================] - 0s 18ms/step\n",
            "1/1 [==============================] - 0s 15ms/step\n",
            "1/1 [==============================] - 0s 17ms/step\n",
            "1/1 [==============================] - 0s 19ms/step\n",
            "1/1 [==============================] - 0s 14ms/step\n",
            "1/1 [==============================] - 0s 10ms/step\n",
            "1/1 [==============================] - 0s 23ms/step\n",
            "1/1 [==============================] - 0s 24ms/step\n",
            "1/1 [==============================] - 0s 12ms/step\n",
            "1/1 [==============================] - 0s 11ms/step\n",
            "1/1 [==============================] - 0s 30ms/step\n",
            "1/1 [==============================] - 0s 15ms/step\n",
            "1/1 [==============================] - 0s 10ms/step\n",
            "1/1 [==============================] - 0s 10ms/step\n",
            "1/1 [==============================] - 0s 19ms/step\n",
            "1/1 [==============================] - 0s 14ms/step\n",
            "1/1 [==============================] - 0s 10ms/step\n",
            "1/1 [==============================] - 0s 10ms/step\n",
            "1/1 [==============================] - 0s 15ms/step\n",
            "1/1 [==============================] - 0s 32ms/step\n",
            "1/1 [==============================] - 0s 10ms/step\n",
            "1/1 [==============================] - 0s 13ms/step\n",
            "1/1 [==============================] - 0s 14ms/step\n",
            "1/1 [==============================] - 0s 23ms/step\n",
            "1/1 [==============================] - 0s 13ms/step\n",
            "1/1 [==============================] - 0s 18ms/step\n",
            "1/1 [==============================] - 0s 15ms/step\n",
            "1/1 [==============================] - 0s 10ms/step\n",
            "1/1 [==============================] - 0s 10ms/step\n",
            "1/1 [==============================] - 0s 13ms/step\n",
            "1/1 [==============================] - 0s 17ms/step\n",
            "1/1 [==============================] - 0s 30ms/step\n",
            "1/1 [==============================] - 0s 16ms/step\n",
            "1/1 [==============================] - 0s 20ms/step\n",
            "1/1 [==============================] - 0s 11ms/step\n",
            "1/1 [==============================] - 0s 11ms/step\n",
            "1/1 [==============================] - 0s 36ms/step\n",
            "1/1 [==============================] - 0s 20ms/step\n",
            "1/1 [==============================] - 0s 18ms/step\n",
            "1/1 [==============================] - 0s 11ms/step\n",
            "1/1 [==============================] - 0s 15ms/step\n",
            "1/1 [==============================] - 0s 20ms/step\n",
            "1/1 [==============================] - 0s 11ms/step\n",
            "1/1 [==============================] - 0s 13ms/step\n",
            "1/1 [==============================] - 0s 21ms/step\n",
            "1/1 [==============================] - 0s 13ms/step\n",
            "1/1 [==============================] - 0s 18ms/step\n",
            "1/1 [==============================] - 0s 11ms/step\n",
            "1/1 [==============================] - 0s 19ms/step\n",
            "1/1 [==============================] - 0s 20ms/step\n",
            "1/1 [==============================] - 0s 15ms/step\n",
            "1/1 [==============================] - 0s 18ms/step\n",
            "1/1 [==============================] - 0s 15ms/step\n",
            "1/1 [==============================] - 0s 15ms/step\n",
            "1/1 [==============================] - 0s 10ms/step\n",
            "1/1 [==============================] - 0s 13ms/step\n",
            "1/1 [==============================] - 0s 20ms/step\n",
            "1/1 [==============================] - 0s 21ms/step\n",
            "1/1 [==============================] - 0s 12ms/step\n",
            "1/1 [==============================] - 0s 11ms/step\n",
            "1/1 [==============================] - 0s 13ms/step\n",
            "1/1 [==============================] - 0s 15ms/step\n",
            "1/1 [==============================] - 0s 10ms/step\n",
            "1/1 [==============================] - 0s 18ms/step\n",
            "1/1 [==============================] - 0s 11ms/step\n",
            "1/1 [==============================] - 0s 20ms/step\n",
            "1/1 [==============================] - 0s 23ms/step\n",
            "1/1 [==============================] - 0s 11ms/step\n",
            "1/1 [==============================] - 0s 13ms/step\n",
            "1/1 [==============================] - 0s 13ms/step\n",
            "1/1 [==============================] - 0s 11ms/step\n",
            "1/1 [==============================] - 0s 16ms/step\n",
            "1/1 [==============================] - 0s 13ms/step\n",
            "1/1 [==============================] - 0s 10ms/step\n",
            "1/1 [==============================] - 0s 18ms/step\n",
            "1/1 [==============================] - 0s 31ms/step\n",
            "1/1 [==============================] - 0s 10ms/step\n",
            "1/1 [==============================] - 0s 15ms/step\n",
            "1/1 [==============================] - 0s 19ms/step\n",
            "1/1 [==============================] - 0s 11ms/step\n",
            "1/1 [==============================] - 0s 23ms/step\n",
            "1/1 [==============================] - 0s 11ms/step\n",
            "1/1 [==============================] - 0s 11ms/step\n",
            "1/1 [==============================] - 0s 13ms/step\n",
            "1/1 [==============================] - 0s 36ms/step\n",
            "1/1 [==============================] - 0s 12ms/step\n",
            "1/1 [==============================] - 0s 19ms/step\n",
            "1/1 [==============================] - 0s 15ms/step\n",
            "1/1 [==============================] - 0s 15ms/step\n",
            "1/1 [==============================] - 0s 13ms/step\n",
            "1/1 [==============================] - 0s 28ms/step\n",
            "1/1 [==============================] - 0s 25ms/step\n",
            "1/1 [==============================] - 0s 19ms/step\n",
            "1/1 [==============================] - 0s 25ms/step\n",
            "1/1 [==============================] - 0s 20ms/step\n",
            "1/1 [==============================] - 0s 17ms/step\n",
            "1/1 [==============================] - 0s 24ms/step\n",
            "1/1 [==============================] - 0s 17ms/step\n",
            "1/1 [==============================] - 0s 14ms/step\n",
            "1/1 [==============================] - 0s 16ms/step\n",
            "1/1 [==============================] - 0s 11ms/step\n",
            "1/1 [==============================] - 0s 13ms/step\n",
            "1/1 [==============================] - 0s 13ms/step\n",
            "1/1 [==============================] - 0s 22ms/step\n",
            "1/1 [==============================] - 0s 15ms/step\n",
            "1/1 [==============================] - 0s 37ms/step\n",
            "1/1 [==============================] - 0s 16ms/step\n",
            "1/1 [==============================] - 0s 12ms/step\n",
            "1/1 [==============================] - 0s 12ms/step\n",
            "1/1 [==============================] - 0s 15ms/step\n",
            "1/1 [==============================] - 0s 23ms/step\n",
            "1/1 [==============================] - 0s 14ms/step\n",
            "1/1 [==============================] - 0s 15ms/step\n",
            "1/1 [==============================] - 0s 10ms/step\n",
            "1/1 [==============================] - 0s 10ms/step\n",
            "1/1 [==============================] - 0s 11ms/step\n",
            "1/1 [==============================] - 0s 13ms/step\n",
            "1/1 [==============================] - 0s 10ms/step\n",
            "1/1 [==============================] - 0s 65ms/step\n",
            "1/1 [==============================] - 0s 12ms/step\n",
            "1/1 [==============================] - 0s 22ms/step\n",
            "1/1 [==============================] - 0s 33ms/step\n",
            "1/1 [==============================] - 0s 11ms/step\n",
            "1/1 [==============================] - 0s 24ms/step\n",
            "1/1 [==============================] - 0s 14ms/step\n",
            "1/1 [==============================] - 0s 19ms/step\n",
            "1/1 [==============================] - 0s 20ms/step\n",
            "1/1 [==============================] - 0s 25ms/step\n",
            "1/1 [==============================] - 0s 19ms/step\n",
            "1/1 [==============================] - 0s 27ms/step\n",
            "1/1 [==============================] - 0s 21ms/step\n",
            "1/1 [==============================] - 0s 13ms/step\n",
            "1/1 [==============================] - 0s 26ms/step\n",
            "1/1 [==============================] - 0s 11ms/step\n",
            "1/1 [==============================] - 0s 15ms/step\n",
            "1/1 [==============================] - 0s 29ms/step\n",
            "1/1 [==============================] - 0s 13ms/step\n",
            "1/1 [==============================] - 0s 12ms/step\n",
            "1/1 [==============================] - 0s 27ms/step\n",
            "1/1 [==============================] - 0s 21ms/step\n",
            "1/1 [==============================] - 0s 19ms/step\n",
            "1/1 [==============================] - 0s 21ms/step\n",
            "1/1 [==============================] - 0s 17ms/step\n",
            "1/1 [==============================] - 0s 11ms/step\n",
            "1/1 [==============================] - 0s 12ms/step\n",
            "1/1 [==============================] - 0s 17ms/step\n",
            "1/1 [==============================] - 0s 14ms/step\n",
            "1/1 [==============================] - 0s 20ms/step\n",
            "\n",
            "Total Predictions: 480\n",
            "Correct Predictions: 60\n",
            "Incorrect Predictions: 420\n"
          ]
        }
      ],
      "source": [
        "predicted_labels_with_augm, true_emotions_with_augm, predicted_probabilities_with_augm = predict_binary_emotions_in_directory(best_model_with_augm, scaler, directory_path)"
      ]
    },
    {
      "cell_type": "code",
      "execution_count": 119,
      "metadata": {},
      "outputs": [],
      "source": [
        "list_values_with_augm = list(zip(true_emotions_with_augm, predicted_labels_with_augm, predicted_probabilities_with_augm))"
      ]
    },
    {
      "cell_type": "code",
      "execution_count": 120,
      "metadata": {},
      "outputs": [
        {
          "data": {
            "text/html": [
              "<div>\n",
              "<style scoped>\n",
              "    .dataframe tbody tr th:only-of-type {\n",
              "        vertical-align: middle;\n",
              "    }\n",
              "\n",
              "    .dataframe tbody tr th {\n",
              "        vertical-align: top;\n",
              "    }\n",
              "\n",
              "    .dataframe thead th {\n",
              "        text-align: right;\n",
              "    }\n",
              "</style>\n",
              "<table border=\"1\" class=\"dataframe\">\n",
              "  <thead>\n",
              "    <tr style=\"text-align: right;\">\n",
              "      <th></th>\n",
              "      <th>label</th>\n",
              "      <th>prediction</th>\n",
              "      <th>probability</th>\n",
              "    </tr>\n",
              "  </thead>\n",
              "  <tbody>\n",
              "    <tr>\n",
              "      <th>0</th>\n",
              "      <td>sad</td>\n",
              "      <td>angry</td>\n",
              "      <td>0.978893</td>\n",
              "    </tr>\n",
              "    <tr>\n",
              "      <th>1</th>\n",
              "      <td>sad</td>\n",
              "      <td>angry</td>\n",
              "      <td>0.978893</td>\n",
              "    </tr>\n",
              "    <tr>\n",
              "      <th>2</th>\n",
              "      <td>neutral</td>\n",
              "      <td>angry</td>\n",
              "      <td>0.978893</td>\n",
              "    </tr>\n",
              "    <tr>\n",
              "      <th>3</th>\n",
              "      <td>surprise</td>\n",
              "      <td>angry</td>\n",
              "      <td>0.978893</td>\n",
              "    </tr>\n",
              "    <tr>\n",
              "      <th>4</th>\n",
              "      <td>neutral</td>\n",
              "      <td>angry</td>\n",
              "      <td>0.978893</td>\n",
              "    </tr>\n",
              "  </tbody>\n",
              "</table>\n",
              "</div>"
            ],
            "text/plain": [
              "      label prediction  probability\n",
              "0       sad      angry     0.978893\n",
              "1       sad      angry     0.978893\n",
              "2   neutral      angry     0.978893\n",
              "3  surprise      angry     0.978893\n",
              "4   neutral      angry     0.978893"
            ]
          },
          "execution_count": 120,
          "metadata": {},
          "output_type": "execute_result"
        }
      ],
      "source": [
        "df_pred_with_augm = pd.DataFrame(list_values_with_augm, columns=['label', 'prediction', 'probability'])\n",
        "df_pred_with_augm.head()"
      ]
    },
    {
      "cell_type": "code",
      "execution_count": 121,
      "metadata": {},
      "outputs": [],
      "source": [
        "# Assuming df_pred is your DataFrame containing predictions\n",
        "confusion_matrix_with_augm = pd.crosstab(df_pred_with_augm['label'], df_pred_with_augm['prediction'], rownames=['Actual'], colnames=['Predicted'])\n",
        "\n",
        "# Count the correct predictions for each emotion\n",
        "correct_predictions_with_augm = []\n",
        "\n",
        "for label in confusion_matrix_with_augm.index:\n",
        "    try:\n",
        "        correct_predictions_with_augm.append(confusion_matrix_with_augm.loc[label, label])\n",
        "    except KeyError:\n",
        "        correct_predictions_with_augm.append(0)\n",
        "\n",
        "# Add a new column to your DataFrame for correct predictions\n",
        "df_pred_with_augm['correct_predictions'] = np.where(df_pred_with_augm['label'] == df_pred_with_augm['prediction'], 1, 0)\n",
        "\n",
        "# Calculate the total correct predictions for each emotion\n",
        "total_correct_predictions_with_augm = df_pred_with_augm.groupby('label')['correct_predictions'].sum()\n"
      ]
    },
    {
      "cell_type": "code",
      "execution_count": 122,
      "metadata": {},
      "outputs": [
        {
          "data": {
            "text/plain": [
              "label\n",
              "angry       60\n",
              "disgust      0\n",
              "fear         0\n",
              "happy        0\n",
              "neutral      0\n",
              "sad          0\n",
              "surprise     0\n",
              "Name: correct_predictions, dtype: int64"
            ]
          },
          "execution_count": 122,
          "metadata": {},
          "output_type": "execute_result"
        }
      ],
      "source": [
        "total_correct_predictions_with_augm"
      ]
    }
  ],
  "metadata": {
    "colab": {
      "provenance": []
    },
    "kernelspec": {
      "display_name": "Python 3",
      "name": "python3"
    },
    "language_info": {
      "codemirror_mode": {
        "name": "ipython",
        "version": 3
      },
      "file_extension": ".py",
      "mimetype": "text/x-python",
      "name": "python",
      "nbconvert_exporter": "python",
      "pygments_lexer": "ipython3",
      "version": "3.10.6"
    }
  },
  "nbformat": 4,
  "nbformat_minor": 0
}
