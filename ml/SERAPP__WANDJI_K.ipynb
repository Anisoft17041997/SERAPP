{
  "cells": [
    {
      "cell_type": "markdown",
      "metadata": {},
      "source": [
        "## Entrainement de nos modèles sur la base RAVDESS"
      ]
    },
    {
      "cell_type": "code",
      "execution_count": 1,
      "metadata": {
        "colab": {
          "base_uri": "https://localhost:8080/"
        },
        "id": "1mjK3RZOXeDm",
        "outputId": "af080fa8-d1e6-4bc7-ef97-3d32b06dc946"
      },
      "outputs": [
        {
          "name": "stdout",
          "output_type": "stream",
          "text": [
            "Defaulting to user installation because normal site-packages is not writeable\n",
            "Collecting pymrmr\n",
            "  Using cached pymrmr-0.1.11.tar.gz (69 kB)\n",
            "  Preparing metadata (setup.py) ... \u001b[?25ldone\n",
            "\u001b[?25hRequirement already satisfied: numpy>=1.19.5 in /Users/frederique/Library/Python/3.9/lib/python/site-packages (from pymrmr) (1.23.5)\n",
            "Building wheels for collected packages: pymrmr\n",
            "  Building wheel for pymrmr (setup.py) ... \u001b[?25lerror\n",
            "  \u001b[1;31merror\u001b[0m: \u001b[1msubprocess-exited-with-error\u001b[0m\n",
            "  \n",
            "  \u001b[31m×\u001b[0m \u001b[32mpython setup.py bdist_wheel\u001b[0m did not run successfully.\n",
            "  \u001b[31m│\u001b[0m exit code: \u001b[1;36m1\u001b[0m\n",
            "  \u001b[31m╰─>\u001b[0m \u001b[31m[39 lines of output]\u001b[0m\n",
            "  \u001b[31m   \u001b[0m running bdist_wheel\n",
            "  \u001b[31m   \u001b[0m running build\n",
            "  \u001b[31m   \u001b[0m running build_py\n",
            "  \u001b[31m   \u001b[0m package init file 'pymrmr/__init__.py' not found (or not a regular file)\n",
            "  \u001b[31m   \u001b[0m running egg_info\n",
            "  \u001b[31m   \u001b[0m writing pymrmr.egg-info/PKG-INFO\n",
            "  \u001b[31m   \u001b[0m writing dependency_links to pymrmr.egg-info/dependency_links.txt\n",
            "  \u001b[31m   \u001b[0m writing requirements to pymrmr.egg-info/requires.txt\n",
            "  \u001b[31m   \u001b[0m writing top-level names to pymrmr.egg-info/top_level.txt\n",
            "  \u001b[31m   \u001b[0m reading manifest file 'pymrmr.egg-info/SOURCES.txt'\n",
            "  \u001b[31m   \u001b[0m reading manifest template 'MANIFEST.in'\n",
            "  \u001b[31m   \u001b[0m warning: no previously-included files matching '__pycache__' found under directory '*'\n",
            "  \u001b[31m   \u001b[0m warning: no previously-included files matching '*.py[co]' found under directory '*'\n",
            "  \u001b[31m   \u001b[0m warning: no files found matching '*.jpg' under directory 'docs'\n",
            "  \u001b[31m   \u001b[0m warning: no files found matching '*.png' under directory 'docs'\n",
            "  \u001b[31m   \u001b[0m warning: no files found matching '*.gif' under directory 'docs'\n",
            "  \u001b[31m   \u001b[0m adding license file 'LICENSE'\n",
            "  \u001b[31m   \u001b[0m adding license file 'AUTHORS.rst'\n",
            "  \u001b[31m   \u001b[0m writing manifest file 'pymrmr.egg-info/SOURCES.txt'\n",
            "  \u001b[31m   \u001b[0m creating build\n",
            "  \u001b[31m   \u001b[0m creating build/lib.macosx-10.9-universal2-3.9\n",
            "  \u001b[31m   \u001b[0m creating build/lib.macosx-10.9-universal2-3.9/pymrmr\n",
            "  \u001b[31m   \u001b[0m copying pymrmr/crank.cpp -> build/lib.macosx-10.9-universal2-3.9/pymrmr\n",
            "  \u001b[31m   \u001b[0m copying pymrmr/mrmr.cpp -> build/lib.macosx-10.9-universal2-3.9/pymrmr\n",
            "  \u001b[31m   \u001b[0m copying pymrmr/nrutil.cpp -> build/lib.macosx-10.9-universal2-3.9/pymrmr\n",
            "  \u001b[31m   \u001b[0m copying pymrmr/nrutil.h -> build/lib.macosx-10.9-universal2-3.9/pymrmr\n",
            "  \u001b[31m   \u001b[0m copying pymrmr/pbetai.cpp -> build/lib.macosx-10.9-universal2-3.9/pymrmr\n",
            "  \u001b[31m   \u001b[0m copying pymrmr/pymrmr.cpp -> build/lib.macosx-10.9-universal2-3.9/pymrmr\n",
            "  \u001b[31m   \u001b[0m copying pymrmr/pymrmr.pyx -> build/lib.macosx-10.9-universal2-3.9/pymrmr\n",
            "  \u001b[31m   \u001b[0m copying pymrmr/sort2.cpp -> build/lib.macosx-10.9-universal2-3.9/pymrmr\n",
            "  \u001b[31m   \u001b[0m running build_ext\n",
            "  \u001b[31m   \u001b[0m skipping 'pymrmr/pymrmr.cpp' Cython extension (up-to-date)\n",
            "  \u001b[31m   \u001b[0m building 'pymrmr' extension\n",
            "  \u001b[31m   \u001b[0m creating build/temp.macosx-10.9-universal2-3.9\n",
            "  \u001b[31m   \u001b[0m creating build/temp.macosx-10.9-universal2-3.9/pymrmr\n",
            "  \u001b[31m   \u001b[0m clang -Wno-unused-result -Wsign-compare -Wunreachable-code -fno-common -dynamic -DNDEBUG -g -fwrapv -O3 -Wall -iwithsysroot/System/Library/Frameworks/System.framework/PrivateHeaders -iwithsysroot/Applications/Xcode.app/Contents/Developer/Library/Frameworks/Python3.framework/Versions/3.9/Headers -arch arm64 -arch x86_64 -Werror=implicit-function-declaration -I/Users/frederique/Library/Python/3.9/lib/python/site-packages/numpy/core/include -I/Library/Developer/CommandLineTools/Library/Frameworks/Python3.framework/Versions/3.9/include/python3.9 -c pymrmr/pymrmr.cpp -o build/temp.macosx-10.9-universal2-3.9/pymrmr/pymrmr.o -fopenmp -Ofast\n",
            "  \u001b[31m   \u001b[0m clang: error: unsupported option '-fopenmp'\n",
            "  \u001b[31m   \u001b[0m clang: error: unsupported option '-fopenmp'\n",
            "  \u001b[31m   \u001b[0m error: command '/usr/bin/clang' failed with exit code 1\n",
            "  \u001b[31m   \u001b[0m \u001b[31m[end of output]\u001b[0m\n",
            "  \n",
            "  \u001b[1;35mnote\u001b[0m: This error originates from a subprocess, and is likely not a problem with pip.\n",
            "\u001b[31m  ERROR: Failed building wheel for pymrmr\u001b[0m\u001b[31m\n",
            "\u001b[0m\u001b[?25h  Running setup.py clean for pymrmr\n",
            "Failed to build pymrmr\n",
            "\u001b[31mERROR: Could not build wheels for pymrmr, which is required to install pyproject.toml-based projects\u001b[0m\u001b[31m\n",
            "\u001b[0m\n",
            "\u001b[1m[\u001b[0m\u001b[34;49mnotice\u001b[0m\u001b[1;39;49m]\u001b[0m\u001b[39;49m A new release of pip is available: \u001b[0m\u001b[31;49m23.1.2\u001b[0m\u001b[39;49m -> \u001b[0m\u001b[32;49m23.3.2\u001b[0m\n",
            "\u001b[1m[\u001b[0m\u001b[34;49mnotice\u001b[0m\u001b[1;39;49m]\u001b[0m\u001b[39;49m To update, run: \u001b[0m\u001b[32;49m/Library/Developer/CommandLineTools/usr/bin/python3 -m pip install --upgrade pip\u001b[0m\n",
            "Defaulting to user installation because normal site-packages is not writeable\n",
            "Requirement already satisfied: audiomentations in /Users/frederique/Library/Python/3.9/lib/python/site-packages (0.34.1)\n",
            "Requirement already satisfied: numpy>=1.21.0 in /Users/frederique/Library/Python/3.9/lib/python/site-packages (from audiomentations) (1.23.5)\n",
            "Requirement already satisfied: librosa!=0.10.0,<0.11.0,>=0.8.0 in /Users/frederique/Library/Python/3.9/lib/python/site-packages (from audiomentations) (0.10.1)\n",
            "Requirement already satisfied: scipy<2,>=1.4.0 in /Users/frederique/Library/Python/3.9/lib/python/site-packages (from audiomentations) (1.10.0)\n",
            "Requirement already satisfied: soxr<1.0.0,>=0.3.2 in /Users/frederique/Library/Python/3.9/lib/python/site-packages (from audiomentations) (0.3.7)\n",
            "Requirement already satisfied: audioread>=2.1.9 in /Users/frederique/Library/Python/3.9/lib/python/site-packages (from librosa!=0.10.0,<0.11.0,>=0.8.0->audiomentations) (3.0.1)\n",
            "Requirement already satisfied: scikit-learn>=0.20.0 in /Users/frederique/Library/Python/3.9/lib/python/site-packages (from librosa!=0.10.0,<0.11.0,>=0.8.0->audiomentations) (1.1.3)\n",
            "Requirement already satisfied: joblib>=0.14 in /Users/frederique/Library/Python/3.9/lib/python/site-packages (from librosa!=0.10.0,<0.11.0,>=0.8.0->audiomentations) (1.2.0)\n",
            "Requirement already satisfied: decorator>=4.3.0 in /Users/frederique/Library/Python/3.9/lib/python/site-packages (from librosa!=0.10.0,<0.11.0,>=0.8.0->audiomentations) (5.1.1)\n",
            "Requirement already satisfied: numba>=0.51.0 in /Users/frederique/Library/Python/3.9/lib/python/site-packages (from librosa!=0.10.0,<0.11.0,>=0.8.0->audiomentations) (0.56.4)\n",
            "Requirement already satisfied: soundfile>=0.12.1 in /Users/frederique/Library/Python/3.9/lib/python/site-packages (from librosa!=0.10.0,<0.11.0,>=0.8.0->audiomentations) (0.12.1)\n",
            "Requirement already satisfied: pooch>=1.0 in /Users/frederique/Library/Python/3.9/lib/python/site-packages (from librosa!=0.10.0,<0.11.0,>=0.8.0->audiomentations) (1.8.0)\n",
            "Requirement already satisfied: typing-extensions>=4.1.1 in /Users/frederique/Library/Python/3.9/lib/python/site-packages (from librosa!=0.10.0,<0.11.0,>=0.8.0->audiomentations) (4.8.0)\n",
            "Requirement already satisfied: lazy-loader>=0.1 in /Users/frederique/Library/Python/3.9/lib/python/site-packages (from librosa!=0.10.0,<0.11.0,>=0.8.0->audiomentations) (0.3)\n",
            "Requirement already satisfied: msgpack>=1.0 in /Users/frederique/Library/Python/3.9/lib/python/site-packages (from librosa!=0.10.0,<0.11.0,>=0.8.0->audiomentations) (1.0.7)\n",
            "Requirement already satisfied: llvmlite<0.40,>=0.39.0dev0 in /Users/frederique/Library/Python/3.9/lib/python/site-packages (from numba>=0.51.0->librosa!=0.10.0,<0.11.0,>=0.8.0->audiomentations) (0.39.1)\n",
            "Requirement already satisfied: setuptools in /Library/Developer/CommandLineTools/Library/Frameworks/Python3.framework/Versions/3.9/lib/python3.9/site-packages (from numba>=0.51.0->librosa!=0.10.0,<0.11.0,>=0.8.0->audiomentations) (58.0.4)\n",
            "Requirement already satisfied: platformdirs>=2.5.0 in /Users/frederique/Library/Python/3.9/lib/python/site-packages (from pooch>=1.0->librosa!=0.10.0,<0.11.0,>=0.8.0->audiomentations) (2.6.2)\n",
            "Requirement already satisfied: packaging>=20.0 in /Users/frederique/Library/Python/3.9/lib/python/site-packages (from pooch>=1.0->librosa!=0.10.0,<0.11.0,>=0.8.0->audiomentations) (21.3)\n",
            "Requirement already satisfied: requests>=2.19.0 in /Users/frederique/Library/Python/3.9/lib/python/site-packages (from pooch>=1.0->librosa!=0.10.0,<0.11.0,>=0.8.0->audiomentations) (2.28.2)\n",
            "Requirement already satisfied: threadpoolctl>=2.0.0 in /Users/frederique/Library/Python/3.9/lib/python/site-packages (from scikit-learn>=0.20.0->librosa!=0.10.0,<0.11.0,>=0.8.0->audiomentations) (3.1.0)\n",
            "Requirement already satisfied: cffi>=1.0 in /Users/frederique/Library/Python/3.9/lib/python/site-packages (from soundfile>=0.12.1->librosa!=0.10.0,<0.11.0,>=0.8.0->audiomentations) (1.15.1)\n",
            "Requirement already satisfied: pycparser in /Users/frederique/Library/Python/3.9/lib/python/site-packages (from cffi>=1.0->soundfile>=0.12.1->librosa!=0.10.0,<0.11.0,>=0.8.0->audiomentations) (2.21)\n",
            "Requirement already satisfied: pyparsing!=3.0.5,>=2.0.2 in /Users/frederique/Library/Python/3.9/lib/python/site-packages (from packaging>=20.0->pooch>=1.0->librosa!=0.10.0,<0.11.0,>=0.8.0->audiomentations) (3.0.9)\n",
            "Requirement already satisfied: charset-normalizer<4,>=2 in /Users/frederique/Library/Python/3.9/lib/python/site-packages (from requests>=2.19.0->pooch>=1.0->librosa!=0.10.0,<0.11.0,>=0.8.0->audiomentations) (3.0.1)\n",
            "Requirement already satisfied: idna<4,>=2.5 in /Users/frederique/Library/Python/3.9/lib/python/site-packages (from requests>=2.19.0->pooch>=1.0->librosa!=0.10.0,<0.11.0,>=0.8.0->audiomentations) (3.4)\n",
            "Requirement already satisfied: urllib3<1.27,>=1.21.1 in /Users/frederique/Library/Python/3.9/lib/python/site-packages (from requests>=2.19.0->pooch>=1.0->librosa!=0.10.0,<0.11.0,>=0.8.0->audiomentations) (1.26.14)\n",
            "Requirement already satisfied: certifi>=2017.4.17 in /Users/frederique/Library/Python/3.9/lib/python/site-packages (from requests>=2.19.0->pooch>=1.0->librosa!=0.10.0,<0.11.0,>=0.8.0->audiomentations) (2022.12.7)\n",
            "\n",
            "\u001b[1m[\u001b[0m\u001b[34;49mnotice\u001b[0m\u001b[1;39;49m]\u001b[0m\u001b[39;49m A new release of pip is available: \u001b[0m\u001b[31;49m23.1.2\u001b[0m\u001b[39;49m -> \u001b[0m\u001b[32;49m23.3.2\u001b[0m\n",
            "\u001b[1m[\u001b[0m\u001b[34;49mnotice\u001b[0m\u001b[1;39;49m]\u001b[0m\u001b[39;49m To update, run: \u001b[0m\u001b[32;49m/Library/Developer/CommandLineTools/usr/bin/python3 -m pip install --upgrade pip\u001b[0m\n",
            "Defaulting to user installation because normal site-packages is not writeable\n",
            "Requirement already satisfied: pydub in /Users/frederique/Library/Python/3.9/lib/python/site-packages (0.25.1)\n",
            "\n",
            "\u001b[1m[\u001b[0m\u001b[34;49mnotice\u001b[0m\u001b[1;39;49m]\u001b[0m\u001b[39;49m A new release of pip is available: \u001b[0m\u001b[31;49m23.1.2\u001b[0m\u001b[39;49m -> \u001b[0m\u001b[32;49m23.3.2\u001b[0m\n",
            "\u001b[1m[\u001b[0m\u001b[34;49mnotice\u001b[0m\u001b[1;39;49m]\u001b[0m\u001b[39;49m To update, run: \u001b[0m\u001b[32;49m/Library/Developer/CommandLineTools/usr/bin/python3 -m pip install --upgrade pip\u001b[0m\n",
            "Python 3.9.6\n"
          ]
        }
      ],
      "source": [
        "!pip3 install pymrmr\n",
        "!pip3 install audiomentations\n",
        "!pip3 install pydub\n",
        "!python3 -V"
      ]
    },
    {
      "cell_type": "code",
      "execution_count": 1,
      "metadata": {
        "id": "ZA2MeEnnyTtp"
      },
      "outputs": [],
      "source": [
        "import os\n",
        "import re\n",
        "import joblib\n",
        "import librosa\n",
        "import numpy as np\n",
        "import pandas as pd\n",
        "from tqdm import tqdm\n",
        "import seaborn as sns\n",
        "from audiomentations import Compose, TimeStretch, PitchShift, AddGaussianNoise\n",
        "from sklearn.preprocessing import normalize\n",
        "from sklearn.model_selection import train_test_split, GridSearchCV\n",
        "from sklearn.svm import SVC\n",
        "from sklearn.neighbors import KNeighborsClassifier\n",
        "from sklearn.tree import DecisionTreeClassifier\n",
        "from sklearn.metrics import accuracy_score, precision_score, recall_score\n",
        "\n",
        "# from pydub import AudioSegment\n",
        "# from pydub.effects import normalize\n",
        "# from sklearn.preprocessing import MinMaxScaler"
      ]
    },
    {
      "cell_type": "markdown",
      "metadata": {},
      "source": [
        "### Définition des fonctions utiles"
      ]
    },
    {
      "cell_type": "code",
      "execution_count": 2,
      "metadata": {},
      "outputs": [],
      "source": [
        "# Fonction de processing du fichier en vue de le normaliser, retourne le signal normalisé et le taux d'echantillonnage\n",
        "def process_audio(file_path):\n",
        "    y, sr = librosa.load(file_path) # chargement du fichier audio\n",
        "    y, _ = librosa.effects.trim(y)   # suppression du silence\n",
        "\n",
        "    normalized_y = librosa.util.normalize(y) # normalise le signal\n",
        "\n",
        "    return normalized_y, sr "
      ]
    },
    {
      "cell_type": "code",
      "execution_count": 3,
      "metadata": {},
      "outputs": [],
      "source": [
        "# Fonctions de traitement des fichiers audios\n",
        "def extract_features(normalized_y, sr, max_len=100):\n",
        "    # extraction des caractéristiques du signal audio\n",
        "    mfccs = librosa.feature.mfcc(y=normalized_y, sr=sr, n_mfcc=13) # MFCCs (Mel-frequency cepstral coefficients)\n",
        "    chroma = librosa.feature.chroma_stft(y=normalized_y, sr=sr) # chromagramme\n",
        "    spectral_contrast = librosa.feature.spectral_contrast(y=normalized_y, sr=sr) # contraste spectral.\n",
        "     \n",
        "    # ajustement des caracteristiques à une longue fixe, tous les audio doivent avoir la meme longue en taille de caracteristique\n",
        "    mfccs = librosa.util.fix_length(mfccs, size = max_len, axis=1)\n",
        "    chroma = librosa.util.fix_length(chroma, size = max_len, axis=1)\n",
        "    spectral_contrast = librosa.util.fix_length(spectral_contrast, size = max_len, axis=1)\n",
        "\n",
        "    #données extraites en une seule dimension \n",
        "    flat_mfccs = np.ravel(mfccs)\n",
        "    flat_chroma = np.ravel(chroma)\n",
        "    flat_spectral_contrast = np.ravel(spectral_contrast)\n",
        "\n",
        "    return flat_mfccs, flat_chroma, flat_spectral_contrast"
      ]
    },
    {
      "cell_type": "code",
      "execution_count": 4,
      "metadata": {},
      "outputs": [],
      "source": [
        "# Fonction d'augmentation des fichiers audios\n",
        "def augment_audio(y, sr):\n",
        "    # vitesse de lecture, hauteur du signal, ajout du bruit gaussien\n",
        "    augment = Compose([\n",
        "        TimeStretch(min_rate=0.8, max_rate=1.2),\n",
        "        PitchShift(min_semitones=-2, max_semitones=2),\n",
        "        AddGaussianNoise(min_amplitude=0.001, max_amplitude=0.015)\n",
        "    ])\n",
        "\n",
        "    augmented_y = augment(samples=y, sample_rate=sr)\n",
        "\n",
        "    return augmented_y"
      ]
    },
    {
      "cell_type": "code",
      "execution_count": 5,
      "metadata": {},
      "outputs": [],
      "source": [
        "# Dans notre contexte, nous avons décidé de nous concentrer sur la prédiction d'une émotion: la colère\n",
        "def is_anger(emotion):\n",
        "    return 1 if emotion == \"anger\" else 0"
      ]
    },
    {
      "cell_type": "code",
      "execution_count": 6,
      "metadata": {},
      "outputs": [],
      "source": [
        "audio_directory = \"data/audio_speech_emotion\"\n",
        "\n",
        "audio_files = []\n",
        "emotions = []\n",
        "mfccs_list = []\n",
        "chroma_list = []\n",
        "spectral_contrast_list = []\n",
        "\n",
        "emotion_mapping = {\n",
        "    'ang': 'anger',\n",
        "    'cal': 'calm',\n",
        "    'dis': 'disgust',\n",
        "    'fea': 'fear',\n",
        "    'hap': 'happiness',\n",
        "    'neu': 'neutral',\n",
        "    'sad': 'sadness',\n",
        "    'sur': 'surprise'\n",
        "}"
      ]
    },
    {
      "cell_type": "code",
      "execution_count": 7,
      "metadata": {
        "id": "I-596vgAN6Ay"
      },
      "outputs": [
        {
          "name": "stderr",
          "output_type": "stream",
          "text": [
            "100%|██████████| 1381/1381 [01:54<00:00, 12.01it/s]\n"
          ]
        }
      ],
      "source": [
        "for filename in tqdm(os.listdir(audio_directory)):\n",
        "    if filename.endswith(\".wav\"):\n",
        "        match = re.search(r'^([a-zA-Z]{3})', filename)\n",
        "        emotion = emotion_mapping.get(match.group(1), 'unknown')\n",
        "\n",
        "        file_path = os.path.join(audio_directory, filename)\n",
        "\n",
        "        normalized_y, sr = process_audio(file_path)\n",
        "\n",
        "        original_mfccs, original_chroma, original_spectral_contrast = extract_features(normalized_y, sr)\n",
        "\n",
        "        augmented_y = augment_audio(normalized_y, sr)\n",
        "        augmented_mfccs, augmented_chroma, augmented_spectral_contrast = extract_features(augmented_y, sr)\n",
        "\n",
        "        audio_files.extend([filename, f\"augmented_{filename}\"])\n",
        "        emotions.extend([emotion, emotion])\n",
        "        mfccs_list.extend([original_mfccs, augmented_mfccs])\n",
        "        chroma_list.extend([original_chroma, augmented_chroma])\n",
        "        spectral_contrast_list.extend([original_spectral_contrast, augmented_spectral_contrast])\n",
        "\n",
        "\n",
        "\n",
        "df = pd.DataFrame({\n",
        "    'Audio_File': audio_files,\n",
        "    'Emotion': emotions,\n",
        "    'MFCCs': mfccs_list,\n",
        "    'Chroma': chroma_list,\n",
        "    'Spectral_Contrast': spectral_contrast_list\n",
        "})"
      ]
    },
    {
      "cell_type": "code",
      "execution_count": 8,
      "metadata": {},
      "outputs": [
        {
          "data": {
            "text/plain": [
              "Index(['Audio_File', 'Emotion', 'MFCCs', 'Chroma', 'Spectral_Contrast'], dtype='object')"
            ]
          },
          "execution_count": 8,
          "metadata": {},
          "output_type": "execute_result"
        }
      ],
      "source": [
        "df.columns"
      ]
    },
    {
      "cell_type": "code",
      "execution_count": 9,
      "metadata": {},
      "outputs": [
        {
          "data": {
            "text/html": [
              "<div>\n",
              "<style scoped>\n",
              "    .dataframe tbody tr th:only-of-type {\n",
              "        vertical-align: middle;\n",
              "    }\n",
              "\n",
              "    .dataframe tbody tr th {\n",
              "        vertical-align: top;\n",
              "    }\n",
              "\n",
              "    .dataframe thead th {\n",
              "        text-align: right;\n",
              "    }\n",
              "</style>\n",
              "<table border=\"1\" class=\"dataframe\">\n",
              "  <thead>\n",
              "    <tr style=\"text-align: right;\">\n",
              "      <th></th>\n",
              "      <th>Audio_File</th>\n",
              "      <th>Emotion</th>\n",
              "      <th>MFCCs</th>\n",
              "      <th>Chroma</th>\n",
              "      <th>Spectral_Contrast</th>\n",
              "    </tr>\n",
              "  </thead>\n",
              "  <tbody>\n",
              "    <tr>\n",
              "      <th>0</th>\n",
              "      <td>hap_N_kids_rep2_M5.wav</td>\n",
              "      <td>happiness</td>\n",
              "      <td>[-560.8875, -557.3468, -557.6999, -560.072, -5...</td>\n",
              "      <td>[0.99280536, 0.9239153, 0.86961377, 0.5242816,...</td>\n",
              "      <td>[20.288140537780052, 16.049922218454988, 17.91...</td>\n",
              "    </tr>\n",
              "    <tr>\n",
              "      <th>1</th>\n",
              "      <td>augmented_hap_N_kids_rep2_M5.wav</td>\n",
              "      <td>happiness</td>\n",
              "      <td>[-249.99677, -223.0656, -220.80013, -223.21938...</td>\n",
              "      <td>[0.78538203, 0.8502097, 0.79832625, 0.8376011,...</td>\n",
              "      <td>[6.242718314464293, 11.175437784737515, 9.6888...</td>\n",
              "    </tr>\n",
              "    <tr>\n",
              "      <th>2</th>\n",
              "      <td>fea_S_dogs_rep2_F22.wav</td>\n",
              "      <td>fear</td>\n",
              "      <td>[-557.0281, -550.8854, -544.0535, -483.4463, -...</td>\n",
              "      <td>[0.43459034, 0.3906931, 0.39205012, 0.7074244,...</td>\n",
              "      <td>[13.510801619773137, 16.844586394879578, 15.92...</td>\n",
              "    </tr>\n",
              "    <tr>\n",
              "      <th>3</th>\n",
              "      <td>augmented_fea_S_dogs_rep2_F22.wav</td>\n",
              "      <td>fear</td>\n",
              "      <td>[-557.0281, -550.8854, -544.0535, -483.4463, -...</td>\n",
              "      <td>[0.43459034, 0.3906931, 0.39205012, 0.7074244,...</td>\n",
              "      <td>[13.510801619773137, 16.844586394879578, 15.92...</td>\n",
              "    </tr>\n",
              "    <tr>\n",
              "      <th>4</th>\n",
              "      <td>fea_N_kids_rep2_M11.wav</td>\n",
              "      <td>fear</td>\n",
              "      <td>[-564.0849, -559.55365, -559.0394, -560.73395,...</td>\n",
              "      <td>[0.82920116, 0.669364, 0.6859306, 0.76664114, ...</td>\n",
              "      <td>[10.980496795417464, 23.34173214011679, 16.894...</td>\n",
              "    </tr>\n",
              "  </tbody>\n",
              "</table>\n",
              "</div>"
            ],
            "text/plain": [
              "                          Audio_File    Emotion  \\\n",
              "0             hap_N_kids_rep2_M5.wav  happiness   \n",
              "1   augmented_hap_N_kids_rep2_M5.wav  happiness   \n",
              "2            fea_S_dogs_rep2_F22.wav       fear   \n",
              "3  augmented_fea_S_dogs_rep2_F22.wav       fear   \n",
              "4            fea_N_kids_rep2_M11.wav       fear   \n",
              "\n",
              "                                               MFCCs  \\\n",
              "0  [-560.8875, -557.3468, -557.6999, -560.072, -5...   \n",
              "1  [-249.99677, -223.0656, -220.80013, -223.21938...   \n",
              "2  [-557.0281, -550.8854, -544.0535, -483.4463, -...   \n",
              "3  [-557.0281, -550.8854, -544.0535, -483.4463, -...   \n",
              "4  [-564.0849, -559.55365, -559.0394, -560.73395,...   \n",
              "\n",
              "                                              Chroma  \\\n",
              "0  [0.99280536, 0.9239153, 0.86961377, 0.5242816,...   \n",
              "1  [0.78538203, 0.8502097, 0.79832625, 0.8376011,...   \n",
              "2  [0.43459034, 0.3906931, 0.39205012, 0.7074244,...   \n",
              "3  [0.43459034, 0.3906931, 0.39205012, 0.7074244,...   \n",
              "4  [0.82920116, 0.669364, 0.6859306, 0.76664114, ...   \n",
              "\n",
              "                                   Spectral_Contrast  \n",
              "0  [20.288140537780052, 16.049922218454988, 17.91...  \n",
              "1  [6.242718314464293, 11.175437784737515, 9.6888...  \n",
              "2  [13.510801619773137, 16.844586394879578, 15.92...  \n",
              "3  [13.510801619773137, 16.844586394879578, 15.92...  \n",
              "4  [10.980496795417464, 23.34173214011679, 16.894...  "
            ]
          },
          "execution_count": 9,
          "metadata": {},
          "output_type": "execute_result"
        }
      ],
      "source": [
        "df.head()"
      ]
    },
    {
      "cell_type": "code",
      "execution_count": 10,
      "metadata": {},
      "outputs": [
        {
          "data": {
            "text/html": [
              "<div>\n",
              "<style scoped>\n",
              "    .dataframe tbody tr th:only-of-type {\n",
              "        vertical-align: middle;\n",
              "    }\n",
              "\n",
              "    .dataframe tbody tr th {\n",
              "        vertical-align: top;\n",
              "    }\n",
              "\n",
              "    .dataframe thead th {\n",
              "        text-align: right;\n",
              "    }\n",
              "</style>\n",
              "<table border=\"1\" class=\"dataframe\">\n",
              "  <thead>\n",
              "    <tr style=\"text-align: right;\">\n",
              "      <th></th>\n",
              "      <th>Audio_File</th>\n",
              "      <th>Emotion</th>\n",
              "      <th>MFCCs</th>\n",
              "      <th>Chroma</th>\n",
              "      <th>Spectral_Contrast</th>\n",
              "    </tr>\n",
              "  </thead>\n",
              "  <tbody>\n",
              "    <tr>\n",
              "      <th>0</th>\n",
              "      <td>hap_N_kids_rep2_M5.wav</td>\n",
              "      <td>happiness</td>\n",
              "      <td>[-560.8875, -557.3468, -557.6999, -560.072, -5...</td>\n",
              "      <td>[0.99280536, 0.9239153, 0.86961377, 0.5242816,...</td>\n",
              "      <td>[20.288140537780052, 16.049922218454988, 17.91...</td>\n",
              "    </tr>\n",
              "    <tr>\n",
              "      <th>1</th>\n",
              "      <td>augmented_hap_N_kids_rep2_M5.wav</td>\n",
              "      <td>happiness</td>\n",
              "      <td>[-249.99677, -223.0656, -220.80013, -223.21938...</td>\n",
              "      <td>[0.78538203, 0.8502097, 0.79832625, 0.8376011,...</td>\n",
              "      <td>[6.242718314464293, 11.175437784737515, 9.6888...</td>\n",
              "    </tr>\n",
              "    <tr>\n",
              "      <th>2</th>\n",
              "      <td>fea_S_dogs_rep2_F22.wav</td>\n",
              "      <td>fear</td>\n",
              "      <td>[-557.0281, -550.8854, -544.0535, -483.4463, -...</td>\n",
              "      <td>[0.43459034, 0.3906931, 0.39205012, 0.7074244,...</td>\n",
              "      <td>[13.510801619773137, 16.844586394879578, 15.92...</td>\n",
              "    </tr>\n",
              "    <tr>\n",
              "      <th>3</th>\n",
              "      <td>augmented_fea_S_dogs_rep2_F22.wav</td>\n",
              "      <td>fear</td>\n",
              "      <td>[-557.0281, -550.8854, -544.0535, -483.4463, -...</td>\n",
              "      <td>[0.43459034, 0.3906931, 0.39205012, 0.7074244,...</td>\n",
              "      <td>[13.510801619773137, 16.844586394879578, 15.92...</td>\n",
              "    </tr>\n",
              "    <tr>\n",
              "      <th>4</th>\n",
              "      <td>fea_N_kids_rep2_M11.wav</td>\n",
              "      <td>fear</td>\n",
              "      <td>[-564.0849, -559.55365, -559.0394, -560.73395,...</td>\n",
              "      <td>[0.82920116, 0.669364, 0.6859306, 0.76664114, ...</td>\n",
              "      <td>[10.980496795417464, 23.34173214011679, 16.894...</td>\n",
              "    </tr>\n",
              "  </tbody>\n",
              "</table>\n",
              "</div>"
            ],
            "text/plain": [
              "                          Audio_File    Emotion  \\\n",
              "0             hap_N_kids_rep2_M5.wav  happiness   \n",
              "1   augmented_hap_N_kids_rep2_M5.wav  happiness   \n",
              "2            fea_S_dogs_rep2_F22.wav       fear   \n",
              "3  augmented_fea_S_dogs_rep2_F22.wav       fear   \n",
              "4            fea_N_kids_rep2_M11.wav       fear   \n",
              "\n",
              "                                               MFCCs  \\\n",
              "0  [-560.8875, -557.3468, -557.6999, -560.072, -5...   \n",
              "1  [-249.99677, -223.0656, -220.80013, -223.21938...   \n",
              "2  [-557.0281, -550.8854, -544.0535, -483.4463, -...   \n",
              "3  [-557.0281, -550.8854, -544.0535, -483.4463, -...   \n",
              "4  [-564.0849, -559.55365, -559.0394, -560.73395,...   \n",
              "\n",
              "                                              Chroma  \\\n",
              "0  [0.99280536, 0.9239153, 0.86961377, 0.5242816,...   \n",
              "1  [0.78538203, 0.8502097, 0.79832625, 0.8376011,...   \n",
              "2  [0.43459034, 0.3906931, 0.39205012, 0.7074244,...   \n",
              "3  [0.43459034, 0.3906931, 0.39205012, 0.7074244,...   \n",
              "4  [0.82920116, 0.669364, 0.6859306, 0.76664114, ...   \n",
              "\n",
              "                                   Spectral_Contrast  \n",
              "0  [20.288140537780052, 16.049922218454988, 17.91...  \n",
              "1  [6.242718314464293, 11.175437784737515, 9.6888...  \n",
              "2  [13.510801619773137, 16.844586394879578, 15.92...  \n",
              "3  [13.510801619773137, 16.844586394879578, 15.92...  \n",
              "4  [10.980496795417464, 23.34173214011679, 16.894...  "
            ]
          },
          "execution_count": 10,
          "metadata": {},
          "output_type": "execute_result"
        }
      ],
      "source": [
        "df[df[\"Emotion\"] != \"unknown\"].head()"
      ]
    },
    {
      "cell_type": "code",
      "execution_count": 11,
      "metadata": {},
      "outputs": [
        {
          "data": {
            "image/png": "[encoded data removed]",
            "text/plain": [
              "<Figure size 640x480 with 1 Axes>"
            ]
          },
          "metadata": {},
          "output_type": "display_data"
        }
      ],
      "source": [
        "# Voyons la répartition de chaque émotion\n",
        "sns.countplot(df, x=\"Emotion\", hue=\"Emotion\")\n",
        "sns.set(rc={'figure.figsize':(16,5)})"
      ]
    },
    {
      "cell_type": "code",
      "execution_count": 12,
      "metadata": {
        "id": "AiUgv3mZ04FX"
      },
      "outputs": [],
      "source": [
        "df[\"anger\"] = df['Emotion'].apply(is_anger)"
      ]
    },
    {
      "cell_type": "code",
      "execution_count": 13,
      "metadata": {
        "id": "QE4kp0ApEZxA"
      },
      "outputs": [],
      "source": [
        "# Dataframe de chaque categories de features\n",
        "\n",
        "mfccs_list_columns = [f'mfccs_{i}' for i in range(len(mfccs_list[0]))]\n",
        "df_mfccs = pd.DataFrame(mfccs_list, columns=mfccs_list_columns)\n",
        "\n",
        "chroma_list_columns = [f'chroma_{i}' for i in range(len(chroma_list[0]))]\n",
        "df_chroma = pd.DataFrame(chroma_list, columns=chroma_list_columns)\n",
        "\n",
        "spectral_contrast_list_columns = [f'spectral_contrast_{i}' for i in range(len(spectral_contrast_list[0]))]\n",
        "df_spectral_contrast = pd.DataFrame(spectral_contrast_list, columns=spectral_contrast_list_columns)"
      ]
    },
    {
      "cell_type": "code",
      "execution_count": 14,
      "metadata": {
        "colab": {
          "base_uri": "https://localhost:8080/",
          "height": 253
        },
        "id": "bGVdLAxZEswy",
        "outputId": "3b249fd9-a275-4260-ad4e-b16c3394a80c"
      },
      "outputs": [
        {
          "data": {
            "text/html": [
              "<div>\n",
              "<style scoped>\n",
              "    .dataframe tbody tr th:only-of-type {\n",
              "        vertical-align: middle;\n",
              "    }\n",
              "\n",
              "    .dataframe tbody tr th {\n",
              "        vertical-align: top;\n",
              "    }\n",
              "\n",
              "    .dataframe thead th {\n",
              "        text-align: right;\n",
              "    }\n",
              "</style>\n",
              "<table border=\"1\" class=\"dataframe\">\n",
              "  <thead>\n",
              "    <tr style=\"text-align: right;\">\n",
              "      <th></th>\n",
              "      <th>Audio_File</th>\n",
              "      <th>mfccs_0</th>\n",
              "      <th>mfccs_1</th>\n",
              "      <th>mfccs_2</th>\n",
              "      <th>mfccs_3</th>\n",
              "      <th>mfccs_4</th>\n",
              "      <th>mfccs_5</th>\n",
              "      <th>mfccs_6</th>\n",
              "      <th>mfccs_7</th>\n",
              "      <th>mfccs_8</th>\n",
              "      <th>...</th>\n",
              "      <th>spectral_contrast_691</th>\n",
              "      <th>spectral_contrast_692</th>\n",
              "      <th>spectral_contrast_693</th>\n",
              "      <th>spectral_contrast_694</th>\n",
              "      <th>spectral_contrast_695</th>\n",
              "      <th>spectral_contrast_696</th>\n",
              "      <th>spectral_contrast_697</th>\n",
              "      <th>spectral_contrast_698</th>\n",
              "      <th>spectral_contrast_699</th>\n",
              "      <th>anger</th>\n",
              "    </tr>\n",
              "  </thead>\n",
              "  <tbody>\n",
              "    <tr>\n",
              "      <th>618</th>\n",
              "      <td>dis_N_dogs_rep1_F14.wav</td>\n",
              "      <td>-378.230957</td>\n",
              "      <td>-147.828445</td>\n",
              "      <td>-61.270527</td>\n",
              "      <td>-11.818419</td>\n",
              "      <td>10.102351</td>\n",
              "      <td>-2.181944</td>\n",
              "      <td>-23.292358</td>\n",
              "      <td>-40.734718</td>\n",
              "      <td>-47.687645</td>\n",
              "      <td>...</td>\n",
              "      <td>43.201608</td>\n",
              "      <td>42.778948</td>\n",
              "      <td>44.857264</td>\n",
              "      <td>44.657765</td>\n",
              "      <td>46.132781</td>\n",
              "      <td>48.539726</td>\n",
              "      <td>48.419984</td>\n",
              "      <td>46.837344</td>\n",
              "      <td>46.341023</td>\n",
              "      <td>0</td>\n",
              "    </tr>\n",
              "    <tr>\n",
              "      <th>408</th>\n",
              "      <td>fea_N_kids_rep1_F20.wav</td>\n",
              "      <td>-398.884430</td>\n",
              "      <td>-317.684967</td>\n",
              "      <td>-333.762970</td>\n",
              "      <td>-375.949219</td>\n",
              "      <td>-337.202789</td>\n",
              "      <td>-320.313873</td>\n",
              "      <td>-297.595123</td>\n",
              "      <td>-303.802612</td>\n",
              "      <td>-317.149872</td>\n",
              "      <td>...</td>\n",
              "      <td>44.568747</td>\n",
              "      <td>43.363276</td>\n",
              "      <td>42.867321</td>\n",
              "      <td>45.056064</td>\n",
              "      <td>46.448084</td>\n",
              "      <td>46.789549</td>\n",
              "      <td>44.238466</td>\n",
              "      <td>43.107447</td>\n",
              "      <td>48.340048</td>\n",
              "      <td>0</td>\n",
              "    </tr>\n",
              "    <tr>\n",
              "      <th>717</th>\n",
              "      <td>augmented_ang_N_kids_rep1_F10.wav</td>\n",
              "      <td>-511.473572</td>\n",
              "      <td>-492.631897</td>\n",
              "      <td>-490.067810</td>\n",
              "      <td>-485.700378</td>\n",
              "      <td>-487.335266</td>\n",
              "      <td>-477.557098</td>\n",
              "      <td>-471.596466</td>\n",
              "      <td>-484.152252</td>\n",
              "      <td>-489.793976</td>\n",
              "      <td>...</td>\n",
              "      <td>45.605876</td>\n",
              "      <td>50.850619</td>\n",
              "      <td>52.314062</td>\n",
              "      <td>47.887207</td>\n",
              "      <td>49.232260</td>\n",
              "      <td>48.161006</td>\n",
              "      <td>50.256966</td>\n",
              "      <td>51.346024</td>\n",
              "      <td>50.325773</td>\n",
              "      <td>1</td>\n",
              "    </tr>\n",
              "    <tr>\n",
              "      <th>1038</th>\n",
              "      <td>sad_N_kids_rep2_F2.wav</td>\n",
              "      <td>-544.362183</td>\n",
              "      <td>-299.286621</td>\n",
              "      <td>-218.807053</td>\n",
              "      <td>-212.497589</td>\n",
              "      <td>-216.737854</td>\n",
              "      <td>-213.081299</td>\n",
              "      <td>-210.852509</td>\n",
              "      <td>-204.946198</td>\n",
              "      <td>-199.189850</td>\n",
              "      <td>...</td>\n",
              "      <td>0.000000</td>\n",
              "      <td>0.000000</td>\n",
              "      <td>0.000000</td>\n",
              "      <td>0.000000</td>\n",
              "      <td>0.000000</td>\n",
              "      <td>0.000000</td>\n",
              "      <td>0.000000</td>\n",
              "      <td>0.000000</td>\n",
              "      <td>0.000000</td>\n",
              "      <td>0</td>\n",
              "    </tr>\n",
              "    <tr>\n",
              "      <th>1373</th>\n",
              "      <td>augmented_ang_N_dogs_rep1_F14.wav</td>\n",
              "      <td>-576.169800</td>\n",
              "      <td>-521.945984</td>\n",
              "      <td>-494.051178</td>\n",
              "      <td>-471.525757</td>\n",
              "      <td>-455.704926</td>\n",
              "      <td>-445.737030</td>\n",
              "      <td>-440.212555</td>\n",
              "      <td>-437.011017</td>\n",
              "      <td>-442.875122</td>\n",
              "      <td>...</td>\n",
              "      <td>13.431019</td>\n",
              "      <td>0.000000</td>\n",
              "      <td>0.000000</td>\n",
              "      <td>0.000000</td>\n",
              "      <td>0.000000</td>\n",
              "      <td>0.000000</td>\n",
              "      <td>0.000000</td>\n",
              "      <td>0.000000</td>\n",
              "      <td>0.000000</td>\n",
              "      <td>1</td>\n",
              "    </tr>\n",
              "  </tbody>\n",
              "</table>\n",
              "<p>5 rows × 3202 columns</p>\n",
              "</div>"
            ],
            "text/plain": [
              "                             Audio_File     mfccs_0     mfccs_1     mfccs_2  \\\n",
              "618             dis_N_dogs_rep1_F14.wav -378.230957 -147.828445  -61.270527   \n",
              "408             fea_N_kids_rep1_F20.wav -398.884430 -317.684967 -333.762970   \n",
              "717   augmented_ang_N_kids_rep1_F10.wav -511.473572 -492.631897 -490.067810   \n",
              "1038             sad_N_kids_rep2_F2.wav -544.362183 -299.286621 -218.807053   \n",
              "1373  augmented_ang_N_dogs_rep1_F14.wav -576.169800 -521.945984 -494.051178   \n",
              "\n",
              "         mfccs_3     mfccs_4     mfccs_5     mfccs_6     mfccs_7     mfccs_8  \\\n",
              "618   -11.818419   10.102351   -2.181944  -23.292358  -40.734718  -47.687645   \n",
              "408  -375.949219 -337.202789 -320.313873 -297.595123 -303.802612 -317.149872   \n",
              "717  -485.700378 -487.335266 -477.557098 -471.596466 -484.152252 -489.793976   \n",
              "1038 -212.497589 -216.737854 -213.081299 -210.852509 -204.946198 -199.189850   \n",
              "1373 -471.525757 -455.704926 -445.737030 -440.212555 -437.011017 -442.875122   \n",
              "\n",
              "      ...  spectral_contrast_691  spectral_contrast_692  \\\n",
              "618   ...              43.201608              42.778948   \n",
              "408   ...              44.568747              43.363276   \n",
              "717   ...              45.605876              50.850619   \n",
              "1038  ...               0.000000               0.000000   \n",
              "1373  ...              13.431019               0.000000   \n",
              "\n",
              "      spectral_contrast_693  spectral_contrast_694  spectral_contrast_695  \\\n",
              "618               44.857264              44.657765              46.132781   \n",
              "408               42.867321              45.056064              46.448084   \n",
              "717               52.314062              47.887207              49.232260   \n",
              "1038               0.000000               0.000000               0.000000   \n",
              "1373               0.000000               0.000000               0.000000   \n",
              "\n",
              "      spectral_contrast_696  spectral_contrast_697  spectral_contrast_698  \\\n",
              "618               48.539726              48.419984              46.837344   \n",
              "408               46.789549              44.238466              43.107447   \n",
              "717               48.161006              50.256966              51.346024   \n",
              "1038               0.000000               0.000000               0.000000   \n",
              "1373               0.000000               0.000000               0.000000   \n",
              "\n",
              "      spectral_contrast_699  anger  \n",
              "618               46.341023      0  \n",
              "408               48.340048      0  \n",
              "717               50.325773      1  \n",
              "1038               0.000000      0  \n",
              "1373               0.000000      1  \n",
              "\n",
              "[5 rows x 3202 columns]"
            ]
          },
          "execution_count": 14,
          "metadata": {},
          "output_type": "execute_result"
        }
      ],
      "source": [
        "# Dataset d'exploitation avec features et sans features selection\n",
        "features = pd.concat([df[\"Audio_File\"],df_mfccs, df_chroma,df_spectral_contrast,df[\"anger\"]], axis=1)\n",
        "features = features.sample(frac = 1) # A changer si le dataset est trop grand\n",
        "features.head()"
      ]
    },
    {
      "cell_type": "code",
      "execution_count": 15,
      "metadata": {},
      "outputs": [
        {
          "data": {
            "text/plain": [
              "(2760, 3202)"
            ]
          },
          "execution_count": 15,
          "metadata": {},
          "output_type": "execute_result"
        }
      ],
      "source": [
        "features.shape"
      ]
    },
    {
      "cell_type": "code",
      "execution_count": 16,
      "metadata": {},
      "outputs": [],
      "source": [
        "# Sauverage du dataset en parquet\n",
        "features.to_parquet('data/datasets/features.parquet', index=False)"
      ]
    },
    {
      "cell_type": "markdown",
      "metadata": {},
      "source": [
        "## Entrainement des models"
      ]
    },
    {
      "cell_type": "markdown",
      "metadata": {},
      "source": [
        "### Définition des modèles"
      ]
    },
    {
      "cell_type": "code",
      "execution_count": 17,
      "metadata": {
        "id": "Y7uE7mCEPEuB"
      },
      "outputs": [],
      "source": [
        "# utilisation de l'algorithme des k plus proches voisins (KNN)\n",
        "def train_model_knn(X_train, y_train):\n",
        "    model = KNeighborsClassifier()\n",
        "    param_grid = {'n_neighbors': [1, 3, 5, 7, 9]}\n",
        "    grid_search = GridSearchCV(model, param_grid, cv=5)\n",
        "    grid_search.fit(X_train, y_train)\n",
        "    best_knn = grid_search.best_estimator_\n",
        "\n",
        "    return best_knn\n",
        "\n",
        "# utilisation de l'algorithme de Support Vector Classifier (SVC)\n",
        "def train_model_svc(X_train, y_train):\n",
        "    model = SVC()\n",
        "    model.fit(X_train, y_train)\n",
        "\n",
        "    return model\n",
        "\n",
        "def train_model_dt(X_train, y_train):\n",
        "    model = DecisionTreeClassifier()\n",
        "    model.fit(X_train, y_train)\n",
        "\n",
        "    return model"
      ]
    },
    {
      "cell_type": "code",
      "execution_count": 18,
      "metadata": {
        "id": "_Q9vMU3TPfUW"
      },
      "outputs": [],
      "source": [
        "def evaluate_model(model, X_test, y_test):\n",
        "    y_pred = model.predict(X_test)\n",
        "\n",
        "    accuracy = accuracy_score(y_test, y_pred)\n",
        "    precision = precision_score(y_test, y_pred, average='weighted')\n",
        "    recall = recall_score(y_test, y_pred, average='weighted')\n",
        "\n",
        "    print(f\"Accuracy: {accuracy:.4f}\")\n",
        "    print(f\"Precision: {precision:.4f}\")\n",
        "    print(f\"Recall: {recall:.4f}\")"
      ]
    },
    {
      "cell_type": "markdown",
      "metadata": {},
      "source": [
        "### Séparation des données en données de train, test et validation"
      ]
    },
    {
      "cell_type": "code",
      "execution_count": 19,
      "metadata": {},
      "outputs": [],
      "source": [
        "X = features.drop(columns=['Audio_File', 'anger'])\n",
        "y = features[\"anger\"].values\n",
        "\n",
        "X_train_valid, X_test, y_train_valid, y_test = train_test_split(X, y, test_size=0.2, random_state=21)"
      ]
    },
    {
      "cell_type": "code",
      "execution_count": 20,
      "metadata": {},
      "outputs": [
        {
          "data": {
            "text/plain": [
              "((2208, 3200), (552, 3200))"
            ]
          },
          "execution_count": 20,
          "metadata": {},
          "output_type": "execute_result"
        }
      ],
      "source": [
        "X_train_valid.shape, X_test.shape"
      ]
    },
    {
      "cell_type": "code",
      "execution_count": 21,
      "metadata": {},
      "outputs": [],
      "source": [
        "X_train, X_valid, y_train, y_valid = train_test_split(X_train_valid, y_train_valid, test_size=0.1, random_state=21)"
      ]
    },
    {
      "cell_type": "code",
      "execution_count": 22,
      "metadata": {},
      "outputs": [
        {
          "data": {
            "text/plain": [
              "((1987, 3200), (221, 3200))"
            ]
          },
          "execution_count": 22,
          "metadata": {},
          "output_type": "execute_result"
        }
      ],
      "source": [
        "X_train.shape, X_valid.shape"
      ]
    },
    {
      "cell_type": "markdown",
      "metadata": {},
      "source": [
        "### Entrainement des modèles"
      ]
    },
    {
      "cell_type": "code",
      "execution_count": 23,
      "metadata": {
        "colab": {
          "base_uri": "https://localhost:8080/"
        },
        "id": "F2IOIY5FP__a",
        "outputId": "1b706c2f-78d5-4141-bb0a-ea0664fa2123"
      },
      "outputs": [
        {
          "name": "stdout",
          "output_type": "stream",
          "text": [
            "Accuracy: 0.9004\n",
            "Precision: 0.8857\n",
            "Recall: 0.9004\n"
          ]
        }
      ],
      "source": [
        "knn_model = train_model_knn(X_train, y_train)\n",
        "evaluate_model(knn_model, X_test, y_test)"
      ]
    },
    {
      "cell_type": "code",
      "execution_count": 24,
      "metadata": {},
      "outputs": [
        {
          "name": "stdout",
          "output_type": "stream",
          "text": [
            "Accuracy: 0.8822\n",
            "Precision: 0.7784\n",
            "Recall: 0.8822\n"
          ]
        },
        {
          "name": "stderr",
          "output_type": "stream",
          "text": [
            "/Users/frederique/Library/Python/3.9/lib/python/site-packages/sklearn/metrics/_classification.py:1334: UndefinedMetricWarning: Precision is ill-defined and being set to 0.0 in labels with no predicted samples. Use `zero_division` parameter to control this behavior.\n",
            "  _warn_prf(average, modifier, msg_start, len(result))\n"
          ]
        }
      ],
      "source": [
        "svm_model = train_model_svc(X_train, y_train)\n",
        "evaluate_model(svm_model, X_test, y_test)"
      ]
    },
    {
      "cell_type": "code",
      "execution_count": 25,
      "metadata": {},
      "outputs": [
        {
          "name": "stdout",
          "output_type": "stream",
          "text": [
            "Accuracy: 0.8315\n",
            "Precision: 0.8304\n",
            "Recall: 0.8315\n"
          ]
        }
      ],
      "source": [
        "dtc_model = train_model_dt(X_train, y_train)\n",
        "evaluate_model(dtc_model, X_test, y_test)"
      ]
    },
    {
      "cell_type": "code",
      "execution_count": 26,
      "metadata": {},
      "outputs": [
        {
          "name": "stdout",
          "output_type": "stream",
          "text": [
            "🔄 Models saving ...\n",
            "✅ Models saved successfully !\n"
          ]
        }
      ],
      "source": [
        "# Sauvegarde des modeles\n",
        "print(\"🔄 Models saving ...\")\n",
        "joblib.dump(knn_model, 'models/knn_model.pkl')\n",
        "joblib.dump(svm_model, 'models/svm_model.pkl')\n",
        "joblib.dump(dtc_model, 'models/dtc_model.pkl')\n",
        "print(\"✅ Models saved successfully !\")"
      ]
    },
    {
      "cell_type": "markdown",
      "metadata": {},
      "source": [
        "## Validation des modèles"
      ]
    },
    {
      "attachments": {},
      "cell_type": "markdown",
      "metadata": {},
      "source": [
        "Avant amélioration du KNN"
      ]
    },
    {
      "cell_type": "code",
      "execution_count": 27,
      "metadata": {},
      "outputs": [],
      "source": [
        "predictions = knn_model.predict(X_valid)"
      ]
    },
    {
      "cell_type": "code",
      "execution_count": 28,
      "metadata": {},
      "outputs": [
        {
          "data": {
            "text/plain": [
              "array([0, 1, 0, 0, 0, 1, 0, 0, 0, 0, 0, 0, 0, 0, 0, 0, 0, 0, 0, 0, 0, 0,\n",
              "       0, 0, 0, 0, 0, 0, 1, 0, 0, 0, 0, 0, 0, 0, 0, 0, 0, 0, 0, 0, 0, 1,\n",
              "       0, 1, 0, 0, 0, 0, 0, 0, 0, 0, 0, 0, 0, 0, 0, 0, 0, 0, 0, 0, 0, 0,\n",
              "       0, 0, 0, 0, 1, 0, 0, 0, 0, 0, 0, 0, 0, 1, 1, 0, 0, 0, 1, 0, 0, 1,\n",
              "       0, 0, 0, 0, 0, 0, 0, 0, 0, 0, 1, 1, 0, 1, 0, 0, 0, 0, 0, 0, 0, 0,\n",
              "       0, 0, 0, 0, 0, 0, 0, 1, 0, 0, 0, 0, 1, 0, 0, 0, 0, 1, 0, 0, 0, 0,\n",
              "       1, 1, 0, 0, 0, 1, 0, 0, 0, 0, 0, 0, 1, 0, 0, 0, 0, 1, 1, 1, 1, 1,\n",
              "       0, 0, 0, 0, 1, 0, 0, 0, 0, 0, 0, 0, 1, 0, 0, 0, 0, 0, 0, 0, 0, 0,\n",
              "       1, 0, 0, 0, 0, 0, 0, 0, 0, 0, 0, 0, 0, 0, 0, 0, 0, 0, 0, 0, 0, 0,\n",
              "       0, 0, 0, 0, 0, 0, 0, 0, 0, 0, 0, 0, 0, 0, 0, 1, 0, 1, 0, 0, 1, 1,\n",
              "       0])"
            ]
          },
          "execution_count": 28,
          "metadata": {},
          "output_type": "execute_result"
        }
      ],
      "source": [
        "y_valid"
      ]
    },
    {
      "cell_type": "code",
      "execution_count": 29,
      "metadata": {},
      "outputs": [
        {
          "data": {
            "text/html": [
              "<div>\n",
              "<style scoped>\n",
              "    .dataframe tbody tr th:only-of-type {\n",
              "        vertical-align: middle;\n",
              "    }\n",
              "\n",
              "    .dataframe tbody tr th {\n",
              "        vertical-align: top;\n",
              "    }\n",
              "\n",
              "    .dataframe thead th {\n",
              "        text-align: right;\n",
              "    }\n",
              "</style>\n",
              "<table border=\"1\" class=\"dataframe\">\n",
              "  <thead>\n",
              "    <tr style=\"text-align: right;\">\n",
              "      <th></th>\n",
              "      <th>Actual</th>\n",
              "      <th>Predicted</th>\n",
              "      <th>OK ?</th>\n",
              "    </tr>\n",
              "  </thead>\n",
              "  <tbody>\n",
              "    <tr>\n",
              "      <th>0</th>\n",
              "      <td>0</td>\n",
              "      <td>0</td>\n",
              "      <td>True</td>\n",
              "    </tr>\n",
              "    <tr>\n",
              "      <th>1</th>\n",
              "      <td>1</td>\n",
              "      <td>0</td>\n",
              "      <td>False</td>\n",
              "    </tr>\n",
              "    <tr>\n",
              "      <th>2</th>\n",
              "      <td>0</td>\n",
              "      <td>0</td>\n",
              "      <td>True</td>\n",
              "    </tr>\n",
              "    <tr>\n",
              "      <th>3</th>\n",
              "      <td>0</td>\n",
              "      <td>0</td>\n",
              "      <td>True</td>\n",
              "    </tr>\n",
              "    <tr>\n",
              "      <th>4</th>\n",
              "      <td>0</td>\n",
              "      <td>0</td>\n",
              "      <td>True</td>\n",
              "    </tr>\n",
              "    <tr>\n",
              "      <th>5</th>\n",
              "      <td>1</td>\n",
              "      <td>1</td>\n",
              "      <td>True</td>\n",
              "    </tr>\n",
              "    <tr>\n",
              "      <th>6</th>\n",
              "      <td>0</td>\n",
              "      <td>0</td>\n",
              "      <td>True</td>\n",
              "    </tr>\n",
              "    <tr>\n",
              "      <th>7</th>\n",
              "      <td>0</td>\n",
              "      <td>0</td>\n",
              "      <td>True</td>\n",
              "    </tr>\n",
              "    <tr>\n",
              "      <th>8</th>\n",
              "      <td>0</td>\n",
              "      <td>0</td>\n",
              "      <td>True</td>\n",
              "    </tr>\n",
              "    <tr>\n",
              "      <th>9</th>\n",
              "      <td>0</td>\n",
              "      <td>0</td>\n",
              "      <td>True</td>\n",
              "    </tr>\n",
              "    <tr>\n",
              "      <th>10</th>\n",
              "      <td>0</td>\n",
              "      <td>0</td>\n",
              "      <td>True</td>\n",
              "    </tr>\n",
              "    <tr>\n",
              "      <th>11</th>\n",
              "      <td>0</td>\n",
              "      <td>0</td>\n",
              "      <td>True</td>\n",
              "    </tr>\n",
              "    <tr>\n",
              "      <th>12</th>\n",
              "      <td>0</td>\n",
              "      <td>0</td>\n",
              "      <td>True</td>\n",
              "    </tr>\n",
              "    <tr>\n",
              "      <th>13</th>\n",
              "      <td>0</td>\n",
              "      <td>0</td>\n",
              "      <td>True</td>\n",
              "    </tr>\n",
              "    <tr>\n",
              "      <th>14</th>\n",
              "      <td>0</td>\n",
              "      <td>0</td>\n",
              "      <td>True</td>\n",
              "    </tr>\n",
              "    <tr>\n",
              "      <th>15</th>\n",
              "      <td>0</td>\n",
              "      <td>0</td>\n",
              "      <td>True</td>\n",
              "    </tr>\n",
              "    <tr>\n",
              "      <th>16</th>\n",
              "      <td>0</td>\n",
              "      <td>0</td>\n",
              "      <td>True</td>\n",
              "    </tr>\n",
              "    <tr>\n",
              "      <th>17</th>\n",
              "      <td>0</td>\n",
              "      <td>0</td>\n",
              "      <td>True</td>\n",
              "    </tr>\n",
              "    <tr>\n",
              "      <th>18</th>\n",
              "      <td>0</td>\n",
              "      <td>0</td>\n",
              "      <td>True</td>\n",
              "    </tr>\n",
              "    <tr>\n",
              "      <th>19</th>\n",
              "      <td>0</td>\n",
              "      <td>0</td>\n",
              "      <td>True</td>\n",
              "    </tr>\n",
              "  </tbody>\n",
              "</table>\n",
              "</div>"
            ],
            "text/plain": [
              "    Actual  Predicted   OK ?\n",
              "0        0          0   True\n",
              "1        1          0  False\n",
              "2        0          0   True\n",
              "3        0          0   True\n",
              "4        0          0   True\n",
              "5        1          1   True\n",
              "6        0          0   True\n",
              "7        0          0   True\n",
              "8        0          0   True\n",
              "9        0          0   True\n",
              "10       0          0   True\n",
              "11       0          0   True\n",
              "12       0          0   True\n",
              "13       0          0   True\n",
              "14       0          0   True\n",
              "15       0          0   True\n",
              "16       0          0   True\n",
              "17       0          0   True\n",
              "18       0          0   True\n",
              "19       0          0   True"
            ]
          },
          "execution_count": 29,
          "metadata": {},
          "output_type": "execute_result"
        }
      ],
      "source": [
        "compare = pd.DataFrame({'Actual': y_valid, 'Predicted': predictions, 'OK ?': y_valid == predictions})\n",
        "compare.head(20)"
      ]
    },
    {
      "cell_type": "code",
      "execution_count": 30,
      "metadata": {},
      "outputs": [
        {
          "data": {
            "text/html": [
              "<div>\n",
              "<style scoped>\n",
              "    .dataframe tbody tr th:only-of-type {\n",
              "        vertical-align: middle;\n",
              "    }\n",
              "\n",
              "    .dataframe tbody tr th {\n",
              "        vertical-align: top;\n",
              "    }\n",
              "\n",
              "    .dataframe thead th {\n",
              "        text-align: right;\n",
              "    }\n",
              "</style>\n",
              "<table border=\"1\" class=\"dataframe\">\n",
              "  <thead>\n",
              "    <tr style=\"text-align: right;\">\n",
              "      <th></th>\n",
              "      <th>Actual</th>\n",
              "      <th>Predicted</th>\n",
              "      <th>OK ?</th>\n",
              "    </tr>\n",
              "  </thead>\n",
              "  <tbody>\n",
              "    <tr>\n",
              "      <th>1</th>\n",
              "      <td>1</td>\n",
              "      <td>0</td>\n",
              "      <td>False</td>\n",
              "    </tr>\n",
              "    <tr>\n",
              "      <th>29</th>\n",
              "      <td>0</td>\n",
              "      <td>1</td>\n",
              "      <td>False</td>\n",
              "    </tr>\n",
              "    <tr>\n",
              "      <th>31</th>\n",
              "      <td>0</td>\n",
              "      <td>1</td>\n",
              "      <td>False</td>\n",
              "    </tr>\n",
              "    <tr>\n",
              "      <th>43</th>\n",
              "      <td>1</td>\n",
              "      <td>0</td>\n",
              "      <td>False</td>\n",
              "    </tr>\n",
              "    <tr>\n",
              "      <th>54</th>\n",
              "      <td>0</td>\n",
              "      <td>1</td>\n",
              "      <td>False</td>\n",
              "    </tr>\n",
              "    <tr>\n",
              "      <th>62</th>\n",
              "      <td>0</td>\n",
              "      <td>1</td>\n",
              "      <td>False</td>\n",
              "    </tr>\n",
              "    <tr>\n",
              "      <th>80</th>\n",
              "      <td>1</td>\n",
              "      <td>0</td>\n",
              "      <td>False</td>\n",
              "    </tr>\n",
              "    <tr>\n",
              "      <th>84</th>\n",
              "      <td>1</td>\n",
              "      <td>0</td>\n",
              "      <td>False</td>\n",
              "    </tr>\n",
              "    <tr>\n",
              "      <th>87</th>\n",
              "      <td>1</td>\n",
              "      <td>0</td>\n",
              "      <td>False</td>\n",
              "    </tr>\n",
              "    <tr>\n",
              "      <th>98</th>\n",
              "      <td>1</td>\n",
              "      <td>0</td>\n",
              "      <td>False</td>\n",
              "    </tr>\n",
              "    <tr>\n",
              "      <th>101</th>\n",
              "      <td>1</td>\n",
              "      <td>0</td>\n",
              "      <td>False</td>\n",
              "    </tr>\n",
              "    <tr>\n",
              "      <th>117</th>\n",
              "      <td>1</td>\n",
              "      <td>0</td>\n",
              "      <td>False</td>\n",
              "    </tr>\n",
              "    <tr>\n",
              "      <th>122</th>\n",
              "      <td>1</td>\n",
              "      <td>0</td>\n",
              "      <td>False</td>\n",
              "    </tr>\n",
              "    <tr>\n",
              "      <th>127</th>\n",
              "      <td>1</td>\n",
              "      <td>0</td>\n",
              "      <td>False</td>\n",
              "    </tr>\n",
              "    <tr>\n",
              "      <th>132</th>\n",
              "      <td>1</td>\n",
              "      <td>0</td>\n",
              "      <td>False</td>\n",
              "    </tr>\n",
              "    <tr>\n",
              "      <th>142</th>\n",
              "      <td>0</td>\n",
              "      <td>1</td>\n",
              "      <td>False</td>\n",
              "    </tr>\n",
              "    <tr>\n",
              "      <th>144</th>\n",
              "      <td>1</td>\n",
              "      <td>0</td>\n",
              "      <td>False</td>\n",
              "    </tr>\n",
              "    <tr>\n",
              "      <th>149</th>\n",
              "      <td>1</td>\n",
              "      <td>0</td>\n",
              "      <td>False</td>\n",
              "    </tr>\n",
              "    <tr>\n",
              "      <th>150</th>\n",
              "      <td>1</td>\n",
              "      <td>0</td>\n",
              "      <td>False</td>\n",
              "    </tr>\n",
              "    <tr>\n",
              "      <th>153</th>\n",
              "      <td>1</td>\n",
              "      <td>0</td>\n",
              "      <td>False</td>\n",
              "    </tr>\n",
              "    <tr>\n",
              "      <th>158</th>\n",
              "      <td>1</td>\n",
              "      <td>0</td>\n",
              "      <td>False</td>\n",
              "    </tr>\n",
              "    <tr>\n",
              "      <th>160</th>\n",
              "      <td>0</td>\n",
              "      <td>1</td>\n",
              "      <td>False</td>\n",
              "    </tr>\n",
              "    <tr>\n",
              "      <th>165</th>\n",
              "      <td>0</td>\n",
              "      <td>1</td>\n",
              "      <td>False</td>\n",
              "    </tr>\n",
              "    <tr>\n",
              "      <th>176</th>\n",
              "      <td>1</td>\n",
              "      <td>0</td>\n",
              "      <td>False</td>\n",
              "    </tr>\n",
              "    <tr>\n",
              "      <th>197</th>\n",
              "      <td>0</td>\n",
              "      <td>1</td>\n",
              "      <td>False</td>\n",
              "    </tr>\n",
              "    <tr>\n",
              "      <th>198</th>\n",
              "      <td>0</td>\n",
              "      <td>1</td>\n",
              "      <td>False</td>\n",
              "    </tr>\n",
              "    <tr>\n",
              "      <th>213</th>\n",
              "      <td>1</td>\n",
              "      <td>0</td>\n",
              "      <td>False</td>\n",
              "    </tr>\n",
              "    <tr>\n",
              "      <th>215</th>\n",
              "      <td>1</td>\n",
              "      <td>0</td>\n",
              "      <td>False</td>\n",
              "    </tr>\n",
              "    <tr>\n",
              "      <th>218</th>\n",
              "      <td>1</td>\n",
              "      <td>0</td>\n",
              "      <td>False</td>\n",
              "    </tr>\n",
              "    <tr>\n",
              "      <th>219</th>\n",
              "      <td>1</td>\n",
              "      <td>0</td>\n",
              "      <td>False</td>\n",
              "    </tr>\n",
              "  </tbody>\n",
              "</table>\n",
              "</div>"
            ],
            "text/plain": [
              "     Actual  Predicted   OK ?\n",
              "1         1          0  False\n",
              "29        0          1  False\n",
              "31        0          1  False\n",
              "43        1          0  False\n",
              "54        0          1  False\n",
              "62        0          1  False\n",
              "80        1          0  False\n",
              "84        1          0  False\n",
              "87        1          0  False\n",
              "98        1          0  False\n",
              "101       1          0  False\n",
              "117       1          0  False\n",
              "122       1          0  False\n",
              "127       1          0  False\n",
              "132       1          0  False\n",
              "142       0          1  False\n",
              "144       1          0  False\n",
              "149       1          0  False\n",
              "150       1          0  False\n",
              "153       1          0  False\n",
              "158       1          0  False\n",
              "160       0          1  False\n",
              "165       0          1  False\n",
              "176       1          0  False\n",
              "197       0          1  False\n",
              "198       0          1  False\n",
              "213       1          0  False\n",
              "215       1          0  False\n",
              "218       1          0  False\n",
              "219       1          0  False"
            ]
          },
          "execution_count": 30,
          "metadata": {},
          "output_type": "execute_result"
        }
      ],
      "source": [
        "# lignes dont la prédiction n'est pas correcte\n",
        "compare[compare[\"OK ?\"] == False]"
      ]
    },
    {
      "cell_type": "code",
      "execution_count": 31,
      "metadata": {},
      "outputs": [
        {
          "name": "stdout",
          "output_type": "stream",
          "text": [
            "Nombre de lignes dont la prédiction n'est pas correcte: 30\n"
          ]
        }
      ],
      "source": [
        "# nombre de lignes dont la prédiction n'est pas correcte\n",
        "nombre_de_lignes = compare[compare[\"OK ?\"] == False].shape[0]\n",
        "print(\"Nombre de lignes dont la prédiction n'est pas correcte:\", nombre_de_lignes)"
      ]
    },
    {
      "cell_type": "code",
      "execution_count": 39,
      "metadata": {},
      "outputs": [
        {
          "name": "stdout",
          "output_type": "stream",
          "text": [
            "True     191\n",
            "False     30\n",
            "Name: OK ?, dtype: int64\n"
          ]
        },
        {
          "data": {
            "text/plain": [
              "<BarContainer object of 2 artists>"
            ]
          },
          "execution_count": 39,
          "metadata": {},
          "output_type": "execute_result"
        },
        {
          "data": {
            "image/png": "[encoded data removed]",
            "text/plain": [
              "<Figure size 1600x500 with 1 Axes>"
            ]
          },
          "metadata": {},
          "output_type": "display_data"
        }
      ],
      "source": [
        "import matplotlib.pyplot as plt \n",
        "\n",
        "# Compter les occurrences de chaque valeur dans la colonne\n",
        "counts = compare['OK ?'].value_counts()\n",
        "print(counts)\n",
        "# Créer le graphique à barres\n",
        "plt.bar([\"True\", \"False\"], counts.values)"
      ]
    },
    {
      "attachments": {},
      "cell_type": "markdown",
      "metadata": {},
      "source": [
        "Après amélioration du knn"
      ]
    },
    {
      "cell_type": "code",
      "execution_count": 40,
      "metadata": {},
      "outputs": [],
      "source": [
        "# utilisation de l'algorithme des k plus proches voisins (KNN)\n",
        "from sklearn.ensemble import VotingClassifier\n",
        "def train_model_knn_with_amelioration(X_train, y_train):\n",
        "    param_grid = {'n_neighbors': [1, 3, 5, 7, 9], 'metric': ['euclidean', 'manhattan']}\n",
        "    knn = KNeighborsClassifier(weights='distance')\n",
        "    grid_search = GridSearchCV(knn, param_grid, cv=5)\n",
        "    grid_search.fit(X_train, y_train)\n",
        "    best_params = grid_search.best_params_\n",
        "    best_k = best_params['n_neighbors']\n",
        "    best_metric = best_params['metric']\n",
        "\n",
        "    knn_clf = KNeighborsClassifier(n_neighbors=best_k, metric=best_metric)\n",
        "    knn_clf.fit(X_train, y_train)\n",
        "\n",
        "    return knn_clf"
      ]
    },
    {
      "cell_type": "code",
      "execution_count": 41,
      "metadata": {},
      "outputs": [],
      "source": [
        "knn_model_with_amelioration = train_model_knn_with_amelioration(X_train, y_train)"
      ]
    },
    {
      "cell_type": "code",
      "execution_count": 42,
      "metadata": {},
      "outputs": [
        {
          "name": "stdout",
          "output_type": "stream",
          "text": [
            "🔄 Models saving ...\n"
          ]
        },
        {
          "data": {
            "text/plain": [
              "['models/knn_model_with_amelioration.pkl']"
            ]
          },
          "execution_count": 42,
          "metadata": {},
          "output_type": "execute_result"
        }
      ],
      "source": [
        "# Sauvegarde du knn amelioré\n",
        "print(\"🔄 Models saving ...\")\n",
        "joblib.dump(knn_model_with_amelioration, 'models/knn_model_with_amelioration.pkl')"
      ]
    },
    {
      "cell_type": "code",
      "execution_count": 43,
      "metadata": {},
      "outputs": [],
      "source": [
        "predictions_with_amelioration = knn_model_with_amelioration.predict(X_valid)"
      ]
    },
    {
      "cell_type": "code",
      "execution_count": 44,
      "metadata": {},
      "outputs": [
        {
          "data": {
            "text/html": [
              "<div>\n",
              "<style scoped>\n",
              "    .dataframe tbody tr th:only-of-type {\n",
              "        vertical-align: middle;\n",
              "    }\n",
              "\n",
              "    .dataframe tbody tr th {\n",
              "        vertical-align: top;\n",
              "    }\n",
              "\n",
              "    .dataframe thead th {\n",
              "        text-align: right;\n",
              "    }\n",
              "</style>\n",
              "<table border=\"1\" class=\"dataframe\">\n",
              "  <thead>\n",
              "    <tr style=\"text-align: right;\">\n",
              "      <th></th>\n",
              "      <th>Actual</th>\n",
              "      <th>Predicted</th>\n",
              "      <th>OK ?</th>\n",
              "    </tr>\n",
              "  </thead>\n",
              "  <tbody>\n",
              "    <tr>\n",
              "      <th>0</th>\n",
              "      <td>0</td>\n",
              "      <td>0</td>\n",
              "      <td>True</td>\n",
              "    </tr>\n",
              "    <tr>\n",
              "      <th>1</th>\n",
              "      <td>1</td>\n",
              "      <td>0</td>\n",
              "      <td>False</td>\n",
              "    </tr>\n",
              "    <tr>\n",
              "      <th>2</th>\n",
              "      <td>0</td>\n",
              "      <td>0</td>\n",
              "      <td>True</td>\n",
              "    </tr>\n",
              "    <tr>\n",
              "      <th>3</th>\n",
              "      <td>0</td>\n",
              "      <td>0</td>\n",
              "      <td>True</td>\n",
              "    </tr>\n",
              "    <tr>\n",
              "      <th>4</th>\n",
              "      <td>0</td>\n",
              "      <td>0</td>\n",
              "      <td>True</td>\n",
              "    </tr>\n",
              "    <tr>\n",
              "      <th>5</th>\n",
              "      <td>1</td>\n",
              "      <td>1</td>\n",
              "      <td>True</td>\n",
              "    </tr>\n",
              "    <tr>\n",
              "      <th>6</th>\n",
              "      <td>0</td>\n",
              "      <td>0</td>\n",
              "      <td>True</td>\n",
              "    </tr>\n",
              "    <tr>\n",
              "      <th>7</th>\n",
              "      <td>0</td>\n",
              "      <td>0</td>\n",
              "      <td>True</td>\n",
              "    </tr>\n",
              "    <tr>\n",
              "      <th>8</th>\n",
              "      <td>0</td>\n",
              "      <td>0</td>\n",
              "      <td>True</td>\n",
              "    </tr>\n",
              "    <tr>\n",
              "      <th>9</th>\n",
              "      <td>0</td>\n",
              "      <td>0</td>\n",
              "      <td>True</td>\n",
              "    </tr>\n",
              "    <tr>\n",
              "      <th>10</th>\n",
              "      <td>0</td>\n",
              "      <td>0</td>\n",
              "      <td>True</td>\n",
              "    </tr>\n",
              "    <tr>\n",
              "      <th>11</th>\n",
              "      <td>0</td>\n",
              "      <td>0</td>\n",
              "      <td>True</td>\n",
              "    </tr>\n",
              "    <tr>\n",
              "      <th>12</th>\n",
              "      <td>0</td>\n",
              "      <td>0</td>\n",
              "      <td>True</td>\n",
              "    </tr>\n",
              "    <tr>\n",
              "      <th>13</th>\n",
              "      <td>0</td>\n",
              "      <td>0</td>\n",
              "      <td>True</td>\n",
              "    </tr>\n",
              "    <tr>\n",
              "      <th>14</th>\n",
              "      <td>0</td>\n",
              "      <td>0</td>\n",
              "      <td>True</td>\n",
              "    </tr>\n",
              "    <tr>\n",
              "      <th>15</th>\n",
              "      <td>0</td>\n",
              "      <td>0</td>\n",
              "      <td>True</td>\n",
              "    </tr>\n",
              "    <tr>\n",
              "      <th>16</th>\n",
              "      <td>0</td>\n",
              "      <td>0</td>\n",
              "      <td>True</td>\n",
              "    </tr>\n",
              "    <tr>\n",
              "      <th>17</th>\n",
              "      <td>0</td>\n",
              "      <td>0</td>\n",
              "      <td>True</td>\n",
              "    </tr>\n",
              "    <tr>\n",
              "      <th>18</th>\n",
              "      <td>0</td>\n",
              "      <td>0</td>\n",
              "      <td>True</td>\n",
              "    </tr>\n",
              "    <tr>\n",
              "      <th>19</th>\n",
              "      <td>0</td>\n",
              "      <td>0</td>\n",
              "      <td>True</td>\n",
              "    </tr>\n",
              "  </tbody>\n",
              "</table>\n",
              "</div>"
            ],
            "text/plain": [
              "    Actual  Predicted   OK ?\n",
              "0        0          0   True\n",
              "1        1          0  False\n",
              "2        0          0   True\n",
              "3        0          0   True\n",
              "4        0          0   True\n",
              "5        1          1   True\n",
              "6        0          0   True\n",
              "7        0          0   True\n",
              "8        0          0   True\n",
              "9        0          0   True\n",
              "10       0          0   True\n",
              "11       0          0   True\n",
              "12       0          0   True\n",
              "13       0          0   True\n",
              "14       0          0   True\n",
              "15       0          0   True\n",
              "16       0          0   True\n",
              "17       0          0   True\n",
              "18       0          0   True\n",
              "19       0          0   True"
            ]
          },
          "execution_count": 44,
          "metadata": {},
          "output_type": "execute_result"
        }
      ],
      "source": [
        "compare = pd.DataFrame({'Actual': y_valid, 'Predicted': predictions_with_amelioration, 'OK ?': y_valid == predictions_with_amelioration})\n",
        "compare.head(20)"
      ]
    },
    {
      "cell_type": "code",
      "execution_count": 45,
      "metadata": {},
      "outputs": [
        {
          "data": {
            "text/html": [
              "<div>\n",
              "<style scoped>\n",
              "    .dataframe tbody tr th:only-of-type {\n",
              "        vertical-align: middle;\n",
              "    }\n",
              "\n",
              "    .dataframe tbody tr th {\n",
              "        vertical-align: top;\n",
              "    }\n",
              "\n",
              "    .dataframe thead th {\n",
              "        text-align: right;\n",
              "    }\n",
              "</style>\n",
              "<table border=\"1\" class=\"dataframe\">\n",
              "  <thead>\n",
              "    <tr style=\"text-align: right;\">\n",
              "      <th></th>\n",
              "      <th>Actual</th>\n",
              "      <th>Predicted</th>\n",
              "      <th>OK ?</th>\n",
              "    </tr>\n",
              "  </thead>\n",
              "  <tbody>\n",
              "    <tr>\n",
              "      <th>1</th>\n",
              "      <td>1</td>\n",
              "      <td>0</td>\n",
              "      <td>False</td>\n",
              "    </tr>\n",
              "    <tr>\n",
              "      <th>28</th>\n",
              "      <td>1</td>\n",
              "      <td>0</td>\n",
              "      <td>False</td>\n",
              "    </tr>\n",
              "    <tr>\n",
              "      <th>43</th>\n",
              "      <td>1</td>\n",
              "      <td>0</td>\n",
              "      <td>False</td>\n",
              "    </tr>\n",
              "    <tr>\n",
              "      <th>62</th>\n",
              "      <td>0</td>\n",
              "      <td>1</td>\n",
              "      <td>False</td>\n",
              "    </tr>\n",
              "    <tr>\n",
              "      <th>84</th>\n",
              "      <td>1</td>\n",
              "      <td>0</td>\n",
              "      <td>False</td>\n",
              "    </tr>\n",
              "    <tr>\n",
              "      <th>85</th>\n",
              "      <td>0</td>\n",
              "      <td>1</td>\n",
              "      <td>False</td>\n",
              "    </tr>\n",
              "    <tr>\n",
              "      <th>87</th>\n",
              "      <td>1</td>\n",
              "      <td>0</td>\n",
              "      <td>False</td>\n",
              "    </tr>\n",
              "    <tr>\n",
              "      <th>98</th>\n",
              "      <td>1</td>\n",
              "      <td>0</td>\n",
              "      <td>False</td>\n",
              "    </tr>\n",
              "    <tr>\n",
              "      <th>101</th>\n",
              "      <td>1</td>\n",
              "      <td>0</td>\n",
              "      <td>False</td>\n",
              "    </tr>\n",
              "    <tr>\n",
              "      <th>117</th>\n",
              "      <td>1</td>\n",
              "      <td>0</td>\n",
              "      <td>False</td>\n",
              "    </tr>\n",
              "    <tr>\n",
              "      <th>122</th>\n",
              "      <td>1</td>\n",
              "      <td>0</td>\n",
              "      <td>False</td>\n",
              "    </tr>\n",
              "    <tr>\n",
              "      <th>127</th>\n",
              "      <td>1</td>\n",
              "      <td>0</td>\n",
              "      <td>False</td>\n",
              "    </tr>\n",
              "    <tr>\n",
              "      <th>132</th>\n",
              "      <td>1</td>\n",
              "      <td>0</td>\n",
              "      <td>False</td>\n",
              "    </tr>\n",
              "    <tr>\n",
              "      <th>134</th>\n",
              "      <td>0</td>\n",
              "      <td>1</td>\n",
              "      <td>False</td>\n",
              "    </tr>\n",
              "    <tr>\n",
              "      <th>142</th>\n",
              "      <td>0</td>\n",
              "      <td>1</td>\n",
              "      <td>False</td>\n",
              "    </tr>\n",
              "    <tr>\n",
              "      <th>144</th>\n",
              "      <td>1</td>\n",
              "      <td>0</td>\n",
              "      <td>False</td>\n",
              "    </tr>\n",
              "    <tr>\n",
              "      <th>149</th>\n",
              "      <td>1</td>\n",
              "      <td>0</td>\n",
              "      <td>False</td>\n",
              "    </tr>\n",
              "    <tr>\n",
              "      <th>150</th>\n",
              "      <td>1</td>\n",
              "      <td>0</td>\n",
              "      <td>False</td>\n",
              "    </tr>\n",
              "    <tr>\n",
              "      <th>151</th>\n",
              "      <td>1</td>\n",
              "      <td>0</td>\n",
              "      <td>False</td>\n",
              "    </tr>\n",
              "    <tr>\n",
              "      <th>153</th>\n",
              "      <td>1</td>\n",
              "      <td>0</td>\n",
              "      <td>False</td>\n",
              "    </tr>\n",
              "    <tr>\n",
              "      <th>158</th>\n",
              "      <td>1</td>\n",
              "      <td>0</td>\n",
              "      <td>False</td>\n",
              "    </tr>\n",
              "    <tr>\n",
              "      <th>176</th>\n",
              "      <td>1</td>\n",
              "      <td>0</td>\n",
              "      <td>False</td>\n",
              "    </tr>\n",
              "    <tr>\n",
              "      <th>199</th>\n",
              "      <td>0</td>\n",
              "      <td>1</td>\n",
              "      <td>False</td>\n",
              "    </tr>\n",
              "    <tr>\n",
              "      <th>213</th>\n",
              "      <td>1</td>\n",
              "      <td>0</td>\n",
              "      <td>False</td>\n",
              "    </tr>\n",
              "    <tr>\n",
              "      <th>215</th>\n",
              "      <td>1</td>\n",
              "      <td>0</td>\n",
              "      <td>False</td>\n",
              "    </tr>\n",
              "    <tr>\n",
              "      <th>218</th>\n",
              "      <td>1</td>\n",
              "      <td>0</td>\n",
              "      <td>False</td>\n",
              "    </tr>\n",
              "    <tr>\n",
              "      <th>219</th>\n",
              "      <td>1</td>\n",
              "      <td>0</td>\n",
              "      <td>False</td>\n",
              "    </tr>\n",
              "  </tbody>\n",
              "</table>\n",
              "</div>"
            ],
            "text/plain": [
              "     Actual  Predicted   OK ?\n",
              "1         1          0  False\n",
              "28        1          0  False\n",
              "43        1          0  False\n",
              "62        0          1  False\n",
              "84        1          0  False\n",
              "85        0          1  False\n",
              "87        1          0  False\n",
              "98        1          0  False\n",
              "101       1          0  False\n",
              "117       1          0  False\n",
              "122       1          0  False\n",
              "127       1          0  False\n",
              "132       1          0  False\n",
              "134       0          1  False\n",
              "142       0          1  False\n",
              "144       1          0  False\n",
              "149       1          0  False\n",
              "150       1          0  False\n",
              "151       1          0  False\n",
              "153       1          0  False\n",
              "158       1          0  False\n",
              "176       1          0  False\n",
              "199       0          1  False\n",
              "213       1          0  False\n",
              "215       1          0  False\n",
              "218       1          0  False\n",
              "219       1          0  False"
            ]
          },
          "execution_count": 45,
          "metadata": {},
          "output_type": "execute_result"
        }
      ],
      "source": [
        "# lignes dont la prédiction n'est pas correcte\n",
        "compare[compare[\"OK ?\"] == False]"
      ]
    },
    {
      "cell_type": "code",
      "execution_count": 46,
      "metadata": {},
      "outputs": [
        {
          "name": "stdout",
          "output_type": "stream",
          "text": [
            "nombre total de predictions: 221\n"
          ]
        }
      ],
      "source": [
        "# nombre total de predictions effectuées\n",
        "print(\"nombre total de predictions:\", predictions_with_amelioration.shape[0])"
      ]
    },
    {
      "cell_type": "code",
      "execution_count": 47,
      "metadata": {},
      "outputs": [
        {
          "name": "stdout",
          "output_type": "stream",
          "text": [
            "Nombre de lignes dont la prédiction n'est pas correcte: 27\n"
          ]
        }
      ],
      "source": [
        "# nombre de lignes dont la prédiction n'est pas correcte\n",
        "nombre_de_lignes = compare[compare[\"OK ?\"] == False].shape[0]\n",
        "print(\"Nombre de lignes dont la prédiction n'est pas correcte:\", nombre_de_lignes)"
      ]
    },
    {
      "cell_type": "code",
      "execution_count": 48,
      "metadata": {},
      "outputs": [
        {
          "name": "stdout",
          "output_type": "stream",
          "text": [
            "Accuracy: 0.9004\n",
            "Precision: 0.8857\n",
            "Recall: 0.9004\n"
          ]
        }
      ],
      "source": [
        "# avant amélioration du knn\n",
        "evaluate_model(knn_model, X_test, y_test)"
      ]
    },
    {
      "cell_type": "code",
      "execution_count": 49,
      "metadata": {},
      "outputs": [
        {
          "name": "stdout",
          "output_type": "stream",
          "text": [
            "Accuracy: 0.9203\n",
            "Precision: 0.9129\n",
            "Recall: 0.9203\n"
          ]
        }
      ],
      "source": [
        "# après amélioration du modele KNN\n",
        "evaluate_model(knn_model_with_amelioration, X_test, y_test)"
      ]
    },
    {
      "cell_type": "code",
      "execution_count": 50,
      "metadata": {},
      "outputs": [
        {
          "name": "stdout",
          "output_type": "stream",
          "text": [
            "True     194\n",
            "False     27\n",
            "Name: OK ?, dtype: int64\n"
          ]
        },
        {
          "data": {
            "text/plain": [
              "<BarContainer object of 2 artists>"
            ]
          },
          "execution_count": 50,
          "metadata": {},
          "output_type": "execute_result"
        },
        {
          "data": {
            "image/png": "[encoded data removed]",
            "text/plain": [
              "<Figure size 1600x500 with 1 Axes>"
            ]
          },
          "metadata": {},
          "output_type": "display_data"
        }
      ],
      "source": [
        "import matplotlib.pyplot as plt \n",
        "\n",
        "# Compter les occurrences de chaque valeur dans la colonne\n",
        "counts = compare['OK ?'].value_counts()\n",
        "print(counts)\n",
        "# Créer le graphique à barres\n",
        "plt.bar([\"True\", \"False\"], counts.values)"
      ]
    },
    {
      "cell_type": "markdown",
      "metadata": {},
      "source": [
        "## Test des modèles sur d'autres fichiers audios"
      ]
    },
    {
      "cell_type": "code",
      "execution_count": 30,
      "metadata": {},
      "outputs": [],
      "source": [
        "# Chargement des modeles\n",
        "knn_model = joblib.load('models/knn_model.pkl')\n",
        "svm_model = joblib.load('models/svm_model.pkl')\n",
        "dtc_model = joblib.load('models/dtc_model.pkl')"
      ]
    },
    {
      "cell_type": "code",
      "execution_count": 31,
      "metadata": {},
      "outputs": [],
      "source": [
        "def predict_emotion(audio_test_file):\n",
        "    normalized_y, sr = process_audio(audio_test_file)\n",
        "    flat_mfccs, flat_chroma, flat_spectral_contrast = extract_features(normalized_y, sr)\n",
        "\n",
        "    flat_mfccs = np.array(flat_mfccs).reshape(1, -1)\n",
        "    flat_chroma = np.array(flat_chroma).reshape(1, -1)\n",
        "    flat_spectral_contrast = np.array(flat_spectral_contrast).reshape(1, -1)\n",
        "\n",
        "    flat_features = np.concatenate((flat_mfccs, flat_chroma, flat_spectral_contrast), axis=1)\n",
        "\n",
        "    knn_prediction = knn_model.predict(flat_features)\n",
        "    svm_prediction = svm_model.predict(flat_features)\n",
        "    dtc_prediction = dtc_model.predict(flat_features)\n",
        "\n",
        "    print(\"Audio File is anger: \", audio_test_file)\n",
        "    print(\"KNN: \", knn_prediction == 1)\n",
        "    print(\"SVM: \", svm_prediction == 1)\n",
        "    print(\"DTC: \", dtc_prediction == 1)"
      ]
    },
    {
      "cell_type": "code",
      "execution_count": 32,
      "metadata": {},
      "outputs": [
        {
          "name": "stdout",
          "output_type": "stream",
          "text": [
            "Audio File is anger:  data/test_data/OAF_base_angry.wav\n",
            "KNN:  [ True]\n",
            "SVM:  [False]\n",
            "DTC:  [False]\n"
          ]
        },
        {
          "name": "stderr",
          "output_type": "stream",
          "text": [
            "/Users/frederique/Library/Python/3.9/lib/python/site-packages/sklearn/base.py:450: UserWarning: X does not have valid feature names, but KNeighborsClassifier was fitted with feature names\n",
            "  warnings.warn(\n",
            "/Users/frederique/Library/Python/3.9/lib/python/site-packages/sklearn/base.py:450: UserWarning: X does not have valid feature names, but SVC was fitted with feature names\n",
            "  warnings.warn(\n",
            "/Users/frederique/Library/Python/3.9/lib/python/site-packages/sklearn/base.py:450: UserWarning: X does not have valid feature names, but DecisionTreeClassifier was fitted with feature names\n",
            "  warnings.warn(\n"
          ]
        }
      ],
      "source": [
        "audio_file = \"data/test_data/OAF_base_angry.wav\"\n",
        "predict_emotion(audio_file)"
      ]
    },
    {
      "cell_type": "code",
      "execution_count": 33,
      "metadata": {},
      "outputs": [
        {
          "name": "stdout",
          "output_type": "stream",
          "text": [
            "Audio File is anger:  data/test_data/OAF_bath_angry.wav\n",
            "KNN:  [ True]\n",
            "SVM:  [False]\n",
            "DTC:  [False]\n"
          ]
        },
        {
          "name": "stderr",
          "output_type": "stream",
          "text": [
            "/Users/frederique/Library/Python/3.9/lib/python/site-packages/sklearn/base.py:450: UserWarning: X does not have valid feature names, but KNeighborsClassifier was fitted with feature names\n",
            "  warnings.warn(\n",
            "/Users/frederique/Library/Python/3.9/lib/python/site-packages/sklearn/base.py:450: UserWarning: X does not have valid feature names, but SVC was fitted with feature names\n",
            "  warnings.warn(\n",
            "/Users/frederique/Library/Python/3.9/lib/python/site-packages/sklearn/base.py:450: UserWarning: X does not have valid feature names, but DecisionTreeClassifier was fitted with feature names\n",
            "  warnings.warn(\n"
          ]
        }
      ],
      "source": [
        "audio_file = \"data/test_data/OAF_bath_angry.wav\"\n",
        "predict_emotion(audio_file)"
      ]
    },
    {
      "cell_type": "code",
      "execution_count": 34,
      "metadata": {},
      "outputs": [
        {
          "name": "stdout",
          "output_type": "stream",
          "text": [
            "Audio File is anger:  data/test_data/OAF_bean_angry.wav\n",
            "KNN:  [ True]\n",
            "SVM:  [False]\n",
            "DTC:  [ True]\n"
          ]
        },
        {
          "name": "stderr",
          "output_type": "stream",
          "text": [
            "/Users/frederique/Library/Python/3.9/lib/python/site-packages/sklearn/base.py:450: UserWarning: X does not have valid feature names, but KNeighborsClassifier was fitted with feature names\n",
            "  warnings.warn(\n",
            "/Users/frederique/Library/Python/3.9/lib/python/site-packages/sklearn/base.py:450: UserWarning: X does not have valid feature names, but SVC was fitted with feature names\n",
            "  warnings.warn(\n",
            "/Users/frederique/Library/Python/3.9/lib/python/site-packages/sklearn/base.py:450: UserWarning: X does not have valid feature names, but DecisionTreeClassifier was fitted with feature names\n",
            "  warnings.warn(\n"
          ]
        }
      ],
      "source": [
        "audio_file = \"data/test_data/OAF_bean_angry.wav\"\n",
        "predict_emotion(audio_file)"
      ]
    },
    {
      "cell_type": "code",
      "execution_count": 35,
      "metadata": {},
      "outputs": [
        {
          "name": "stdout",
          "output_type": "stream",
          "text": [
            "Audio File is anger:  data/test_data/OAF_beg_angry.wav\n",
            "KNN:  [ True]\n",
            "SVM:  [False]\n",
            "DTC:  [ True]\n"
          ]
        },
        {
          "name": "stderr",
          "output_type": "stream",
          "text": [
            "/Users/frederique/Library/Python/3.9/lib/python/site-packages/sklearn/base.py:450: UserWarning: X does not have valid feature names, but KNeighborsClassifier was fitted with feature names\n",
            "  warnings.warn(\n",
            "/Users/frederique/Library/Python/3.9/lib/python/site-packages/sklearn/base.py:450: UserWarning: X does not have valid feature names, but SVC was fitted with feature names\n",
            "  warnings.warn(\n",
            "/Users/frederique/Library/Python/3.9/lib/python/site-packages/sklearn/base.py:450: UserWarning: X does not have valid feature names, but DecisionTreeClassifier was fitted with feature names\n",
            "  warnings.warn(\n"
          ]
        }
      ],
      "source": [
        "audio_file = \"data/test_data/OAF_beg_angry.wav\"\n",
        "predict_emotion(audio_file)"
      ]
    },
    {
      "cell_type": "code",
      "execution_count": 36,
      "metadata": {},
      "outputs": [
        {
          "name": "stdout",
          "output_type": "stream",
          "text": [
            "Audio File is anger:  data/test_data/OAF_book_angry.wav\n",
            "KNN:  [ True]\n",
            "SVM:  [False]\n",
            "DTC:  [ True]\n"
          ]
        },
        {
          "name": "stderr",
          "output_type": "stream",
          "text": [
            "/Users/frederique/Library/Python/3.9/lib/python/site-packages/sklearn/base.py:450: UserWarning: X does not have valid feature names, but KNeighborsClassifier was fitted with feature names\n",
            "  warnings.warn(\n",
            "/Users/frederique/Library/Python/3.9/lib/python/site-packages/sklearn/base.py:450: UserWarning: X does not have valid feature names, but SVC was fitted with feature names\n",
            "  warnings.warn(\n",
            "/Users/frederique/Library/Python/3.9/lib/python/site-packages/sklearn/base.py:450: UserWarning: X does not have valid feature names, but DecisionTreeClassifier was fitted with feature names\n",
            "  warnings.warn(\n"
          ]
        }
      ],
      "source": [
        "audio_file = \"data/test_data/OAF_book_angry.wav\"\n",
        "predict_emotion(audio_file)"
      ]
    },
    {
      "attachments": {},
      "cell_type": "markdown",
      "metadata": {},
      "source": [
        "## Test du knn amelioré sur d'autres fichiers audio"
      ]
    },
    {
      "cell_type": "code",
      "execution_count": 131,
      "metadata": {},
      "outputs": [],
      "source": [
        "# chargement du modele\n",
        "knn_model_with_amelioration = joblib.load('models/knn_model_with_amelioration.pkl')"
      ]
    },
    {
      "cell_type": "code",
      "execution_count": 140,
      "metadata": {},
      "outputs": [],
      "source": [
        "\n",
        "def predict_angry(knn_model, audio_test_file):\n",
        "    \n",
        "    normalized_y, sr = process_audio(audio_test_file)\n",
        "    flat_mfccs, flat_chroma, flat_spectral_contrast = extract_features(normalized_y, sr)\n",
        "\n",
        "    flat_mfccs = np.array(flat_mfccs).reshape(1, -1)\n",
        "    flat_chroma = np.array(flat_chroma).reshape(1, -1)\n",
        "    flat_spectral_contrast = np.array(flat_spectral_contrast).reshape(1, -1)\n",
        "\n",
        "    flat_features = np.concatenate((flat_mfccs, flat_chroma, flat_spectral_contrast), axis=1)\n",
        "\n",
        "    knn_prediction = knn_model.predict(flat_features)\n",
        "\n",
        "    return audio_test_file, knn_prediction == 1"
      ]
    },
    {
      "cell_type": "code",
      "execution_count": 155,
      "metadata": {},
      "outputs": [
        {
          "name": "stderr",
          "output_type": "stream",
          "text": [
            "/Users/frederique/Library/Python/3.9/lib/python/site-packages/sklearn/base.py:450: UserWarning: X does not have valid feature names, but KNeighborsClassifier was fitted with feature names\n",
            "  warnings.warn(\n",
            "/Users/frederique/Library/Python/3.9/lib/python/site-packages/sklearn/base.py:450: UserWarning: X does not have valid feature names, but KNeighborsClassifier was fitted with feature names\n",
            "  warnings.warn(\n",
            "/Users/frederique/Library/Python/3.9/lib/python/site-packages/sklearn/base.py:450: UserWarning: X does not have valid feature names, but KNeighborsClassifier was fitted with feature names\n",
            "  warnings.warn(\n",
            "/Users/frederique/Library/Python/3.9/lib/python/site-packages/sklearn/base.py:450: UserWarning: X does not have valid feature names, but KNeighborsClassifier was fitted with feature names\n",
            "  warnings.warn(\n",
            "/Users/frederique/Library/Python/3.9/lib/python/site-packages/sklearn/base.py:450: UserWarning: X does not have valid feature names, but KNeighborsClassifier was fitted with feature names\n",
            "  warnings.warn(\n",
            "/Users/frederique/Library/Python/3.9/lib/python/site-packages/sklearn/base.py:450: UserWarning: X does not have valid feature names, but KNeighborsClassifier was fitted with feature names\n",
            "  warnings.warn(\n",
            "/Users/frederique/Library/Python/3.9/lib/python/site-packages/sklearn/base.py:450: UserWarning: X does not have valid feature names, but KNeighborsClassifier was fitted with feature names\n",
            "  warnings.warn(\n",
            "/Users/frederique/Library/Python/3.9/lib/python/site-packages/sklearn/base.py:450: UserWarning: X does not have valid feature names, but KNeighborsClassifier was fitted with feature names\n",
            "  warnings.warn(\n",
            "/Users/frederique/Library/Python/3.9/lib/python/site-packages/sklearn/base.py:450: UserWarning: X does not have valid feature names, but KNeighborsClassifier was fitted with feature names\n",
            "  warnings.warn(\n",
            "/Users/frederique/Library/Python/3.9/lib/python/site-packages/sklearn/base.py:450: UserWarning: X does not have valid feature names, but KNeighborsClassifier was fitted with feature names\n",
            "  warnings.warn(\n",
            "/Users/frederique/Library/Python/3.9/lib/python/site-packages/sklearn/base.py:450: UserWarning: X does not have valid feature names, but KNeighborsClassifier was fitted with feature names\n",
            "  warnings.warn(\n",
            "/Users/frederique/Library/Python/3.9/lib/python/site-packages/sklearn/base.py:450: UserWarning: X does not have valid feature names, but KNeighborsClassifier was fitted with feature names\n",
            "  warnings.warn(\n",
            "/Users/frederique/Library/Python/3.9/lib/python/site-packages/sklearn/base.py:450: UserWarning: X does not have valid feature names, but KNeighborsClassifier was fitted with feature names\n",
            "  warnings.warn(\n",
            "/Users/frederique/Library/Python/3.9/lib/python/site-packages/sklearn/base.py:450: UserWarning: X does not have valid feature names, but KNeighborsClassifier was fitted with feature names\n",
            "  warnings.warn(\n",
            "/Users/frederique/Library/Python/3.9/lib/python/site-packages/sklearn/base.py:450: UserWarning: X does not have valid feature names, but KNeighborsClassifier was fitted with feature names\n",
            "  warnings.warn(\n",
            "/Users/frederique/Library/Python/3.9/lib/python/site-packages/sklearn/base.py:450: UserWarning: X does not have valid feature names, but KNeighborsClassifier was fitted with feature names\n",
            "  warnings.warn(\n",
            "/Users/frederique/Library/Python/3.9/lib/python/site-packages/sklearn/base.py:450: UserWarning: X does not have valid feature names, but KNeighborsClassifier was fitted with feature names\n",
            "  warnings.warn(\n",
            "/Users/frederique/Library/Python/3.9/lib/python/site-packages/sklearn/base.py:450: UserWarning: X does not have valid feature names, but KNeighborsClassifier was fitted with feature names\n",
            "  warnings.warn(\n",
            "/var/folders/zf/27nnxxnj7rd7b38_1m1wc_tm0000gn/T/ipykernel_76363/1547945485.py:9: FutureWarning: The frame.append method is deprecated and will be removed from pandas in a future version. Use pandas.concat instead.\n",
            "  df = df.append({'Filename': element[0], 'Is_angry': element[1][0]}, ignore_index=True)\n",
            "/var/folders/zf/27nnxxnj7rd7b38_1m1wc_tm0000gn/T/ipykernel_76363/1547945485.py:9: FutureWarning: The frame.append method is deprecated and will be removed from pandas in a future version. Use pandas.concat instead.\n",
            "  df = df.append({'Filename': element[0], 'Is_angry': element[1][0]}, ignore_index=True)\n",
            "/var/folders/zf/27nnxxnj7rd7b38_1m1wc_tm0000gn/T/ipykernel_76363/1547945485.py:9: FutureWarning: In a future version, object-dtype columns with all-bool values will not be included in reductions with bool_only=True. Explicitly cast to bool dtype instead.\n",
            "  df = df.append({'Filename': element[0], 'Is_angry': element[1][0]}, ignore_index=True)\n",
            "/var/folders/zf/27nnxxnj7rd7b38_1m1wc_tm0000gn/T/ipykernel_76363/1547945485.py:9: FutureWarning: The frame.append method is deprecated and will be removed from pandas in a future version. Use pandas.concat instead.\n",
            "  df = df.append({'Filename': element[0], 'Is_angry': element[1][0]}, ignore_index=True)\n",
            "/var/folders/zf/27nnxxnj7rd7b38_1m1wc_tm0000gn/T/ipykernel_76363/1547945485.py:9: FutureWarning: In a future version, object-dtype columns with all-bool values will not be included in reductions with bool_only=True. Explicitly cast to bool dtype instead.\n",
            "  df = df.append({'Filename': element[0], 'Is_angry': element[1][0]}, ignore_index=True)\n",
            "/var/folders/zf/27nnxxnj7rd7b38_1m1wc_tm0000gn/T/ipykernel_76363/1547945485.py:9: FutureWarning: The frame.append method is deprecated and will be removed from pandas in a future version. Use pandas.concat instead.\n",
            "  df = df.append({'Filename': element[0], 'Is_angry': element[1][0]}, ignore_index=True)\n",
            "/var/folders/zf/27nnxxnj7rd7b38_1m1wc_tm0000gn/T/ipykernel_76363/1547945485.py:9: FutureWarning: In a future version, object-dtype columns with all-bool values will not be included in reductions with bool_only=True. Explicitly cast to bool dtype instead.\n",
            "  df = df.append({'Filename': element[0], 'Is_angry': element[1][0]}, ignore_index=True)\n",
            "/var/folders/zf/27nnxxnj7rd7b38_1m1wc_tm0000gn/T/ipykernel_76363/1547945485.py:9: FutureWarning: The frame.append method is deprecated and will be removed from pandas in a future version. Use pandas.concat instead.\n",
            "  df = df.append({'Filename': element[0], 'Is_angry': element[1][0]}, ignore_index=True)\n",
            "/var/folders/zf/27nnxxnj7rd7b38_1m1wc_tm0000gn/T/ipykernel_76363/1547945485.py:9: FutureWarning: In a future version, object-dtype columns with all-bool values will not be included in reductions with bool_only=True. Explicitly cast to bool dtype instead.\n",
            "  df = df.append({'Filename': element[0], 'Is_angry': element[1][0]}, ignore_index=True)\n",
            "/var/folders/zf/27nnxxnj7rd7b38_1m1wc_tm0000gn/T/ipykernel_76363/1547945485.py:9: FutureWarning: The frame.append method is deprecated and will be removed from pandas in a future version. Use pandas.concat instead.\n",
            "  df = df.append({'Filename': element[0], 'Is_angry': element[1][0]}, ignore_index=True)\n",
            "/var/folders/zf/27nnxxnj7rd7b38_1m1wc_tm0000gn/T/ipykernel_76363/1547945485.py:9: FutureWarning: In a future version, object-dtype columns with all-bool values will not be included in reductions with bool_only=True. Explicitly cast to bool dtype instead.\n",
            "  df = df.append({'Filename': element[0], 'Is_angry': element[1][0]}, ignore_index=True)\n",
            "/var/folders/zf/27nnxxnj7rd7b38_1m1wc_tm0000gn/T/ipykernel_76363/1547945485.py:9: FutureWarning: The frame.append method is deprecated and will be removed from pandas in a future version. Use pandas.concat instead.\n",
            "  df = df.append({'Filename': element[0], 'Is_angry': element[1][0]}, ignore_index=True)\n",
            "/var/folders/zf/27nnxxnj7rd7b38_1m1wc_tm0000gn/T/ipykernel_76363/1547945485.py:9: FutureWarning: In a future version, object-dtype columns with all-bool values will not be included in reductions with bool_only=True. Explicitly cast to bool dtype instead.\n",
            "  df = df.append({'Filename': element[0], 'Is_angry': element[1][0]}, ignore_index=True)\n",
            "/var/folders/zf/27nnxxnj7rd7b38_1m1wc_tm0000gn/T/ipykernel_76363/1547945485.py:9: FutureWarning: The frame.append method is deprecated and will be removed from pandas in a future version. Use pandas.concat instead.\n",
            "  df = df.append({'Filename': element[0], 'Is_angry': element[1][0]}, ignore_index=True)\n",
            "/var/folders/zf/27nnxxnj7rd7b38_1m1wc_tm0000gn/T/ipykernel_76363/1547945485.py:9: FutureWarning: In a future version, object-dtype columns with all-bool values will not be included in reductions with bool_only=True. Explicitly cast to bool dtype instead.\n",
            "  df = df.append({'Filename': element[0], 'Is_angry': element[1][0]}, ignore_index=True)\n",
            "/var/folders/zf/27nnxxnj7rd7b38_1m1wc_tm0000gn/T/ipykernel_76363/1547945485.py:9: FutureWarning: The frame.append method is deprecated and will be removed from pandas in a future version. Use pandas.concat instead.\n",
            "  df = df.append({'Filename': element[0], 'Is_angry': element[1][0]}, ignore_index=True)\n",
            "/var/folders/zf/27nnxxnj7rd7b38_1m1wc_tm0000gn/T/ipykernel_76363/1547945485.py:9: FutureWarning: In a future version, object-dtype columns with all-bool values will not be included in reductions with bool_only=True. Explicitly cast to bool dtype instead.\n",
            "  df = df.append({'Filename': element[0], 'Is_angry': element[1][0]}, ignore_index=True)\n",
            "/var/folders/zf/27nnxxnj7rd7b38_1m1wc_tm0000gn/T/ipykernel_76363/1547945485.py:9: FutureWarning: The frame.append method is deprecated and will be removed from pandas in a future version. Use pandas.concat instead.\n",
            "  df = df.append({'Filename': element[0], 'Is_angry': element[1][0]}, ignore_index=True)\n",
            "/var/folders/zf/27nnxxnj7rd7b38_1m1wc_tm0000gn/T/ipykernel_76363/1547945485.py:9: FutureWarning: In a future version, object-dtype columns with all-bool values will not be included in reductions with bool_only=True. Explicitly cast to bool dtype instead.\n",
            "  df = df.append({'Filename': element[0], 'Is_angry': element[1][0]}, ignore_index=True)\n",
            "/var/folders/zf/27nnxxnj7rd7b38_1m1wc_tm0000gn/T/ipykernel_76363/1547945485.py:9: FutureWarning: The frame.append method is deprecated and will be removed from pandas in a future version. Use pandas.concat instead.\n",
            "  df = df.append({'Filename': element[0], 'Is_angry': element[1][0]}, ignore_index=True)\n",
            "/var/folders/zf/27nnxxnj7rd7b38_1m1wc_tm0000gn/T/ipykernel_76363/1547945485.py:9: FutureWarning: In a future version, object-dtype columns with all-bool values will not be included in reductions with bool_only=True. Explicitly cast to bool dtype instead.\n",
            "  df = df.append({'Filename': element[0], 'Is_angry': element[1][0]}, ignore_index=True)\n",
            "/var/folders/zf/27nnxxnj7rd7b38_1m1wc_tm0000gn/T/ipykernel_76363/1547945485.py:9: FutureWarning: The frame.append method is deprecated and will be removed from pandas in a future version. Use pandas.concat instead.\n",
            "  df = df.append({'Filename': element[0], 'Is_angry': element[1][0]}, ignore_index=True)\n",
            "/var/folders/zf/27nnxxnj7rd7b38_1m1wc_tm0000gn/T/ipykernel_76363/1547945485.py:9: FutureWarning: In a future version, object-dtype columns with all-bool values will not be included in reductions with bool_only=True. Explicitly cast to bool dtype instead.\n",
            "  df = df.append({'Filename': element[0], 'Is_angry': element[1][0]}, ignore_index=True)\n",
            "/var/folders/zf/27nnxxnj7rd7b38_1m1wc_tm0000gn/T/ipykernel_76363/1547945485.py:9: FutureWarning: The frame.append method is deprecated and will be removed from pandas in a future version. Use pandas.concat instead.\n",
            "  df = df.append({'Filename': element[0], 'Is_angry': element[1][0]}, ignore_index=True)\n",
            "/var/folders/zf/27nnxxnj7rd7b38_1m1wc_tm0000gn/T/ipykernel_76363/1547945485.py:9: FutureWarning: In a future version, object-dtype columns with all-bool values will not be included in reductions with bool_only=True. Explicitly cast to bool dtype instead.\n",
            "  df = df.append({'Filename': element[0], 'Is_angry': element[1][0]}, ignore_index=True)\n",
            "/var/folders/zf/27nnxxnj7rd7b38_1m1wc_tm0000gn/T/ipykernel_76363/1547945485.py:9: FutureWarning: The frame.append method is deprecated and will be removed from pandas in a future version. Use pandas.concat instead.\n",
            "  df = df.append({'Filename': element[0], 'Is_angry': element[1][0]}, ignore_index=True)\n",
            "/var/folders/zf/27nnxxnj7rd7b38_1m1wc_tm0000gn/T/ipykernel_76363/1547945485.py:9: FutureWarning: In a future version, object-dtype columns with all-bool values will not be included in reductions with bool_only=True. Explicitly cast to bool dtype instead.\n",
            "  df = df.append({'Filename': element[0], 'Is_angry': element[1][0]}, ignore_index=True)\n",
            "/var/folders/zf/27nnxxnj7rd7b38_1m1wc_tm0000gn/T/ipykernel_76363/1547945485.py:9: FutureWarning: The frame.append method is deprecated and will be removed from pandas in a future version. Use pandas.concat instead.\n",
            "  df = df.append({'Filename': element[0], 'Is_angry': element[1][0]}, ignore_index=True)\n",
            "/var/folders/zf/27nnxxnj7rd7b38_1m1wc_tm0000gn/T/ipykernel_76363/1547945485.py:9: FutureWarning: In a future version, object-dtype columns with all-bool values will not be included in reductions with bool_only=True. Explicitly cast to bool dtype instead.\n",
            "  df = df.append({'Filename': element[0], 'Is_angry': element[1][0]}, ignore_index=True)\n",
            "/var/folders/zf/27nnxxnj7rd7b38_1m1wc_tm0000gn/T/ipykernel_76363/1547945485.py:9: FutureWarning: The frame.append method is deprecated and will be removed from pandas in a future version. Use pandas.concat instead.\n",
            "  df = df.append({'Filename': element[0], 'Is_angry': element[1][0]}, ignore_index=True)\n",
            "/var/folders/zf/27nnxxnj7rd7b38_1m1wc_tm0000gn/T/ipykernel_76363/1547945485.py:9: FutureWarning: In a future version, object-dtype columns with all-bool values will not be included in reductions with bool_only=True. Explicitly cast to bool dtype instead.\n",
            "  df = df.append({'Filename': element[0], 'Is_angry': element[1][0]}, ignore_index=True)\n",
            "/var/folders/zf/27nnxxnj7rd7b38_1m1wc_tm0000gn/T/ipykernel_76363/1547945485.py:9: FutureWarning: The frame.append method is deprecated and will be removed from pandas in a future version. Use pandas.concat instead.\n",
            "  df = df.append({'Filename': element[0], 'Is_angry': element[1][0]}, ignore_index=True)\n",
            "/var/folders/zf/27nnxxnj7rd7b38_1m1wc_tm0000gn/T/ipykernel_76363/1547945485.py:9: FutureWarning: In a future version, object-dtype columns with all-bool values will not be included in reductions with bool_only=True. Explicitly cast to bool dtype instead.\n",
            "  df = df.append({'Filename': element[0], 'Is_angry': element[1][0]}, ignore_index=True)\n",
            "/var/folders/zf/27nnxxnj7rd7b38_1m1wc_tm0000gn/T/ipykernel_76363/1547945485.py:9: FutureWarning: The frame.append method is deprecated and will be removed from pandas in a future version. Use pandas.concat instead.\n",
            "  df = df.append({'Filename': element[0], 'Is_angry': element[1][0]}, ignore_index=True)\n",
            "/var/folders/zf/27nnxxnj7rd7b38_1m1wc_tm0000gn/T/ipykernel_76363/1547945485.py:9: FutureWarning: In a future version, object-dtype columns with all-bool values will not be included in reductions with bool_only=True. Explicitly cast to bool dtype instead.\n",
            "  df = df.append({'Filename': element[0], 'Is_angry': element[1][0]}, ignore_index=True)\n"
          ]
        }
      ],
      "source": [
        "audio_directory_for_test = \"data/test_data\"\n",
        "lst_result = []\n",
        "for filename in os.listdir(audio_directory_for_test):\n",
        "    file_path = os.path.join(audio_directory_for_test, filename)\n",
        "    lst_result.append(predict_angry(knn_model_with_amelioration, file_path))\n",
        "    \n",
        "df = pd.DataFrame(columns= [\"Filename\", \"Is_angry\"])\n",
        "for element in lst_result:\n",
        "    df = df.append({'Filename': element[0], 'Is_angry': element[1][0]}, ignore_index=True)"
      ]
    },
    {
      "cell_type": "code",
      "execution_count": 163,
      "metadata": {},
      "outputs": [
        {
          "data": {
            "text/html": [
              "<div>\n",
              "<style scoped>\n",
              "    .dataframe tbody tr th:only-of-type {\n",
              "        vertical-align: middle;\n",
              "    }\n",
              "\n",
              "    .dataframe tbody tr th {\n",
              "        vertical-align: top;\n",
              "    }\n",
              "\n",
              "    .dataframe thead th {\n",
              "        text-align: right;\n",
              "    }\n",
              "</style>\n",
              "<table border=\"1\" class=\"dataframe\">\n",
              "  <thead>\n",
              "    <tr style=\"text-align: right;\">\n",
              "      <th></th>\n",
              "      <th>Filename</th>\n",
              "      <th>Is_angry</th>\n",
              "    </tr>\n",
              "  </thead>\n",
              "  <tbody>\n",
              "    <tr>\n",
              "      <th>0</th>\n",
              "      <td>data/test_data/OAF_calm_angry.wav</td>\n",
              "      <td>True</td>\n",
              "    </tr>\n",
              "    <tr>\n",
              "      <th>1</th>\n",
              "      <td>data/test_data/OAF_chalk_angry.wav</td>\n",
              "      <td>False</td>\n",
              "    </tr>\n",
              "    <tr>\n",
              "      <th>2</th>\n",
              "      <td>data/test_data/OAF_book_angry.wav</td>\n",
              "      <td>True</td>\n",
              "    </tr>\n",
              "    <tr>\n",
              "      <th>3</th>\n",
              "      <td>data/test_data/OAF_beg_angry.wav</td>\n",
              "      <td>True</td>\n",
              "    </tr>\n",
              "    <tr>\n",
              "      <th>4</th>\n",
              "      <td>data/test_data/OAF_bath_angry.wav</td>\n",
              "      <td>True</td>\n",
              "    </tr>\n",
              "    <tr>\n",
              "      <th>5</th>\n",
              "      <td>data/test_data/OAF_cause_angry.wav</td>\n",
              "      <td>False</td>\n",
              "    </tr>\n",
              "    <tr>\n",
              "      <th>6</th>\n",
              "      <td>data/test_data/OAF_burn_angry.wav</td>\n",
              "      <td>True</td>\n",
              "    </tr>\n",
              "    <tr>\n",
              "      <th>7</th>\n",
              "      <td>data/test_data/OAF_came_angry.wav</td>\n",
              "      <td>True</td>\n",
              "    </tr>\n",
              "    <tr>\n",
              "      <th>8</th>\n",
              "      <td>data/test_data/OAF_chat_angry.wav</td>\n",
              "      <td>True</td>\n",
              "    </tr>\n",
              "    <tr>\n",
              "      <th>9</th>\n",
              "      <td>data/test_data/OAF_chair_angry.wav</td>\n",
              "      <td>True</td>\n",
              "    </tr>\n",
              "    <tr>\n",
              "      <th>10</th>\n",
              "      <td>data/test_data/OAF_bone_angry.wav</td>\n",
              "      <td>True</td>\n",
              "    </tr>\n",
              "    <tr>\n",
              "      <th>11</th>\n",
              "      <td>data/test_data/OAF_base_angry.wav</td>\n",
              "      <td>True</td>\n",
              "    </tr>\n",
              "    <tr>\n",
              "      <th>12</th>\n",
              "      <td>data/test_data/OAF_bean_angry.wav</td>\n",
              "      <td>False</td>\n",
              "    </tr>\n",
              "    <tr>\n",
              "      <th>13</th>\n",
              "      <td>data/test_data/OAF_boat_angry.wav</td>\n",
              "      <td>True</td>\n",
              "    </tr>\n",
              "    <tr>\n",
              "      <th>14</th>\n",
              "      <td>data/test_data/OAF_bought_angry.wav</td>\n",
              "      <td>True</td>\n",
              "    </tr>\n",
              "    <tr>\n",
              "      <th>15</th>\n",
              "      <td>data/test_data/OAF_bite_angry.wav</td>\n",
              "      <td>True</td>\n",
              "    </tr>\n",
              "    <tr>\n",
              "      <th>16</th>\n",
              "      <td>data/test_data/OAF_chain_angry.wav</td>\n",
              "      <td>True</td>\n",
              "    </tr>\n",
              "    <tr>\n",
              "      <th>17</th>\n",
              "      <td>data/test_data/OAF_cab_angry.wav</td>\n",
              "      <td>True</td>\n",
              "    </tr>\n",
              "  </tbody>\n",
              "</table>\n",
              "</div>"
            ],
            "text/plain": [
              "                               Filename Is_angry\n",
              "0     data/test_data/OAF_calm_angry.wav     True\n",
              "1    data/test_data/OAF_chalk_angry.wav    False\n",
              "2     data/test_data/OAF_book_angry.wav     True\n",
              "3      data/test_data/OAF_beg_angry.wav     True\n",
              "4     data/test_data/OAF_bath_angry.wav     True\n",
              "5    data/test_data/OAF_cause_angry.wav    False\n",
              "6     data/test_data/OAF_burn_angry.wav     True\n",
              "7     data/test_data/OAF_came_angry.wav     True\n",
              "8     data/test_data/OAF_chat_angry.wav     True\n",
              "9    data/test_data/OAF_chair_angry.wav     True\n",
              "10    data/test_data/OAF_bone_angry.wav     True\n",
              "11    data/test_data/OAF_base_angry.wav     True\n",
              "12    data/test_data/OAF_bean_angry.wav    False\n",
              "13    data/test_data/OAF_boat_angry.wav     True\n",
              "14  data/test_data/OAF_bought_angry.wav     True\n",
              "15    data/test_data/OAF_bite_angry.wav     True\n",
              "16   data/test_data/OAF_chain_angry.wav     True\n",
              "17     data/test_data/OAF_cab_angry.wav     True"
            ]
          },
          "execution_count": 163,
          "metadata": {},
          "output_type": "execute_result"
        }
      ],
      "source": [
        "df"
      ]
    },
    {
      "cell_type": "code",
      "execution_count": 164,
      "metadata": {},
      "outputs": [
        {
          "data": {
            "text/plain": [
              "83.33333333333334"
            ]
          },
          "execution_count": 164,
          "metadata": {},
          "output_type": "execute_result"
        }
      ],
      "source": [
        "average_true = (df[df[\"Is_angry\"] == True].shape[0] / df.shape[0]) * 100\n",
        "average_true"
      ]
    }
  ],
  "metadata": {
    "colab": {
      "provenance": []
    },
    "kernelspec": {
      "display_name": "Python 3",
      "language": "python",
      "name": "python3"
    },
    "language_info": {
      "codemirror_mode": {
        "name": "ipython",
        "version": 3
      },
      "file_extension": ".py",
      "mimetype": "text/x-python",
      "name": "python",
      "nbconvert_exporter": "python",
      "pygments_lexer": "ipython3",
      "version": "3.9.6"
    },
    "vscode": {
      "interpreter": {
        "hash": "31f2aee4e71d21fbe5cf8b01ff0e069b9275f58929596ceb00d14d90e3e16cd6"
      }
    }
  },
  "nbformat": 4,
  "nbformat_minor": 0
}
