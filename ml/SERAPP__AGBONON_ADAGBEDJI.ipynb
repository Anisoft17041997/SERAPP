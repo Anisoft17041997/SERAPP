{
  "cells": [
    {
      "cell_type": "markdown",
      "metadata": {},
      "source": [
        "## Entrainement de nos modèles sur la base RAVDESS"
      ]
    },
    {
      "cell_type": "code",
      "execution_count": 1,
      "metadata": {
        "colab": {
          "base_uri": "https://localhost:8080/"
        },
        "id": "1mjK3RZOXeDm",
        "outputId": "af080fa8-d1e6-4bc7-ef97-3d32b06dc946"
      },
      "outputs": [],
      "source": [
        "#!pip install pymrmr\n",
        "#!pip install audiomentations\n",
        "#!pip install pydub"
      ]
    },
    {
      "cell_type": "code",
      "execution_count": 2,
      "metadata": {
        "id": "ZA2MeEnnyTtp"
      },
      "outputs": [],
      "source": [
        "import os\n",
        "import re\n",
        "import joblib\n",
        "import librosa\n",
        "import numpy as np\n",
        "import pandas as pd\n",
        "from tqdm import tqdm\n",
        "import seaborn as sns\n",
        "from audiomentations import Compose, TimeStretch, PitchShift, AddGaussianNoise\n",
        "from sklearn.preprocessing import normalize\n",
        "from sklearn.model_selection import train_test_split, GridSearchCV\n",
        "from sklearn.svm import SVC\n",
        "from sklearn.neighbors import KNeighborsClassifier\n",
        "from sklearn.tree import DecisionTreeClassifier\n",
        "from sklearn.metrics import accuracy_score, precision_score, recall_score\n",
        "\n",
        "# from pydub import AudioSegment\n",
        "# from pydub.effects import normalize\n",
        "# from sklearn.preprocessing import MinMaxScaler"
      ]
    },
    {
      "cell_type": "markdown",
      "metadata": {},
      "source": [
        "### Définition des fonctions utiles"
      ]
    },
    {
      "cell_type": "code",
      "execution_count": 6,
      "metadata": {},
      "outputs": [],
      "source": [
        "# Fonction de precession du fichier en vue de le normaliser\n",
        "def process_audio(file_path):\n",
        "    y, sr = librosa.load(file_path)\n",
        "    y, _ = librosa.effects.trim(y)\n",
        "\n",
        "    normalized_y = librosa.util.normalize(y)\n",
        "\n",
        "    return normalized_y, sr"
      ]
    },
    {
      "cell_type": "code",
      "execution_count": 7,
      "metadata": {},
      "outputs": [],
      "source": [
        "# Fonctions de traitement des fichiers audios\n",
        "def extract_features(normalized_y, sr, max_len=100):\n",
        "    mfccs = librosa.feature.mfcc(y=normalized_y, sr=sr, n_mfcc=13)\n",
        "    chroma = librosa.feature.chroma_stft(y=normalized_y, sr=sr)\n",
        "    spectral_contrast = librosa.feature.spectral_contrast(y=normalized_y, sr=sr)\n",
        "\n",
        "    mfccs = librosa.util.fix_length(mfccs, size = max_len, axis=1)\n",
        "    chroma = librosa.util.fix_length(chroma, size = max_len, axis=1)\n",
        "    spectral_contrast = librosa.util.fix_length(spectral_contrast, size = max_len, axis=1)\n",
        "\n",
        "    flat_mfccs = np.ravel(mfccs)\n",
        "    flat_chroma = np.ravel(chroma)\n",
        "    flat_spectral_contrast = np.ravel(spectral_contrast)\n",
        "\n",
        "    return flat_mfccs, flat_chroma, flat_spectral_contrast"
      ]
    },
    {
      "cell_type": "code",
      "execution_count": 8,
      "metadata": {},
      "outputs": [],
      "source": [
        "# Fonction d'augmentation des fichiers audios\n",
        "def augment_audio(y, sr):\n",
        "    augment = Compose([\n",
        "        TimeStretch(min_rate=0.8, max_rate=1.2),\n",
        "        PitchShift(min_semitones=-2, max_semitones=2),\n",
        "        AddGaussianNoise(min_amplitude=0.001, max_amplitude=0.015)\n",
        "    ])\n",
        "\n",
        "    augmented_y = augment(samples=y, sample_rate=sr)\n",
        "\n",
        "    return augmented_y"
      ]
    },
    {
      "cell_type": "code",
      "execution_count": 9,
      "metadata": {},
      "outputs": [],
      "source": [
        "# Dans notre contexte, nous avons décidé de nous concentrer sur la prédiction d'une émotion: la colère\n",
        "def is_anger(emotion):\n",
        "    return 1 if emotion == \"anger\" else 0"
      ]
    },
    {
      "cell_type": "code",
      "execution_count": 7,
      "metadata": {},
      "outputs": [],
      "source": [
        "audio_directory = \"data/audio_speech_emotion\"\n",
        "\n",
        "audio_files = []\n",
        "emotions = []\n",
        "mfccs_list = []\n",
        "chroma_list = []\n",
        "spectral_contrast_list = []\n",
        "\n",
        "emotion_mapping = {\n",
        "    'ang': 'anger',\n",
        "    'cal': 'calm',\n",
        "    'dis': 'disgust',\n",
        "    'fea': 'fear',\n",
        "    'hap': 'happiness',\n",
        "    'neu': 'neutral',\n",
        "    'sad': 'sadness',\n",
        "    'sur': 'surprise'\n",
        "}"
      ]
    },
    {
      "cell_type": "code",
      "execution_count": 8,
      "metadata": {
        "id": "I-596vgAN6Ay"
      },
      "outputs": [
        {
          "name": "stderr",
          "output_type": "stream",
          "text": [
            "  0%|          | 0/1380 [00:00<?, ?it/s]"
          ]
        },
        {
          "name": "stderr",
          "output_type": "stream",
          "text": [
            "100%|██████████| 1380/1380 [02:28<00:00,  9.29it/s]\n"
          ]
        }
      ],
      "source": [
        "for filename in tqdm(os.listdir(audio_directory)):\n",
        "    if filename.endswith(\".wav\"):\n",
        "        match = re.search(r'^([a-zA-Z]{3})', filename)\n",
        "        emotion = emotion_mapping.get(match.group(1), 'unknown')\n",
        "\n",
        "        file_path = os.path.join(audio_directory, filename)\n",
        "\n",
        "        normalized_y, sr = process_audio(file_path)\n",
        "\n",
        "        original_mfccs, original_chroma, original_spectral_contrast = extract_features(normalized_y, sr)\n",
        "\n",
        "        augmented_y = augment_audio(normalized_y, sr)\n",
        "        augmented_mfccs, augmented_chroma, augmented_spectral_contrast = extract_features(augmented_y, sr)\n",
        "\n",
        "        audio_files.extend([filename, f\"augmented_{filename}\"])\n",
        "        emotions.extend([emotion, emotion])\n",
        "        mfccs_list.extend([original_mfccs, augmented_mfccs])\n",
        "        chroma_list.extend([original_chroma, augmented_chroma])\n",
        "        spectral_contrast_list.extend([original_spectral_contrast, augmented_spectral_contrast])\n",
        "\n",
        "\n",
        "\n",
        "df = pd.DataFrame({\n",
        "    'Audio_File': audio_files,\n",
        "    'Emotion': emotions,\n",
        "    'MFCCs': mfccs_list,\n",
        "    'Chroma': chroma_list,\n",
        "    'Spectral_Contrast': spectral_contrast_list\n",
        "})"
      ]
    },
    {
      "cell_type": "code",
      "execution_count": 9,
      "metadata": {},
      "outputs": [
        {
          "data": {
            "text/html": [
              "<div>\n",
              "<style scoped>\n",
              "    .dataframe tbody tr th:only-of-type {\n",
              "        vertical-align: middle;\n",
              "    }\n",
              "\n",
              "    .dataframe tbody tr th {\n",
              "        vertical-align: top;\n",
              "    }\n",
              "\n",
              "    .dataframe thead th {\n",
              "        text-align: right;\n",
              "    }\n",
              "</style>\n",
              "<table border=\"1\" class=\"dataframe\">\n",
              "  <thead>\n",
              "    <tr style=\"text-align: right;\">\n",
              "      <th></th>\n",
              "      <th>Audio_File</th>\n",
              "      <th>Emotion</th>\n",
              "      <th>MFCCs</th>\n",
              "      <th>Chroma</th>\n",
              "      <th>Spectral_Contrast</th>\n",
              "    </tr>\n",
              "  </thead>\n",
              "  <tbody>\n",
              "    <tr>\n",
              "      <th>0</th>\n",
              "      <td>hap_N_kids_rep2_M5.wav</td>\n",
              "      <td>happiness</td>\n",
              "      <td>[-560.8875, -557.3468, -557.6999, -560.072, -5...</td>\n",
              "      <td>[0.99280536, 0.9239153, 0.86961377, 0.5242816,...</td>\n",
              "      <td>[20.288140537780052, 16.049922218454988, 17.91...</td>\n",
              "    </tr>\n",
              "    <tr>\n",
              "      <th>1</th>\n",
              "      <td>augmented_hap_N_kids_rep2_M5.wav</td>\n",
              "      <td>happiness</td>\n",
              "      <td>[-560.8875, -557.3468, -557.6999, -560.072, -5...</td>\n",
              "      <td>[0.99280536, 0.9239153, 0.86961377, 0.5242816,...</td>\n",
              "      <td>[20.288140537780052, 16.049922218454988, 17.91...</td>\n",
              "    </tr>\n",
              "    <tr>\n",
              "      <th>2</th>\n",
              "      <td>fea_S_dogs_rep2_F22.wav</td>\n",
              "      <td>fear</td>\n",
              "      <td>[-557.0281, -550.8854, -544.0535, -483.4463, -...</td>\n",
              "      <td>[0.43459034, 0.3906931, 0.39205012, 0.7074244,...</td>\n",
              "      <td>[13.510801619773137, 16.844586394879578, 15.92...</td>\n",
              "    </tr>\n",
              "    <tr>\n",
              "      <th>3</th>\n",
              "      <td>augmented_fea_S_dogs_rep2_F22.wav</td>\n",
              "      <td>fear</td>\n",
              "      <td>[-293.92853, -255.03133, -253.6468, -249.69287...</td>\n",
              "      <td>[0.7218535, 0.9674026, 1.0, 1.0, 1.0, 0.749644...</td>\n",
              "      <td>[10.010549207763423, 7.792056258532215, 6.5056...</td>\n",
              "    </tr>\n",
              "    <tr>\n",
              "      <th>4</th>\n",
              "      <td>fea_N_kids_rep2_M11.wav</td>\n",
              "      <td>fear</td>\n",
              "      <td>[-564.0849, -559.55365, -559.0394, -560.73395,...</td>\n",
              "      <td>[0.82920116, 0.669364, 0.6859306, 0.76664114, ...</td>\n",
              "      <td>[10.980496795417464, 23.34173214011679, 16.894...</td>\n",
              "    </tr>\n",
              "  </tbody>\n",
              "</table>\n",
              "</div>"
            ],
            "text/plain": [
              "                          Audio_File    Emotion  \\\n",
              "0             hap_N_kids_rep2_M5.wav  happiness   \n",
              "1   augmented_hap_N_kids_rep2_M5.wav  happiness   \n",
              "2            fea_S_dogs_rep2_F22.wav       fear   \n",
              "3  augmented_fea_S_dogs_rep2_F22.wav       fear   \n",
              "4            fea_N_kids_rep2_M11.wav       fear   \n",
              "\n",
              "                                               MFCCs  \\\n",
              "0  [-560.8875, -557.3468, -557.6999, -560.072, -5...   \n",
              "1  [-560.8875, -557.3468, -557.6999, -560.072, -5...   \n",
              "2  [-557.0281, -550.8854, -544.0535, -483.4463, -...   \n",
              "3  [-293.92853, -255.03133, -253.6468, -249.69287...   \n",
              "4  [-564.0849, -559.55365, -559.0394, -560.73395,...   \n",
              "\n",
              "                                              Chroma  \\\n",
              "0  [0.99280536, 0.9239153, 0.86961377, 0.5242816,...   \n",
              "1  [0.99280536, 0.9239153, 0.86961377, 0.5242816,...   \n",
              "2  [0.43459034, 0.3906931, 0.39205012, 0.7074244,...   \n",
              "3  [0.7218535, 0.9674026, 1.0, 1.0, 1.0, 0.749644...   \n",
              "4  [0.82920116, 0.669364, 0.6859306, 0.76664114, ...   \n",
              "\n",
              "                                   Spectral_Contrast  \n",
              "0  [20.288140537780052, 16.049922218454988, 17.91...  \n",
              "1  [20.288140537780052, 16.049922218454988, 17.91...  \n",
              "2  [13.510801619773137, 16.844586394879578, 15.92...  \n",
              "3  [10.010549207763423, 7.792056258532215, 6.5056...  \n",
              "4  [10.980496795417464, 23.34173214011679, 16.894...  "
            ]
          },
          "execution_count": 9,
          "metadata": {},
          "output_type": "execute_result"
        }
      ],
      "source": [
        "df.head()"
      ]
    },
    {
      "cell_type": "code",
      "execution_count": 10,
      "metadata": {},
      "outputs": [
        {
          "data": {
            "text/html": [
              "<div>\n",
              "<style scoped>\n",
              "    .dataframe tbody tr th:only-of-type {\n",
              "        vertical-align: middle;\n",
              "    }\n",
              "\n",
              "    .dataframe tbody tr th {\n",
              "        vertical-align: top;\n",
              "    }\n",
              "\n",
              "    .dataframe thead th {\n",
              "        text-align: right;\n",
              "    }\n",
              "</style>\n",
              "<table border=\"1\" class=\"dataframe\">\n",
              "  <thead>\n",
              "    <tr style=\"text-align: right;\">\n",
              "      <th></th>\n",
              "      <th>Audio_File</th>\n",
              "      <th>Emotion</th>\n",
              "      <th>MFCCs</th>\n",
              "      <th>Chroma</th>\n",
              "      <th>Spectral_Contrast</th>\n",
              "    </tr>\n",
              "  </thead>\n",
              "  <tbody>\n",
              "    <tr>\n",
              "      <th>0</th>\n",
              "      <td>hap_N_kids_rep2_M5.wav</td>\n",
              "      <td>happiness</td>\n",
              "      <td>[-560.8875, -557.3468, -557.6999, -560.072, -5...</td>\n",
              "      <td>[0.99280536, 0.9239153, 0.86961377, 0.5242816,...</td>\n",
              "      <td>[20.288140537780052, 16.049922218454988, 17.91...</td>\n",
              "    </tr>\n",
              "    <tr>\n",
              "      <th>1</th>\n",
              "      <td>augmented_hap_N_kids_rep2_M5.wav</td>\n",
              "      <td>happiness</td>\n",
              "      <td>[-560.8875, -557.3468, -557.6999, -560.072, -5...</td>\n",
              "      <td>[0.99280536, 0.9239153, 0.86961377, 0.5242816,...</td>\n",
              "      <td>[20.288140537780052, 16.049922218454988, 17.91...</td>\n",
              "    </tr>\n",
              "    <tr>\n",
              "      <th>2</th>\n",
              "      <td>fea_S_dogs_rep2_F22.wav</td>\n",
              "      <td>fear</td>\n",
              "      <td>[-557.0281, -550.8854, -544.0535, -483.4463, -...</td>\n",
              "      <td>[0.43459034, 0.3906931, 0.39205012, 0.7074244,...</td>\n",
              "      <td>[13.510801619773137, 16.844586394879578, 15.92...</td>\n",
              "    </tr>\n",
              "    <tr>\n",
              "      <th>3</th>\n",
              "      <td>augmented_fea_S_dogs_rep2_F22.wav</td>\n",
              "      <td>fear</td>\n",
              "      <td>[-293.92853, -255.03133, -253.6468, -249.69287...</td>\n",
              "      <td>[0.7218535, 0.9674026, 1.0, 1.0, 1.0, 0.749644...</td>\n",
              "      <td>[10.010549207763423, 7.792056258532215, 6.5056...</td>\n",
              "    </tr>\n",
              "    <tr>\n",
              "      <th>4</th>\n",
              "      <td>fea_N_kids_rep2_M11.wav</td>\n",
              "      <td>fear</td>\n",
              "      <td>[-564.0849, -559.55365, -559.0394, -560.73395,...</td>\n",
              "      <td>[0.82920116, 0.669364, 0.6859306, 0.76664114, ...</td>\n",
              "      <td>[10.980496795417464, 23.34173214011679, 16.894...</td>\n",
              "    </tr>\n",
              "  </tbody>\n",
              "</table>\n",
              "</div>"
            ],
            "text/plain": [
              "                          Audio_File    Emotion  \\\n",
              "0             hap_N_kids_rep2_M5.wav  happiness   \n",
              "1   augmented_hap_N_kids_rep2_M5.wav  happiness   \n",
              "2            fea_S_dogs_rep2_F22.wav       fear   \n",
              "3  augmented_fea_S_dogs_rep2_F22.wav       fear   \n",
              "4            fea_N_kids_rep2_M11.wav       fear   \n",
              "\n",
              "                                               MFCCs  \\\n",
              "0  [-560.8875, -557.3468, -557.6999, -560.072, -5...   \n",
              "1  [-560.8875, -557.3468, -557.6999, -560.072, -5...   \n",
              "2  [-557.0281, -550.8854, -544.0535, -483.4463, -...   \n",
              "3  [-293.92853, -255.03133, -253.6468, -249.69287...   \n",
              "4  [-564.0849, -559.55365, -559.0394, -560.73395,...   \n",
              "\n",
              "                                              Chroma  \\\n",
              "0  [0.99280536, 0.9239153, 0.86961377, 0.5242816,...   \n",
              "1  [0.99280536, 0.9239153, 0.86961377, 0.5242816,...   \n",
              "2  [0.43459034, 0.3906931, 0.39205012, 0.7074244,...   \n",
              "3  [0.7218535, 0.9674026, 1.0, 1.0, 1.0, 0.749644...   \n",
              "4  [0.82920116, 0.669364, 0.6859306, 0.76664114, ...   \n",
              "\n",
              "                                   Spectral_Contrast  \n",
              "0  [20.288140537780052, 16.049922218454988, 17.91...  \n",
              "1  [20.288140537780052, 16.049922218454988, 17.91...  \n",
              "2  [13.510801619773137, 16.844586394879578, 15.92...  \n",
              "3  [10.010549207763423, 7.792056258532215, 6.5056...  \n",
              "4  [10.980496795417464, 23.34173214011679, 16.894...  "
            ]
          },
          "execution_count": 10,
          "metadata": {},
          "output_type": "execute_result"
        }
      ],
      "source": [
        "df[df[\"Emotion\"] != \"unknown\"].head()"
      ]
    },
    {
      "cell_type": "code",
      "execution_count": 11,
      "metadata": {},
      "outputs": [
        {
          "data": {
            "image/png": "[encoded data removed]",
            "text/plain": [
              "<Figure size 640x480 with 1 Axes>"
            ]
          },
          "metadata": {},
          "output_type": "display_data"
        }
      ],
      "source": [
        "# Voyons la répartition de chaque émotion\n",
        "sns.countplot(df, x=\"Emotion\", hue=\"Emotion\")\n",
        "sns.set(rc={'figure.figsize':(16,5)})"
      ]
    },
    {
      "cell_type": "code",
      "execution_count": 12,
      "metadata": {
        "id": "AiUgv3mZ04FX"
      },
      "outputs": [],
      "source": [
        "df[\"anger\"] = df['Emotion'].apply(is_anger)"
      ]
    },
    {
      "cell_type": "code",
      "execution_count": 13,
      "metadata": {
        "id": "QE4kp0ApEZxA"
      },
      "outputs": [],
      "source": [
        "# Dataframe de chaque categories de features\n",
        "\n",
        "mfccs_list_columns = [f'mfccs_{i}' for i in range(len(mfccs_list[0]))]\n",
        "df_mfccs = pd.DataFrame(mfccs_list, columns=mfccs_list_columns)\n",
        "\n",
        "chroma_list_columns = [f'chroma_{i}' for i in range(len(chroma_list[0]))]\n",
        "df_chroma = pd.DataFrame(chroma_list, columns=chroma_list_columns)\n",
        "\n",
        "spectral_contrast_list_columns = [f'spectral_contrast_{i}' for i in range(len(spectral_contrast_list[0]))]\n",
        "df_spectral_contrast = pd.DataFrame(spectral_contrast_list, columns=spectral_contrast_list_columns)"
      ]
    },
    {
      "cell_type": "code",
      "execution_count": 14,
      "metadata": {
        "colab": {
          "base_uri": "https://localhost:8080/",
          "height": 253
        },
        "id": "bGVdLAxZEswy",
        "outputId": "3b249fd9-a275-4260-ad4e-b16c3394a80c"
      },
      "outputs": [
        {
          "data": {
            "text/html": [
              "<div>\n",
              "<style scoped>\n",
              "    .dataframe tbody tr th:only-of-type {\n",
              "        vertical-align: middle;\n",
              "    }\n",
              "\n",
              "    .dataframe tbody tr th {\n",
              "        vertical-align: top;\n",
              "    }\n",
              "\n",
              "    .dataframe thead th {\n",
              "        text-align: right;\n",
              "    }\n",
              "</style>\n",
              "<table border=\"1\" class=\"dataframe\">\n",
              "  <thead>\n",
              "    <tr style=\"text-align: right;\">\n",
              "      <th></th>\n",
              "      <th>Audio_File</th>\n",
              "      <th>mfccs_0</th>\n",
              "      <th>mfccs_1</th>\n",
              "      <th>mfccs_2</th>\n",
              "      <th>mfccs_3</th>\n",
              "      <th>mfccs_4</th>\n",
              "      <th>mfccs_5</th>\n",
              "      <th>mfccs_6</th>\n",
              "      <th>mfccs_7</th>\n",
              "      <th>mfccs_8</th>\n",
              "      <th>...</th>\n",
              "      <th>spectral_contrast_691</th>\n",
              "      <th>spectral_contrast_692</th>\n",
              "      <th>spectral_contrast_693</th>\n",
              "      <th>spectral_contrast_694</th>\n",
              "      <th>spectral_contrast_695</th>\n",
              "      <th>spectral_contrast_696</th>\n",
              "      <th>spectral_contrast_697</th>\n",
              "      <th>spectral_contrast_698</th>\n",
              "      <th>spectral_contrast_699</th>\n",
              "      <th>anger</th>\n",
              "    </tr>\n",
              "  </thead>\n",
              "  <tbody>\n",
              "    <tr>\n",
              "      <th>2553</th>\n",
              "      <td>augmented_sad_N_kids_rep2_M19.wav</td>\n",
              "      <td>-496.131989</td>\n",
              "      <td>-502.878296</td>\n",
              "      <td>-554.580322</td>\n",
              "      <td>-560.882935</td>\n",
              "      <td>-564.876709</td>\n",
              "      <td>-560.990967</td>\n",
              "      <td>-533.951172</td>\n",
              "      <td>-518.549805</td>\n",
              "      <td>-517.950684</td>\n",
              "      <td>...</td>\n",
              "      <td>50.357200</td>\n",
              "      <td>47.780708</td>\n",
              "      <td>47.614068</td>\n",
              "      <td>45.011954</td>\n",
              "      <td>46.727640</td>\n",
              "      <td>45.263660</td>\n",
              "      <td>44.187338</td>\n",
              "      <td>42.062269</td>\n",
              "      <td>45.656439</td>\n",
              "      <td>0</td>\n",
              "    </tr>\n",
              "    <tr>\n",
              "      <th>680</th>\n",
              "      <td>neu_N_dogs_rep2_M11.wav</td>\n",
              "      <td>-526.456848</td>\n",
              "      <td>-536.880188</td>\n",
              "      <td>-544.775818</td>\n",
              "      <td>-538.701111</td>\n",
              "      <td>-532.397522</td>\n",
              "      <td>-531.385193</td>\n",
              "      <td>-530.200500</td>\n",
              "      <td>-521.222229</td>\n",
              "      <td>-515.974243</td>\n",
              "      <td>...</td>\n",
              "      <td>48.538915</td>\n",
              "      <td>49.597100</td>\n",
              "      <td>49.059049</td>\n",
              "      <td>47.633302</td>\n",
              "      <td>47.765071</td>\n",
              "      <td>49.465280</td>\n",
              "      <td>45.017533</td>\n",
              "      <td>45.191926</td>\n",
              "      <td>45.040913</td>\n",
              "      <td>0</td>\n",
              "    </tr>\n",
              "    <tr>\n",
              "      <th>2673</th>\n",
              "      <td>augmented_hap_S_kids_rep1_M21.wav</td>\n",
              "      <td>-531.031982</td>\n",
              "      <td>-526.899048</td>\n",
              "      <td>-527.289490</td>\n",
              "      <td>-528.679077</td>\n",
              "      <td>-532.421814</td>\n",
              "      <td>-533.274536</td>\n",
              "      <td>-533.072388</td>\n",
              "      <td>-531.442017</td>\n",
              "      <td>-511.999817</td>\n",
              "      <td>...</td>\n",
              "      <td>46.156403</td>\n",
              "      <td>49.734907</td>\n",
              "      <td>50.369967</td>\n",
              "      <td>48.140274</td>\n",
              "      <td>46.282210</td>\n",
              "      <td>23.064848</td>\n",
              "      <td>17.906901</td>\n",
              "      <td>0.000000</td>\n",
              "      <td>0.000000</td>\n",
              "      <td>0</td>\n",
              "    </tr>\n",
              "    <tr>\n",
              "      <th>466</th>\n",
              "      <td>sad_S_dogs_rep1_M5.wav</td>\n",
              "      <td>-410.638489</td>\n",
              "      <td>-435.932281</td>\n",
              "      <td>-494.195587</td>\n",
              "      <td>-485.730377</td>\n",
              "      <td>-482.678223</td>\n",
              "      <td>-514.587708</td>\n",
              "      <td>-539.962891</td>\n",
              "      <td>-540.088013</td>\n",
              "      <td>-535.196533</td>\n",
              "      <td>...</td>\n",
              "      <td>48.440705</td>\n",
              "      <td>50.224607</td>\n",
              "      <td>50.483991</td>\n",
              "      <td>49.695511</td>\n",
              "      <td>50.426406</td>\n",
              "      <td>50.240737</td>\n",
              "      <td>50.065165</td>\n",
              "      <td>47.766611</td>\n",
              "      <td>47.521293</td>\n",
              "      <td>0</td>\n",
              "    </tr>\n",
              "    <tr>\n",
              "      <th>266</th>\n",
              "      <td>ang_N_dogs_rep2_F10.wav</td>\n",
              "      <td>-512.329590</td>\n",
              "      <td>-500.959167</td>\n",
              "      <td>-509.489777</td>\n",
              "      <td>-509.875092</td>\n",
              "      <td>-513.951965</td>\n",
              "      <td>-521.680359</td>\n",
              "      <td>-521.358521</td>\n",
              "      <td>-525.217957</td>\n",
              "      <td>-527.668701</td>\n",
              "      <td>...</td>\n",
              "      <td>50.342173</td>\n",
              "      <td>47.660225</td>\n",
              "      <td>47.664690</td>\n",
              "      <td>48.087817</td>\n",
              "      <td>47.777988</td>\n",
              "      <td>49.081599</td>\n",
              "      <td>48.548343</td>\n",
              "      <td>53.989945</td>\n",
              "      <td>50.488128</td>\n",
              "      <td>1</td>\n",
              "    </tr>\n",
              "  </tbody>\n",
              "</table>\n",
              "<p>5 rows × 3202 columns</p>\n",
              "</div>"
            ],
            "text/plain": [
              "                             Audio_File     mfccs_0     mfccs_1     mfccs_2  \\\n",
              "2553  augmented_sad_N_kids_rep2_M19.wav -496.131989 -502.878296 -554.580322   \n",
              "680             neu_N_dogs_rep2_M11.wav -526.456848 -536.880188 -544.775818   \n",
              "2673  augmented_hap_S_kids_rep1_M21.wav -531.031982 -526.899048 -527.289490   \n",
              "466              sad_S_dogs_rep1_M5.wav -410.638489 -435.932281 -494.195587   \n",
              "266             ang_N_dogs_rep2_F10.wav -512.329590 -500.959167 -509.489777   \n",
              "\n",
              "         mfccs_3     mfccs_4     mfccs_5     mfccs_6     mfccs_7     mfccs_8  \\\n",
              "2553 -560.882935 -564.876709 -560.990967 -533.951172 -518.549805 -517.950684   \n",
              "680  -538.701111 -532.397522 -531.385193 -530.200500 -521.222229 -515.974243   \n",
              "2673 -528.679077 -532.421814 -533.274536 -533.072388 -531.442017 -511.999817   \n",
              "466  -485.730377 -482.678223 -514.587708 -539.962891 -540.088013 -535.196533   \n",
              "266  -509.875092 -513.951965 -521.680359 -521.358521 -525.217957 -527.668701   \n",
              "\n",
              "      ...  spectral_contrast_691  spectral_contrast_692  \\\n",
              "2553  ...              50.357200              47.780708   \n",
              "680   ...              48.538915              49.597100   \n",
              "2673  ...              46.156403              49.734907   \n",
              "466   ...              48.440705              50.224607   \n",
              "266   ...              50.342173              47.660225   \n",
              "\n",
              "      spectral_contrast_693  spectral_contrast_694  spectral_contrast_695  \\\n",
              "2553              47.614068              45.011954              46.727640   \n",
              "680               49.059049              47.633302              47.765071   \n",
              "2673              50.369967              48.140274              46.282210   \n",
              "466               50.483991              49.695511              50.426406   \n",
              "266               47.664690              48.087817              47.777988   \n",
              "\n",
              "      spectral_contrast_696  spectral_contrast_697  spectral_contrast_698  \\\n",
              "2553              45.263660              44.187338              42.062269   \n",
              "680               49.465280              45.017533              45.191926   \n",
              "2673              23.064848              17.906901               0.000000   \n",
              "466               50.240737              50.065165              47.766611   \n",
              "266               49.081599              48.548343              53.989945   \n",
              "\n",
              "      spectral_contrast_699  anger  \n",
              "2553              45.656439      0  \n",
              "680               45.040913      0  \n",
              "2673               0.000000      0  \n",
              "466               47.521293      0  \n",
              "266               50.488128      1  \n",
              "\n",
              "[5 rows x 3202 columns]"
            ]
          },
          "execution_count": 14,
          "metadata": {},
          "output_type": "execute_result"
        }
      ],
      "source": [
        "# Dataset d'exploitation avec features et sans features selection\n",
        "features = pd.concat([df[\"Audio_File\"],df_mfccs, df_chroma,df_spectral_contrast,df[\"anger\"]], axis=1)\n",
        "features = features.sample(frac = 1) # A changer si le dataset est trop grand\n",
        "features.head()"
      ]
    },
    {
      "cell_type": "code",
      "execution_count": 15,
      "metadata": {},
      "outputs": [
        {
          "data": {
            "text/plain": [
              "(2760, 3202)"
            ]
          },
          "execution_count": 15,
          "metadata": {},
          "output_type": "execute_result"
        }
      ],
      "source": [
        "features.shape"
      ]
    },
    {
      "cell_type": "code",
      "execution_count": 16,
      "metadata": {},
      "outputs": [],
      "source": [
        "# Sauverage du dataset en parquet\n",
        "features.to_parquet('data/datasets/features.parquet', index=False)"
      ]
    },
    {
      "cell_type": "markdown",
      "metadata": {},
      "source": [
        "## Entrainement des models"
      ]
    },
    {
      "cell_type": "code",
      "execution_count": null,
      "metadata": {},
      "outputs": [],
      "source": [
        "# Chargelent du dataset\n",
        "# features = pd.read_parquet('data/datasets/features.parquet')"
      ]
    },
    {
      "cell_type": "markdown",
      "metadata": {},
      "source": [
        "### Définition des modèles"
      ]
    },
    {
      "cell_type": "code",
      "execution_count": 48,
      "metadata": {
        "id": "Y7uE7mCEPEuB"
      },
      "outputs": [],
      "source": [
        "def train_model_knn(X_train, y_train):\n",
        "    model = KNeighborsClassifier()\n",
        "    param_grid = {'n_neighbors': [1, 3, 5, 7, 9]}\n",
        "    grid_search = GridSearchCV(model, param_grid, cv=5)\n",
        "    grid_search.fit(X_train, y_train)\n",
        "    best_knn = grid_search.best_estimator_\n",
        "\n",
        "    return best_knn\n",
        "\n",
        "def train_model_svc(X_train, y_train):\n",
        "    model = SVC()\n",
        "    model.fit(X_train, y_train)\n",
        "\n",
        "    return model\n",
        "\n",
        "def train_model_dt(X_train, y_train):\n",
        "    model = DecisionTreeClassifier()\n",
        "    model.fit(X_train, y_train)\n",
        "\n",
        "    return model"
      ]
    },
    {
      "cell_type": "code",
      "execution_count": 49,
      "metadata": {
        "id": "_Q9vMU3TPfUW"
      },
      "outputs": [],
      "source": [
        "def evaluate_model(model, X_test, y_test):\n",
        "    y_pred = model.predict(X_test)\n",
        "\n",
        "    accuracy = accuracy_score(y_test, y_pred)\n",
        "    precision = precision_score(y_test, y_pred, average='weighted')\n",
        "    recall = recall_score(y_test, y_pred, average='weighted')\n",
        "\n",
        "    print(f\"Accuracy: {accuracy:.4f}\")\n",
        "    print(f\"Precision: {precision:.4f}\")\n",
        "    print(f\"Recall: {recall:.4f}\")"
      ]
    },
    {
      "cell_type": "markdown",
      "metadata": {},
      "source": [
        "### Séparation des données en données de train, test et validation"
      ]
    },
    {
      "cell_type": "code",
      "execution_count": 50,
      "metadata": {},
      "outputs": [],
      "source": [
        "X = features.drop(columns=['Audio_File', 'anger'])\n",
        "y = features[\"anger\"].values\n",
        "\n",
        "X_train_valid, X_test, y_train_valid, y_test = train_test_split(X, y, test_size=0.2, random_state=21)"
      ]
    },
    {
      "cell_type": "code",
      "execution_count": 20,
      "metadata": {},
      "outputs": [
        {
          "data": {
            "text/plain": [
              "((2208, 3200), (552, 3200))"
            ]
          },
          "execution_count": 20,
          "metadata": {},
          "output_type": "execute_result"
        }
      ],
      "source": [
        "X_train_valid.shape, X_test.shape"
      ]
    },
    {
      "cell_type": "code",
      "execution_count": 51,
      "metadata": {},
      "outputs": [],
      "source": [
        "X_train, X_valid, y_train, y_valid = train_test_split(X_train_valid, y_train_valid, test_size=0.1, random_state=21)"
      ]
    },
    {
      "cell_type": "code",
      "execution_count": 22,
      "metadata": {},
      "outputs": [
        {
          "data": {
            "text/plain": [
              "((1987, 3200), (221, 3200))"
            ]
          },
          "execution_count": 22,
          "metadata": {},
          "output_type": "execute_result"
        }
      ],
      "source": [
        "X_train.shape, X_valid.shape"
      ]
    },
    {
      "cell_type": "markdown",
      "metadata": {},
      "source": [
        "### Entrainement des modèles"
      ]
    },
    {
      "cell_type": "code",
      "execution_count": 52,
      "metadata": {
        "colab": {
          "base_uri": "https://localhost:8080/"
        },
        "id": "F2IOIY5FP__a",
        "outputId": "1b706c2f-78d5-4141-bb0a-ea0664fa2123"
      },
      "outputs": [
        {
          "name": "stderr",
          "output_type": "stream",
          "text": [
            "/Volumes/Second/EFREI/ING 3/APPLICATION OF BIG DATA/.app-bd/lib/python3.10/site-packages/sklearn/utils/validation.py:757: FutureWarning: is_sparse is deprecated and will be removed in a future version. Check `isinstance(dtype, pd.SparseDtype)` instead.\n",
            "  if not hasattr(array, \"sparse\") and array.dtypes.apply(is_sparse).any():\n",
            "/Volumes/Second/EFREI/ING 3/APPLICATION OF BIG DATA/.app-bd/lib/python3.10/site-packages/sklearn/utils/validation.py:595: FutureWarning: is_sparse is deprecated and will be removed in a future version. Check `isinstance(dtype, pd.SparseDtype)` instead.\n",
            "  if is_sparse(pd_dtype):\n",
            "/Volumes/Second/EFREI/ING 3/APPLICATION OF BIG DATA/.app-bd/lib/python3.10/site-packages/sklearn/utils/validation.py:604: FutureWarning: is_sparse is deprecated and will be removed in a future version. Check `isinstance(dtype, pd.SparseDtype)` instead.\n",
            "  if is_sparse(pd_dtype) or not is_extension_array_dtype(pd_dtype):\n",
            "/Volumes/Second/EFREI/ING 3/APPLICATION OF BIG DATA/.app-bd/lib/python3.10/site-packages/sklearn/utils/validation.py:757: FutureWarning: is_sparse is deprecated and will be removed in a future version. Check `isinstance(dtype, pd.SparseDtype)` instead.\n",
            "  if not hasattr(array, \"sparse\") and array.dtypes.apply(is_sparse).any():\n",
            "/Volumes/Second/EFREI/ING 3/APPLICATION OF BIG DATA/.app-bd/lib/python3.10/site-packages/sklearn/utils/validation.py:595: FutureWarning: is_sparse is deprecated and will be removed in a future version. Check `isinstance(dtype, pd.SparseDtype)` instead.\n",
            "  if is_sparse(pd_dtype):\n",
            "/Volumes/Second/EFREI/ING 3/APPLICATION OF BIG DATA/.app-bd/lib/python3.10/site-packages/sklearn/utils/validation.py:604: FutureWarning: is_sparse is deprecated and will be removed in a future version. Check `isinstance(dtype, pd.SparseDtype)` instead.\n",
            "  if is_sparse(pd_dtype) or not is_extension_array_dtype(pd_dtype):\n",
            "/Volumes/Second/EFREI/ING 3/APPLICATION OF BIG DATA/.app-bd/lib/python3.10/site-packages/sklearn/utils/validation.py:757: FutureWarning: is_sparse is deprecated and will be removed in a future version. Check `isinstance(dtype, pd.SparseDtype)` instead.\n",
            "  if not hasattr(array, \"sparse\") and array.dtypes.apply(is_sparse).any():\n",
            "/Volumes/Second/EFREI/ING 3/APPLICATION OF BIG DATA/.app-bd/lib/python3.10/site-packages/sklearn/utils/validation.py:595: FutureWarning: is_sparse is deprecated and will be removed in a future version. Check `isinstance(dtype, pd.SparseDtype)` instead.\n",
            "  if is_sparse(pd_dtype):\n",
            "/Volumes/Second/EFREI/ING 3/APPLICATION OF BIG DATA/.app-bd/lib/python3.10/site-packages/sklearn/utils/validation.py:604: FutureWarning: is_sparse is deprecated and will be removed in a future version. Check `isinstance(dtype, pd.SparseDtype)` instead.\n",
            "  if is_sparse(pd_dtype) or not is_extension_array_dtype(pd_dtype):\n",
            "/Volumes/Second/EFREI/ING 3/APPLICATION OF BIG DATA/.app-bd/lib/python3.10/site-packages/sklearn/utils/validation.py:757: FutureWarning: is_sparse is deprecated and will be removed in a future version. Check `isinstance(dtype, pd.SparseDtype)` instead.\n",
            "  if not hasattr(array, \"sparse\") and array.dtypes.apply(is_sparse).any():\n",
            "/Volumes/Second/EFREI/ING 3/APPLICATION OF BIG DATA/.app-bd/lib/python3.10/site-packages/sklearn/utils/validation.py:595: FutureWarning: is_sparse is deprecated and will be removed in a future version. Check `isinstance(dtype, pd.SparseDtype)` instead.\n",
            "  if is_sparse(pd_dtype):\n",
            "/Volumes/Second/EFREI/ING 3/APPLICATION OF BIG DATA/.app-bd/lib/python3.10/site-packages/sklearn/utils/validation.py:604: FutureWarning: is_sparse is deprecated and will be removed in a future version. Check `isinstance(dtype, pd.SparseDtype)` instead.\n",
            "  if is_sparse(pd_dtype) or not is_extension_array_dtype(pd_dtype):\n",
            "/Volumes/Second/EFREI/ING 3/APPLICATION OF BIG DATA/.app-bd/lib/python3.10/site-packages/sklearn/utils/validation.py:757: FutureWarning: is_sparse is deprecated and will be removed in a future version. Check `isinstance(dtype, pd.SparseDtype)` instead.\n",
            "  if not hasattr(array, \"sparse\") and array.dtypes.apply(is_sparse).any():\n",
            "/Volumes/Second/EFREI/ING 3/APPLICATION OF BIG DATA/.app-bd/lib/python3.10/site-packages/sklearn/utils/validation.py:595: FutureWarning: is_sparse is deprecated and will be removed in a future version. Check `isinstance(dtype, pd.SparseDtype)` instead.\n",
            "  if is_sparse(pd_dtype):\n",
            "/Volumes/Second/EFREI/ING 3/APPLICATION OF BIG DATA/.app-bd/lib/python3.10/site-packages/sklearn/utils/validation.py:604: FutureWarning: is_sparse is deprecated and will be removed in a future version. Check `isinstance(dtype, pd.SparseDtype)` instead.\n",
            "  if is_sparse(pd_dtype) or not is_extension_array_dtype(pd_dtype):\n",
            "/Volumes/Second/EFREI/ING 3/APPLICATION OF BIG DATA/.app-bd/lib/python3.10/site-packages/sklearn/utils/validation.py:757: FutureWarning: is_sparse is deprecated and will be removed in a future version. Check `isinstance(dtype, pd.SparseDtype)` instead.\n",
            "  if not hasattr(array, \"sparse\") and array.dtypes.apply(is_sparse).any():\n",
            "/Volumes/Second/EFREI/ING 3/APPLICATION OF BIG DATA/.app-bd/lib/python3.10/site-packages/sklearn/utils/validation.py:595: FutureWarning: is_sparse is deprecated and will be removed in a future version. Check `isinstance(dtype, pd.SparseDtype)` instead.\n",
            "  if is_sparse(pd_dtype):\n",
            "/Volumes/Second/EFREI/ING 3/APPLICATION OF BIG DATA/.app-bd/lib/python3.10/site-packages/sklearn/utils/validation.py:604: FutureWarning: is_sparse is deprecated and will be removed in a future version. Check `isinstance(dtype, pd.SparseDtype)` instead.\n",
            "  if is_sparse(pd_dtype) or not is_extension_array_dtype(pd_dtype):\n",
            "/Volumes/Second/EFREI/ING 3/APPLICATION OF BIG DATA/.app-bd/lib/python3.10/site-packages/sklearn/utils/validation.py:757: FutureWarning: is_sparse is deprecated and will be removed in a future version. Check `isinstance(dtype, pd.SparseDtype)` instead.\n",
            "  if not hasattr(array, \"sparse\") and array.dtypes.apply(is_sparse).any():\n",
            "/Volumes/Second/EFREI/ING 3/APPLICATION OF BIG DATA/.app-bd/lib/python3.10/site-packages/sklearn/utils/validation.py:595: FutureWarning: is_sparse is deprecated and will be removed in a future version. Check `isinstance(dtype, pd.SparseDtype)` instead.\n",
            "  if is_sparse(pd_dtype):\n",
            "/Volumes/Second/EFREI/ING 3/APPLICATION OF BIG DATA/.app-bd/lib/python3.10/site-packages/sklearn/utils/validation.py:604: FutureWarning: is_sparse is deprecated and will be removed in a future version. Check `isinstance(dtype, pd.SparseDtype)` instead.\n",
            "  if is_sparse(pd_dtype) or not is_extension_array_dtype(pd_dtype):\n",
            "/Volumes/Second/EFREI/ING 3/APPLICATION OF BIG DATA/.app-bd/lib/python3.10/site-packages/sklearn/utils/validation.py:757: FutureWarning: is_sparse is deprecated and will be removed in a future version. Check `isinstance(dtype, pd.SparseDtype)` instead.\n",
            "  if not hasattr(array, \"sparse\") and array.dtypes.apply(is_sparse).any():\n",
            "/Volumes/Second/EFREI/ING 3/APPLICATION OF BIG DATA/.app-bd/lib/python3.10/site-packages/sklearn/utils/validation.py:595: FutureWarning: is_sparse is deprecated and will be removed in a future version. Check `isinstance(dtype, pd.SparseDtype)` instead.\n",
            "  if is_sparse(pd_dtype):\n",
            "/Volumes/Second/EFREI/ING 3/APPLICATION OF BIG DATA/.app-bd/lib/python3.10/site-packages/sklearn/utils/validation.py:604: FutureWarning: is_sparse is deprecated and will be removed in a future version. Check `isinstance(dtype, pd.SparseDtype)` instead.\n",
            "  if is_sparse(pd_dtype) or not is_extension_array_dtype(pd_dtype):\n",
            "/Volumes/Second/EFREI/ING 3/APPLICATION OF BIG DATA/.app-bd/lib/python3.10/site-packages/sklearn/utils/validation.py:757: FutureWarning: is_sparse is deprecated and will be removed in a future version. Check `isinstance(dtype, pd.SparseDtype)` instead.\n",
            "  if not hasattr(array, \"sparse\") and array.dtypes.apply(is_sparse).any():\n",
            "/Volumes/Second/EFREI/ING 3/APPLICATION OF BIG DATA/.app-bd/lib/python3.10/site-packages/sklearn/utils/validation.py:595: FutureWarning: is_sparse is deprecated and will be removed in a future version. Check `isinstance(dtype, pd.SparseDtype)` instead.\n",
            "  if is_sparse(pd_dtype):\n",
            "/Volumes/Second/EFREI/ING 3/APPLICATION OF BIG DATA/.app-bd/lib/python3.10/site-packages/sklearn/utils/validation.py:604: FutureWarning: is_sparse is deprecated and will be removed in a future version. Check `isinstance(dtype, pd.SparseDtype)` instead.\n",
            "  if is_sparse(pd_dtype) or not is_extension_array_dtype(pd_dtype):\n",
            "/Volumes/Second/EFREI/ING 3/APPLICATION OF BIG DATA/.app-bd/lib/python3.10/site-packages/sklearn/utils/validation.py:757: FutureWarning: is_sparse is deprecated and will be removed in a future version. Check `isinstance(dtype, pd.SparseDtype)` instead.\n",
            "  if not hasattr(array, \"sparse\") and array.dtypes.apply(is_sparse).any():\n",
            "/Volumes/Second/EFREI/ING 3/APPLICATION OF BIG DATA/.app-bd/lib/python3.10/site-packages/sklearn/utils/validation.py:595: FutureWarning: is_sparse is deprecated and will be removed in a future version. Check `isinstance(dtype, pd.SparseDtype)` instead.\n",
            "  if is_sparse(pd_dtype):\n",
            "/Volumes/Second/EFREI/ING 3/APPLICATION OF BIG DATA/.app-bd/lib/python3.10/site-packages/sklearn/utils/validation.py:604: FutureWarning: is_sparse is deprecated and will be removed in a future version. Check `isinstance(dtype, pd.SparseDtype)` instead.\n",
            "  if is_sparse(pd_dtype) or not is_extension_array_dtype(pd_dtype):\n",
            "/Volumes/Second/EFREI/ING 3/APPLICATION OF BIG DATA/.app-bd/lib/python3.10/site-packages/sklearn/utils/validation.py:757: FutureWarning: is_sparse is deprecated and will be removed in a future version. Check `isinstance(dtype, pd.SparseDtype)` instead.\n",
            "  if not hasattr(array, \"sparse\") and array.dtypes.apply(is_sparse).any():\n",
            "/Volumes/Second/EFREI/ING 3/APPLICATION OF BIG DATA/.app-bd/lib/python3.10/site-packages/sklearn/utils/validation.py:595: FutureWarning: is_sparse is deprecated and will be removed in a future version. Check `isinstance(dtype, pd.SparseDtype)` instead.\n",
            "  if is_sparse(pd_dtype):\n",
            "/Volumes/Second/EFREI/ING 3/APPLICATION OF BIG DATA/.app-bd/lib/python3.10/site-packages/sklearn/utils/validation.py:604: FutureWarning: is_sparse is deprecated and will be removed in a future version. Check `isinstance(dtype, pd.SparseDtype)` instead.\n",
            "  if is_sparse(pd_dtype) or not is_extension_array_dtype(pd_dtype):\n",
            "/Volumes/Second/EFREI/ING 3/APPLICATION OF BIG DATA/.app-bd/lib/python3.10/site-packages/sklearn/utils/validation.py:757: FutureWarning: is_sparse is deprecated and will be removed in a future version. Check `isinstance(dtype, pd.SparseDtype)` instead.\n",
            "  if not hasattr(array, \"sparse\") and array.dtypes.apply(is_sparse).any():\n",
            "/Volumes/Second/EFREI/ING 3/APPLICATION OF BIG DATA/.app-bd/lib/python3.10/site-packages/sklearn/utils/validation.py:595: FutureWarning: is_sparse is deprecated and will be removed in a future version. Check `isinstance(dtype, pd.SparseDtype)` instead.\n",
            "  if is_sparse(pd_dtype):\n",
            "/Volumes/Second/EFREI/ING 3/APPLICATION OF BIG DATA/.app-bd/lib/python3.10/site-packages/sklearn/utils/validation.py:604: FutureWarning: is_sparse is deprecated and will be removed in a future version. Check `isinstance(dtype, pd.SparseDtype)` instead.\n",
            "  if is_sparse(pd_dtype) or not is_extension_array_dtype(pd_dtype):\n",
            "/Volumes/Second/EFREI/ING 3/APPLICATION OF BIG DATA/.app-bd/lib/python3.10/site-packages/sklearn/utils/validation.py:757: FutureWarning: is_sparse is deprecated and will be removed in a future version. Check `isinstance(dtype, pd.SparseDtype)` instead.\n",
            "  if not hasattr(array, \"sparse\") and array.dtypes.apply(is_sparse).any():\n",
            "/Volumes/Second/EFREI/ING 3/APPLICATION OF BIG DATA/.app-bd/lib/python3.10/site-packages/sklearn/utils/validation.py:595: FutureWarning: is_sparse is deprecated and will be removed in a future version. Check `isinstance(dtype, pd.SparseDtype)` instead.\n",
            "  if is_sparse(pd_dtype):\n",
            "/Volumes/Second/EFREI/ING 3/APPLICATION OF BIG DATA/.app-bd/lib/python3.10/site-packages/sklearn/utils/validation.py:604: FutureWarning: is_sparse is deprecated and will be removed in a future version. Check `isinstance(dtype, pd.SparseDtype)` instead.\n",
            "  if is_sparse(pd_dtype) or not is_extension_array_dtype(pd_dtype):\n",
            "/Volumes/Second/EFREI/ING 3/APPLICATION OF BIG DATA/.app-bd/lib/python3.10/site-packages/sklearn/utils/validation.py:757: FutureWarning: is_sparse is deprecated and will be removed in a future version. Check `isinstance(dtype, pd.SparseDtype)` instead.\n",
            "  if not hasattr(array, \"sparse\") and array.dtypes.apply(is_sparse).any():\n",
            "/Volumes/Second/EFREI/ING 3/APPLICATION OF BIG DATA/.app-bd/lib/python3.10/site-packages/sklearn/utils/validation.py:595: FutureWarning: is_sparse is deprecated and will be removed in a future version. Check `isinstance(dtype, pd.SparseDtype)` instead.\n",
            "  if is_sparse(pd_dtype):\n",
            "/Volumes/Second/EFREI/ING 3/APPLICATION OF BIG DATA/.app-bd/lib/python3.10/site-packages/sklearn/utils/validation.py:604: FutureWarning: is_sparse is deprecated and will be removed in a future version. Check `isinstance(dtype, pd.SparseDtype)` instead.\n",
            "  if is_sparse(pd_dtype) or not is_extension_array_dtype(pd_dtype):\n",
            "/Volumes/Second/EFREI/ING 3/APPLICATION OF BIG DATA/.app-bd/lib/python3.10/site-packages/sklearn/utils/validation.py:757: FutureWarning: is_sparse is deprecated and will be removed in a future version. Check `isinstance(dtype, pd.SparseDtype)` instead.\n",
            "  if not hasattr(array, \"sparse\") and array.dtypes.apply(is_sparse).any():\n",
            "/Volumes/Second/EFREI/ING 3/APPLICATION OF BIG DATA/.app-bd/lib/python3.10/site-packages/sklearn/utils/validation.py:595: FutureWarning: is_sparse is deprecated and will be removed in a future version. Check `isinstance(dtype, pd.SparseDtype)` instead.\n",
            "  if is_sparse(pd_dtype):\n",
            "/Volumes/Second/EFREI/ING 3/APPLICATION OF BIG DATA/.app-bd/lib/python3.10/site-packages/sklearn/utils/validation.py:604: FutureWarning: is_sparse is deprecated and will be removed in a future version. Check `isinstance(dtype, pd.SparseDtype)` instead.\n",
            "  if is_sparse(pd_dtype) or not is_extension_array_dtype(pd_dtype):\n",
            "/Volumes/Second/EFREI/ING 3/APPLICATION OF BIG DATA/.app-bd/lib/python3.10/site-packages/sklearn/utils/validation.py:757: FutureWarning: is_sparse is deprecated and will be removed in a future version. Check `isinstance(dtype, pd.SparseDtype)` instead.\n",
            "  if not hasattr(array, \"sparse\") and array.dtypes.apply(is_sparse).any():\n",
            "/Volumes/Second/EFREI/ING 3/APPLICATION OF BIG DATA/.app-bd/lib/python3.10/site-packages/sklearn/utils/validation.py:595: FutureWarning: is_sparse is deprecated and will be removed in a future version. Check `isinstance(dtype, pd.SparseDtype)` instead.\n",
            "  if is_sparse(pd_dtype):\n",
            "/Volumes/Second/EFREI/ING 3/APPLICATION OF BIG DATA/.app-bd/lib/python3.10/site-packages/sklearn/utils/validation.py:604: FutureWarning: is_sparse is deprecated and will be removed in a future version. Check `isinstance(dtype, pd.SparseDtype)` instead.\n",
            "  if is_sparse(pd_dtype) or not is_extension_array_dtype(pd_dtype):\n",
            "/Volumes/Second/EFREI/ING 3/APPLICATION OF BIG DATA/.app-bd/lib/python3.10/site-packages/sklearn/utils/validation.py:757: FutureWarning: is_sparse is deprecated and will be removed in a future version. Check `isinstance(dtype, pd.SparseDtype)` instead.\n",
            "  if not hasattr(array, \"sparse\") and array.dtypes.apply(is_sparse).any():\n",
            "/Volumes/Second/EFREI/ING 3/APPLICATION OF BIG DATA/.app-bd/lib/python3.10/site-packages/sklearn/utils/validation.py:595: FutureWarning: is_sparse is deprecated and will be removed in a future version. Check `isinstance(dtype, pd.SparseDtype)` instead.\n",
            "  if is_sparse(pd_dtype):\n",
            "/Volumes/Second/EFREI/ING 3/APPLICATION OF BIG DATA/.app-bd/lib/python3.10/site-packages/sklearn/utils/validation.py:604: FutureWarning: is_sparse is deprecated and will be removed in a future version. Check `isinstance(dtype, pd.SparseDtype)` instead.\n",
            "  if is_sparse(pd_dtype) or not is_extension_array_dtype(pd_dtype):\n",
            "/Volumes/Second/EFREI/ING 3/APPLICATION OF BIG DATA/.app-bd/lib/python3.10/site-packages/sklearn/utils/validation.py:757: FutureWarning: is_sparse is deprecated and will be removed in a future version. Check `isinstance(dtype, pd.SparseDtype)` instead.\n",
            "  if not hasattr(array, \"sparse\") and array.dtypes.apply(is_sparse).any():\n",
            "/Volumes/Second/EFREI/ING 3/APPLICATION OF BIG DATA/.app-bd/lib/python3.10/site-packages/sklearn/utils/validation.py:595: FutureWarning: is_sparse is deprecated and will be removed in a future version. Check `isinstance(dtype, pd.SparseDtype)` instead.\n",
            "  if is_sparse(pd_dtype):\n",
            "/Volumes/Second/EFREI/ING 3/APPLICATION OF BIG DATA/.app-bd/lib/python3.10/site-packages/sklearn/utils/validation.py:604: FutureWarning: is_sparse is deprecated and will be removed in a future version. Check `isinstance(dtype, pd.SparseDtype)` instead.\n",
            "  if is_sparse(pd_dtype) or not is_extension_array_dtype(pd_dtype):\n",
            "/Volumes/Second/EFREI/ING 3/APPLICATION OF BIG DATA/.app-bd/lib/python3.10/site-packages/sklearn/utils/validation.py:757: FutureWarning: is_sparse is deprecated and will be removed in a future version. Check `isinstance(dtype, pd.SparseDtype)` instead.\n",
            "  if not hasattr(array, \"sparse\") and array.dtypes.apply(is_sparse).any():\n",
            "/Volumes/Second/EFREI/ING 3/APPLICATION OF BIG DATA/.app-bd/lib/python3.10/site-packages/sklearn/utils/validation.py:595: FutureWarning: is_sparse is deprecated and will be removed in a future version. Check `isinstance(dtype, pd.SparseDtype)` instead.\n",
            "  if is_sparse(pd_dtype):\n",
            "/Volumes/Second/EFREI/ING 3/APPLICATION OF BIG DATA/.app-bd/lib/python3.10/site-packages/sklearn/utils/validation.py:604: FutureWarning: is_sparse is deprecated and will be removed in a future version. Check `isinstance(dtype, pd.SparseDtype)` instead.\n",
            "  if is_sparse(pd_dtype) or not is_extension_array_dtype(pd_dtype):\n",
            "/Volumes/Second/EFREI/ING 3/APPLICATION OF BIG DATA/.app-bd/lib/python3.10/site-packages/sklearn/utils/validation.py:757: FutureWarning: is_sparse is deprecated and will be removed in a future version. Check `isinstance(dtype, pd.SparseDtype)` instead.\n",
            "  if not hasattr(array, \"sparse\") and array.dtypes.apply(is_sparse).any():\n",
            "/Volumes/Second/EFREI/ING 3/APPLICATION OF BIG DATA/.app-bd/lib/python3.10/site-packages/sklearn/utils/validation.py:595: FutureWarning: is_sparse is deprecated and will be removed in a future version. Check `isinstance(dtype, pd.SparseDtype)` instead.\n",
            "  if is_sparse(pd_dtype):\n",
            "/Volumes/Second/EFREI/ING 3/APPLICATION OF BIG DATA/.app-bd/lib/python3.10/site-packages/sklearn/utils/validation.py:604: FutureWarning: is_sparse is deprecated and will be removed in a future version. Check `isinstance(dtype, pd.SparseDtype)` instead.\n",
            "  if is_sparse(pd_dtype) or not is_extension_array_dtype(pd_dtype):\n",
            "/Volumes/Second/EFREI/ING 3/APPLICATION OF BIG DATA/.app-bd/lib/python3.10/site-packages/sklearn/utils/validation.py:757: FutureWarning: is_sparse is deprecated and will be removed in a future version. Check `isinstance(dtype, pd.SparseDtype)` instead.\n",
            "  if not hasattr(array, \"sparse\") and array.dtypes.apply(is_sparse).any():\n",
            "/Volumes/Second/EFREI/ING 3/APPLICATION OF BIG DATA/.app-bd/lib/python3.10/site-packages/sklearn/utils/validation.py:595: FutureWarning: is_sparse is deprecated and will be removed in a future version. Check `isinstance(dtype, pd.SparseDtype)` instead.\n",
            "  if is_sparse(pd_dtype):\n",
            "/Volumes/Second/EFREI/ING 3/APPLICATION OF BIG DATA/.app-bd/lib/python3.10/site-packages/sklearn/utils/validation.py:604: FutureWarning: is_sparse is deprecated and will be removed in a future version. Check `isinstance(dtype, pd.SparseDtype)` instead.\n",
            "  if is_sparse(pd_dtype) or not is_extension_array_dtype(pd_dtype):\n",
            "/Volumes/Second/EFREI/ING 3/APPLICATION OF BIG DATA/.app-bd/lib/python3.10/site-packages/sklearn/utils/validation.py:757: FutureWarning: is_sparse is deprecated and will be removed in a future version. Check `isinstance(dtype, pd.SparseDtype)` instead.\n",
            "  if not hasattr(array, \"sparse\") and array.dtypes.apply(is_sparse).any():\n",
            "/Volumes/Second/EFREI/ING 3/APPLICATION OF BIG DATA/.app-bd/lib/python3.10/site-packages/sklearn/utils/validation.py:595: FutureWarning: is_sparse is deprecated and will be removed in a future version. Check `isinstance(dtype, pd.SparseDtype)` instead.\n",
            "  if is_sparse(pd_dtype):\n",
            "/Volumes/Second/EFREI/ING 3/APPLICATION OF BIG DATA/.app-bd/lib/python3.10/site-packages/sklearn/utils/validation.py:604: FutureWarning: is_sparse is deprecated and will be removed in a future version. Check `isinstance(dtype, pd.SparseDtype)` instead.\n",
            "  if is_sparse(pd_dtype) or not is_extension_array_dtype(pd_dtype):\n",
            "/Volumes/Second/EFREI/ING 3/APPLICATION OF BIG DATA/.app-bd/lib/python3.10/site-packages/sklearn/utils/validation.py:757: FutureWarning: is_sparse is deprecated and will be removed in a future version. Check `isinstance(dtype, pd.SparseDtype)` instead.\n",
            "  if not hasattr(array, \"sparse\") and array.dtypes.apply(is_sparse).any():\n",
            "/Volumes/Second/EFREI/ING 3/APPLICATION OF BIG DATA/.app-bd/lib/python3.10/site-packages/sklearn/utils/validation.py:595: FutureWarning: is_sparse is deprecated and will be removed in a future version. Check `isinstance(dtype, pd.SparseDtype)` instead.\n",
            "  if is_sparse(pd_dtype):\n",
            "/Volumes/Second/EFREI/ING 3/APPLICATION OF BIG DATA/.app-bd/lib/python3.10/site-packages/sklearn/utils/validation.py:604: FutureWarning: is_sparse is deprecated and will be removed in a future version. Check `isinstance(dtype, pd.SparseDtype)` instead.\n",
            "  if is_sparse(pd_dtype) or not is_extension_array_dtype(pd_dtype):\n",
            "/Volumes/Second/EFREI/ING 3/APPLICATION OF BIG DATA/.app-bd/lib/python3.10/site-packages/sklearn/utils/validation.py:757: FutureWarning: is_sparse is deprecated and will be removed in a future version. Check `isinstance(dtype, pd.SparseDtype)` instead.\n",
            "  if not hasattr(array, \"sparse\") and array.dtypes.apply(is_sparse).any():\n",
            "/Volumes/Second/EFREI/ING 3/APPLICATION OF BIG DATA/.app-bd/lib/python3.10/site-packages/sklearn/utils/validation.py:595: FutureWarning: is_sparse is deprecated and will be removed in a future version. Check `isinstance(dtype, pd.SparseDtype)` instead.\n",
            "  if is_sparse(pd_dtype):\n",
            "/Volumes/Second/EFREI/ING 3/APPLICATION OF BIG DATA/.app-bd/lib/python3.10/site-packages/sklearn/utils/validation.py:604: FutureWarning: is_sparse is deprecated and will be removed in a future version. Check `isinstance(dtype, pd.SparseDtype)` instead.\n",
            "  if is_sparse(pd_dtype) or not is_extension_array_dtype(pd_dtype):\n",
            "/Volumes/Second/EFREI/ING 3/APPLICATION OF BIG DATA/.app-bd/lib/python3.10/site-packages/sklearn/utils/validation.py:757: FutureWarning: is_sparse is deprecated and will be removed in a future version. Check `isinstance(dtype, pd.SparseDtype)` instead.\n",
            "  if not hasattr(array, \"sparse\") and array.dtypes.apply(is_sparse).any():\n",
            "/Volumes/Second/EFREI/ING 3/APPLICATION OF BIG DATA/.app-bd/lib/python3.10/site-packages/sklearn/utils/validation.py:595: FutureWarning: is_sparse is deprecated and will be removed in a future version. Check `isinstance(dtype, pd.SparseDtype)` instead.\n",
            "  if is_sparse(pd_dtype):\n",
            "/Volumes/Second/EFREI/ING 3/APPLICATION OF BIG DATA/.app-bd/lib/python3.10/site-packages/sklearn/utils/validation.py:604: FutureWarning: is_sparse is deprecated and will be removed in a future version. Check `isinstance(dtype, pd.SparseDtype)` instead.\n",
            "  if is_sparse(pd_dtype) or not is_extension_array_dtype(pd_dtype):\n",
            "/Volumes/Second/EFREI/ING 3/APPLICATION OF BIG DATA/.app-bd/lib/python3.10/site-packages/sklearn/utils/validation.py:757: FutureWarning: is_sparse is deprecated and will be removed in a future version. Check `isinstance(dtype, pd.SparseDtype)` instead.\n",
            "  if not hasattr(array, \"sparse\") and array.dtypes.apply(is_sparse).any():\n",
            "/Volumes/Second/EFREI/ING 3/APPLICATION OF BIG DATA/.app-bd/lib/python3.10/site-packages/sklearn/utils/validation.py:595: FutureWarning: is_sparse is deprecated and will be removed in a future version. Check `isinstance(dtype, pd.SparseDtype)` instead.\n",
            "  if is_sparse(pd_dtype):\n",
            "/Volumes/Second/EFREI/ING 3/APPLICATION OF BIG DATA/.app-bd/lib/python3.10/site-packages/sklearn/utils/validation.py:604: FutureWarning: is_sparse is deprecated and will be removed in a future version. Check `isinstance(dtype, pd.SparseDtype)` instead.\n",
            "  if is_sparse(pd_dtype) or not is_extension_array_dtype(pd_dtype):\n",
            "/Volumes/Second/EFREI/ING 3/APPLICATION OF BIG DATA/.app-bd/lib/python3.10/site-packages/sklearn/utils/validation.py:757: FutureWarning: is_sparse is deprecated and will be removed in a future version. Check `isinstance(dtype, pd.SparseDtype)` instead.\n",
            "  if not hasattr(array, \"sparse\") and array.dtypes.apply(is_sparse).any():\n",
            "/Volumes/Second/EFREI/ING 3/APPLICATION OF BIG DATA/.app-bd/lib/python3.10/site-packages/sklearn/utils/validation.py:595: FutureWarning: is_sparse is deprecated and will be removed in a future version. Check `isinstance(dtype, pd.SparseDtype)` instead.\n",
            "  if is_sparse(pd_dtype):\n",
            "/Volumes/Second/EFREI/ING 3/APPLICATION OF BIG DATA/.app-bd/lib/python3.10/site-packages/sklearn/utils/validation.py:604: FutureWarning: is_sparse is deprecated and will be removed in a future version. Check `isinstance(dtype, pd.SparseDtype)` instead.\n",
            "  if is_sparse(pd_dtype) or not is_extension_array_dtype(pd_dtype):\n",
            "/Volumes/Second/EFREI/ING 3/APPLICATION OF BIG DATA/.app-bd/lib/python3.10/site-packages/sklearn/utils/validation.py:757: FutureWarning: is_sparse is deprecated and will be removed in a future version. Check `isinstance(dtype, pd.SparseDtype)` instead.\n",
            "  if not hasattr(array, \"sparse\") and array.dtypes.apply(is_sparse).any():\n",
            "/Volumes/Second/EFREI/ING 3/APPLICATION OF BIG DATA/.app-bd/lib/python3.10/site-packages/sklearn/utils/validation.py:595: FutureWarning: is_sparse is deprecated and will be removed in a future version. Check `isinstance(dtype, pd.SparseDtype)` instead.\n",
            "  if is_sparse(pd_dtype):\n",
            "/Volumes/Second/EFREI/ING 3/APPLICATION OF BIG DATA/.app-bd/lib/python3.10/site-packages/sklearn/utils/validation.py:604: FutureWarning: is_sparse is deprecated and will be removed in a future version. Check `isinstance(dtype, pd.SparseDtype)` instead.\n",
            "  if is_sparse(pd_dtype) or not is_extension_array_dtype(pd_dtype):\n",
            "/Volumes/Second/EFREI/ING 3/APPLICATION OF BIG DATA/.app-bd/lib/python3.10/site-packages/sklearn/utils/validation.py:757: FutureWarning: is_sparse is deprecated and will be removed in a future version. Check `isinstance(dtype, pd.SparseDtype)` instead.\n",
            "  if not hasattr(array, \"sparse\") and array.dtypes.apply(is_sparse).any():\n",
            "/Volumes/Second/EFREI/ING 3/APPLICATION OF BIG DATA/.app-bd/lib/python3.10/site-packages/sklearn/utils/validation.py:595: FutureWarning: is_sparse is deprecated and will be removed in a future version. Check `isinstance(dtype, pd.SparseDtype)` instead.\n",
            "  if is_sparse(pd_dtype):\n",
            "/Volumes/Second/EFREI/ING 3/APPLICATION OF BIG DATA/.app-bd/lib/python3.10/site-packages/sklearn/utils/validation.py:604: FutureWarning: is_sparse is deprecated and will be removed in a future version. Check `isinstance(dtype, pd.SparseDtype)` instead.\n",
            "  if is_sparse(pd_dtype) or not is_extension_array_dtype(pd_dtype):\n",
            "/Volumes/Second/EFREI/ING 3/APPLICATION OF BIG DATA/.app-bd/lib/python3.10/site-packages/sklearn/utils/validation.py:757: FutureWarning: is_sparse is deprecated and will be removed in a future version. Check `isinstance(dtype, pd.SparseDtype)` instead.\n",
            "  if not hasattr(array, \"sparse\") and array.dtypes.apply(is_sparse).any():\n",
            "/Volumes/Second/EFREI/ING 3/APPLICATION OF BIG DATA/.app-bd/lib/python3.10/site-packages/sklearn/utils/validation.py:595: FutureWarning: is_sparse is deprecated and will be removed in a future version. Check `isinstance(dtype, pd.SparseDtype)` instead.\n",
            "  if is_sparse(pd_dtype):\n",
            "/Volumes/Second/EFREI/ING 3/APPLICATION OF BIG DATA/.app-bd/lib/python3.10/site-packages/sklearn/utils/validation.py:604: FutureWarning: is_sparse is deprecated and will be removed in a future version. Check `isinstance(dtype, pd.SparseDtype)` instead.\n",
            "  if is_sparse(pd_dtype) or not is_extension_array_dtype(pd_dtype):\n",
            "/Volumes/Second/EFREI/ING 3/APPLICATION OF BIG DATA/.app-bd/lib/python3.10/site-packages/sklearn/utils/validation.py:757: FutureWarning: is_sparse is deprecated and will be removed in a future version. Check `isinstance(dtype, pd.SparseDtype)` instead.\n",
            "  if not hasattr(array, \"sparse\") and array.dtypes.apply(is_sparse).any():\n",
            "/Volumes/Second/EFREI/ING 3/APPLICATION OF BIG DATA/.app-bd/lib/python3.10/site-packages/sklearn/utils/validation.py:595: FutureWarning: is_sparse is deprecated and will be removed in a future version. Check `isinstance(dtype, pd.SparseDtype)` instead.\n",
            "  if is_sparse(pd_dtype):\n",
            "/Volumes/Second/EFREI/ING 3/APPLICATION OF BIG DATA/.app-bd/lib/python3.10/site-packages/sklearn/utils/validation.py:604: FutureWarning: is_sparse is deprecated and will be removed in a future version. Check `isinstance(dtype, pd.SparseDtype)` instead.\n",
            "  if is_sparse(pd_dtype) or not is_extension_array_dtype(pd_dtype):\n",
            "/Volumes/Second/EFREI/ING 3/APPLICATION OF BIG DATA/.app-bd/lib/python3.10/site-packages/sklearn/utils/validation.py:757: FutureWarning: is_sparse is deprecated and will be removed in a future version. Check `isinstance(dtype, pd.SparseDtype)` instead.\n",
            "  if not hasattr(array, \"sparse\") and array.dtypes.apply(is_sparse).any():\n",
            "/Volumes/Second/EFREI/ING 3/APPLICATION OF BIG DATA/.app-bd/lib/python3.10/site-packages/sklearn/utils/validation.py:595: FutureWarning: is_sparse is deprecated and will be removed in a future version. Check `isinstance(dtype, pd.SparseDtype)` instead.\n",
            "  if is_sparse(pd_dtype):\n",
            "/Volumes/Second/EFREI/ING 3/APPLICATION OF BIG DATA/.app-bd/lib/python3.10/site-packages/sklearn/utils/validation.py:604: FutureWarning: is_sparse is deprecated and will be removed in a future version. Check `isinstance(dtype, pd.SparseDtype)` instead.\n",
            "  if is_sparse(pd_dtype) or not is_extension_array_dtype(pd_dtype):\n",
            "/Volumes/Second/EFREI/ING 3/APPLICATION OF BIG DATA/.app-bd/lib/python3.10/site-packages/sklearn/utils/validation.py:757: FutureWarning: is_sparse is deprecated and will be removed in a future version. Check `isinstance(dtype, pd.SparseDtype)` instead.\n",
            "  if not hasattr(array, \"sparse\") and array.dtypes.apply(is_sparse).any():\n",
            "/Volumes/Second/EFREI/ING 3/APPLICATION OF BIG DATA/.app-bd/lib/python3.10/site-packages/sklearn/utils/validation.py:595: FutureWarning: is_sparse is deprecated and will be removed in a future version. Check `isinstance(dtype, pd.SparseDtype)` instead.\n",
            "  if is_sparse(pd_dtype):\n",
            "/Volumes/Second/EFREI/ING 3/APPLICATION OF BIG DATA/.app-bd/lib/python3.10/site-packages/sklearn/utils/validation.py:604: FutureWarning: is_sparse is deprecated and will be removed in a future version. Check `isinstance(dtype, pd.SparseDtype)` instead.\n",
            "  if is_sparse(pd_dtype) or not is_extension_array_dtype(pd_dtype):\n",
            "/Volumes/Second/EFREI/ING 3/APPLICATION OF BIG DATA/.app-bd/lib/python3.10/site-packages/sklearn/utils/validation.py:757: FutureWarning: is_sparse is deprecated and will be removed in a future version. Check `isinstance(dtype, pd.SparseDtype)` instead.\n",
            "  if not hasattr(array, \"sparse\") and array.dtypes.apply(is_sparse).any():\n",
            "/Volumes/Second/EFREI/ING 3/APPLICATION OF BIG DATA/.app-bd/lib/python3.10/site-packages/sklearn/utils/validation.py:595: FutureWarning: is_sparse is deprecated and will be removed in a future version. Check `isinstance(dtype, pd.SparseDtype)` instead.\n",
            "  if is_sparse(pd_dtype):\n",
            "/Volumes/Second/EFREI/ING 3/APPLICATION OF BIG DATA/.app-bd/lib/python3.10/site-packages/sklearn/utils/validation.py:604: FutureWarning: is_sparse is deprecated and will be removed in a future version. Check `isinstance(dtype, pd.SparseDtype)` instead.\n",
            "  if is_sparse(pd_dtype) or not is_extension_array_dtype(pd_dtype):\n",
            "/Volumes/Second/EFREI/ING 3/APPLICATION OF BIG DATA/.app-bd/lib/python3.10/site-packages/sklearn/utils/validation.py:757: FutureWarning: is_sparse is deprecated and will be removed in a future version. Check `isinstance(dtype, pd.SparseDtype)` instead.\n",
            "  if not hasattr(array, \"sparse\") and array.dtypes.apply(is_sparse).any():\n",
            "/Volumes/Second/EFREI/ING 3/APPLICATION OF BIG DATA/.app-bd/lib/python3.10/site-packages/sklearn/utils/validation.py:595: FutureWarning: is_sparse is deprecated and will be removed in a future version. Check `isinstance(dtype, pd.SparseDtype)` instead.\n",
            "  if is_sparse(pd_dtype):\n",
            "/Volumes/Second/EFREI/ING 3/APPLICATION OF BIG DATA/.app-bd/lib/python3.10/site-packages/sklearn/utils/validation.py:604: FutureWarning: is_sparse is deprecated and will be removed in a future version. Check `isinstance(dtype, pd.SparseDtype)` instead.\n",
            "  if is_sparse(pd_dtype) or not is_extension_array_dtype(pd_dtype):\n",
            "/Volumes/Second/EFREI/ING 3/APPLICATION OF BIG DATA/.app-bd/lib/python3.10/site-packages/sklearn/utils/validation.py:757: FutureWarning: is_sparse is deprecated and will be removed in a future version. Check `isinstance(dtype, pd.SparseDtype)` instead.\n",
            "  if not hasattr(array, \"sparse\") and array.dtypes.apply(is_sparse).any():\n",
            "/Volumes/Second/EFREI/ING 3/APPLICATION OF BIG DATA/.app-bd/lib/python3.10/site-packages/sklearn/utils/validation.py:595: FutureWarning: is_sparse is deprecated and will be removed in a future version. Check `isinstance(dtype, pd.SparseDtype)` instead.\n",
            "  if is_sparse(pd_dtype):\n",
            "/Volumes/Second/EFREI/ING 3/APPLICATION OF BIG DATA/.app-bd/lib/python3.10/site-packages/sklearn/utils/validation.py:604: FutureWarning: is_sparse is deprecated and will be removed in a future version. Check `isinstance(dtype, pd.SparseDtype)` instead.\n",
            "  if is_sparse(pd_dtype) or not is_extension_array_dtype(pd_dtype):\n",
            "/Volumes/Second/EFREI/ING 3/APPLICATION OF BIG DATA/.app-bd/lib/python3.10/site-packages/sklearn/utils/validation.py:757: FutureWarning: is_sparse is deprecated and will be removed in a future version. Check `isinstance(dtype, pd.SparseDtype)` instead.\n",
            "  if not hasattr(array, \"sparse\") and array.dtypes.apply(is_sparse).any():\n",
            "/Volumes/Second/EFREI/ING 3/APPLICATION OF BIG DATA/.app-bd/lib/python3.10/site-packages/sklearn/utils/validation.py:595: FutureWarning: is_sparse is deprecated and will be removed in a future version. Check `isinstance(dtype, pd.SparseDtype)` instead.\n",
            "  if is_sparse(pd_dtype):\n",
            "/Volumes/Second/EFREI/ING 3/APPLICATION OF BIG DATA/.app-bd/lib/python3.10/site-packages/sklearn/utils/validation.py:604: FutureWarning: is_sparse is deprecated and will be removed in a future version. Check `isinstance(dtype, pd.SparseDtype)` instead.\n",
            "  if is_sparse(pd_dtype) or not is_extension_array_dtype(pd_dtype):\n",
            "/Volumes/Second/EFREI/ING 3/APPLICATION OF BIG DATA/.app-bd/lib/python3.10/site-packages/sklearn/utils/validation.py:757: FutureWarning: is_sparse is deprecated and will be removed in a future version. Check `isinstance(dtype, pd.SparseDtype)` instead.\n",
            "  if not hasattr(array, \"sparse\") and array.dtypes.apply(is_sparse).any():\n",
            "/Volumes/Second/EFREI/ING 3/APPLICATION OF BIG DATA/.app-bd/lib/python3.10/site-packages/sklearn/utils/validation.py:595: FutureWarning: is_sparse is deprecated and will be removed in a future version. Check `isinstance(dtype, pd.SparseDtype)` instead.\n",
            "  if is_sparse(pd_dtype):\n",
            "/Volumes/Second/EFREI/ING 3/APPLICATION OF BIG DATA/.app-bd/lib/python3.10/site-packages/sklearn/utils/validation.py:604: FutureWarning: is_sparse is deprecated and will be removed in a future version. Check `isinstance(dtype, pd.SparseDtype)` instead.\n",
            "  if is_sparse(pd_dtype) or not is_extension_array_dtype(pd_dtype):\n",
            "/Volumes/Second/EFREI/ING 3/APPLICATION OF BIG DATA/.app-bd/lib/python3.10/site-packages/sklearn/utils/validation.py:757: FutureWarning: is_sparse is deprecated and will be removed in a future version. Check `isinstance(dtype, pd.SparseDtype)` instead.\n",
            "  if not hasattr(array, \"sparse\") and array.dtypes.apply(is_sparse).any():\n",
            "/Volumes/Second/EFREI/ING 3/APPLICATION OF BIG DATA/.app-bd/lib/python3.10/site-packages/sklearn/utils/validation.py:595: FutureWarning: is_sparse is deprecated and will be removed in a future version. Check `isinstance(dtype, pd.SparseDtype)` instead.\n",
            "  if is_sparse(pd_dtype):\n",
            "/Volumes/Second/EFREI/ING 3/APPLICATION OF BIG DATA/.app-bd/lib/python3.10/site-packages/sklearn/utils/validation.py:604: FutureWarning: is_sparse is deprecated and will be removed in a future version. Check `isinstance(dtype, pd.SparseDtype)` instead.\n",
            "  if is_sparse(pd_dtype) or not is_extension_array_dtype(pd_dtype):\n",
            "/Volumes/Second/EFREI/ING 3/APPLICATION OF BIG DATA/.app-bd/lib/python3.10/site-packages/sklearn/utils/validation.py:757: FutureWarning: is_sparse is deprecated and will be removed in a future version. Check `isinstance(dtype, pd.SparseDtype)` instead.\n",
            "  if not hasattr(array, \"sparse\") and array.dtypes.apply(is_sparse).any():\n",
            "/Volumes/Second/EFREI/ING 3/APPLICATION OF BIG DATA/.app-bd/lib/python3.10/site-packages/sklearn/utils/validation.py:595: FutureWarning: is_sparse is deprecated and will be removed in a future version. Check `isinstance(dtype, pd.SparseDtype)` instead.\n",
            "  if is_sparse(pd_dtype):\n",
            "/Volumes/Second/EFREI/ING 3/APPLICATION OF BIG DATA/.app-bd/lib/python3.10/site-packages/sklearn/utils/validation.py:604: FutureWarning: is_sparse is deprecated and will be removed in a future version. Check `isinstance(dtype, pd.SparseDtype)` instead.\n",
            "  if is_sparse(pd_dtype) or not is_extension_array_dtype(pd_dtype):\n",
            "/Volumes/Second/EFREI/ING 3/APPLICATION OF BIG DATA/.app-bd/lib/python3.10/site-packages/sklearn/utils/validation.py:757: FutureWarning: is_sparse is deprecated and will be removed in a future version. Check `isinstance(dtype, pd.SparseDtype)` instead.\n",
            "  if not hasattr(array, \"sparse\") and array.dtypes.apply(is_sparse).any():\n",
            "/Volumes/Second/EFREI/ING 3/APPLICATION OF BIG DATA/.app-bd/lib/python3.10/site-packages/sklearn/utils/validation.py:595: FutureWarning: is_sparse is deprecated and will be removed in a future version. Check `isinstance(dtype, pd.SparseDtype)` instead.\n",
            "  if is_sparse(pd_dtype):\n",
            "/Volumes/Second/EFREI/ING 3/APPLICATION OF BIG DATA/.app-bd/lib/python3.10/site-packages/sklearn/utils/validation.py:604: FutureWarning: is_sparse is deprecated and will be removed in a future version. Check `isinstance(dtype, pd.SparseDtype)` instead.\n",
            "  if is_sparse(pd_dtype) or not is_extension_array_dtype(pd_dtype):\n",
            "/Volumes/Second/EFREI/ING 3/APPLICATION OF BIG DATA/.app-bd/lib/python3.10/site-packages/sklearn/utils/validation.py:757: FutureWarning: is_sparse is deprecated and will be removed in a future version. Check `isinstance(dtype, pd.SparseDtype)` instead.\n",
            "  if not hasattr(array, \"sparse\") and array.dtypes.apply(is_sparse).any():\n",
            "/Volumes/Second/EFREI/ING 3/APPLICATION OF BIG DATA/.app-bd/lib/python3.10/site-packages/sklearn/utils/validation.py:595: FutureWarning: is_sparse is deprecated and will be removed in a future version. Check `isinstance(dtype, pd.SparseDtype)` instead.\n",
            "  if is_sparse(pd_dtype):\n",
            "/Volumes/Second/EFREI/ING 3/APPLICATION OF BIG DATA/.app-bd/lib/python3.10/site-packages/sklearn/utils/validation.py:604: FutureWarning: is_sparse is deprecated and will be removed in a future version. Check `isinstance(dtype, pd.SparseDtype)` instead.\n",
            "  if is_sparse(pd_dtype) or not is_extension_array_dtype(pd_dtype):\n",
            "/Volumes/Second/EFREI/ING 3/APPLICATION OF BIG DATA/.app-bd/lib/python3.10/site-packages/sklearn/utils/validation.py:757: FutureWarning: is_sparse is deprecated and will be removed in a future version. Check `isinstance(dtype, pd.SparseDtype)` instead.\n",
            "  if not hasattr(array, \"sparse\") and array.dtypes.apply(is_sparse).any():\n",
            "/Volumes/Second/EFREI/ING 3/APPLICATION OF BIG DATA/.app-bd/lib/python3.10/site-packages/sklearn/utils/validation.py:595: FutureWarning: is_sparse is deprecated and will be removed in a future version. Check `isinstance(dtype, pd.SparseDtype)` instead.\n",
            "  if is_sparse(pd_dtype):\n",
            "/Volumes/Second/EFREI/ING 3/APPLICATION OF BIG DATA/.app-bd/lib/python3.10/site-packages/sklearn/utils/validation.py:604: FutureWarning: is_sparse is deprecated and will be removed in a future version. Check `isinstance(dtype, pd.SparseDtype)` instead.\n",
            "  if is_sparse(pd_dtype) or not is_extension_array_dtype(pd_dtype):\n",
            "/Volumes/Second/EFREI/ING 3/APPLICATION OF BIG DATA/.app-bd/lib/python3.10/site-packages/sklearn/utils/validation.py:757: FutureWarning: is_sparse is deprecated and will be removed in a future version. Check `isinstance(dtype, pd.SparseDtype)` instead.\n",
            "  if not hasattr(array, \"sparse\") and array.dtypes.apply(is_sparse).any():\n",
            "/Volumes/Second/EFREI/ING 3/APPLICATION OF BIG DATA/.app-bd/lib/python3.10/site-packages/sklearn/utils/validation.py:595: FutureWarning: is_sparse is deprecated and will be removed in a future version. Check `isinstance(dtype, pd.SparseDtype)` instead.\n",
            "  if is_sparse(pd_dtype):\n",
            "/Volumes/Second/EFREI/ING 3/APPLICATION OF BIG DATA/.app-bd/lib/python3.10/site-packages/sklearn/utils/validation.py:604: FutureWarning: is_sparse is deprecated and will be removed in a future version. Check `isinstance(dtype, pd.SparseDtype)` instead.\n",
            "  if is_sparse(pd_dtype) or not is_extension_array_dtype(pd_dtype):\n",
            "/Volumes/Second/EFREI/ING 3/APPLICATION OF BIG DATA/.app-bd/lib/python3.10/site-packages/sklearn/utils/validation.py:757: FutureWarning: is_sparse is deprecated and will be removed in a future version. Check `isinstance(dtype, pd.SparseDtype)` instead.\n",
            "  if not hasattr(array, \"sparse\") and array.dtypes.apply(is_sparse).any():\n",
            "/Volumes/Second/EFREI/ING 3/APPLICATION OF BIG DATA/.app-bd/lib/python3.10/site-packages/sklearn/utils/validation.py:595: FutureWarning: is_sparse is deprecated and will be removed in a future version. Check `isinstance(dtype, pd.SparseDtype)` instead.\n",
            "  if is_sparse(pd_dtype):\n",
            "/Volumes/Second/EFREI/ING 3/APPLICATION OF BIG DATA/.app-bd/lib/python3.10/site-packages/sklearn/utils/validation.py:604: FutureWarning: is_sparse is deprecated and will be removed in a future version. Check `isinstance(dtype, pd.SparseDtype)` instead.\n",
            "  if is_sparse(pd_dtype) or not is_extension_array_dtype(pd_dtype):\n",
            "/Volumes/Second/EFREI/ING 3/APPLICATION OF BIG DATA/.app-bd/lib/python3.10/site-packages/sklearn/utils/validation.py:757: FutureWarning: is_sparse is deprecated and will be removed in a future version. Check `isinstance(dtype, pd.SparseDtype)` instead.\n",
            "  if not hasattr(array, \"sparse\") and array.dtypes.apply(is_sparse).any():\n",
            "/Volumes/Second/EFREI/ING 3/APPLICATION OF BIG DATA/.app-bd/lib/python3.10/site-packages/sklearn/utils/validation.py:595: FutureWarning: is_sparse is deprecated and will be removed in a future version. Check `isinstance(dtype, pd.SparseDtype)` instead.\n",
            "  if is_sparse(pd_dtype):\n",
            "/Volumes/Second/EFREI/ING 3/APPLICATION OF BIG DATA/.app-bd/lib/python3.10/site-packages/sklearn/utils/validation.py:604: FutureWarning: is_sparse is deprecated and will be removed in a future version. Check `isinstance(dtype, pd.SparseDtype)` instead.\n",
            "  if is_sparse(pd_dtype) or not is_extension_array_dtype(pd_dtype):\n",
            "/Volumes/Second/EFREI/ING 3/APPLICATION OF BIG DATA/.app-bd/lib/python3.10/site-packages/sklearn/utils/validation.py:757: FutureWarning: is_sparse is deprecated and will be removed in a future version. Check `isinstance(dtype, pd.SparseDtype)` instead.\n",
            "  if not hasattr(array, \"sparse\") and array.dtypes.apply(is_sparse).any():\n",
            "/Volumes/Second/EFREI/ING 3/APPLICATION OF BIG DATA/.app-bd/lib/python3.10/site-packages/sklearn/utils/validation.py:595: FutureWarning: is_sparse is deprecated and will be removed in a future version. Check `isinstance(dtype, pd.SparseDtype)` instead.\n",
            "  if is_sparse(pd_dtype):\n",
            "/Volumes/Second/EFREI/ING 3/APPLICATION OF BIG DATA/.app-bd/lib/python3.10/site-packages/sklearn/utils/validation.py:604: FutureWarning: is_sparse is deprecated and will be removed in a future version. Check `isinstance(dtype, pd.SparseDtype)` instead.\n",
            "  if is_sparse(pd_dtype) or not is_extension_array_dtype(pd_dtype):\n",
            "/Volumes/Second/EFREI/ING 3/APPLICATION OF BIG DATA/.app-bd/lib/python3.10/site-packages/sklearn/utils/validation.py:757: FutureWarning: is_sparse is deprecated and will be removed in a future version. Check `isinstance(dtype, pd.SparseDtype)` instead.\n",
            "  if not hasattr(array, \"sparse\") and array.dtypes.apply(is_sparse).any():\n",
            "/Volumes/Second/EFREI/ING 3/APPLICATION OF BIG DATA/.app-bd/lib/python3.10/site-packages/sklearn/utils/validation.py:595: FutureWarning: is_sparse is deprecated and will be removed in a future version. Check `isinstance(dtype, pd.SparseDtype)` instead.\n",
            "  if is_sparse(pd_dtype):\n",
            "/Volumes/Second/EFREI/ING 3/APPLICATION OF BIG DATA/.app-bd/lib/python3.10/site-packages/sklearn/utils/validation.py:604: FutureWarning: is_sparse is deprecated and will be removed in a future version. Check `isinstance(dtype, pd.SparseDtype)` instead.\n",
            "  if is_sparse(pd_dtype) or not is_extension_array_dtype(pd_dtype):\n",
            "/Volumes/Second/EFREI/ING 3/APPLICATION OF BIG DATA/.app-bd/lib/python3.10/site-packages/sklearn/utils/validation.py:757: FutureWarning: is_sparse is deprecated and will be removed in a future version. Check `isinstance(dtype, pd.SparseDtype)` instead.\n",
            "  if not hasattr(array, \"sparse\") and array.dtypes.apply(is_sparse).any():\n",
            "/Volumes/Second/EFREI/ING 3/APPLICATION OF BIG DATA/.app-bd/lib/python3.10/site-packages/sklearn/utils/validation.py:595: FutureWarning: is_sparse is deprecated and will be removed in a future version. Check `isinstance(dtype, pd.SparseDtype)` instead.\n",
            "  if is_sparse(pd_dtype):\n",
            "/Volumes/Second/EFREI/ING 3/APPLICATION OF BIG DATA/.app-bd/lib/python3.10/site-packages/sklearn/utils/validation.py:604: FutureWarning: is_sparse is deprecated and will be removed in a future version. Check `isinstance(dtype, pd.SparseDtype)` instead.\n",
            "  if is_sparse(pd_dtype) or not is_extension_array_dtype(pd_dtype):\n",
            "/Volumes/Second/EFREI/ING 3/APPLICATION OF BIG DATA/.app-bd/lib/python3.10/site-packages/sklearn/utils/validation.py:757: FutureWarning: is_sparse is deprecated and will be removed in a future version. Check `isinstance(dtype, pd.SparseDtype)` instead.\n",
            "  if not hasattr(array, \"sparse\") and array.dtypes.apply(is_sparse).any():\n",
            "/Volumes/Second/EFREI/ING 3/APPLICATION OF BIG DATA/.app-bd/lib/python3.10/site-packages/sklearn/utils/validation.py:595: FutureWarning: is_sparse is deprecated and will be removed in a future version. Check `isinstance(dtype, pd.SparseDtype)` instead.\n",
            "  if is_sparse(pd_dtype):\n",
            "/Volumes/Second/EFREI/ING 3/APPLICATION OF BIG DATA/.app-bd/lib/python3.10/site-packages/sklearn/utils/validation.py:604: FutureWarning: is_sparse is deprecated and will be removed in a future version. Check `isinstance(dtype, pd.SparseDtype)` instead.\n",
            "  if is_sparse(pd_dtype) or not is_extension_array_dtype(pd_dtype):\n",
            "/Volumes/Second/EFREI/ING 3/APPLICATION OF BIG DATA/.app-bd/lib/python3.10/site-packages/sklearn/utils/validation.py:757: FutureWarning: is_sparse is deprecated and will be removed in a future version. Check `isinstance(dtype, pd.SparseDtype)` instead.\n",
            "  if not hasattr(array, \"sparse\") and array.dtypes.apply(is_sparse).any():\n",
            "/Volumes/Second/EFREI/ING 3/APPLICATION OF BIG DATA/.app-bd/lib/python3.10/site-packages/sklearn/utils/validation.py:595: FutureWarning: is_sparse is deprecated and will be removed in a future version. Check `isinstance(dtype, pd.SparseDtype)` instead.\n",
            "  if is_sparse(pd_dtype):\n",
            "/Volumes/Second/EFREI/ING 3/APPLICATION OF BIG DATA/.app-bd/lib/python3.10/site-packages/sklearn/utils/validation.py:604: FutureWarning: is_sparse is deprecated and will be removed in a future version. Check `isinstance(dtype, pd.SparseDtype)` instead.\n",
            "  if is_sparse(pd_dtype) or not is_extension_array_dtype(pd_dtype):\n",
            "/Volumes/Second/EFREI/ING 3/APPLICATION OF BIG DATA/.app-bd/lib/python3.10/site-packages/sklearn/utils/validation.py:757: FutureWarning: is_sparse is deprecated and will be removed in a future version. Check `isinstance(dtype, pd.SparseDtype)` instead.\n",
            "  if not hasattr(array, \"sparse\") and array.dtypes.apply(is_sparse).any():\n"
          ]
        },
        {
          "name": "stdout",
          "output_type": "stream",
          "text": [
            "Accuracy: 0.9004\n",
            "Precision: 0.8881\n",
            "Recall: 0.9004\n"
          ]
        },
        {
          "name": "stderr",
          "output_type": "stream",
          "text": [
            "/Volumes/Second/EFREI/ING 3/APPLICATION OF BIG DATA/.app-bd/lib/python3.10/site-packages/sklearn/utils/validation.py:595: FutureWarning: is_sparse is deprecated and will be removed in a future version. Check `isinstance(dtype, pd.SparseDtype)` instead.\n",
            "  if is_sparse(pd_dtype):\n",
            "/Volumes/Second/EFREI/ING 3/APPLICATION OF BIG DATA/.app-bd/lib/python3.10/site-packages/sklearn/utils/validation.py:604: FutureWarning: is_sparse is deprecated and will be removed in a future version. Check `isinstance(dtype, pd.SparseDtype)` instead.\n",
            "  if is_sparse(pd_dtype) or not is_extension_array_dtype(pd_dtype):\n"
          ]
        }
      ],
      "source": [
        "knn_model = train_model_knn(X_train, y_train)\n",
        "evaluate_model(knn_model, X_test, y_test)"
      ]
    },
    {
      "cell_type": "code",
      "execution_count": 24,
      "metadata": {},
      "outputs": [
        {
          "name": "stderr",
          "output_type": "stream",
          "text": [
            "/Volumes/Second/EFREI/ING 3/APPLICATION OF BIG DATA/.app-bd/lib/python3.10/site-packages/sklearn/utils/validation.py:757: FutureWarning: is_sparse is deprecated and will be removed in a future version. Check `isinstance(dtype, pd.SparseDtype)` instead.\n",
            "  if not hasattr(array, \"sparse\") and array.dtypes.apply(is_sparse).any():\n",
            "/Volumes/Second/EFREI/ING 3/APPLICATION OF BIG DATA/.app-bd/lib/python3.10/site-packages/sklearn/utils/validation.py:595: FutureWarning: is_sparse is deprecated and will be removed in a future version. Check `isinstance(dtype, pd.SparseDtype)` instead.\n",
            "  if is_sparse(pd_dtype):\n",
            "/Volumes/Second/EFREI/ING 3/APPLICATION OF BIG DATA/.app-bd/lib/python3.10/site-packages/sklearn/utils/validation.py:604: FutureWarning: is_sparse is deprecated and will be removed in a future version. Check `isinstance(dtype, pd.SparseDtype)` instead.\n",
            "  if is_sparse(pd_dtype) or not is_extension_array_dtype(pd_dtype):\n",
            "/Volumes/Second/EFREI/ING 3/APPLICATION OF BIG DATA/.app-bd/lib/python3.10/site-packages/sklearn/utils/validation.py:757: FutureWarning: is_sparse is deprecated and will be removed in a future version. Check `isinstance(dtype, pd.SparseDtype)` instead.\n",
            "  if not hasattr(array, \"sparse\") and array.dtypes.apply(is_sparse).any():\n",
            "/Volumes/Second/EFREI/ING 3/APPLICATION OF BIG DATA/.app-bd/lib/python3.10/site-packages/sklearn/utils/validation.py:595: FutureWarning: is_sparse is deprecated and will be removed in a future version. Check `isinstance(dtype, pd.SparseDtype)` instead.\n",
            "  if is_sparse(pd_dtype):\n",
            "/Volumes/Second/EFREI/ING 3/APPLICATION OF BIG DATA/.app-bd/lib/python3.10/site-packages/sklearn/utils/validation.py:604: FutureWarning: is_sparse is deprecated and will be removed in a future version. Check `isinstance(dtype, pd.SparseDtype)` instead.\n",
            "  if is_sparse(pd_dtype) or not is_extension_array_dtype(pd_dtype):\n"
          ]
        },
        {
          "name": "stdout",
          "output_type": "stream",
          "text": [
            "Accuracy: 0.8804\n",
            "Precision: 0.7752\n",
            "Recall: 0.8804\n"
          ]
        },
        {
          "name": "stderr",
          "output_type": "stream",
          "text": [
            "/Volumes/Second/EFREI/ING 3/APPLICATION OF BIG DATA/.app-bd/lib/python3.10/site-packages/sklearn/metrics/_classification.py:1334: UndefinedMetricWarning: Precision is ill-defined and being set to 0.0 in labels with no predicted samples. Use `zero_division` parameter to control this behavior.\n",
            "  _warn_prf(average, modifier, msg_start, len(result))\n"
          ]
        }
      ],
      "source": [
        "svm_model = train_model_svc(X_train, y_train)\n",
        "evaluate_model(svm_model, X_test, y_test)"
      ]
    },
    {
      "cell_type": "code",
      "execution_count": 25,
      "metadata": {},
      "outputs": [
        {
          "name": "stderr",
          "output_type": "stream",
          "text": [
            "/Volumes/Second/EFREI/ING 3/APPLICATION OF BIG DATA/.app-bd/lib/python3.10/site-packages/sklearn/utils/validation.py:757: FutureWarning: is_sparse is deprecated and will be removed in a future version. Check `isinstance(dtype, pd.SparseDtype)` instead.\n",
            "  if not hasattr(array, \"sparse\") and array.dtypes.apply(is_sparse).any():\n",
            "/Volumes/Second/EFREI/ING 3/APPLICATION OF BIG DATA/.app-bd/lib/python3.10/site-packages/sklearn/utils/validation.py:595: FutureWarning: is_sparse is deprecated and will be removed in a future version. Check `isinstance(dtype, pd.SparseDtype)` instead.\n",
            "  if is_sparse(pd_dtype):\n",
            "/Volumes/Second/EFREI/ING 3/APPLICATION OF BIG DATA/.app-bd/lib/python3.10/site-packages/sklearn/utils/validation.py:604: FutureWarning: is_sparse is deprecated and will be removed in a future version. Check `isinstance(dtype, pd.SparseDtype)` instead.\n",
            "  if is_sparse(pd_dtype) or not is_extension_array_dtype(pd_dtype):\n"
          ]
        },
        {
          "name": "stdout",
          "output_type": "stream",
          "text": [
            "Accuracy: 0.8533\n",
            "Precision: 0.8340\n",
            "Recall: 0.8533\n"
          ]
        },
        {
          "name": "stderr",
          "output_type": "stream",
          "text": [
            "/Volumes/Second/EFREI/ING 3/APPLICATION OF BIG DATA/.app-bd/lib/python3.10/site-packages/sklearn/utils/validation.py:757: FutureWarning: is_sparse is deprecated and will be removed in a future version. Check `isinstance(dtype, pd.SparseDtype)` instead.\n",
            "  if not hasattr(array, \"sparse\") and array.dtypes.apply(is_sparse).any():\n",
            "/Volumes/Second/EFREI/ING 3/APPLICATION OF BIG DATA/.app-bd/lib/python3.10/site-packages/sklearn/utils/validation.py:595: FutureWarning: is_sparse is deprecated and will be removed in a future version. Check `isinstance(dtype, pd.SparseDtype)` instead.\n",
            "  if is_sparse(pd_dtype):\n",
            "/Volumes/Second/EFREI/ING 3/APPLICATION OF BIG DATA/.app-bd/lib/python3.10/site-packages/sklearn/utils/validation.py:604: FutureWarning: is_sparse is deprecated and will be removed in a future version. Check `isinstance(dtype, pd.SparseDtype)` instead.\n",
            "  if is_sparse(pd_dtype) or not is_extension_array_dtype(pd_dtype):\n"
          ]
        }
      ],
      "source": [
        "dtc_model = train_model_dt(X_train, y_train)\n",
        "evaluate_model(dtc_model, X_test, y_test)"
      ]
    },
    {
      "cell_type": "code",
      "execution_count": 53,
      "metadata": {},
      "outputs": [
        {
          "name": "stdout",
          "output_type": "stream",
          "text": [
            "🔄 Models saving ...\n",
            "✅ Models saved successfully !\n"
          ]
        }
      ],
      "source": [
        "# Sauvegarde des modeles\n",
        "print(\"🔄 Models saving ...\")\n",
        "joblib.dump(knn_model, 'models/knn_model.pkl')\n",
        "joblib.dump(svm_model, 'models/svm_model.pkl')\n",
        "joblib.dump(dtc_model, 'models/dtc_model.pkl')\n",
        "print(\"✅ Models saved successfully !\")"
      ]
    },
    {
      "cell_type": "markdown",
      "metadata": {},
      "source": [
        "## Validation des modèles"
      ]
    },
    {
      "cell_type": "code",
      "execution_count": 55,
      "metadata": {},
      "outputs": [
        {
          "name": "stderr",
          "output_type": "stream",
          "text": [
            "/Volumes/Second/EFREI/ING 3/APPLICATION OF BIG DATA/.app-bd/lib/python3.10/site-packages/sklearn/utils/validation.py:757: FutureWarning: is_sparse is deprecated and will be removed in a future version. Check `isinstance(dtype, pd.SparseDtype)` instead.\n",
            "  if not hasattr(array, \"sparse\") and array.dtypes.apply(is_sparse).any():\n",
            "/Volumes/Second/EFREI/ING 3/APPLICATION OF BIG DATA/.app-bd/lib/python3.10/site-packages/sklearn/utils/validation.py:595: FutureWarning: is_sparse is deprecated and will be removed in a future version. Check `isinstance(dtype, pd.SparseDtype)` instead.\n",
            "  if is_sparse(pd_dtype):\n",
            "/Volumes/Second/EFREI/ING 3/APPLICATION OF BIG DATA/.app-bd/lib/python3.10/site-packages/sklearn/utils/validation.py:604: FutureWarning: is_sparse is deprecated and will be removed in a future version. Check `isinstance(dtype, pd.SparseDtype)` instead.\n",
            "  if is_sparse(pd_dtype) or not is_extension_array_dtype(pd_dtype):\n"
          ]
        }
      ],
      "source": [
        "predictions = knn_model.predict(X_valid)"
      ]
    },
    {
      "cell_type": "code",
      "execution_count": 56,
      "metadata": {},
      "outputs": [
        {
          "data": {
            "text/plain": [
              "array([0, 0, 1, 0, 1, 0, 0, 1, 0, 0, 0, 0, 0, 1, 0, 0, 0, 0, 0, 0, 0, 0,\n",
              "       0, 0, 0, 0, 0, 0, 1, 0, 0, 0, 1, 0, 0, 1, 0, 0, 0, 0, 0, 0, 0, 0,\n",
              "       0, 0, 0, 0, 0, 0, 0, 0, 1, 0, 0, 0, 0, 1, 0, 0, 0, 1, 0, 0, 0, 0,\n",
              "       0, 0, 0, 1, 0, 0, 0, 0, 0, 0, 0, 0, 1, 0, 0, 0, 1, 0, 0, 0, 0, 0,\n",
              "       0, 1, 0, 0, 0, 0, 0, 0, 1, 0, 0, 0, 0, 1, 0, 0, 0, 1, 0, 0, 0, 0,\n",
              "       0, 0, 0, 0, 0, 1, 1, 0, 0, 0, 0, 1, 0, 0, 0, 1, 0, 0, 0, 1, 0, 0,\n",
              "       1, 0, 0, 1, 0, 0, 0, 0, 0, 0, 0, 0, 0, 1, 0, 0, 0, 0, 0, 1, 1, 0,\n",
              "       1, 0, 0, 0, 0, 0, 0, 0, 0, 0, 1, 0, 0, 0, 0, 0, 1, 0, 0, 0, 0, 1,\n",
              "       1, 0, 0, 0, 0, 0, 0, 0, 1, 0, 1, 0, 0, 0, 0, 0, 0, 0, 0, 0, 1, 1,\n",
              "       0, 0, 0, 0, 0, 0, 0, 0, 1, 0, 0, 0, 0, 0, 0, 0, 0, 0, 0, 0, 1, 0,\n",
              "       0])"
            ]
          },
          "execution_count": 56,
          "metadata": {},
          "output_type": "execute_result"
        }
      ],
      "source": [
        "y_valid"
      ]
    },
    {
      "cell_type": "code",
      "execution_count": 57,
      "metadata": {},
      "outputs": [
        {
          "data": {
            "text/html": [
              "<div>\n",
              "<style scoped>\n",
              "    .dataframe tbody tr th:only-of-type {\n",
              "        vertical-align: middle;\n",
              "    }\n",
              "\n",
              "    .dataframe tbody tr th {\n",
              "        vertical-align: top;\n",
              "    }\n",
              "\n",
              "    .dataframe thead th {\n",
              "        text-align: right;\n",
              "    }\n",
              "</style>\n",
              "<table border=\"1\" class=\"dataframe\">\n",
              "  <thead>\n",
              "    <tr style=\"text-align: right;\">\n",
              "      <th></th>\n",
              "      <th>Actual</th>\n",
              "      <th>Predicted</th>\n",
              "      <th>OK ?</th>\n",
              "    </tr>\n",
              "  </thead>\n",
              "  <tbody>\n",
              "    <tr>\n",
              "      <th>0</th>\n",
              "      <td>0</td>\n",
              "      <td>0</td>\n",
              "      <td>True</td>\n",
              "    </tr>\n",
              "    <tr>\n",
              "      <th>1</th>\n",
              "      <td>0</td>\n",
              "      <td>0</td>\n",
              "      <td>True</td>\n",
              "    </tr>\n",
              "    <tr>\n",
              "      <th>2</th>\n",
              "      <td>1</td>\n",
              "      <td>0</td>\n",
              "      <td>False</td>\n",
              "    </tr>\n",
              "    <tr>\n",
              "      <th>3</th>\n",
              "      <td>0</td>\n",
              "      <td>0</td>\n",
              "      <td>True</td>\n",
              "    </tr>\n",
              "    <tr>\n",
              "      <th>4</th>\n",
              "      <td>1</td>\n",
              "      <td>0</td>\n",
              "      <td>False</td>\n",
              "    </tr>\n",
              "    <tr>\n",
              "      <th>5</th>\n",
              "      <td>0</td>\n",
              "      <td>0</td>\n",
              "      <td>True</td>\n",
              "    </tr>\n",
              "    <tr>\n",
              "      <th>6</th>\n",
              "      <td>0</td>\n",
              "      <td>0</td>\n",
              "      <td>True</td>\n",
              "    </tr>\n",
              "    <tr>\n",
              "      <th>7</th>\n",
              "      <td>1</td>\n",
              "      <td>1</td>\n",
              "      <td>True</td>\n",
              "    </tr>\n",
              "    <tr>\n",
              "      <th>8</th>\n",
              "      <td>0</td>\n",
              "      <td>0</td>\n",
              "      <td>True</td>\n",
              "    </tr>\n",
              "    <tr>\n",
              "      <th>9</th>\n",
              "      <td>0</td>\n",
              "      <td>0</td>\n",
              "      <td>True</td>\n",
              "    </tr>\n",
              "    <tr>\n",
              "      <th>10</th>\n",
              "      <td>0</td>\n",
              "      <td>0</td>\n",
              "      <td>True</td>\n",
              "    </tr>\n",
              "    <tr>\n",
              "      <th>11</th>\n",
              "      <td>0</td>\n",
              "      <td>0</td>\n",
              "      <td>True</td>\n",
              "    </tr>\n",
              "    <tr>\n",
              "      <th>12</th>\n",
              "      <td>0</td>\n",
              "      <td>0</td>\n",
              "      <td>True</td>\n",
              "    </tr>\n",
              "    <tr>\n",
              "      <th>13</th>\n",
              "      <td>1</td>\n",
              "      <td>0</td>\n",
              "      <td>False</td>\n",
              "    </tr>\n",
              "    <tr>\n",
              "      <th>14</th>\n",
              "      <td>0</td>\n",
              "      <td>0</td>\n",
              "      <td>True</td>\n",
              "    </tr>\n",
              "    <tr>\n",
              "      <th>15</th>\n",
              "      <td>0</td>\n",
              "      <td>0</td>\n",
              "      <td>True</td>\n",
              "    </tr>\n",
              "    <tr>\n",
              "      <th>16</th>\n",
              "      <td>0</td>\n",
              "      <td>0</td>\n",
              "      <td>True</td>\n",
              "    </tr>\n",
              "    <tr>\n",
              "      <th>17</th>\n",
              "      <td>0</td>\n",
              "      <td>0</td>\n",
              "      <td>True</td>\n",
              "    </tr>\n",
              "    <tr>\n",
              "      <th>18</th>\n",
              "      <td>0</td>\n",
              "      <td>1</td>\n",
              "      <td>False</td>\n",
              "    </tr>\n",
              "    <tr>\n",
              "      <th>19</th>\n",
              "      <td>0</td>\n",
              "      <td>0</td>\n",
              "      <td>True</td>\n",
              "    </tr>\n",
              "  </tbody>\n",
              "</table>\n",
              "</div>"
            ],
            "text/plain": [
              "    Actual  Predicted   OK ?\n",
              "0        0          0   True\n",
              "1        0          0   True\n",
              "2        1          0  False\n",
              "3        0          0   True\n",
              "4        1          0  False\n",
              "5        0          0   True\n",
              "6        0          0   True\n",
              "7        1          1   True\n",
              "8        0          0   True\n",
              "9        0          0   True\n",
              "10       0          0   True\n",
              "11       0          0   True\n",
              "12       0          0   True\n",
              "13       1          0  False\n",
              "14       0          0   True\n",
              "15       0          0   True\n",
              "16       0          0   True\n",
              "17       0          0   True\n",
              "18       0          1  False\n",
              "19       0          0   True"
            ]
          },
          "execution_count": 57,
          "metadata": {},
          "output_type": "execute_result"
        }
      ],
      "source": [
        "compare = pd.DataFrame({'Actual': y_valid, 'Predicted': predictions, 'OK ?': y_valid == predictions})\n",
        "compare.head(20)"
      ]
    },
    {
      "cell_type": "markdown",
      "metadata": {},
      "source": [
        "## Test des modèles sur d'autres fichiers audios"
      ]
    },
    {
      "cell_type": "code",
      "execution_count": 12,
      "metadata": {},
      "outputs": [],
      "source": [
        "# Chargement des modeles\n",
        "knn_model = joblib.load('models/knn_model.pkl')\n",
        "svm_model = joblib.load('models/svm_model.pkl')\n",
        "dtc_model = joblib.load('models/dtc_model.pkl')"
      ]
    },
    {
      "cell_type": "code",
      "execution_count": 13,
      "metadata": {},
      "outputs": [],
      "source": [
        "def predict_emotion(audio_test_file):\n",
        "    normalized_y, sr = process_audio(audio_test_file)\n",
        "    flat_mfccs, flat_chroma, flat_spectral_contrast = extract_features(normalized_y, sr)\n",
        "\n",
        "    flat_mfccs = np.array(flat_mfccs).reshape(1, -1)\n",
        "    flat_chroma = np.array(flat_chroma).reshape(1, -1)\n",
        "    flat_spectral_contrast = np.array(flat_spectral_contrast).reshape(1, -1)\n",
        "\n",
        "    flat_features = np.concatenate((flat_mfccs, flat_chroma, flat_spectral_contrast), axis=1)\n",
        "\n",
        "    knn_prediction = knn_model.predict(flat_features)\n",
        "    svm_prediction = svm_model.predict(flat_features)\n",
        "    dtc_prediction = dtc_model.predict(flat_features)\n",
        "\n",
        "    print(\"Audio File is anger: \", audio_test_file)\n",
        "    print(\"KNN: \", knn_prediction == 1)\n",
        "    print(\"SVM: \", svm_prediction == 1)\n",
        "    print(\"DTC: \", dtc_prediction == 1)"
      ]
    },
    {
      "cell_type": "code",
      "execution_count": 14,
      "metadata": {},
      "outputs": [
        {
          "name": "stdout",
          "output_type": "stream",
          "text": [
            "Audio File is anger:  data/test_data/a09.wav\n",
            "KNN:  [False]\n",
            "SVM:  [False]\n",
            "DTC:  [False]\n"
          ]
        },
        {
          "name": "stderr",
          "output_type": "stream",
          "text": [
            "/Volumes/Second/EFREI/ING 3/APPLICATION OF BIG DATA/.app-bd/lib/python3.10/site-packages/sklearn/base.py:450: UserWarning: X does not have valid feature names, but KNeighborsClassifier was fitted with feature names\n",
            "  warnings.warn(\n",
            "/Volumes/Second/EFREI/ING 3/APPLICATION OF BIG DATA/.app-bd/lib/python3.10/site-packages/sklearn/base.py:450: UserWarning: X does not have valid feature names, but SVC was fitted with feature names\n",
            "  warnings.warn(\n",
            "/Volumes/Second/EFREI/ING 3/APPLICATION OF BIG DATA/.app-bd/lib/python3.10/site-packages/sklearn/base.py:450: UserWarning: X does not have valid feature names, but DecisionTreeClassifier was fitted with feature names\n",
            "  warnings.warn(\n"
          ]
        }
      ],
      "source": [
        "audio_file = \"data/test_data/a09.wav\"\n",
        "predict_emotion(audio_file)"
      ]
    },
    {
      "cell_type": "code",
      "execution_count": 15,
      "metadata": {},
      "outputs": [
        {
          "name": "stdout",
          "output_type": "stream",
          "text": [
            "Audio File is anger:  data/audio_speech_emotion/ang_N_dogs_rep1_F2.wav\n",
            "KNN:  [ True]\n",
            "SVM:  [False]\n",
            "DTC:  [ True]\n"
          ]
        },
        {
          "name": "stderr",
          "output_type": "stream",
          "text": [
            "/Volumes/Second/EFREI/ING 3/APPLICATION OF BIG DATA/.app-bd/lib/python3.10/site-packages/sklearn/base.py:450: UserWarning: X does not have valid feature names, but KNeighborsClassifier was fitted with feature names\n",
            "  warnings.warn(\n",
            "/Volumes/Second/EFREI/ING 3/APPLICATION OF BIG DATA/.app-bd/lib/python3.10/site-packages/sklearn/base.py:450: UserWarning: X does not have valid feature names, but SVC was fitted with feature names\n",
            "  warnings.warn(\n",
            "/Volumes/Second/EFREI/ING 3/APPLICATION OF BIG DATA/.app-bd/lib/python3.10/site-packages/sklearn/base.py:450: UserWarning: X does not have valid feature names, but DecisionTreeClassifier was fitted with feature names\n",
            "  warnings.warn(\n"
          ]
        }
      ],
      "source": [
        "audio_file = \"data/audio_speech_emotion/ang_N_dogs_rep1_F2.wav\"\n",
        "predict_emotion(audio_file)™"
      ]
    }
  ],
  "metadata": {
    "colab": {
      "provenance": []
    },
    "kernelspec": {
      "display_name": "Python 3",
      "name": "python3"
    },
    "language_info": {
      "codemirror_mode": {
        "name": "ipython",
        "version": 3
      },
      "file_extension": ".py",
      "mimetype": "text/x-python",
      "name": "python",
      "nbconvert_exporter": "python",
      "pygments_lexer": "ipython3",
      "version": "3.10.12"
    }
  },
  "nbformat": 4,
  "nbformat_minor": 0
}
