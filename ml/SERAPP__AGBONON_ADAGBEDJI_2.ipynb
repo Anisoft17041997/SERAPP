{
  "cells": [
    {
      "cell_type": "markdown",
      "metadata": {},
      "source": [
        "## Entrainement de nos modèles sur la base RAVDESS"
      ]
    },
    {
      "cell_type": "code",
      "execution_count": 1,
      "metadata": {
        "colab": {
          "base_uri": "https://localhost:8080/"
        },
        "id": "1mjK3RZOXeDm",
        "outputId": "af080fa8-d1e6-4bc7-ef97-3d32b06dc946"
      },
      "outputs": [],
      "source": [
        "#!pip install pymrmr\n",
        "#!pip install audiomentations\n",
        "#!pip install pydub"
      ]
    },
    {
      "cell_type": "code",
      "execution_count": 38,
      "metadata": {
        "id": "ZA2MeEnnyTtp"
      },
      "outputs": [],
      "source": [
        "import os\n",
        "import re\n",
        "import joblib\n",
        "import librosa\n",
        "import numpy as np\n",
        "import pandas as pd\n",
        "from tqdm import tqdm\n",
        "import seaborn as sns\n",
        "from audiomentations import Compose, TimeStretch, PitchShift, AddGaussianNoise\n",
        "from sklearn.preprocessing import normalize\n",
        "from sklearn.model_selection import train_test_split\n",
        "from sklearn.svm import SVC\n",
        "from sklearn.neighbors import KNeighborsClassifier\n",
        "from sklearn.tree import DecisionTreeClassifier\n",
        "from sklearn.metrics import accuracy_score, precision_score, recall_score\n",
        "\n",
        "# from pydub import AudioSegment\n",
        "# from pydub.effects import normalize\n",
        "# from sklearn.preprocessing import MinMaxScaler"
      ]
    },
    {
      "cell_type": "markdown",
      "metadata": {},
      "source": [
        "### Définition des fonctions utiles"
      ]
    },
    {
      "cell_type": "code",
      "execution_count": 5,
      "metadata": {},
      "outputs": [],
      "source": [
        "# Fonction de precession du fichier en vue de le normaliser\n",
        "def process_audio(file_path):\n",
        "    y, sr = librosa.load(file_path)\n",
        "    y, _ = librosa.effects.trim(y)\n",
        "\n",
        "    normalized_y = librosa.util.normalize(y)\n",
        "\n",
        "    return normalized_y, sr"
      ]
    },
    {
      "cell_type": "code",
      "execution_count": 3,
      "metadata": {},
      "outputs": [],
      "source": [
        "# Fonctions de traitement des fichiers audios\n",
        "def extract_features(normalized_y, sr, max_len=100):\n",
        "    mfccs = librosa.feature.mfcc(y=normalized_y, sr=sr, n_mfcc=13)\n",
        "    chroma = librosa.feature.chroma_stft(y=normalized_y, sr=sr)\n",
        "    spectral_contrast = librosa.feature.spectral_contrast(y=normalized_y, sr=sr)\n",
        "\n",
        "    mfccs = librosa.util.fix_length(mfccs, size = max_len, axis=1)\n",
        "    chroma = librosa.util.fix_length(chroma, size = max_len, axis=1)\n",
        "    spectral_contrast = librosa.util.fix_length(spectral_contrast, size = max_len, axis=1)\n",
        "\n",
        "    flat_mfccs = np.ravel(mfccs)\n",
        "    flat_chroma = np.ravel(chroma)\n",
        "    flat_spectral_contrast = np.ravel(spectral_contrast)\n",
        "\n",
        "    return flat_mfccs, flat_chroma, flat_spectral_contrast"
      ]
    },
    {
      "cell_type": "code",
      "execution_count": 4,
      "metadata": {},
      "outputs": [],
      "source": [
        "# Fonction d'augmentation des fichiers audios\n",
        "def augment_audio(y, sr):\n",
        "    augment = Compose([\n",
        "        TimeStretch(min_rate=0.8, max_rate=1.2),\n",
        "        PitchShift(min_semitones=-2, max_semitones=2),\n",
        "        AddGaussianNoise(min_amplitude=0.001, max_amplitude=0.015)\n",
        "    ])\n",
        "\n",
        "    augmented_y = augment(samples=y, sample_rate=sr)\n",
        "\n",
        "    return augmented_y"
      ]
    },
    {
      "cell_type": "code",
      "execution_count": 6,
      "metadata": {},
      "outputs": [],
      "source": [
        "# Dans notre contexte, nous avons décidé de nous concentrer sur la prédiction d'une émotion: la colère\n",
        "def is_anger(emotion):\n",
        "    return 1 if emotion == \"anger\" else 0"
      ]
    },
    {
      "cell_type": "code",
      "execution_count": 7,
      "metadata": {},
      "outputs": [],
      "source": [
        "audio_directory = \"data/audio_speech_emotion\"\n",
        "\n",
        "audio_files = []\n",
        "emotions = []\n",
        "mfccs_list = []\n",
        "chroma_list = []\n",
        "spectral_contrast_list = []\n",
        "\n",
        "emotion_mapping = {\n",
        "    'ang': 'anger',\n",
        "    'cal': 'calm',\n",
        "    'dis': 'disgust',\n",
        "    'fea': 'fear',\n",
        "    'hap': 'happiness',\n",
        "    'neu': 'neutral',\n",
        "    'sad': 'sadness',\n",
        "    'sur': 'surprise'\n",
        "}"
      ]
    },
    {
      "cell_type": "code",
      "execution_count": 8,
      "metadata": {
        "id": "I-596vgAN6Ay"
      },
      "outputs": [
        {
          "name": "stderr",
          "output_type": "stream",
          "text": [
            "  0%|          | 0/1380 [00:00<?, ?it/s]"
          ]
        },
        {
          "name": "stderr",
          "output_type": "stream",
          "text": [
            "100%|██████████| 1380/1380 [02:09<00:00, 10.63it/s]\n"
          ]
        }
      ],
      "source": [
        "for filename in tqdm(os.listdir(audio_directory)):\n",
        "    if filename.endswith(\".wav\"):\n",
        "        match = re.search(r'^([a-zA-Z]{3})', filename)\n",
        "        emotion = emotion_mapping.get(match.group(1), 'unknown')\n",
        "\n",
        "        file_path = os.path.join(audio_directory, filename)\n",
        "\n",
        "        normalized_y, sr = process_audio(file_path)\n",
        "\n",
        "        original_mfccs, original_chroma, original_spectral_contrast = extract_features(normalized_y, sr)\n",
        "\n",
        "        augmented_y = augment_audio(normalized_y, sr)\n",
        "        augmented_mfccs, augmented_chroma, augmented_spectral_contrast = extract_features(augmented_y, sr)\n",
        "\n",
        "        audio_files.extend([filename, f\"augmented_{filename}\"])\n",
        "        emotions.extend([emotion, emotion])\n",
        "        mfccs_list.extend([original_mfccs, augmented_mfccs])\n",
        "        chroma_list.extend([original_chroma, augmented_chroma])\n",
        "        spectral_contrast_list.extend([original_spectral_contrast, augmented_spectral_contrast])\n",
        "\n",
        "\n",
        "\n",
        "df = pd.DataFrame({\n",
        "    'Audio_File': audio_files,\n",
        "    'Emotion': emotions,\n",
        "    'MFCCs': mfccs_list,\n",
        "    'Chroma': chroma_list,\n",
        "    'Spectral_Contrast': spectral_contrast_list\n",
        "})"
      ]
    },
    {
      "cell_type": "code",
      "execution_count": 9,
      "metadata": {},
      "outputs": [
        {
          "data": {
            "text/html": [
              "<div>\n",
              "<style scoped>\n",
              "    .dataframe tbody tr th:only-of-type {\n",
              "        vertical-align: middle;\n",
              "    }\n",
              "\n",
              "    .dataframe tbody tr th {\n",
              "        vertical-align: top;\n",
              "    }\n",
              "\n",
              "    .dataframe thead th {\n",
              "        text-align: right;\n",
              "    }\n",
              "</style>\n",
              "<table border=\"1\" class=\"dataframe\">\n",
              "  <thead>\n",
              "    <tr style=\"text-align: right;\">\n",
              "      <th></th>\n",
              "      <th>Audio_File</th>\n",
              "      <th>Emotion</th>\n",
              "      <th>MFCCs</th>\n",
              "      <th>Chroma</th>\n",
              "      <th>Spectral_Contrast</th>\n",
              "    </tr>\n",
              "  </thead>\n",
              "  <tbody>\n",
              "    <tr>\n",
              "      <th>0</th>\n",
              "      <td>hap_N_kids_rep2_M5.wav</td>\n",
              "      <td>happiness</td>\n",
              "      <td>[-560.8875, -557.3468, -557.6999, -560.072, -5...</td>\n",
              "      <td>[0.99280536, 0.9239153, 0.86961377, 0.5242816,...</td>\n",
              "      <td>[20.288140537780052, 16.049922218454988, 17.91...</td>\n",
              "    </tr>\n",
              "    <tr>\n",
              "      <th>1</th>\n",
              "      <td>augmented_hap_N_kids_rep2_M5.wav</td>\n",
              "      <td>happiness</td>\n",
              "      <td>[-649.6311, -645.0359, -645.0468, -649.07825, ...</td>\n",
              "      <td>[0.9268701, 0.87389505, 0.87743384, 0.7035241,...</td>\n",
              "      <td>[19.68116632949726, 16.262331290208206, 18.420...</td>\n",
              "    </tr>\n",
              "    <tr>\n",
              "      <th>2</th>\n",
              "      <td>fea_S_dogs_rep2_F22.wav</td>\n",
              "      <td>fear</td>\n",
              "      <td>[-557.0281, -550.8854, -544.0535, -483.4463, -...</td>\n",
              "      <td>[0.43459034, 0.3906931, 0.39205012, 0.7074244,...</td>\n",
              "      <td>[13.510801619773137, 16.844586394879578, 15.92...</td>\n",
              "    </tr>\n",
              "    <tr>\n",
              "      <th>3</th>\n",
              "      <td>augmented_fea_S_dogs_rep2_F22.wav</td>\n",
              "      <td>fear</td>\n",
              "      <td>[-279.7611, -246.6932, -243.03241, -238.6582, ...</td>\n",
              "      <td>[0.77119505, 0.8621414, 0.8548917, 0.8621989, ...</td>\n",
              "      <td>[10.662976281622482, 15.97021040423615, 5.2307...</td>\n",
              "    </tr>\n",
              "    <tr>\n",
              "      <th>4</th>\n",
              "      <td>fea_N_kids_rep2_M11.wav</td>\n",
              "      <td>fear</td>\n",
              "      <td>[-564.0849, -559.55365, -559.0394, -560.73395,...</td>\n",
              "      <td>[0.82920116, 0.669364, 0.6859306, 0.76664114, ...</td>\n",
              "      <td>[10.980496795417464, 23.34173214011679, 16.894...</td>\n",
              "    </tr>\n",
              "  </tbody>\n",
              "</table>\n",
              "</div>"
            ],
            "text/plain": [
              "                          Audio_File    Emotion  \\\n",
              "0             hap_N_kids_rep2_M5.wav  happiness   \n",
              "1   augmented_hap_N_kids_rep2_M5.wav  happiness   \n",
              "2            fea_S_dogs_rep2_F22.wav       fear   \n",
              "3  augmented_fea_S_dogs_rep2_F22.wav       fear   \n",
              "4            fea_N_kids_rep2_M11.wav       fear   \n",
              "\n",
              "                                               MFCCs  \\\n",
              "0  [-560.8875, -557.3468, -557.6999, -560.072, -5...   \n",
              "1  [-649.6311, -645.0359, -645.0468, -649.07825, ...   \n",
              "2  [-557.0281, -550.8854, -544.0535, -483.4463, -...   \n",
              "3  [-279.7611, -246.6932, -243.03241, -238.6582, ...   \n",
              "4  [-564.0849, -559.55365, -559.0394, -560.73395,...   \n",
              "\n",
              "                                              Chroma  \\\n",
              "0  [0.99280536, 0.9239153, 0.86961377, 0.5242816,...   \n",
              "1  [0.9268701, 0.87389505, 0.87743384, 0.7035241,...   \n",
              "2  [0.43459034, 0.3906931, 0.39205012, 0.7074244,...   \n",
              "3  [0.77119505, 0.8621414, 0.8548917, 0.8621989, ...   \n",
              "4  [0.82920116, 0.669364, 0.6859306, 0.76664114, ...   \n",
              "\n",
              "                                   Spectral_Contrast  \n",
              "0  [20.288140537780052, 16.049922218454988, 17.91...  \n",
              "1  [19.68116632949726, 16.262331290208206, 18.420...  \n",
              "2  [13.510801619773137, 16.844586394879578, 15.92...  \n",
              "3  [10.662976281622482, 15.97021040423615, 5.2307...  \n",
              "4  [10.980496795417464, 23.34173214011679, 16.894...  "
            ]
          },
          "execution_count": 9,
          "metadata": {},
          "output_type": "execute_result"
        }
      ],
      "source": [
        "df.head()"
      ]
    },
    {
      "cell_type": "code",
      "execution_count": 10,
      "metadata": {},
      "outputs": [
        {
          "data": {
            "text/html": [
              "<div>\n",
              "<style scoped>\n",
              "    .dataframe tbody tr th:only-of-type {\n",
              "        vertical-align: middle;\n",
              "    }\n",
              "\n",
              "    .dataframe tbody tr th {\n",
              "        vertical-align: top;\n",
              "    }\n",
              "\n",
              "    .dataframe thead th {\n",
              "        text-align: right;\n",
              "    }\n",
              "</style>\n",
              "<table border=\"1\" class=\"dataframe\">\n",
              "  <thead>\n",
              "    <tr style=\"text-align: right;\">\n",
              "      <th></th>\n",
              "      <th>Audio_File</th>\n",
              "      <th>Emotion</th>\n",
              "      <th>MFCCs</th>\n",
              "      <th>Chroma</th>\n",
              "      <th>Spectral_Contrast</th>\n",
              "    </tr>\n",
              "  </thead>\n",
              "  <tbody>\n",
              "    <tr>\n",
              "      <th>0</th>\n",
              "      <td>hap_N_kids_rep2_M5.wav</td>\n",
              "      <td>happiness</td>\n",
              "      <td>[-560.8875, -557.3468, -557.6999, -560.072, -5...</td>\n",
              "      <td>[0.99280536, 0.9239153, 0.86961377, 0.5242816,...</td>\n",
              "      <td>[20.288140537780052, 16.049922218454988, 17.91...</td>\n",
              "    </tr>\n",
              "    <tr>\n",
              "      <th>1</th>\n",
              "      <td>augmented_hap_N_kids_rep2_M5.wav</td>\n",
              "      <td>happiness</td>\n",
              "      <td>[-649.6311, -645.0359, -645.0468, -649.07825, ...</td>\n",
              "      <td>[0.9268701, 0.87389505, 0.87743384, 0.7035241,...</td>\n",
              "      <td>[19.68116632949726, 16.262331290208206, 18.420...</td>\n",
              "    </tr>\n",
              "    <tr>\n",
              "      <th>2</th>\n",
              "      <td>fea_S_dogs_rep2_F22.wav</td>\n",
              "      <td>fear</td>\n",
              "      <td>[-557.0281, -550.8854, -544.0535, -483.4463, -...</td>\n",
              "      <td>[0.43459034, 0.3906931, 0.39205012, 0.7074244,...</td>\n",
              "      <td>[13.510801619773137, 16.844586394879578, 15.92...</td>\n",
              "    </tr>\n",
              "    <tr>\n",
              "      <th>3</th>\n",
              "      <td>augmented_fea_S_dogs_rep2_F22.wav</td>\n",
              "      <td>fear</td>\n",
              "      <td>[-279.7611, -246.6932, -243.03241, -238.6582, ...</td>\n",
              "      <td>[0.77119505, 0.8621414, 0.8548917, 0.8621989, ...</td>\n",
              "      <td>[10.662976281622482, 15.97021040423615, 5.2307...</td>\n",
              "    </tr>\n",
              "    <tr>\n",
              "      <th>4</th>\n",
              "      <td>fea_N_kids_rep2_M11.wav</td>\n",
              "      <td>fear</td>\n",
              "      <td>[-564.0849, -559.55365, -559.0394, -560.73395,...</td>\n",
              "      <td>[0.82920116, 0.669364, 0.6859306, 0.76664114, ...</td>\n",
              "      <td>[10.980496795417464, 23.34173214011679, 16.894...</td>\n",
              "    </tr>\n",
              "  </tbody>\n",
              "</table>\n",
              "</div>"
            ],
            "text/plain": [
              "                          Audio_File    Emotion  \\\n",
              "0             hap_N_kids_rep2_M5.wav  happiness   \n",
              "1   augmented_hap_N_kids_rep2_M5.wav  happiness   \n",
              "2            fea_S_dogs_rep2_F22.wav       fear   \n",
              "3  augmented_fea_S_dogs_rep2_F22.wav       fear   \n",
              "4            fea_N_kids_rep2_M11.wav       fear   \n",
              "\n",
              "                                               MFCCs  \\\n",
              "0  [-560.8875, -557.3468, -557.6999, -560.072, -5...   \n",
              "1  [-649.6311, -645.0359, -645.0468, -649.07825, ...   \n",
              "2  [-557.0281, -550.8854, -544.0535, -483.4463, -...   \n",
              "3  [-279.7611, -246.6932, -243.03241, -238.6582, ...   \n",
              "4  [-564.0849, -559.55365, -559.0394, -560.73395,...   \n",
              "\n",
              "                                              Chroma  \\\n",
              "0  [0.99280536, 0.9239153, 0.86961377, 0.5242816,...   \n",
              "1  [0.9268701, 0.87389505, 0.87743384, 0.7035241,...   \n",
              "2  [0.43459034, 0.3906931, 0.39205012, 0.7074244,...   \n",
              "3  [0.77119505, 0.8621414, 0.8548917, 0.8621989, ...   \n",
              "4  [0.82920116, 0.669364, 0.6859306, 0.76664114, ...   \n",
              "\n",
              "                                   Spectral_Contrast  \n",
              "0  [20.288140537780052, 16.049922218454988, 17.91...  \n",
              "1  [19.68116632949726, 16.262331290208206, 18.420...  \n",
              "2  [13.510801619773137, 16.844586394879578, 15.92...  \n",
              "3  [10.662976281622482, 15.97021040423615, 5.2307...  \n",
              "4  [10.980496795417464, 23.34173214011679, 16.894...  "
            ]
          },
          "execution_count": 10,
          "metadata": {},
          "output_type": "execute_result"
        }
      ],
      "source": [
        "df[df[\"Emotion\"] != \"unknown\"].head()"
      ]
    },
    {
      "cell_type": "code",
      "execution_count": 27,
      "metadata": {},
      "outputs": [
        {
          "data": {
            "image/png": "[encoded data removed]",
            "text/plain": [
              "<Figure size 1800x500 with 1 Axes>"
            ]
          },
          "metadata": {},
          "output_type": "display_data"
        }
      ],
      "source": [
        "# Voyons la répartition de chaque émotion\n",
        "sns.countplot(df, x=\"Emotion\", hue=\"Emotion\")\n",
        "sns.set(rc={'figure.figsize':(16,5)})"
      ]
    },
    {
      "cell_type": "code",
      "execution_count": 11,
      "metadata": {
        "id": "AiUgv3mZ04FX"
      },
      "outputs": [],
      "source": [
        "df[\"anger\"] = df['Emotion'].apply(is_anger)"
      ]
    },
    {
      "cell_type": "code",
      "execution_count": 12,
      "metadata": {
        "id": "QE4kp0ApEZxA"
      },
      "outputs": [],
      "source": [
        "# Dataframe de chaque categories de features\n",
        "\n",
        "mfccs_list_columns = [f'mfccs_{i}' for i in range(len(mfccs_list[0]))]\n",
        "df_mfccs = pd.DataFrame(mfccs_list, columns=mfccs_list_columns)\n",
        "\n",
        "chroma_list_columns = [f'chroma_{i}' for i in range(len(chroma_list[0]))]\n",
        "df_chroma = pd.DataFrame(chroma_list, columns=chroma_list_columns)\n",
        "\n",
        "spectral_contrast_list_columns = [f'spectral_contrast_{i}' for i in range(len(spectral_contrast_list[0]))]\n",
        "df_spectral_contrast = pd.DataFrame(spectral_contrast_list, columns=spectral_contrast_list_columns)"
      ]
    },
    {
      "cell_type": "code",
      "execution_count": 13,
      "metadata": {
        "colab": {
          "base_uri": "https://localhost:8080/",
          "height": 253
        },
        "id": "bGVdLAxZEswy",
        "outputId": "3b249fd9-a275-4260-ad4e-b16c3394a80c"
      },
      "outputs": [
        {
          "data": {
            "text/html": [
              "<div>\n",
              "<style scoped>\n",
              "    .dataframe tbody tr th:only-of-type {\n",
              "        vertical-align: middle;\n",
              "    }\n",
              "\n",
              "    .dataframe tbody tr th {\n",
              "        vertical-align: top;\n",
              "    }\n",
              "\n",
              "    .dataframe thead th {\n",
              "        text-align: right;\n",
              "    }\n",
              "</style>\n",
              "<table border=\"1\" class=\"dataframe\">\n",
              "  <thead>\n",
              "    <tr style=\"text-align: right;\">\n",
              "      <th></th>\n",
              "      <th>Audio_File</th>\n",
              "      <th>mfccs_0</th>\n",
              "      <th>mfccs_1</th>\n",
              "      <th>mfccs_2</th>\n",
              "      <th>mfccs_3</th>\n",
              "      <th>mfccs_4</th>\n",
              "      <th>mfccs_5</th>\n",
              "      <th>mfccs_6</th>\n",
              "      <th>mfccs_7</th>\n",
              "      <th>mfccs_8</th>\n",
              "      <th>...</th>\n",
              "      <th>spectral_contrast_691</th>\n",
              "      <th>spectral_contrast_692</th>\n",
              "      <th>spectral_contrast_693</th>\n",
              "      <th>spectral_contrast_694</th>\n",
              "      <th>spectral_contrast_695</th>\n",
              "      <th>spectral_contrast_696</th>\n",
              "      <th>spectral_contrast_697</th>\n",
              "      <th>spectral_contrast_698</th>\n",
              "      <th>spectral_contrast_699</th>\n",
              "      <th>anger</th>\n",
              "    </tr>\n",
              "  </thead>\n",
              "  <tbody>\n",
              "    <tr>\n",
              "      <th>60</th>\n",
              "      <td>sad_S_dogs_rep1_M13.wav</td>\n",
              "      <td>-549.363586</td>\n",
              "      <td>-545.695251</td>\n",
              "      <td>-543.450928</td>\n",
              "      <td>-544.753418</td>\n",
              "      <td>-546.635559</td>\n",
              "      <td>-545.921143</td>\n",
              "      <td>-547.273010</td>\n",
              "      <td>-545.770996</td>\n",
              "      <td>-546.336792</td>\n",
              "      <td>...</td>\n",
              "      <td>43.687356</td>\n",
              "      <td>41.438811</td>\n",
              "      <td>41.125511</td>\n",
              "      <td>40.312466</td>\n",
              "      <td>41.291529</td>\n",
              "      <td>40.616292</td>\n",
              "      <td>43.004717</td>\n",
              "      <td>46.763644</td>\n",
              "      <td>46.690618</td>\n",
              "      <td>0</td>\n",
              "    </tr>\n",
              "    <tr>\n",
              "      <th>1052</th>\n",
              "      <td>ang_S_dogs_rep1_M19.wav</td>\n",
              "      <td>-500.207397</td>\n",
              "      <td>-486.718018</td>\n",
              "      <td>-468.806000</td>\n",
              "      <td>-458.284241</td>\n",
              "      <td>-456.975525</td>\n",
              "      <td>-457.295593</td>\n",
              "      <td>-465.276611</td>\n",
              "      <td>-472.256592</td>\n",
              "      <td>-474.381714</td>\n",
              "      <td>...</td>\n",
              "      <td>46.553921</td>\n",
              "      <td>43.935081</td>\n",
              "      <td>45.600897</td>\n",
              "      <td>47.452108</td>\n",
              "      <td>45.123203</td>\n",
              "      <td>42.709428</td>\n",
              "      <td>46.217791</td>\n",
              "      <td>46.360404</td>\n",
              "      <td>47.285128</td>\n",
              "      <td>1</td>\n",
              "    </tr>\n",
              "    <tr>\n",
              "      <th>974</th>\n",
              "      <td>fea_S_kids_rep1_F6.wav</td>\n",
              "      <td>-509.616821</td>\n",
              "      <td>-495.993866</td>\n",
              "      <td>-506.691559</td>\n",
              "      <td>-502.326324</td>\n",
              "      <td>-487.858368</td>\n",
              "      <td>-484.491730</td>\n",
              "      <td>-483.987610</td>\n",
              "      <td>-486.240173</td>\n",
              "      <td>-491.225494</td>\n",
              "      <td>...</td>\n",
              "      <td>54.728713</td>\n",
              "      <td>48.535003</td>\n",
              "      <td>44.705353</td>\n",
              "      <td>47.988100</td>\n",
              "      <td>47.916943</td>\n",
              "      <td>44.804106</td>\n",
              "      <td>46.685332</td>\n",
              "      <td>49.614490</td>\n",
              "      <td>49.980696</td>\n",
              "      <td>0</td>\n",
              "    </tr>\n",
              "    <tr>\n",
              "      <th>504</th>\n",
              "      <td>hap_N_kids_rep1_F8.wav</td>\n",
              "      <td>-567.446533</td>\n",
              "      <td>-564.927734</td>\n",
              "      <td>-567.208496</td>\n",
              "      <td>-569.545959</td>\n",
              "      <td>-568.555847</td>\n",
              "      <td>-566.953674</td>\n",
              "      <td>-568.380432</td>\n",
              "      <td>-567.092773</td>\n",
              "      <td>-565.898804</td>\n",
              "      <td>...</td>\n",
              "      <td>39.737258</td>\n",
              "      <td>43.801587</td>\n",
              "      <td>44.373022</td>\n",
              "      <td>44.611714</td>\n",
              "      <td>47.400298</td>\n",
              "      <td>50.328831</td>\n",
              "      <td>49.973837</td>\n",
              "      <td>49.457221</td>\n",
              "      <td>52.772170</td>\n",
              "      <td>0</td>\n",
              "    </tr>\n",
              "    <tr>\n",
              "      <th>2309</th>\n",
              "      <td>augmented_hap_N_dogs_rep2_M23.wav</td>\n",
              "      <td>-533.484070</td>\n",
              "      <td>-418.313629</td>\n",
              "      <td>-232.295975</td>\n",
              "      <td>-102.253166</td>\n",
              "      <td>-51.519848</td>\n",
              "      <td>-46.357407</td>\n",
              "      <td>-48.806812</td>\n",
              "      <td>-63.516220</td>\n",
              "      <td>-86.058578</td>\n",
              "      <td>...</td>\n",
              "      <td>0.000000</td>\n",
              "      <td>0.000000</td>\n",
              "      <td>0.000000</td>\n",
              "      <td>0.000000</td>\n",
              "      <td>0.000000</td>\n",
              "      <td>0.000000</td>\n",
              "      <td>0.000000</td>\n",
              "      <td>0.000000</td>\n",
              "      <td>0.000000</td>\n",
              "      <td>0</td>\n",
              "    </tr>\n",
              "  </tbody>\n",
              "</table>\n",
              "<p>5 rows × 3202 columns</p>\n",
              "</div>"
            ],
            "text/plain": [
              "                             Audio_File     mfccs_0     mfccs_1     mfccs_2  \\\n",
              "60              sad_S_dogs_rep1_M13.wav -549.363586 -545.695251 -543.450928   \n",
              "1052            ang_S_dogs_rep1_M19.wav -500.207397 -486.718018 -468.806000   \n",
              "974              fea_S_kids_rep1_F6.wav -509.616821 -495.993866 -506.691559   \n",
              "504              hap_N_kids_rep1_F8.wav -567.446533 -564.927734 -567.208496   \n",
              "2309  augmented_hap_N_dogs_rep2_M23.wav -533.484070 -418.313629 -232.295975   \n",
              "\n",
              "         mfccs_3     mfccs_4     mfccs_5     mfccs_6     mfccs_7     mfccs_8  \\\n",
              "60   -544.753418 -546.635559 -545.921143 -547.273010 -545.770996 -546.336792   \n",
              "1052 -458.284241 -456.975525 -457.295593 -465.276611 -472.256592 -474.381714   \n",
              "974  -502.326324 -487.858368 -484.491730 -483.987610 -486.240173 -491.225494   \n",
              "504  -569.545959 -568.555847 -566.953674 -568.380432 -567.092773 -565.898804   \n",
              "2309 -102.253166  -51.519848  -46.357407  -48.806812  -63.516220  -86.058578   \n",
              "\n",
              "      ...  spectral_contrast_691  spectral_contrast_692  \\\n",
              "60    ...              43.687356              41.438811   \n",
              "1052  ...              46.553921              43.935081   \n",
              "974   ...              54.728713              48.535003   \n",
              "504   ...              39.737258              43.801587   \n",
              "2309  ...               0.000000               0.000000   \n",
              "\n",
              "      spectral_contrast_693  spectral_contrast_694  spectral_contrast_695  \\\n",
              "60                41.125511              40.312466              41.291529   \n",
              "1052              45.600897              47.452108              45.123203   \n",
              "974               44.705353              47.988100              47.916943   \n",
              "504               44.373022              44.611714              47.400298   \n",
              "2309               0.000000               0.000000               0.000000   \n",
              "\n",
              "      spectral_contrast_696  spectral_contrast_697  spectral_contrast_698  \\\n",
              "60                40.616292              43.004717              46.763644   \n",
              "1052              42.709428              46.217791              46.360404   \n",
              "974               44.804106              46.685332              49.614490   \n",
              "504               50.328831              49.973837              49.457221   \n",
              "2309               0.000000               0.000000               0.000000   \n",
              "\n",
              "      spectral_contrast_699  anger  \n",
              "60                46.690618      0  \n",
              "1052              47.285128      1  \n",
              "974               49.980696      0  \n",
              "504               52.772170      0  \n",
              "2309               0.000000      0  \n",
              "\n",
              "[5 rows x 3202 columns]"
            ]
          },
          "execution_count": 13,
          "metadata": {},
          "output_type": "execute_result"
        }
      ],
      "source": [
        "# Dataset d'exploitation avec features et sans features selection\n",
        "features = pd.concat([df[\"Audio_File\"],df_mfccs, df_chroma,df_spectral_contrast,df[\"anger\"]], axis=1)\n",
        "features = features.sample(frac = 1) # A changer si le dataset est trop grand\n",
        "features.head()"
      ]
    },
    {
      "cell_type": "code",
      "execution_count": 14,
      "metadata": {},
      "outputs": [
        {
          "data": {
            "text/plain": [
              "(2760, 3202)"
            ]
          },
          "execution_count": 14,
          "metadata": {},
          "output_type": "execute_result"
        }
      ],
      "source": [
        "features.shape"
      ]
    },
    {
      "cell_type": "code",
      "execution_count": 15,
      "metadata": {},
      "outputs": [],
      "source": [
        "# Sauverage du dataset en parquet\n",
        "features.to_parquet('data/datasets/features.parquet', index=False)"
      ]
    },
    {
      "cell_type": "markdown",
      "metadata": {},
      "source": [
        "## Entrainement des models"
      ]
    },
    {
      "cell_type": "markdown",
      "metadata": {},
      "source": [
        "### Définition des modèles"
      ]
    },
    {
      "cell_type": "code",
      "execution_count": 44,
      "metadata": {
        "id": "Y7uE7mCEPEuB"
      },
      "outputs": [],
      "source": [
        "def train_model_knn(X_train, y_train, nb_neighbors=10):\n",
        "    model = KNeighborsClassifier(n_neighbors=nb_neighbors)\n",
        "    model.fit(X_train, y_train)\n",
        "\n",
        "    return model\n",
        "\n",
        "def train_model_svc(X_train, y_train):\n",
        "    model = SVC()\n",
        "    model.fit(X_train, y_train)\n",
        "\n",
        "    return model\n",
        "\n",
        "def train_model_dt(X_train, y_train):\n",
        "    model = DecisionTreeClassifier()\n",
        "    model.fit(X_train, y_train)\n",
        "\n",
        "    return model"
      ]
    },
    {
      "cell_type": "code",
      "execution_count": 45,
      "metadata": {
        "id": "_Q9vMU3TPfUW"
      },
      "outputs": [],
      "source": [
        "def evaluate_model(model, X_test, y_test):\n",
        "    y_pred = model.predict(X_test)\n",
        "\n",
        "    accuracy = accuracy_score(y_test, y_pred)\n",
        "    precision = precision_score(y_test, y_pred, average='weighted')\n",
        "    recall = recall_score(y_test, y_pred, average='weighted')\n",
        "\n",
        "    print(f\"Accuracy: {accuracy:.4f}\")\n",
        "    print(f\"Precision: {precision:.4f}\")\n",
        "    print(f\"Recall: {recall:.4f}\")"
      ]
    },
    {
      "cell_type": "markdown",
      "metadata": {},
      "source": [
        "### Séparation des données en données de train, test et validation"
      ]
    },
    {
      "cell_type": "code",
      "execution_count": 46,
      "metadata": {},
      "outputs": [],
      "source": [
        "X = features.drop(columns=['Audio_File', 'anger'])\n",
        "y = features[\"anger\"].values\n",
        "\n",
        "X_train_valid, X_test, y_train_valid, y_test = train_test_split(X, y, test_size=0.2, random_state=21)"
      ]
    },
    {
      "cell_type": "code",
      "execution_count": 47,
      "metadata": {},
      "outputs": [
        {
          "data": {
            "text/plain": [
              "((2208, 3200), (552, 3200))"
            ]
          },
          "execution_count": 47,
          "metadata": {},
          "output_type": "execute_result"
        }
      ],
      "source": [
        "X_train_valid.shape, X_test.shape"
      ]
    },
    {
      "cell_type": "code",
      "execution_count": 48,
      "metadata": {},
      "outputs": [],
      "source": [
        "X_train, X_valid, y_train, y_valid = train_test_split(X_train_valid, y_train_valid, test_size=0.1, random_state=21)"
      ]
    },
    {
      "cell_type": "code",
      "execution_count": 49,
      "metadata": {},
      "outputs": [
        {
          "data": {
            "text/plain": [
              "((1987, 3200), (221, 3200))"
            ]
          },
          "execution_count": 49,
          "metadata": {},
          "output_type": "execute_result"
        }
      ],
      "source": [
        "X_train.shape, X_valid.shape"
      ]
    },
    {
      "cell_type": "markdown",
      "metadata": {},
      "source": [
        "### Entrainement des modèles"
      ]
    },
    {
      "cell_type": "code",
      "execution_count": 50,
      "metadata": {
        "colab": {
          "base_uri": "https://localhost:8080/"
        },
        "id": "F2IOIY5FP__a",
        "outputId": "1b706c2f-78d5-4141-bb0a-ea0664fa2123"
      },
      "outputs": [
        {
          "name": "stdout",
          "output_type": "stream",
          "text": [
            "Accuracy: 0.8605\n",
            "Precision: 0.8346\n",
            "Recall: 0.8605\n"
          ]
        },
        {
          "name": "stderr",
          "output_type": "stream",
          "text": [
            "/Volumes/Second/EFREI/ING 3/APPLICATION OF BIG DATA/.app-bd/lib/python3.10/site-packages/sklearn/utils/validation.py:757: FutureWarning: is_sparse is deprecated and will be removed in a future version. Check `isinstance(dtype, pd.SparseDtype)` instead.\n",
            "  if not hasattr(array, \"sparse\") and array.dtypes.apply(is_sparse).any():\n",
            "/Volumes/Second/EFREI/ING 3/APPLICATION OF BIG DATA/.app-bd/lib/python3.10/site-packages/sklearn/utils/validation.py:595: FutureWarning: is_sparse is deprecated and will be removed in a future version. Check `isinstance(dtype, pd.SparseDtype)` instead.\n",
            "  if is_sparse(pd_dtype):\n",
            "/Volumes/Second/EFREI/ING 3/APPLICATION OF BIG DATA/.app-bd/lib/python3.10/site-packages/sklearn/utils/validation.py:604: FutureWarning: is_sparse is deprecated and will be removed in a future version. Check `isinstance(dtype, pd.SparseDtype)` instead.\n",
            "  if is_sparse(pd_dtype) or not is_extension_array_dtype(pd_dtype):\n",
            "/Volumes/Second/EFREI/ING 3/APPLICATION OF BIG DATA/.app-bd/lib/python3.10/site-packages/sklearn/utils/validation.py:757: FutureWarning: is_sparse is deprecated and will be removed in a future version. Check `isinstance(dtype, pd.SparseDtype)` instead.\n",
            "  if not hasattr(array, \"sparse\") and array.dtypes.apply(is_sparse).any():\n",
            "/Volumes/Second/EFREI/ING 3/APPLICATION OF BIG DATA/.app-bd/lib/python3.10/site-packages/sklearn/utils/validation.py:595: FutureWarning: is_sparse is deprecated and will be removed in a future version. Check `isinstance(dtype, pd.SparseDtype)` instead.\n",
            "  if is_sparse(pd_dtype):\n",
            "/Volumes/Second/EFREI/ING 3/APPLICATION OF BIG DATA/.app-bd/lib/python3.10/site-packages/sklearn/utils/validation.py:604: FutureWarning: is_sparse is deprecated and will be removed in a future version. Check `isinstance(dtype, pd.SparseDtype)` instead.\n",
            "  if is_sparse(pd_dtype) or not is_extension_array_dtype(pd_dtype):\n"
          ]
        }
      ],
      "source": [
        "knn_model = train_model_knn(X_train, y_train)\n",
        "evaluate_model(knn_model, X_test, y_test)"
      ]
    },
    {
      "cell_type": "code",
      "execution_count": 51,
      "metadata": {},
      "outputs": [
        {
          "name": "stderr",
          "output_type": "stream",
          "text": [
            "/Volumes/Second/EFREI/ING 3/APPLICATION OF BIG DATA/.app-bd/lib/python3.10/site-packages/sklearn/utils/validation.py:757: FutureWarning: is_sparse is deprecated and will be removed in a future version. Check `isinstance(dtype, pd.SparseDtype)` instead.\n",
            "  if not hasattr(array, \"sparse\") and array.dtypes.apply(is_sparse).any():\n",
            "/Volumes/Second/EFREI/ING 3/APPLICATION OF BIG DATA/.app-bd/lib/python3.10/site-packages/sklearn/utils/validation.py:595: FutureWarning: is_sparse is deprecated and will be removed in a future version. Check `isinstance(dtype, pd.SparseDtype)` instead.\n",
            "  if is_sparse(pd_dtype):\n",
            "/Volumes/Second/EFREI/ING 3/APPLICATION OF BIG DATA/.app-bd/lib/python3.10/site-packages/sklearn/utils/validation.py:604: FutureWarning: is_sparse is deprecated and will be removed in a future version. Check `isinstance(dtype, pd.SparseDtype)` instead.\n",
            "  if is_sparse(pd_dtype) or not is_extension_array_dtype(pd_dtype):\n",
            "/Volumes/Second/EFREI/ING 3/APPLICATION OF BIG DATA/.app-bd/lib/python3.10/site-packages/sklearn/utils/validation.py:757: FutureWarning: is_sparse is deprecated and will be removed in a future version. Check `isinstance(dtype, pd.SparseDtype)` instead.\n",
            "  if not hasattr(array, \"sparse\") and array.dtypes.apply(is_sparse).any():\n",
            "/Volumes/Second/EFREI/ING 3/APPLICATION OF BIG DATA/.app-bd/lib/python3.10/site-packages/sklearn/utils/validation.py:595: FutureWarning: is_sparse is deprecated and will be removed in a future version. Check `isinstance(dtype, pd.SparseDtype)` instead.\n",
            "  if is_sparse(pd_dtype):\n",
            "/Volumes/Second/EFREI/ING 3/APPLICATION OF BIG DATA/.app-bd/lib/python3.10/site-packages/sklearn/utils/validation.py:604: FutureWarning: is_sparse is deprecated and will be removed in a future version. Check `isinstance(dtype, pd.SparseDtype)` instead.\n",
            "  if is_sparse(pd_dtype) or not is_extension_array_dtype(pd_dtype):\n"
          ]
        },
        {
          "name": "stdout",
          "output_type": "stream",
          "text": [
            "Accuracy: 0.8569\n",
            "Precision: 0.7343\n",
            "Recall: 0.8569\n"
          ]
        },
        {
          "name": "stderr",
          "output_type": "stream",
          "text": [
            "/Volumes/Second/EFREI/ING 3/APPLICATION OF BIG DATA/.app-bd/lib/python3.10/site-packages/sklearn/metrics/_classification.py:1334: UndefinedMetricWarning: Precision is ill-defined and being set to 0.0 in labels with no predicted samples. Use `zero_division` parameter to control this behavior.\n",
            "  _warn_prf(average, modifier, msg_start, len(result))\n"
          ]
        }
      ],
      "source": [
        "svm_model = train_model_svc(X_train, y_train)\n",
        "evaluate_model(svm_model, X_test, y_test)"
      ]
    },
    {
      "cell_type": "code",
      "execution_count": 52,
      "metadata": {},
      "outputs": [
        {
          "name": "stderr",
          "output_type": "stream",
          "text": [
            "/Volumes/Second/EFREI/ING 3/APPLICATION OF BIG DATA/.app-bd/lib/python3.10/site-packages/sklearn/utils/validation.py:757: FutureWarning: is_sparse is deprecated and will be removed in a future version. Check `isinstance(dtype, pd.SparseDtype)` instead.\n",
            "  if not hasattr(array, \"sparse\") and array.dtypes.apply(is_sparse).any():\n",
            "/Volumes/Second/EFREI/ING 3/APPLICATION OF BIG DATA/.app-bd/lib/python3.10/site-packages/sklearn/utils/validation.py:595: FutureWarning: is_sparse is deprecated and will be removed in a future version. Check `isinstance(dtype, pd.SparseDtype)` instead.\n",
            "  if is_sparse(pd_dtype):\n",
            "/Volumes/Second/EFREI/ING 3/APPLICATION OF BIG DATA/.app-bd/lib/python3.10/site-packages/sklearn/utils/validation.py:604: FutureWarning: is_sparse is deprecated and will be removed in a future version. Check `isinstance(dtype, pd.SparseDtype)` instead.\n",
            "  if is_sparse(pd_dtype) or not is_extension_array_dtype(pd_dtype):\n"
          ]
        },
        {
          "name": "stdout",
          "output_type": "stream",
          "text": [
            "Accuracy: 0.8424\n",
            "Precision: 0.8432\n",
            "Recall: 0.8424\n"
          ]
        },
        {
          "name": "stderr",
          "output_type": "stream",
          "text": [
            "/Volumes/Second/EFREI/ING 3/APPLICATION OF BIG DATA/.app-bd/lib/python3.10/site-packages/sklearn/utils/validation.py:757: FutureWarning: is_sparse is deprecated and will be removed in a future version. Check `isinstance(dtype, pd.SparseDtype)` instead.\n",
            "  if not hasattr(array, \"sparse\") and array.dtypes.apply(is_sparse).any():\n",
            "/Volumes/Second/EFREI/ING 3/APPLICATION OF BIG DATA/.app-bd/lib/python3.10/site-packages/sklearn/utils/validation.py:595: FutureWarning: is_sparse is deprecated and will be removed in a future version. Check `isinstance(dtype, pd.SparseDtype)` instead.\n",
            "  if is_sparse(pd_dtype):\n",
            "/Volumes/Second/EFREI/ING 3/APPLICATION OF BIG DATA/.app-bd/lib/python3.10/site-packages/sklearn/utils/validation.py:604: FutureWarning: is_sparse is deprecated and will be removed in a future version. Check `isinstance(dtype, pd.SparseDtype)` instead.\n",
            "  if is_sparse(pd_dtype) or not is_extension_array_dtype(pd_dtype):\n"
          ]
        }
      ],
      "source": [
        "dtc_model = train_model_dt(X_train, y_train)\n",
        "evaluate_model(dtc_model, X_test, y_test)"
      ]
    },
    {
      "cell_type": "code",
      "execution_count": 54,
      "metadata": {},
      "outputs": [
        {
          "name": "stdout",
          "output_type": "stream",
          "text": [
            "🔄 Models saving ...\n",
            "✅ Models saved successfully !\n"
          ]
        }
      ],
      "source": [
        "# Sauvegarde des modeles\n",
        "print(\"🔄 Models saving ...\")\n",
        "joblib.dump(knn_model, 'models/knn_model.pkl')\n",
        "joblib.dump(svm_model, 'models/svm_model.pkl')\n",
        "joblib.dump(dtc_model, 'models/dtc_model.pkl')\n",
        "print(\"✅ Models saved successfully !\")"
      ]
    },
    {
      "cell_type": "markdown",
      "metadata": {},
      "source": [
        "## Validation des modèles"
      ]
    },
    {
      "cell_type": "code",
      "execution_count": 43,
      "metadata": {},
      "outputs": [
        {
          "name": "stderr",
          "output_type": "stream",
          "text": [
            "/Volumes/Second/EFREI/ING 3/APPLICATION OF BIG DATA/.app-bd/lib/python3.10/site-packages/sklearn/utils/validation.py:757: FutureWarning: is_sparse is deprecated and will be removed in a future version. Check `isinstance(dtype, pd.SparseDtype)` instead.\n",
            "  if not hasattr(array, \"sparse\") and array.dtypes.apply(is_sparse).any():\n",
            "/Volumes/Second/EFREI/ING 3/APPLICATION OF BIG DATA/.app-bd/lib/python3.10/site-packages/sklearn/utils/validation.py:595: FutureWarning: is_sparse is deprecated and will be removed in a future version. Check `isinstance(dtype, pd.SparseDtype)` instead.\n",
            "  if is_sparse(pd_dtype):\n",
            "/Volumes/Second/EFREI/ING 3/APPLICATION OF BIG DATA/.app-bd/lib/python3.10/site-packages/sklearn/utils/validation.py:604: FutureWarning: is_sparse is deprecated and will be removed in a future version. Check `isinstance(dtype, pd.SparseDtype)` instead.\n",
            "  if is_sparse(pd_dtype) or not is_extension_array_dtype(pd_dtype):\n"
          ]
        },
        {
          "data": {
            "text/plain": [
              "array([0, 0, 0, 0, 0, 0, 0, 1, 0, 0, 0, 0, 0, 0, 0, 0, 0, 0, 1, 0, 0, 0,\n",
              "       1, 0, 0, 0, 0, 0, 0, 0, 0, 0, 0, 0, 0, 0, 0, 1, 1, 1, 1, 0, 0, 0,\n",
              "       0, 0, 0, 0, 0, 0, 0, 0, 1, 0, 0, 0, 0, 0, 0, 0, 0, 0, 0, 0, 0, 0,\n",
              "       1, 0, 0, 0, 0, 0, 0, 0, 0, 0, 0, 0, 0, 0, 0, 0, 0, 0, 0, 1, 0, 0,\n",
              "       0, 0, 0, 0, 0, 0, 0, 1, 0, 0, 0, 0, 0, 0, 0, 0, 0, 0, 0, 1, 1, 0,\n",
              "       0, 0, 1, 0, 0, 0, 0, 0, 0, 0, 0, 0, 0, 0, 0, 1, 0, 0, 0, 1, 0, 0,\n",
              "       0, 0, 0, 1, 0, 0, 0, 0, 0, 0, 0, 0, 0, 1, 0, 0, 1, 0, 0, 0, 0, 0,\n",
              "       0, 0, 0, 0, 0, 0, 0, 0, 0, 0, 0, 0, 0, 0, 0, 0, 0, 0, 0, 1, 0, 0,\n",
              "       0, 1, 0, 0, 0, 0, 0, 0, 0, 0, 0, 0, 0, 0, 0, 1, 0, 1, 0, 1, 0, 0,\n",
              "       0, 0, 0, 0, 0, 1, 0, 0, 0, 0, 0, 0, 0, 0, 0, 0, 0, 0, 1, 0, 0, 1,\n",
              "       1])"
            ]
          },
          "execution_count": 43,
          "metadata": {},
          "output_type": "execute_result"
        }
      ],
      "source": [
        "dtc_model.predict(X_valid)"
      ]
    },
    {
      "cell_type": "code",
      "execution_count": 41,
      "metadata": {},
      "outputs": [
        {
          "data": {
            "text/plain": [
              "array([0, 0, 0, 0, 0, 0, 0, 0, 0, 0, 0, 0, 0, 0, 0, 1, 0, 0, 1, 0, 0, 0,\n",
              "       1, 1, 0, 0, 0, 0, 0, 0, 0, 0, 0, 0, 0, 0, 0, 0, 0, 1, 1, 0, 0, 0,\n",
              "       0, 0, 0, 0, 0, 0, 0, 0, 0, 0, 0, 0, 0, 0, 0, 0, 0, 0, 0, 0, 0, 0,\n",
              "       1, 1, 0, 1, 0, 0, 0, 0, 0, 0, 0, 0, 0, 0, 0, 0, 1, 1, 0, 0, 0, 0,\n",
              "       0, 0, 0, 0, 0, 0, 0, 1, 0, 0, 0, 0, 0, 0, 0, 1, 0, 0, 0, 0, 0, 0,\n",
              "       0, 0, 1, 0, 0, 1, 0, 0, 0, 0, 0, 0, 0, 0, 0, 1, 0, 0, 0, 0, 0, 0,\n",
              "       0, 0, 0, 0, 0, 0, 0, 0, 0, 0, 0, 0, 0, 1, 0, 0, 0, 0, 0, 0, 0, 0,\n",
              "       0, 0, 0, 0, 0, 0, 1, 1, 0, 0, 0, 0, 0, 0, 0, 0, 0, 0, 1, 1, 0, 0,\n",
              "       0, 0, 0, 1, 1, 0, 0, 0, 0, 0, 1, 0, 0, 0, 1, 0, 0, 0, 0, 1, 0, 0,\n",
              "       0, 0, 0, 0, 0, 0, 0, 0, 0, 0, 1, 1, 0, 0, 0, 0, 0, 0, 0, 0, 0, 0,\n",
              "       1])"
            ]
          },
          "execution_count": 41,
          "metadata": {},
          "output_type": "execute_result"
        }
      ],
      "source": [
        "y_valid"
      ]
    },
    {
      "cell_type": "markdown",
      "metadata": {},
      "source": [
        "## Test des modèles sur d'autres fichiers audios"
      ]
    },
    {
      "cell_type": "code",
      "execution_count": 55,
      "metadata": {},
      "outputs": [],
      "source": [
        "# Chargement des modeles\n",
        "knn_model = joblib.load('models/knn_model.pkl')\n",
        "svm_model = joblib.load('models/svm_model.pkl')\n",
        "dtc_model = joblib.load('models/dtc_model.pkl')"
      ]
    },
    {
      "cell_type": "code",
      "execution_count": 66,
      "metadata": {},
      "outputs": [],
      "source": [
        "def predict_emotion(audio_test_file):\n",
        "    normalized_y, sr = process_audio(audio_test_file)\n",
        "    flat_mfccs, flat_chroma, flat_spectral_contrast = extract_features(normalized_y, sr)\n",
        "\n",
        "    flat_mfccs = np.array(flat_mfccs).reshape(1, -1)\n",
        "    flat_chroma = np.array(flat_chroma).reshape(1, -1)\n",
        "    flat_spectral_contrast = np.array(flat_spectral_contrast).reshape(1, -1)\n",
        "\n",
        "    flat_features = np.concatenate((flat_mfccs, flat_chroma, flat_spectral_contrast), axis=1)\n",
        "\n",
        "    knn_prediction = knn_model.predict(flat_features)\n",
        "    svm_prediction = svm_model.predict(flat_features)\n",
        "    dtc_prediction = dtc_model.predict(flat_features)\n",
        "\n",
        "    print(\"Audio File: \", audio_test_file)\n",
        "    print(\"KNN: \", knn_prediction)\n",
        "    print(\"SVM: \", svm_prediction)\n",
        "    print(\"DTC: \", dtc_prediction)"
      ]
    },
    {
      "cell_type": "code",
      "execution_count": 79,
      "metadata": {},
      "outputs": [
        {
          "name": "stdout",
          "output_type": "stream",
          "text": [
            "Audio File:  data/test_data/a01.wav\n",
            "KNN:  [0]\n",
            "SVM:  [0]\n",
            "DTC:  [1]\n"
          ]
        },
        {
          "name": "stderr",
          "output_type": "stream",
          "text": [
            "/Volumes/Second/EFREI/ING 3/APPLICATION OF BIG DATA/.app-bd/lib/python3.10/site-packages/sklearn/base.py:450: UserWarning: X does not have valid feature names, but KNeighborsClassifier was fitted with feature names\n",
            "  warnings.warn(\n",
            "/Volumes/Second/EFREI/ING 3/APPLICATION OF BIG DATA/.app-bd/lib/python3.10/site-packages/sklearn/base.py:450: UserWarning: X does not have valid feature names, but SVC was fitted with feature names\n",
            "  warnings.warn(\n",
            "/Volumes/Second/EFREI/ING 3/APPLICATION OF BIG DATA/.app-bd/lib/python3.10/site-packages/sklearn/base.py:450: UserWarning: X does not have valid feature names, but DecisionTreeClassifier was fitted with feature names\n",
            "  warnings.warn(\n"
          ]
        }
      ],
      "source": [
        "audio_file = \"data/test_data/a01.wav\"\n",
        "predict_emotion(audio_file)"
      ]
    }
  ],
  "metadata": {
    "colab": {
      "provenance": []
    },
    "kernelspec": {
      "display_name": "Python 3",
      "name": "python3"
    },
    "language_info": {
      "codemirror_mode": {
        "name": "ipython",
        "version": 3
      },
      "file_extension": ".py",
      "mimetype": "text/x-python",
      "name": "python",
      "nbconvert_exporter": "python",
      "pygments_lexer": "ipython3",
      "version": "3.10.12"
    }
  },
  "nbformat": 4,
  "nbformat_minor": 0
}
