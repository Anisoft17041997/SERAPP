{
  "cells": [
    {
      "cell_type": "markdown",
      "metadata": {
        "id": "EWH_tr0rGTiT"
      },
      "source": [
        "# Projet SER"
      ]
    },
    {
      "cell_type": "code",
      "execution_count": null,
      "metadata": {
        "id": "NfqaoNRXGMwe"
      },
      "outputs": [],
      "source": [
        "!pip install numpy pandas scikit-learn\n",
        "!pip install librosa\n",
        "!pip install mrmr-selection\n",
        "!pip install soundfile\n",
        "!pip install librosa\n",
        "!pip install kaggle"
      ]
    },
    {
      "cell_type": "code",
      "execution_count": 2,
      "metadata": {
        "id": "_bTdm2BlGMwg"
      },
      "outputs": [],
      "source": [
        "import os\n",
        "import numpy as np\n",
        "import pandas as pd\n",
        "from sklearn.preprocessing import normalize\n",
        "from sklearn.model_selection import train_test_split\n",
        "from sklearn.svm import SVC\n",
        "from sklearn.metrics import ConfusionMatrixDisplay, accuracy_score, confusion_matrix, classification_report, precision_score, recall_score\n",
        "#from pymrmr import mRMR\n",
        "import librosa\n",
        "#from sklearn.preprocessing import MinMaxScaler\n",
        "from scipy.signal import find_peaks\n",
        "import soundfile as sf\n",
        "import seaborn as sns\n",
        "import matplotlib.pyplot as plt\n",
        "#from sklearn.decomposition import PCA"
      ]
    },
    {
      "cell_type": "markdown",
      "metadata": {
        "id": "i2EqIjw1GPC0"
      },
      "source": [
        "## Data Collection"
      ]
    },
    {
      "cell_type": "markdown",
      "metadata": {
        "id": "8lVE6sy4IKaM"
      },
      "source": [
        "### From local path"
      ]
    },
    {
      "cell_type": "code",
      "execution_count": null,
      "metadata": {
        "id": "vlKDnjZsGMwg"
      },
      "outputs": [],
      "source": [
        "\"\"\"\n",
        "def collect_data_ravdess(audio_path):\n",
        "    data = pd.DataFrame()\n",
        "\n",
        "    for file in os.listdir(audio_path):\n",
        "        if file.endswith(\".wav\"):\n",
        "            filepath = os.path.join(audio_path, file)\n",
        "            label = file.split(\"-\")[2]  # Extracting emotion label from filename\n",
        "\n",
        "            # Append the filepath and label to the DataFrame\n",
        "            data = data.append({\"filepath\": filepath, \"label\": label}, ignore_index=True)\n",
        "\n",
        "    return data\n",
        "\n",
        "\"\"\""
      ]
    },
    {
      "cell_type": "markdown",
      "metadata": {
        "id": "FH9G-lWfIbTv"
      },
      "source": [
        "### From kaggle"
      ]
    },
    {
      "cell_type": "code",
      "execution_count": 3,
      "metadata": {
        "id": "lm9nFbxOlTB8"
      },
      "outputs": [],
      "source": [
        "!mkdir ~/.kaggle\n",
        "!touch ~/.kaggle/kaggle.json\n",
        "\n",
        "api_token = {\"username\":\"siakesophie\",\"key\":\"760d5044c02669f464a1d97a873a4827\"}\n",
        "\n",
        "import json\n",
        "\n",
        "with open('/root/.kaggle/kaggle.json', 'w') as file:\n",
        "    json.dump(api_token, file)\n",
        "\n",
        "!chmod 600 ~/.kaggle/kaggle.json"
      ]
    },
    {
      "cell_type": "code",
      "execution_count": 4,
      "metadata": {
        "colab": {
          "base_uri": "https://localhost:8080/"
        },
        "id": "MPQJgXsVlfgH",
        "outputId": "53540165-f75b-4170-c35e-95d195999b0d"
      },
      "outputs": [
        {
          "output_type": "stream",
          "name": "stdout",
          "text": [
            "ref                                           title                                  size  lastUpdated          downloadCount  voteCount  usabilityRating  \n",
            "--------------------------------------------  ------------------------------------  -----  -------------------  -------------  ---------  ---------------  \n",
            "uwrfkaggler/ravdess-emotional-speech-audio    RAVDESS Emotional speech audio        429MB  2019-01-19 18:28:31          37104        462  0.875            \n",
            "uwrfkaggler/ravdess-emotional-song-audio      RAVDESS Emotional song audio          456MB  2019-01-19 21:01:49           1860         37  0.875            \n",
            "kartik2khandelwal/speech-emotion-dataset      RAVDESS as .csv                       763KB  2021-09-15 13:12:51            658         17  0.5882353        \n",
            "dmitrybabko/speech-emotion-recognition-en     Speech Emotion Recognition (en)       987MB  2021-01-25 12:59:50           8238         89  0.875            \n",
            "uwrfkaggler/ravdess-facial-landmark-tracking  RAVDESS Facial Landmark Tracking      445MB  2019-09-10 18:05:59            496         30  0.85294116       \n",
            "uldisvalainis/audio-emotions                  Audio emotions                          1GB  2020-06-09 12:56:17           2064         33  0.75             \n",
            "cracc97/features                              MFCCs for Speech Emotion Recognition   37MB  2021-02-13 18:05:08            626         14  0.88235295       \n",
            "dejolilandry/ravdess                          Ravdess                               215MB  2021-12-26 04:25:21             74          1  0.4375           \n",
            "preethikurra/ravdess-tess                     RAVDESS, TESS                         428MB  2023-03-23 19:48:49             25          1  0.625            \n",
            "borameister/ravdessfractals                   RAVDESS-Fractals                        7MB  2019-09-30 13:50:17             22          1  0.1875           \n",
            "adrivg/ravdess-emotional-speech-video         RAVDESS Emotional speech video         12GB  2023-02-05 19:13:09            109          2  0.375            \n",
            "mostafaabdlhamed/speech-signal-features       speech recognition features           727MB  2023-07-01 03:39:46             63         10  0.5625           \n",
            "divyanshudata/ravdess                         RAVDESS                                 9MB  2023-11-09 17:55:38              0          1  0.125            \n",
            "tariqblecher/ravdess-8k                       ravdess_8k                             43MB  2022-06-25 08:55:24             31          1  0.5              \n",
            "deepakk6/ravdess-data                         ravdess data                           75MB  2022-05-08 17:32:15             16          2  0.125            \n",
            "borameister/ravdesslt                         RAVDESS-LT                             55MB  2019-08-08 21:22:19             11          1  0.125            \n",
            "borameister/ravdess-cochleagrams              RAVDESS - Cochleagrams                 30MB  2019-09-30 09:07:22              9          1  0.125            \n",
            "borameister/ravdessmfccs                      RAVDESS-MFCCs                          16MB  2019-09-30 13:51:18             11          1  0.125            \n",
            "borameister/ravdessspectrograms               RAVDESS-Spectrograms                  127MB  2019-09-30 13:51:56             22          1  0.125            \n",
            "bhuviranga/basic-audio-dataset                Basic Audio Dataset                     9MB  2023-08-01 10:35:22              6          2  0.8125           \n"
          ]
        }
      ],
      "source": [
        "# list datasets on kaggle with the name Ravdess\n",
        "!kaggle datasets list -s RAVDESS"
      ]
    },
    {
      "cell_type": "code",
      "execution_count": 5,
      "metadata": {
        "id": "BNB8NxL9mzc7"
      },
      "outputs": [],
      "source": [
        "# Authenticate into Kaggle and download the required dataset then unzip it in the folder in which we are found\n",
        "\n",
        "import kaggle\n",
        "\n",
        "kaggle.api.authenticate()\n",
        "\n",
        "kaggle.api.dataset_download_files('uwrfkaggler/ravdess-emotional-speech-audio', path='.', unzip=True)\n"
      ]
    },
    {
      "cell_type": "markdown",
      "metadata": {
        "id": "-qdm-fcBGYpe"
      },
      "source": [
        "## Data Processing\n",
        "- Audio Normalization\n",
        "- Silence Removal"
      ]
    },
    {
      "cell_type": "code",
      "execution_count": 6,
      "metadata": {
        "id": "lsnJYdGqHD3N"
      },
      "outputs": [],
      "source": [
        "def normalize(X):\n",
        "    max_X = np.max(np.abs(X))\n",
        "    Y = X / max_X\n",
        "\n",
        "    return Y"
      ]
    },
    {
      "cell_type": "code",
      "execution_count": 7,
      "metadata": {
        "id": "DiPbwP4jHDY_"
      },
      "outputs": [],
      "source": [
        "def remove_silence(X, factor):\n",
        "    max_X = np.max(np.abs(X))\n",
        "    decision_threshold = max_X / factor\n",
        "\n",
        "    # Find the indices of samples above the decision threshold\n",
        "    indices_useful_X, _ = find_peaks(np.abs(X), height=decision_threshold)\n",
        "\n",
        "    # Extract the useful samples\n",
        "    Y = X[indices_useful_X[0]:indices_useful_X[-1] + 1]\n",
        "\n",
        "    return Y\n"
      ]
    },
    {
      "cell_type": "code",
      "execution_count": 8,
      "metadata": {
        "id": "856qfyvJrizG"
      },
      "outputs": [],
      "source": [
        "def normalise_remove_silence(input_filename, output_directory, factor):\n",
        "    # Read the input audio file\n",
        "    x, fs = librosa.load(input_filename, sr=None)\n",
        "\n",
        "    # Normalize the audio\n",
        "    y = normalize(x)\n",
        "\n",
        "    # Remove silence\n",
        "    z = remove_silence(y, factor)\n",
        "\n",
        "    # Extract the filename and extension\n",
        "    filename, extension = os.path.splitext(os.path.basename(input_filename))\n",
        "\n",
        "    # Create the output filename in the specified directory\n",
        "    output_filename = os.path.join(output_directory, f\"{filename}_N_RS{factor}{extension}\")\n",
        "\n",
        "    # Write the processed audio to the output file\n",
        "    sf.write(output_filename, z, fs)"
      ]
    },
    {
      "cell_type": "markdown",
      "metadata": {
        "id": "3x461Ay9HL3N"
      },
      "source": [
        "## Audio Feature Extraction\n"
      ]
    },
    {
      "cell_type": "code",
      "execution_count": 9,
      "metadata": {
        "id": "YwaE8Cnw4Ec_"
      },
      "outputs": [],
      "source": [
        "from scipy.stats import mode\n",
        "\n",
        "def global_feature_computation(feature_matrix, computations):\n",
        "    computed_features = []\n",
        "    for computation in computations:\n",
        "        if computation == \"mean\":\n",
        "            computed_features.append(np.mean(feature_matrix, axis=1))\n",
        "        elif computation == \"min\":\n",
        "            computed_features.append(np.min(feature_matrix, axis=1))\n",
        "        elif computation == \"max\":\n",
        "            computed_features.append(np.max(feature_matrix, axis=1))\n",
        "        elif computation == \"std\":\n",
        "            computed_features.append(np.std(feature_matrix, axis=1))\n",
        "        elif computation == \"range\":\n",
        "            computed_features.append(np.ptp(feature_matrix, axis=1))\n",
        "        elif computation == \"mode\":\n",
        "            # Use scipy.stats.mode to get mode and count\n",
        "            mode_result = mode(feature_matrix, axis=1)\n",
        "            computed_features.append(mode_result.mode.flatten())\n",
        "        elif computation == \"median\":\n",
        "            computed_features.append(np.median(feature_matrix, axis=1))\n",
        "        elif computation == \"1st_quartile\":\n",
        "            computed_features.append(np.percentile(feature_matrix, 25, axis=1))\n",
        "        elif computation == \"3rd_quartile\":\n",
        "            computed_features.append(np.percentile(feature_matrix, 75, axis=1))\n",
        "        # Add conditions for other computations\n",
        "\n",
        "    return np.concatenate(computed_features)"
      ]
    },
    {
      "cell_type": "code",
      "execution_count": 32,
      "metadata": {
        "id": "BDTlQUWwGMwh"
      },
      "outputs": [],
      "source": [
        "def extract_features(audio_path, features, global_computation):\n",
        "    # Load the normalized and silence-removed audio\n",
        "    audio, sr = librosa.load(audio_path)\n",
        "\n",
        "    lst_spectral_flatness = []\n",
        "    lst_spectral_centroid = []\n",
        "    lst_mfcc = []\n",
        "    lst_melspectrogram = []\n",
        "    lst_chroma_stft = []\n",
        "    lst_rms = []\n",
        "\n",
        "    feature_list = []\n",
        "\n",
        "    # Extract selected features\n",
        "    for feature_name in features:\n",
        "        if feature_name == \"spectral_flatness\":\n",
        "            spectral_flatness = librosa.feature.spectral_flatness(y=audio)\n",
        "            lst_spectral_flatness.append(global_feature_computation(spectral_flatness, global_computation))\n",
        "        elif feature_name == \"spectral_centroid\":\n",
        "            spectral_centroid = librosa.feature.spectral_centroid(y=audio, sr = sr)\n",
        "            lst_spectral_centroid.append(global_feature_computation(spectral_centroid, global_computation))\n",
        "        elif feature_name == \"mfcc\":\n",
        "            mfcc = librosa.feature.mfcc(y=audio, sr = sr)\n",
        "            lst_mfcc.append(global_feature_computation(mfcc, global_computation))\n",
        "        elif feature_name == \"melspectrogram\":\n",
        "            mel_spectrum = librosa.feature.melspectrogram(y=audio, sr = sr)\n",
        "            lst_melspectrogram.append(global_feature_computation(mel_spectrum, global_computation))\n",
        "        elif feature_name == \"chroma_stft\":\n",
        "            chroma_stft = librosa.feature.chroma_stft(y=audio, sr = sr)\n",
        "            lst_chroma_stft.append(global_feature_computation(chroma_stft, global_computation))\n",
        "        elif feature_name == \"rms\":\n",
        "            rms = librosa.feature.rms(y=audio)\n",
        "            lst_rms.append(global_feature_computation(rms, global_computation))\n",
        "\n",
        "\n",
        "    feature_list.append(lst_spectral_flatness[0])\n",
        "    feature_list.append(lst_spectral_centroid[0])\n",
        "    feature_list.append(lst_mfcc[0])\n",
        "    feature_list.append(lst_melspectrogram[0])\n",
        "    feature_list.append(lst_chroma_stft[0])\n",
        "    feature_list.append(lst_rms[0])\n",
        "\n",
        "\n",
        "    # Combine the extracted features into a single feature vector\n",
        "    feature_vector = np.concatenate(feature_list)\n",
        "\n",
        "    return feature_vector\n"
      ]
    },
    {
      "cell_type": "code",
      "execution_count": 12,
      "metadata": {
        "id": "8lELnXZLGMwh"
      },
      "outputs": [],
      "source": [
        "def evaluate_model(model, X_test, y_test):\n",
        "    y_pred = model.predict(X_test)\n",
        "\n",
        "    accuracy = accuracy_score(y_test, y_pred)\n",
        "    precision = precision_score(y_test, y_pred, average='weighted')\n",
        "    recall = recall_score(y_test, y_pred, average='weighted')\n",
        "\n",
        "    print(f\"Accuracy: {accuracy:.2f}\")\n",
        "    print(f\"Precision: {precision:.2f}\")\n",
        "    print(f\"Recall: {recall:.2f}\")"
      ]
    },
    {
      "cell_type": "markdown",
      "metadata": {
        "id": "0OEvoQeJHTuM"
      },
      "source": [
        "## Model Training\n",
        "- SVM"
      ]
    },
    {
      "cell_type": "code",
      "execution_count": 47,
      "metadata": {
        "id": "c1ESsHiRCvf5"
      },
      "outputs": [],
      "source": [
        "features = [\"spectral_flatness\", \"spectral_centroid\", \"mfcc\", \"chroma_stft\", \"melspectrogram\", \"rms\"]\n",
        "global_computation = [\"mean\"]\n",
        "#global_computation = [\"mean\", \"min\", \"max\", \"std\", \"range\", \"mode\", \"median\"]\n",
        "\n",
        "class_names = [\"Neutral\", \"Cal\", \"Happiness\", \"Sadness\", \"Angry\", \"Fear\", \"Disgust\", \"Surprise\"]\n",
        "\n",
        "factor = 200\n",
        "\n",
        "num_selected_features = 5"
      ]
    },
    {
      "cell_type": "markdown",
      "metadata": {
        "id": "EJs_JWYnJMRC"
      },
      "source": [
        "### Normalizing and removing the silence"
      ]
    },
    {
      "cell_type": "code",
      "execution_count": 14,
      "metadata": {
        "id": "8-k4x5T1CXhl"
      },
      "outputs": [],
      "source": [
        "# Set the base directory where actor directories are located\n",
        "base_directory = '/content/audio_speech_actors_01-24'\n",
        "output_directory = '/content/processed_data'\n",
        "\n",
        "# Create the output directory if it doesn't exist\n",
        "os.makedirs(output_directory, exist_ok=True)\n",
        "\n",
        "# First loop: Normalize and remove silence\n",
        "for actor_directory in os.listdir(base_directory):\n",
        "    actor_path = os.path.join(base_directory, actor_directory)\n",
        "\n",
        "    # Check if it's a directory\n",
        "    if os.path.isdir(actor_path):\n",
        "\n",
        "        # Iterate over audio files in the actor's directory\n",
        "        for audio_file in os.listdir(actor_path):\n",
        "            audio_path = os.path.join(actor_path, audio_file)\n",
        "\n",
        "            # Normalize and remove silence\n",
        "            normalise_remove_silence(audio_path, output_directory, factor)\n"
      ]
    },
    {
      "cell_type": "code",
      "execution_count": 15,
      "metadata": {
        "id": "s5Vo0jRWJJps"
      },
      "outputs": [],
      "source": [
        "# List to store the paths of normalized audio files\n",
        "normalized_audio_paths = []\n",
        "\n",
        "for audio_file in os.listdir(output_directory):\n",
        "    normalized_audio_path = os.path.join(output_directory, audio_file)\n",
        "\n",
        "    # Append to the list of normalized audio paths\n",
        "    normalized_audio_paths.append(normalized_audio_path)\n"
      ]
    },
    {
      "cell_type": "code",
      "execution_count": 48,
      "metadata": {
        "id": "s1YrGP83J0-7"
      },
      "outputs": [],
      "source": [
        "# Initialize lists for audio files, labels, and features\n",
        "features_list = []\n",
        "audio_files = []\n",
        "\n",
        "for normalized_audio_path in normalized_audio_paths:\n",
        "    extracted_features = extract_features(normalized_audio_path, features, global_computation)\n",
        "\n",
        "    # Append to lists or perform further processing as needed\n",
        "    audio_files.append(normalized_audio_path)\n",
        "    features_list.append(extracted_features)\n"
      ]
    },
    {
      "cell_type": "code",
      "source": [
        "# Convert features_list to a NumPy array if needed\n",
        "features_list = np.array(features_list)"
      ],
      "metadata": {
        "id": "ma06Q3jPTvPL"
      },
      "execution_count": 54,
      "outputs": []
    },
    {
      "cell_type": "code",
      "execution_count": 55,
      "metadata": {
        "colab": {
          "base_uri": "https://localhost:8080/"
        },
        "id": "mvO6Qr65dgYm",
        "outputId": "4b2acc96-69e2-4393-ee53-3577169a5e41"
      },
      "outputs": [
        {
          "output_type": "execute_result",
          "data": {
            "text/plain": [
              "(1440, 163)"
            ]
          },
          "metadata": {},
          "execution_count": 55
        }
      ],
      "source": [
        "features_list.shape"
      ]
    },
    {
      "cell_type": "markdown",
      "metadata": {
        "id": "dyPugdT1ptV6"
      },
      "source": [
        "### labels\n",
        "Here is the filename identifiers as per the official RAVDESS website:\n",
        "\n",
        "- Modality (01 = full-AV, 02 = video-only, 03 = audio-only).\n",
        "- Vocal channel (01 = speech, 02 = song).\n",
        "- Emotion (01 = neutral, 02 = calm, 03 = happy, 04 = sad, 05 = angry, 06 = fearful, 07 = disgust, 08 = surprised).\n",
        "- Emotional intensity (01 = normal, 02 = strong). NOTE: There is no strong intensity for the 'neutral' emotion.\n",
        "- Statement (01 = \"Kids are talking by the door\", 02 = \"Dogs are sitting by the door\").\n",
        "- Repetition (01 = 1st repetition, 02 = 2nd repetition).\n",
        "- Actor (01 to 24. Odd numbered actors are male, even numbered actors are female).\n",
        "\n",
        "\n",
        "So, here's an example of an audio filename. 02-01-06-01-02-01-12.mp4 This means the meta data for the audio file is:\n",
        "\n",
        "- Video-only (02)\n",
        "- Speech (01)\n",
        "- Fearful (06)\n",
        "- Normal intensity (01)\n",
        "- Statement \"dogs\" (02)\n",
        "- 1st Repetition (01)\n",
        "- 12th Actor (12) - Female (as the actor ID number is even)"
      ]
    },
    {
      "cell_type": "code",
      "execution_count": 56,
      "metadata": {
        "id": "2EqQ9fUPpsto"
      },
      "outputs": [],
      "source": [
        "labels = []\n",
        "\n",
        "for actor_directory in os.listdir(base_directory):\n",
        "    actor_path = os.path.join(base_directory, actor_directory)\n",
        "\n",
        "     #Check if it's a directory\n",
        "    if os.path.isdir(actor_path):\n",
        "\n",
        "        # Iterate over audio files in the actor's directory\n",
        "        for audio_file in os.listdir(actor_path):\n",
        "            # Split the file name using the \"-\" delimiter and take the third part as the emotion label\n",
        "            parts = audio_file.split(\"-\")\n",
        "            emotion_label = parts[2]\n",
        "            labels.append(emotion_label)"
      ]
    },
    {
      "cell_type": "code",
      "execution_count": 57,
      "metadata": {
        "id": "UzJGBcOnrhdB"
      },
      "outputs": [],
      "source": [
        "labels = np.array(labels)\n",
        "labels = labels.astype(np.int64)"
      ]
    },
    {
      "cell_type": "code",
      "execution_count": 58,
      "metadata": {
        "colab": {
          "base_uri": "https://localhost:8080/"
        },
        "id": "aEWFQ0DLrSH_",
        "outputId": "586af70c-242d-4a38-eb28-414f4c58d869"
      },
      "outputs": [
        {
          "output_type": "execute_result",
          "data": {
            "text/plain": [
              "(1440,)"
            ]
          },
          "metadata": {},
          "execution_count": 58
        }
      ],
      "source": [
        "labels.shape"
      ]
    },
    {
      "cell_type": "code",
      "execution_count": 82,
      "metadata": {
        "id": "WvZeMYNZKOnD"
      },
      "outputs": [],
      "source": [
        "# Split the dataset\n",
        "X_train, X_test, y_train, y_test = train_test_split(features_list, labels, test_size=0.2, random_state=42)"
      ]
    },
    {
      "cell_type": "code",
      "source": [
        "X_train.shape, y_train.shape, X_test.shape, y_test.shape"
      ],
      "metadata": {
        "id": "p6mMgE1UkYFh",
        "colab": {
          "base_uri": "https://localhost:8080/"
        },
        "outputId": "a44221ea-ff22-4c7b-ca9d-e1c860d0fc02"
      },
      "execution_count": 83,
      "outputs": [
        {
          "output_type": "execute_result",
          "data": {
            "text/plain": [
              "((1152, 163), (1152,), (288, 163), (288,))"
            ]
          },
          "metadata": {},
          "execution_count": 83
        }
      ]
    },
    {
      "cell_type": "code",
      "execution_count": 84,
      "metadata": {
        "colab": {
          "base_uri": "https://localhost:8080/",
          "height": 75
        },
        "id": "74WDB2gseUHP",
        "outputId": "759f8920-2f4a-4062-833b-a3a4d6db0952"
      },
      "outputs": [
        {
          "output_type": "execute_result",
          "data": {
            "text/plain": [
              "MLPClassifier(max_iter=1000, random_state=42)"
            ],
            "text/html": [
              "<style>#sk-container-id-3 {color: black;background-color: white;}#sk-container-id-3 pre{padding: 0;}#sk-container-id-3 div.sk-toggleable {background-color: white;}#sk-container-id-3 label.sk-toggleable__label {cursor: pointer;display: block;width: 100%;margin-bottom: 0;padding: 0.3em;box-sizing: border-box;text-align: center;}#sk-container-id-3 label.sk-toggleable__label-arrow:before {content: \"▸\";float: left;margin-right: 0.25em;color: #696969;}#sk-container-id-3 label.sk-toggleable__label-arrow:hover:before {color: black;}#sk-container-id-3 div.sk-estimator:hover label.sk-toggleable__label-arrow:before {color: black;}#sk-container-id-3 div.sk-toggleable__content {max-height: 0;max-width: 0;overflow: hidden;text-align: left;background-color: #f0f8ff;}#sk-container-id-3 div.sk-toggleable__content pre {margin: 0.2em;color: black;border-radius: 0.25em;background-color: #f0f8ff;}#sk-container-id-3 input.sk-toggleable__control:checked~div.sk-toggleable__content {max-height: 200px;max-width: 100%;overflow: auto;}#sk-container-id-3 input.sk-toggleable__control:checked~label.sk-toggleable__label-arrow:before {content: \"▾\";}#sk-container-id-3 div.sk-estimator input.sk-toggleable__control:checked~label.sk-toggleable__label {background-color: #d4ebff;}#sk-container-id-3 div.sk-label input.sk-toggleable__control:checked~label.sk-toggleable__label {background-color: #d4ebff;}#sk-container-id-3 input.sk-hidden--visually {border: 0;clip: rect(1px 1px 1px 1px);clip: rect(1px, 1px, 1px, 1px);height: 1px;margin: -1px;overflow: hidden;padding: 0;position: absolute;width: 1px;}#sk-container-id-3 div.sk-estimator {font-family: monospace;background-color: #f0f8ff;border: 1px dotted black;border-radius: 0.25em;box-sizing: border-box;margin-bottom: 0.5em;}#sk-container-id-3 div.sk-estimator:hover {background-color: #d4ebff;}#sk-container-id-3 div.sk-parallel-item::after {content: \"\";width: 100%;border-bottom: 1px solid gray;flex-grow: 1;}#sk-container-id-3 div.sk-label:hover label.sk-toggleable__label {background-color: #d4ebff;}#sk-container-id-3 div.sk-serial::before {content: \"\";position: absolute;border-left: 1px solid gray;box-sizing: border-box;top: 0;bottom: 0;left: 50%;z-index: 0;}#sk-container-id-3 div.sk-serial {display: flex;flex-direction: column;align-items: center;background-color: white;padding-right: 0.2em;padding-left: 0.2em;position: relative;}#sk-container-id-3 div.sk-item {position: relative;z-index: 1;}#sk-container-id-3 div.sk-parallel {display: flex;align-items: stretch;justify-content: center;background-color: white;position: relative;}#sk-container-id-3 div.sk-item::before, #sk-container-id-3 div.sk-parallel-item::before {content: \"\";position: absolute;border-left: 1px solid gray;box-sizing: border-box;top: 0;bottom: 0;left: 50%;z-index: -1;}#sk-container-id-3 div.sk-parallel-item {display: flex;flex-direction: column;z-index: 1;position: relative;background-color: white;}#sk-container-id-3 div.sk-parallel-item:first-child::after {align-self: flex-end;width: 50%;}#sk-container-id-3 div.sk-parallel-item:last-child::after {align-self: flex-start;width: 50%;}#sk-container-id-3 div.sk-parallel-item:only-child::after {width: 0;}#sk-container-id-3 div.sk-dashed-wrapped {border: 1px dashed gray;margin: 0 0.4em 0.5em 0.4em;box-sizing: border-box;padding-bottom: 0.4em;background-color: white;}#sk-container-id-3 div.sk-label label {font-family: monospace;font-weight: bold;display: inline-block;line-height: 1.2em;}#sk-container-id-3 div.sk-label-container {text-align: center;}#sk-container-id-3 div.sk-container {/* jupyter's `normalize.less` sets `[hidden] { display: none; }` but bootstrap.min.css set `[hidden] { display: none !important; }` so we also need the `!important` here to be able to override the default hidden behavior on the sphinx rendered scikit-learn.org. See: https://github.com/scikit-learn/scikit-learn/issues/21755 */display: inline-block !important;position: relative;}#sk-container-id-3 div.sk-text-repr-fallback {display: none;}</style><div id=\"sk-container-id-3\" class=\"sk-top-container\"><div class=\"sk-text-repr-fallback\"><pre>MLPClassifier(max_iter=1000, random_state=42)</pre><b>In a Jupyter environment, please rerun this cell to show the HTML representation or trust the notebook. <br />On GitHub, the HTML representation is unable to render, please try loading this page with nbviewer.org.</b></div><div class=\"sk-container\" hidden><div class=\"sk-item\"><div class=\"sk-estimator sk-toggleable\"><input class=\"sk-toggleable__control sk-hidden--visually\" id=\"sk-estimator-id-3\" type=\"checkbox\" checked><label for=\"sk-estimator-id-3\" class=\"sk-toggleable__label sk-toggleable__label-arrow\">MLPClassifier</label><div class=\"sk-toggleable__content\"><pre>MLPClassifier(max_iter=1000, random_state=42)</pre></div></div></div></div></div>"
            ]
          },
          "metadata": {},
          "execution_count": 84
        }
      ],
      "source": [
        "from sklearn.neighbors import KNeighborsClassifier\n",
        "from sklearn.ensemble import GradientBoostingClassifier\n",
        "from sklearn.neural_network import MLPClassifier\n",
        "from sklearn.preprocessing import StandardScaler\n",
        "\n",
        "# Initialize and train the SVM model\n",
        "svc_model = SVC()\n",
        "svc_model.fit(X_train, y_train)\n",
        "#\n",
        "#\n",
        "# Initialize and train the KNN model\n",
        "knn_model = KNeighborsClassifier(n_neighbors=5)\n",
        "knn_model.fit(X_train, y_train)\n",
        "#\n",
        "#\n",
        "# Initialize and train the Gradient Boosting model\n",
        "gb_model = GradientBoostingClassifier(n_estimators=100, random_state=42)\n",
        "gb_model.fit(X_train, y_train)\n",
        "#\n",
        "#\n",
        "# Standardize the data before training neural networks\n",
        "scaler = StandardScaler()\n",
        "X_train_scaled = scaler.fit_transform(X_train)\n",
        "#\n",
        "# Initialize and train the Neural Network model\n",
        "nn_model = MLPClassifier(hidden_layer_sizes=(100,), max_iter=1000, random_state=42)\n",
        "nn_model.fit(X_train, y_train)"
      ]
    },
    {
      "cell_type": "code",
      "execution_count": 85,
      "metadata": {
        "id": "AEDMrrSrK6Vg"
      },
      "outputs": [],
      "source": [
        "# Make predictions on the test set\n",
        "y_pred_svc = svc_model.predict(X_test)\n",
        "y_pred_knn = knn_model.predict(X_test)\n",
        "y_pred_gb = gb_model.predict(X_test)\n",
        "y_pred_nn = nn_model.predict(X_test)"
      ]
    },
    {
      "cell_type": "code",
      "execution_count": 86,
      "metadata": {
        "colab": {
          "base_uri": "https://localhost:8080/"
        },
        "id": "KJI5P260hW8S",
        "outputId": "2a2a6f98-a821-4672-dba6-7e30c7124e03"
      },
      "outputs": [
        {
          "output_type": "execute_result",
          "data": {
            "text/plain": [
              "((288,), (288,), (288,), (288,))"
            ]
          },
          "metadata": {},
          "execution_count": 86
        }
      ],
      "source": [
        "y_pred_svc.shape, y_pred_knn.shape,  y_pred_gb.shape, y_pred_nn.shape"
      ]
    },
    {
      "cell_type": "code",
      "execution_count": 87,
      "metadata": {
        "id": "kp-McQsOgGFn"
      },
      "outputs": [],
      "source": [
        "# Accuracies\n",
        "accuracy_svc = accuracy_score(y_test, y_pred_svc)\n",
        "accuracy_knn = accuracy_score(y_test, y_pred_knn)\n",
        "accuracy_gb  = accuracy_score(y_test, y_pred_gb)\n",
        "accuracy_nn  = accuracy_score(y_test, y_pred_nn)"
      ]
    },
    {
      "cell_type": "code",
      "execution_count": 88,
      "metadata": {
        "id": "3fioUCxmgiIg"
      },
      "outputs": [],
      "source": [
        "models = []\n",
        "accuracies = []\n",
        "\n",
        "models.append(svc_model)\n",
        "models.append(knn_model)\n",
        "models.append(gb_model)\n",
        "models.append(nn_model)\n",
        "\n",
        "accuracies.append(accuracy_svc)\n",
        "accuracies.append(accuracy_knn)\n",
        "accuracies.append(accuracy_gb)\n",
        "accuracies.append(accuracy_nn)\n",
        "\n",
        "model_accuracy_df = pd.DataFrame(models, columns=['Models'])\n",
        "model_accuracy_df['Accuracies'] = accuracies"
      ]
    },
    {
      "cell_type": "code",
      "execution_count": 89,
      "metadata": {
        "colab": {
          "base_uri": "https://localhost:8080/",
          "height": 175
        },
        "id": "7qVgbqDXi2OV",
        "outputId": "20798447-3faa-48c9-d40c-52fbd3ec5747"
      },
      "outputs": [
        {
          "output_type": "execute_result",
          "data": {
            "text/plain": [
              "                                              Models  Accuracies\n",
              "0                                              SVC()    0.125000\n",
              "1                             KNeighborsClassifier()    0.131944\n",
              "2  ([DecisionTreeRegressor(criterion='friedman_ms...    0.125000\n",
              "3      MLPClassifier(max_iter=1000, random_state=42)    0.118056"
            ],
            "text/html": [
              "\n",
              "  <div id=\"df-49673788-d05b-4184-a3b9-58c6eea448e5\" class=\"colab-df-container\">\n",
              "    <div>\n",
              "<style scoped>\n",
              "    .dataframe tbody tr th:only-of-type {\n",
              "        vertical-align: middle;\n",
              "    }\n",
              "\n",
              "    .dataframe tbody tr th {\n",
              "        vertical-align: top;\n",
              "    }\n",
              "\n",
              "    .dataframe thead th {\n",
              "        text-align: right;\n",
              "    }\n",
              "</style>\n",
              "<table border=\"1\" class=\"dataframe\">\n",
              "  <thead>\n",
              "    <tr style=\"text-align: right;\">\n",
              "      <th></th>\n",
              "      <th>Models</th>\n",
              "      <th>Accuracies</th>\n",
              "    </tr>\n",
              "  </thead>\n",
              "  <tbody>\n",
              "    <tr>\n",
              "      <th>0</th>\n",
              "      <td>SVC()</td>\n",
              "      <td>0.125000</td>\n",
              "    </tr>\n",
              "    <tr>\n",
              "      <th>1</th>\n",
              "      <td>KNeighborsClassifier()</td>\n",
              "      <td>0.131944</td>\n",
              "    </tr>\n",
              "    <tr>\n",
              "      <th>2</th>\n",
              "      <td>([DecisionTreeRegressor(criterion='friedman_ms...</td>\n",
              "      <td>0.125000</td>\n",
              "    </tr>\n",
              "    <tr>\n",
              "      <th>3</th>\n",
              "      <td>MLPClassifier(max_iter=1000, random_state=42)</td>\n",
              "      <td>0.118056</td>\n",
              "    </tr>\n",
              "  </tbody>\n",
              "</table>\n",
              "</div>\n",
              "    <div class=\"colab-df-buttons\">\n",
              "\n",
              "  <div class=\"colab-df-container\">\n",
              "    <button class=\"colab-df-convert\" onclick=\"convertToInteractive('df-49673788-d05b-4184-a3b9-58c6eea448e5')\"\n",
              "            title=\"Convert this dataframe to an interactive table.\"\n",
              "            style=\"display:none;\">\n",
              "\n",
              "  <svg xmlns=\"http://www.w3.org/2000/svg\" height=\"24px\" viewBox=\"0 -960 960 960\">\n",
              "    <path d=\"M120-120v-720h720v720H120Zm60-500h600v-160H180v160Zm220 220h160v-160H400v160Zm0 220h160v-160H400v160ZM180-400h160v-160H180v160Zm440 0h160v-160H620v160ZM180-180h160v-160H180v160Zm440 0h160v-160H620v160Z\"/>\n",
              "  </svg>\n",
              "    </button>\n",
              "\n",
              "  <style>\n",
              "    .colab-df-container {\n",
              "      display:flex;\n",
              "      gap: 12px;\n",
              "    }\n",
              "\n",
              "    .colab-df-convert {\n",
              "      background-color: #E8F0FE;\n",
              "      border: none;\n",
              "      border-radius: 50%;\n",
              "      cursor: pointer;\n",
              "      display: none;\n",
              "      fill: #1967D2;\n",
              "      height: 32px;\n",
              "      padding: 0 0 0 0;\n",
              "      width: 32px;\n",
              "    }\n",
              "\n",
              "    .colab-df-convert:hover {\n",
              "      background-color: #E2EBFA;\n",
              "      box-shadow: 0px 1px 2px rgba(60, 64, 67, 0.3), 0px 1px 3px 1px rgba(60, 64, 67, 0.15);\n",
              "      fill: #174EA6;\n",
              "    }\n",
              "\n",
              "    .colab-df-buttons div {\n",
              "      margin-bottom: 4px;\n",
              "    }\n",
              "\n",
              "    [theme=dark] .colab-df-convert {\n",
              "      background-color: #3B4455;\n",
              "      fill: #D2E3FC;\n",
              "    }\n",
              "\n",
              "    [theme=dark] .colab-df-convert:hover {\n",
              "      background-color: #434B5C;\n",
              "      box-shadow: 0px 1px 3px 1px rgba(0, 0, 0, 0.15);\n",
              "      filter: drop-shadow(0px 1px 2px rgba(0, 0, 0, 0.3));\n",
              "      fill: #FFFFFF;\n",
              "    }\n",
              "  </style>\n",
              "\n",
              "    <script>\n",
              "      const buttonEl =\n",
              "        document.querySelector('#df-49673788-d05b-4184-a3b9-58c6eea448e5 button.colab-df-convert');\n",
              "      buttonEl.style.display =\n",
              "        google.colab.kernel.accessAllowed ? 'block' : 'none';\n",
              "\n",
              "      async function convertToInteractive(key) {\n",
              "        const element = document.querySelector('#df-49673788-d05b-4184-a3b9-58c6eea448e5');\n",
              "        const dataTable =\n",
              "          await google.colab.kernel.invokeFunction('convertToInteractive',\n",
              "                                                    [key], {});\n",
              "        if (!dataTable) return;\n",
              "\n",
              "        const docLinkHtml = 'Like what you see? Visit the ' +\n",
              "          '<a target=\"_blank\" href=https://colab.research.google.com/notebooks/data_table.ipynb>data table notebook</a>'\n",
              "          + ' to learn more about interactive tables.';\n",
              "        element.innerHTML = '';\n",
              "        dataTable['output_type'] = 'display_data';\n",
              "        await google.colab.output.renderOutput(dataTable, element);\n",
              "        const docLink = document.createElement('div');\n",
              "        docLink.innerHTML = docLinkHtml;\n",
              "        element.appendChild(docLink);\n",
              "      }\n",
              "    </script>\n",
              "  </div>\n",
              "\n",
              "\n",
              "<div id=\"df-e39ecfd3-2433-4f81-a261-8c4f1eea98c1\">\n",
              "  <button class=\"colab-df-quickchart\" onclick=\"quickchart('df-e39ecfd3-2433-4f81-a261-8c4f1eea98c1')\"\n",
              "            title=\"Suggest charts\"\n",
              "            style=\"display:none;\">\n",
              "\n",
              "<svg xmlns=\"http://www.w3.org/2000/svg\" height=\"24px\"viewBox=\"0 0 24 24\"\n",
              "     width=\"24px\">\n",
              "    <g>\n",
              "        <path d=\"M19 3H5c-1.1 0-2 .9-2 2v14c0 1.1.9 2 2 2h14c1.1 0 2-.9 2-2V5c0-1.1-.9-2-2-2zM9 17H7v-7h2v7zm4 0h-2V7h2v10zm4 0h-2v-4h2v4z\"/>\n",
              "    </g>\n",
              "</svg>\n",
              "  </button>\n",
              "\n",
              "<style>\n",
              "  .colab-df-quickchart {\n",
              "      --bg-color: #E8F0FE;\n",
              "      --fill-color: #1967D2;\n",
              "      --hover-bg-color: #E2EBFA;\n",
              "      --hover-fill-color: #174EA6;\n",
              "      --disabled-fill-color: #AAA;\n",
              "      --disabled-bg-color: #DDD;\n",
              "  }\n",
              "\n",
              "  [theme=dark] .colab-df-quickchart {\n",
              "      --bg-color: #3B4455;\n",
              "      --fill-color: #D2E3FC;\n",
              "      --hover-bg-color: #434B5C;\n",
              "      --hover-fill-color: #FFFFFF;\n",
              "      --disabled-bg-color: #3B4455;\n",
              "      --disabled-fill-color: #666;\n",
              "  }\n",
              "\n",
              "  .colab-df-quickchart {\n",
              "    background-color: var(--bg-color);\n",
              "    border: none;\n",
              "    border-radius: 50%;\n",
              "    cursor: pointer;\n",
              "    display: none;\n",
              "    fill: var(--fill-color);\n",
              "    height: 32px;\n",
              "    padding: 0;\n",
              "    width: 32px;\n",
              "  }\n",
              "\n",
              "  .colab-df-quickchart:hover {\n",
              "    background-color: var(--hover-bg-color);\n",
              "    box-shadow: 0 1px 2px rgba(60, 64, 67, 0.3), 0 1px 3px 1px rgba(60, 64, 67, 0.15);\n",
              "    fill: var(--button-hover-fill-color);\n",
              "  }\n",
              "\n",
              "  .colab-df-quickchart-complete:disabled,\n",
              "  .colab-df-quickchart-complete:disabled:hover {\n",
              "    background-color: var(--disabled-bg-color);\n",
              "    fill: var(--disabled-fill-color);\n",
              "    box-shadow: none;\n",
              "  }\n",
              "\n",
              "  .colab-df-spinner {\n",
              "    border: 2px solid var(--fill-color);\n",
              "    border-color: transparent;\n",
              "    border-bottom-color: var(--fill-color);\n",
              "    animation:\n",
              "      spin 1s steps(1) infinite;\n",
              "  }\n",
              "\n",
              "  @keyframes spin {\n",
              "    0% {\n",
              "      border-color: transparent;\n",
              "      border-bottom-color: var(--fill-color);\n",
              "      border-left-color: var(--fill-color);\n",
              "    }\n",
              "    20% {\n",
              "      border-color: transparent;\n",
              "      border-left-color: var(--fill-color);\n",
              "      border-top-color: var(--fill-color);\n",
              "    }\n",
              "    30% {\n",
              "      border-color: transparent;\n",
              "      border-left-color: var(--fill-color);\n",
              "      border-top-color: var(--fill-color);\n",
              "      border-right-color: var(--fill-color);\n",
              "    }\n",
              "    40% {\n",
              "      border-color: transparent;\n",
              "      border-right-color: var(--fill-color);\n",
              "      border-top-color: var(--fill-color);\n",
              "    }\n",
              "    60% {\n",
              "      border-color: transparent;\n",
              "      border-right-color: var(--fill-color);\n",
              "    }\n",
              "    80% {\n",
              "      border-color: transparent;\n",
              "      border-right-color: var(--fill-color);\n",
              "      border-bottom-color: var(--fill-color);\n",
              "    }\n",
              "    90% {\n",
              "      border-color: transparent;\n",
              "      border-bottom-color: var(--fill-color);\n",
              "    }\n",
              "  }\n",
              "</style>\n",
              "\n",
              "  <script>\n",
              "    async function quickchart(key) {\n",
              "      const quickchartButtonEl =\n",
              "        document.querySelector('#' + key + ' button');\n",
              "      quickchartButtonEl.disabled = true;  // To prevent multiple clicks.\n",
              "      quickchartButtonEl.classList.add('colab-df-spinner');\n",
              "      try {\n",
              "        const charts = await google.colab.kernel.invokeFunction(\n",
              "            'suggestCharts', [key], {});\n",
              "      } catch (error) {\n",
              "        console.error('Error during call to suggestCharts:', error);\n",
              "      }\n",
              "      quickchartButtonEl.classList.remove('colab-df-spinner');\n",
              "      quickchartButtonEl.classList.add('colab-df-quickchart-complete');\n",
              "    }\n",
              "    (() => {\n",
              "      let quickchartButtonEl =\n",
              "        document.querySelector('#df-e39ecfd3-2433-4f81-a261-8c4f1eea98c1 button');\n",
              "      quickchartButtonEl.style.display =\n",
              "        google.colab.kernel.accessAllowed ? 'block' : 'none';\n",
              "    })();\n",
              "  </script>\n",
              "</div>\n",
              "    </div>\n",
              "  </div>\n"
            ]
          },
          "metadata": {},
          "execution_count": 89
        }
      ],
      "source": [
        "model_accuracy_df"
      ]
    },
    {
      "cell_type": "code",
      "source": [
        "evaluate_model(svc_model, X_test, y_test)"
      ],
      "metadata": {
        "colab": {
          "base_uri": "https://localhost:8080/"
        },
        "id": "CqWiAnkbZNbB",
        "outputId": "0abe1db0-b625-4a94-8a27-a5b2066d6448"
      },
      "execution_count": 90,
      "outputs": [
        {
          "output_type": "stream",
          "name": "stdout",
          "text": [
            "Accuracy: 0.12\n",
            "Precision: 0.03\n",
            "Recall: 0.12\n"
          ]
        },
        {
          "output_type": "stream",
          "name": "stderr",
          "text": [
            "/usr/local/lib/python3.10/dist-packages/sklearn/metrics/_classification.py:1344: UndefinedMetricWarning: Precision is ill-defined and being set to 0.0 in labels with no predicted samples. Use `zero_division` parameter to control this behavior.\n",
            "  _warn_prf(average, modifier, msg_start, len(result))\n"
          ]
        }
      ]
    },
    {
      "cell_type": "code",
      "source": [
        "evaluate_model(knn_model, X_test, y_test)"
      ],
      "metadata": {
        "colab": {
          "base_uri": "https://localhost:8080/"
        },
        "id": "VVnRkUQsZWbS",
        "outputId": "f89b8cae-cac8-4c14-bb62-73b662e103ad"
      },
      "execution_count": 91,
      "outputs": [
        {
          "output_type": "stream",
          "name": "stdout",
          "text": [
            "Accuracy: 0.13\n",
            "Precision: 0.14\n",
            "Recall: 0.13\n"
          ]
        }
      ]
    },
    {
      "cell_type": "code",
      "source": [
        "evaluate_model(gb_model, X_test, y_test)"
      ],
      "metadata": {
        "colab": {
          "base_uri": "https://localhost:8080/"
        },
        "id": "ImMK-WmwZYbt",
        "outputId": "9dae976b-8d79-445b-c703-12dd2311bc13"
      },
      "execution_count": 92,
      "outputs": [
        {
          "output_type": "stream",
          "name": "stdout",
          "text": [
            "Accuracy: 0.12\n",
            "Precision: 0.14\n",
            "Recall: 0.12\n"
          ]
        }
      ]
    },
    {
      "cell_type": "code",
      "source": [
        "evaluate_model(nn_model, X_test, y_test)"
      ],
      "metadata": {
        "colab": {
          "base_uri": "https://localhost:8080/"
        },
        "id": "fAH-qoZ1ZY4l",
        "outputId": "d918cff0-04eb-4b1a-9225-ecb2fb44cd0a"
      },
      "execution_count": 93,
      "outputs": [
        {
          "output_type": "stream",
          "name": "stdout",
          "text": [
            "Accuracy: 0.12\n",
            "Precision: 0.26\n",
            "Recall: 0.12\n"
          ]
        }
      ]
    },
    {
      "cell_type": "markdown",
      "metadata": {
        "id": "l4VXWFX4TZI4"
      },
      "source": [
        "## Training with DNN & CNN"
      ]
    },
    {
      "cell_type": "code",
      "execution_count": 67,
      "metadata": {
        "id": "MWTCTvSxTYt9"
      },
      "outputs": [],
      "source": [
        "import tensorflow as tf\n",
        "from keras.callbacks import ModelCheckpoint\n",
        "from keras.callbacks import EarlyStopping\n",
        "from keras.models import load_model, Sequential\n",
        "from keras.layers import Dense, Conv1D, MaxPooling1D, Flatten, Dropout, BatchNormalization"
      ]
    },
    {
      "cell_type": "code",
      "execution_count": null,
      "metadata": {
        "id": "gFDiInOpXVCa"
      },
      "outputs": [],
      "source": [
        "Y = []\n",
        "for i in range(labels.size):\n",
        "  Y.append(labels[i])\n",
        "  print(labels[i])"
      ]
    },
    {
      "cell_type": "code",
      "execution_count": 70,
      "metadata": {
        "id": "zbwLauNWLEE_",
        "colab": {
          "base_uri": "https://localhost:8080/",
          "height": 273
        },
        "outputId": "85121589-d5e6-482b-c2b6-ec47256f05f9"
      },
      "outputs": [
        {
          "output_type": "display_data",
          "data": {
            "text/plain": [
              "(1440, 163)"
            ]
          },
          "metadata": {}
        },
        {
          "output_type": "execute_result",
          "data": {
            "text/plain": [
              "          0            1           2          3          4          5  \\\n",
              "0  0.015590  2359.366241 -208.273560  89.854431  -0.399094  14.259480   \n",
              "1  0.027211  2873.141300 -233.682907  54.201939 -42.221653  -8.864537   \n",
              "2  0.020437  2451.230829 -229.271774  81.578712 -15.898536   4.124753   \n",
              "3  0.029866  2567.577215 -300.859375  54.260342 -19.303511 -14.797507   \n",
              "4  0.051824  2395.432552 -292.635834  75.562431 -10.977731   6.486813   \n",
              "\n",
              "           6          7          8          9  ...       154       155  \\\n",
              "0   0.927006 -15.150222 -29.026369 -20.663843  ...  0.261952  0.371146   \n",
              "1 -27.124542 -19.605547 -26.083790 -25.154341  ...  0.319638  0.269098   \n",
              "2 -11.104682  -9.099755 -14.235247 -18.107231  ...  0.223396  0.322899   \n",
              "3  -5.196321 -12.631860  -2.844977  -9.011701  ...  0.433330  0.471171   \n",
              "4 -10.175301  -9.160280 -17.109917 -20.804441  ...  0.185087  0.145661   \n",
              "\n",
              "        156       157       158       159       160       161       162  \\\n",
              "0  0.311541  0.289091  0.260965  0.304645  0.344578  0.438309  0.142519   \n",
              "1  0.243161  0.204709  0.233565  0.253287  0.290850  0.432384  0.102915   \n",
              "2  0.363582  0.383765  0.321178  0.409338  0.462555  0.329800  0.109992   \n",
              "3  0.397246  0.382974  0.434768  0.423909  0.372479  0.289241  0.085606   \n",
              "4  0.192005  0.377488  0.650379  0.518315  0.329968  0.273704  0.082426   \n",
              "\n",
              "   labels  \n",
              "0       7  \n",
              "1       4  \n",
              "2       8  \n",
              "3       6  \n",
              "4       8  \n",
              "\n",
              "[5 rows x 164 columns]"
            ],
            "text/html": [
              "\n",
              "  <div id=\"df-223f7029-0499-450c-a7b0-0f558d85ba70\" class=\"colab-df-container\">\n",
              "    <div>\n",
              "<style scoped>\n",
              "    .dataframe tbody tr th:only-of-type {\n",
              "        vertical-align: middle;\n",
              "    }\n",
              "\n",
              "    .dataframe tbody tr th {\n",
              "        vertical-align: top;\n",
              "    }\n",
              "\n",
              "    .dataframe thead th {\n",
              "        text-align: right;\n",
              "    }\n",
              "</style>\n",
              "<table border=\"1\" class=\"dataframe\">\n",
              "  <thead>\n",
              "    <tr style=\"text-align: right;\">\n",
              "      <th></th>\n",
              "      <th>0</th>\n",
              "      <th>1</th>\n",
              "      <th>2</th>\n",
              "      <th>3</th>\n",
              "      <th>4</th>\n",
              "      <th>5</th>\n",
              "      <th>6</th>\n",
              "      <th>7</th>\n",
              "      <th>8</th>\n",
              "      <th>9</th>\n",
              "      <th>...</th>\n",
              "      <th>154</th>\n",
              "      <th>155</th>\n",
              "      <th>156</th>\n",
              "      <th>157</th>\n",
              "      <th>158</th>\n",
              "      <th>159</th>\n",
              "      <th>160</th>\n",
              "      <th>161</th>\n",
              "      <th>162</th>\n",
              "      <th>labels</th>\n",
              "    </tr>\n",
              "  </thead>\n",
              "  <tbody>\n",
              "    <tr>\n",
              "      <th>0</th>\n",
              "      <td>0.015590</td>\n",
              "      <td>2359.366241</td>\n",
              "      <td>-208.273560</td>\n",
              "      <td>89.854431</td>\n",
              "      <td>-0.399094</td>\n",
              "      <td>14.259480</td>\n",
              "      <td>0.927006</td>\n",
              "      <td>-15.150222</td>\n",
              "      <td>-29.026369</td>\n",
              "      <td>-20.663843</td>\n",
              "      <td>...</td>\n",
              "      <td>0.261952</td>\n",
              "      <td>0.371146</td>\n",
              "      <td>0.311541</td>\n",
              "      <td>0.289091</td>\n",
              "      <td>0.260965</td>\n",
              "      <td>0.304645</td>\n",
              "      <td>0.344578</td>\n",
              "      <td>0.438309</td>\n",
              "      <td>0.142519</td>\n",
              "      <td>7</td>\n",
              "    </tr>\n",
              "    <tr>\n",
              "      <th>1</th>\n",
              "      <td>0.027211</td>\n",
              "      <td>2873.141300</td>\n",
              "      <td>-233.682907</td>\n",
              "      <td>54.201939</td>\n",
              "      <td>-42.221653</td>\n",
              "      <td>-8.864537</td>\n",
              "      <td>-27.124542</td>\n",
              "      <td>-19.605547</td>\n",
              "      <td>-26.083790</td>\n",
              "      <td>-25.154341</td>\n",
              "      <td>...</td>\n",
              "      <td>0.319638</td>\n",
              "      <td>0.269098</td>\n",
              "      <td>0.243161</td>\n",
              "      <td>0.204709</td>\n",
              "      <td>0.233565</td>\n",
              "      <td>0.253287</td>\n",
              "      <td>0.290850</td>\n",
              "      <td>0.432384</td>\n",
              "      <td>0.102915</td>\n",
              "      <td>4</td>\n",
              "    </tr>\n",
              "    <tr>\n",
              "      <th>2</th>\n",
              "      <td>0.020437</td>\n",
              "      <td>2451.230829</td>\n",
              "      <td>-229.271774</td>\n",
              "      <td>81.578712</td>\n",
              "      <td>-15.898536</td>\n",
              "      <td>4.124753</td>\n",
              "      <td>-11.104682</td>\n",
              "      <td>-9.099755</td>\n",
              "      <td>-14.235247</td>\n",
              "      <td>-18.107231</td>\n",
              "      <td>...</td>\n",
              "      <td>0.223396</td>\n",
              "      <td>0.322899</td>\n",
              "      <td>0.363582</td>\n",
              "      <td>0.383765</td>\n",
              "      <td>0.321178</td>\n",
              "      <td>0.409338</td>\n",
              "      <td>0.462555</td>\n",
              "      <td>0.329800</td>\n",
              "      <td>0.109992</td>\n",
              "      <td>8</td>\n",
              "    </tr>\n",
              "    <tr>\n",
              "      <th>3</th>\n",
              "      <td>0.029866</td>\n",
              "      <td>2567.577215</td>\n",
              "      <td>-300.859375</td>\n",
              "      <td>54.260342</td>\n",
              "      <td>-19.303511</td>\n",
              "      <td>-14.797507</td>\n",
              "      <td>-5.196321</td>\n",
              "      <td>-12.631860</td>\n",
              "      <td>-2.844977</td>\n",
              "      <td>-9.011701</td>\n",
              "      <td>...</td>\n",
              "      <td>0.433330</td>\n",
              "      <td>0.471171</td>\n",
              "      <td>0.397246</td>\n",
              "      <td>0.382974</td>\n",
              "      <td>0.434768</td>\n",
              "      <td>0.423909</td>\n",
              "      <td>0.372479</td>\n",
              "      <td>0.289241</td>\n",
              "      <td>0.085606</td>\n",
              "      <td>6</td>\n",
              "    </tr>\n",
              "    <tr>\n",
              "      <th>4</th>\n",
              "      <td>0.051824</td>\n",
              "      <td>2395.432552</td>\n",
              "      <td>-292.635834</td>\n",
              "      <td>75.562431</td>\n",
              "      <td>-10.977731</td>\n",
              "      <td>6.486813</td>\n",
              "      <td>-10.175301</td>\n",
              "      <td>-9.160280</td>\n",
              "      <td>-17.109917</td>\n",
              "      <td>-20.804441</td>\n",
              "      <td>...</td>\n",
              "      <td>0.185087</td>\n",
              "      <td>0.145661</td>\n",
              "      <td>0.192005</td>\n",
              "      <td>0.377488</td>\n",
              "      <td>0.650379</td>\n",
              "      <td>0.518315</td>\n",
              "      <td>0.329968</td>\n",
              "      <td>0.273704</td>\n",
              "      <td>0.082426</td>\n",
              "      <td>8</td>\n",
              "    </tr>\n",
              "  </tbody>\n",
              "</table>\n",
              "<p>5 rows × 164 columns</p>\n",
              "</div>\n",
              "    <div class=\"colab-df-buttons\">\n",
              "\n",
              "  <div class=\"colab-df-container\">\n",
              "    <button class=\"colab-df-convert\" onclick=\"convertToInteractive('df-223f7029-0499-450c-a7b0-0f558d85ba70')\"\n",
              "            title=\"Convert this dataframe to an interactive table.\"\n",
              "            style=\"display:none;\">\n",
              "\n",
              "  <svg xmlns=\"http://www.w3.org/2000/svg\" height=\"24px\" viewBox=\"0 -960 960 960\">\n",
              "    <path d=\"M120-120v-720h720v720H120Zm60-500h600v-160H180v160Zm220 220h160v-160H400v160Zm0 220h160v-160H400v160ZM180-400h160v-160H180v160Zm440 0h160v-160H620v160ZM180-180h160v-160H180v160Zm440 0h160v-160H620v160Z\"/>\n",
              "  </svg>\n",
              "    </button>\n",
              "\n",
              "  <style>\n",
              "    .colab-df-container {\n",
              "      display:flex;\n",
              "      gap: 12px;\n",
              "    }\n",
              "\n",
              "    .colab-df-convert {\n",
              "      background-color: #E8F0FE;\n",
              "      border: none;\n",
              "      border-radius: 50%;\n",
              "      cursor: pointer;\n",
              "      display: none;\n",
              "      fill: #1967D2;\n",
              "      height: 32px;\n",
              "      padding: 0 0 0 0;\n",
              "      width: 32px;\n",
              "    }\n",
              "\n",
              "    .colab-df-convert:hover {\n",
              "      background-color: #E2EBFA;\n",
              "      box-shadow: 0px 1px 2px rgba(60, 64, 67, 0.3), 0px 1px 3px 1px rgba(60, 64, 67, 0.15);\n",
              "      fill: #174EA6;\n",
              "    }\n",
              "\n",
              "    .colab-df-buttons div {\n",
              "      margin-bottom: 4px;\n",
              "    }\n",
              "\n",
              "    [theme=dark] .colab-df-convert {\n",
              "      background-color: #3B4455;\n",
              "      fill: #D2E3FC;\n",
              "    }\n",
              "\n",
              "    [theme=dark] .colab-df-convert:hover {\n",
              "      background-color: #434B5C;\n",
              "      box-shadow: 0px 1px 3px 1px rgba(0, 0, 0, 0.15);\n",
              "      filter: drop-shadow(0px 1px 2px rgba(0, 0, 0, 0.3));\n",
              "      fill: #FFFFFF;\n",
              "    }\n",
              "  </style>\n",
              "\n",
              "    <script>\n",
              "      const buttonEl =\n",
              "        document.querySelector('#df-223f7029-0499-450c-a7b0-0f558d85ba70 button.colab-df-convert');\n",
              "      buttonEl.style.display =\n",
              "        google.colab.kernel.accessAllowed ? 'block' : 'none';\n",
              "\n",
              "      async function convertToInteractive(key) {\n",
              "        const element = document.querySelector('#df-223f7029-0499-450c-a7b0-0f558d85ba70');\n",
              "        const dataTable =\n",
              "          await google.colab.kernel.invokeFunction('convertToInteractive',\n",
              "                                                    [key], {});\n",
              "        if (!dataTable) return;\n",
              "\n",
              "        const docLinkHtml = 'Like what you see? Visit the ' +\n",
              "          '<a target=\"_blank\" href=https://colab.research.google.com/notebooks/data_table.ipynb>data table notebook</a>'\n",
              "          + ' to learn more about interactive tables.';\n",
              "        element.innerHTML = '';\n",
              "        dataTable['output_type'] = 'display_data';\n",
              "        await google.colab.output.renderOutput(dataTable, element);\n",
              "        const docLink = document.createElement('div');\n",
              "        docLink.innerHTML = docLinkHtml;\n",
              "        element.appendChild(docLink);\n",
              "      }\n",
              "    </script>\n",
              "  </div>\n",
              "\n",
              "\n",
              "<div id=\"df-5e498d20-3b7c-43f6-b08a-092b15345bcc\">\n",
              "  <button class=\"colab-df-quickchart\" onclick=\"quickchart('df-5e498d20-3b7c-43f6-b08a-092b15345bcc')\"\n",
              "            title=\"Suggest charts\"\n",
              "            style=\"display:none;\">\n",
              "\n",
              "<svg xmlns=\"http://www.w3.org/2000/svg\" height=\"24px\"viewBox=\"0 0 24 24\"\n",
              "     width=\"24px\">\n",
              "    <g>\n",
              "        <path d=\"M19 3H5c-1.1 0-2 .9-2 2v14c0 1.1.9 2 2 2h14c1.1 0 2-.9 2-2V5c0-1.1-.9-2-2-2zM9 17H7v-7h2v7zm4 0h-2V7h2v10zm4 0h-2v-4h2v4z\"/>\n",
              "    </g>\n",
              "</svg>\n",
              "  </button>\n",
              "\n",
              "<style>\n",
              "  .colab-df-quickchart {\n",
              "      --bg-color: #E8F0FE;\n",
              "      --fill-color: #1967D2;\n",
              "      --hover-bg-color: #E2EBFA;\n",
              "      --hover-fill-color: #174EA6;\n",
              "      --disabled-fill-color: #AAA;\n",
              "      --disabled-bg-color: #DDD;\n",
              "  }\n",
              "\n",
              "  [theme=dark] .colab-df-quickchart {\n",
              "      --bg-color: #3B4455;\n",
              "      --fill-color: #D2E3FC;\n",
              "      --hover-bg-color: #434B5C;\n",
              "      --hover-fill-color: #FFFFFF;\n",
              "      --disabled-bg-color: #3B4455;\n",
              "      --disabled-fill-color: #666;\n",
              "  }\n",
              "\n",
              "  .colab-df-quickchart {\n",
              "    background-color: var(--bg-color);\n",
              "    border: none;\n",
              "    border-radius: 50%;\n",
              "    cursor: pointer;\n",
              "    display: none;\n",
              "    fill: var(--fill-color);\n",
              "    height: 32px;\n",
              "    padding: 0;\n",
              "    width: 32px;\n",
              "  }\n",
              "\n",
              "  .colab-df-quickchart:hover {\n",
              "    background-color: var(--hover-bg-color);\n",
              "    box-shadow: 0 1px 2px rgba(60, 64, 67, 0.3), 0 1px 3px 1px rgba(60, 64, 67, 0.15);\n",
              "    fill: var(--button-hover-fill-color);\n",
              "  }\n",
              "\n",
              "  .colab-df-quickchart-complete:disabled,\n",
              "  .colab-df-quickchart-complete:disabled:hover {\n",
              "    background-color: var(--disabled-bg-color);\n",
              "    fill: var(--disabled-fill-color);\n",
              "    box-shadow: none;\n",
              "  }\n",
              "\n",
              "  .colab-df-spinner {\n",
              "    border: 2px solid var(--fill-color);\n",
              "    border-color: transparent;\n",
              "    border-bottom-color: var(--fill-color);\n",
              "    animation:\n",
              "      spin 1s steps(1) infinite;\n",
              "  }\n",
              "\n",
              "  @keyframes spin {\n",
              "    0% {\n",
              "      border-color: transparent;\n",
              "      border-bottom-color: var(--fill-color);\n",
              "      border-left-color: var(--fill-color);\n",
              "    }\n",
              "    20% {\n",
              "      border-color: transparent;\n",
              "      border-left-color: var(--fill-color);\n",
              "      border-top-color: var(--fill-color);\n",
              "    }\n",
              "    30% {\n",
              "      border-color: transparent;\n",
              "      border-left-color: var(--fill-color);\n",
              "      border-top-color: var(--fill-color);\n",
              "      border-right-color: var(--fill-color);\n",
              "    }\n",
              "    40% {\n",
              "      border-color: transparent;\n",
              "      border-right-color: var(--fill-color);\n",
              "      border-top-color: var(--fill-color);\n",
              "    }\n",
              "    60% {\n",
              "      border-color: transparent;\n",
              "      border-right-color: var(--fill-color);\n",
              "    }\n",
              "    80% {\n",
              "      border-color: transparent;\n",
              "      border-right-color: var(--fill-color);\n",
              "      border-bottom-color: var(--fill-color);\n",
              "    }\n",
              "    90% {\n",
              "      border-color: transparent;\n",
              "      border-bottom-color: var(--fill-color);\n",
              "    }\n",
              "  }\n",
              "</style>\n",
              "\n",
              "  <script>\n",
              "    async function quickchart(key) {\n",
              "      const quickchartButtonEl =\n",
              "        document.querySelector('#' + key + ' button');\n",
              "      quickchartButtonEl.disabled = true;  // To prevent multiple clicks.\n",
              "      quickchartButtonEl.classList.add('colab-df-spinner');\n",
              "      try {\n",
              "        const charts = await google.colab.kernel.invokeFunction(\n",
              "            'suggestCharts', [key], {});\n",
              "      } catch (error) {\n",
              "        console.error('Error during call to suggestCharts:', error);\n",
              "      }\n",
              "      quickchartButtonEl.classList.remove('colab-df-spinner');\n",
              "      quickchartButtonEl.classList.add('colab-df-quickchart-complete');\n",
              "    }\n",
              "    (() => {\n",
              "      let quickchartButtonEl =\n",
              "        document.querySelector('#df-5e498d20-3b7c-43f6-b08a-092b15345bcc button');\n",
              "      quickchartButtonEl.style.display =\n",
              "        google.colab.kernel.accessAllowed ? 'block' : 'none';\n",
              "    })();\n",
              "  </script>\n",
              "</div>\n",
              "    </div>\n",
              "  </div>\n"
            ]
          },
          "metadata": {},
          "execution_count": 70
        }
      ],
      "source": [
        "# Reconstruction of the dataset with the lables from 01 to 07\n",
        "\n",
        "display(features_list.shape)\n",
        "df = pd.DataFrame(features_list)\n",
        "df['labels'] = Y\n",
        "df.to_csv('features.csv', index=False)\n",
        "df.head()"
      ]
    },
    {
      "cell_type": "code",
      "execution_count": 71,
      "metadata": {
        "id": "_8agDCOaOGOk",
        "colab": {
          "base_uri": "https://localhost:8080/",
          "height": 256
        },
        "outputId": "a747df1f-a4ac-4cb1-b2b7-d7244f989e29"
      },
      "outputs": [
        {
          "output_type": "execute_result",
          "data": {
            "text/plain": [
              "        0            1           2          3          4          5    \\\n",
              "0  0.015590  2359.366241 -208.273560  89.854431  -0.399094  14.259480   \n",
              "1  0.027211  2873.141300 -233.682907  54.201939 -42.221653  -8.864537   \n",
              "2  0.020437  2451.230829 -229.271774  81.578712 -15.898536   4.124753   \n",
              "3  0.029866  2567.577215 -300.859375  54.260342 -19.303511 -14.797507   \n",
              "4  0.051824  2395.432552 -292.635834  75.562431 -10.977731   6.486813   \n",
              "\n",
              "         6          7          8          9    ...       153       154  \\\n",
              "0   0.927006 -15.150222 -29.026369 -20.663843  ...  0.184096  0.261952   \n",
              "1 -27.124542 -19.605547 -26.083790 -25.154341  ...  0.401617  0.319638   \n",
              "2 -11.104682  -9.099755 -14.235247 -18.107231  ...  0.135924  0.223396   \n",
              "3  -5.196321 -12.631860  -2.844977  -9.011701  ...  0.458210  0.433330   \n",
              "4 -10.175301  -9.160280 -17.109917 -20.804441  ...  0.307384  0.185087   \n",
              "\n",
              "        155       156       157       158       159       160       161  \\\n",
              "0  0.371146  0.311541  0.289091  0.260965  0.304645  0.344578  0.438309   \n",
              "1  0.269098  0.243161  0.204709  0.233565  0.253287  0.290850  0.432384   \n",
              "2  0.322899  0.363582  0.383765  0.321178  0.409338  0.462555  0.329800   \n",
              "3  0.471171  0.397246  0.382974  0.434768  0.423909  0.372479  0.289241   \n",
              "4  0.145661  0.192005  0.377488  0.650379  0.518315  0.329968  0.273704   \n",
              "\n",
              "        162  \n",
              "0  0.142519  \n",
              "1  0.102915  \n",
              "2  0.109992  \n",
              "3  0.085606  \n",
              "4  0.082426  \n",
              "\n",
              "[5 rows x 163 columns]"
            ],
            "text/html": [
              "\n",
              "  <div id=\"df-d6781139-6154-4c60-b5e4-a36cdaa90492\" class=\"colab-df-container\">\n",
              "    <div>\n",
              "<style scoped>\n",
              "    .dataframe tbody tr th:only-of-type {\n",
              "        vertical-align: middle;\n",
              "    }\n",
              "\n",
              "    .dataframe tbody tr th {\n",
              "        vertical-align: top;\n",
              "    }\n",
              "\n",
              "    .dataframe thead th {\n",
              "        text-align: right;\n",
              "    }\n",
              "</style>\n",
              "<table border=\"1\" class=\"dataframe\">\n",
              "  <thead>\n",
              "    <tr style=\"text-align: right;\">\n",
              "      <th></th>\n",
              "      <th>0</th>\n",
              "      <th>1</th>\n",
              "      <th>2</th>\n",
              "      <th>3</th>\n",
              "      <th>4</th>\n",
              "      <th>5</th>\n",
              "      <th>6</th>\n",
              "      <th>7</th>\n",
              "      <th>8</th>\n",
              "      <th>9</th>\n",
              "      <th>...</th>\n",
              "      <th>153</th>\n",
              "      <th>154</th>\n",
              "      <th>155</th>\n",
              "      <th>156</th>\n",
              "      <th>157</th>\n",
              "      <th>158</th>\n",
              "      <th>159</th>\n",
              "      <th>160</th>\n",
              "      <th>161</th>\n",
              "      <th>162</th>\n",
              "    </tr>\n",
              "  </thead>\n",
              "  <tbody>\n",
              "    <tr>\n",
              "      <th>0</th>\n",
              "      <td>0.015590</td>\n",
              "      <td>2359.366241</td>\n",
              "      <td>-208.273560</td>\n",
              "      <td>89.854431</td>\n",
              "      <td>-0.399094</td>\n",
              "      <td>14.259480</td>\n",
              "      <td>0.927006</td>\n",
              "      <td>-15.150222</td>\n",
              "      <td>-29.026369</td>\n",
              "      <td>-20.663843</td>\n",
              "      <td>...</td>\n",
              "      <td>0.184096</td>\n",
              "      <td>0.261952</td>\n",
              "      <td>0.371146</td>\n",
              "      <td>0.311541</td>\n",
              "      <td>0.289091</td>\n",
              "      <td>0.260965</td>\n",
              "      <td>0.304645</td>\n",
              "      <td>0.344578</td>\n",
              "      <td>0.438309</td>\n",
              "      <td>0.142519</td>\n",
              "    </tr>\n",
              "    <tr>\n",
              "      <th>1</th>\n",
              "      <td>0.027211</td>\n",
              "      <td>2873.141300</td>\n",
              "      <td>-233.682907</td>\n",
              "      <td>54.201939</td>\n",
              "      <td>-42.221653</td>\n",
              "      <td>-8.864537</td>\n",
              "      <td>-27.124542</td>\n",
              "      <td>-19.605547</td>\n",
              "      <td>-26.083790</td>\n",
              "      <td>-25.154341</td>\n",
              "      <td>...</td>\n",
              "      <td>0.401617</td>\n",
              "      <td>0.319638</td>\n",
              "      <td>0.269098</td>\n",
              "      <td>0.243161</td>\n",
              "      <td>0.204709</td>\n",
              "      <td>0.233565</td>\n",
              "      <td>0.253287</td>\n",
              "      <td>0.290850</td>\n",
              "      <td>0.432384</td>\n",
              "      <td>0.102915</td>\n",
              "    </tr>\n",
              "    <tr>\n",
              "      <th>2</th>\n",
              "      <td>0.020437</td>\n",
              "      <td>2451.230829</td>\n",
              "      <td>-229.271774</td>\n",
              "      <td>81.578712</td>\n",
              "      <td>-15.898536</td>\n",
              "      <td>4.124753</td>\n",
              "      <td>-11.104682</td>\n",
              "      <td>-9.099755</td>\n",
              "      <td>-14.235247</td>\n",
              "      <td>-18.107231</td>\n",
              "      <td>...</td>\n",
              "      <td>0.135924</td>\n",
              "      <td>0.223396</td>\n",
              "      <td>0.322899</td>\n",
              "      <td>0.363582</td>\n",
              "      <td>0.383765</td>\n",
              "      <td>0.321178</td>\n",
              "      <td>0.409338</td>\n",
              "      <td>0.462555</td>\n",
              "      <td>0.329800</td>\n",
              "      <td>0.109992</td>\n",
              "    </tr>\n",
              "    <tr>\n",
              "      <th>3</th>\n",
              "      <td>0.029866</td>\n",
              "      <td>2567.577215</td>\n",
              "      <td>-300.859375</td>\n",
              "      <td>54.260342</td>\n",
              "      <td>-19.303511</td>\n",
              "      <td>-14.797507</td>\n",
              "      <td>-5.196321</td>\n",
              "      <td>-12.631860</td>\n",
              "      <td>-2.844977</td>\n",
              "      <td>-9.011701</td>\n",
              "      <td>...</td>\n",
              "      <td>0.458210</td>\n",
              "      <td>0.433330</td>\n",
              "      <td>0.471171</td>\n",
              "      <td>0.397246</td>\n",
              "      <td>0.382974</td>\n",
              "      <td>0.434768</td>\n",
              "      <td>0.423909</td>\n",
              "      <td>0.372479</td>\n",
              "      <td>0.289241</td>\n",
              "      <td>0.085606</td>\n",
              "    </tr>\n",
              "    <tr>\n",
              "      <th>4</th>\n",
              "      <td>0.051824</td>\n",
              "      <td>2395.432552</td>\n",
              "      <td>-292.635834</td>\n",
              "      <td>75.562431</td>\n",
              "      <td>-10.977731</td>\n",
              "      <td>6.486813</td>\n",
              "      <td>-10.175301</td>\n",
              "      <td>-9.160280</td>\n",
              "      <td>-17.109917</td>\n",
              "      <td>-20.804441</td>\n",
              "      <td>...</td>\n",
              "      <td>0.307384</td>\n",
              "      <td>0.185087</td>\n",
              "      <td>0.145661</td>\n",
              "      <td>0.192005</td>\n",
              "      <td>0.377488</td>\n",
              "      <td>0.650379</td>\n",
              "      <td>0.518315</td>\n",
              "      <td>0.329968</td>\n",
              "      <td>0.273704</td>\n",
              "      <td>0.082426</td>\n",
              "    </tr>\n",
              "  </tbody>\n",
              "</table>\n",
              "<p>5 rows × 163 columns</p>\n",
              "</div>\n",
              "    <div class=\"colab-df-buttons\">\n",
              "\n",
              "  <div class=\"colab-df-container\">\n",
              "    <button class=\"colab-df-convert\" onclick=\"convertToInteractive('df-d6781139-6154-4c60-b5e4-a36cdaa90492')\"\n",
              "            title=\"Convert this dataframe to an interactive table.\"\n",
              "            style=\"display:none;\">\n",
              "\n",
              "  <svg xmlns=\"http://www.w3.org/2000/svg\" height=\"24px\" viewBox=\"0 -960 960 960\">\n",
              "    <path d=\"M120-120v-720h720v720H120Zm60-500h600v-160H180v160Zm220 220h160v-160H400v160Zm0 220h160v-160H400v160ZM180-400h160v-160H180v160Zm440 0h160v-160H620v160ZM180-180h160v-160H180v160Zm440 0h160v-160H620v160Z\"/>\n",
              "  </svg>\n",
              "    </button>\n",
              "\n",
              "  <style>\n",
              "    .colab-df-container {\n",
              "      display:flex;\n",
              "      gap: 12px;\n",
              "    }\n",
              "\n",
              "    .colab-df-convert {\n",
              "      background-color: #E8F0FE;\n",
              "      border: none;\n",
              "      border-radius: 50%;\n",
              "      cursor: pointer;\n",
              "      display: none;\n",
              "      fill: #1967D2;\n",
              "      height: 32px;\n",
              "      padding: 0 0 0 0;\n",
              "      width: 32px;\n",
              "    }\n",
              "\n",
              "    .colab-df-convert:hover {\n",
              "      background-color: #E2EBFA;\n",
              "      box-shadow: 0px 1px 2px rgba(60, 64, 67, 0.3), 0px 1px 3px 1px rgba(60, 64, 67, 0.15);\n",
              "      fill: #174EA6;\n",
              "    }\n",
              "\n",
              "    .colab-df-buttons div {\n",
              "      margin-bottom: 4px;\n",
              "    }\n",
              "\n",
              "    [theme=dark] .colab-df-convert {\n",
              "      background-color: #3B4455;\n",
              "      fill: #D2E3FC;\n",
              "    }\n",
              "\n",
              "    [theme=dark] .colab-df-convert:hover {\n",
              "      background-color: #434B5C;\n",
              "      box-shadow: 0px 1px 3px 1px rgba(0, 0, 0, 0.15);\n",
              "      filter: drop-shadow(0px 1px 2px rgba(0, 0, 0, 0.3));\n",
              "      fill: #FFFFFF;\n",
              "    }\n",
              "  </style>\n",
              "\n",
              "    <script>\n",
              "      const buttonEl =\n",
              "        document.querySelector('#df-d6781139-6154-4c60-b5e4-a36cdaa90492 button.colab-df-convert');\n",
              "      buttonEl.style.display =\n",
              "        google.colab.kernel.accessAllowed ? 'block' : 'none';\n",
              "\n",
              "      async function convertToInteractive(key) {\n",
              "        const element = document.querySelector('#df-d6781139-6154-4c60-b5e4-a36cdaa90492');\n",
              "        const dataTable =\n",
              "          await google.colab.kernel.invokeFunction('convertToInteractive',\n",
              "                                                    [key], {});\n",
              "        if (!dataTable) return;\n",
              "\n",
              "        const docLinkHtml = 'Like what you see? Visit the ' +\n",
              "          '<a target=\"_blank\" href=https://colab.research.google.com/notebooks/data_table.ipynb>data table notebook</a>'\n",
              "          + ' to learn more about interactive tables.';\n",
              "        element.innerHTML = '';\n",
              "        dataTable['output_type'] = 'display_data';\n",
              "        await google.colab.output.renderOutput(dataTable, element);\n",
              "        const docLink = document.createElement('div');\n",
              "        docLink.innerHTML = docLinkHtml;\n",
              "        element.appendChild(docLink);\n",
              "      }\n",
              "    </script>\n",
              "  </div>\n",
              "\n",
              "\n",
              "<div id=\"df-fcbd8ba0-c8d5-4473-a84c-9f453c03825c\">\n",
              "  <button class=\"colab-df-quickchart\" onclick=\"quickchart('df-fcbd8ba0-c8d5-4473-a84c-9f453c03825c')\"\n",
              "            title=\"Suggest charts\"\n",
              "            style=\"display:none;\">\n",
              "\n",
              "<svg xmlns=\"http://www.w3.org/2000/svg\" height=\"24px\"viewBox=\"0 0 24 24\"\n",
              "     width=\"24px\">\n",
              "    <g>\n",
              "        <path d=\"M19 3H5c-1.1 0-2 .9-2 2v14c0 1.1.9 2 2 2h14c1.1 0 2-.9 2-2V5c0-1.1-.9-2-2-2zM9 17H7v-7h2v7zm4 0h-2V7h2v10zm4 0h-2v-4h2v4z\"/>\n",
              "    </g>\n",
              "</svg>\n",
              "  </button>\n",
              "\n",
              "<style>\n",
              "  .colab-df-quickchart {\n",
              "      --bg-color: #E8F0FE;\n",
              "      --fill-color: #1967D2;\n",
              "      --hover-bg-color: #E2EBFA;\n",
              "      --hover-fill-color: #174EA6;\n",
              "      --disabled-fill-color: #AAA;\n",
              "      --disabled-bg-color: #DDD;\n",
              "  }\n",
              "\n",
              "  [theme=dark] .colab-df-quickchart {\n",
              "      --bg-color: #3B4455;\n",
              "      --fill-color: #D2E3FC;\n",
              "      --hover-bg-color: #434B5C;\n",
              "      --hover-fill-color: #FFFFFF;\n",
              "      --disabled-bg-color: #3B4455;\n",
              "      --disabled-fill-color: #666;\n",
              "  }\n",
              "\n",
              "  .colab-df-quickchart {\n",
              "    background-color: var(--bg-color);\n",
              "    border: none;\n",
              "    border-radius: 50%;\n",
              "    cursor: pointer;\n",
              "    display: none;\n",
              "    fill: var(--fill-color);\n",
              "    height: 32px;\n",
              "    padding: 0;\n",
              "    width: 32px;\n",
              "  }\n",
              "\n",
              "  .colab-df-quickchart:hover {\n",
              "    background-color: var(--hover-bg-color);\n",
              "    box-shadow: 0 1px 2px rgba(60, 64, 67, 0.3), 0 1px 3px 1px rgba(60, 64, 67, 0.15);\n",
              "    fill: var(--button-hover-fill-color);\n",
              "  }\n",
              "\n",
              "  .colab-df-quickchart-complete:disabled,\n",
              "  .colab-df-quickchart-complete:disabled:hover {\n",
              "    background-color: var(--disabled-bg-color);\n",
              "    fill: var(--disabled-fill-color);\n",
              "    box-shadow: none;\n",
              "  }\n",
              "\n",
              "  .colab-df-spinner {\n",
              "    border: 2px solid var(--fill-color);\n",
              "    border-color: transparent;\n",
              "    border-bottom-color: var(--fill-color);\n",
              "    animation:\n",
              "      spin 1s steps(1) infinite;\n",
              "  }\n",
              "\n",
              "  @keyframes spin {\n",
              "    0% {\n",
              "      border-color: transparent;\n",
              "      border-bottom-color: var(--fill-color);\n",
              "      border-left-color: var(--fill-color);\n",
              "    }\n",
              "    20% {\n",
              "      border-color: transparent;\n",
              "      border-left-color: var(--fill-color);\n",
              "      border-top-color: var(--fill-color);\n",
              "    }\n",
              "    30% {\n",
              "      border-color: transparent;\n",
              "      border-left-color: var(--fill-color);\n",
              "      border-top-color: var(--fill-color);\n",
              "      border-right-color: var(--fill-color);\n",
              "    }\n",
              "    40% {\n",
              "      border-color: transparent;\n",
              "      border-right-color: var(--fill-color);\n",
              "      border-top-color: var(--fill-color);\n",
              "    }\n",
              "    60% {\n",
              "      border-color: transparent;\n",
              "      border-right-color: var(--fill-color);\n",
              "    }\n",
              "    80% {\n",
              "      border-color: transparent;\n",
              "      border-right-color: var(--fill-color);\n",
              "      border-bottom-color: var(--fill-color);\n",
              "    }\n",
              "    90% {\n",
              "      border-color: transparent;\n",
              "      border-bottom-color: var(--fill-color);\n",
              "    }\n",
              "  }\n",
              "</style>\n",
              "\n",
              "  <script>\n",
              "    async function quickchart(key) {\n",
              "      const quickchartButtonEl =\n",
              "        document.querySelector('#' + key + ' button');\n",
              "      quickchartButtonEl.disabled = true;  // To prevent multiple clicks.\n",
              "      quickchartButtonEl.classList.add('colab-df-spinner');\n",
              "      try {\n",
              "        const charts = await google.colab.kernel.invokeFunction(\n",
              "            'suggestCharts', [key], {});\n",
              "      } catch (error) {\n",
              "        console.error('Error during call to suggestCharts:', error);\n",
              "      }\n",
              "      quickchartButtonEl.classList.remove('colab-df-spinner');\n",
              "      quickchartButtonEl.classList.add('colab-df-quickchart-complete');\n",
              "    }\n",
              "    (() => {\n",
              "      let quickchartButtonEl =\n",
              "        document.querySelector('#df-fcbd8ba0-c8d5-4473-a84c-9f453c03825c button');\n",
              "      quickchartButtonEl.style.display =\n",
              "        google.colab.kernel.accessAllowed ? 'block' : 'none';\n",
              "    })();\n",
              "  </script>\n",
              "</div>\n",
              "    </div>\n",
              "  </div>\n"
            ]
          },
          "metadata": {},
          "execution_count": 71
        }
      ],
      "source": [
        "df_norm = df.drop(\"labels\", axis=1)\n",
        "df_norm.head()"
      ]
    },
    {
      "cell_type": "code",
      "execution_count": null,
      "metadata": {
        "id": "5qnkNK-INh6m"
      },
      "outputs": [],
      "source": [
        "from sklearn.preprocessing import StandardScaler\n",
        "\n",
        "scaler = StandardScaler()\n",
        "scaler.fit(df_norm)\n",
        "print(scaler.mean_)\n",
        "df_norm = scaler.transform(df_norm)\n",
        "\n",
        "df_norm = pd.DataFrame(df_norm)\n",
        "df_norm.head()"
      ]
    },
    {
      "cell_type": "code",
      "execution_count": 73,
      "metadata": {
        "id": "ksBMLuWDQHj1"
      },
      "outputs": [],
      "source": [
        "X_train, X_test, y_train, y_test = train_test_split(df_norm, labels, test_size=0.2, random_state=42)"
      ]
    },
    {
      "cell_type": "code",
      "execution_count": 74,
      "metadata": {
        "id": "FXYasv_IZ1oL",
        "colab": {
          "base_uri": "https://localhost:8080/"
        },
        "outputId": "e00b4d99-1093-4803-9b63-d3973b54b5f0"
      },
      "outputs": [
        {
          "output_type": "execute_result",
          "data": {
            "text/plain": [
              "((1152, 163), (1152,), (288, 163), (288,))"
            ]
          },
          "metadata": {},
          "execution_count": 74
        }
      ],
      "source": [
        "# Let check the data shape\n",
        "X_train.shape, y_train.shape, X_test.shape, y_test.shape"
      ]
    },
    {
      "cell_type": "code",
      "execution_count": 75,
      "metadata": {
        "colab": {
          "base_uri": "https://localhost:8080/"
        },
        "id": "eBU7PyVHaZKG",
        "outputId": "3cbb20e9-042b-4a7f-882a-d2333824d2d9"
      },
      "outputs": [
        {
          "output_type": "execute_result",
          "data": {
            "text/plain": [
              "((1152, 163, 1), (1152,), (288, 163, 1), (288,))"
            ]
          },
          "metadata": {},
          "execution_count": 75
        }
      ],
      "source": [
        "# For use the CNN model, let expand the data dimensions\n",
        "X_train = np.expand_dims(X_train, axis=2)\n",
        "X_test = np.expand_dims(X_test, axis=2)\n",
        "X_train.shape, y_train.shape, X_test.shape, y_test.shape"
      ]
    },
    {
      "cell_type": "code",
      "execution_count": 76,
      "metadata": {
        "id": "U8QuPWzrar3s"
      },
      "outputs": [],
      "source": [
        "# Modeling\n",
        "\n",
        "model=Sequential()\n",
        "model.add(Conv1D(128, kernel_size=5, strides = 1, padding='same', activation=tf.nn.relu, input_shape=(X_train.shape[1], 1)))\n",
        "model.add(MaxPooling1D(pool_size=5, strides = 2, padding = 'same'))\n",
        "model.add(Dropout(0.3))\n",
        "\n",
        "model.add(Conv1D(128, kernel_size=5, strides=1, padding='same', activation=tf.nn.relu))\n",
        "model.add(MaxPooling1D(pool_size=5, strides = 2, padding = 'same'))\n",
        "model.add(Dropout(0.3))\n",
        "\n",
        "model.add(Flatten())\n",
        "model.add(Dense(units=32, activation=tf.nn.relu))\n",
        "model.add(Dropout(0.3))\n",
        "\n",
        "model.add(Dense(units=9, activation=tf.nn.softmax))"
      ]
    },
    {
      "cell_type": "code",
      "execution_count": 77,
      "metadata": {
        "id": "XgtMexw0bE9D"
      },
      "outputs": [],
      "source": [
        "model.compile(optimizer=tf.keras.optimizers.Adam(),\n",
        "              loss='sparse_categorical_crossentropy',\n",
        "              metrics=['accuracy'])"
      ]
    },
    {
      "cell_type": "code",
      "execution_count": 78,
      "metadata": {
        "id": "PPrFCHZMbUey"
      },
      "outputs": [],
      "source": [
        "es = EarlyStopping(monitor  = \"val_accuracy\",\n",
        "                   mode     = 'max',\n",
        "                   verbose  = 0,\n",
        "                   patience = 30)\n",
        "mc = ModelCheckpoint('model_best.h5',\n",
        "                     monitor        = 'val_accuracy',\n",
        "                     mode           = 'max',\n",
        "                     verbose        = 1,\n",
        "                     save_best_only = True)"
      ]
    },
    {
      "cell_type": "code",
      "execution_count": 79,
      "metadata": {
        "colab": {
          "base_uri": "https://localhost:8080/"
        },
        "id": "oo1rt14Ra5KO",
        "outputId": "5425538b-b26b-4158-c025-eee5ea860ebf"
      },
      "outputs": [
        {
          "output_type": "stream",
          "name": "stdout",
          "text": [
            "Model: \"sequential\"\n",
            "_________________________________________________________________\n",
            " Layer (type)                Output Shape              Param #   \n",
            "=================================================================\n",
            " conv1d (Conv1D)             (None, 163, 128)          768       \n",
            "                                                                 \n",
            " max_pooling1d (MaxPooling1  (None, 82, 128)           0         \n",
            " D)                                                              \n",
            "                                                                 \n",
            " dropout (Dropout)           (None, 82, 128)           0         \n",
            "                                                                 \n",
            " conv1d_1 (Conv1D)           (None, 82, 128)           82048     \n",
            "                                                                 \n",
            " max_pooling1d_1 (MaxPoolin  (None, 41, 128)           0         \n",
            " g1D)                                                            \n",
            "                                                                 \n",
            " dropout_1 (Dropout)         (None, 41, 128)           0         \n",
            "                                                                 \n",
            " flatten (Flatten)           (None, 5248)              0         \n",
            "                                                                 \n",
            " dense (Dense)               (None, 32)                167968    \n",
            "                                                                 \n",
            " dropout_2 (Dropout)         (None, 32)                0         \n",
            "                                                                 \n",
            " dense_1 (Dense)             (None, 9)                 297       \n",
            "                                                                 \n",
            "=================================================================\n",
            "Total params: 251081 (980.79 KB)\n",
            "Trainable params: 251081 (980.79 KB)\n",
            "Non-trainable params: 0 (0.00 Byte)\n",
            "_________________________________________________________________\n"
          ]
        }
      ],
      "source": [
        "model.summary()"
      ]
    },
    {
      "cell_type": "code",
      "execution_count": 80,
      "metadata": {
        "colab": {
          "base_uri": "https://localhost:8080/"
        },
        "id": "JRmVz95abaTj",
        "outputId": "f4807836-23d5-4adc-c996-8a7220271134"
      },
      "outputs": [
        {
          "output_type": "stream",
          "name": "stdout",
          "text": [
            "Epoch 1/30\n",
            "10/10 [==============================] - ETA: 0s - loss: 2.1850 - accuracy: 0.1433\n",
            "Epoch 1: val_accuracy improved from -inf to 0.14286, saving model to model_best.h5\n",
            "10/10 [==============================] - 12s 58ms/step - loss: 2.1850 - accuracy: 0.1433 - val_loss: 2.1236 - val_accuracy: 0.1429\n",
            "Epoch 2/30\n",
            " 9/10 [==========================>...] - ETA: 0s - loss: 2.1103 - accuracy: 0.1478\n",
            "Epoch 2: val_accuracy improved from 0.14286 to 0.16017, saving model to model_best.h5\n",
            "10/10 [==============================] - 0s 14ms/step - loss: 2.1084 - accuracy: 0.1498 - val_loss: 2.0891 - val_accuracy: 0.1602\n",
            "Epoch 3/30\n",
            " 1/10 [==>...........................] - ETA: 0s - loss: 2.0999 - accuracy: 0.1300"
          ]
        },
        {
          "output_type": "stream",
          "name": "stderr",
          "text": [
            "/usr/local/lib/python3.10/dist-packages/keras/src/engine/training.py:3079: UserWarning: You are saving your model as an HDF5 file via `model.save()`. This file format is considered legacy. We recommend using instead the native Keras format, e.g. `model.save('my_model.keras')`.\n",
            "  saving_api.save_model(\n"
          ]
        },
        {
          "output_type": "stream",
          "name": "stdout",
          "text": [
            "\b\b\b\b\b\b\b\b\b\b\b\b\b\b\b\b\b\b\b\b\b\b\b\b\b\b\b\b\b\b\b\b\b\b\b\b\b\b\b\b\b\b\b\b\b\b\b\b\b\b\b\b\b\b\b\b\b\b\b\b\b\b\b\b\b\b\b\b\b\b\b\b\b\b\b\b\b\b\b\b\b\b\r 9/10 [==========================>...] - ETA: 0s - loss: 2.0864 - accuracy: 0.1511\n",
            "Epoch 3: val_accuracy improved from 0.16017 to 0.18615, saving model to model_best.h5\n",
            "10/10 [==============================] - 0s 14ms/step - loss: 2.0852 - accuracy: 0.1542 - val_loss: 2.0970 - val_accuracy: 0.1861\n",
            "Epoch 4/30\n",
            " 9/10 [==========================>...] - ETA: 0s - loss: 2.0813 - accuracy: 0.1467\n",
            "Epoch 4: val_accuracy did not improve from 0.18615\n",
            "10/10 [==============================] - 0s 11ms/step - loss: 2.0820 - accuracy: 0.1455 - val_loss: 2.0890 - val_accuracy: 0.1515\n",
            "Epoch 5/30\n",
            " 9/10 [==========================>...] - ETA: 0s - loss: 2.0709 - accuracy: 0.1489\n",
            "Epoch 5: val_accuracy did not improve from 0.18615\n",
            "10/10 [==============================] - 0s 11ms/step - loss: 2.0706 - accuracy: 0.1488 - val_loss: 2.1050 - val_accuracy: 0.1775\n",
            "Epoch 6/30\n",
            " 9/10 [==========================>...] - ETA: 0s - loss: 2.0672 - accuracy: 0.1433\n",
            "Epoch 6: val_accuracy did not improve from 0.18615\n",
            "10/10 [==============================] - 0s 11ms/step - loss: 2.0660 - accuracy: 0.1412 - val_loss: 2.0864 - val_accuracy: 0.1515\n",
            "Epoch 7/30\n",
            " 8/10 [=======================>......] - ETA: 0s - loss: 2.0685 - accuracy: 0.1525\n",
            "Epoch 7: val_accuracy did not improve from 0.18615\n",
            "10/10 [==============================] - 0s 11ms/step - loss: 2.0707 - accuracy: 0.1553 - val_loss: 2.0946 - val_accuracy: 0.1732\n",
            "Epoch 8/30\n",
            " 9/10 [==========================>...] - ETA: 0s - loss: 2.0484 - accuracy: 0.1744\n",
            "Epoch 8: val_accuracy did not improve from 0.18615\n",
            "10/10 [==============================] - 0s 10ms/step - loss: 2.0496 - accuracy: 0.1759 - val_loss: 2.0849 - val_accuracy: 0.1602\n",
            "Epoch 9/30\n",
            " 9/10 [==========================>...] - ETA: 0s - loss: 2.0469 - accuracy: 0.1811\n",
            "Epoch 9: val_accuracy did not improve from 0.18615\n",
            "10/10 [==============================] - 0s 10ms/step - loss: 2.0471 - accuracy: 0.1813 - val_loss: 2.0953 - val_accuracy: 0.1602\n",
            "Epoch 10/30\n",
            " 8/10 [=======================>......] - ETA: 0s - loss: 2.0410 - accuracy: 0.1813\n",
            "Epoch 10: val_accuracy did not improve from 0.18615\n",
            "10/10 [==============================] - 0s 11ms/step - loss: 2.0437 - accuracy: 0.1770 - val_loss: 2.0843 - val_accuracy: 0.1645\n",
            "Epoch 11/30\n",
            " 9/10 [==========================>...] - ETA: 0s - loss: 2.0441 - accuracy: 0.1856\n",
            "Epoch 11: val_accuracy did not improve from 0.18615\n",
            "10/10 [==============================] - 0s 11ms/step - loss: 2.0432 - accuracy: 0.1846 - val_loss: 2.0949 - val_accuracy: 0.1515\n",
            "Epoch 12/30\n",
            " 9/10 [==========================>...] - ETA: 0s - loss: 2.0291 - accuracy: 0.1956\n",
            "Epoch 12: val_accuracy did not improve from 0.18615\n",
            "10/10 [==============================] - 0s 10ms/step - loss: 2.0310 - accuracy: 0.1954 - val_loss: 2.0961 - val_accuracy: 0.1732\n",
            "Epoch 13/30\n",
            " 8/10 [=======================>......] - ETA: 0s - loss: 2.0106 - accuracy: 0.2025\n",
            "Epoch 13: val_accuracy did not improve from 0.18615\n",
            "10/10 [==============================] - 0s 11ms/step - loss: 2.0115 - accuracy: 0.1987 - val_loss: 2.1058 - val_accuracy: 0.1645\n",
            "Epoch 14/30\n",
            " 9/10 [==========================>...] - ETA: 0s - loss: 2.0042 - accuracy: 0.1922\n",
            "Epoch 14: val_accuracy did not improve from 0.18615\n",
            "10/10 [==============================] - 0s 10ms/step - loss: 2.0070 - accuracy: 0.1911 - val_loss: 2.0954 - val_accuracy: 0.1299\n",
            "Epoch 15/30\n",
            " 9/10 [==========================>...] - ETA: 0s - loss: 2.0084 - accuracy: 0.2000\n",
            "Epoch 15: val_accuracy did not improve from 0.18615\n",
            "10/10 [==============================] - 0s 11ms/step - loss: 2.0086 - accuracy: 0.1987 - val_loss: 2.1206 - val_accuracy: 0.1342\n",
            "Epoch 16/30\n",
            " 9/10 [==========================>...] - ETA: 0s - loss: 1.9933 - accuracy: 0.2178\n",
            "Epoch 16: val_accuracy did not improve from 0.18615\n",
            "10/10 [==============================] - 0s 12ms/step - loss: 1.9912 - accuracy: 0.2193 - val_loss: 2.1117 - val_accuracy: 0.1429\n",
            "Epoch 17/30\n",
            " 9/10 [==========================>...] - ETA: 0s - loss: 1.9912 - accuracy: 0.2211\n",
            "Epoch 17: val_accuracy did not improve from 0.18615\n",
            "10/10 [==============================] - 0s 10ms/step - loss: 1.9946 - accuracy: 0.2204 - val_loss: 2.0895 - val_accuracy: 0.1645\n",
            "Epoch 18/30\n",
            " 9/10 [==========================>...] - ETA: 0s - loss: 1.9752 - accuracy: 0.2278\n",
            "Epoch 18: val_accuracy did not improve from 0.18615\n",
            "10/10 [==============================] - 0s 12ms/step - loss: 1.9750 - accuracy: 0.2269 - val_loss: 2.1155 - val_accuracy: 0.1342\n",
            "Epoch 19/30\n",
            " 9/10 [==========================>...] - ETA: 0s - loss: 1.9534 - accuracy: 0.2256\n",
            "Epoch 19: val_accuracy did not improve from 0.18615\n",
            "10/10 [==============================] - 0s 10ms/step - loss: 1.9541 - accuracy: 0.2280 - val_loss: 2.1332 - val_accuracy: 0.1169\n",
            "Epoch 20/30\n",
            " 9/10 [==========================>...] - ETA: 0s - loss: 1.9559 - accuracy: 0.2244\n",
            "Epoch 20: val_accuracy did not improve from 0.18615\n",
            "10/10 [==============================] - 0s 11ms/step - loss: 1.9561 - accuracy: 0.2248 - val_loss: 2.1286 - val_accuracy: 0.1255\n",
            "Epoch 21/30\n",
            " 8/10 [=======================>......] - ETA: 0s - loss: 1.9573 - accuracy: 0.2025\n",
            "Epoch 21: val_accuracy did not improve from 0.18615\n",
            "10/10 [==============================] - 0s 13ms/step - loss: 1.9622 - accuracy: 0.2063 - val_loss: 2.1273 - val_accuracy: 0.1299\n",
            "Epoch 22/30\n",
            " 8/10 [=======================>......] - ETA: 0s - loss: 1.9384 - accuracy: 0.2338\n",
            "Epoch 22: val_accuracy did not improve from 0.18615\n",
            "10/10 [==============================] - 0s 12ms/step - loss: 1.9328 - accuracy: 0.2389 - val_loss: 2.1283 - val_accuracy: 0.1299\n",
            "Epoch 23/30\n",
            " 7/10 [====================>.........] - ETA: 0s - loss: 1.9293 - accuracy: 0.2143\n",
            "Epoch 23: val_accuracy did not improve from 0.18615\n",
            "10/10 [==============================] - 0s 14ms/step - loss: 1.9301 - accuracy: 0.2172 - val_loss: 2.1474 - val_accuracy: 0.1429\n",
            "Epoch 24/30\n",
            " 7/10 [====================>.........] - ETA: 0s - loss: 1.9139 - accuracy: 0.2557\n",
            "Epoch 24: val_accuracy did not improve from 0.18615\n",
            "10/10 [==============================] - 0s 14ms/step - loss: 1.9105 - accuracy: 0.2584 - val_loss: 2.1442 - val_accuracy: 0.1299\n",
            "Epoch 25/30\n",
            " 8/10 [=======================>......] - ETA: 0s - loss: 1.9074 - accuracy: 0.2450\n",
            "Epoch 25: val_accuracy did not improve from 0.18615\n",
            "10/10 [==============================] - 0s 15ms/step - loss: 1.9194 - accuracy: 0.2389 - val_loss: 2.1556 - val_accuracy: 0.1342\n",
            "Epoch 26/30\n",
            " 8/10 [=======================>......] - ETA: 0s - loss: 1.8943 - accuracy: 0.2688\n",
            "Epoch 26: val_accuracy did not improve from 0.18615\n",
            "10/10 [==============================] - 0s 13ms/step - loss: 1.8943 - accuracy: 0.2649 - val_loss: 2.1917 - val_accuracy: 0.1515\n",
            "Epoch 27/30\n",
            " 7/10 [====================>.........] - ETA: 0s - loss: 1.8931 - accuracy: 0.2514\n",
            "Epoch 27: val_accuracy did not improve from 0.18615\n",
            "10/10 [==============================] - 0s 14ms/step - loss: 1.8812 - accuracy: 0.2606 - val_loss: 2.1735 - val_accuracy: 0.1255\n",
            "Epoch 28/30\n",
            " 7/10 [====================>.........] - ETA: 0s - loss: 1.8844 - accuracy: 0.2900\n",
            "Epoch 28: val_accuracy did not improve from 0.18615\n",
            "10/10 [==============================] - 0s 14ms/step - loss: 1.8864 - accuracy: 0.2942 - val_loss: 2.1542 - val_accuracy: 0.1429\n",
            "Epoch 29/30\n",
            " 8/10 [=======================>......] - ETA: 0s - loss: 1.8852 - accuracy: 0.2512\n",
            "Epoch 29: val_accuracy did not improve from 0.18615\n",
            "10/10 [==============================] - 0s 14ms/step - loss: 1.8883 - accuracy: 0.2497 - val_loss: 2.1721 - val_accuracy: 0.1429\n",
            "Epoch 30/30\n",
            " 8/10 [=======================>......] - ETA: 0s - loss: 1.8685 - accuracy: 0.2800\n",
            "Epoch 30: val_accuracy did not improve from 0.18615\n",
            "10/10 [==============================] - 0s 13ms/step - loss: 1.8624 - accuracy: 0.2866 - val_loss: 2.1875 - val_accuracy: 0.1126\n"
          ]
        }
      ],
      "source": [
        "BATCH_SIZE = 100\n",
        "EPOCHS = 30\n",
        "\n",
        "history = model.fit(X_train, y_train, validation_split=0.2, epochs=EPOCHS, batch_size=BATCH_SIZE, verbose=1, callbacks=[es, mc])"
      ]
    },
    {
      "cell_type": "code",
      "execution_count": 81,
      "metadata": {
        "colab": {
          "base_uri": "https://localhost:8080/",
          "height": 500
        },
        "id": "pmdVnuAXg_mc",
        "outputId": "b7cdec49-395d-428e-eb85-2b2f03a357e2"
      },
      "outputs": [
        {
          "output_type": "stream",
          "name": "stdout",
          "text": [
            "9/9 [==============================] - 0s 5ms/step - loss: 2.2342 - accuracy: 0.1111\n",
            "Accuracy of our model on test data :  11.11111119389534 %\n"
          ]
        },
        {
          "output_type": "display_data",
          "data": {
            "text/plain": [
              "<Figure size 2000x600 with 2 Axes>"
            ],
            "image/png": "[encoded data removed]"
          },
          "metadata": {}
        }
      ],
      "source": [
        "print(\"Accuracy of our model on test data : \" , model.evaluate(X_test,y_test)[1]*100 , \"%\")\n",
        "\n",
        "epochs = [i for i in range(EPOCHS)]\n",
        "fig , ax = plt.subplots(1,2)\n",
        "train_acc = history.history['accuracy']\n",
        "train_loss = history.history['loss']\n",
        "test_acc = history.history['val_accuracy']\n",
        "test_loss = history.history['val_loss']\n",
        "\n",
        "fig.set_size_inches(20,6)\n",
        "ax[0].plot(epochs , train_loss , label = 'Training Loss')\n",
        "ax[0].plot(epochs , test_loss , label = 'Testing Loss')\n",
        "ax[0].set_title('Training & Testing Loss')\n",
        "ax[0].legend()\n",
        "ax[0].set_xlabel(\"Epochs\")\n",
        "\n",
        "ax[1].plot(epochs , train_acc , label = 'Training Accuracy')\n",
        "ax[1].plot(epochs , test_acc , label = 'Testing Accuracy')\n",
        "ax[1].set_title('Training & Testing Accuracy')\n",
        "ax[1].legend()\n",
        "ax[1].set_xlabel(\"Epochs\")\n",
        "plt.show()"
      ]
    }
  ],
  "metadata": {
    "colab": {
      "provenance": []
    },
    "kernelspec": {
      "display_name": "Python 3",
      "name": "python3"
    },
    "language_info": {
      "name": "python"
    }
  },
  "nbformat": 4,
  "nbformat_minor": 0
}