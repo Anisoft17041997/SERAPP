{
  "cells": [
    {
      "attachments": {},
      "cell_type": "markdown",
      "metadata": {
        "id": "EWH_tr0rGTiT"
      },
      "source": [
        "# Projet SER"
      ]
    },
    {
      "cell_type": "code",
      "execution_count": 1,
      "metadata": {},
      "outputs": [],
      "source": [
        "import os\n",
        "import numpy as np\n",
        "import pandas as pd\n",
        "import joblib\n",
        "import json\n",
        "import kaggle\n",
        "import keras\n",
        "\n",
        "from IPython.display import Audio\n",
        "import librosa\n",
        "import librosa.display\n",
        "import seaborn as sns\n",
        "import matplotlib.pyplot as plt\n",
        "\n",
        "from sklearn.preprocessing import  LabelEncoder, MinMaxScaler\n",
        "from sklearn.metrics import confusion_matrix, classification_report\n",
        "from sklearn.model_selection import train_test_split, GridSearchCV\n",
        "from sklearn.metrics import accuracy_score, precision_score, recall_score\n",
        "\n",
        "from keras.models import Sequential\n",
        "from keras.layers import Dense, Dropout, BatchNormalization\n",
        "from keras.callbacks import EarlyStopping, ModelCheckpoint"
      ]
    },
    {
      "attachments": {},
      "cell_type": "markdown",
      "metadata": {},
      "source": [
        "### 1. RAVDESS"
      ]
    },
    {
      "cell_type": "code",
      "execution_count": 2,
      "metadata": {},
      "outputs": [],
      "source": [
        "Ravdess = \"data_SIAKE/audio_speech_actors_01-24\""
      ]
    },
    {
      "cell_type": "code",
      "execution_count": 3,
      "metadata": {},
      "outputs": [],
      "source": [
        "ravdess_directory_list = os.listdir(Ravdess)\n",
        "\n",
        "file_emotion = []\n",
        "file_path = []\n",
        "for dir in ravdess_directory_list:\n",
        "    # as their are 20 different actors in our previous directory we need to extract files for each actor.\n",
        "    actor = os.listdir(Ravdess + '/' + dir)\n",
        "    for file in actor:\n",
        "        part = file.split('.')[0]\n",
        "        part = part.split('-')\n",
        "        \n",
        "        if len(part) >= 3:\n",
        "            # third part in each file represents the emotion associated to that file.\n",
        "            file_emotion.append(int(part[2]))\n",
        "            file_path.append(Ravdess + '/' + dir + '/' + file)"
      ]
    },
    {
      "cell_type": "code",
      "execution_count": 4,
      "metadata": {},
      "outputs": [
        {
          "data": {
            "text/html": [
              "<div>\n",
              "<style scoped>\n",
              "    .dataframe tbody tr th:only-of-type {\n",
              "        vertical-align: middle;\n",
              "    }\n",
              "\n",
              "    .dataframe tbody tr th {\n",
              "        vertical-align: top;\n",
              "    }\n",
              "\n",
              "    .dataframe thead th {\n",
              "        text-align: right;\n",
              "    }\n",
              "</style>\n",
              "<table border=\"1\" class=\"dataframe\">\n",
              "  <thead>\n",
              "    <tr style=\"text-align: right;\">\n",
              "      <th></th>\n",
              "      <th>Emotions</th>\n",
              "      <th>Path</th>\n",
              "    </tr>\n",
              "  </thead>\n",
              "  <tbody>\n",
              "    <tr>\n",
              "      <th>0</th>\n",
              "      <td>angry</td>\n",
              "      <td>data_SIAKE/audio_speech_actors_01-24/Actor_16/...</td>\n",
              "    </tr>\n",
              "    <tr>\n",
              "      <th>1</th>\n",
              "      <td>fear</td>\n",
              "      <td>data_SIAKE/audio_speech_actors_01-24/Actor_16/...</td>\n",
              "    </tr>\n",
              "    <tr>\n",
              "      <th>2</th>\n",
              "      <td>fear</td>\n",
              "      <td>data_SIAKE/audio_speech_actors_01-24/Actor_16/...</td>\n",
              "    </tr>\n",
              "    <tr>\n",
              "      <th>3</th>\n",
              "      <td>angry</td>\n",
              "      <td>data_SIAKE/audio_speech_actors_01-24/Actor_16/...</td>\n",
              "    </tr>\n",
              "    <tr>\n",
              "      <th>4</th>\n",
              "      <td>disgust</td>\n",
              "      <td>data_SIAKE/audio_speech_actors_01-24/Actor_16/...</td>\n",
              "    </tr>\n",
              "  </tbody>\n",
              "</table>\n",
              "</div>"
            ],
            "text/plain": [
              "  Emotions                                               Path\n",
              "0    angry  data_SIAKE/audio_speech_actors_01-24/Actor_16/...\n",
              "1     fear  data_SIAKE/audio_speech_actors_01-24/Actor_16/...\n",
              "2     fear  data_SIAKE/audio_speech_actors_01-24/Actor_16/...\n",
              "3    angry  data_SIAKE/audio_speech_actors_01-24/Actor_16/...\n",
              "4  disgust  data_SIAKE/audio_speech_actors_01-24/Actor_16/..."
            ]
          },
          "execution_count": 4,
          "metadata": {},
          "output_type": "execute_result"
        }
      ],
      "source": [
        "# dataframe for emotion of files\n",
        "emotion_df = pd.DataFrame(file_emotion, columns=['Emotions'])\n",
        "\n",
        "# dataframe for path of files.\n",
        "path_df = pd.DataFrame(file_path, columns=['Path'])\n",
        "Ravdess_df = pd.concat([emotion_df, path_df], axis=1)\n",
        "\n",
        "# changing integers to actual emotions.\n",
        "Ravdess_df.Emotions.replace({1:'neutral', 2:'calm', 3:'happy', 4:'sad', 5:'angry', 6:'fear', 7:'disgust', 8:'surprise'}, inplace=True)\n",
        "Ravdess_df.head()"
      ]
    },
    {
      "attachments": {},
      "cell_type": "markdown",
      "metadata": {},
      "source": [
        "### 2. Crema DataFrame"
      ]
    },
    {
      "cell_type": "code",
      "execution_count": 5,
      "metadata": {},
      "outputs": [],
      "source": [
        "Crema = \"data_SIAKE/AudioWAV\""
      ]
    },
    {
      "cell_type": "code",
      "execution_count": 6,
      "metadata": {},
      "outputs": [
        {
          "data": {
            "text/html": [
              "<div>\n",
              "<style scoped>\n",
              "    .dataframe tbody tr th:only-of-type {\n",
              "        vertical-align: middle;\n",
              "    }\n",
              "\n",
              "    .dataframe tbody tr th {\n",
              "        vertical-align: top;\n",
              "    }\n",
              "\n",
              "    .dataframe thead th {\n",
              "        text-align: right;\n",
              "    }\n",
              "</style>\n",
              "<table border=\"1\" class=\"dataframe\">\n",
              "  <thead>\n",
              "    <tr style=\"text-align: right;\">\n",
              "      <th></th>\n",
              "      <th>Emotions</th>\n",
              "      <th>Path</th>\n",
              "    </tr>\n",
              "  </thead>\n",
              "  <tbody>\n",
              "    <tr>\n",
              "      <th>0</th>\n",
              "      <td>angry</td>\n",
              "      <td>data_SIAKE/AudioWAV/1022_ITS_ANG_XX.wav</td>\n",
              "    </tr>\n",
              "    <tr>\n",
              "      <th>1</th>\n",
              "      <td>angry</td>\n",
              "      <td>data_SIAKE/AudioWAV/1037_ITS_ANG_XX.wav</td>\n",
              "    </tr>\n",
              "    <tr>\n",
              "      <th>2</th>\n",
              "      <td>neutral</td>\n",
              "      <td>data_SIAKE/AudioWAV/1060_ITS_NEU_XX.wav</td>\n",
              "    </tr>\n",
              "    <tr>\n",
              "      <th>3</th>\n",
              "      <td>neutral</td>\n",
              "      <td>data_SIAKE/AudioWAV/1075_ITS_NEU_XX.wav</td>\n",
              "    </tr>\n",
              "    <tr>\n",
              "      <th>4</th>\n",
              "      <td>disgust</td>\n",
              "      <td>data_SIAKE/AudioWAV/1073_IOM_DIS_XX.wav</td>\n",
              "    </tr>\n",
              "  </tbody>\n",
              "</table>\n",
              "</div>"
            ],
            "text/plain": [
              "  Emotions                                     Path\n",
              "0    angry  data_SIAKE/AudioWAV/1022_ITS_ANG_XX.wav\n",
              "1    angry  data_SIAKE/AudioWAV/1037_ITS_ANG_XX.wav\n",
              "2  neutral  data_SIAKE/AudioWAV/1060_ITS_NEU_XX.wav\n",
              "3  neutral  data_SIAKE/AudioWAV/1075_ITS_NEU_XX.wav\n",
              "4  disgust  data_SIAKE/AudioWAV/1073_IOM_DIS_XX.wav"
            ]
          },
          "execution_count": 6,
          "metadata": {},
          "output_type": "execute_result"
        }
      ],
      "source": [
        "crema_directory_list = os.listdir(Crema)\n",
        "\n",
        "file_emotion = []\n",
        "file_path = []\n",
        "\n",
        "for file in crema_directory_list:\n",
        "    # storing file paths\n",
        "    file_path.append(Crema + '/'+  file)\n",
        "    # storing file emotions\n",
        "    part=file.split('_')\n",
        "    \n",
        "    if len(part) >= 3:\n",
        "        if part[2] == 'SAD':\n",
        "            file_emotion.append('sad')\n",
        "        elif part[2] == 'ANG':\n",
        "            file_emotion.append('angry')\n",
        "        elif part[2] == 'DIS':\n",
        "            file_emotion.append('disgust')\n",
        "        elif part[2] == 'FEA':\n",
        "            file_emotion.append('fear')\n",
        "        elif part[2] == 'HAP':\n",
        "            file_emotion.append('happy')\n",
        "        elif part[2] == 'NEU':\n",
        "            file_emotion.append('neutral')\n",
        "        else:\n",
        "            file_emotion.append('Unknown')\n",
        "            \n",
        "# dataframe for emotion of files\n",
        "emotion_df = pd.DataFrame(file_emotion, columns=['Emotions'])\n",
        "\n",
        "# dataframe for path of files.\n",
        "path_df = pd.DataFrame(file_path, columns=['Path'])\n",
        "Crema_df = pd.concat([emotion_df, path_df], axis=1)\n",
        "Crema_df.head()"
      ]
    },
    {
      "attachments": {},
      "cell_type": "markdown",
      "metadata": {},
      "source": [
        "### 3. TESS Dataframe"
      ]
    },
    {
      "cell_type": "code",
      "execution_count": 7,
      "metadata": {},
      "outputs": [],
      "source": [
        "Tess = \"data_SIAKE/TESS Toronto emotional speech set data\""
      ]
    },
    {
      "cell_type": "code",
      "execution_count": 8,
      "metadata": {},
      "outputs": [
        {
          "data": {
            "text/html": [
              "<div>\n",
              "<style scoped>\n",
              "    .dataframe tbody tr th:only-of-type {\n",
              "        vertical-align: middle;\n",
              "    }\n",
              "\n",
              "    .dataframe tbody tr th {\n",
              "        vertical-align: top;\n",
              "    }\n",
              "\n",
              "    .dataframe thead th {\n",
              "        text-align: right;\n",
              "    }\n",
              "</style>\n",
              "<table border=\"1\" class=\"dataframe\">\n",
              "  <thead>\n",
              "    <tr style=\"text-align: right;\">\n",
              "      <th></th>\n",
              "      <th>Emotions</th>\n",
              "      <th>Path</th>\n",
              "    </tr>\n",
              "  </thead>\n",
              "  <tbody>\n",
              "    <tr>\n",
              "      <th>0</th>\n",
              "      <td>disgust</td>\n",
              "      <td>data_SIAKE/TESS Toronto emotional speech set d...</td>\n",
              "    </tr>\n",
              "    <tr>\n",
              "      <th>1</th>\n",
              "      <td>disgust</td>\n",
              "      <td>data_SIAKE/TESS Toronto emotional speech set d...</td>\n",
              "    </tr>\n",
              "    <tr>\n",
              "      <th>2</th>\n",
              "      <td>disgust</td>\n",
              "      <td>data_SIAKE/TESS Toronto emotional speech set d...</td>\n",
              "    </tr>\n",
              "    <tr>\n",
              "      <th>3</th>\n",
              "      <td>disgust</td>\n",
              "      <td>data_SIAKE/TESS Toronto emotional speech set d...</td>\n",
              "    </tr>\n",
              "    <tr>\n",
              "      <th>4</th>\n",
              "      <td>disgust</td>\n",
              "      <td>data_SIAKE/TESS Toronto emotional speech set d...</td>\n",
              "    </tr>\n",
              "  </tbody>\n",
              "</table>\n",
              "</div>"
            ],
            "text/plain": [
              "  Emotions                                               Path\n",
              "0  disgust  data_SIAKE/TESS Toronto emotional speech set d...\n",
              "1  disgust  data_SIAKE/TESS Toronto emotional speech set d...\n",
              "2  disgust  data_SIAKE/TESS Toronto emotional speech set d...\n",
              "3  disgust  data_SIAKE/TESS Toronto emotional speech set d...\n",
              "4  disgust  data_SIAKE/TESS Toronto emotional speech set d..."
            ]
          },
          "execution_count": 8,
          "metadata": {},
          "output_type": "execute_result"
        }
      ],
      "source": [
        "tess_directory_list = os.listdir(Tess)\n",
        "\n",
        "file_emotion = []\n",
        "file_path = []\n",
        "\n",
        "for dir in tess_directory_list:\n",
        "    directories = os.listdir(Tess + '/' + dir)\n",
        "    for file in directories:\n",
        "        part = file.split('.')[0]\n",
        "        split_part = part.split('_')\n",
        "        \n",
        "        # Check if the split result has the expected number of parts\n",
        "        if len(split_part) >= 3:\n",
        "            part = split_part[2]\n",
        "            if part == 'ps':\n",
        "                file_emotion.append('surprise')\n",
        "            else:\n",
        "                file_emotion.append(part)\n",
        "            file_path.append(Tess + '/' + dir + '/' + file)\n",
        "\n",
        "# dataframe for emotion of files\n",
        "emotion_df = pd.DataFrame(file_emotion, columns=['Emotions'])\n",
        "\n",
        "# dataframe for path of files.\n",
        "path_df = pd.DataFrame(file_path, columns=['Path'])\n",
        "Tess_df = pd.concat([emotion_df, path_df], axis=1)\n",
        "Tess_df.head()"
      ]
    },
    {
      "attachments": {},
      "cell_type": "markdown",
      "metadata": {},
      "source": [
        "### Final dataframe with all the files paths"
      ]
    },
    {
      "cell_type": "code",
      "execution_count": 9,
      "metadata": {},
      "outputs": [
        {
          "data": {
            "text/html": [
              "<div>\n",
              "<style scoped>\n",
              "    .dataframe tbody tr th:only-of-type {\n",
              "        vertical-align: middle;\n",
              "    }\n",
              "\n",
              "    .dataframe tbody tr th {\n",
              "        vertical-align: top;\n",
              "    }\n",
              "\n",
              "    .dataframe thead th {\n",
              "        text-align: right;\n",
              "    }\n",
              "</style>\n",
              "<table border=\"1\" class=\"dataframe\">\n",
              "  <thead>\n",
              "    <tr style=\"text-align: right;\">\n",
              "      <th></th>\n",
              "      <th>Emotions</th>\n",
              "      <th>Path</th>\n",
              "    </tr>\n",
              "  </thead>\n",
              "  <tbody>\n",
              "    <tr>\n",
              "      <th>0</th>\n",
              "      <td>angry</td>\n",
              "      <td>data_SIAKE/audio_speech_actors_01-24/Actor_16/...</td>\n",
              "    </tr>\n",
              "    <tr>\n",
              "      <th>1</th>\n",
              "      <td>fear</td>\n",
              "      <td>data_SIAKE/audio_speech_actors_01-24/Actor_16/...</td>\n",
              "    </tr>\n",
              "    <tr>\n",
              "      <th>2</th>\n",
              "      <td>fear</td>\n",
              "      <td>data_SIAKE/audio_speech_actors_01-24/Actor_16/...</td>\n",
              "    </tr>\n",
              "    <tr>\n",
              "      <th>3</th>\n",
              "      <td>angry</td>\n",
              "      <td>data_SIAKE/audio_speech_actors_01-24/Actor_16/...</td>\n",
              "    </tr>\n",
              "    <tr>\n",
              "      <th>4</th>\n",
              "      <td>disgust</td>\n",
              "      <td>data_SIAKE/audio_speech_actors_01-24/Actor_16/...</td>\n",
              "    </tr>\n",
              "  </tbody>\n",
              "</table>\n",
              "</div>"
            ],
            "text/plain": [
              "  Emotions                                               Path\n",
              "0    angry  data_SIAKE/audio_speech_actors_01-24/Actor_16/...\n",
              "1     fear  data_SIAKE/audio_speech_actors_01-24/Actor_16/...\n",
              "2     fear  data_SIAKE/audio_speech_actors_01-24/Actor_16/...\n",
              "3    angry  data_SIAKE/audio_speech_actors_01-24/Actor_16/...\n",
              "4  disgust  data_SIAKE/audio_speech_actors_01-24/Actor_16/..."
            ]
          },
          "execution_count": 9,
          "metadata": {},
          "output_type": "execute_result"
        }
      ],
      "source": [
        "# creating Dataframe using all the 3 dataframes we created so far.\n",
        "data_path = pd.concat([Ravdess_df, Crema_df, Tess_df], axis = 0)\n",
        "data_path.to_csv(\"data_path.csv\",index=False)\n",
        "data_path.head()"
      ]
    },
    {
      "attachments": {},
      "cell_type": "markdown",
      "metadata": {},
      "source": [
        "### Visualisations\n",
        "\n"
      ]
    },
    {
      "cell_type": "code",
      "execution_count": 67,
      "metadata": {},
      "outputs": [
        {
          "data": {
            "text/html": [
              "<div>\n",
              "<style scoped>\n",
              "    .dataframe tbody tr th:only-of-type {\n",
              "        vertical-align: middle;\n",
              "    }\n",
              "\n",
              "    .dataframe tbody tr th {\n",
              "        vertical-align: top;\n",
              "    }\n",
              "\n",
              "    .dataframe thead th {\n",
              "        text-align: right;\n",
              "    }\n",
              "</style>\n",
              "<table border=\"1\" class=\"dataframe\">\n",
              "  <thead>\n",
              "    <tr style=\"text-align: right;\">\n",
              "      <th></th>\n",
              "      <th>Emotions</th>\n",
              "      <th>Path</th>\n",
              "    </tr>\n",
              "  </thead>\n",
              "  <tbody>\n",
              "    <tr>\n",
              "      <th>0</th>\n",
              "      <td>angry</td>\n",
              "      <td>data_SIAKE/audio_speech_actors_01-24/Actor_16/...</td>\n",
              "    </tr>\n",
              "    <tr>\n",
              "      <th>1</th>\n",
              "      <td>fear</td>\n",
              "      <td>data_SIAKE/audio_speech_actors_01-24/Actor_16/...</td>\n",
              "    </tr>\n",
              "    <tr>\n",
              "      <th>2</th>\n",
              "      <td>fear</td>\n",
              "      <td>data_SIAKE/audio_speech_actors_01-24/Actor_16/...</td>\n",
              "    </tr>\n",
              "    <tr>\n",
              "      <th>3</th>\n",
              "      <td>angry</td>\n",
              "      <td>data_SIAKE/audio_speech_actors_01-24/Actor_16/...</td>\n",
              "    </tr>\n",
              "    <tr>\n",
              "      <th>4</th>\n",
              "      <td>disgust</td>\n",
              "      <td>data_SIAKE/audio_speech_actors_01-24/Actor_16/...</td>\n",
              "    </tr>\n",
              "  </tbody>\n",
              "</table>\n",
              "</div>"
            ],
            "text/plain": [
              "  Emotions                                               Path\n",
              "0    angry  data_SIAKE/audio_speech_actors_01-24/Actor_16/...\n",
              "1     fear  data_SIAKE/audio_speech_actors_01-24/Actor_16/...\n",
              "2     fear  data_SIAKE/audio_speech_actors_01-24/Actor_16/...\n",
              "3    angry  data_SIAKE/audio_speech_actors_01-24/Actor_16/...\n",
              "4  disgust  data_SIAKE/audio_speech_actors_01-24/Actor_16/..."
            ]
          },
          "execution_count": 67,
          "metadata": {},
          "output_type": "execute_result"
        }
      ],
      "source": [
        "path = pd.read_csv(\"data_path.csv\")\n",
        "path.head()"
      ]
    },
    {
      "attachments": {},
      "cell_type": "markdown",
      "metadata": {},
      "source": [
        "Count of emotions"
      ]
    },
    {
      "cell_type": "code",
      "execution_count": 68,
      "metadata": {},
      "outputs": [
        {
          "data": {
            "image/png": "[encoded data removed]",
            "text/plain": [
              "<Figure size 640x480 with 1 Axes>"
            ]
          },
          "metadata": {},
          "output_type": "display_data"
        }
      ],
      "source": [
        "plt.title('Count of Emotions', size=16)\n",
        "sns.countplot(path.Emotions)\n",
        "plt.ylabel('Count', size=12)\n",
        "plt.xlabel('Emotions', size=12)\n",
        "sns.despine(top=True, right=True, left=False, bottom=False)\n",
        "plt.show()"
      ]
    },
    {
      "attachments": {},
      "cell_type": "markdown",
      "metadata": {},
      "source": [
        "#### Simple audio"
      ]
    },
    {
      "cell_type": "code",
      "execution_count": 64,
      "metadata": {},
      "outputs": [],
      "source": [
        "# taking any example and checking for techniques.\n",
        "path = np.array(path.Path)[1]\n",
        "data, sample_rate = librosa.load(path)"
      ]
    },
    {
      "cell_type": "code",
      "execution_count": 65,
      "metadata": {},
      "outputs": [
        {
          "data": {
            "image/png": "[encoded data removed]",
            "text/plain": [
              "<Figure size 1000x300 with 1 Axes>"
            ]
          },
          "metadata": {},
          "output_type": "display_data"
        },
        {
          "data": {
            "text/html": [
              "\n",
              "                <audio  controls=\"controls\" >\n",
              "                    <source src=\"data:audio/wav;base64,UklGRixnAgBXQVZFZm10IBAAAAABAAEAIlYAAESsAAACABAAZGF0YQhnAgAAAAAAAAAAAAAAAAAAAAAAAAAAAAAAAAAAAAAAAAAAAAAAAAAAAAAAAAAAAAAAAAAAAAAAAAAAAAAAAAAAAAAAAAAAAAAAAAAAAAAAAAAAAAAAAAAAAAAAAAAAAAAAAAAAAAAAAAAAAAAAAAAAAAAAAAAAAAAAAAAAAAAAAAAAAAAAAAAAAAAAAAAAAAAAAAAAAAAAAAAAAAAAAAAAAAAAAAAAAAAAAAAAAAAAAAAAAAAAAAAAAAAAAAAAAAAAAAAAAAAAAAAAAAAAAAAAAAAAAAAAAAAAAAAAAAAAAAAAAAAAAAAAAAAAAAAAAAAAAAAAAAAAAAAAAAAAAAAAAAAAAAAAAAAAAAAAAAAAAAAAAAAAAAAAAAAAAAAAAAAAAAAAAAAAAAAAAAAAAAAAAAAAAAAAAAAAAAAAAAAAAAAAAAAAAAAAAAAAAAAAAAAAAAAAAAAAAAAAAAAAAAAAAAAAAAAAAAAAAAAAAAAAAAAAAAAAAAAAAAAAAAAAAAAAAAAAAAAAAAAAAAAAAAAAAAAAAAAAAAAAAAAAAAAAAAAAAAAAAAAAAAAAAAAAAAAAAAAAAAAAAAAAAAAAAAAAAAAAAAAAAAAAAAAAAAAAAAAAAAAAAAAAAAAAAAAAAAAAAAAAAAAAAAAAAAAAAAAAAAAAAAAAAAAAAAAAAAAAAAAAAAAAAAAAAAAAAAAAAAAAAAAAAAAAAAAAAAAAAAAAAAAAAAAAAAAAAAAAAAAAAAAAAAAAAAAAAAAAAAAAAAAAAAAAAAAAAAAAAAAAAAAAAAAAAAAAAAAAAAAAAAAAAAAAAAAAAAAAAAAAAAAAAAAAAAAAAAAAAAAAAAAAAAAAAAAAAAAAAAAAAAAAAAAAAAAAAAAAAAAAAAAAAAAAAAAAAAAAAAAAAAAAAAAAAAAAAAAAAAAAAAAAAAAAAAAAAAAAAAAAAAAAAAAAAAAAAAAAAAAAAAAAAAAAAAAAAAAAAAAAAAAAAAAAAAAAAAAAAAAAAAAAAAAAAAAAAAAAAAAAAAAAAAAAAAAAAAAAAAAAAAAAAAAAAAAAAAAAAAAAAAAAAAAAAAAAAAAAAAAAAAAAAAAAAAAAAAAAAAAAAAAAAAAAAAAAAAAAAAAAAAAAAAAAAAAAAAAAAAAAAAAAAAAAAAAAAAAAAAAAAAAAAAAAAAAAAAAAAAAAAAAAAAAAAAAAAAAAAAAAAAAAAAAAAAAAAAAAAAAAAAAAAAAAAAAAAAAAAAAAAAAAAAAAAAAAAAAAAAAAAAAAAAAAAAAAAAAAAAAAAAAAAAAAAAAAAAAAAAAAAAAAAAAAAAAAAAAAAAAAAAAAAAAAAAAAAAAAAAAAAAAAAAAAAAAAAAAAAAAAAAAAAAAAAAAAAAAAAAAAAAAAAAAAAAAAAAAAAAAAAAAAAAAAAAAAAAAAAAAAAAAAAAAAAAAAAAAAAAAAAAAAAAAAAAAAAAAAAAAAAAAAAAAAAAAAAAAAAAAAAAAAAAAAAAAAAAAAAAAAAAAAAAAAAAAAAAAAAAAAAAAAAAAAAAAAAAAAAAAAAAAAAAAAAAAAAAAAAAAAAAAAAAAAAAAAAAAAAAAAAAAAAAAAAAAAAAAAAAAAAAAAAAAAAAAAAAAAAAAAAAAAAAAAAAAAAAAAAAAAAAAAAAAAAAAAAAAAAAAAAAAAAAAAAAAAAAAAAAAAAAAAAAAAAAAAAAAAAAAAAAAAAAAAAAAAAAAAAAAAAAAAAAAAAAAAAAAAAAAAAAAAAAAAAAAAAAAAAAAAAAAAAAAAAAAAAAAAAAAAAAAAAAAAAAAAAAAAAAAAAAAAAAAAAAAAAAAAAAAAAAAAAAAAAAAAAAAAAAAAAAAAAAAAAAAAAAAAAAAAAAAAAAAAAAAAAAAAAAAAAAAAAAAAAAAAAAAAAAAAAAAAAAAAAAAAAAAAAAAAAAAAAAAAAAAAAAAAAAAAAAAAAAAAAAAAAAAAAAAAAAAAAAAAAAAAAAAAAAAAAAAAAAAAAAAAAAAAAAAAAAAAAAAAAAAAAAAAAAAAAAAAAAAAAAAAAAAAAAAAAAAAAAAAAAAAAAAAAAAAAAAAAAAAAAAAAAAAAAAAAAAAAAAAAAAAAAAAAAAAAAAAAAAAAAAAAAAAAAAAAAAAAAAAAAAAAAAAAAAAAAAAAAAAAAAAAAAAAAAAAAAAAAAAAAAAAAAAAAAAAAAAAAAAAAAAAAAAAAAAAAAAAAAAAAAAAAAAAAAAAAAAAAAAAAAAAAAAAAAAAAAAAAAAAAAAAAAAAAAAAAAAAAAAAAAAAAAAAAAAAAAAAAAAAAAAAAAAAAAAAAAAAAAAAAAAAAAAAAAAAAAAAAAAAAAAAAAAAAAAAAAAAAAAAAAAAAAAAAAAAAAAAAAAAAAAAAAAAAAAAAAAAAAAAAAAAAAAAAAAAAAAAAAAAAAAAAAAAAAAAAAAAAAAAAAAAAAAAAAAAAAAAAAAAAAAAAAAAAAAAAAAAAAAAAAAAAAAAAAAAAAAAAAAAAAAAAAAAAAAAAAAAAAAAAAAAAAAAAAAAAAAAAAAAAAAAAAAAAAAAAAAAAAAAAAAAAAAAAAAAAAAAAAAAAAAAAAAAAAAAAAAAAAAAAAAAAAAAAAAAAAAAAAAAAAAAAAAAAAAAAAAAAAAAAAAAAAAAAAAAAAAAAAAAAAAAAAAAAAAAAAAAAAAAAAAAAAAAAAAAAAAAAAAAAAAAAAAAAAAAAAAAAAAAAAAAAAAAAAAAAAAAAAAAAAAAAAAAAAAAAAAAAAAAAAAAAAAAAAAAAAAAAAAAAAAAAAAAAAAAAAAAAAAAAAAAAAAAAAAAAAAAAAAAAAAAAAAAAAAAAAAAAAAAAAAAAAAAAAAAAAAAAAAAAAAAAAAAAAAAAAAAAAAAAAAAAAAAAAAAAAAAAAAAAAAAAAAAAAAAAAAAAAAAAAAAAAAAAAAAAAAAAAAAAAAAAAAAAAAAAAAAAAAAAAAAAAAAAAAAAAAAAAAAAAAAAAAAAAAAAAAAAAAAAAAAAAAAAAAAAAAAAAAAAAAAAAAAAAAAAAAAAAAAAAAAAAAAAAAAAAAAAAAAAAAAAAAAAAAAAAAAAAAAAAAAAAAAAAAAAAAAAAAAAAAAAAAAAAAAAAAAAAAAAAAAAAAAAAAAAAAAAAAAAAAAAAAAAAAAAAAAAAAAAAAAAAAAAAAAAAAAAAAAAAAAAAAAAAAAAAAAAAAAAAAAAAAAAAAAAAAAAAAAAAAAAAAAAAAAAAAAAAAAAAAAAAAAAAAAAAAAAAAAAAAAAAAAAAAAAAAAAAAAAAAAAAAAAAAAAAAAAAAAAAAAAAAAAAAAAAAAAAAAAAAAAAAAAAAAAAAAAAAAAAAAAAAAAAAAAAAAAAAAAAAAAAAAAAAAAAAAAAAAAAAAAAAAAAAAAAAAAAAAAAAAAAAAAAAAAAAAAAAAAAAAAAAAAAAAAAAAAAAAAAAAAAAAAAAAAAAAAAAAAAAAAAAAAAAAAAAAAAAAAAAAAAAAAAAAAAAAAAAAAAAAAAAAAAAAAAAAAAAAAAAAAAAAAAAAAAAAAAAAAAAAAAAAAAAAAAAAAAAAAAAAAAAAAAAAAAAAAAAAAAAAAAAAAAAAAAAAAAAAAAAAAAAAAAAAAAAAAAAAAAAAAAAAAAAAAAAAAAAAAAAAAAAAAAAAAAAAAAAAAAAAAAAAAAAAAAAAAAAAAAAAAAAAAAAAAAAAAAAAAAAAAAAAAAAAAAAAAAAAAAAAAAAAAAAAAAAAAAAAAAAAAAAAAAAAAAAAAAAAAAAAAAAAAAAAAAAAAAAAAAAAAAAAAAAAAAAAAAAAAAAAAAAAAAAAAAAAAAAAAAAAAAAAAAAAAAAAAAAAAAAAAAAAAAAAAAAAAAAAAAAAAAAAAAAAAAAAAAAAAAAAAAAAAAAAAAAAAAAAAAAAAAAAAAAAAAAAAAAAAAAAAAAAAAAAAAAAAAAAAAAAAAAAAAAAAAAAAAAAAAAAAAAAAAAAAAAAAAAAAAAAAAAAAAAAAAAAAAAAAAAAAAAAAAAAAAAAAAAAAAAAAAAAAAAAAAAAAAAAAAAAAAAAAAAAAAAAAAAAAAAAAAAAAAAAAAAAAAAAAAAAAAAAAAAAAAAAAAAAAAAAAAAAAAAAAAAAAAAAAAAAAAAAAAAAAAAAAAAAAAAAAAAAAAAAAAAAAAAAAAAAAAAAAAAAAAAAAAAAAAAAAAAAAAAAAAAAAAAAAAAAAAAAAAAAAAAAAAAAAAAAAAAAAAAAAAAAAAAAAAAAAAAAAAAAAAAAAAAAAAAAAAAAAAAAAAAAAAAAAAAAAAAAAAAAAAAAAAAAAAAAAAAAAAAAAAAAAAAAAAAAAAAAAAAAAAAAAAAAAAAAAAAAAAAAAAAAAAAAAAAAAAAAAAAAAAAAAAAAAAAAAAAAAAAAAAAAAAAAAAAAAAAAAAAAAAAAAAAAAAAAAAAAAAAAAAAAAAAAAAAAAAAAAAAAAAAAAAAAAAAAAAAAAAAAAAAAAAAAAAAAAAAAAAAAAAAAAAAAAAAAAAAAAAAAAAAAAAAAAAAAAAAAAAAAAAAAAAAAAAAAAAAAAAAAAAAAAAAAAAAAAAAAAAAAAAAAAAAAAAAAAAAAAAAAAAAAAAAAAAAAAAAAAAAAAAAAAAAAAAAAAAAAAAAAAAAAAAAAAAAAAAAAAAAAAAAAAAAAAAAAAAAAAAAAAAAAAAAAAAAAAAAAAAAAAAAAAAAAAAAAAAAAAAAAAAAAAAAAAAAAAAAAAAAAAAAAAAAAAAAAAAAAAAAAAAAAAAAAAAAAAAAAAAAAAAAAAAAAAAAAAAAAAAAAAAAAAAAAAAAAAAAAAAAAAAAAAAAAAAAAAAAAAAAAAAAAAAAAAAAAAAAAAAAAAAAAAAAAAAAAAAAAAAAAAAAAAAAAAAAAAAAAAAAAAAAAAAAAAAAAAAAAAAAAAAAAAAAAAAAAAAAAAAAAAAAAAAAAAAAAAAAAAAAAAAAAAAAAAAAAAAAAAAAAAAAAAAAAAAAAAAAAAAAAAAAAAAAAAAAAAAAAAAAAAAAAAAAAAAAAAAAAAAAAAAAAAAAAAAAAAAAAAAAAAAAAAAAAAAAAAAAAAAAAAAAAAAAAAAAAAAAAAAAAAAAAAAAAAAAAAAAAAAAAAAAAAAAAAAAAAAAAAAAAAAAAAAAAAAAAAAAAAAAAAAAAAAAAAAAAAAAAAAAAAAAAAAAAAAAAAAAAAAAAAAAAAAAAAAAAAAAAAAAAAAAAAAAAAAAAAAAAAAAAAAAAAAAAAAAAAAAAAAAAAAAAAAAAAAAAAAAAAAAAAAAAAAAAAAAAAAAAAAAAAAAAAAAAAAAAAAAAAAAAAAAAAAAAAAAAAAAAAAAAAAAAAAAAAAAAAAAAAAAAAAAAAAAAAAAAAAAAAAAAAAAAAAAAAAAAAAAAAAAAAAAAAAAAAAAAAAAAAAAAAAAAAAAAAAAAAAAAAAAAAAAAAAAAAAAAAAAAAAAAAAAAAAAAAAAAAAAAAAAAAAAAAAAAAAAAAAAAAAAAAAAAAAAAAAAAAAAAAAAAAAAAAAAAAAAAAAAAAAAAAAAAAAAAAAAAAAAAAAAAAAAAAAAAAAAAAAAAAAAAAAAAAAAAAAAAAAAAAAAAAAAAAAAAAAAAAAAAAAAAAAAAAAAAAAAAAAAAAAAAAAAAAAAAAAAAAAAAAAAAAAAAAAAAAAAAAAAAAAAAAAAAAAAAAAAAAAAAAAAAAAAAAAAAAAAAAAAAAAAAAAAAAAAAAAAAAAAAAAAAAAAAAAAAAAAAAAAAAAAAAAAAAAAAAAAAAAAAAAAAAAAAAAAAAAAAAAAAAAAAAAAAAAAAAAAAAAAAAAAAAAAAAAAAAAAAAAAAAAAAAAAAAAAAAAAAAAAAAAAAAAAAAAAAAAAAAAAAAAAAAAAAAAAAAAAAAAAAAAAAAAAAAAAAAAAAAAAAAAAAAAAAAAAAAAAAAAAAAAAAAAAAAAAAAAAAAAAAAAAAAAAAAAAAAAAAAAAAAAAAAAAAAAAAAAAAAAAAAAAAAAAAAAAAAAAAAAAAAAAAAAAAAAAAAAAAAAAAAAAAAAAAAAAAAAAAAAAAAAAAAAAAAAAAAAAAAAAAAAAAAAAAAAAAAAAAAAAAAAAAAAAAAAAAAAAAAAAAAAAAAAAAAAAAAAAAAAAAAAAAAAAAAAAAAAAAAAAAAAAAAAAAAAAAAAAAAAAAAAAAAAAAAAAAAAAAAAAAAAAAAAAAAAAAAAAAAAAAAAAAAAAAAAAAAAAAAAAAAAAAAAAAAAAAAAAAAAAAAAAAAAAAAAAAAAAAAAAAAAAAAAAAAAAAAAAAAAAAAAAAAAAAAAAAAAAAAAAAAAAAAAAAAAAAAAAAAAAAAAAAAAAAAAAAAAAAAAAAAAAAAAAAAAAAAAAAAAAAAAAAAAAAAAAAAAAAAAAAAAAAAAAAAAAAAAAAAAAAAAAAAAAAAAAAAAAAAAAAAAAAAAAAAAAAAAAAAAAAAAAAAAAAAAAAAAAAAAAAAAAAAAAAAAAAAAAAAAAAAAAAAAAAAAAAAAAAAAAAAAAAAAAAAAAAAAAAAAAAAAAAAAAAAAAAAAAAAAAAAAAAAAAAAAAAAAAAAAAAAAAAAAAAAAAAAAAAAAAAAAAAAAAAAAAAAAAAAAAAAAAAAAAAAAAAAAAAAAAAAAAAAAAAAAAAAAAAAAAAAAAAAAAAAAAAAAAAAAAAAAAAAAAAAAAAAAAAAAAAAAAAAAAAAAAAAAAAAAAAAAAAAAAAAAAAAAAAAAAAAAAAAAAAAAAAAAAAAAAAAAAAAAAAAAAAAAAAAAAAAAAAAAAAAAAAAAAAAAAAAAAAAAAAAAAAAAAAAAAAAAAAAAAAAAAAAAAAAAAAAAAAAAAAAAAAAAAAAAAAAAAAAAAAAAAAAAAAAAAAAAAAAAAAAAAAAAAAAAAAAAAAAAAAAAAAAAAAAAAAAAAAAAAAAAAAAAAAAAAAAAAAAAAAAAAAAAAAAAAAAAAAAAAAAAAAAAAAAAAAAAAAAAAAAAAAAAAAAAAAAAAAAAAAAAAAAAAAAAAAAAAAAAAAAAAAAAAAAAAAAAAAAAAAAAAAAAAAAAAAAAAAAAAAAAAAAAAAAAAAAAAAAAAAAAAAAAAAAAAAAAAAAAAAAAAAAAAAAAAAAAAAAAAAAAAAAAAAAAAAAAAAAAAAAAAAAAAAAAAAAAAAAAAAAAAAAAAAAAAAAAAAAAAAAAAAAAAAAAAAAAAAAAAAAAAAAAAAAAAAAAAAAAAAAAAAAAAAAAAAAAAAAAAAAAAAAAAAAAAAAAAAAAAAAAAAAAAAAAAAAAAAAAAAAAAAAAAAAAAAAAAAAAAAAAAAAAAAAAAAAAAAAAAAAAAAAAAAAAAAAAAAAAAAAAAAAAAAAAAAAAAAAAAAAAAAAAAAAAAAAAAAAAAAAAAAAAAAAAAAAAAAAAAAAAAAAAAAAAAAAAAAAAAAAAAAAAAAAAAAAAAAAAAAAAAAAAAAAAAAAAAAAAAAAAAAAAAAAAAAAAAAAAAAAAAAAAAAAAAAAAAAAAAAAAAAAAAAAAAAAAAAAAAAAAAAAAAAAAAAAAAAAAAAAAAAAAAAAAAAAAAAAAAAAAAAAAAAAAAAAAAAAAAAAAAAAAAAAAAAAAAAAAAAAAAAAAAAAAAAAAAAAAAAAAAAAAAAAAAAAAAAAAAAAAAAAAAAAAAAAAAAAAAAAAAAAAAAAAAAAAAAAAAAAAAAAAAAAAAAAAAAAAAAAAAAAAAAAAAAAAAAAAAAAAAAAAAAAAAAAAAAAAAAAAAAAAAAAAAAAAAAAAAAAAAAAAAAAAAAAAAAAAAAAAAAAAAAAAAAAAAAAAAAAAAAAAAAAAAAAAAAAAAAAAAAAAAAAAAAAAAAAAAAAAAAAAAAAAAAAAAAAAAAAAAAAAAAAAAAAAAAAAAAAAAAAAAAAAAAAAAAAAAAAAAAAAAAAAAAAAAAAAAAAAAAAAAAAAAAAAAAAAAAAAAAAAAAAAAAAAAAAAAAAAAAAAAAAAAAAAAAAAAAAAAAAAAAAAAAAAAAAAAAAAAAAAAAAAAAAAAAAAAAAAAAAAAAAAAAAAAAAAAAAAAAAAAAAAAAAAAAAAAAAAAAAAAAAAAAAAAAAAAAAAAAAAAAAAAAAAAAAAAAAAAAAAAAAAAAAAAAAAAAAAAAAAAAAAAAAAAAAAAAAAAAAAAAAAAAAAAAAAAAAAAAAAAAAAAAAAAAAAAAAAAAAAAAAAAAAAAAAAAAAAAAAAAAAAAAAAAAAAAAAAAAAAAAAAAAAAAAAAAAAAAAAAAAAAAAAAAAAAAAAAAAAAAAAAAAAAAAAAAAAAAAAAAAAAAAAAAAAAAAAAAAAAAAAAAAAAAAAAAAAAAAAAAAAAAAAAAAAAAAAAAAAAAAAAAAAAAAAAAAAAAAAAAAAAAAAAAAAAAAAAAAAAAAAAAAAAAAAAAAAAAAAAAAAAAAAAAAAAAAAAAAAAAAAAAAAAAAAAAAAAAAAAAAAAAAAAAAAAAAAAAAAAAAAAAAAAAAAAAAAAAAAAAAAAAAAAAAAAAAAAAAAAAAAAAAAAAAAAAAAAAAAAAAAAAAAAAAAAAAAAAAAAAAAAAAAAAAAAAAAAAAAAAAAAAAAAAAAAAAAAAAAAAAAAAAAAAAAAAAAAAAAAAAAAAAAAAAAAAAAAAAAAAAAAAAAAAAAAAAAAAAAAAAAAAAAAAAAAAAAAAAAAAAAAAAAAAAAAAAAAAAAAAAAAAAAAAAAAAAAAAAAAAAAAAAAAAAAAAAAAAAAAAAAAAAAAAAAAAAAAAAAAAAAAAAAAAAAAAAAAAAAAAAAAAAAAAAAAAAAAAAAAAAAAAAAAAAAAAAAAAAAAAAAAAAAAAAAAAAAAAAAAAAAAAAAAAAAAAAAAAAAAAAAAAAAAAAAAAAAAAAAAAAAAAAAAAAAAAAAAAAAAAAAAAAAAAAAAAAAAAAAAAAAAAAAAAAAAAAAAAAAAAAAAAAAAAAAAAAAAAAAAAAAAAAAAAAAAAAAAAAAAAAAAAAAAAAAAAAAAAAAAAAAAAAAAAAAAAAAAAAAAAAAAAAAAAAAAAAAAAAAAAAAAAAAAAAAAAAAAAAAAAAAAAAAAAAAAAAAAAAAAAAAAAAAAAAAAAAAAAAAAAAAAAAAAAAAAAAAAAAAAAAAAAAAAAAAAAAAAAAAAAAAAAAAAAAAAAAAAAAAAAAAAAAAAAAAAAAAAAAAAAAAAAAAAAAAAAAAAAAAAAAAAAAAAAAAAAAAAAAAAAAAAAAAAAAAAAAAAAAAAAAAAAAAAAAAAAAAAAAAAAAAAAAAAAAAAAAAAAAAAAAAAAAAAAAAAAAAAAAAAAAAAAAAAAAAAAAAAAAAAAAAAAAAAAAAAAAAAAAAAAAAAAAAAAAAAAAAAAAAAAAAAAAAAAAAAAAAAAAAAAAAAAAAAAAAAAAAAAAAAAAAAAAAAAAAAAAAAAAAAAAAAAAAAAAAAAAAAAAAAAAAAAAAAAAAAAAAAAAAAAAAAAAAAAAAAAAAAAAAAAAAAAAAAAAAAAAAAAAAAAAAAAAAAAAAAAAAAAAAAAAAAAAAAAAAAAAAAAAAAAAAAAAAAAAAAAAAAAAAAAAAAAAAAAAAAAAAAAAAAAAAAAAAAAAAAAAAAAAAAAAAAAAAAAAAAAAAAAAAAAAAAAAAAAAAAAAAAAAAAAAAAAAAAAAAAAAAAAAAAAAAAAAAAAAAAAAAAAAAAAAAAAAAAAAAAAAAAAAAAAAAAAAAAAAAAAAAAAAAAAAAAAAAAAAAAAAAAAAAAAAAAAAAAAAAAAAAAAAAAAAAAAAAAAAAAAAAAAAAAAAAAAAAAAAAAAAAAAAAAAAAAAAAAAAAAAAAAAAAAAAAAAAAAAAAAAAAAAAAAAAAAAAAAAAAAAAAAAAAAAAAAAAAAAAAAAAAAAAAAAAAAAAAAAAAAAAAAAAAAAAAAAAAAAAAAAAAAAAAAAAAAAAAAAAAAAAAAAAAAAAAAAAAAAAAAAAAAAAAAAAAAAAAAAAAAAAAAAAAAAAAAAAAAAAAAAAAAAAAAAAAAAAAAAAAAAAAAAAAAAAAAAAAAAAAAAAAAAAAAAAAAAAAAAAAAAAAAAAAAAAAAAAAAAAAAAAAAAAAAAAAAAAAAAAAAAAAAAAAAAAAAAAAAAAAAAAAAAAAAAAAAAAAAAAAAAAAAAAAAAAAAAAAAAAAAAAAAAAAAAAAAAAAAAAAAAAAAAAAAAAAAAAAAAAAAAAAAAAAAAAAAAAAAAAAAAAAAAAAAAAAAAAAAAAAAAAAAAAAAAAAAAAAAAAAAAAAAAAAAAAAAAAAAAAAAAAAAAAAAAAAAAAAAAAAAAAAAAAAAAAAAAAAAAAAAAAAAAAAAAAAAAAAAAAAAAAAAAAAAAAAAAAAAAAAAAAAAAAAAAAAAAAAAAAAAAAAAAAAAAAAAAAAAAAAAAAAAAAAAAAAAAAAAAAAAAAAAAAAAAAAAAAAAAAAAAAAAAAAAAAAAAAAAAAAAAAAAAAAAAAAAAAAAAAAAAAAAAAAAAAAAAAAAAAAAAAAAAAAAAAAAAAAAAAAAAAAAAAAAAAAAAAAAAAAAAAAAAAAAAAAAAAAAAAAAAAAAAAAAAAAAAAAAAAAAAAAAAAAAAAAAAAAAAAAAAAAAAAAAAAAAAAAAAAAAAAAAAAAAAAAAAAAAAAAAAAAAAAAAAAAAAAAAAAAAAAAAAAAAAAAAAAAAAAAAAAAAAAAAAAAAAAAAAAAAAAAAAAAAAAAAAAAAAAAAAAAAAAAAAAAAAAAAAAAAAAAAAAAAAAAAAAAAAAAAAAAAAAAAAAAAAAAAAAAAAAAAAAAAAAAAAAAAAAAAAAAAAAAAAAAAAAAAAAAAAAAAAAAAAAAAAAAAAAAAAAAAAAAAAAAAAAAAAAAAAAAAAAAAAAAAAAAAAAAAAAAAAAAAAAAAAAAAAAAAAAAAAAAAAAAAAAAAAAAAAAAAAAAAAAAAAAAAAAAAAAAAAAAAAAAAAAAAAAAAAAAAAAAAAAAAAAAAAAAAAAAAAAAAAAAAAAAAAAAAAAAAAAAAAAAAAAAAAAAAAAAAAAAAAAAAAAAAAAAAAAAAAAAAAAAAAAAAAAAAAAAAAAAAAAAAAAAAAAAAAAAAAAAAAAAAAAAAAAAAAAAAAAAAAAAAAAAAAAAAAAAAAAAAAAAAAAAAAAAAAAAAAAAAAAAAAAAAAAAAAAAAAAAAAAAAAAAAAAAAAAAAAAAAAAAAAAAAAAAAAAAAAAAAAAAAAAAAAAAAAAAAAAAAAAAAAAAAAAAAAAAAAAAAAAAAAAAAAAAAAAAAAAAAAAAAAAAAAAAAAAAAAAAAAAAAAAAAAAAAAAAAAAAAAAAAAAAAAAAAAAAAAAAAAAAAAAAAAAAAAAAAAAAAAAAAAAAAAAAAAAAAAAAAAAAAAAAAAAAAAAAAAAAAAAAAAAAAAAAAAAAAAAAAAAAAAAAAAAAAAAAAAAAAAAAAAAAAAAAAAAAAAAAAAAAAAAAAAAAAAAAAAAAAAAAAAAAAAAAAAAAAAAAAAAAAAAAAAAAAAAAAAAAAAAAAAAAAAAAAAAAAAAAAAAAAAAAAAAAAAAAAAAAAAAAAAAAAAAAAAAAAAAAAAAAAAAAAAAAAAAAAAAAAAAAAAAAAAAAAAAAAAAAAAAAAAAAAAAAAAAAAAAAAAAAAAAAAAAAAAAAAAAAAAAAAAAAAAAAAAAAAAAAAAAAAAAAAAAAAAAAAAAAAAAAAAAAAAAAAAAAAAAAAAAAAAAAAAAAAAAAAAAAAAAAAAAAAAAAAAAAAAAAAAAAAAAAAAAAAAAAAAAAAAAAAAAAAAAAAAAAAAAAAAAAAAAAAAAAAAAAAAAAAAAAAAAAAAAAAAAAAAAAAAAAAAAAAAAAAAAAAAAAAAAAAAAAAAAAAAAAAAAAAAAAAAAAAAAAAAAAAAAAAAAAAAAAAAAAAAAAAAAAAAAAAAAAAAAAAAAAAAAAAAAAAAAAAAAAAAAAAAAAAAAAAAAAAAAAAAAAAAAAAAAAAAAAAAAAAAAAAAAAAAAAAAAAAAAAAAAAAAAAAAAAAAAAAAAAAAAAAAAAAAAAAAAAAAAAAAAAAAAAAAAAAAAAAAAAAAAAAAAAAAAAAAAAAAAAAAAAAAAAAAAAAAAAAAAAAAAAAAAAAAAAAAAAAAAAAAAAAAAAAAAAAAAAAAAAAAAAAAAAAAAAAAAAAAAAAAAAAAAAAAAAAAAAAAAAAAAAAAAAAAAAAAAAAAAAAAAAAAAAAAAAAAAAAAAAAAAAAAAAAAAAAAAAAAAAAAAAAAAAAAAAAAAAAAAAAAAAAAAAAAAAAAAAAAAAAAAAAAAAAAAAAAAAAAAAAAAAAAAAAAAAAAAAAAAAAAAAAAAAAAAAAAAAAAAAAAAAAAAAAAAAAAAAAAAAAAAAAAAAAAAAAAAAAAAAAAAAAAAAAAAAAAAAAAAAAAAAAAAAAAAAAAAAAAAAAAAAAAAAAAAAAAAAAAAAAAAAAAAAAAAAAAAAAAAAAAAAAAAAAAAAAAAAAAAAAAAAAAAAAAAAAAAAAAAAAAAAAAAAAAAAAAAAAAAAAAAAAAAAAAAAAAAAAAAAAAAAAAAAAAAAAAAAAAAAAAAAAAAAAAAAAAAAAAAAAAAAAAAAAAAAAAAAAAAAAAAAAAAAAAAAAAAAAAAAAAAAAAAAAAAAAAAAAAAAAAAAAAAAAAAAAAAAAAAAAAAAAAAAAAAAAAAAAAAAAAAAAAAAAAAAAAAAAAAAAAAAAAAAAAAAAAAAAAAAAAAAAAAAAAAAAAAAAAAAAAAAAAAAAAAAAAAAAAAAAAAAAAAAAAAAAAAAAAAAAAAAAAAAAAAAAAAAAAAAAAAAAAAAAAAAAAAAAAAAAAAAAAAAAAAAAAAAAAAAAAAAAAAAAAAAAAAAAAAAAAAAAAAAAAAAAAAAAAAAAAAAAAAAAAAAAAAAAAAAAAAAAAAAAAAAAAAAAAAAAAAAAAAAAAAAAAAAAAAAAAAAAAAAAAAAAAAAAAAAAAAAAAAAAAAAAAAAAAAAAAAAAAAAAAAAAAAAAAAAAAAAAAAAAAAAAAAAAAAAAAAAAAAAAAAAAAAAAAAAAAAAAAAAAAAAAAAAAAAAAAAAAAAAAAAAAAAAAAAAAAAAAAAAAAAAAAAAAAAAAAAAAAAAAAAAAAAAAAAAAAAAAAAAAAAAAAAAAAAAAAAAAAAAAAAAAAAAAAAAAAAAAAAAAAAAAAAAAAAAAAAAAAAAAAAAAAAAAAAAAAAAAAAAAAAAAAAAAAAAAAAAAAAAAAAAAAAAAAAAAAAAAAAAAAAAAAAAAAAAAAAAAAAAAAAAAAAAAAAAAAAAAAAAAAAAAAAAAAAAAAAAAAAAAAAAAAAAAAAAAAAAAAAAAAAAAAAAAAAAAAAAAAAAAAAAAAAAAAAAAAAAAAAAAAAAAAAAAAAAAAAAAAAAAAAAAAAAAAAAAAAAAAAAAAAAAAAAAAAAAAAAAAAAAAAAAAAAAAAAAAAAAAAAAAAAAAAAAAAAAAAAAAAAAAAAAAAAAAAAAAAAAAAAAAAAAAAAAAAAAAAAAAAAAAAAAAAAAAAAAAAAAAAAAAAAAAAAAAAAAAAAAAAAAAAAAAAAAAAAAAAAAAAAAAAAAAAAAAAAAAAAAAAAAAAAAAAAAAAAAAAAAAAAAAAAAAAAAAAAAAAAAAAAAAAAAAAAAAAAAAAAAAAAAAAAAAAAAAAAAAAAAAAAAAAAAAAAAAAAAAAAAAAAAAAAAAAAAAAAAAAAAAAAAAAAAAAAAAAAAAAAAAAAAAAAAAAAAAAAAAAAAAAAAAAAAAAAAAAAAAAAAAAAAAAAAAAAAAAAAAAAAAAAAAAAAAAAAAAAAAAAAAAAAAAAAAAAAAAAAAAAAAAAAAAAAAAAAAAAAAAAAAAAAAAAAAAAAAAAAAAAAAAAAAAAAAAAAAAAAAAAAAAAAAAAAAAAAAAAAAAAAAAAAAAAAAAAAAAAAAAAAAAAAAAAAAAAAAAAAAAAAAAAAAAAAAAAAAAAAAAAAAAAAAAAAAAAAAAAAAAAAAAAAAAAAAAAAAAAAAAAAAAAAAAAAAAAAAAAAAAAAAAAAAAAAAAAAAAAAAAAAAAAAAAAAAAAAAAAAAAAAAAAAAAAAAAAAAAAAAAAAAAAAAAAAAAAAAAAAAAAAAAAAAAAAAAAAAAAAAAAAAAAAAAAAAAAAAAAAAAAAAAAAAAAAAAAAAAAAAAAAAAAAAAAAAAAAAAAAAAAAAAAAAAAAAAAAAAAAAAAAAAAAAAAAAAAAAAAAAAAAAAAAAAAAAAAAAAAAAAAAAAAAAAAAAAAAAAAAAAAAAAAAAAAAAAAAAAAAAAAAAAAAAAAAAAAAAAAAAAAAAAAAAAAAAAAAAAAAAAAAAAAAAAAAAAAAAAAAAAAAAAAAAAAAAAAAAAAAAAAAAAAAAAAAAAAAAAAAAAAAAAAAAAAAAAAAAAAAAAAAAAAAAAAAAAAAAAAAAAAAAAAAAAAAAAAAAAAAAAAAAAAAAAAAAAAAAAAAAAAAAAAAAAAAAAAAAAAAAAAAAAAAAAAAAAAAAAAAAAAAAAAAAAAAAAAAAAAAAAAAAAAAAAAAAAAAAAAAAAAAAAAAAAAAAAAAAAAAAAAAAAAAAAAAAAAAAAAAAAAAAAAAAAAAAAAAAAAAAAAAAAAAAAAAAAAAAAAAAAAAAAAAAAAAAAAAAAAAAAAAAAAAAAAAAAAAAAAAAAAAAAAAAAAAAAAAAAAAAAAAAAAAAAAAAAAAAAAAAAAAAAAAAAAAAAAAAAAAAAAAAAAAAAAAAAAAAAAAAAAAAAAAAAAAAAAAAAAAAAAAAAAAAAAAAAAAAAAAAAAAAAAAAAAAAAAAAAAAAAAAAAAAAAAAAAAAAAAAAAAAAAAAAAAAAAAAAAAAAAAAAAAAAAAAAAAAAAAAAAAAAAAAAAAAAAAAAAAAAAAAAAAAAAAAAAAAAAAAAAAAAAAAAAAAAAAAAAAAAAAAAAAAAAAAAAAAAAAAAAAAAAAAAAAAAAAAAAAAAAAAAAAAAAAAAAAAAAAAAAAAAAAAAAAAAAAAAAAAAAAAAAAAAAAAAAAAAAAAAAAAAAAAAAAAAAAAAAAAAAAAAAAAAAAAAAAAAAAAAAAAAAAAAAAAAAAAAAAAAAAAAAAAAAAAAAAAAAAAAAAAAAAAAAAAAAAAAAAAAAAAAAAAAAAAAAAAAAAAAAAAAAAAAAAAAAAAAAAAAAAAAAAAAAAAAAAAAAAAAAAAAAAAAAAAAAAAAAAAAAAAAAAAAAAAAAAAAAAAAAAAAAAAAAAAAAAAAAAAAAAAAAAAAAAAAAAAAAAAAAAAAAAAAAAAAAAAAAAAAAAAAAAAAAAAAAAAAAAAAAAAAAAAAAAAAAAAAAAAAAAAAAAAAAAAAAAAAAAAAAAAAAAAAAAAAAAAAAAAAAAAAAAAAAAAAAAAAAAAAAAAAAAAAAAAAAAAAAAAAAAAAAAAAAAAAAAAAAAAAAAAAAAAAAAAAAAAAAAAAAAAAAAAAAAAAAAAAAAAAAAAAAAAAAAAAAAAAAAAAAAAAAAAAAAAAAAAAAAAAAAAAAAAAAAAAAAAAAAAAAAAAAAAAAAAAAAAAAAAAAAAAAAAAAAAAAAAAAAAAAAAAAAAAAAAAAAAAAAAAAAAAAAAAAAAAAAAAAAAAAAAAAAAAAAAAAAAAAAAAAAAAAAAAAAAAAAAAAAAAAAAAAAAAAAAAAAAAAAAAAAAAAAAAAAAAAAAAAAAAAAAAAAAAAAAAAAAAAAAAAAAAAAAAAAAAAAAAAAAAAAAAAAAAAAAAAAAAAAAAAAAAAAAAAAAAAAAAAAAAAAAAAAAAAAAAAAAAAAAAAAAAAAAAAAAAAAAAAAAAAAAAAAAAAAAAAAAAAAAAAAAAAAAAAAAAAAAAAAAAAAAAAAAAAAAAAAAAAAAAAAAAAAAAAAAAAAAAAAAAAAAAAAAAAAAAAAAAAAAAAAAAAAAAAAAAAAAAAAAAAAAAAAAAAAAAAAAAAAAAAAAAAAAAAAAAAAAAAAAAAAAAAAAAAAAAAAAAAAAAAAAAAAAAAAAAAAAAAAAAAAAAAAAAAAAAAAAAAAAAAAAAAAAAAAAAAAAAAAAAAAAAAAAAAAAAAAAAAAAAAAAAAAAAAAAAAAAAAAAAAAAAAAAAAAAAAAAAAAAAAAAAAAAAAAAAAAAAAAAAAAAAAAAAAAAAAAAAAAAAAAAAAAAAAAAAAAAAAAAAAAAAAAAAAAAAAAAAAAAAAAAAAAAAAAAAAAAAAAAAAAAAAAAAAAAAAAAAAAAAAAAAAAAAAAAAAAAAAAAAAAAAAAAAAAAAAAAAAAAAAAAAAAAAAAAAAAAAAAAAAAAAAAAAAAAAAAAAAAAAAAAAAAAAAAAAAAAAAAAAAAAAAAAAAAAAAAAAAAAAAAAAAAAAAAAAAAAAAAAAAAAAAAAAAAAAAAAAAAAAAAAAAAAAAAAAAAAAAAAAAAAAAAAAAAAAAAAAAAAAAAAAAAAAAAAAAAAAAAAAAAAAAAAAAAAAAAAAAAAAAAAAAAAAAAAAAAAAAAAAAAAAAAAAAAAAAAAAAAAAAAAAAAAAAAAAAAAAAAAAAAAAAAAAAAAAAAAAAAAAAAAAAAAAAAAAAAAAAAAAAAAAAAAAAAAAAAAAAAAAAAAAAAAAAAAAAAAAAAAAAAAAAAAAAAAAAAAAAAAAAAAAAAAAAAAAAAAAAAAAAAAAAAAAAAAAAAAAAAAAAAAAAAAAAAAAAAAAAAAAAAAAAAAAAAAAAAAAAAAAAAAAAAAAAAAAAAAAAAAAAAAAAAAAAAAAAAAAAAAAAAAAAAAAAAAAAAAAAAAAAAAAAAAAAAAAAAAAAAAAAAAAAAAAAAAAAAAAAAAAAAAAAAAAAAAAAAAAAAAAAAAAAAAAAAAAAAAAAAAAAAAAAAAAAAAAAAAAAAAAAAAAAAAAAAAAAAAAAAAAAAAAAAAAAAAAAAAAAAAAAAAAAAAAAAAAAAAAAAAAAAAAAAAAAAAAAAAAAAAAAAAAAAAAAAAAAAAAAAAAAAAAAAAAAAAAAAAAAAAAAAAAAAAAAAAAAAAAAAAAAAAAAAAAAAAAAAAAAAAAAAAAAAAAAAAAAAAAAAAAAAAAAAAAAAAAAAAAAAAAAAAAAAAAAAAAAAAAAAAAAAAAAAAAAAAAAAAAAAAAAAAAAAAAAAAAAAAAAAAAAAAAAAAAAAAAAAAAAAAAAAAAAAAAAAAAAAAAAAAAAAAAAAAAAAAAAAAAAAAAAAAAAAAAAAAAAAAAAAAAAAAAAAAAAAAAAAAAAAAAAAAAAAAAAAAAAAAAAAAAAAAAAAAAAAAAAAAAAAAAAAAAAAAAAAAAAAAAAAAAAAAAAAAAAAAAAAAAAAAAAAAAAAAAAAAAAAAAAAAAAAAAAAAAAAAAAAAAAAAAAAAAAAAAAAAAAAAAAAAAAAAAAAAAAAAAAAAAAAAAAAAAAAAAAAAAAAAAAAAAAAAAAAAAAAAAAAAAAAAAAAAAAAAAAAAAAAAAAAAAAAAAAAAAAAAAAAAAAAAAAAAAAAAAAAAAAAAAAAAAAAAAAAAAAAAAAAAAAAAAAAAAAAAAAAAAAAAAAAAAAAAAAAAAAAAAAAAAAAAAAAAAAAAAAAAAAAAAAAAAAAAAAAAAAAAAAAAAAAAAAAAAAAAAAAAAAAAAAAAAAAAAAAAAAAAAAAAAAAAAAAAAAAAAAAAAAAAAAAAAAAAAAAAAAAAAAAAAAAAAAAAAAAAAAAAAAAAAAAAAAAAAAAAAAAAAAAAAAAAAAAAAAAAAAAAAAAAAAAAAAAAAAAAAAAAAAAAAAAAAAAAAAAAAAAAAAAAAAAAAAAAAAAAAAAAAAAAAAAAAAAAAAAAAAAAAAAAAAAAAAAAAAAAAAAAAAAAAAAAAAAAAAAAAAAAAAAAAAAAAAAAAAAAAAAAAAAAAAAAAAAAAAAAAAAAAAAAAAAAAAAAAAAAAAAAAAAAAAAAAAAAAAAAAAAAAAAAAAAAAAAAAAAAAAAAAAAAAAAAAAAAAAAAAAAAAAAAAAAAAAAAAAAAAAAAAAAAAAAAAAAAAAAAAAAAAAAAAAAAAAAAAAAAAAAAAAAAAAAAAAAAAAAAAAAAAAAAAAAAAAAAAAAAAAAAAAAAAAAAAAAAAAAAAAAAAAAAAAAAAAAAAAAAAAAAAAAAAAAAAAAAAAAAAAAAAAAAAAAAAAAAAAAAAAAAAAAAAAAAAAAAAAAAAAAAAAAAAAAAAAAAAAAAAAAAAAAAAAAAAAAAAAAAAAAAAAAAAAAAAAAAAAAAAAAAAAAAAAAAAAAAAAAAAAAAAAAAAAAAAAAAAAAAAAAAAAAAAAAAAAAAAAAAAAAAAAAAAAAAAAAAAAAAAAAAAAAAAAAAAAAAAAAAAAAAAAAAAAAAAAAAAAAAAAAAAAAAAAAAAAAAAAAAAAAAAAAAAAAAAAAAAAAAAAAAAAAAAAAAAAAAAAAAAAAAAAAAAAAAAAAAAAAAAAAAAAAAAAAAAAAAAAAAAAAAAAAAAAAAAAAAAAAAAAAAAAAAAAAAAAAAAAAAAAAAAAAAAAAAAAAAAAAAAAAAAAAAAAAAAAAAAAAAAAAAAAAAAAAAAAAAAAAAAAAAAAAAAAAAAAAAAAAAAAAAAAAAAAAAAAAAAAAAAAAAAAAAAAAAAAAAAAAAAAAAAAAAAAAAAAAAAAAAAAAAAAAAAAAAAAAAAAAAAAAAAAAAAAAAAAAAAAAAAAAAAAAAAAAAAAAAAAAAAAAAAAAAAAAAAAAAAAAAAAAAAAAAAAAAAAAAAAAAAAAAAAAAAAAAAAAAAAAAAAAAAAAAAAAAAAAAAAAAAAAAAAAAAAAAAAAAAAAAAAAAAAAAAAAAAAAAAAAAAAAAAAAAAAAAAAAAAAAAAAAAAAAAAAAAAAAAAAAAAAAAAAAAAAAAAAAAAAAAAAAAAAAAAAAAAAAAAAAAAAAAAAAAAAAAAAAAAAAAAAAAAAAAAAAAAAAAAAAAAAAAAAAAAAAAAAAAAAAAAAAAAAAAAAAAAAAAAAAAAAAAAAAAAAAAAAAAAAAAAAAAAAAAAAAAAAAAAAAAAAAAAAAAAAAAAAAAAAAAAAAAAAAAAAAAAAAAAAAAAAAAAAAAAAAAAAAAAAAAAAAAAAAAAAAAAAAAAAAAAAAAAAAAAAAAAAAAAAAAAAAAAAAAAAAAAAAAAAAAAAAAAAAAAAAAAAAAAAAAAAAAAAAAAAAAAAAAAAAAAAAAAAAAAAAAAAAAAAAAAAAAAAAAAAAAAAAAAAAAAAAAAAAAAAAAAAAAAAAAAAAAAAAAAAAAAAAAAAAAAAAAAAAAAAAAAAAAAAAAAAAAAAAAAAAAAAAAAAAAAAAAAAAAAAAAAAAAAAAAAAAAAAAAAAAAAAAAAAAAAAAAAAAAAAAAAAAAAAAAAAAAAAAAAAAAAAAAAAAAAAAAAAAAAAAAAAAAAAAAAAAAAAAAAAAAAAAAAAAAAAAAAAAAAAAAAAAAAAAAAAAAAAAAAAAAAAAAAAAAAAAAAAAAAAAAAAAAAAAAAAAAAAAAAAAAAAAAAAAAAAAAAAAAAAAAAAAAAAAAAAAAAAAAAAAAAAAAAAAAAAAAAAAAAAAAAAAAAAAAAAAAAAAAAAAAAAAAAAAAAAAAAAAAAAAAAAAAAAAAAAAAAAAAAAAAAAAAAAAAAAAAAAAAAAAAAAAAAAAAAAAAAAAAAAAAAAAAAAAAAAAAAAAAAAAAAAAAAAAAAAAAAAAAAAAAAAAAAAAAAAAAAAAAAAAAAAAAAAAAAAAAAAAAAAAAAAAAAAAAAAAAAAAAAAAAAAAAAAAAAAAAAAAAAAAAAAAAAAAAAAAAAAAAAAAAAAAAAAAAAAAAAAAAAAAAAAAAAAAAAAAAAAAAAAAAAAAAAAAAAAAAAAAAAAAAAAAAAAAAAAAAAAAAAAAAAAAAAAAAAAAAAAAAAAAAAAAAAAAAAAAAAAAAAAAAAAAAAAAAAAAAAAAAAAAAAAAAAAAAAAAAAAAAAAAAAAAAAAAAAAAAAAAAAAAAAAAAAAAAAAAAAAAAAAAAAAAAAAAAAAAAAAAAAAAAAAAAAAAAAAAAAAAAAAAAAAAAAAAAAAAAAAAAAAAAAAAAAAAD+//7/AAAAAAAAAAAAAAAAAAAAAAAAAAAAAAAAAAAAAAAAAAAAAAAAAAAAAAAAAAAAAAAAAAAAAAAAAAAAAAAAAAAAAAAAAAAAAAAAAAAAAAAAAAAAAAAAAAAAAAAAAAAAAAAAAAAAAAAAAAAAAAAAAAAAAAAAAAAAAAAAAAAAAAAAAAAAAAAAAAAAAAAAAAAAAAAAAAAAAAAAAAAAAAAAAAAAAAAAAAAAAAAAAAAAAAAAAAAAAAAAAAAAAAAAAAAAAAAAAAAAAAAAAAAAAAAAAAAAAAAAAAAAAAAAAAAAAAAAAAAAAAAAAAAAAAAAAAAAAAAAAAAAAAAAAAAAAAAAAAAAAAAAAAAAAAAAAAAAAAAAAAAAAAAAAAAAAAAAAAAAAAAAAAAAAAAAAAAAAAAAAAAAAAAAAAAAAAAAAAAAAAAAAAAAAAAAAAAAAAAAAAAAAAAAAAAAAAAAAAAAAAAAAAAAAAAAAAAAAAAAAAAAAAAAAAAAAAAAAAAAAAAAAAAAAAAAAAAAAAAAAAAAAAAAAAAAAAAAAAAAAAAAAAAAAAAAAAAAAAAAAAAAAAAAAAAAAAAAAAAAAAAAAAAAAAAAAAAAAAAAAwAAAAAAAAAAAP3/AAD+////AAAAAAAABgABAAAAAAAAAP7//v8BAP//AgACAAMAAAAAAAAAAAD///v/AAAAAAAAAAAAAAAAAAAAAAAAAAD+////AAAAAAAAAAAAAAAAAAAAAAAAAAAAAAAAAAAAAAAAAAAAAAAAAAAAAAAAAAAAAAAAAAAAAAAAAAAAAAAAAAAAAAAAAAAAAAAAAAAAAAAAAAAAAAAAAgACAAAAAAAAAAAAAAAAAAAAAAAAAAAAAAAAAAAAAAAAAAAAAAAAAAAAAAAAAAAAAAAAAAAAAAAAAAAAAAAAAAAAAAACAAIAAAAAAAAAAAAAAAAAAAAAAAAAAAAAAAAAAAAAAAAAAAAAAAAAAAAAAAAAAAAAAAAAAAAAAAAAAAAAAAAAAAAAAAAAAAAAAAAAAAAAAAAAAAAAAAAAAAAAAAAAAAAAAAAAAAAAAAAAAAAAAAAAAAAAAAAAAAAAAAAAAAAAAAAAAAAAAAAAAAAAAAAAAAAAAAAAAAAAAAAAAAAAAAAAAAAAAAAAAAAAAAAAAAAAAAAAAAAAAAAAAAAAAAAAAAAAAAAAAAAAAAAAAAAAAAAAAAAAAAAAAAAAAAAAAAAAAAAAAAAAAAAAAAAAAAAAAAAAAAAAAAAAAAAAAAAAAAAA///6/wAAAAAAAAAAAAAAAAAAAAAAAAAAAAD+//7/AAAAAAAAAAADAAAAAAAAAAAAAAAAAAAAAAAAAAAAAAAAAAAAAAAAAP7//v8AAAAAAAAAAAAAAAAAAAAAAAAAAAAAAAAAAAAAAAAAAAAAAAAAAAAAAAAAAAAAAAAAAAAAAAAAAAAAAAAAAAAAAAAAAAAAAAAAAAAAAAAAAAAAAAAAAAAAAAACAAEAAAAAAAAAAAAAAAAAAAAAAP//AwABAAAAAAAAAAAA/f8AAAAAAAAAAAEABQAFAAIAAAAAAP3/+v///wAAAAAAAAAAAAAAAAAAAAABAPz/+/8BAAAAAAAAAAAAAAAAAAAAAAAAAP3///8AAAAAAAAAAAMAAAAAAAAAAAAAAAAAAAAAAAAAAAAAAAAAAAAAAAAAAAAAAAAAAAAAAAAAAAAAAAAAAAAAAAAAAAAAAAAAAAAAAAAAAAAAAAAAAAAAAAAAAAAAAAAAAAAAAAAAAAAAAAAAAAAAAAAAAAAAAAAAAAAAAAAAAAAAAAAAAAAAAAAAAAAAAAAAAAAAAAAAAAAAAAAAAAAAAAAAAAAAAAAAAAAAAAAAAAAAAAAAAAAAAAAAAAAAAAAAAAAAAAAAAAAAAAAAAAAAAAAAAgACAP//AQD+//7/AAAAAAAAAAAAAAAAAAAAAAAAAAAAAP7//v8AAAAAAAAAAAAAAAAAAAAAAAAAAP3/AAAAAAAAAAAAAAAAAAAAAAAAAAAAAAAAAAAAAAAAAgAFAAAAAAAAAAAA/v/+/wEAAAAAAAAAAQADAAAAAAAAAAAAAAAAAAAAAAAAAAAAAAAAAAAAAAAAAAAAAAAAAAAAAAAAAAAAAAAAAAAAAAAAAAAAAAAAAAAAAAAAAAAAAAAAAAAAAAAAAAAAAAAAAAAAAAAAAAAAAAAAAAAAAAAAAAAAAAAAAAAAAAAAAAAAAAAAAAAAAAAAAAAAAAAAAAAAAAAAAAAAAAAAAAAAAAAAAAAAAAAAAAAAAAAAAAAAAAAAAAAAAAAAAAAAAAAAAAAAAAAAAAAAAAAAAAAAAAAAAAAAAAAAAAAAAAAAAAAAAAAAAAAAAAAAAAAAAAAAAAAAAAAAAAAAAAAAAAAAAAAAAAAAAAAAAAAAAAAAAAAAAAAAAAAAAAAAAAAAAAAAAAAAAAAAAAAAAAAAAAAAAAAAAAAAAAAAAAAAAAAAAAAAAAAAAAAAAAAAAAAAAAAAAAAAAAAAAAAAAAAAAAAAAAAAAAAAAAAAAAAAAAAAAAAAAAAAAAAAAAAAAAAAAAAAAAAAAAAAAAAAAAAAAAAAAAAAAAAAAAAAAAAAAAAAAAAAAAAAAAAAAAAAAAAAAAAAAAAAAAAAAAAAAAAAAAAAAAAAAAAAAAAAAAAAAAAAAAAAAAAAAAAAAAAAAAAAAAAAAAAAAAAAAAAAAAAAAAAAAAAAAAAAAAAAAAAAAAAAAAAAAAAAAAAAAAAAAAAAAAAAAAAAAAAAAAAAAAAAAAAAAAAAAAAAAAAAAAAAAAAAAAAAAAAAAAAAAAAAAAAAAAAAAAAAAAAAAAAAAAAAAAAAAAAAAAAAAAAAAAAAAAAAAAAAAAAAAAAAAAAAAAAAAAAAAAAAAAAAAAAAAAAAAAAAAAAAAAAAAAAAAAAAAAAAAAAAAAAAAAAAAAAAAAAAAAAAAAAAAAAAAAAAAAAAAAAAAAAAAAAAAAAAAAAAAAAAAAAAAAAAAAAAAAAAAAAAAAAAAAAAAAAAAAAAAAAAAAAAAAAAAAAAAAAAAAAAAAAAAAAAAAAAAAAAAAAAAAAAAAAAAAAAAAAAAAAAAAAAAAAAAAAAAAAAAAAAAAAAAAAAAAAAAAAAAAAAAAAAAAAAAAAAAAAAAAAAAAAAAAAAAAAAAAAAAAAAAAAAAAAAAAAAAAAAAAAAAAAAAAAAAAAAAAAAAAAAAAAAAAAAAAAAAAAAAAAAAAAAAAAAAAAAAAAAAAAAAAAAAAAAAAAAAAAAAAAAAAAAAAAAAAAAAAAAAAAAAAAAAAAAAAAAAAAAAAAAAAAAAAAAAAAAAAD+//3//v8AAAAAAAAAAAAAAAAAAAAAAAAAAAAAAAAAAAAAAAAAAAAAAAAAAAAAAAAAAAAAAAAAAAAAAAACAAIAAAAAAAAAAAD9/wAAAAAAAAAAAAAAAAAAAAAAAAAAAAAAAAAAAAAAAAAAAAAAAAAAAAAAAAAAAAAAAAAAAAAAAAAAAAAAAAAAAAAAAAAAAAAAAAAAAAAAAAAAAAAAAAAAAAAAAAAAAAAAAAAAAAAAAAAAAAAAAAAAAAAAAAAAAAAAAAAAAAAAAAAAAAAAAAAAAAAAAAAAAAAAAAAAAAAAAAAAAAAAAAAAAAAAAAAAAAAAAAAAAAAAAAAAAAAAAAAAAAAAAAAAAAAAAAAAAAAAAAAAAAAAAAAAAAAAAAAAAAAAAAAAAAAAAAAAAAAAAAAAAAAAAAAAAAAAAAAAAAAAAAAAAAAAAAAAAAAAAAAAAAAAAAAAAAAAAAAAAAAAAAAAAAAAAAAAAAAAAAAAAAAAAAAAAAAAAAAAAAAAAAAAAAAAAAAAAAAAAAAAAAAAAAAAAAAAAAAAAAAAAAAAAAAAAAAAAAAAAAAAAAAAAAAAAAAAAAAAAAAAAAAAAAAAAAAAAAAAAAAAAAAAAAAAAAAAAAAAAAAAAAAAAAAAAAAAAAAAAAAAAAAAAAAAAAAAAAAAAAAAAAAAAAAAAAAAAAAAAAAAAAAAAAAAAAAAAAAAAAAAAAAAAAAAAAAAAAAAAAAAAAAAAAAAAAAAAAAAAAAAAAAAAAAAAAAAAAAAAAAAAAAAAAAAAAAAAAAAAAAAAAAAAAAAAAAAAAAAAAAAAAAAAAAAAAAAAAAAAAAAAAAAAAAAAAAAAAAAAAAAAAAAAAAAAAAAAAAAAAAAAAAAAAAAAAAAAAAAAAAAAAAAAAAAAAAAAAAAAAAAAAAAAAAAAAAAAAAAAAAAAAAAAAAAAAAAAAAAAAAAAAAAAAAAAAAAAAAAAAAAAAAAAAAAAAAAAAAAAAAAAAAAAAAAAAAAAAAAAAAAAAAAAAAAAAAAAAAAAAAAAAAAAAAAAAAAAAAAAAAAAAAAAAAAAAAAAAAAAAAAAAAAAAAAAAAAAAAAAAAAAAAAAAAAAAAAAAAAAAAAAAAAAAAAAAAAAAAAAAAAAAAAAAAAAAAAAAAAAAAAAAAAAAAAAAAAAAAAAAAAAAAAAAAAAAAAAAAAAAAAAAAAAAAAAAAAAAAAAAAAAAAAAAAAAAAAAAAAAAAAAAAAAAAAAAAAAAAAAAAAAAAAAAAAAAAAAAAAAAAAAAAAAAAAAAAAAAAAAAAAAAAAAAAAAAAAAAAAAAAAAAAAAAAAAAAAAAAAAAAAAAAAAAAAAAAAAAAAAAAAAAAAAAAAAAAAAAAAAAAAAAAAAAAAAAAAAAAAAAAAAAAAAAAAAAAAAAAAAAAAAAAAAAAAAAAAAAAAAAAAAAAAAAAAAAAAAAAAAAAAAAAAAAAAAAAAAAAAAAAAAAAAAAAAAAAAAAAAAAAAAAAAAAAAAAAAAAAAAAAAAAAAAAAAAAAAAAAAAAAAAAAAAAAAAAAAAAAAAAAAAAAAAAAAAAAAAAAAAAAAAAAAAAAAAAAAAAAAAAAAAAAAAAAAAAAAAAAAAAAAAAAAAAAAAAAAAAAAAAAAAAAAAAAAAAAAAAAAAAAAAAAAAAAAAAAAAAAAAAAAAAAAAAAAAAAAAAAAAAAAAAAAAAAAAAAAAAAAAAAAAAAAAAAAAAAAAAAAAAAAAAAAAAAAAAAAAAAAAAAAAAAAAAAAAAAAAAAAAAAAAAAAAAAAAAAAAAAAAAAAAAAAAAAAAAAAAAAAAAAAAAAAAAAAAAAAAAAAAAAAAAAAAAAAAAAAAAAAAAAAAAAAAAAAAAAAAAAAAAAAAAAAAAAAAAAAAAAAAAAAAAAAAAAAAAAAAAAAAAAAAAAAAAAAAAAAAAAAAAAAAAAAAAAAAAAAAAAAAAAAAAAAAAAAAAAAAAAAAAAAAAAAAAAAAAAAAAAAAAAAAAAAAAAAAAAAAAAAAAAAAAAAAAAAAAAAAAAAAAAAAAAAAAAAAAAAAAAAAAAAAAAAAAAAAAAAAAAAAAAAAAAAAAAAAAAAAAAAAAAAAAAAAAAAAAAAAAAAAAAAAAAAAAAAAAAAAAAAAAAAAAAAAAAAAAAAAAAAAAAAAAAAAAAAAAAAAAAAAAAAAAAAAAAAAAAAAAAAAAAAAAAAAAAAAAAAAAAAAAAAAAAAAAAAAAAAAAAAAAAAAAAAAAAAAAAAAAAAAAAAAAAAAAAAAAAAAAAAAAAAAAAAAAAAAAAAAAAAAAAAAAAAAAAAAAAAAAAAAAAAAAAAAAAAAAAAAAAAAAAAAAAAAAAAAAAAAAAAAAAAAAAAAAAAAAAAAAAAAAAAAAAAAAAAAAAAAAAAAAAAAAAAAAAAAAAAAAAAAAAAAAAAAAAAAAAAAAAAAAAAAAAAAAAAAAAAAAAAAAAAAAAAAAAAAAAAAAAAAAAAAAAAAAAAAAAAAAAAAAAAAAAAAAAAAAAAAAAAAAAAAAAAAAAAAAAAAAAAAAAAAAAAAAAAAAAAAAAAAAAAAAAAAAAAAAAAAAAAAAAAAAAAAAAAAAAAAAAAAAAAAAAAAAAAAAAAAAAAAAAAAAAAAAAAAAAAAAAAAAAAAAAAAAAAAAAAAAAAAAAAAAAAAAAAAAAAAAAAAAAAAAAAAAAAAAAAAAAAAAAAAAAAAAAAAAAAAAAAAAAAAAAAAAAAAAAAAAAAAAAAAAAAAAAAAAAAAAAAAAAAAAAAAAAAAAAAAAAAAAAAAAAAAAAAAAAAAAAAAAAAAAAAAAAAAAAAAAAAAAAAAAAAAAAAAAAAAAAAAAAAAAAAAAAAAAAAAAAAAAAAAAAAAAAAAAAAAAAAAAAAAAAAAAAAAAAAAAAAAAAAAAAAAAAAAAAAAAAAAAAAAAAAAAAAAAAAAAAAAAAAAAAAAAAAAAAAAAAAAAAAAAAAAAAAAAAAAAAAAAAAAAAAAAAAAAAAAAAAAAAAAAAAAAAAAAAAAAAAAAAAAAAAAAAAAAAAAAAAAAAAAAAAAAAAAAAAAAAAAAAAAAAAAAAAAAAAAAAAAAAAAAAAAAAAAAAAAAAAAAAAAAAAAAAAAAAAAAAAAAAAAAAAAAAAAAAAAAAAAAAAAAAAAAAAAAAAAAAAAAAAAAAAAAAAAAAAAAAAAAAAAAAAAAAAAAAAAAAAAAAAAAAAAAAAAAAAAAAAAAAAAAAAAAAAAAAAAAAAAAAAAAAAAAAAAAAAAAAAAAAAAAAAAAAAAAAAAAAAAAAAAAAAAAAAAAAAAAAAAAAAAAAAAAAAAAAAAAAAAAAAAAAAAAAAAAAAAAAAAAAAAAAAAAAAAAAAAAAAAAAAAAAAAAAAAAAAAAAAAAAAAAAAAAAAAAAAAAAAAAAAAAAAAAAAAAAAAAAAAAAAAAAAAAAAAAAAAAAAAAAAAAAAAAAAAAAAAAAAAAAAAAAAAAAAAAAAAAAAAAAAAAAAAAAAAAAAAAAAAAAAAAAAAAAAAAAAAAAAAAAAAAAAAAAAAAAAAAAAAAAAAAAAAAAAAAAAAAAAAAAAAAAAAAAAAAAAAAAAAAAAAAAAAAAAAAAAAAAAAAAAAAAAAAAAAAAAAAAAAAAAAAAAAAAAAAAAAAAAAAAAAAAAAAAAAAAAAAAAAAAAAAAAAAAAAAAAAAAAAAAAAAAAAAAAAAAAAAAAAAAAAAAAAAAAAAAAAAAAAAAAAAAAAAAAAAAAAAAAAAAAAAAAAAAAAAAAAAAAAAAAAAAAAAAAAAAAAAAAAAAAAAAAAAAAAAAAAAAAAAAAAAAAAAAAAAAAAAAAAAAAAAAAAAAAAAAAAAAAAAAAAAAAAAAAAAAAAAAAAAAAAAAAAAAAAAAAAAAAAAAAAAAAAAAAAAAAAAAAAAAAAAAAAAAAAAAAAAAAAAAAAAAAAAAAAAAAAAAAAAAAAAAAAAAAAAAAAAAAAAAAAAAAAAAAAAAAAAAAAAAAAAAAAAAAAAAAAAAAAAAAAAAAAAAAAAAAAAAAAAAAAAAAAAAAAAAAAAAAAAAAAAAAAAAAAAAAAAAAAAAAAAAAAAAAAAAAAAAAAAAAAAAAAAAAAAAAAAAAAAAAAAAAAAAAAAAAAAAAAAAAAAAAAAAAAAAAAAAAAAAAAAAAAAAAAAAAAAAAAAAAAAAAAAAAAAAAAAAAAAAAAAAAAAAAAAAAAAAAAAAAAAAAAAAAAAAAAAAAAAAAAAAAAAAAAAAAAAAAAAAAAAAAAAAAAAAAAAAAAAAAAAAAAAAAAAAAAAAAAAAAAAAAAAAAAAAAAAAAAAAAAAAAAAAAAAAAAAAAAAAAAAAAAAAAAAAAAAAAAAAAAAAAAAAAAAAAAAAAAAAAAAAAAAAAAAAAAAAAAAAAAAAAAAAAAAAAAAAAAAAAAAAAAAAAAAAAAAAAAAAAAAAAAAAAAAAAAAAAAAAAAAAAAAAAAAAAAAAAAAAAAAAAAAAAAAAAAAAAAAAAAAAAAAAAAAAAAAAAAAAAAAAAAAAAAAAAAAAAAAAAAAAAAAAAAAAAAAAAAAAAAAAAAAAAAAAAAAAAAAAAAAAAAAAAAAAAAAAAAAAAAAAAAAAAAAAAAAAAAAAAAAAAAAAAAAAAAAAAAAAAAAAAAAAAAAAAAAAAAAAAAAAAAAAAAAAAAAAAAAAAAAAAAAAAAAAAAAAAAAAAAAAAAAAAAAAAAAAAAAAAAAAAAAAAAAAAAAAAAAAAAAAAAAAAAAAAAAAAAAAAAAAAAAAAAAAAAAAAAAAAAAAAAAAAAAAAAAAAAAAAAAAAAAAAAAAAAAAAAAAAAAAAAAAAAAAAAAAAAAAAAAAAAAAAAAAAAAAAAAAAAAAAAAAAAAAAAAAAAAAAAAAAAAAAAAAAAAAAAAAAAAAAAAAAAAAAAAAAAAAAAAAAAAAAAAAAAAAAAAAAAAAAAAAAAAAAAAAAAAAAAAAAAAAAAAAAAAAAAAAAAAAAAAAAAAAAAAAAAAAAAAAAAAAAAAAAAAAAAAAAAAAAAAAAAAAAAAAAAAAAAAAAAAAAAAAAAAAAAAAAAAAAAAAAAAAAAAAAAAAAAAAAAAAAAAAAAAAAAAAAAAAAAAAAAAAAAAAAAAAAAAAAAAAAAAAAAAAAAAAAAAAAAAAAAAAAAAAAAAAAAAAAAAAAAAAAAAAAAAAAAAAAAAAAAAAAAAAAAAAAAAAAAAAAAAAAAAAAAAAAAAAAAAAAAAAAAAAAAAAAAAAAAAAAAAAAAAAAAAAAAAAAAAAAAAAAAAAAAAAAAAAAAAAAAAAAAAAAAAAAAAAAAAAAAAAAAAAAAAAAAAAAAAAAAAAAAAAAAAAAAAAAAAAAAAAAAAAAAAAAAAAAAAAAAAAAAAAAAAAAAAAAAAAAAAAAAAAAAAAAAAAAAAAAAAAAAAAAAAAAAAAAAAAAAAAAAAAAAAAAAAAAAAAAAAAAAAAAAAAAAAAAAAAAAAAAAAAAAAAAAAAAAAAAAAAAAAAAAAAAAAAAAAAAAAAAAAAAAAAAAAAAAAAAAAAAAAAAAAAAAAAAAAAAAAAAAAAAAAAAAAAAAAAAAAAAAAAAAAAAAAAAAAAAAAAAAAAAAAAAAAAAAAAAAAAAAAAAAAAAAAAAAAAAAAAAAAAAAAAAAAAAAAAAAAAAAAAAAAAAAAAAAAAAAAAAAAAAAAAAAAAAAAAAAAAAAAAAAAAAAAAAAAAAAAAAAAAAAAAAAAAAAAAAAAAAAAAAAAAAAAAAAAAAAAAAAAAAAAAAAAAAAAAAAAAAAAAAAAAAAAAAAAAAAAAAAAAAAAAAAAAAAAAAAAAAAAAAAAAAAAAAAAAAAAAAAAAAAAAAAAAAAAAAAAAAAAAAAAAAAAAAAAAAAAAAAAAAAAAAAAAAAAAAAAAAAAAAAAAAAAAAAAAAAAAAAAAAAAAAAAAAAAAAAAAAAAAAAAAAAAAAAAAAAAAAAAAAAAAAAAAAAAAAAAAAAAAAAAAAAAAAAAAAAAAAAAAAAAAAAAAAAAAAAAAAAAAAAAAAAAAAAAAAAAAAAAAAAAAAAAAAAAAAAAAAAAAAAAAAAAAAAAAAAAAAAAAAAAAAAAAAAAAAAAAAAAAAAAAAAAAAAAAAAAAAAAAAAAAAAAAAAAAAAAAAAAAAAAAAAAAAAAAAAAAAAAAAAAAAAAAAAAAAAAAAAAAAAAAAAAAAAAAAAAAAAAAAAAAAAAAAAAAAAAAAAAAAAAAAAAAAAAAAAAAAAAAAAAAAAAAAAAAAAAAAAAAAAAAAAAAAAAAAAAAAAAAAAAAAAAAAAAAAAAAAAAAAAAAAAAAAAAAAAAAAAAAAAAAAAAAAAAAAAAAAAAAAAAAAAAAAAAAAAAAAAAAAAAAAAAAAAAAAAAAAAAAAAAAAAAAAAAAAAAAAAAAAAAAAAAAAAAAAAAAAAAAAAAAAAAAAAAAAAAAAAAAAAAAAAAAAAAAAAAAAAAAAAAAAAAAAAAAAAAAAAAAAAAAAAAAAAAAAAAAAAAAAAAAAAAAAAAAAAAAAAAAAAAAAAAAAAAAAAAAAAAAAAAAAAAAAAAAAAAAAAAAAAAAAAAAAAAAAAAAAAAAAAAAAAAAAAAAAAAAAAAAAAAAAAAAAAAAAAAAAAAAAAAAAAAAAAAAAAAAAAAAAAAAAAAAAAAAAAAAAAAAAAAAAAAAAAAAAAAAAAAAAAAAAAAAAAAAAAAAAAAAAAAAAAAAAAAAAAAAAAAAAAAAAAAAAAAAAAAAAAAAAAAAAAAAAAAAAAAAAAAAAAAAAAAAAAAAAAAAAAAAAAAAAAAAAAAAAAAAAAAAAAAAAAAAAAAAAAAAAAAAAAAAAAAAAAAAAAAAAAAAAAAAAAAAAAAAAAAAAAAAAAAAAAAAAAAAAAAAAAAAAAAAAAAAAAAAAAAAAAAAAAAAAAAAAAAAAAAAAAAAAAAAAAAAAAAAAAAAAAAAAAAAAAAAAAAAAAAAAAAAAAAAAAAAAAAAAAAAAAAAAAAAAAAAAAAAAAAAAAAAAAAAAAAAAAAAAAAAAAAAAAAAAAAAAAAAAAAAAAAAAAAAAAAAAAAAAAAAAAAAAAAAAAAAAAAAAAAAAAAAAAAAAAAAAAAAAAAAAAAAAAAAAAAAAAAAAAAAAAAAAAAAAAAAAAAAAAAAAAAAAAAAAAAAAAAAAAAAAAAAAAAAAAAAAAAAAAAAAAAAAAAAAAAAAAAAAAAAAAAAAAAAAAAAAAAAAAAAAAAAAAAAAAAAAAAAAAAAAAAAAAAAAAAAAAAAAAAAAAAAAAAAAAAAAAAAAAAAAAAAAAAAAAAAAAAAAAAAAAAAAAAAAAAAAAAAAAAAAAAAAAAAAAAAAAAAAAAAAAAAAAAAAAAAAAAAAAAAAAAAAAAAAAAAAAAAAAAAAAAAAAAAAAAAAAAAAAAAAAAAAAAAAAAAAAAAAAAAAAAAAAAAAAAAAAAAAAAAAAAAAAAAAAAAAAAAAAAAAAAAAAAAAAAAAAAAAAAAAAAAAAAAAAAAAAAAAAAAAAAAAAAAAAAAAAAAAAAAAAAAAAAAAAAAAAAAAAAAAAAAAAAAAAAAAAAAAAAAAAAAAAAAAAAAAAAAAAAAAAAAAAAAAAAAAAAAAAAAAAAAAAAAAAAAAAAAAAAAAAAAAAAAAAAAAAAAAAAAAAAAAAAAAAAAAAAAAAAAAAAAAAAAAAAAAAAAAAAAAAAAAAAAAAAAAAAAAAAAAAAAAAAAAAAAAAAAAAAAAAAAAAAAAAAAAAAAAAAAAAAAAAAAAAAAAAAAAAAAAAAAAAAAAAAAAAAAAAAAAAAAAAAAAAAAAAAAAAAAAAAAAAAAAAAAAAAAAAAAAAAAAAAAAAAAAAAAAAAAAAAAAAAAAAAAAAAAAAAAAAAAAAAAAAAAAAAAAAAAAAAAAAAAAAAAAAAAAAAAAAAAAAAAAAAAAAAAAAAAAAAAAAAAAAAAAAAAAAAAAAAAAAAAAAAAAAAAAAAAAAAAAAAAAAAAAAAAAAAAAAAAAAAAAAAAAAAAAAAAAAAAAAAAAAAAAAAAAAAAAAAAAAAAAAAAAAAAAAAAAAAAAAAAAAAAAAAAAAAAAAAAAAAAAAAAAAAAAAAAAAAAAAAAAAAAAAAAAAAAAAAAAAAAAAAAAAAAAAAAAAAAAAAAAAAAAAAAAAAAAAAAAAAAAAAAAAAAAAAAAAAAAAAAAAAAAAAAAAAAAAAAAAAAAAAAAAAAAAAAAAAAAAAAAAAAAAAAAAAAAAAAAAAAAAAAAAAAAAAAAAAAAAAAAAAAAAAAAAAAAAAAAAAAAAAAAAAAAAAAAAAAAAAAAAAAAAAAAAAAAAAAAAAAAAAAAAAAAAAAAAAAAAAAAAAAAAAAAAAAAAAAAAAAAAAAAAAAAAAAAAAAAAAAAAAAAAAAAAAAAAAAAAAAAAAAAAAAAAAAAAAAAAAAAAAAAAAAAAAAAAAAAAAAAAAAAAAAAAAAAAAAAAAAAAAAAAAAAAAAAAAAAAAAAAAAAAAAAAAAAAAAAAAAAAAAAAAAAAAAAAAAAAAAAAAAAAAAAAAAAAAAAAAAAAAAAAAAAAAAAAAAAAAAAAAAAAAAAAAAAAAAAAAAAAAAAAAAAAAAAAAAAAAAAAAAAAAAAAAAAAAAAAAAAAAAAAAAAAAAAAAAAAAAAAAAAAAAAAAAAAAAAAAAAAAAAAAAAAAAAAAAAAAAAAAAAAAAAAAAAAAAAAAAAAAAAAAAAAAAAAAAAAAAAAAAAAAAAAAAAAAAAAAAAAAAAAAAAAAAAAAAAAAAAAAAAAAAAAAAAAAAAAAAAAAAAAAAAAAAAAAAAAAAAAAAAAAAAAAAAAAAAAAAAAAAAAAAAAAAAAAAAAAAAAAAAAAAAAAAAAAAAAAAAAAAAAAAAAAAAAAAAAAAAAAAAAAAAAAAAAAAAAAAAAAAAAAAAAAAAAAAAAAAAAAAAAAAAAAAAAAAAAAAAAAAAAAAAAAAAAAAAAAAAAAAAAAAAAAAAAAAAAAAAAAAAAAAAAAAAAAAAAAAAAAAAAAAAAAAAAAAAAAAAAAAAAAAAAAAAAAAAAAAAAAAAAAAAAAAAAAAAAAAAAAAAAAAAAAAAAAAAAAAAAAAAAAAAAAAAAAAAAAAAAAAAAAAAAAAAAAAAAAAAAAAAAAAAAAAAAAAAAAAAAAAAAAAAAAAAAAAAAAAAAAAAAAAAAAAAAAAAAAAAAAAAAAAAAAAAAAAAAAAAAAAAAAAAAAAAAAAAAAAAAAAAAAAAAAAAAAAAAAAAAAAAAAAAAAAAAAAAAAAAAAAAAAAAAAAAAAAAAAAAAAAAAAAAAAAAAAAAAAAAAAAAAAAAAAAAAAAAAAAAAAAAAAAAAAAAAAAAAAAAAAAAAAAAAAAAAAAAAAAAAAAAAAAAAAAAAAAAAAAAAAAAAAAAAAAAAAAAAAAAAAAAAAAAAAAAAAAAAAAAAAAAAAAAAAAAAAAAAAAAAAAAAAAAAAAAAAAAAAAAAAAAAAAAAAAAAAAAAAAAAAAAAAAAAAAAAAAAAAAAAAAAAAAAAAAAAAAAAAAAAAAAAAAAAAAAAAAAAAAAAAAAAAAAAAAAAAAAAAAAAAAAAAAAAAAAAAAAAAAAAAAAAAAAAAAAAAAAAAAAAAAAAAAAAAAAAAAAAAAAAAAAAAAAAAAAAAAAAAAAAAAAAAAAAAAAAAAAAAAAAAAAAAAAAAAAAAAAAAAAAAAAAAAAAAAAAAAAAAAAAAAAAAAAAAAAAAAAAAAAAAAAAAAAAAAAAAAAAAAAAAAAAAAAAAAAAAAAAAAAAAAAAAAAAAAAAAAAAAAAAAAAAAAAAAAAAAAAAAAAAAAAAAAAAAAAAAAAAAAAAAAAAAAAAAAAAAAAAAAAAAAAAAAAAAAAAAAAAAAAAAAAAAAAAAAAAAAAAAAAAAAAAAAAAAAAAAAAAAAAAAAAAAAAAAAAAAAAAAAAAAAAAAAAAAAAAAAAAAAAAAAAAAAAAAAAAAAAAAAAAAAAAAAAAAAAAAAAAAAAAAAAAAAAAAAAAAAAAAAAAAAAAAAAAAAAAAAAAAAAAAAAAAAAAAAAAAAAAAAAAAAAAAAAAAAAAAAAAAAAAAAAAAAAAAAAAAAAAAAAAAAAAAAAAAAAAAAAAAAAAAAAAAAAAAAAAAAAAAAAAAAAAAAAAAAAAAAAAAAAAAAAAAAAAAAAAAAAAAAAAAAAAAAAAAAAAAAAAAAAAAAAAAAAAAAAAAAAAAAAAAAAAAAAAAAAAAAAAAAAAAAAAAAAAAAAAAAAAAAAAAAAAAAAAAAAAAAAAAAAAAAAAAAAAAAAAAAAAAAAAAAAAAAAAAAAAAAAAAAAAAAAAAAAAAAAAAAAAAAAAAAAAAAAAAAAAAAAAAAAAAAAAAAAAAAAAAAAAAAAAAAAAAAAAAAAAAAAAAAAAAAAAAAAAAAAAAAAAAAAAAAAAAAAAAAAAAAAAAAAAAAAAAAAAAAAAAAAAAAAAAAAAAAAAAAAAAAAAAAAAAAAAAAAAAAAAAAAAAAAAAAAAAAAAAAAAAAAAAAAAAAAAAAAAAAAAAAAAAAAAAAAAAAAAAAAAAAAAAAAAAAAAAAAAAAAAAAAAAAAAAAAAAAAAAAAAAAAAAAAAAAAAAAAAAAAAAAAAAAAAAAAAAAAAAAAAAAAAAAAAAAAAAAAAAAAAAAAAAAAAAAAAAAAAAAAAAAAAAAAAAAAAAAAAAAAAAAAAAAAAAAAAAAAAAAAAAAAAAAAAAAAAAAAAAAAAAAAAAAAAAAAAAAAAAAAAAAAAAAAAAAAAAAAAAAAAAAAAAAAAAAAAAAAAAAAAAAAAAAAAAAAAAAAAAAAAAAAAAAAAAAAAAAAAAAAAAAAAAAAAAAAAAAAAAAAAAAAAAAAAAAAAAAAAAAAAAAAAAAAAAAAAAAAAAAAAAAAAAAAAAAAAAAAAAAAAAAAAAAAAAAAAAAAAAAAAAAAAAAAAAAAAAAAAAAAAAAAAAAAAAAAAAAAAAAAAAAAAAAAAAAAAAAAAAAAAAAAAAAAAAAAAAAAAAAAAAAAAAAAAAAAAAAAAAAAAAAAAAAAAAAAAAAAAAAAAAAAAAAAAAAAAAAAAAAAAAAAAAAAAAAAAAAAAAAAAAAAAAAAAAAAAAAAAAAAAAAAAAAAAAAAAAAAAAAAAAAAAAAAAAAAAAAAAAAAAAAAAAAAAAAAAAAAAAAAAAAAAAAAAAAAAAAAAAAAAAAAAAAAAAAAAAAAAAAAAAAAAAAAAAAAAAAAAAAAAAAAAAAAAAAAAAAAAAAAAAAAAAAAAAAAAAAAAAAAAAAAAAAAAAAAAAAAAAAAAAAAAAAAAAAAAAAAAAAAAAAAAAAAAAAAAAAAAAAAAAAAAAAAAAAAAAAAAAAAAAAAAAAAAAAAAAAAAAAAAAAAAAAAAAAAAAAAAAAAAAAAAAAAAAAAAAAAAAAAAAAAAAAAAAAAAAAAAAAAAAAAAAAAAAAAAAAAAAAAAAAAAAAAAAAAAAAAAAAAAAAAAAAAAAAAAAAAAAAAAAAAAAAAAAAAAAAAAAAAAAAAAAAAAAAAAAAAAAAAAAAAAAAAAAAAAAAAAAAAAAAAAAAAAAAAAAAAAAAAAAAAAAAAAAAAAAAAAAAAAAAAAAAAAAAAAAAAAAAAAAAAAAAAAAAAAAAAAAAAAAAAAAAAAAAAAAAAAAAAAAAAAAAAAAAAAAAAAAAAAAAAAAAAAAAAAAAAAAAAAAAAAAAAAAAAAAAAAAAAAAAAAAAAAAAAAAAAAAAAAAAAAAAAAAAAAAAAAAAAAAAAAAAAAAAAAAAAAAAAAAAAAAAAAAAAAAAAAAAAAAAAAAAAAAAAAAAAAAAAAAAAAAAAAAAAAAAAAAAAAAAAAAAAAAAAAAAAAAAAAAAAAAAAAAAAAAAAAAAAAAAAAAAAAAAAAAAAAAAAAAAAAAAAAAAAAAAAAAAAAAAAAAAAAAAAAAAAAAAAAAAAAAAAAAAAAAAAAAAAAAAAAAAAAAAAAAAAAAAAAAAAAAAAAAAAAAAAAAAAAAAAAAAAAAAAAAAAAAAAAAAAAAAAAAAAAAAAAAAAAAAAAAAAAAAAAAAAAAAAAAAAAAAAAAAAAAAAAAAAAAAAAAAAAAAAAAAAAAAAAAAAAAAAAAAAAAAAAAAAAAAAAAAAAAAAAAAAAAAAAAAAAAAAAAAAAAAAAAAAAAAAAAAAAAAAAAAAAAAAAAAAAAAAAAAAAAAAAAAAAAAAAAAAAAAAAAAAAAAAAAAAAAAAAAAAAAAAAAAAAAAAAAAAAAAAAAAAAAAAAAAAAAAAAAAAAAAAAAAAAAAAAAAAAAAAAAAAAAAAAAAAAAAAAAAAAAAAAAAAAAAAAAAAAAAAAAAAAAAAAAAAAAAAAAAAAAAAAAAAAAAAAAAAAAAAAAAAAAAAAAAAAAAAAAAAAAAAAAAAAAAAAAAAAAAAAAAAAAAAAAAAAAAAAAAAAAAAAAAAAAAAAAAAAAAAAAAAAAAAAAAAAAAAAAAAAAAAAAAAAAAAAAAAAAAAAAAAAAAAAAAAAAAAAAAAAAAAAAAAAAAAAAAAAAAAAAAAAAAAAAAAAAAAAAAAAAAAAAAAAAAAAAAAAAAAAAAAAAAAAAAAAAAAAAAAAAAAAAAAAAAAAAAAAAAAAAAAAAAAAAAAAAAAAAAAAAAAAAAAAAAAAAAAAAAAAAAAAAAAAAAAAAAAAAAAAAAAAAAAAAAAAAAAAAAAAAAAAAAAAAAAAAAAAAAAAAAAAAAAAAAAAAAAAAAAAAAAAAAAAAAAAAAAAAAAAAAAAAAAAAAAAAAAAAAAAAAAAAAAAAAAAAAAAAAAAAAAAAAAAAAAAAAAAAAAAAAAAAAAAAAAAAAAAAAAAAAAAAAAAAAAAAAAAAAAAAAAAAAAAAAAAAAAAAAAAAAAAAAAAAAAAAAAAAAAAAAAAAAAAAAAAAAAAAAAAAAAAAAAAAAAAAAAAAAAAAAAAAAAAAAAAAAAAAAAAAAAAAAAAAAAAAAAAAAAAAAAAAAAAAAAAAAAAAAAAAAAAAAAAAAAAAAAAAAAAAAAAAAAAAAAAAAAAAAAAAAAAAAAAAAAAAAAAAAAAAAAAAAAAAAAAAAAAAAAAAAAAAAAAAAAAAAAAAAAAAAAAAAAAAAAAAAAAAAAAAAAAAAAAAAAAAAAAAAAAAAAAAAAAAAAAAAAAAAAAAAAAAAAAAAAAAAAAAAAAAAAAAAAAAAAAAAAAAAAAAAAAAAAAAAAAAAAAAAAAAAAAAAAAAAAAAAAAAAAAAAAAAAAAAAAAAAAAAAAAAAAAAAAAAAAAAAAAAAAAAAAAAAAAAAAAAAAAAAAAAAAAAAAAAAAAAAAAAAAAAAAAAAAAAAAAAAAAAAAAAAAAAAAAAAAAAAAAAAAAAAAAAAAAAAAAAAAAAAAAAAAAAAAAAAAAAAAAAAAAAAAAAAAAAAAAAAAAAAAAAAAAAAAAAAAAAAAAAAAAAAAAAAAAAAAAAAAAAAAAAAAAAAAAAAAAAAAAAAAAAAAAAAAAAAAAAAAAAAAAAAAAAAAAAAAAAAAAAAAAAAAAAAAAAAAAAAAAAAAAAAAAAAAAAAAAAAAAAAAAAAAAAAAAAAAAAAAAAAAAAAAAAAAAAAAAAAAAAAAAAAAAAAAAAAAAAAAAAAAAAAAAAAAAAAAAAAAAAAAAAAAAAAAAAAAAAAAAAAAAAAAAAAAAAAAAAAAAAAAAAAAAAAAAAAAAAAAAAAAAAAAAAAAAAAAAAAAAAAAAAAAAAAAAAAAAAAAAAAAAAAAAAAAAAAAAAAAAAAAAAAAAAAAAAAAAAAAAAAAAAAAAAAAAAAAAAAAAAAAAAAAAAAAAAAAAAAAAAAAAAAAAAAAAAAAAAAAAAAAAAAAAAAAAAAAAAAAAAAAAAAAAAAAAAAAAAAAAAAAAAAAAAAAAAAAAAAAAAAAAAAAAAAAAAAAAAAAAAAAAAAAAAAAAAAAAAAAAAAAAAAAAAAAAAAAAAAAAAAAAAAAAAAAAAAAAAAAAAAAAAAAAAAAAAAAAAAAAAAAAAAAAAAAAAAAAAAAAAAAAAAAAAAAAAAAAAAAAAAAAAAAAAAAAAAAAAAAAAAAAAAAAAAAAAAAAAAAAAAAAAAAAAAAAAAAAAAAAAAAAAAAAAAAAAAAAAAAAAAAAAAAAAAAAAAAAAAAAAAAAAAAAAAAAAAAAAAAAAAAAAAAAAAAAAAAAAAAAAAAAAAAAAAAAAAAAAAAAAAAAAAAAAAAAAAAAAAAAAAAAAAAAAAAAAAAAAAAAAAAAAAAAAAAAAAAAAAAAAAAAAAAAAAAAAAAAAAAAAAAAAAAAAAAAAAAAAAAAAAAAAAAAAAAAAAAAAAAAAAAAAAAAAAAAAAAAAAAAAAAAAAAAAAAAAAAAAAAAAAAAAAAAAAAAAAAAAAAAAAAAAAAAAAAAAAAAAAAAAAAAAAAAAAAAAAAAAAAAAAAAAAAAAAAAAAAAAAAAAAAAAAAAAAAAAAAAAAAAAAAAAAAAAAAAAAAAAAAAAAAAAAAAAAAAAAAAAAAAAAAAAAAAAAAAAAAAAAAAAAAAAAAAAAAAAAAAAAAAAAAAAAAAAAAAAAAAAAAAAAAAAAAAAAAAAAAAAAAAAAAAAAAAAAAAAAAAAAAAAAAAAAAAAAAAAAAAAAAAAAAAAAAAAAAAAAAAAAAAAAAAAAAAAAAAAAAAAAAAAAAAAAAAAAAAAAAAAAAAAAAAAAAAAAAAAAAAAAAAAAAAAAAAAAAAAAAAAAAAAAAAAAAAAAAAAAAAAAAAAAAAAAAAAAAAAAAAAAAAAAAAAAAAAAAAAAAAAAAAAAAAAAAAAAAAAAAAAAAAAAAAAAAAAAAAAAAAAAAAAAAAAAAAAAAAAAAAAAAAAAAAAAAAAAAAAAAAAAAAAAAAAAAAAAAAAAAAAAAAAAAAAAAAAAAAAAAAAAAAAAAAAAAAAAAAAAAAAAAAAAAAAAAAAAAAAAAAAAAAAAAAAAAAAAAAAAAAAAAAAAAAAAAAAAAAAAAAAAAAAAAAAAAAAAAAAAAAAAAAAAAAAAAAAAAAAAAAAAAAAAAAAAAAAAAAAAAAAAAAAAAAAAAAAAAAAAAAAAAAAAAAAAAAAAAAAAAAAAAAAAAAAAAAAAAAAAAAAAAAAAAAAAAAAAAAAAAAAAAAAAAAAAAAAAAAAAAAAAAAAAAAAAAAAAAAAAAAAAAAAAAAAAAAAAAAAAAAAAAAAAAAAAAAAAAAAAAAAAAAAAAAAAAAAAAAAAAAAAAAAAAAAAAAAAAAAAAAAAAAAAAAAAAAAAAAAAAAAAAAAAAAAAAAAAAAAAAAAAAAAAAAAAAAAAAAAAAAAAAAAAAAAAAAAAAAAAAAAAAAAAAAAAAAAAAAAAAAAAAAAAAAAAAAAAAAAAAAAAAAAAAAAAAAAAAAAAAAAAAAAAAAAAAAAAAAAAAAAAAAAAAAAAAAAAAAAAAAAAAAAAAAAAAAAAAAAAAAAAAAAAAAAAAAAAAAAAAAAAAAAAAAAAAAAAAAAAAAAAAAAAAAAAAAAAAAAAAAAAAAAAAAAAAAAAAAAAAAAAAAAAAAAAAAAAAAAAAAAAAAAAAAAAAAAAAAAAAAAAAAAAAAAAAAAAAAAAAAAAAAAAAAAAAAAAAAAAAAAAAAAAAAAAAAAAAAAAAAAAAAAAAAAAAAAAAAAAAAAAAAAAAAAAAAAAAAAAAAAAAAAAAAAAAAAAAAAAAAAAAAAAAAAAAAAAAAAAAAAAAAAAAAAAAAAAAAAAAAAAAAAAAAAAAAAAAAAAAAAAAAAAAAAAAAAAAAAAAAAAAAAAAAAAAAAAAAAAAAAAAAAAAAAAAAAAAAAAAAAAAAAAAAAAAAAAAAAAAAAAAAAAAAAAAAAAAAAAAAAAAAAAAAAAAAAAAAAAAAAAAAAAAAAAAAAAAAAAAAAAAAAAAAAAAAAAAAAAAAAAAAAAAAAAAAAAAAAAAAAAAAAAAAAAAAAAAAAAAAAAAAAAAAAAAAAAAAAAAAAAAAAAAAAAAAAAAAAAAAAAAAAAAAAAAAAAAAAAAAAAAAAAAAAAAAAAAAAAAAAAAAAAAAAAAAAAAAAAAAAAAAAAAAAAAAAAAAAAAAAAAAAAAAAAAAAAAAAAAAAAAAAAAAAAAAAAAAAAAAAAAAAAAAAAAAAAAAAAAAAAAAAAAAAAAAAAAAAAAAAAAAAAAAAAAAAAAAAAAAAAAAAAAAAAAAAAAAAAAAAAAAAAAAAAAAAAAAAAAAAAAAAAAAAAAAAAAAAAAAAAAAAAAAAAAAAAAAAAAAAAAAAAAAAAAAAAAAAAAAAAAAAAAAAAAAAAAAAAAAAAAAAAAAAAAAAAAAAAAAAAAAAAAAAAAAAAAAAAAAAAAAAAAAAAAAAAAAAAAAAAAAAAAAAAAAAAAAAAAAAAAAAAAAAAAAAAAAAAAAAAAAAAAAAAAAAAAAAAAAAAAAAAAAAAAAAAAAAAAAAAAAAAAAAAAAAAAAAAAAAAAAAAAAAAAAAAAAAAAAAAAAAAAAAAAAAAAAAAAAAAAAAAAAAAAAAAAAAAAAAAAAAAAAAAAAAAAAAAAAAAAAAAAAAAAAAAAAAAAAAAAAAAAAAAAAAAAAAAAAAAAAAAAAAAAAAAAAAAAAAAAAAAAAAAAAAAAAAAAAAAAAAAAAAAAAAAAAAAAAAAAAAAAAAAAAAAAAAAAAAAAAAAAAAAAAAAAAAAAAAAAAAAAAAAAAAAAAAAAAAAAAAAAAAAAAAAAAAAAAAAAAAAAAAAAAAAAAAAAAAAAAAAAAAAAAAAAAAAAAAAAAAAAAAAAAAAAAAAAAAAAAAAAAAAAAAAAAAAAAAAAAAAAAAAAAAAAAAAAAAAAAAAAAAAAAAAAAAAAAAAAAAAAAAAAAAAAAAAAAAAAAAAAAAAAAAAAAAAAAAAAAAAAAAAAAAAAAAAAAAAAAAAAAAAAAAAAAAAAAAAAAAAAAAAAAAAAAAAAAAAAAAAAAAAAAAAAAAAAAAAAAAAAAAAAAAAAAAAAAAAAAAAAAAAAAAAAAAAAAAAAAAAAAAAAAAAAAAAAAAAAAAAAAAAAAAAAAAAAAAAAAAAAAAAAAAAAAAAAAAAAAAAAAAAAAAAAAAAAAAAAAAAAAAAAAAAAAAAAAAAAAAAAAAAAAAAAAAAAAAAAAAAAAAAAAAAAAAAAAAAAAAAAAAAAAAAAAAAAAAAAAAAAAAAAAAAAAAAAAAAAAAAAAAAAAAAAAAAAAAAAAAAAAAAAAAAAAAAAAAAAAAAAAAAAAAAAAAAAAAAAAAAAAAAAAAAAAAAAAAAAAAAAAAAAAAAAAAAAAAAAAAAAAAAAAAAAAAAAAAAAAAAAAAAAAAAAAAAAAAAAAAAAAAAAAAAAAAAAAAAAAAAAAAAAAAAAAAAAAAAAAAAAAAAAAAAAAAAAAAAAAAAAAAAAAAAAAAAAAAAAAAAAAAAAAAAAAAAAAAAAAAAAAAAAAAAAAAAAAAAAAAAAAAAAAAAAAAAAAAAAAAAAAAAAAAAAAAAAAAAAAAAAAAAAAAAAAAAAAAAAAAAAAAAAAAAAAAAAAAAAAAAAAAAAAAAAAAAAAAAAAAAAAAAAAAAAAAAAAAAAAAAAAAAAAAAAAAAAAAAAAAAAAAAAAAAAAAAAAAAAAAAAAAAAAAAAAAAAAAAAAAAAAAAAAAAAAAAAAAAAAAAAAAAAAAAAAAAAAAAAAAAAAAAAAAAAAAAAAAAAAAAAAAAAAAAAAAAAAAAAAAAAAAAAAAAAAAAAAAAAAAAAAAAAAAAAAAAAAAAAAAAAAAAAAAAAAAAAAAAAAAAAAAAAAAAAAAAAAAAAAAAAAAAAAAAAAAAAAAAAAAAAAAAAAAAAAAAAAAAAAAAAAAAAAAAAAAAAAAAAAAAAAAAAAAAAAAAAAAAAAAAAAAAAAAAAAAAAAAAAAAAAAAAAAAAAAAAAAAAAAAAAAAAAAAAAAAAAAAAAAAAAAAAAAAAAAAAAAAAAAAAAAAAAAAAAAAAAAAAAAAAAAAAAAAAAAAAAAAAAAAAAAAAAAAAAAAAAAAAAAAAAAAAAAAAAAAAAAAAAAAAAAAAAAAAAAAAAAAAAAAAAAAAAAAAAAAAAAAAAAAAAAAAAAAAAAAAAAAAAAAAAAAAAAAAAAAAAAAAAAAAAAAAAAAAAAAAAAAAAAAAAAAAAAAAAAAAAAAAAAAAAAAAAAAAAAAAAAAAAAAAAAAAAAAAAAAAAAAAAAAAAAAAAAAAAAAAAAAAAAAAAAAAAAAAAAAAAAAAAAAAAAAAAAAAAAAAAAAAAAAAAAAAAAAAAAAAAAAAAAAAAAAAAAAAAAAAAAAAAAAAAAAAAAAAAAAAAAAAAAAAAAAAAAAAAAAAAAAAAAAAAAAAAAAAAAAAAAAAAAAAAAAAAAAAAAAAAAAAAAAAAAAAAAAAAAAAAAAAAAAAAAAAAAAAAAAAAAAAAAAAAAAAAAAAAAAAAAAAAAAAAAAAAAAAAAAAAAAAAAAAAAAAAAAAAAAAAAAAAAAAAAAAAAAAAAAAAAAAAAAAAAAAAAAAAAAAAAAAAAAAAAAAAAAAAAAAAAAAAAAAAAAAAAAAAAAAAAAAAAAAAAAAAAAAAAAAAAAAAAAAAAAAAAAAAAAAAAAAAAAAAAAAAAAAAAAAAAAAAAAAAAAAAAAAAAAAAAAAAAAAAAAAAAAAAAAAAAAAAAAAAAAAAAAAAAAAAAAAAAAAAAAAAAAAAAAAAAAAAAAAAAAAAAAAAAAAAAAAAAAAAAAAAAAAAAAAAAAAAAAAAAAAAAAAAAAAAAAAAAAAAAAAAAAAAAAAAAAAAAAAAAAAAAAAAAAAAAAAAAAAAAAAAAAAAAAAAAAAAAAAAAAAAAAAAAAAAAAAAAAAAAAAAAAAAAAAAAAAAAAAAAAAAAAAAAAAAAAAAAAAAAAAAAAAAAAAAAAAAAAAAAAAAAAAAAAAAAAAAAAAAAAAAAAAAAAAAAAAAAAAAAAAAAAAAAAAAAAAAAAAAAAAAAAAAAAAAAAAAAAAAAAAAAAAAAAAAAAAAAAAAAAAAAAAAAAAAAAAAAAAAAAAAAAAAAAAAAAAAAAAAAAAAAAAAAAAAAAAAAAAAAAAAAAAAAAAAAAAAAAAAAAAAAAAAAAAAAAAAAAAAAAAAAAAAAAAAAAAAAAAAAAAAAAAAAAAAAAAAAAAAAAAAAAAAAAAAAAAAAAAAAAAAAAAAAAAAAAAAAAAAAAAAAAAAAAAAAAAAAAAAAAAAAAAAAAAAAAAAAAAAAAAAAAAAAAAAAAAAAAAAAAAAAAAAAAAAAAAAAAAAAAAAAAAAAAAAAAAAAAAAAAAAAAAAAAAAAAAAAAAAAAAAAAAAAAAAAAAAAAAAAAAAAAAAAAAAAAAAAAAAAAAAAAAAAAAAAAAAAAAAAAAAAAAAAAAAAAAAAAAAAAAAAAAAAAAAAAAAAAAAAAAAAAAAAAAAAAAAAAAAAAAAAAAAAAAAAAAAAAAAAAAAAAAAAAAAAAAAAAAAAAAAAAAAAAAAAAAAAAAAAAAAAAAAAAAAAAAAAAAAAAAAAAAAAAAAAAAAAAAAAAAAAAAAAAAAAAAAAAAAAAAAAAAAAAAAAAAAAAAAAAAAAAAAAAAAAAAAAAAAAAAAAAAAAAAAAAAAAAAAAAAAAAAAAAAAAAAAAAAAAAAAAAAAAAAAAAAAAAAAAAAAAAAAAAAAAAAAAAAAAAAAAAAAAAAAAAAAAAAAAAAAAAAAAAAAAAAAAAAAAAAAAAAAAAAAAAAAAAAAAAAAAAAAAAAAAAAAAAAAAAAAAAAAAAAAAAAAAAAAAAAAAAAAAAAAAAAAAAAAAAAAAAAAAAAAAAAAAAAAAAAAAAAAAAAAAAAAAAAAAAAAAAAAAAAAAAAAAAAAAAAAAAAAAAAAAAAAAAAAAAAAAAAAAAAAAAAAAAAAAAAAAAAAAAAAAAAAAAAAAAAAAAAAAAAAAAAAAAAAAAAAAAAAAAAAAAAAAAAAAAAAAAAAAAAAAAAAAAAAAAAAAAAAAAAAAAAAAAAAAAAAAAAAAAAAAAAAAAAAAAAAAAAAAAAAAAAAAAAAAAAAAAAAAAAAAAAAAAAAAAAAAAAAAAAAAAAAAAAAAAAAAAAAAAAAAAAAAAAAAAAAAAAAAAAAAAAAAAAAAAAAAAAAAAAAAAAAAAAAAAAAAAAAAAAAAAAAAAAAAAAAAAAAAAAAAAAAAAAAAAAAAAAAAAAAAAAAAAAAAAAAAAAAAAAAAAAAAAAAAAAAAAAAAAAAAAAAAAAAAAAAAAAAAAAAAAAAAAAAAAAAAAAAAAAAAAAAAAAAAAAAAAAAAAAAAAAAAAAAAAAAAAAAAAAAAAAAAAAAAAAAAAAAAAAAAAAAAAAAAAAAAAAAAAAAAAAAAAAAAAAAAAAAAAAAAAAAAAAAAAAAAAAAAAAAAAAAAAAAAAAAAAAAAAAAAAAAAAAAAAAAAAAAAAAAAAAAAAAAAAAAAAAAAAAAAAAAAAAAAAAAAAAAAAAAAAAAAAAAAAAAAAAAAAAAAAAAAAAAAAAAAAAAAAAAAAAAAAAAAAAAAAAAAAAAAAAAAAAAAAAAAAAAAAAAAAAAAAAAAAAAAAAAAAAAAAAAAAAAAAAAAAAAAAAAAAAAAAAAAAAAAAAAAAAAAAAAAAAAAAAAAAAAAAAAAAAAAAAAAAAAAAAAAAAAAAAAAAAAAAAAAAAAAAAAAAAAAAAAAAAAAAAAAAAAAAAAAAAAAAAAAAAAAAAAAAAAAAAAAAAAAAAAAAAAAAAAAAAAAAAAAAAAAAAAAAAAAAAAAAAAAAAAAAAAAAAAAAAAAAAAAAAAAAAAAAAAAAAAAAAAAAAAAAAAAAAAAAAAAAAAAAAAAAAAAAAAAAAAAAAAAAAAAAAAAAAAAAAAAAAAAAAAAAAAAAAAAAAAAAAAAAAAAAAAAAAAAAAAAAAAAAAAAAAAAAAAAAAAAAAAAAAAAAAAAAAAAAAAAAAAAAAAAAAAAAAAAAAAAAAAAAAAAAAAAAAAAAAAAAAAAAAAAAAAAAAAAAAAAAAAAAAAAAAAAAAAAAAAAAAAAAAAAAAAAAAAAAAAAAAAAAAAAAAAAAAAAAAAAAAAAAAAAAAAAAAAAAAAAAAAAAAAAAAAAAAAAAAAAAAAAAAAAAAAAAAAAAAAAAAAAAAAAAAAAAAAAAAAAAAAAAAAAAAAAAAAAAAAAAAAAAAAAAAAAAAAAAAAAAAAAAAAAAAAAAAAAAAAAAAAAAAAAAAAAAAAAAAAAAAAAAAAAAAAAAAAAAAAAAAAAAAAAAAAAAAAAAAAAAAAAAAAAAAAAAAAAAAAAAAAAAAAAAAAAAAAAAAAAAAAAAAAAAAAAAAAAAAAAAAAAAAAAAAAAAAAAAAAAAAAAAAAAAAAAAAAAAAAAAAAAAAAAAAAAAAAAAAAAAAAAAAAAAAAAAAAAAAAAAAAAAAAAAAAAAAAAAAAAAAAAAAAAAAAAAAAAAAAAAAAAAAAAAAAAAAAAAAAAAAAAAAAAAAAAAAAAAAAAAAAAAAAAAAAAAAAAAAAAAAAAAAAAAAAAAAAAAAAAAAAAAAAAAAAAAAAAAAAAAAAAAAAAAAAAAAAAAAAAAAAAAAAAAAAAAAAAAAAAAAAAAAAAAAAAAAAAAAAAAAAAAAAAAAAAAAAAAAAAAAAAAAAAAAAAAAAAAAAAAAAAAAAAAAAAAAAAAAAAAAAAAAAAAAAAAAAAAAAAAAAAAAAAAAAAAAAAAAAAAAAAAAAAAAAAAAAAAAAAAAAAAAAAAAAAAAAAAAAAAAAAAAAAAAAAAAAAAAAAAAAAAAAAAAAAAAAAAAAAAAAAAAAAAAAAAAAAAAAAAAAAAAAAAAAAAAAAAAAAAAAAAAAAAAAAAAAAAAAAAAAAAAAAAAAAAAAAAAAAAAAAAAAAAAAAAAAAAAAAAAAAAAAAAAAAAAAAAAAAAAAAAAAAAAAAAAAAAAAAAAAAAAAAAAAAAAAAAAAAAAAAAAAAAAAAAAAAAAAAAAAAAAAAAAAAAAAAAAAAAAAAAAAAAAAAAAAAAAAAAAAAAAAAAAAAAAAAAAAAAAAAAAAAAAAAAAAAAAAAAAAAAAAAAAAAAAAAAAAAAAAAAAAAAAAAAAAAAAAAAAAAAAAAAAAAAAAAAAAAAAAAAAAAAAAAAAAAAAAAAAAAAAAAAAAAAAAAAAAAAAAAAAAAAAAAAAAAAAAAAAAAAAAAAAAAAAAAAAAAAAAAAAAAAAAAAAAAAAAAAAAAAAAAAAAAAAAAAAAAAAAAAAAAAAAAAAAAAAAAAAAAAAAAAAAAAAAAAAAAAAAAAAAAAAAAAAAAAAAAAAAAAAAAAAAAAAAAAAAAAAAAAAAAAAAAAAAAAAAAAAAAAAAAAAAAAAAAAAAAAAAAAAAAAAAAAAAAAAAAAAAAAAAAAAAAAAAAAAAAAAAAAAAAAAAAAAAAAAAAAAAAAAAAAAAAAAAAAAAAAAAAAAAAAAAAAAAAAAAAAAAAAAAAAAAAAAAAAAAAAAAAAAAAAAAAAAAAAAAAAAAAAAAAAAAAAAAAAAAAAAAAAAAAAAAAAAAAAAAAAAAAAAAAAAAAAAAAAAAAAAAAAAAAAAAAAAAAAAAAAAAAAAAAAAAAAAAAAAAAAAAAAAAAAAAAAAAAAAAAAAAAAAAAAAAAAAAAAAAAAAAAAAAAAAAAAAAAAAAAAAAAAAAAAAAAAAAAAAAAAAAAAAAAAAAAAAAAAAAAAAAAAAAAAAAAAAAAAAAAAAAAAAAAAAAAAAAAAAAAAAAAAAAAAAAAAAAAAAAAAAAAAAAAAAAAAAAAAAAAAAAAAAAAAAAAAAAAAAAAAAAAAAAAAAAAAAAAAAAAAAAAAAAAAAAAAAAAAAAAAAAAAAAAAAAAAAAAAAAAAAAAAAAAAAAAAAAAAAAAAAAAAAAAAAAAAAAAAAAAAAAAAAAAAAAAAAAAAAAAAAAAAAAAAAAAAAAAAAAAAAAAAAAAAAAAAAAAAAAAAAAAAAAAAAAAAAAAAAAAAAAAAAAAAAAAAAAAAAAAAAAAAAAAAAAAAAAAAAAAAAAAAAAAAAAAAAAAAAAAAAAAAAAAAAAAAAAAAAAAAAAAAAAAAAAAAAAAAAAAAAAAAAAAAAAAAAAAAAAAAAAAAAAAAAAAAAAAAAAAAAAAAAAAAAAAAAAAAAAAAAAAAAAAAAAAAAAAAAAAAAAAAAAAAAAAAAAAAAAAAAAAAAAAAAAAAAAAAAAAAAAAAAAAAAAAAAAAAAAAAAAAAAAAAAAAAAAAAAAAAAAAAAAAAAAAAAAAAAAAAAAAAAAAAAAAAAAAAAAAAAAAAAAAAAAAAAAAAAAAAAAAAAAAAAAAAAAAAAAAAAAAAAAAAAAAAAAAAAAAAAAAAAAAAAAAAAAAAAAAAAAAAAAAAAAAAAAAAAAAAAAAAAAAAAAAAAAAAAAAAAAAAAAAAAAAAAAAAAAAAAAAAAAAAAAAAAAAAAAAAAAAAAAAAAAAAAAAAAAAAAAAAAAAAAAAAAAAAAAAAAAAAAAAAAAAAAAAAAAAAAAAAAAAAAAAAAAAAAAAAAAAAAAAAAAAAAAAAAAAAAAAAAAAAAAAAAAAAAAAAAAAAAAAAAAAAAAAAAAAAAAAAAAAAAAAAAAAAAAAAAAAAAAAAAAAAAAAAAAAAAAAAAAAAAAAAAAAAAAAAAAAAAAAAAAAAAAAAAAAAAAAAAAAAAAAAAAAAAAAAAAAAAAAAAAAAAAAAAAAAAAAAAAAAAAAAAAAAAAAAAAAAAAAAAAAAAAAAAAAAAAAAAAAAAAAAAAAAAAAAAAAAAAAAAAAAAAAAAAAAAAAAAAAAAAAAAAAAAAAAAAAAAAAAAAAAAAAAAAAAAAAAAAAAAAAAAAAAAAAAAAAAAAAAAAAAAAAAAAAAAAAAAAAAAAAAAAAAAAAAAAAAAAAAAAAAAAAAAAAAAAAAAAAAAAAAAAAAAAAAAAAAAAAAAAAAAAAAAAAAAAAAAAAAAAAAAAAAAAAAAAAAAAAAAAAAAAAAAAAAAAAAAAAAAAAAAAAAAAAAAAAAAAAAAAAAAAAAAAAAAAAAAAAAAAAAAAAAAAAAAAAAAAAAAAAAAAAAAAAAAAAAAAAAAAAAAAAAAAAAAAAAAAAAAAAAAAAAAAAAAAAAAAAAAAAAAAAAAAAAAAAAAAAAAAAAAAAAAAAAAAAAAAAAAAAAAAAAAAAAAAAAAAAAAAAAAAAAAAAAAAAAAAAAAAAAAAAAAAAAAAAAAAAAAAAAAAAAAAAAAAAAAAAAAAAAAAAAAAAAAAAAAAAAAAAAAAAAAAAAAAAAAAAAAAAAAAAAAAAAAAAAAAAAAAAAAAAAAAAAAAAAAAAAAAAAAAAAAAAAAAAAAAAAAAAAAAAAAAAAAAAAAAAAAAAAAAAAAAAAAAAAAAAAAAAAAAAAAAAAAAAAAAAAAAAAAAAAAAAAAAAAAAAAAAAAAAAAAAAAAAAAAAAAAAAAAAAAAAAAAAAAAAAAAAAAAAAAAAAAAAAAAAAAAAAAAAAAAAAAAAAAAAAAAAAAAAAAAAAAAAAAAAAAAAAAAAAAAAAAAAAAAAAAAAAAAAAAAAAAAAAAAAAAAAAAAAAAAAAAAAAAAAAAAAAAAAAAAAAAAAAAAAAAAAAAAAAAAAAAAAAAAAAAAAAAAAAAAAAAAAAAAAAAAAAAAAAAAAAAAAAAAAAAAAAAAAAAAAAAAAAAAAAAAAAAAAAAAAAAAAAAAAAAAAAAAAAAAAAAAAAAAAAAAAAAAAAAAAAAAAAAAAAAAAAAAAAAAAAAAAAAAAAAAAAAAAAAAAAAAAAAAAAAAAAAAAAAAAAAAAAAAAAAAAAAAAAAAAAAAAAAAAAAAAAAAAAAAAAAAAAAAAAAAAAAAAAAAAAAAAAAAAAAAAAAAAAAAAAAAAAAAAAAAAAAAAAAAAAAAAAAAAAAAAAAAAAAAAAAAAAAAAAAAAAAAAAAAAAAAAAAAAAAAAAAAAAAAAAAAAAAAAAAAAAAAAAAAAAAAAAAAAAAAAAAAAAAAAAAAAAAAAAAAAAAAAAAAAAAAAAAAAAAAAAAAAAAAAAAAAAAAAAAAAAAAAAAAAAAAAAAAAAAAAAAAAAAAAAAAAAAAAAAAAAAAAAAAAAAAAAAAAAAAAAAAAAAAAAAAAAAAAAAAAAAAAAAAAAAAAAAAAAAAAAAAAAAAAAAAAAAAAAAAAAAAAAAAAAAAAAAAAAAAAAAAAAAAAAAAAAAAAAAAAAAAAAAAAAAAAAAAAAAAAAAAAAAAAAAAAAAAAAAAAAAAAAAAAAAAAAAAAAAAAAAAAAAAAAAAAAAAAAAAAAAAAAAAAAAAAAAAAAAAAAAAAAAAAAAAAAAAAAAAAAAAAAAAAAAAAAAAAAAAAAAAAAAAAAAAAAAAAAAAAAAAAAAAAAAAAAAAAAAAAAAAAAAAAAAAAAAAAAAAAAAAAAAAAAAAAAAAAAAAAAAAAAAAAAAAAAAAAAAAAAAAAAAAAAAAAAAAAAAAAAAAAAAAAAAAAAAAAAAAAAAAAAAAAAAAAAAAAAAAAAAAAAAAAAAAAAAAAAAAAAAAAAAAAAAAAAAAAAAAAAAAAAAAAAAAAAAAAAAAAAAAAAAAAAAAAAAAAAAAAAAAAAAAAAAAAAAAAAAAAAAAAAAAAAAAAAAAAAAAAAAAAAAAAAAAAAAAAAAAAAAAAAAAAAAAAAAAAAAAAAAAAAAAAAAAAAAAAAAAAAAAAAAAAAAAAAAAAAAAAAAAAAAAAAAAAAAAAAAAAAAAAAAAAAAAAAAAAAAAAAAAAAAAAAAAAAAAAAAAAAAAAAAAAAAAAAAAAAAAAAAAAAAAAAAAAAAAAAAAAAAAAAAAAAAAAAAAAAAAAAAAAAAAAAAAAAAAAAAAAAAAAAAAAAAAAAAAAAAAAAAAAAAAAAAAAAAAAAAAAAAAAAAAAAAAAAAAAAAAAAAAAAAAAAAAAAAAAAAAAAAAAAAAAAAAAAAAAAAAAAAAAAAAAAAAAAAAAAAAAAAAAAAAAAAAAAAAAAAAAAAAAAAAAAAAAAAAAAAAAAAAAAAAAAAAAAAAAAAAAAAAAAAAAAAAAAAAAAAAAAAAAAAAAAAAAAAAAAAAAAAAAAAAAAAAAAAAAAAAAAAAAAAAAAAAAAAAAAAAAAAAAAAAAAAAAAAAAAAAAAAAAAAAAAAAAAAAAAAAAAAAAAAAAAAAAAAAAAAAAAAAAAAAAAAAAAAAAAAAAAAAAAAAAAAAAAAAAAAAAAAAAAAAAAAAAAAAAAAAAAAAAAAAAAAAAAAAAAAAAAAAAAAAAAAAAAAAAAAAAAAAAAAAAAAAAAAAAAAAAAAAAAAAAAAAAAAAAAAAAAAAAAAAAAAAAAAAAAAAAAAAAAAAAAAAAAAAAAAAAAAAAAAAAAAAAAAAAAAAAAAAAAAAAAAAAAAAAAAAAAAAAAAAAAAAAAAAAAAAAAAAAAAAAAAAAAAAAAAAAAAAAAAAAAAAAAAAAAAAAAAAAAAAAAAAAAAAAAAAAAAAAAAAAAAAAAAAAAAAAAAAAAAAAAAAAAAAAAAAAAAAAAAAAAAAAAAAAAAAAAAAAAAAAAAAAAAAAAAAAAAAAAAAAAAAAAAAAAAAAAAAAAAAAAAAAAAAAAAAAAAAAAAAAAAAAAAAAAAAAAAAAAAAAAAAAAAAAAAAAAAAAAAAAAAAAAAAAAAAAAAAAAAAAAAAAAAAAAAAAAAAAAAAAAAAAAAAAAAAAAAAAAAAAAAAAAAAAAAAAAAAAAAAAAAAAAAAAAAAAAAAAAAAAAAAAAAAAAAAAAAAAAAAAAAAAAAAAAAAAAAAAAAAAAAAAAAAAAAAAAAAAAAAAAAAAAAAAAAAAAAAAAAAAAAAAAAAAAAAAAAAAAAAAAAAAAAAAAAAAAAAAAAAAAAAAAAAAAAAAAAAAAAAAAAAAAAAAAAAAAAAAAAAAAAAAAAAAAAAAAAAAAAAAAAAAAAAAAAAAAAAAAAAAAAAAAAAAAAAAAAAAAAAAAAAAAAAAAAAAAAAAAAAAAAAAAAAAAAAAAAAAAAAAAAAAAAAAAAAAAAAAAAAAAAAAAAAAAAAAAAAAAAAAAAAAAAAAAAAAAAAAAAAAAAAAAAAAAAAAAAAAAAAAAAAAAAAAAAAAAAAAAAAAAAAAAAAAAAAAAAAAAAAAAAAAAAAAAAAAAAAAAAAAAAAAAAAAAAAAAAAAAAAAAAAAAAAAAAAAAAAAAAAAAAAAAAAAAAAAAAAAAAAAAAAAAAAAAAAAAAAAAAAAAAAAAAAAAAAAAAAAAAAAAAAAAAAAAAAAAAAAAAAAAAAAAAAAAAAAAAAAAAAAAAAAAAAAAAAAAAAAAAAAAAAAAAAAAAAAAAAAAAAAAAAAAAAAAAAAAAAAAAAAAAAAAAAAAAAAAAAAAAAAAAAAAAAAAAAAAAAAAAAAAAAAAAAAAAAAAAAAAAAAAAAAAAAAAAAAAAAAAAAAAAAAAAAAAAAAAAAAAAAAAAAAAAAAAAAAAAAAAAAAAAAAAAAAAAAAAAAAAAAAAAAAAAAAAAAAAAAAAAAAAAAAAAAAAAAAAAAAAAAAAAAAAAAAAAAAAAAAAAAAAAAAAAAAAAAAAAAAAAAAAAAAAAAAAAAAAAAAAAAAAAAAAAAAAAAAAAAAAAAAAAAAAAAAAAAAAAAAAAAAAAAAAAAAAAAAAAAAAAAAAAAAAAAAAAAAAAAAAAAAAAAAAAAAAAAAAAAAAAAAAAAAAAAAAAAAAAAAAAAAAAAAAAAAAAAAAAAAAAAAAAAAAAAAAAAAAAAAAAAAAAAAAAAAAAAAAAAAAAAAAAAAAAAAAAAAAAAAAAAAAAAAAAAAAAAAAAAAAAAAAAAAAAAAAAAAAAAAAAAAAAAAAAAAAAAAAAAAAAAAAAAAAAAAAAAAAAAAAAAAAAAAAAAAAAAAAAAAAAAAAAAAAAAAAAAAAAAAAAAAAAAAAAAAAAAAAAAAAAAAAAAAAAAAAAAAAAAAAAAAAAAAAAAAAAAAAAAAAAAAAAAAAAAAAAAAAAAAAAAAAAAAAAAAAAAAAAAAAAAAAAAAAAAAAAAAAAAAAAAAAAAAAAAAAAAAAAAAAAAAAAAAAAAAAAAAAAAAAAAAAAAAAAAAAAAAAAAAAAAAAAAAAAAAAAAAAAAAAAAAAAAAAAAAAAAAAAAAAAAAAAAAAAAAAAAAAAAAAAAAAAAAAAAAAAAAAAAAAAAAAAAAAAAAAAAAAAAAAAAAAAAAAAAAAAAAAAAAAAAAAAAAAAAAAAAAAAAAAAAAAAAAAAAAAAAAAAAAAAAAAAAAAAAAAAAAAAAAAAAAAAAAAAAAAAAAAAAAAAAAAAAAAAAAAAAAAAAAAAAAAAAAAAAAAAAAAAAAAAAAAAAAAAAAAAAAAAAAAAAAAAAAAAAAAAAAAAAAAAAAAAAAAAAAAAAAAAAAAAAAAAAAAAAAAAAAAAAAAAAAAAAAAAAAAAAAAAAAAAAAAAAAAAAAAAAAAAAAAAAAAAAAAAAAAAAAAAAAAAAAAAAAAAAAAAAAAAAAAAAAAAAAAAAAAAAAAAAAAAAAAAAAAAAAAAAAAAAAAAAAAAAAAAAAAAAAAAAAAAAAAAAAAAAAAAAAAAAAAAAAAAAAAAAAAAAAAAAAAAAAAAAAAAAAAAAAAAAAAAAAAAAAAAAAAAAAAAAAAAAAAAAAAAAAAAAAAAAAAAAAAAAAAAAAAAAAAAAAAAAAAAAAAAAAAAAAAAAAAAAAAAAAAAAAAAAAAAAAAAAAAAAAAAAAAAAAAAAAAAAAAAAAAAAAAAAAAAAAAAAAAAAAAAAAAAAAAAAAAAAAAAAAAAAAAAAAAAAAAAAAAAAAAAAAAAAAAAAAAAAAAAAAAAD//wEA//8BAP7/AgD8/wcA9f/q/xEAAAD+/wAABwDs//j/FQAAAPr/AQD9//f/AgACAAAAAAAAAP3/AAAAAAAAAAAAAAAAAAAAAAAAAAAAAAAAAAAAAAAAAAAAAAAAAAAAAAAAAAAAAAAAAAAAAAAAAAAAAAAAAAAAAAAAAAAAAAAAAAAAAAAAAAAAAAAAAAAAAAAAAAAAAAAAAAAAAAAAAAAAAAAAAAAAAAAAAAAAAAAAAAAAAAAAAAAAAAAAAAAAAAAAAwAAAAAAAAAAAAAAAAAAAAAAAAAAAAAAAAAAAAAAAAAAAAAAAAAAAAAAAAAAAAAAAAAAAAAAAAAAAAAAAAAAAAAAAAAAAAAAAAAAAAAAAAAAAAAAAAAAAAMAAAAAAAAAAAAAAAAAAAAAAAAAAAAAAAAAAAAAAAAAAAAAAAAAAAAAAAAAAAAAAAAAAAAAAAAAAAAAAAAAAAAAAAAAAAAAAAAAAAAAAAAAAAAAAAAAAAAAAAAAAAAAAAAAAQADAAAAAAAAAAAAAAAAAAAAAAAAAAAAAAAAAAAAAAAAAAAAAAAAAAAAAAAAAAAAAAAAAAAAAAAAAAAAAAAAAAAAAAADAAEAAAAEAAAAAAAAAAAAAwAAAAAAAAAAAAAAAAAAAAAAAAAAAAAAAAD+////AAAAAAAAAAAAAAAAAAAAAAAAAAAAAAAAAAAAAAAAAAAAAAAAAAAAAAAAAAAAAAAAAAAAAAEAAgABAPv//f8EAAAAAAAAAAAAAAACAAIA///6/wAAAAAAAAAAAAAAAAAAAAAAAAAAAAAAAAAAAAAAAAAAAAAAAAAAAAAAAAAAAAAAAAAAAAAAAAAAAAAAAAAAAAAAAAAAAAAAAAAAAAAAAAAAAAAAAAAAAAAAAAAAAAAAAAAAAAAAAAAAAAAAAAAAAAAAAAAAAAAAAAAAAAAAAAAAAAAAAAAAAAAAAAAAAAAAAAAAAAAAAAAAAAAAAAAAAAAAAAAAAAAAAAAAAAAAAAAAAAAAAAAAAgAHAAQAAAAAAP7//v8AAAAAAAAAAAAAAAAAAAAAAAAAAAAA///9//7/AAAAAAUABAD7//z/AAAAAAAAAAAAAAAAAAAAAAAAAAAAAAAAAAAAAAAAAAAAAAAAAAAAAAAAAAAAAAAAAAAAAAAAAAAAAAAAAAAAAAAAAAAAAAAAAAAAAAAAAAAAAAAAAAAAAAAAAAAAAAAAAAAAAAAAAAAAAAAAAAAAAAAAAAAAAAAAAAAAAAAAAAAAAAAAAAD6/wAAAAAAAAAAAAAAAAAAAAAAAAAAAAAAAAAAAAAAAAAAAAAAAAAAAAACAAEAAAAAAAAAAAAAAAAAAAAAAAAAAAAAAAAAAAAAAAAAAAAAAAAAAAAAAAAA/f///wAAAAAAAAAAAAAAAAAAAAAAAAAAAAAAAAAAAAAAAAAAAAAAAAAAAAAAAAAAAAAAAAAAAAAAAAAAAAAAAAAAAAAAAAAAAAAAAAAAAAAAAAAAAAAAAAAAAAAAAAAAAAAAAAAAAAAAAAAAAAAAAAAAAAAAAAAAAAAAAAAAAAAAAAAAAAAAAAAAAAAAAAAAAAAAAAAAAAAAAAAAAAAAAAAAAAAAAAAAAAAAAAAAAAAAAAAAAAAAAAAAAAAAAAAAAAAAAAAAAAAAAAAAAAAAAAAAAAAAAAAAAAAAAAAAAAAAAAAAAAD9/wAAAAAAAAAAAAAAAAAAAAAAAAAAAAAAAAAAAAAAAAAAAAAAAAAAAAAAAAAAAAAAAAAAAAAAAAAAAAAAAAAAAAAAAAAAAAAAAAAAAAAAAAAAAAAAAAAAAAAAAAAA//8DAAUA//8AAAAAAAAAAAAAAAAAAAAAAAADAAAAAAAAAAAAAAD///3/AAADAAAAAAAAAAAAAAAAAAAAAAAAAAAAAAAAAAAAAAAAAAAAAAAAAAAAAAAAAAAAAAAAAAAAAAAAAAAAAAAAAAAAAAAAAAAAAAAAAAAAAAAAAAAAAAAAAAAAAAAAAAAAAAAAAAAAAAAAAAAAAAAAAAAAAAAAAAAAAAAAAAAAAAAAAAAA+v///wAAAAAAAAAA/f/7/wIA//8BAP//+//+/wMACAAAAP//AgACAAAAAwAAAAAAAAADAAAAAAAAAAAAAAAAAAAAAAAAAAAAAAAAAAAAAAAAAAAA///+/wAAAAAAAAAAAAAAAP3/AAAAAAAAAAAAAAAAAAAAAAAAAAADAAAAAAAAAAAAAAAAAAAAAAAAAAUAAgD//wAAAAAAAAAAAAAAAAAAAAAAAAAAAAAAAAAA///7////AAAAAAAAAAAAAAAAAAAAAAAAAAAAAAAAAAAAAAMAAQD//wEAAwAAAAAAAAAAAAAAAAAAAAAAAAADAAAAAAAAAAAAAAAAAAAAAAAAAAAAAAAAAAAAAAAAAAAAAAAAAAAAAAAAAAAAAAAAAAAAAAAAAAAAAAAAAAAAAAAAAAAAAAAAAAAAAAAAAAAAAAAAAAAAAAAAAAAAAAAAAAAAAAAAAP3///8AAAAAAAAAAAAAAAAAAAAAAAAAAAAAAAAAAAAAAAAAAAAA/v/+/wAAAAAAAAAAAQADAPz//P8AAAAAAAAAAAAAAAAAAAAAAAAAAAAAAAAAAAAAAAAAAAAAAAAAAAAAAAAAAAAAAAAAAAAAAAAAAAAAAAAAAAAAAAAAAAAAAAAAAAAAAAAAAAAAAAAAAAAAAAAAAAAAAAAAAAMAAAAAAAAAAAAAAAAAAAAAAAAAAAAAAAAAAAD+//7/AAAAAAAA/f///wAAAAAAAP///f8AAAAAAAAAAAAAAAAAAAAAAAAAAAAAAAAAAAAAAAAAAAAAAAAAAAAAAAAAAAAAAAAAAAAAAAAAAAAAAAAAAAAAAAAAAAAAAAAAAAAAAwABAAAAAAAAAAAAAAAAAAAAAAAAAAAAAAAAAAIAAgAAAAAAAAAAAAAAAAAAAAAAAAAAAAAAAAAAAAAAAAAAAAAAAAAAAAAAAAAAAAAAAAAAAAAAAAAAAAAAAAAAAAAAAAAAAAAAAAAAAAAAAAAAAAAAAAAAAAAAAAAAAAAAAAAAAAAAAAAAAAAAAAAAAAAAAAAAAAAAAAAAAAAAAAAAAAAAAAAAAAAAAAAAAAAAAAAAAAAAAAAAAAAAAAAAAAAAAAAAAAAAAAAAAAAAAAAAAAAAAAAAAAAAAAAAAAAAAAAAAAAAAAAAAAAAAAAAAAAAAAAAAAAAAAAAAAAAAAAAAAAAAAAAAAAAAAAAAAAAAAAAAAAAAAAAAAAAAAAAAAAAAAAAAAAAAAAAAAAAAAAAAAAAAAAAAAAAAwAAAAAAAAAAAAAAAAAAAAAAAwAAAAAAAAAAAAAAAAAAAAAAAAAAAAAAAAAAAAAAAAAAAAAAAAAAAAAAAAAAAAAAAAAAAAAAAQD7//3/AQAAAAAAAAAAAAAAAAAAAAAAAAAAAAAAAAAAAAMAAAAAAPv//v8BAAAAAAD7/wAAAAADAAEAAAAAAAAAAAAAAAAAAAAAAAAAAAAAAAAAAAAAAAAAAAAAAAAAAAAAAAAAAAAAAAAAAAAAAAAAAAAAAAAAAAAAAAAAAAAAAAAAAAAAAAAAAAAAAAAAAAAAAAAAAAAAAAAAAAAAAAAAAAAAAAMAAAAAAAAAAAAAAAAAAAAAAAAAAAAAAAAAAAAAAAAAAAAAAAAAAAAAAAAAAAAAAAAAAAAAAAAAAAAAAAAAAAAAAAAAAAAAAAAAAAAAAAAAAAAAAAAAAAAAAAAAAAAAAAAAAAAAAAAAAAAAAAAAAAAAAAAAAAAAAAAAAAAAAAAAAAAAAAAAAAAAAAAAAAAAAAAAAAAAAAAAAAAAAAAAAAAAAAAAAAAAAAAAAAAAAAAAAAAAAAYAAgAAAAAAAAAAAAAAAAAAAAAAAAAAAAAAAAAAAAAAAAAAAAAAAAAAAAAAAAAAAAAAAAAAAAAAAAAAAP///v8AAAIAAgAAAAAAAAAAAAAAAAAAAP///f8AAAAAAAAAAAAAAAAAAAAAAAAAAAAAAAAAAAAAAAAAAAAAAAAAAAAAAAAAAAAAAAAAAAAAAAAAAAAAAAAAAAAAAAAAAAAAAAAAAAAAAAAAAAAAAAAAAAAAAAAAAAAAAAAAAAAAAAAAAAAAAAAAAAAAAAAAAAAAAgABAAAAAAAAAAAAAwAAAAAAAAAAAAAAAAAAAAAAAwAAAAAAAAAAAAAAAAAAAAAAAAAAAAAAAAAAAAAAAAAAAAAAAAD//wQABAD//wAAAAAAAAAAAAAAAAAAAAAAAAAAAAAAAAAAAAAAAAAAAAAAAAAAAAAAAAAAAAAAAAAAAAAAAAAAAAAAAAAAAAAAAAAAAwAAAAAAAAAAAAAAAAAAAAAAAAAAAAAAAAAAAAAAAAAAAAAAAAAAAAAAAAAAAAAAAAAAAAAAAAAAAAAAAAAAAAAAAAAAAAAAAAAAAAAAAAAAAAAAAAAAAAAAAAD+//b//v/9/wEABgD//wEAAAABAP//AwAAAPz/AAAAAAAAAAAAAAAAAAAAAAAAAAAAAAAAAAAAAAAAAwABAAAAAAAAAAAAAAAAAAAAAAAAAAAAAAAAAAAAAAAAAAAAAAAAAAAAAAAAAAAAAAAAAAYABwD9////AAAAAP3/AAAAAAAA/P/7/wQAAAAAAAAAAAAAAAAA//8BAAUAAgAFAAAAAAAAAAAAAAAAAAEAAwAAAAAAAAAAAAAAAAAAAAAAAAAAAAAAAAAAAAAAAAAAAAAAAAAAAAAAAAAAAAAAAAAAAAAAAAAAAAAAAAAAAAAAAAAAAAAAAAAAAAAAAAAAAAAAAAAAAAAAAAAAAAAAAAAAAAAAAwABAAAAAAAAAAAAAAAAAAAAAAAAAAAAAQACAAAAAAACAAIA//8BAAQAAQAAAAAAAAAAAAAAAAADAAAAAAAAAAAAAAD///7/AAAAAP7///8AAAAAAAAAAAAAAAD///3/AAAAAAAAAAAAAAAAAAAAAAAAAAAAAAAAAAAAAAAAAAAAAAAAAAAAAAAAAgACAAAAAAAAAAAAAAAAAAAAAwAAAAAAAAAAAAAAAAAAAAAAAAAAAP//AQD4//n/+f/6/wIA//8BAAAAAAD+//v/AAD8//z/AQAAAAAAAAAAAAAAAAAAAAAAAAAAAAAAAAAAAAAAAAAAAAAA/f8AAAAAAAD+//7/AAAAAAAAAAAAAAAA/f8AAAAAAAAAAAAAAAAAAAAAAAAAAPz/AQD7//3/AQAAAAAA+//+/wAAAAAAAAAAAAAAAAAAAAD//wQABAD//wAAAAADAAAAAAAAAAAAAAAAAAAAAAAAAAAAAAAAAAAAAAAAAAAAAAD8/wEAAAAAAP//AQAFAAUABAAHAA8ACQAGAAMABQD9////AAAAAP7////+////AAAAAP7/+v8AAAMACAAAAAAAAAAAAAAAAAAAAAAAAAAAAAAAAAAAAP3//v/+/wEA/v/7//7//v////n/8f/5//7//v8AAP7/+/8BAPz//f8AAPr/AAAAAP///v8AAAAAAAABAP7//v////7////2//7/+P/7/wIA//8BAP//BAAAAAIAAgAGAAkABwAFAPv/BAAKAAsABQD+/wcAAwAGAA0ACQAKAAsAAwACAAIAAgAAAAAABwAGAAEAAAAAAAAAAAAAAAMAAQD9////AwAGAAEA+f8CAPr/DQAJAAYABgADAAwA//8CAAQADAAAAAUAEQAPAAAADAAJAAUAEwADAAMACQASAAkAEQAWAAUABwAMAA0ACAAAAP///f8DAAEAAAAAAAAAAAAAAP7///8AAP//AQD7//j//v/7//v/AAD+//7/AAAAAAAAAAAAAAAAAAAAAAAAAAAAAAAAAAAAAAAAAAD///7///8CAPL/+f8BAPL/AwAEAP//AAAAAAAAAAAAAAAAAAAAAAMAAQAAAAAAAAAAAAAAAwAAAAAAAAAAAAAAAAD//wMABQAAAAAAAAAAAAIADQADAAAAAAAFAAUAAAAAAAAAAAAAAAAAAAAAAP7//v/7//7/AQD//wAABgAAAAAAAAAAAAAAAAD+//7/AQD//wEA///9/wAA/P/7//3//v8BAAAAAAAAAAAAAAAAAAAA/P8AAPf/9v8AAAAA+//9//v/9//6//f/+v/x//j/8f/u//3/9P/1//j/7f/6//X/9//2/+//+P/4//z/+P////r/+v/2//7/AAAAAP//9v/+///////6//H/+f////r/AAD3//f/+f/y//b/+P/7//b//P/6//j////7//v//P/8/wAA+//3//3/+//+//7///8DAAUA//8FAAIABgAHAAgAEQAEAAEACwAIAA8AEAACAAYABwAQAAcAEgAUAAkABAAAAAAABQAKAAYABwD9//z//f8DAAAA/v8DAPz//P////3///8AAAAA+f8AAA0ABwADAAgABQD//wAAAAAAAAAAAAAAAAAAAAAAAAAAAAAAAAAAAAAAAAAAAAAAAAAAAAAAAAAAAAAAAAAAAAAAAAAAAAAAAP//9v8AAAAAAAAAAAAAAAAAAAAAAgACAAEABwAMAA4ADAAKAAIAAAAJAA4ADQARABAAGAATABMAEgAIABAAEAAUABAAEQAMABAAFwAQABEAEgAMAAwAEgANABEACwAOAAgACwAPABAAFQAVABgAEQAYABUAEQATAA8AEQAKAA4ADQAGABEADgAVABoACAAAABQACwANAA4ADQAYAAMADgARAAwABwADAP//BAAEAAAADAAEAAMACAAIAAcABQAAAAIAAQAHAAYABQADAAIAAAAAAAMA//8BAPf/+f8BAAAAAAAAAAAAAAAAAAAA/v/+/wAAAAD///r/AAAAAN//6f/m/+D/+f/j/+H/6//f/+r/6//t//D/9P8BAPz////+/wEA//8CAPj/+f8FAOr/6f/r//r/8f/n//7//P/3//7/AQD//wEA//8BAP//AQD+/wMABQAAAAUA8f/+/wIA8v/6/wEAAAAAAP3/AAAAAAQAAgAAAAQA//8CAAIAAQD6/+z/7P/3/wIA//8AAAQA5//q//D/7f/5/wAAAAAAAAAAAAAAAAAAAAABAPb/6P/7/wIAAgADAAAA///8//r/AAAAAAAAAAAAAAAAAAAAAP//AwABAAAAAAACAAIAAAAAAAAAAAAAAAAAAQD7//3////9/wEAAAAAAPv/+//8//v//v8CAPL/9//8//z/AgD4//X/8v/0//z/AAAAAAAAAAD9////AAAAAAAAAAD///3/AAD4//n/9v/5//r/AAABAP//AgD9/xAAEQAjABUACQAXAAcACQALAA0ADAANAAUAAAAKAAoACQADAAgACwAAAA0ABgAJAAQA9/8AAPf/AAADAP3//v/2//z/AAD8////+f8AAAAA9v8AAPr/+P/1//v/AAD2//z//P/9//z/AgD9//j/7f/w//X/+P/8//r/AwD2//z/9/8AAP///v/z//H//f/2/wAA9//2//f/7v/h/+r/7P/u/+X/3//j/+X/9v/4//r/AAD2////+v/y//D/8v/m/+D/AAD8/wEA8f/p/+7/4v/p//f/9//+/wEAAAD+//r/AQAAAPz/8v/z//v/AAAAAAAAAAD///3/AAD8//z/AAD9/w4AEAD9/wIA/v/4//7/+////wEA/P/4//r//v/3//n//v8CAP7/AwAJAAkADgD8/woABwAEAAIAAgAFAAcAEQAbACEAFgAVABoAGwAcACIADAD9/wkAQgBKADsAKAD6/wkAKwBIACMABQADABIAbQBKADIAIwD1/wUAFwAoACEACAD//xIAFAAiAA4AAQAEAAAACgAVAAgA/v8GAP7/AwAIAAUAAgABAAQAAQAJAAsABwAfAB8AGgAZABMAAQD+/wkABAAAAAAAAAD//wQAAAAAAAMAAAD//wEA/v8NABoABwAFAAEA//8BAP///v8AAP7///8BAP//AAAAAAAAAQAEAAUAAAAAAAAADAADAPv/AAD7//7//f/8////AQAAAAAAAAAAAAAAAAD7//j/AAAAAP///f8AAPz//f8AAAAAAAAAAAAAAAAAAAAAAAD9/wAAAAAAAAAAAwAAAAAAAAAAAAAAAAAAAAIAAgD//wMAAQACAAYAAQAAAAAAAQD//wYABwD//wQAAAAAAAoAAQAAAAQAAAAAAAAAAwABAP//AQD//wIAAQD9//3///8AAAAAAAAAAAAAAAAAAAAA///7//v/+v/7/////P/y//r//f8AAP7/+f/4//r/AAAAAPX/9/8CAP3////7//3/AAAAAPr//v8BAP//AQD//wAAAAD+/wYAAAAAAAAA/f8AAP3/AAAAAAQABAD8/wAA/P/9//3/9f8CAPb/7//8//X/9P/8//3//f/5//r//P/9/xEACQD///r/AQAEAPX/+P/9/+//8P/7//P/6f/y/wEA//8AAAAAAQD8//X//v/t/+j/3//T/+X/y//S/+D/2P/q/+f/5f/c/+//9v/Y/9z/4//k/+P/4//C/8r/1//C/9T/z//v//b/wv/N/+//4//n/+f/6f/R/+f/4v/c/+H/0P/W/97/1f+9/+D/1f/n/+n/1//V/+r/2P/c/9f/zf/j/+X/0P+//8f/3v/U/87/3f/Z/9X/3P/3/9D/z//E/yAALAD7//T/t/+F/8z/HQAnABEAwv/b/+r/BwD//wEA///a/+b/8v/+////2P/T/+D/9/8FAOz/5f/W/+X/8v/e/9L/3//d/+L/7P/r/+D/3f+3/7r/0f/0/+L/2//V/8T/zP/A/+j/5f+1//z/4P/R/+T/0v/E/8P/AAD7/zoAAgCPAYsG9RRuF9H9TOk68BMCXA0eDkACZPPg9psHNBDpDEsEZv65AoQGNgfdCpQDdfql9ir9fPk9/E/7bPq/CCQIrAGX9YjxX/ZR/xgD7/+d/bHzxPKBCOwEZf1E+2357/oQB3QPKABk/zL9jvoUE2AFyPD+A5IROQ8a/AkALvMf/wsKCwPZ/Xb4AvLQCbkZ5vgR96f+bAeb8nAOIwxs8d8Kfgms+pL1QAuCBpbzlQtyCWLtOvwTBa//OAFY/HTi2PCLHN/7BOu8Be4F5OsM97wK0fDo8HoCxQVw/LACpvb9+dYKj/xu9hz+OwU0+zX/cA2/C0z7UwOSBGb2qAMaAS4D6gI9AlL/mQEJA+z0KAjNA5z4p/pGBYsDbQIvAdT3OALk+eT5WAOv+mcA/wOP/A0B+f8l/+35jv8lCHD1rfsaD7/9L/c2AakGTvvX+er5tAbnBdn2XAE3//EEZ/2J+9QE0ADa+gz+OgTTBhz7EPvABJUGtfzJ/LkIGvZo/wsHxQFTBMv+3wKy/Un+NwyeAIz9YgHo+/MEWQoqBSn3Hf82AZwAuAReAG39Pfrr/r0IBAdb9hP7E/5YAS4E0AFf/Kn7MvyJ+lEE2APpABv7CPZr+KwGXA/X+gbw/v6HAzADqwUi/833kf4pBdME6AR2/gP2sPtRDMwIgP13/mQBfP73BTUNBwSU+zD6ZwISC7ULAP7V+2gDcgCOArMMhgV79DH49wX4Blb/Kv9Q+sL8mgXl/8b4PQBO/IT1cgHrAaP24/Yo/i8BT//8+QX4+Ps3/2j86/yB/rj9Bf6tAuECG/6v/yAFFAWCAzkF2wOpAVMEBQicBrgFYQbfBqkHUQgcBisFFQZiBlMGEQSUAHwBPgMK/zD82/9v/2T81/y4+q/4Mvux+8j23fQm9TvzXfI19wX1fPLM9373BfT49dH1h/Rq+y3+nPzs/W8BswToBAoFfwZ4B3QKDQ13Df4QdhPpEMwS/xN5EEcPOQ8SENkRExHkDlIOeQoQB2EEvQAT/fb5vvc89/b2fPSx8WLrLedo5lfjA+E24cnhP+EZ4U3lFelV7DPtPeuJ63vsGfEd+Fr/nQPkBZ0NShJWE8AWihehFsAXUB0dIncmfSjhJe4jMyNhIO4bvBrbGdEVEBSXFDwOsgcIB8ICOfmG9JnyP+6p6r3pduaG3xLebt2n2P/UU9Jjz0/QwdQv2o7fUOR+5bfj7ebN7EDxJ/Td+eUAvQjZFFoeKiNjIDEegiDYIlgneyrPKXwpXiwcLl4uSCzMJW8cqhc2FL0QiQ/LCyYHSgVOA3L/rPx39hHtn+ej5tjk++EJ4Sjhot8K4R/hHNwp2PfVgNKG0R3Widv34lXsIvN/817yZPKY8/z4s//SA4kH6g7oG3gnryjeJWohex4GIO4kfiY+IgchEiK8JNok3iB/GJcR0g0IC9wJIAiYBGEA7gFPAgUAD/yv9+zyafAK8L7rdeju5/3ob+o77J/rZ+fd5N7hMty62HjXA9jE2/XknuzG8FPyZ/C27yDzrPao+FL83f+rBsMRfR7ZIiQhqh64HM4dcCDSIV0fOx1jH6cjTCRfJccgWRhFFDgTThBlC4oITQQfA80GBgkzBjkBDfst9iHz6++S7d/oreW85WnnVunO6GrlYODQ21DYSdVaz2PNPtKY2j/l0u7q79fse+6d8jL3SvvV/cP9lAR0EgMg2igTLYgpvSRZKAEqqCf3IwgiEyFgI6smiSZxInodBxmZE6AQZQmvAt7+hfz0+3b/CwEf/XP5gvXz8jDwvezy5kfh1uDw5UXplOsU7MfmCePZ4r7e19h70wTPfdEv3Q7qm/Im9tv0C/bi+G7+1wFlAAr/TAQ5DzscpSiYLLIqqSYjKF0qNCiuIowcxBgoGYIewh7GHDkYThM8ET4PDwptAbH6hPiE+mb79Pwp/fT69Pk9+zb6rPZD86Lt/OlT6VjsiO1N7D7tMO137Lnr3uce4MvY+9FF0k3Wn9zF5GLsj/Jx9gX7zP2uAFsAOwIRAhcFvg7WGOEioSkULZQr5CzLKz8oeCS/HvQYDRZKF00YXBdxFf4UBhG0DdAJOwNr/T/4DfZP9tj4vfie+KH5ufvc/L/7GPlS89jty+wO7s7r1uvK7Pzslu097qjqseam4gnde9YB0p7UeNkh4w/saPMJ9v/5pf1cAQ8HXQjcBy0HEA3CFUshdiehKiMrdCtwLJUqtyd5IHgbehXNEq4RaBGqD0gNFgyJCgEKiQX6/vL4KfbV9F31KfVM9Q71/PUh+bj8Nv7Z+sf1OvNr89bwmPBV8Tjv8O5M8lTzLvKe75TsOOdG4qPdudZZ1RPZg+Ih60f0RfkZ+uL8jgGvBgQJKwomCHIK5BHLHOAjdSeVKBopfizPLnEtYCRQGxUTYQ/0DfUNewsdB/8F0AWFBhYEBgBV+Wz0afKW8qPw9u8q8bvz3Pj2/JP+BP4Y/vr7HPvM+qv41/Xn9Qj3gfm8+7/6v/d99EnvoulG5UPeOdYz0cTTuNqb5DjtfvI69Rz5U/74AgkHfQlKCckLVxOcGfof/yNGJ6IpLy7sLxgsKyYKHiAXOhGrDN4GbQKW/679zv2I/9n/Xv7b++X4rPZa9R30s/LZ9PH4wf2vAqQGpQjGCNIKvQuICMIFvAIQ/5/8bfwH+9T2zfT98fTtJusg5nHel9eW0QLMDMdEyM/L9tPT3V7nPfP0+dUAvQS4C74PWRMrGD0dHCQiKfYubjEhNBs0IDMvL9Aq4yG7GBQS+wxEB5AB+P3j97z2BfcB+P/3sPgH+Tf5Ovon+pL6Tfyu/UIAtQKiBHYG3AeRCUgJsAg9BwEEJgAV/fT4wPTH8Kvti+uX6dPlhOL53l3cNdm31D/PpMu3yL/KctIw2xnpKvR9Ac0JqBFQGH0dVSJYJecowSpKL6IxiTPuMqYx9S4rLYcnNiEuGacPFQez/cr2mvCG7MDosecq6JPqbu1T8Vr2/vs6/zABGgLHAcMB4AIZBVAFowYNCMsHXgjGClwKGwgJBb0Ap/wn+QX1sfAN7dzpWegG57Hl9uQl5B3kbePX4Fff5N0s3BXcGeEL6Knx8/36BjoRPBikHBsgvyPNJpgm8CYSJRYjmCGFH3ocPhlUFdgR5g3DCJMCPPtV9VPxr+8W7QjsPux37C3v+PK79lz8gwFhBecIfAqxCtgJZAnMCPkI7Qe2Bq8FqgRsBZcFoQTRA0cDygGo/7j97PoM+P/2Z/Zu9GvyavE773LwH/Ik85XyYfEb8InuMO0060Lop+Xa59frN/Xq+6oDAwgiChsPshMfGG0XwRYjFEMSphGDEM8OLA2RCZgKqwv5Ci8JSQSY/1b7xvi09UfzjfDw70byk/fm+wcAcwKGBMMHVQsbDSINeAvFCKkI+AhwCQ8JnggpCZALuwxpDb4M7wpZCFgHSAXAAkT/ovr2+OP3Y/eG9e/zBvIT8pzywPL/78XsLeo85rPkPuHi3YPZb9rU3RDkU+7w9Q8BLAU0DSsStxSsGDMXPBorF+8X/xV2EjcQpgy4C/4IIgY2Ah3+ofmX9lj0vPOV8QPxWvLN9Kz4fv11AeIFNwyDEWYWRxoyHKcbPRukGM4VoRPHEfIOrwyBC7gKKAksCC4HMQWnBLABHv6D+t72k/O18Zjwnu+z7pfvRu+B7yPwFPD57kfu8+wz6s3oG+Xz49TgYt7s2qXbQN+Z5jXvL/hS/2YDagmwDG0TMRPsFqQT6xEIE+cPPRC1DPYMLgxsCw8M8AtBCrUIdwV7BWkE2gMoBGQFqAeUCUQMtw5iEU0Ughf1FxEY4BTXEeYN0wkJBrgC5//Q/K755/gX9wr2U/cu9333svcG+Pn2XPZf9YL0I/Pu873zP/Os8gzz/POp9Wr4yflM++P6LfmY9sb0wvDj7MLp2+aW5Vfj0eJe5+Ds1PbG/u0HdA/nEWMYzhsmH1Yf0SCcIFwexxtBFmEQAQuJBqYBmv4i/ID6Ovgv+CP5mvl++pX7kPzs/T/+Tf6U/g3/xADQAR8ETAZdBYMEqAMiAvUAPv8w/q78f/yC/LD9H/+8ALMDyAVwB9wIKQkGCaIIsweZB/QGQwbbBXwF+QPcAg0DcAOHAwQDBwNxAjEBvP6a+hb3mvOT8PrsI+oC5sLhWt7H3lri/uZx7ajzA/pK/XgCPwRFCLQJAAqKC9IJfwh2BH0D3/9e/nP9jfz1/ET8QPxx+7H77vx+/eX+gP8A/3f+SP1C/nn/DwK2BK4IXQt1DuARBhSqFhMY+xf4FnkV7BKAEcEPCA5/DE4MoAsCCzgKAAmxB7wGNQZEBU0EqQK6AOD+qfxd+xj7nfqP+4j8o/x4+yD6IvgF9kPz5O8K7CjnwOFl3nLcOtt32anYvdhd2wLgW+Ws7072b/0cAuwGpws/DOENow1PDf4LXQstCmUISQeiBngFaQV0BcYEawOJAuICcQKcAyMFFAbUBu4HfQh1CZwLEQ7dELgTkBUOFhAW1BWuE9sQDg5RCpQGbAOjATQAov81AGQB3QIyBYAHVgjYB6QG3wQNAxUB1v7J/OT6Afoa+db49/jN+En5pPnK+Tz59fix+Hn3WPbT9NfxbO+j7AfqLein5R7j2uAe3+XdiuBM5Hnob+7U8zz4pP1vAqAGiQpwDHgPNhIWFTIWnRSzEeYN8QoTB+0E2gLh/6P+qf5U/0AAWQJiBPUF0QecCesJRwrlCmoLAA2bD+YRhhKOEpYSdhIxEqYRaxAlDrALBAoLCUEHTQVqBGEDggIbAioBTf/w/bT8YPvV+QD4xfUL9JDzR/Nt85D0k/aW+P76fv1x/vL9Vf2w+6P5PPfH84bvJuuM5zjkK+L44IPfz97b3WTeQ+G/5XnshvPZ+woDhwg1DmAS7RR3FnEXzBa7FG4TLRLFEJIPlA7mDQ8MNQqMCEAGnQM4ASQAnf+m/+//bgCeAcsCtwTrBh4JfAvvDO4N6A4/DwwPKA6TDF8KNwgYBngDLwEg/4T9/vwk/ZH9z/10/nv/qgC6AWsCZAK/AQYBWwDX/57+Ev2l+7j6Jfpu+XH4/vdM9wn20vSG9JTz3fGM8L7vCO4+7OTri+vk6xLrL+tA6u3q+e1W8p33NvwKAnEGhQqzDd8QGxNPFJ0VtRXEE+APEw3pCTMGAQR1AfT+ZP0l/B774PvP/U3/WQDgAYwDPAR/BEIFMQY+B+0IcgriCyUN2A0mDisOpQxqChMIMQX6AUD/5fxI+xT7rftU/DP9jv7z/7EB1AMkBYIFqwUtBcAEIASJA7UCFAIWAe7/Wf///v3+tv7X/mL+H/0s/JT64PcJ9Tzyvu4P6/HnN+Wf4tffH98P3u3e1uLG5zjuYPTc+44B/gZEDO0P1xIiFOMV3BUOFbMTWBGWDkgLgwifBWMDSAFV/+v8+Pvq+6H7OPzP/NT9uP+DAgwFJAfRCK8Krgw+D8sR/hIGE4wSxhGHD8EMPAo+Bz4EHwKGANP+rv1U/ZP9X/5b//f/RQDXALcASQDa/1r/ZP73/OD7DPrx95322fWV9cr1kPab9h72X/bG9l33Nvc691D2vPQu86LxBfBA7SXrf+i25oznk+qn78j03/qgAPUEFAqeDvkR1hQZF2QXyBZ8FU0TBhE/Dv8K6Qc9BSwDTwGN/x//5P5q/s/+6/74/Qr+n/5x/3oA1gHPAqsD7QRUBugHUAlbChQK+AgIBz8FSgMqAaL/qP4//pT+Lv/c/xEBcwKyA8QEggUUBTsECAMDAjYBRwAw/4P9o/td+uv5RfqY+j37Q/xX/TL+bf75/fP8mvvl+Hz1WPGV7Nnn6uMO4Kfdld7y4iPoJu9U+Fj/AQZYDuEUeRePGhUdqhuSGGoWZRKBDI8ICQZsAiL/tv6B/ZD7C/xe/Tz9Ov0r/sH9qfz1/Of9DP9aAEMCRwQ9BhMJWwv0DH0OAg+qDe0LvAkBBnMCOACy/Vj7lPrV+n77Cv1O/w4B8QJyBbYGogZmBhgGzwQ0A94B6f8N/ov8XvwA/Oj7RPzN/KX8U/zf+3H6RPg79S/xE+z/5l3h4dsx15bWptg33nDmKfB/+QICgAsdFCkb5h+iImUiYx9zG44XbhJdDTMJTwVmAUr/5/29/Mn7nPuW+0r7//oS+pH4kvd899r3c/nr+xL/BwJFBg0L7g8dFIIWQBezFowUFxEvDSYJGwWvAXT/6/1S/Yn9u/76/ywBfgJZA44D9AK1ASQAj/6u/Kz6VfgA91D2lfXg9Qz38Pc7+KH47vdb9rvz6/Aa7U3ov+LI3FLXS9U72NndDOZj74v5KQNEDa8XWR+WI6MmEihHJawgPBymFuYPnAoxBxkDtP9G/sH8mPuT/DH+AP6B/d/8zvvz+v36Dfua+hf7ov28AS4GPAsMEF8TkBU5F4MXERbVEmAOkwmtBCkAc/zO+W34Avix+If6pPwB/p7/6AB7Ae4B8AGqAFH+4fvz+VH4KPds9tP1XvVH9Xr13fN88aXugOuJ5u3gxtn40UrOEdFX10ThYOwG9zwCfw7BGwEmxi13MHUv6yueJjweGhbPDXkFYv9P/Bv5m/Zb9qn3TvuU/zYDaQRjBAsD+AFxAPz+wPyc+0n6RPvu/vsD5woMFD4biB4WIe0g5Ry7F8USEwzdBcUAG/x79xn2rPaX+Jn6NP0x//IAugEhAWn/xfyC+qL32/N475DsiOpu6qXqzutf7FDtZ+yq6r/mMuCn1vrNbcv6zfzUod6b6rLzTf5lDvgeaCoFNdM6tzi6M4Iv5ibbGZgO1gMo+Q7y2O6I66Dq9u569n79kgTnChcPvQ9iEGkQag15CZYGwgLt/xQBzwRQCoAR4hjWHZogXCCgHCoXnBFyCg4Df/wL9ibx0u/C8CfzBvcx+6f+HQHVAv4CBgHm/Vj6gvXj72bqzeXZ4snhhuIp5C7lPuW/5KDiBd0H1fXPHc8p0+DcU+hD8uX7tgdgFU8jUTBTOfY7mTlrNHItkiNlGJkMFQGN9yTxBu2O6e/odeyO8ov5GQBwBJoGlAeeCHQJUQmlBzQFDwMrA0EIFRL8G78ieScNKfMmoSILHAAT6AliAon6X/LE7Nzqzuuo71/1IPtsANAEjQc9CAcIkQbkArf8uPUx71rpVOV74lLgvN9y33bd5dkl1W3N0MQYw77HNtEv4OXvBPynCOUYyCh3Nh5BPEV4Qnc8izMMKKYaOwww/u3yiOog5RTiSeD44Xfo+/DA+T0BVwSxBEEFRwYsB9gHtQb6BDkEtAbADh4aMSOoKXsuCC8HK8YkLBvRD8YGWv/p9/7xxu4T7iHxXvZV/D8CgwbFB7MGOgMP/5b6P/XP7vHpWOeg5Vvk1eR35VjlfON33orUBMeSv9PAVMi91VDm1/Nf/zsOISA8L+A8/UWrR6BDlD35M7UlmhZ5CHj8KfJG6tHjyt322ize/OMZ6hTwcPNb8+n0e/iC/Df/wAHaBH4KlBW5Iy4viDZOOsU5YTXGLYIh7BAlAm71v+tc5uvk6+XU6uzzTf6UCKAQ2xTCFJQRzAvrA0L55u2F5FneJNwS3Ujf+uGh5JrkH+Kf2tvP7MhIyqHRE94z7F73rAA3DvAdzyz3OeNASkLXPUk4mC/UIyQUdgUn+fvty+a+4JPas9fN21visukW8M/y6/Ir9NX2DvpN/ZMBewdoDxkZECSsLKcxaTQDNWoygSwtIpkTOQbM+8L0wPAT73/unvH393//QQYvC8UMmguQB5QAY/eX7UrlM99P3dndz9+64Y3k1uVs5FXdf9OwzLXN3dU15BXzc/zyA64OtxufKKs14Ds3Ozk3dDKlKggijxU0CZz/s/hb82LtGOXd3gLf/eEQ6A7toe246rfqaOzx8In2mfyiAw0NWBilJIMuTzMjNa42xjTULvEk/BV9Blf6jPOh77buue4g8pP3BP9xBn0Mxg55DjkK9gGw9yLt+uKQ2yrZndhD2BvYJ9ir1JDQeMqKxp7KL9YU55r8qQsqFCsdJinkMV8790BHO2YzNiylJdUdjRbWCToAmfnH9AnxuOuD4xnfed/C4LPlcecJ5K/ia+bS6un0twGhC+UUJCF4LAo13zgLN1Ux9ileIHcUoQaA+P/vw+xI7u7xUPaR+gUBFgcJC4QNcwxGB0cA3ffJ7iHoeOIa3wvgq+Lb5LTmRuTv3DfTxcjTwijG19GY5Mz41gcJE5EfaCzrOXdGrEoeR4FAeTWmKTcfbhFeBNH7j/WQ8OvtH+jd4nvhPuPw533rEui64UPd5NpM3y/p+fP4AIcRAyCqLXo4bDsQOgU42TABJtIYOgek9kzsn+bC5iXrgu5L8+H63gDfBTwKMAljBKf9ffRy62njA90j3DXfM+ON6CLr4+Zr3nLUh85U0mrd7ewj/oQJgw+lFzwhESqtNaw9mz8+QAw+kzeXMMkmSxtcE7sLvQFE9p3o/9uv1WvT+dSx1/PWs9SO1vvY8N2+59byw/+FEYIigy0QNPQ01TFuL7QrJSP1F78K0v4g9wP0WPNi9O/1Z/dZ+VP6gvma97/0wvFm7rfpBeQ/3wPdhN/V5FLqdexN6pbiTdcHz+DPwtnY6ez83QplEp0X1B81J2YvITYqORA57TidNkwy6StOJCMf2Rt1FwQP7gJ09Cbq5ePY4VTgxtzB1qXUWdUw2NXc4uOk7IT4ZAabEbEaEiE9JUopsS3eKw0mVh7wFfsNbQmDBM/+n/nO9aP0U/Ml8HHrYOiD5f3iAeFX3jLafdi/2gfe/eBN4o7gUtpi0VjLYc1u117pe/+eEcQbtyGCJTkmSyijKvorgi7+MU0z6zKaML0s5StvLYIsgCZpGi4JCPm/7PblKuIE38Lbu9qv2lbbQt4W40brOfZkAbQIzAz0DfoQTBdTHoAiDSQaIpwe0xveGJAU2w5eCAICFPyz9KrsoeSY3jvakdff1RbUE9Gm0IXTftZk2I3ZT9dW0MHIjcflzgXe4PKiCKQX1h4OJKonISdNJDcixSCiIjMnnSw+MM8wejHtNXI5ATgNMXMkcBSnBsr8kfTJ7BPnbuQA5crm3uV44vbfveE156Htp/Eu9I/35f40CYITDRopHhki+yUOKC8nlCIgHAcWgRChCrECHvkl77jnn+Gj3LXWNdF5zCDLO8ooyYXGusFAu/G3tLz7xkDXjOoK/ngK+BJJGVsdfh4THxohNCRPKTIw0jYJOuc5lzpHPHs7VzZ4LHUfXBKMCAUC6f75++b6AvyW/Yr7AfdQ8TDsb+nu57DmMeS84qXjgemd8Wz51f86BnoLoA/NEmsUURUMFm0XghjRF3oTDA4+CFwCi/wK9ujtiebZ3l3X1tAWypXAXrd1tFW3UcFY0GHiYPDP+Wz/bwLXAmoBbAIzBwQQORquJHIs+i/kMWc1uTgtORc2ETHZKT4ichswFvURUQ+eD0IRGxElDaQG3//x+U/2x/Rw8jbvHezG6pDptulo6ivsLe6J8GHzO/WG9ov4EP0AApcHvwtQDQEMNglEBTwB9vzP+LT0k/AV7BTnR+GD23jZrNrx36nl6evU7qrvHe/r7pvvlu+j8o33av/kBtgPqRbpGu0d+x80Ia0fDR3LGS4X0hTtE7cUvRWUFigYQxmTGBwWMBMpDxkKmAVGAmYAxf9FAMUAXADw/gb9SvvA+J71j/IC8HDu8e0E79jwYPOx9lr6Tv1n/oj9i/uF+ZT4nPhv+Zj5YPk0+dH4yffL9kf2FfU29OrzcfOx8evvkO5o7ZztjfDW9EL61v9BBeoJFA2GDhMPxA96D7wOlA1wDe0MsgzEDHsMkgz5DKwNQg1LCsQG3QP9AV8BbAFfAQABfAFDAT4BTwFOASQBlAAFAP7+Fv4e/lD/zgDJAl8FXQenCCMJaQhAB+QEhQGW/kn8jvol+Xv4tPjF+XL7VP2W/tr+Rv60/FP6tfde9bvzdfOw86nzcPNz86XzHPQN9Yb24Pcz+fL6z/zh/vMASgM0BYoGdgezB4EHpQZkBUUEbwPJAk8CkAF6ALL/Yv/l/5MARgGcAXkBWQGAAcgC5QRWB9AJxguwDG8MqwsTCy4LwAuGDPcMBwzqCWAHPAWsA4gCZAENAMj9Xfo79zH1afRu9WX3Kvn1+dX5VfnB+MD4IPmY+WP5lfhL90j22/Xy9ar2affo9+P3Cvhg+Cb52/pb/Zr/QwGSAtgCgAIrAj0CzgJaA6UDbwN6AlMBrgBrABsAAACf/x7/HP+B/+T/ggDjAV4DEQUYByEJEwsADbcO6w9nEAEQ3w46DRcL/wgyB2UFyQMPAg8Aov21+qD3P/X984Pz/vMY9Q72B/da+Pr5CPxC/vv/rgCLABsA1P92/0f/nf46/dH7hfqR+fb4tvh0+MD4vPmA+9H96f+eASQDaAR3BfkF0gXkBEwDawEAACP/Tf73/cr97v2w/f/8APzA+pv5xfjF+Lb5m/t7/hECygVGCSYMXA60D1kQRRDUDw4Plw1DC0wIlwTiALD9ivoL+O/1dvTU80X0lvVs96n5Xfwz//wBJAQZBR0FqAQpBAQEDARpA14CDwH4/+z+yf23/OL7avuG+wH8ufyC/Yf+wP/KAMIBIAIUAu0BuAGkAX8B0gAAAEr/Ov69/Mf6MPhW9dfyO/Gi8CPxsfI69R/4OvtG/hQB9gPWBg8JmgqaCxEMGAwfDBIMrQsZC/AJTQggBpsDBwEL/1H9T/yS+wX7/fpJ+yf8qP2U/1EBKwP0BGAGTwcECG4IdQgrCHgHIQZzBJ0CIgE6ANb/Zv/V/k7+7P2k/Zz9+v0X/ir+mv3H/NL7Uvud+/r7AfyF+3D63PhJ96L1L/Tg8hbykvFb8RHx7/CV8enyIPXs97n6Rf2m//oB3wTgB80KHQ2dDmwPRA9CDngMIAqIB0IFwQPuAm4CbgKVAqECtAIRA50DCAT2BBAG3wa/By0IVgiSCMII+Aj8CHYIOAexBRcEiAIlASAAev8J/7z+kP5c/hn+yf26/aH9Nf2r/NP7kPoP+ZT39vWk9J3z2PJl8i3yA/LG8WPx4vBe8AnwVvA88ZXyX/T/9Zz3fvnK+5L+jAHxBBAInApwDD0N8QzyC7kKtwkmCdgIhQjkB/EGHAauBYgFdgWEBaAFqwXJBSwGtgZyB6UIEQpbC/ILtQuOCvgIaAf9BdAE1QPGAo4BgQCM/4b+zP2b/ab9uv3H/an9NP2E/Nb7Afv5+QT5UfjY91L3ovaH9U70I/Mj8n3xCvHD8NnwPfGp8SXy0PIL9LX19veD+tr8DP/iAKECPgTEBegGigcDCDYIRQgvCOwHVQdlBlsFggQdBAUEHwRVBFsEaQSkBCMFKAZtB5cI3wnnCj0L/gpLCjsJDwhiB9kGRgaxBSEFlgRBBC0E6QNkA1gC5QBe/639N/xA+6n6m/q9+uf6A/vu+sT6pPqm+mH6yPn1+NX3h/aB9eD0kPTN9ET18PXW9sX30/jx+SP7P/wY/cb9BP7Y/Z79Sv3z/L381/wm/cX9tv6x/6YA2gH7AsIDJgQCBLQDUgNUA8gDnQR6BUUGDQfJB4UIHgleCXQJZgk7CSsJ+AiYCP8HxgeuB3EHUgcWB4UG5wUsBUkEEAORAToAv/4+/QL8H/tw+j76lfr5+mn72/sW/Dv8dfy6/Kn8j/xY/LT78/pw+jL6Ivpp+t/6Xvta+xD7kvrF+fX4H/iL9xD3Dfe396b4xfnU+tv7wPyD/Rz+e/6k/sz+Cf9T/83/PwABARQCewPuBAIGwQYdBxkHEgc7B2oHowfKB9AH3QclCLsImQl6Cg8L+QpQCuIIHQd3Bc8DiALJAUkBCQHhAL4AnACEALgA3AC0AFIAAQB5/+j+f/75/Wz9FP0i/bH9i/42/2H/If9M/v78kPvW+Sz48PY99kD2jva+9h33kvf294v4FvlI+VD5TflA+T75f/m4+Rn61Pqb+2r8Qv0I/rz+nP95AFQBPgIRA88DUATJBDEFewXYBUIGiQaFBmUGYQaLBhEHxwdFCK4IvQjNCKQIXAjMBwUHLAanBWAFXgU2BasEJAQtA1ECRgGiAAgAYQC3AFABNgJsApQCbwIqAnkBogB6/zH+3fzB+xL7y/p0+iv6v/n4+DL4lvc29xT35vaa9hz2hfXd9Hn0cPSV9Bj1q/VC9rj2ZfdV+Kf54fru+6X8HP2t/XX+jP9/AJoBogKgA6oEhwUdBlwGgwaMBmoGmgYFB7QHuQjMCcQKXQufC38LEwuHCvAJNQl3CMkHPwfbBr0G5gYmB4UHqwd8BwcHPgZWBZkEyQMTA40CCgJrAYsAwf/l/t39AP1M/Hf7h/py+XX4b/di9m71WvQ28zTyX/HU8KbwwfAm8dHxu/KL82r0EPWO9SD2y/a+97r4sPnF+tH7xPy3/bj+sv98AGwBNgLPApUDWwRJBVoGNQfoB0oIggjNCGIJNAo4C00MOQ2zDacNfw3yDCsMeQuvCt0JNgmvCD8IwwdjB/8GvQaaBlgG5gU/BVAETQNtApYB5QA0AL3/BP82/l39Mvze+m75+Pd99kL1S/Sg80XzDfPt8t3yu/L48nXzB/TA9Gj1xvUT9n722faF90v4IPkH+tz6m/sg/IT80vw6/df9pf5y/wYAcQDBACcB6wEGA5cEZwYACFsJIwqECo0KbgqHCoQKcQpJCh0KsQkzCdUIrQiqCMII+QgJCeIIZgjVB2UHLgcEB+4GxAZuBrIF1gT1A/IC9wHVANH/c/62/AD7ZvkL+Bn3tPaX9pb2vvbp9hf3YffO9yz4aPir+L/4uPiX+Ij4gfhj+ID4n/il+O74Nfmq+RH6dfrE+rj62fr5+mb7O/xF/UH+Gv+b/+P/BQCKAIwBmgK+A7YEUgW+BUIGpgYAB34H8Ac1CIUIigh4CHMIlgjECBoJcwmACZwJYAkoCQcJzQhzCPUHEQfFBWUE0AI1Afz/Fv+N/hj+jP0k/bT8NfzD+4f7ivue+6T7qPt1+0z7IPsV+zH7bvvB+wD89PuS+xr7Zvrc+XP5Pfkd+Tz5Qfkp+T/5cfnZ+Tb6gvrD+vn6QPvZ+3/8Qf3t/Xv+Of/I/08A8ACdAS4C4AK2A0EEqATTBP4EOgWNBfEFZAbNBgIHVwe5B/gH/QfhB6YHGwdgBoQFjQS2AwkDxQKlAlsC4AFaAcEAYgBVAF0AewBqAE4AAADb/6z/b/9d/17/Y/9d/xz/rv5Y/ur9r/2M/V395/xE/I/74vqJ+nr6wPoJ+zH7QftG+3T75vtT/ND8HP0s/TX98/zu/Pn8Iv2r/Sn+pP4B/0z/hv/e/zoAwgAiATwBPwESAf0AKgF+AfoBfQKmAtsC2QLOAtcC+ALzAuwC1gKSAkMC2QG6AbgBDQKQAgkDYAOAA08DNwMgA+sCxgKDAkAC7gGnAYkBVQFZAYwBtQHHAaYBOgFgAMX/KP+K/gv+eP3s/H38X/yF/NP8Nf2c/dP9zP3O/bX9m/2W/aj9pf13/UH9B/0M/Sj9af3p/Rr+Gf4A/q79eP1o/Zz9zf0L/jz+If4u/mH+n/4N/5j/8P8CAAAA7P/7/wIAUADjAE0BqAHxATkCWgKlAvgCNQNZA4UDdwNCAzUDOANTA3cDswPYA+cDsANsAxkDzQKQAkEC+wGlATABvgBWABIA9v/t/8b/kf96/x7/2P5s/ib+uP18/U/9TP0//VH9bv2C/cT9Jv6C/vj+o/9NAJcCuwHx/1j8JPl29x/3k/kN/Hf/hQFgA8ECSQGA/gz8EPry+Zb72f17ADkCxgNdA+UCzgHUADoAKgC5AG8B7ALVA88EHAWzBPgEwAQACAgHJgV6BIoBVwD3AB8DlgbWCDoIfgY1A4AAUPyP/MP8hf3J/zwAYgH3AH//Vv1a+0j5lPqf/FP9af4V/53/t/6E/qj9qfyf/Lv7QfxF/Jf/2P2+/ZT+MfzC/JD81PyV/7oAQP8QAaD/q//q/RD+kP8xABP+IwHFAIT/2f4K/vYAkfyFAdkAsAE2/0H/6f9X/kb/9/25AgYAoAF5AEUCIwT3//QBKAXcAc7/yAS+A6r9mgF6Bfn+1ALpATUC0P8DAxECigEXArL/JwP8/LQCKvz1AXMCkv1qAjkCOfhzAnoBEvM5B+3/y/ttAt399P2FA1b2ZgFuBYL1UAEX/6MC1P2v/9z/bPzh/Yn88wB9/9b91PvtBVf7df1DA679wfuQ/h/7lP34Ain5vfwgBGL5nf0qB1/3yALAAC4Acv9IAW4D1fweCJP/afnBCZn/MvxICcH+G/8pCYkDDfzyC1YAKPt0Cyf4YQdzBgX/tQbJ/6IBLQFYBJUAuwZ5+9gE7AN2+lMIbf939G4JhQKH8OkJWgLY83UFlP0G+LgC1/06908CUwLl9PMDmPsD/Zf6zgBz+o38eQJt9lUIu/ZI+yYABfpt+vD+5P+k+eYCSP+s/8YDDPjLB9sBx/qfAkD+YAlh9IkCxQmT+of8jgkMAdz+jgSk+eYQgfnm/pEMdf3xAuv8VAlf+6AFBAYB+owP5QBeAqb91Q66A7vuoBP3BL7u1w+qAkz5Xgox/YP5iQyU+z/sTxiF+ATy0hJZ/0Ls6gy//LbuHRBR7qH8PwlI9MP9iACM9XT9DfyuAib53/g/C6Dy2QN1+XEDpPtQA2X2XP3+EabojwbD+oQM4vcy+d4Fo/1RAqP2bApVBgXmVBFoBGPuJBOb9JUHuwPE/Uf/ag5H/az9hw4jBsfuahbTAz/vQR7j8cYNIfoUDVP7CwFWEObuxxUq8m4L3f4X+S8QA/PjCuP4GwXhAjrzWwz2AHD6Uvly/ZMDI/ao/6H/2/XOCCbymvqfCTfyufzmBGT5HPzF/+wFlPLtCNL8yfYiBT35XAEb/0T4igFAB+DroBAu8nH7jgiu8dAIX/vv/i4C9vpxDNz04v8HEinoHRNlBFfzoxBf/UYFmAEXBzb/qwImEEnt8hVGAPz2GA2JAjMIavbQDaQFyfAlEXz/kPjGDtnzigkDAf370Acn+c8CDwNL9SIIDQCK9mMGdADk8WUJSPxq+4MAFPmPB33zNweH8UEKMPpL9+cB9wBE/LX4fQpw6j8LP/yO7hMKPvk6+ZX8EAP2+I/5YgoM8lwB8wQs+1YBAwVN/OP+tgLzAcX5DRAO9mIDqQ+48QcNmgZa+ogCnw6W7R8VDP0BAWkKyfm/Blb/Tghq+z8Ckww8/xz3RRP286YNPfvd/jESlPDsBh4Hdv0F/dsIjvljCJjxXQrs+j/3zQ4G5asXA+tCALcHw/JsBsbt0wmU9tP0igfr/mjx5wdo/Z/1YgHZ/uv0Egny+E/3vROK55wNy/q2/OME5/NTCvD8f/+8ANgD9QJJ/nUAhwMZ/CkH2vpOAi0FRv8WBUL/0QcL+dwJjv659+4VS+wFD4YEW/UFFN35jAHwApQIkPa7C5P9rf9MClf5gAh2Awj6Owsc+mH31g9E7W4I/f3ZBdT7OfwVCOr0jwYV7+0FO/5X+VH/nQTU+5b6vgPx+PT9tfqm/WcC0AFY8xQHegGy9yIBBgHM+4P2IAkk+Nb9NAOC/FX/wQGNBBb6vwSt8QMV9vKd/IAKEfmw/hEFKAMy86AYMOjYDEUDPP4w/mcL3QH4/XcKTvNJG6nrhwXMCHj+CQcB+poQngUX9loEORI28Wn86xIv8t4J6v7I+9gSreleCWYGFPAiCDr3Q/8DB7DvWwge/AT/WPooA8j5sfqLDMvq+wpX+iP/CvoNCGP4+fx7BtLzNvhYEcrpSf7gDOPr2wq89tAGKO4jFXzmWApGAULxIhCl83MJvvgfEtzwnAUyAhcAQv+wAFkPbPI1FH/z/A0OBvD2axPj8ocMJPhcB7AGl/yOAZ4Ok/ti+P8QUgT07CEWAAAa8aAZJfBvBZQEL/+g8r4QavSt+64KC/ac/3ENc/Cs+3kSquC3C77/DfkT+VkHPvh0/uEGs+ZwEEr2lvSp/yEGRPOb/vgJEekVFRToRAAZC27xIgBNBpQBXvMUEjP7kPwMAZ/9NwdF/Vf6AA27+M8HFAVNAlz+OgExCob2GQqhAU8EC/u/DKz/agHhBVEDp/26Cd//Y/qPCoQDZ/xLCKb/QQAnBQf00g1M/s8Df++xFxXz0QADArX2pwV3/kv4HwEKCmrlWw4h/I79PPKqC3L18PvMBhnsqAyn9lrzOAkq/L31fvltD7Xv6PrFEWjsEgGAC+32uv+NB2TwIRIY9uv0QxW765MKEwdx78MUafXBA5kLw/fhBGYFlQGN+2kKuwbI87kMuwo08DANTvkADgn5FAEoEkvsBA+nBEECSPHmFbP2Hv5jD6X3sf5XAakG2vcC/8oFofY89yMYuuslB4n+LAKq9DUHFPom91cGivdM/IIC3/8B7DYU8u0oAZMB+vj4+QEEm/7d6/YXZ/di6IgU6/9i9YoDifxaBuP/gOsUGAH91+/qCoML6fHC9ikUavhU/ysAQAqH/EX/9QlhAnH62gTLAUQC7gM//sQG5wIi/4P/Fhnq4mkPJgOX+yoM1fGVFg/vTwZQCk4A4PKcBG0NXvao9UYeqOYG99knX+BjAOcH0/n7+ZAGAPdN+2MK3exVCHsNheEOC+EIk+dZEfHxEf4ZBdz+6/5U9sUJ6vgU+dQII/S4BBACdfD0FnbtIgMFBIACie6tEbb9H++PGY3vEwn7AQACcwEY/UkGo/q0/1EQd+sLFJ4AmfTaCYsFTPpRC7j4jfWJIUHlqw6U/+H+zRf0480N7Qx28JQECAX2ByHqtwipEbPp0ATpCd/0i/3iAhD5uArN86/9/Q6t9Ob7nQAWB5fv4AT2A1/zlgoV/ab0lQ0P+Sr6qgcB9eMLXOmuE1T4zPoBBUoB8/hiARIPA+PkHb3xj/f8E7r7V/JiDHgLlOzRBCwKC+x1GRjyOPgsFRHsxg1q/bP69A/h8Rj7DB2/6WH9YBD2AWz0VhDw/Rz5e/vwDR0HhtugJR7y4/YlCMIKHPKK97cgC9VLGd7/p+ybEf/yAxeV8T3zFxVU+BD8bAeq9jn6Vg/IALPxqgd9Aqn9d/lmAioEp/CB/6gTOP8Q5vAWdQTx6dYMHgeC7zL8GAzKACj6cf4ED4rsfwyG/kjuRBSy+uf+zvttB8j0iAzsAtbjtBgWAPTwKQqTBt75nf5GDYL3jfvdDi/1SfOgGvb1ovCTEYf/jO/5EAEF1+e2EQ4JCfGY+VcP3vuM/B36+AdAAXL/Wf5vAu8Pf+l0+9ATKQWo6hEDdg4J8yYD0gsM8FcB5Ar+/fL6Z/5yB2T8IfQrDPkGAfYv+MoM3gan5kkTGv+18VEIgwS9/kbrHBTEAKXxsf9kBTEHUPT//CUFAgU19gL7pg07ArfyAQkT/nUF2fvl/T7+hAWkCkHrmg2D/8YEW/su8kAPewWl4ZkOCRJD6dcJ3wd+9I/7uQ9E8ZkIIf6493kLAfzTAZgAoges+mb6TAkO/c8A3Ae69SoCjw9c/Xj4DP8xDlMCE+qZFPsH2/Fi/hIJ7AfZ/D7xAg2gEH3rUPujEaMFFuGFAncbSvSr4xYOaxYM77DrPhWX/uHtgf6YAhT/9/Q0A+j+QvxB+wf5x//rAm/qZQV4DAbwHfm8AUoPQu769HoSwv5A8N72hxs8/2zsCw1FD3cDFO3LCEYYI/Rc/EwQgAlr+egCkBChCA379wa5ArEHvg0n/qv9QwchDf78BQM1AR0LNfp6A70MrO6qAtYDTf3qBOb8p/GP/8kON+8/9IsOff0M6ZL/VQg969jw/Aqc/ezgn/uuB3vtNfFcBhH2z+of/rEIs+uO+FcImv0U8xD3XwnYA0v6+P4FExX6FvfBExIT7vbA/l4RuAtPA00DDhKyDIIBXwwAEEgGtQH9CBUUHgTHAj0EOwgQC5cGAgOD+04KPASq+XD+8waV/on4LwXNAjj/u/N5+foEyv3V9HLsJPsvBSnz3e7K9tz8nurf46j/egJc5/jiiwIoBD/nnuWO/jwFAvIQ6pQCPQeY9x37ywZLDDv9vP1zFL0PbgFCCEQSeQ9BDsQKyw1OEbIQoAo3BIgPWRGtCHwEOxF0Ca0GsAZWAmQIdwc5/QT/DgzM/LX9xgjf+TL6/AQ8/kn2z+24Bm36debh+lgFkPXU5uD17f168PHYLfbxBCbiFeM0AkD/Ueo+6qn+3vpS69vxxQMVAJLwp/+PDIIIX/6eBikNHgwmCTIHSQ5nER4LkQ4pGZ0OOQ3wDxMSoRBxCMQJYA3yDmUIVgmUCasK2QaKBdMF4fxkASMEUQDx/ekBuv1+8dUCigSR9FXrkP48AiDw2vGH6/MAm/dL5fronu9S6Pbm8e987zHuxegC9Mr5evQE7MvwDfja/Fv3dvYjAi4IGgnmDGUNDgphDTkT/RPlEOgPkBKbGPYWDhiLGFAVZxf5EZ4K5wriDFMLkwuYCIUFPwU0CdkG3AHJBxz+APWL+UD8SviD/x78Efl3+Oz0FfVf8xb2fPb08Rjn3e9D9JjsQeiK6Ovjf9+84M7tyvea7ALo0/IR9VLyIPhi+AT0mfSqA2IJzQhqDnAQ3BdpGh8XRRevFfoY9B2IHHIYvRbtGjEhYB9/F5oRRBGpEGcOig19Bw8EgwZXBUkIAwcJAHH6CPri/MP4OvDR70r72POr8VDzme0H8EjwHe7n5F3l/eaf5YnluuBl253R29sa7dnvVO1p6ePsD/Ja9vL5EvlL8xL44gXGD9UTQhlBHdgemx6WIPAfwB0lICkc9yAEIxMexSFYJEQizxuIFLIRgAuGCW8J+wVzANcAaQUnBn4C+/m1+v/4nvSh81Lz7fKk72Hul+zI71TtLukr6yLp9eYV41vg295+2SfVZNRD2IjiRexv8Vru5vIm81n1KvvY+QH7YPjeA3oQmhg6ICokCCiDKPkm6CQNImwe7hvLHy0ihx+nITojTiTCHLkTnA9RCccBVv6PAJj8Nvww/mn/ugE6/Bn4kfjt9OXvhO/78bHuMO+W8VHwX/DM6yLoL+mm5g3iqdyK0rvPdNIT1zTZGeWF7y7tsfBh9IP2mPNP9xr7kP1LBKILIhtjKHsvfDJNL2Is9CrBKJYnkSQlIwUiiiSAJ7soWCVXHoUYdQ+JB3wC9/1J+aT4Ivcy9mL5Kfps9U7zIfKC6s7nAev46brqHezn6G7ooek55bPkAuNo3/nc6Nkq19fMH8v0013gWuzQ9+j7mvis+Ff4K/3zAP0BWQWwDE8ZNScNMTU2xjkMNuswoi2vKaAmxCMvIcciPSXcJwMmtyCyGwIUxglPALP9xfg/9BD1d/eK9vn1b/f38xPz+e1e6HnprOff6cPpbOxk7LzlzObc5q7hIN7I2sXYmdP+zInKOsru0trg5O9T99b3hfZ19AH4/Pw4/gAAbQbqEnofozAeOmo3LDisOVc2CzG0LxkqNCb9JGoo8CsTK8Qp1CQvHOASMAsx/+z6J/m39BDz6faP91L2S/ch8OPs1+tg5r3jdOdw58PljOXH5uvmPOIK4XLdKtjC1UXRBs6Pyb7GfdCT3RrqQ/ea+v75HfY79jn7Svy3/esCWBCIHyQryjQFO2M4ujXnMwEz+y8BKSYnryflJvspTyvVKC8oOx+0Fl0PrAUI/lj5kvf/88P2EftA+mv40vVJ8TLqXehM6O3mIuaT6L3p/ubD5gnl4ePz3ILYeNq21b/O0sn8xtHIt9AX3//vtvnu+oz5Qfhi9oP2HfgZ+9UFCRT8IbsygTiTOZQ64jMxMasw3CuaKugpxChvKpMrDyxhKO8kox+9FoYO0gVR/gj5HPW29gr4q/h9/H/51vSe7yzp9uXe40rl9ebG5nTp4uhG5kHlWuCc3P/Xsdaw1ZHQPsytyLnK/dPL4APus/Yc+Kb6Y/gz92f3TfUF+AECWRNWI/QxrjrpOkk4MjW+Lz8sBSnGKJUqliudMOMwPC14KqAknhpvFY4QdQcjAi//kflo9036fPsO+nH5j/am7q/pc+cU5G7hlOQ25wnoQepu6qjn2OHX2xDYfNYw1CDSkM7CzJ/N/NAt3KjnK/GS9Hv1pfkJ+BD2gvSB9S/8lgWiF9Yp9zTmO2M9bzgSMhEu9CZQJCcp7yv9MCs1/TRUMNkpCiFBGEYSxQocBfAA1f9h/g78VvxQ/DT4w/UZ8z3u6ue25X/muuMt5FznmOm/6H7oJObX3x7cadgP1fzTZs/UywrMNM/41iHg3egw8I31pPc797L32/Ps8ef0xv14C+YbgSt5NoU+Ljz/NUoyxipZInwkcyYCKxQy2TRPNZ0wFyrjIK8XLg97BxoCXgBc/wb+1P5J/lP6hPei8z3vfuqQ5YzmS+VI40jnl+sD7CfrDOqz5lLiBt7/3K3aVde11RTSY89A0HfVAN3P5fnt+/T8+K75KvnQ9mjxMvBC9yADpBNkJQ00uTsrPnY7dDSJKp4iUB4uIDgney1nM8U2qjTKLt4m1BsFET0HJQEF//f9xP4NAEj/dv07+ab0Qe5l6KLmb+R046nl8uhb6oLr1exp7KHn4uME44jfWt1O3abbIdkr1rXTmdML2M/dZOQp7jf1tvnF/F38zPh89MD0GPnMAsYSMCMjMWA6Pz9UPMI0Py0gJAUfgB6SIqYpcC/VM3c2IDLBJ34egRHDA27+QPwt+tz77/4MACL9xPmm9JXsDecx44jiGuPt48vm4upX7Bjs6Orx6MXmNeMg4s3hPOGk4DDfP96c3KHYh9fv29PhQ+da8Ln4Q/3o/7T+Yf2T+oT5l//NCKMTByEaLak23DuVOsM0kCspImYdIxvxHTclDyx3MU4xcTA4KG0aQQ+qBC781PcO+Or5Avxq/p7/F/yW9gvx0era4k7gauG+4NLjI+kN7Uztre2o7APoE+Uz4gLguuHv4cPhlOSS5NjineL55J7n9ugS7hP0GPep+wcBWAONBJcEkgRWCJAQaxh3H+4m3itJLFsqBynVIwoeOxvVGlkeJSGuJXkoQCXOIRgbaRH8B24AX/xg+sL7of8gAo0CSgGW/fP16O4K6dXkJ+TI5JDocOvM7aTwje8w7X7q9+bU5NHjtuQU5/3pwOyh78Lxze8P7uPqXucE6PvrzPB0908AVQUpCdcNMw/8CzsJjgd8B+YJlg5cFUkbkh+cI3wlJCTfHxsZQhTNEIUPeRDjEdgUxBY2FusVeRIdC6IEgQBZ/Hr5x/p+/Kb9zf9u/3j7r/Ym8XDqteXQ5N3kheVO6ajsEu7Z76Pv3u4v7tftN+yF7OPvWfNy98r7PAAMAkgBmADT//r8qvqd+1b/jANeCPUNMxHkD4kNEAoxBFUAev+j/5MCpQh0Dn0SoRQgFe8QhwqdBWoBp/53/6MCKwcGDVURtxJ5EjwPpwiEA7L/lvsX+ZH6+fwz/wcBZwBE/Tf4xfL37FnpfOi26TTtoPGZ9kv5bvrk+yP7Lvla+Xz6iPwq/ykCTgbcCIUKHgsLCo4GAwNb/5387fv1+1z+8AEsBFkFsAVkAiP/p/qK9Gbyj/IQ9Ov3PP0sAoEEOwYCBasBK/9+/Dj8Cf+IAwYIdwxIEG4RGxDVDK4IQQML/wv+9P2kAOAC7wRzBnEFYgPa/zn8x/dr9av2xfdI+6D/FwOFBfcEYQUOBZwDswLTA0IEcwN+BUYHBQfGBjoGLQSTA/YBfP/l/jX8h/jg9vn1kfSk85rzc/PI8rTx3fB774DsdOtg7OntC/LY9ar4E/y4/hQA3/+F/1z/Mf+NAGAD6QXDCcAMZQ7uEBMRIg/NDWMNpwxoDGkM6w5wEHgQgxFsEOsNbgpoBwIGYQVyBFoEPAXyBSQGQgXFA2wBVf7l+2P7hPxp/Df94P5R/yn/Iv6P+8D4HfYl85Txh/Gc8FTvQPAK8RTxhfBT8Ervbe177Dbrlutg7TvtXu5d8Rb0Jfcy+UD8d/4j/4sAewLFBAsHIwpFDRMQZBPcFRoXmxewF2EW1BTRFcQWlhcsGVIZTRiBF6IVhRHkDGsINwSuAR4BgQGRAaUBBQHj/yP+gPok9wj1zfI58ZTyAfTq9FD2Fvc793P24/Um9Gbyo/G38IzxKvIT8j/ys/Eo8FzvDO9E73jwLPFp8w316vXf9qH3k/h6+YT7IP7kAdUF1QfhCGEK/gmfCVULfQ1XEGYTNhetGSMbwBuXGMcU8RFMD3cNHw7fD3wQdxEPEYUOQgtMBrgAUP2r+rH4CPmx+pr7Xvvf+gj5ofYS9ITxDfDf8M3xnPMZ9gz3kvfa9s31dPTr82/zHvQk9qT3Y/kz+zz7Xfr0+S34i/dm+Bz5i/q4/PL99P4r/zX/3P7p/Tz+e/+kAUUEmgd3CckJpAkZCV0IoAe2B6oIWQkcCw8Nvg3ADkcOUgwOCj8INgcoBncGpgc3CFgI+wefBhcEAgFd/b36m/mr+Wj68/oB/A38xPpB+cH3//W39HP1kPb690L6afxK/ZD9Uv1x/FP74vos/Oj9JP/P/8cAVgDS/8r+5v2O/Wf9tf1J/sH/bgCgAFIA0P+s/OD6/foO+hP6TvsS/XX/7gA+AcgAu/8HAN7/SAAdAowEeAbwCA0KNgkYCEsGxARmA2QDBwUeBhUHwQiUCaEIJwaYBPIBXf///rP/bgErAx4EeAQ7A4sAB/6r+zf6P/ny+fj7hf68/+wAXAFxAIv/P/3A+0j7+fuD/bX/KAGBAQgBKAAR/rH6mPhe90T28Pbb+Or6qfvN+6j8NPxK+uH4svi1+Gz5c/rI/b8AeAFLAZ4AdP8i/rL9nf0G/zsBkwOeBS0HXwf5Bj4HZAc8CEQJjwreC6QM0gzlC+cJQwcNBjkFUQTDBAoGAgdMBgoEWgJg/9j7Jfql+br6AvwS/YH+FQAU/2r8qfr7+N33NvcA+AP6c/ux/PX8bP2k/Lr6TPoE+m75lvm/+p37WPyG/U/+H/1b++T5bvr9+k/6GftV/Cr9u/wt/bb9YP6C/14BigNLBX4GKwUBBHgEMgUiBfwGAwr/CxcNlAxVCgsJ5wi8CMYIDgisB9EGowS9AfH/wv8cAKIACwEPAWP/qfzd+l352ffU9+T5Ffxe/nz/Sv5Z/Q38NvuP+rv6Xvzv/b7+7f7//0//z/zp+0v9ov6J/qv9xPup+t/6iPoL+538XP6f/yUAk/4B/WT8UPvJ+4b8KP3z/nwBTgN6BBQFFAXhA58CowKyA8oEAgWwBFEETgRnBA8EmASXBVkFfgWEBVQEZgIgAYgAdQD7AK8CegQBBDMC9QCB/7b8Avs/+9n7K/02//z/qv/2/rH9s/2A/cb9Mv6k/XD+PgCMAWgAP/7f/Hv+xP+M/z3+6vyh/Of82/2J/ez+c/+v/ZH8EvzZ/A79gfyy/Pv98v4+/mj9Fvw0/Mz8M/0S/on/UgCNAKkAV//U/40BVwRkBv8GyQdQCOAH1AUABSAGbgbaBXwGnQeWB9IGqgXdAzEBxv+Q/4n+tf4xAPj/SgH1AaoAkwDo/UP6QPnp+Lv52v3xAHMBrADx/5j9Sfpp9yb7oQBG/4D9C/6B/gn9cPyS+Rv4Ofoz/UX+u/og96L2HfgM+uz7lf12/vf9nPzc+wn9Wv9WASMD4wRhBqUGegXqBGwFZQf9CUUMjQvvCQEKewl9CD4HHQf1BygIyAYSBvcE1wOiAuEAHQBX/yEA5v1a/Hn8Ov2p/k7/UPyc96/zDvbq/r0BuAAtAH76s/UY+RL7D/ud+i37Evoe+/r5bvrA+nb4SPlk+Wn4SPeT9434Z/zt/d3+9v30/Gj8qf6oAM8AcgAZApIFDgjHCeQIYwcUB/MI0Aj5CbEJOwobCx0MhgtFDBcMvwmBCK0GYAeoCP8HHQRqAlD/i//J/xEBi//J/sf+H/1pAJT8WPXJ84/zwPP4+ogA4ABU+CfwnfFG94H24vjR/Vv1BPaS9831R/dX92r7fv2r/e33cvVT9WD63f8lAFwAhf3k/nsBvANSAcsA9ABLBFgJcwpJCd4GAAZECTsNjg9qEZMPlAuICYMJagq5C2wL1ggLCd8K6AbXB6MFFgUNBD0CYwFq/Rf7DvpU/wAB/Pzw+2b42POA9hH5Ifdn85D1BfSd8w7x/fb0AFMBVfqG7rfsV/Dv+IX8dQB1/qP2Fvf6/A7+Rv4F/Fr3mfgy/L4C/QRk/wn8mAF3BZQGTQRbA1IHpArvClEKzAY1BxwNDhApD2wKTgn8DKANCAyBCBgGIwi5CS4K+ghLCBICSAH6ArwDYQWB/8L8J/xu+0v8QPt79y/7uABN72TwpPt1/Nr1mO6m9BD02fsZ9iX39vIX+G776+949WH37f/1/vf6IfS/9x/9wPvD/k8CewG+/Tb9XAC+AtkFtQdBA58BaQU2C8YENAB1BGkO6g/2CMQC8gcGEgkMtgF8AiQJgAyBDAUImwITDHIOlQLN/Yr9jwdwB8AA6gJJAj/2ZwCEBQX/Ivbv/Mn2pe7j/tcEl/yY48zwXAi1DevoseEK9jIJawCE7ursnfIODUT/Y/hd8ffzEwIWBy8DpfnP9tz6iAnIBp368QCRBKcAb/5pAh8FZwOfAYkE6AuZCHz3AvydEqkNcwLkAEIJtwJ8B94LdAYcAI8JzhXRANH6Xv3XCB8LNwLgArf8SffYCmcE4PYs/Z4AYf2QAq33zfCwAun/hv8t8s34uwJx9prz+wLT+NH6cAUi+rn1bgL19175Awey8jECNAHk/Kb/bAK88jT7UQOm+mcEXQCmBYf+X/uQ+KcFQAzm/6cDZwBD+pf/0AneDQ0BdvohBBkNMgZZ+ooAKQocCA0D9wQBAOT9pwGSDlQH6vXG8OEA/ByjBMvqHvQoDQAMTvQP8r8IsQhB8MIB9AtC8132PwlDAuz6d/aDAH4LD/rO7hb50BH0BY7v/uupDIkGj/SQBCn6ovRu9hQZygIF50P2SBIiE4rzOehXBN8TlAI1+/r3e/6xARkROQTm8ATy6RL/DiTu+voGBvEG5QVhBD36Zv5q/ksGwgoH99ABBwHFABEGlAP8/6MBAvuD+BwT3gSJ7rf/IQ5CAFbw3AgzCTLxJfwIEiX9EPChA5MBjgKF+pUHnu7yAREKlQM27fzx7RoT8CML1/JG/X390Qr6AHzuAgOYAzsQUeH5AJgCfAqNAHvtLPy7ErUA8egVAcQSwQNE7DkMfwELAmT8fgNiCY380vkhCxYNavcb/iINQf1yAKkLKfOgCBIN9PiU+wgIivrRCiX1uwH0GIXiyfmTDjQHPvFRA/8LMufSBt8NJfbs6BkVvgub2n4WLA0s3dwERhfS6YEArQDy+W/8wvxUCyX9pOYz/tcXjOgzAQoEb/TTA1wIDfDuAK8TkvEPAtsLF+76DA0IFfjwCAn8/Bgj9c/zdhObDV34kAJ/CGT31whHEDv6IvbREugC0OtTCBcU8O2B/hgRu/fZ6RMcF/x779oJ+f5+/Cf68wQk+PUKDvGc/bAF3wCx8Rj9gv1cB3QEvtybEWkIluI9BRUZ+dibCM/+WfoDEarngPXxGrf5guvPD8L04g1P/4YApfQrDcIBSwWjAtn2mg+bA8j4+QS7GQHw8QJmBVsOEQRS9rr69SK18Mfu3yL28+EASQTr+0D+Kw/b+lL09wi5CmDt/gAbEPXm3AmoByfiqQqrE1DW6gb6FEDgIATu/yUDqurMAvEXG9p8/AIYxvX78UD+OgoY+wH1EBTg9Un7Nw8e81L3wxnH9zv7EgE7ApgQWOQXFSgHHPSbDlf8+v75FUfpwwlRDRr5BwfF+TITvvFSFV/13PtfExL++fDVEa0BDu+jDv78jAzy9Dz2JABWFBboqPKeGuz8TdtqKEfu8dVTPCHfs+3xHRvusuaaI5vrZvA3Fbn6y/VS+eATYfwu9lP2chtb7cz2qBScAaX0CvoaKR/XawpfGy7iNwzsFB3j4AM9F1ntWQ3L/M4ETf8F/LsL3vga/JgRwvk59fcLiQkm62oOPQUQ/e/4sPlTGZX1XuxuBYwXxt2UEG/+wPhlBND4df8vAfT4nPWkGGnsjfosCi3+AwDp+q7/KAKtA8r8EO+9KJvhWvtUHwvtGfZAEZkFJfLCCjABm/bqCWcNtt5CMX3h0/h8IHL2PPETCHYUO927GfL/Wvan/Wr9Dw6t+yTuaxRG9035+gt/8iH+wgbIAbztmgugBsTrug5VAGLs1hJx9//7hwCnAPkGxeqVEdUElO+xBnb7WgJZCaHtuAVsEv34Te1GF6MJUN9aGZcC+vnnBcDvMhzW+wDq+B1i+ED26ARgFFXoSwQcIRfVEx31BY/c3Bp4BFDvKARjDMHwGQGHDpLroghB/9vwsg6M+efmZSkR5W7nHTcAzBQJRhe63YYLlABgARrzYAmF+HkBERIj2/cXXxAG2HIT6RNB2w4eDvSv9RUg/ONrA5UYsO8mBbgCmvr1EgXohR5U7T78SB5q7Zz5DhuV59IJkw/Z34kl6N8BEloHP/EGA90GIwWR8yIJCPlhARkEtvKnBmAIPufEDN0Ni+LYCEsKyeruGLzoMwGhEmnnGAC2FHrr7/BRJxPZQBMFDRTWUyYz+GvtuhBZ+fb9Hw/J70EIwgElAGj/pvkpFzHeGRpl8+YAYxFz4Gkq0uX5+W8SAvlNAzD1chls5LoJuhBz7fELwPlQArIBXwMG8oEUkvWdA4b9hP3EB5H54wtI7sMQRwY/5kwNehWd2l0TSAh16dMKqgFk8ZYcWvvw3hkr3urk88gW6+4nCggA6+0hFzv11PyF//oOp+6A8k4YpPq+8nAFdRKe4HAPAAR49fv6Tw0S7GkVdfIm/CEWb+KGE37yeQrH7B0Yte5I/2wQLfFNDYDuUgzw+3YCw/r7Ax4MN+7KCLkNm+vmDWj/gPpRCRn+4v9ZA9YDrAGg888aoe/R948f1uDhGBb6WP0U/rMdJdFOFRkYesfaLNb0BfE1D4ABZ+rkFl7yGvmMCwf3i/uyBej1dwjC/9fxEwf4AWPwoAUjCG3sRghXBY3q+xPm7XL8vB0F1G8flPV6CS/xewSDB+/24Q/R5BwbVPxz89MNkQDg+gIGOwoMALTzjhZ99EX9tR3j5Y3/kRps5SwVa/z2+BwDHxH/7r4GZQr23cox+94gB6cEUfyk/SoDd/4cA3L8tfE8GnbjHgLBD1TjXx3f4UIDthZS2XwVTPEkCcDrFhqJ40gS7/Wy9CEYt+fZEAD0+wbR/KsAl/1+BOH1TwqJ/FgBIwnZ8x8GtRcU30ITZgSsALj4UA7X/Sr+4hFV6gsVkfhgAesE7AcM75UWjuzRD4D8zPyMBHT2GxG88BkJSwDe90z+Tgk38BIHPwQS86wJ7/enAa0A0/yR/avt6B+J3NUMqQvi4CoaOO7OAFwEcfYs/SQLcfct+VgQZOsUDhD/cPwAA0sA9fvA/ooJkPRREW7usiDV4PEXWwfc6LoX+uwkD20ES/VVCRYQ8N/CJKrusPtRC9/5cAzk89sFHgz262EKu/w6+EgLLvA5EKbyfw7w8tQL6PHS/1UEo+sIHabmiAal+nIGhPo29+kOR+kDC+H3ewQUAZX60gbH8jYS/uUlCV4LUO8/DI/6aQd0+zX9SA/356AamvKM/iwX4upyD5v4hg2S8AAUeuyCEDkCbfJ2FUvv+hUF8EX9Axid6Wv8ohnN6FgFaAaA+sEKx+5WBhMFH/v2+mn8kw/Z3WchpfMG7e8eku92/gb/Zf7wAvD8cfVdEo/y/PqeDB/4mwDs9PsJ3QMU9TL/6xAn7WsD4Qz+6LwVMOpyGSjr7AXRD9DsXwQbDU/vgwSVEsfjbR2u7zIOXffN/ToLcPsO/TACtgHeBYz05BNp84r/7gPb+c0HMfrO/mgD6wnd6lcRxfT1C6DsTREX77EU7u3ABlkKIObhGSLqkRHX6/EKggaN7DELngoB61EJpf6OAi7+/PfRCD0LvuMfEzf6IP8gBiXzcgwm9JAOf/JIDqzxLg+B6bgcqemM9owlUdpDH93pkQGPDmD0JfyZEDv6rPAFE40BP/K3CeD4AQ3x8RwCpApg/YP2PQt4/mv6Gwpg7tIVPfbABYj+fvhKDTH+4+14IIridQgzC8H3vQR7+3b8exQI83vyRSP9zq80Nts2DSkM6OZiFJbx3wya8hYJ3/fq/woHrPYS+2kU1t6aF+3x4vu3DG7sAg148psLL/iZ9akaLuqW9rIbmuLDHJrokRLg8sgOUvgl9WoglN4iED0HSfnu9vEXbe4VAh0KTfur/h0IcOwHJ+7ktAMAFufifhRs+0wJmvAZFpTwiwgF//b96AZf+R0Ee/coEu/uDQpw9iwPK+wEBfAHi+z9GjLgFg4vBOvspQb/Bm/otBaf81b64Axh7MAH6PvKBYH0o/usD+rpkhTi7u8AiBDs5XMeaOK1Fav45vndDw/11/9MDWH4agUGBEb49xG16s4ZFO/YDNoF5vSADGQElPJyBCsSOuI8IULrMQ3U+hgBCAr69EwMXPFWFYfhhhhn+WL4GgyP6AYZ7e7c85Yg8NkMFujtngMED07bGCIw5eMD6f0+BDj0CgM4ADv+6/+w/n38+gm88PYFtwqa6wATnfbXB4/wEhu3510KbAVx9YkQ4+4AFGoEiuTwKPvlsPy1J7TKbTrt3iYG/guQ+5D5kQXEDY3ovRKq9uoDLAaD+en55RZU2pIgr/HSA6f5cwaU/uPvSxzi3RMbhecbC0wElfEECGMAZu83Ej/oNg3rBdPZBDW304EOiw1u4jYdm+e4DYT7QPnhD8/tzhKA9JUIXfsWBu0DD+09HWPpUwu+BqnvORWO9Fv8ZQ8y+vf9dwMCACMCQQMk+hERcez/B6AMGeZkIKXkdwdbDGXzQf+RCPPq6SFa5Bn0jy1dxS8pZfDe/BIH2/O/DYTxnQPgBwXxUhJT6MYPdQF17UQaKuEUGoPx/wBoDM7tTQ/07RYR/Aay4K8h+vaO8LUWf/s5660ec+oREEP/c/CdHy/j6xUF62oZr+0XBLMLl+saFrLnexW26l4THvW4APYM0eQWHz3nvAQRE3DnaA0l+3YCcQkr5ZUjId8HC3kFhvlhBajuTiCv3skY8fB+A4wHq+ziFb71CPwpCJ/z3xND7GYG2Ayo2V8wmuLNA+MI1/WJBUL7GwFb/qMIve/JE/n58fh5Df73Ww7z73gJ2//w8yYVoO2aC0H03xEr7KgJ4Qlp4fQqv94tCUQJ2O9IFA3n1xCz9yj7MBEn7jMSNvLF/0YKxvXe/3AA1gNQ/F4Ccv4B/ocDcP43+6cH3vw3/vwFKvWjDXj1pAXv/noA5frxALUFQfhlDeTqmROF+D30kBto7AL9IBDS5LAiTerz/zwMpO2iEGz1CQnB8YAP5fRnAW8DBv0WAPD7KxOy5F4NJgUW7YMX+OjmBw4MOO1DDzb6jwUz9z8Grwl07qoKaf94/CQJ+fp3+BQU4PAWBD0B+APO83cJ8wn96TUXlPI4ANcH0Pa8AHQOfO64CzX6kgK4/XT1gB1d1wYZ7QLQ4xIjwuOCCVf57wjb740LaQXF3uYzIs5kFVwHW+jWGHHpdw9O/Jj5uAh19ysTuuqHFBT10Pt+ESzr1xkZ4fcjN+ooBQkQqOQwF2HyvAas+q8CwwGd/4T/Jg2C7QEPz/vO+k0NRe6oEn34VvvLB3L/d/fyAyIAywBF+z78MhBw5mcPSwi06dUOlvgSABIJQe5xCrQJXt6uIWLu5v3aCBb41v3fCBr08QzN/eHuFR4P4x4bzeVxE87z6we4Apfp/CN65iMDNg1N8if9kRb85P0cL/KA9mAj3NBhKtfoDv8rECHqsxWu+44E8Oz8Iv3Y8Rc8/sTqxRwt6R0ODvsf/oAFof4K/TUGrO+GEqDyLAzx8oQDkALn9FINcvLjBCwGCvWRALYSfuKiGLTovw9M92n0wxqA6tIC6Qr/+ov6Yw3h7pkS5uwjBeARleqGBFYNzPli++sMXfBwEJvvnwxRAlj0QgqY+98EffdCFMnjnxpx9er6uxHI9e/0PBsw5hUAPx28ziUuHuASEC/4GgsG9ToINgzY15k0u9bgD9L/gPQKCwfzJA9I+cz9jwBdAy78B/8Q/lMAPQNV94US/PJx9gEWhe5tBPf8+/72Btr5cgrM+DIIX//T95YEUwjQ6wEX7vTTAaAGxvVPDnnl5CP+3jgOmQOb8JwTV/dj/ywEQvpqApL6pAXh9/4DjQjk5eohGuNHEHb0MgMZAeH2hA3Z9WYK7/O/CZD6IAVY9vcFhATv91EEigk19i8BzQdw8cQMefRyC4H44ALNBIn+LgCk/B8M8e+tCb0AHvuzBuIFLfRiBK0CyQn95xUX1PXW+aMQ4uhVGcboKA72/jD5GQZH+IcESfqbAA4MLevNERb3KPygChD2PQM5/isFEeg0Gzr1/fElGEDq+AMCEOTkHRN2/zrxBBBl/ynwhw/E/VP5OwZY/moM7urjFMX2aABUB0z9vQBP/gUNl/VxALwMiu2sC2wD+vVcEYTw3wxV8FoVy+4ZBhf96/x8Db7sQhVA70cIS/rQA0T6wgKuAgMAEff+EqDr5Aou/PL6FwQL/Nv/3v3/DM/f6SYi4AQRHPinBW71hAso+vj71Ba52zcaTvPqClnxWhLl6d4Jkg356A4ReP8m/EYJ7fwT+eUNEOwnGOr4jvgPDV72vQTHAToB7P4p/pz+twvj9ggBrgkD7lkHXg7Y68UGlAF69hcEWwTx+EsBgvtnDiP2//zjEbDkuhRF8ZoHs/nY/jEIKfx79aUUf+0Z+1cVm+rXBpoD5wF88ycW5Nu3KlPjqf4fHWDZXxrhBjjohBLUAhPlOiT36eoAAQwo+ND5nhX+7cv+MBRb6dELUwPl8z4KlQW17W0Y2fYi8k0c1+F+C1oI8PGRCPADF/a5BoAHGOVyHlnndAMLC9Lxcw2J9or9Uggk9wr+6wTc/ib+QfgfFsPlig97/fL3OA868boD4gYY/tXz3RFb8zwD2wc98vYLBvlt//gHwvQmDbPyywhiCanrjRl96eANygAD8w8W+OZpETAGWug8FUb5+/T+FHTqOAiuELzkgQtIEKXaGyLy93znfSYz4lQIHgrr71AOiPhX/GkMUO5pAr0Phu8UB3IEGfSnD87pMRM//Fvs5BuM8Ob6URaa7eUEbQyz6qEPwPj9AakCZAE98nIRFP9w8gEUnOrDFAvyqwEcEXHjQBfp/WL13ghs/5b3lhDb/snrNxUa+JDzfRcY7gALuAG36xkhruPDDlL/a++XDyb5E/yLDbzwRQO5DwDwXwW/+9YBHwBDCxHjdhut8gr6zRuh4AIO8wCV9fAKtwMh7wcOg/zm9mYOuvsX86UPNfgGAtkCGfmUAioL6vEHAVoMSusgFIr0lAbt/Hn0uRCk/1TuchRD95HymB3452QBsw4z9BT8KBBn9eQCCwRl9hwLq/nr/qD/oQgO8MEItwgQ7kcQmfTvBFUCbPrmA9AEFPK7CvEDifK5E6vrigwRAEH7eAkZ+Ir9zgZ7/PH4nAkgAnDyfxHo9WIAAQaQ9FgQPOw9Daf3BAXw9uYN++zOEWX76PEMGrfdFhzD87wCi/2iCQn0vQKMCJXl3Roy8sj42xCp9CwKx/sXBaf9YQQg72cSN/099IscquGQF1TwiQkYA/Xy8AbXAWb+9gW0+5X/EAVd+SoAlQGu/Er9YQ7D8AUNovaNCNX4HAB0A4L6cQDDAakBeAK9+j8AVwmp7AsK7QRe9Q3+3A6/8m0Kk/qF+1EDAgCB9kUODfTS/oMOI+/xDKH1eQZq/sj7wQMdBbbqFhtj9bL1FheI6uMPl/eXAnADRfmNBCgCS/8W/tkC0/suB1j5VwfR+VkBlAJg/TQF6fkOC4XxMAvU/ZL7SAXu+E8I4gBa90QHAv1J94AR2+88APgNtey/EHb8X+tyHYbt+fmgFyXjAQtMECrgGBlc9vjvvx2s6GwHWwP383gJfANJ854NqPmL9AEeqd7EDqEMPdy5JCbylfdmEhD4IP5tBc4FY++4EQr1FQre+WEEiP/Q+rcJ+PrxBR7ubRl58GkFrQCf+cwEaP4//JIEXPgoBXsJf+0xEevz5vtPD1T4VfrXAqX8DAv76rgUlf+L7OkMqwZC7A8PTv7M9YcNke7WEkztkA7X9xP78AvI+mT5Fw7k8XEK0QFe7dYYO+8GAhkF5gXA66IThv/09cYNO/H3DuX+7eufGrHyPP37FSfl7xYl96b5NRPp8hr37hLk9Y/z8iCy30oLgwwF6nMUYfJD+UkRvvIG+ogYIeB4DUUZatR1FKEEh/HgCIX9xAVs8zUMzvauBTMAI+dUJ9/r6vOEG0zzOvPoHTnrbQHQDdDkIB9C6yMAPhNz8df3HRkh9Db4kBK77jAJ7f43ACgCT/xpA0r+PwR1+zoFjfwL+XEVwOiFCbAHPvKkCiz6JgLvA/fy7QecCPzmChjS+NXx4hhh4aUS5Qib3zUdqAD75Yse1/KR+QAQpOyUFXbzxfpnEmrzJPnHEATwuf2GEdrqyQ2pAS3mUCNR7GD+KhCT7oAMtv5R+1YEpA1Q4u4gnPWX9KkTtPPFAf8ItPgp+ZMUa+eoDKkJ9eFlExoCwOrJGP3vSfnrGHbsqfSXKjvUiQZDIPrb/BRY+2P4PRFA9VbzOh2L6SMAJgsd7R0LygPg6qYY5/OD6WUvh9GtFVkVQ8PkOAr2MdkwM23vjOtkJOfmTQhjDlnlsxva8NcEfAF8+9kIFvfB/9MJ5PWF/Y0GiPZpErDqZA3+/vP5ugPI+/gKXPNDAk0E2AgH6DUZGP4p7EAYxvI5/j0CRwgL8aoJAPkyAfAFRva3B939JPVOCDkIduZEGb31pP/BA4f4XAbq/bD/BQkL/CXyJh1q5/MMN/8G7/IbCOQxFTn46PoJDb72v/0/CK78tO0GHgDuOwBVD0jySAcXBlvwXhRk8iv3exSu9esAcwXG9ZAL6/RT/84Q5+BLGhzwxwbABhzq/RIO+Bn91/4S+fcLZ/w3/1YJQPwF+BIO0/Zz/kATc90JIOD3K+wbLBrW6gwLFm3ZFxQLC0XdWR/hBATUtC4s6tn3YhhP6xkGvQ0M7T0OsATF6Xkboe9S/+YLAvAbB3IM5O6rC7P+FvYZDdbw6Po5HJTneviII3bWTR1L/lPo7idI2PUFKBnV6EP8jCIt2ysMJRe+ylo0aOvN8BEii+PxAB8Z695YDv4R+9btHb39vPVFDmX4BPqnFxrrWQH/GpnXZgvxHUzV8xfUEAfKjjVm7dbrqitl4mzz8iMH5aAA4R5tzTYn1PZM6Zwr6NpTAl0hGtioEiUHMuAAJ8zmj/rhKnvXxPlmKAfjevkhDxH7lvteBScAQwREApH4VPmWC+YHqd4KJnL+MOG9HUD35Pb9CBX0Vw6f9rH4nR7F5JMEVhaI3m8KNRsS1KkVlCCrxmsn4vgc6lgdkfLq/e0BCQQ59DkUaO2IByT9g/8OAE0E/v3J77cbcPjJ7dkM8wdn6dwZvvT2+UcOa/hu9IYjW98K9Ygi8/Ni8hgO6Arf4AEYgvoi/JUFHfsa+8wYguWm+BQnUOZF8ZAn8OoV+GUSWPSF/pUMl/8Q4RAvp+f+73IhU/Tw8KQN/wAi/BT2vQfcDTPg8xs/+h703QWPBa/13wSGD/zf6Byj+/zoXBkJ7kIFFgR5+C0MJPFnE/3wbfwMDITwfRJw9ab+jwNt/gwKq/ep/XICV/8Q/7UDpgWc9zcC6ADxBl33EwNHATn1ownnAVIFT/LyAKwKSfBDCqH/IPrBBRT4ew8a9QL6hQzo9HQAEwsd76cQ3fl78WkZ8OzyBKIPjOcLDKYBvu01HRHzs/RzE+vzPv1kEvTuuf1WC7n9MwSC/hruAgaQEAAABvUW/9gQpecrEMgHveJ7FhP/6PWjEuDlRw5BCaz2OADx9/0IFv3d+60FmP+F8M8LFwLx+yn+iAUC9R0HpPv/BS8HveduEFUGMvF8BE4EePq5CjL40P6sAkn/MPe0EWH6GuyTEjn/7fYWAMwFSv7W+awDkgZ49N0EnAVu9ZEBdgkc+Oj3Yw80/Uz0FAz8CCrx3QEJEjfv/feoGZ32B/aSDa778PugAYAITP0K+eIAlA0Q9Zr8FQ5G9Vv/5v8w/0cDqfwA+ngScvdk7qAMuASq9J38+Q0n+hT0SwpSAxHxwQrS/kT2xgjL/R39cwDr/2H9T/6WCTL9M/bwCK4DsQLO9yT+5wERBiQC0v2A/6H4bwpfAHMCNwHP+3EAXALEAPMA+gAv/ZoH+/5w+KQA1QOEANr79QaZ+H/5Gwn5/6373wIqAWj2jwbo/WX7ewlqAUD3RAINBTz6ggS0+9r/sgTS/V4CMP5i/n4FfAEf/rr+d/jDB8cDVPs8AYL+QQEeA9b7hPzHBrb8FQTIA0T2YALGBjb7c/1M/1QBUAOj+owFp/1N/U4E8AFzAk73RQF0BYX/CQFFAG0CTwEV/Gr/4AJ5/fYAPwMx/yH/eP0jByz+yfh2A4z5VQUFCK326gKLACb8sgc0AKH6KAH1/jYDvQi3+v7/6QD2/kwCnP1VAaf/XfzxACkCFvu8AEgAjvmC/6ACzP1VAFoAbv1fAaEAggNf/Ln5RAVx/zb8iARhAGz9OAByApz+8fp9/usCh/52/WgD/v7q+xkGAv8d+TsF8Pzg/C0DOAMu/JYAewPz+WIA1gMt/iMAPwNHAUL/kQDwAb/9IQRT/zAAhQMu/rkBYwHEAxP8DAE5BKz8mgBMAkYEWf0j/7QF9f3s+8AF6f1p+xQEVv/y/ZsA5wKw+SIA9gIn/LAAvfxPAln+ffwAAVP8wv5j/Hf9V/+1/ez+t/1A/oP/L/rh/7UBwvgbALD+J//LAmL9jP5UASj/+P/SAWf8lAPxAbT/zAjjAFj9qwbzAoYBkwTDAkoHlQPsBUoDwwKZBWoCNgbTAzEEewK1AlQGLgQ3AJADMgBmAe0Cnv+kA+/94/5kAmH+Xv46/qT6lQB5/ZD68P4D+7P8uPva+ir8Dvbv9tr8LPhj9yD6OfZ79l33cPNK9C/1wfHO9ATyivBr9vzy1fcm+Zn2ofjC9x37pvzu/jEEwQXhAx4LEAx3C+oS6Q+cEiQXyBS2GPkbYxrPGjsbSBnkGaMVYBfUGIUSXxRAD2sLGg6SB0oERwZX/cn8ePtw9/n1nfAM9bXwienb66jnwOZq7DrmSeQI4VrfbuNb4CHdrNsf2EfW6OCE5t3rQPPW7YrtA+356sL1F/v5/3kM6w05FNUbVhd0HaIduRpvHKUgWSV0LRYyui4OLJEiXCPXH5AcOBuIGdEWBhbCFtcPRgpFBpb/QfhQ+GT1/Pb5+K32LvGJ7s/qf+l/63Lr5O2d7VDx/vK/8VXzx+3Q7DPtYexX85D0rvZL9efwUOz85ezeddz534jqkvM9+3/7ivJc7iTt/er77Wz2q/xaCYITbRt8GFwVrRWBEH0OghVUG64jPzIQMbArByZgHNEZsBjME9YTDhbnGkkb5BQaDhoFMfyy+dn4CPX89Az7Yvnu9ZryVOjz5aHlc+p57J7ux/US9mb4jPnr9JPuNPFE8tXytfry/GP+qf9D+7/z8u1T6ITnpuQo4CTovu5Y9iMDZfxg7UHnnuL+5ivvkPpFBlcMlBgUG0oSsxABDykNxhEbGK8emSlKNEMxbijuHmgTkhFQEzgWphdUGHgaPxfwC0sCDP0Y9fT0y/aH9Yv3vPh2+Ozxqugr4yziKund78Pzq/Zc+nX6fvhH90P2l/To9/77Pv2r/5MDdARy/lb8VPNH7Rnus+uN5FTjvOU47dj5BP2+9dznT+BH3nnlPvAs+XQDdg0GFK4VOhC2DHEOBQ4SEwwcdCFYLVY2PjKjJjUb2RM8E4EXhxoeHEkZ5hkyFdEJGABq+Sr1D/YY+Ef2yPbB9mvy5+215DDgk+Kn57HytvUv90v5lvbP9+f4nfaV+nD+dwGVA6wGTwXwAa4BCPxR94b0gvDk7q/oA+LO4fjnXvVW+SX18+e72kbbBOSi7Qf4GQAnBeoObBalEDANNxFyEs8URx1NJp8qwjTXONQo0xrgFwwWqBlzHYoZ6xKBFxgWCAoHAO30AvL+9Pf3U/Ye8P3xaPKe6+zkRd+m4k7rRvTu9032mPZ1+vz7d/sZ/XD9tQN/DLkIhghJCLACWwJbAe36OfcN+HbzAu5r40jYV9p+5ertcPZf7x7g5dkQ2hziwO1T9en8SQZWDiYWrxSME+wUCBUsFzoegic/Moc58TZaK4McvRa0GwEbbBpTGWMUTRUCE5IIOf0e9UfxV/Ja9D3y6+4R8a3tb+iL4i3gyObT7nfzS/Um9zT5JPoN/l8BSf4pBIoKSgtvCxcJvQUNBIMAc/4v+zP5BviL8OPpN9zp0KXUruCr6SnzBu0o3XDW8dbg4Cvqk/Cc/YUGvA9wHFAXpROpF0QZ7xqDI2MsGjYAQCE+aS7LHzsb2B2gH9IdAhqKErcW0BdICCT9w/MS7BLyyvL978Dv3O1N7W/pMeGo31nlI+1H8QnzDfaG9jX8vACH/7H+LAMBBVIKOg3QB1kEpwAY/Yf7cPtx+DL07u585urZKM+TzEvXTuSO8lPwQuA11JnTqN0K6kfyUfncBfsSHiIQIVEbcBr3HHsjTCqSMPs8ikWzRcY7qSg7HiAgNiN8Iu0b/RUcF50V6gwA/PPtn+eG6mTuEe/A6l3mZuXu4s/bjNqr3VziuOoY7yjx3fR7+Y36dvvJ/Ir+jgM5CQIJmAj7BEYA6vwh/O36Z/gH9eztFeSD1ybTqNrU5BDxtvao6e3cL9fH3LDpJvTh/EkHqxDVHbAiqBr+GvocXiA/KTAyxzfvQFVFPTvEKWAedBwWIqYiphtLEjMNHxDxCpb9WvCm50vqgPDc6wzpJOY64uPjI+BH2uLe/ucq74/yBPEK8Jf0Hvvl/oT/cQDvBUoLuw3/CkAETv8b/eL7nf1W/Qv5QfQk7E/d/dAF0Gbad+jk9sf1Bef+2c/XLOCJ6qP2c/2LB1AYqiV5I48fexu1HJ0joSysNeg810WuRfY4mSYqHRMcgiDBH9QWPxCFDrELhwWq9dPnQeQn6FrsU+pP5Srhdt813evawdnZ3qXozO9o8f3wPfI793z7t/5DAcIEHgoiDuAM/Qg0BsECEf+S/yz+4PrE+b/yKOVH1iDSVNuJ6Uj0K/VJ51/aVdoE4IfpY/I1+kMGoxXSH94fUBosGmseMSRAKZ8vwTolQzFFiThFJIYbYB4KI5YgbhXWDuoPeg9hBVv1Nejc5W7tRe8B6ejhnOGM46XfVdre12bcqup/837x8u6l7031UPyH/vf/igWbC5kQTA0eCLYFsQLqAAEBLf+b/Z38FPRT5//VTs+L2nfrwfXH+Pfphtmw1SzbEOl48uH5PwTeEvkcvx/OGWQWHxgwHysnWC8WOt5D/UTMOfUlgxgwG7UiZSVmHa4TBxC3D9gHPvhi6U7lhezF8vnv/edo4sDgHd3W2E/WJNsS6lP2dvd78fbtg/C/93f9XgCTAy4LkBD2DicJ5AKB/YX8fP6f/Bf7lPcm83DkD9Un0hTfiu4R+Q/03uCj1IvXs+Xm7+D2KPuXBokUDh0kGZAVqxYYHNoktCutMRo8jEQbQTEwfB8yHDsjICupJlsaYBIZE8cQgwb79HPq+Ov985P1Ce5Z5NfhD+Ap3VLY6tbA4OHs8/T98lzrruqL8Nv1FvvI/c8AVQbLC1oIEANa/TH4OPjb+r34Wfa989PoMtp51pPfN+7d+en3q+iS143WWeNr8L34of5iB04U9RvhGdQUIRWtGa0hTClNMS06jkTfQy4x6x49GpQhUyoFKjwfUhd2F2sVowlr9/3qKuzu8ob3//Eq6oHn/uJp24jUKtFN2n3qh/Ob88jtO+t77B3w7vT59y/7fQPHB2IItAU1/dT27PWf9oP3CfXF8LHort2133Hr2PRS+Gv1NuXF2SraludH9wb+xgOyDCYSaxXiFcESsxSVGQQikSlWMl06wkEEOxwpGRslGt8k/izVKa8h2BqZFwsUgQfH+EnwgvNi+dH2jfHN7P7o0OO02uDSr9N13jnrZvHt7gbrqOrc7ETukfBI9OD64P55A9oBff9P+572fPR39W/1QfPr7friO+Bg6kf5JvwK+cPp0OB131XprfKx+GT/oAhyEjgTPA+oDCcSdxcjH9khkif2L3I6ujhELP8eOBtIIyoqoihuIV8eYx6KGpkQvwIJ+Wr7Vf9V/P/1UvCc7XvrAOVP27TWt9sV5UXsu+wi6mboEurJ62fuYPCi9JH3rPsy/gr+i/lh94z3lfb+9QH1yvAu6RHoZO2l91r8qP179DvqjONZ6GnwhviA/ioDqglZDYsMigkSCvkKZBL4F9UfEibeLakvuyi0HSIYAB1eI0kluCEGHuQeqCBnGbUN1wI8/8UApQEv/YT2P/R183Dt3+Lz2+7cruQa7PXsUeyS7IvsTesw7ALuyvJZ+Pr7af3z/MP9J/z5+gD4svme/Xj9a/k098706fZ0+5v+5v6E+Bvza+7G7sHyy/l1/Kr+ZgDjAcsBAgGaAWQELwiVCu8NXhGTFxobehpAFskRvxEhFeoWeBbnE5gT4hR1E2APQQibAb3/M/1S+q/4F/cP9xz2efFA7bjr2ers7jD1AvaU9Mn13vgP+8f5pfsb/t7+EAX1ChIJBQVfBPwFEAWCBYEKLQzACb4HlgND/6z+1wC1AnkAdv7x+4L5TPmM+Ab3uPQj853zffUq+Gz57vms+W33SvZx92D6Ov78AA4CbAKmA9gD0gM5BPwC+QLUBAIHXAexBu4ETAIoAE3/Lf/E/lP9AftN+nv6ovu9/Wf/TP/c/sH/hACIAVID+QM9BXIHuAloDH0NqAwoC1UKfwnjCAgLTQ2UDVcM6gg/BukEcQQPBGoCAgCH/hH/lP/w/t/9L/s8+H/27PRP9S74YvlP9xD1hfKz8b3ze/bT9+33E/g1+LL4jvm8+Zn6Afzs+7788P7M/z//W/56/PT6Pvtl/Pb8VPzy+tv5g/k8+rr7lv1c/qX+Sv/y/hL/QwAhAmcFEQjdCbsK7wqiCggKUAowCjkK6wu5DeoN2A2bDNIKTwnDCPYHLAdvB+oGcQcVCAoH2QUZBCcCNgGhAVwCbgLwASAAA/4e/AD7OvwV/rL9r/wc+zn5KPn3+av5IPnV+DD4TPhL+fH43vfS9gX1ifNF84/zUPO381jzifIn8y7zjfJe9Nv1Kva195n31PZC+Vj89P64AGcAMQAEAXcCewNGBCUELAVWBuAGwAfWCAkLvQtXC6IKegmRCmoN/w19Dg4PCA41DtoOPg12DCUNeQxpC0UKrwjrB1gIAwiTBygHRwZyBYsEpQMnA80CswJVAaD/ev+O/rj9Bv1d+lr3p/Xw82TykfHR8HDwu+/87ibuU+y06xTsCe0J78zvPO8e8MzxOfPY9Cb1BvWW9un4p/qa+xT8jfxY/Q7+gP7j/4ECUgWdBl4GowVwBc4GeAmmCoEKDgv4CzsNsw4mD44OTQ6MDSENuw0QDgEP6g9pD4gOSA3ADFUNnA1IDQUMoQpCCbwI+Qj3BzsGmwTxAhEBfP9H/TL7YPp9+eX4FvgV9qP0VfNy8W/wc+/b74XwU/Ae8Fbvn+6l7j7vn++878vw+PLV9A72IPY79Tb1aPYc+Lj69fwU/6cA0wBUAC0AGgGpAm4EFwXdBNUFFAh5CWoJSgg8BxEHcQimCecJjgrLCqwKSwqcCWIJdwqiC2oLVAo6CecIjwkPCi4JVQiqB3IGdAWKBO0CowFeASUB/QAdAOb+Zf3P+8f6EPqq+ff5efpt+sz55viS+Ez4mPge+d34H/ms+sf7W/wj/Oz6Ivpx+rX7a/yo/Jb9Bv5e/bn8S/x1/B396v2e/Sz9Nf2//d3+6P7v/ir/gP8IAOP/dP+7/wAAPwDeAFkBugFSAssCYgI1AvQBxQEAApgCDwMaAx8D8gFRAWEBQwGMAfQB+wENAocCAAIuASoBUgGxAdgBsAGNAd4BbAI8ArQCSgN8AyME+AOKAwAEBgXEBRIGtQU9BQEFygTfBFEEAQRxA4ACjgL5AVcBhAF5APL+af0F/Lr7m/ve+w38Wfs/+iL5+fcp9/f2Y/ev98f3G/go+Nj33Pc2+BH4NfjP+GD5Rfrw+l/7G/zz+wv8v/wH/eT9nP4Q/5T/sv+3/xQAFgFwAXcBEgLWAfkBCwMNBCkFDgZiBicHgAc6B/cHnwjfCJYJVwq1CrMKSwrDCaQIpAf+BlEGnAY9Bw0HdQZmBbUDXgJZAX4ALQBHAAoBKAFnADT/ev2W/L77CvsB+936mvrN+vb6jfl2+Eb4vffe96z4tPhL+FL4JvgA+C34YPiS+A/5xPiE+Mv4Pvny+cT6Q/s/+4T7NPxI/bn9Rv55/8UBfgOPA8kDxgRLBdoF7AbJBvYGQAgWC0MKTghmCOwHiQbOBfQGkgdOCKIGrAWgBDQEyQM5AxQC4f/IAEEDTwPPAL0AxP/U/gH/Zf8r/r78qv2u/s39r/3M/VX8lvy4/Rf9Pv2I/eH85vzN/D7+w/wY/A39kfzp+3X7gPpS/N394v0H/Vz78fvd/cL8M/1J//n9qgGpA4gA9/69AiQB4AAsAQkCOQO3AgwFFwSXAXkACgFLAaoBUf9SA5EDf//7AMoDQgD5/UYBywEF/0n/7wJqADX/MQCaAeX+MP7nAVr/ZP3q/ywAfv2//SYAsv0F/OAB+gAh/fD94QAiA0kAjvsA/0b/Wfu0/8T/NP8Y/kX+pP00/mj8mf3d/w4A1ACiAfIFagegAt0CTApJBLsCnQU0BpwFlgvaB8r/YwTGBaMA7gWqBcX7/wGoBQ8CBv9XARr/Gfxg+0v+Cfx6+sP+j/xu+bf6GfsT+cz5oPlc+gz7+vyg/C368PjY+d36V/qq+g39Rv8A/j/9Y/ww+3T7CP2H/kD9yPwk/6gAxf5P/TX/fv9o+7j//wPq/0cClAWBAYX/FAgVBg8FSgukCHAKqwz2CTQMQg8UDMoLSwsPC38KbAuTC+ICbAAdCtoHywGrBYgCg/xDBEACHfd4AEEDtv1u/eP6H/bP9dX1nPbU88v12vlX9lvwke7C7nroW+e47Qz0G/EY9fv07uzN6V/utvLG9KH7wP5j/MX7ev/B/kUAKgReB18KGQ2aDeQMtwx2DUAN2wx4D3IR3BKyEWIQHg/1Dq0MngtvDu4OUw4nDpQLVgTcBqcIPwZ/B58IdAdpAXj/4wFeASH+qwILAZf6kgIUBWj55ffo/c727fcrAf75qfCk9Mz4SfAn6/zqjOS450P0qfNT7F3sL+Zf37XgbOcG6zHw2/Um8bPv3PCI8fPxzfo+ABUD+gUpCa8J8QmGDqMPChE6FNEbpxwEHDMawRflFucaCR1VHjYheR47GXgV4BI0D0MQgBMqE1EPCgxDBxkBD/+Z/lb+Qf/U/RP8iPhe+BT30PWl9KjyVPVI+E32OfbZ9aLwn/Cb8+H0YPJ68dDvberN47nlyuA/3wDpePHx78LqpOHW1CfVp97m7tz0w/c99C3x2++X8S/0+vwwCa0Q5xRsEvUONg8mGWEb6Rv4H4Erky/eLLkmrx7BHNIkNS3iKm0nXCPfHUAXpxSaEEwR9xSwE1wIpv4m+qL4qvkW+6b5+vTF8wnxm+0z6MjoU+wY7XrvIPPG8CTrbOlQ6JPmjepd8lXxPuo15w3l4NpP1JTcD+qZ9R/5TO5/1UzI5NZK66z3pvk9+gX2gfXJ+P73nvr/BCgXmh3uGocZFxvtGmcdoiDbJbcwQzzkOGIoBhy5Gpgmji/vMMso4SHYGkUV1RAVDk4OQg6RDBEFUP/m+YH2vPEH793vPvT39QbxUeh84p/kSOmv7K7tQe+i7iXqyOX240/l0+zS86rvjeWN4IHaytbY3NDrA/m7+EHvnNjSx5fVlvLS/+z6ifjz9hP6TQEgAZr7NgETGwwoMyPFHBEalBvXICAnrilLMlk8zzaCIrQUgBgQKtQ18zCmHfUSvBRdFooQowdlByYKngqkAYH2l+6W70TyH/Hv7Knsfe5h7Czkpd1g4JroVvEr8Ovpr+SO5obo3+bs6pLvR/BQ64LkUthm0Dnkivu5BL32/eZj0h7LqORT/v0E0fu7+074Q/mN/y0EJgRSEW4kxydPHI0Z6xzIH2sn7yxmM4s0mTlULYkbfhN3IZk19Dc5KNoSsQxLEX0VTQ+SByMEOgUDAMf18elv6TbwdvO/7Vzj2OB+4zXmtuCe3FbfiugO7SToEeAV3T/jaun/7G/v+u755xzk9t1j047c6vmgDeYC/e3y1S/IHNwfBMIV4QSU/ZP8zvlW/CoHoQyZFLYpkzE4IfgOxRgbJ7IuMTJENxw4Xzg1MSYecxBPGlo4aUPSL14PHwMgCWwSMhGsCZAEkgMjADLwrd5f3Y3sOfhG83ji0dey18bdQd/02x/dOuY77RHnWtuq1THdjeq07/Tv3Ox46OfiI99Z1inXZ/GtDcwQLfYN3LfJldJi9gQabxUbAtb9LvxJ+zcBkxC9Fg4nojMALqgUBxOBI5YuizZRPM49gTX7MBQjSxfTGegy3UJFNw4XYQFYA7wPchWkDqMH9P4j+lXwMOW43SXnsPNo8/rmBdj30gvWsN1533vgY+Nv6ODkCdyS1t7bdufG8cPz7+4m6THjZOAP3qHd1eAR+IwPWgwq7wHYNcnF1uQF6yguG9f4j/Au84H8tQkiHBQcCiOVM9spZQzGC8MmqzVePVg7UzWXLdwtKyeZGsccmDUARgk0kxBR9oz9mBUjIaUTdP9582Lxne5Z58Hk/ez+94z0xOFp0C7QfNwB6Wfo+eG047/qa+mS4NrbKeEw7834MvTH6IbkVOih69bqg+kw46Pgw+2X///7GOzr4EDVfdzA+4wYJxDs9Yzrevd5CPYWAB0DEnESCyUqLCMcYRmFJkszOjV3Mr0tUiqnLhgvEyT2GgYo/zQrLkAUBQCnArYWvx9tD2D3R+xA8Qn1MvM37Hjp7uxp7XzjL9nd2v3mbO/86YDgJ+CK5uzqNOvw6K7sVvYq+1Lyv+aq5dTvdPdh+SPxVOZB3gfa+OTF+JwBdfQQ5R3Pss9E7oQPeBEK9q/s4/ZQB/ILNBGMDk4Svih2MX0fRxCVIJA09jm2NVgy/ixPL0cvrCPqGvokTDeANGccDALCAccPChp2DsD57u838h743/Sg6vTiMunP6ybm+N7t317lruqR6SPkluIz6sLy4vDo7CTto/La9v702+6P7yn2R/jU9HDuleKr35LdPeR59JH/T/R83+/MFMmp6ncJzxND/D7kROolABUMSRHYEuAUsSXZK4QdHhCBHDQ0tj/GNZ8r6SSHJukwXi0ZIHUggTFOMeQaCgIAADgP6xtLGNv/EuxN7Wn54/lr72zmHerD79vrceI33c7iy+yu8qPsuOVW6PLyDvY374/tnvSh/KH+M/gB8P7vTvef+2z22ewQ5oLiO90j6Hr4Jfk27a3df8040mHzNAzrCYvxUubH70gCCw4zEZAMOhKWI2Qk8hl7FIwghC4RMzUqniJTI2oqmS00I6cYIxsgJ8YnqBeABEACew1bFZ4LLfkk8Gr1Qv0N+CHuD+hF7GPxc+9f59riuenm8lf2qfCt65HuePjr+zb6WPhx+kr+xP+Z/fn5Qvsk++v5UvSw7oPt4Orr4YvqUfnO9JToTt7N0Y7YFPZTCRMDoeqE5Lzu2v2CCMsO+gpRDg8bJRn1DuwOTB7xKXkp/R/MGV0Y3CCpJsIf9xXbGHoeixsnESoGDQSgCqgRXArh+j/y0/Yb+d71qPIw8U3xYfLv8KLshuqv71r3OPsb+Sn2+fas+iQB/QJyAxsElQU3BbYF/AFf/8D+iAC0/2r8pPR/677ggOGw+D//EPW14SHUy8wU5Bb/1gR69l/imuZK8M78KQQMB+UFmQ+UFT8O0wV6C/YaHyMPHm8XxBXVFEIaixkGFMUQIhpRH7IUMgOq/JUEww6wErwGS/YP8Ab30Ps5+r/2zPZG+If2MvHx7oHzhvy/A5MBtfsv+FH+zQboDMUKPAguCEQKIQsMCU4GSwajB3QF2QAF/LH2au036UTkI/D/+dr46OQW1e/K1NQA9ZQB6P0W5Gjd7eEh8GX6qQGpA+IGoAwEBUD+EP+EEIcefh9SEvMM3Qs3FMcZkhSnEboUtxpkF6cMfvzs/+8P6BcKDr37t/KS+L8CnQW9//32Q/fh+z/+b/rE+AL+NQU9BvgBRwCAAnwKJg9QDSQJBArQDpUQOwyQB2wIRwq6C5MG4/4k9qH2nfPG7ljjMuSv8HDz9+ij1YTQNc985CvyPPRa5RPbMt+G56jw1fKY+w7+tANXAFn9lf1dCSEWOhgkDyoJOxBNF98cDhj9EmYR3Rd4GRcVfA4wCmkO6hEuEKYGlgMZBZcGIgSC/Qn8gQH+ByYFrP0K+gT+DwVuCpgJuQTkAz0Ibwu+CwwNVw66DhkOqwzRCbcIBAtyC70F/v9G/c/6Mviy8X/pNeIE35fm2+426fHYt9CzymbQMeL37ajs+96B2JbY+OCz7GX3D/zt/AD9f/vJ+5ICbg5QGI8X9RBKEcsU/Ri1GpAaVRn1G7AfEh1eFPQOnA+dE+MWChYKDI8EtgVCCB4IsgORA08GogepAtb+LP6sAUYHFgulCMkECAQtBxgL8gvwDAMM2gvNCmkK1gimCaYJCQkUBOT9qvi0+IH32/M36z3iFNqI2u3lnehG4NHPxMmax7PWu+MG61Hh8tbB16rdYOdc7Lj2DPzrAuYApf/Z/ecF/RSTHigbdhRbFkQZCR2IHhQgOB+8IFog4hoiFMwQExT9GSYbmBFABkEDdgdQCqYJvQYjA/UB9gAdAdMBWgPLBCsGLAZkA68CkgVVCVQLlgvJCcoHUgmNC0cN/gtKCXEGDgTzARz/ZPxr+jj3cfCZ6fzjvdso2PXgTOf34HrTxcpBxgfNIdzc5mbnfd2f167XWN4q6Ijze/9DBvcF2v/6+6H/Cg5OHw4kKh2eF5gV+Bf1HBshbCMhJGMiYhuEFXAQrRB4Fckb2hgeDJEDtQHyBewJeQsICQAGDQJE/3D+PgDmA/YHOwrFCMYD5/6XAXIHvw3aD8QMKwhPBnsHZAoiDHwKMggVBfD/Gvul+PP48/fM9LPsZ+Pv2b7WVN4G48jjnNeazvLH08sG1z/hUelE5FvgJNmQ3RzmVPLN/YMG+wgvA2P/rf68CIAWUCLiIBUa/xLPEjEXEx78IkIhKh5BGJsU9hCeEG0SMhh1GjYTwwdDAc8ElgqYDpwM0AhEBdkC2wD+/2oCjQc8DTgNiAdw/2D+fAQMDhQTrhCUCrYGsQgPCkgL4wpdCysKZQZv/5j6cPg5+ab4OfSM61Ph0No21jnbPuCh4lzZXtFuyrHJd9O+38/plOXb4P/Y2trT46nvUvkLAOkDUQEF/4T9jwObDRAXshciFjEVNhYWGbYZYRkmGEUbOx22Ho8caRVEDlkPxRaKGAwVvw82DtYLEAo7CSYKPgsFC3UJlwYWBsMF1QezCvALYAokCugKWwyODSAN2gyuDfMPOw8wDG8IcQYzBpkFPgPs/aD5EvZo8lPva+zE5tbeWdef1HHY0d363AbVv80JyJHKlNIp3eLhQ9+82vPWINqu4KTpP/L4+/QBwQE1/pD8CgDLCf8TMRqPHfkcbhr+FpYXpxoMH70j0CU0JBAe4Be4FOoXrRz1G5AYChYIFK0RIhDjDBMMGg4nEO8PsA5TDcgLtwocC2MNsQ1ZDlQP4Q40DLYJ/AiZCj4MgAvgCKIF7QEY/3L8e/qD+Pr2I/R07k3pheSO4E7bFtb00LXPEtOQ1TXTW842yNvFnchkz7jWktui35Le5dxd3DXgGekN910EewleB8ICOAIVCQcTWxpeHikg+SDGIOIh7iIfIywjNiRnJIAk7ySnJDkksSFFHAkXfhdyGgcdZx3RGdkTPw86DkcOHQ9rECgRLg89DTwLIgjtBcAFawdbCC8I7QZYBrMEgQFz/mL8+Psj/Pr6BveA8WPtDOxv6xTpxuTk3uPYKtSb0FLO/84R00rUrNJCzunJtMn+zRzVMdly3ILf0eLw5bbo0+tU8Xf4uP+yBegJPAzHDmwTaBYMGY4bxx+iI5ImjiguKCsm4iUOJ+MnWChqJwMmFSOxIBEfTB44HdYb2xpSGOgU7BE6EKYP/A6jDjIOcgw7CrkIEwhlB5oGOwZrBdcDsgJ+Af3/6/5L/hf91/ow+Hr1T/Mv8m7xvu+67GvqyujT5mjkvuGL3r/Z5NW31LvUtdS/1pvYS9i/1krVvtTn097Va9nz3YTjCegv6uvqk+3K8qn57/92BLsG2QjvC2AQgRX3GowfOSJ5JNokEiQDJVAoGiwvLlMt0So/KNkniyjsKIEoWicoJSghmx0rG4sa1xpOGvMX6xO7DscK8wn6CXEJGgfeAgj+Q/oH+X356vnH+K32nvME8FTtROy/7B3uue7B7bvqTeeZ5RXlRuUf5M/hct5J2ujUN9Kf0zzV1dej2XHZhdeq1rHXUNjO2UjcT+B45Xzqw+7W8gP3xPszASMGWQqYDb8RRxQ1F7AbkyDiJOInvym4KE8ohikZLNgtmS5aLVgrsymjJ+UltyTEI5Yhdh8IHI8YxRW2Ey4SORBgDaMJWAZTA28BQADI/1L+dfuU+On2w/bf9hz3mfY09uf0C/NC8UjwTfHt8inzufFg7/zsiuxK7F3rL+nH5j/kMuFy3FrXldYt2FXb290S3YTayNid2bDa89tu3i/iKubx6ebtsvEk9/z8kwHvA74GjwmxDWcSVBalGS0c7R8fIu0j+iRjJnQmSyeWJ+cmyiY9JiElmCKYIQcgwx7PHBsbmhimFhAW9RS8EkAPMAyNCfEIWQgxCGwHXwXRAen+wP2l/WL/oP8q/X/5YPc/9s/2Cvhr93/1wfOT8kjw2e7w7vDuue6u7YPqIuYk47LgxN0f20PZLNkN2bvYV9kr2VXZctp426zbj9pk2/3eWuSf6jzw9vTB91H67P2zAZUGPAv3DmQROxOaFtgaDB/RIkslUSXDIyUjfyQ/JoooOiljJ3UkUyJCIv4heSHkIG4gzR7ZG1IYyRX5FIIURRMvED0MZAkqCekIxwYcAx8ASv6L/Fb7+PmO+AD4nve79VvziPE98UXx8PCx7+/tWe3/7Evs3Oqb6WDomuY/5HvgFNzH2BrX+Nfe2PfZD9zl23zapdiF2bjbC95M4W3js+X+6I7ucPRw+Tb+bQKRBJYGYAhBC+IPkRXrGzAfDCFUIeYijSREJqAoPipTKwQrjikFJ4El6CX4J38nZyQBITsf4h1/HDAb7BcjFPsQeQ41C4YIGwd+BncFiQKp/hX7g/nv+Dn4eveJ9i31MPR282Tx0e+v7zLwSfBt7+/t0ezI7Pzsj+wq68/oOubq453hH99K3Nfa29qC2pja99tl3Izc0txF3X3df90h35fhHuUw6dHtkvMl+Z790AB0AsMEJQgnDUwSFBYVGqsdMyEXI/okDydrKP4pmyqxKk4qCypUKaooXyhkJ20lRiMCIUEeeRyMG64aVhe3Eq0OOgz+CmkKcAm4Br8DVACO/Tn7W/rN+RP5gPf89BvzpPLY8070X/Oa8CPudu037izvt+9Y757toevL6XTomef35q7knOBT3BLZyNhk2h7ccdxp20Pbmtuw24fc5tzg3avgYuT55+zrEfFf9gH7jf89A9EFJgmlDNkQeRQBGTkdbCHlJIMmXyfOKCcrGSxTLCIs/SseK+sq4ildKJwmpCTaImghwx/lHB8aMxcJFOEQeA44DM8JAQj4BTcDswAX/jH77Pjj9/b2i/VP9JnzlvJ68T7xP/F78Nzuqe3a7IDs4+xO7TjtLOx+6qHoxeZA5b7jqeET38bcd9q72KrYN9lG237cYN0x3uHdMd653pbg9uLM5jHsN/IT97r7rP+8A+YHwAo3Dm4Q2hQIGSkdpiDbI0EnBykqK30rRSu7KpIruCv1KworpynPJxAlhCM/IXcgkh6MHCwZwxVgElMPeg1dC/UJxgeLBScCEADW/R38T/pj+I32jPQ49JnzU/M68tLxL/GX8BHv9OzK6/frk+1i7mLuA+3s6tjodecj5u7kzOOw4mzgOd1I2ufYONoJ3LLes+AC4b/g7d9G4BHhZuTS6LvtPvJR9hP6P/7vAukGPQrdCzUPBxFpFQ8ZRR2TIOwj6iYoJ4goWCg9KdsouSl2KBQoEictJpEkoSKQISIfyx0GG5QZaxZfFFgRlA5HDNUJmwj0BoMFQQJGAE39/foR+TT4P/cu9gT2LPSp8vzw9fCn8FXwJe/H7cLsDexs7M/sqe0Z7e7rk+kk5xnl1uOD48viZuEt3oTb3Nrl28fcSd8O4pzi0uLp4uniKOMU5nbqQe8u9Ab5d/xC/24CNgYHCjkNJhGiE+wVpBjJG+cfMiTbJrUnqCdvJqMlPybSJwoo0CdFJk4j1CBWHx8fIx4CHUcbSxiRFBISMBAGDnkMwgrNCHIGmgRiAv//IP3V+nT5TPg69//1KvWY8ynyEvHz8HLwp++h7o3ta+zv65HsEe3G7WvtMOyC6XTnTuU75ErkyOPo4hzgE95C3evdpd/S4tzkpeVq5qnlEeVY5Zvp6+xV8rv3Sfs9/tn/MQTJBtkKXA2dEAQSfxRDFwcaex3FH5AityJCJX8j1iPdIj4jLiOoI04kmiFGIU4eCR6OHCgdDRvSGJIW6xPpENwNKg4nDPQKyQe7BcIBnP8i/kb8Ivu1+LP3t/UL9ZLzGvM08h7x1u/k7nnu1+ye7DvtP+607WjtvOwR62Pp+eeq57jmweU25V/kTOLI33ffHeCi4XfkbeaN5lrm3ObY5kznnukY7XTwJ/Vs+aD7Pf61AasFUgi4CsAMGg7iECwUHxgKG6IewSC5IbcieCKNInQiLySPJE0lyiRKI6kh8iC6IDwf3R1IG0YZoRbdFGMSFRCVDVoLWwngBtcEzwGh/878ZPpk+BT3d/aV9UP0mPJP8XPwSvB478Pu7u3W7Kfsfe067hruE+5c7efr8+ov6t3pVena6KjnxuUL5APiC+LE4v3j4OUJ5/Tn6+cY6KLnu+ig6rHsRPB89C75kfsO/9MAFgSgBhAJCgwjDaIQ2hKgFqMYYRzwHmwgDSIfIigiICL+I3EjdiRQJCQj2iHjIDogLh6BHRYbbhhhFTcTDBGODvwMTwraB0oFfgPHAKH+Wfwx+jD4X/Zp9W30RvRW8zHyyfAm8Inv++5T7yzvOu/w7sDuKu8r73Dv9e4r7iztIuz06mnqVumh6DnnReWx5K7j2OTP5nfo6OnX6b7pOOiA6M/pnOyQ8HP0jfgv+if9L/4GAswDyAfvCeYLcw4uEKIU3hb1G+0c/x/fIN4haCFPITgifCLlIyIjjiJhIBcfEh0BHN4aMhmwFhIUnhFxDuwL/AmNCJkHpAXnAh0ASv6K/ML61fla+Pz2U/a29Sz0UfN58wHzvfKs8v7xPPFw8frxovGG8V3xqfCG8Ifw4+887obtOuzN6s/ppujq5n3lUeW25NrmAOjh6XXpwens6EPp6epb6yDvXfFZ9fr2/Poh/fIAWgMXBVEHoAj+C2ENwRF4FIYYxxqoHJUe7R5kH+MfZiABIY0hFyG5H1QekR37GyQbyBk/GJwWaxQGEscPxA1kDAALKAmAB3AFsAN0Ad3/bv7S/Or7TPoV+cf3SffV9hz2afUG9dL0HfSz87zzw/M981nzwvL08aHxBvH476fu5+0d7MTpY+hj5l7kw+MR5BfkRuVg5hvnLOee5z7oWujK6Dzps+vW7lLztPbC+s38k/6m/1ABuQQNB44L5g2WEcAT9hauGA8b3x24HqIfhR9sIGAftCAqIGofEh7IHeIcIBvPGjoZ8xfUFbUUdRJEEb4PzQ0IDDQKQQh0BbkDCQKAAJ/+AP0k+6n5mfgO+Mr3kvf49rT1tfSi83/zVvNt873yd/Lv8Y7w1u8w71buCu1M7F7q2udj5grl3+Ni47fjeONP5LjlfOZ756Xna+gz57fn6+j76s3uYfLX9QT4f/qk+8X9gADtA/YGpgoXDh4QNBJgFLcW8xj/GwcetR6eH7UflB/PH+sfkR/6Hl4fkx6ZHdgcKByYGjAZARijFVgTyRFREDcObwwhCkIH/ARBA+oAEv+L/Qz8XPob+Qf4cvcm9wz26fSk80vzJPL68WvxKfEK8T/wie9W7iDul+xh7LbrDeuZ6dfnPecA5RnlZ+Uz5b/le+bj51roFum/6cDoHemP6cPq0+3m8En0aPYt+Sf7ef1l/7kBpwSJB/QK8QxvEJkRMBQaFkoYchprG9IdKB1GHnsexR7DHpgeEB8HHsgdDx1MHGYbnBoEGcwWuBR+EpkQ6g6hDW4Lzwh7BvIDEQI7ANT+HP3H+/v6RfkD+Ej3zvZY9qj1OPVo9HXzo/IR8pTyQvKv8VjxwfBc767u8+667iHuRezy6l3pJull6EPoYeg+6MPoJ+lz6nPqpurF6WTqOuoH64vsye+O8m30Svch+DD69vv+/gMB9QP0BrcJ/gsIDgcQCRIuFEAV1BYrGBcZ9hlkG1YckxzoHEodTxyrHC4cbBsFG1Aa5hjcFqUVvRMgEmgQeA5KDFQK/wfsBYYESQPoAe8AUwAB/1b9KfxN+9n6qPru+YL5UPj49qv1kfUR9lX1IPU79Bj0rvNN8+7yCvPQ8vbxtfAh7+7uF+1U7H3q/upf6rvpfur56VLqK+nq6cvo7OmR6t3qhuxh7iXxbPKM9X72fveT+aD7xv24/1EDNgXjBisJwAqdDKkNWg97EIsSpxS+FVAX5hfEGNMYPhkBGfQY3BgGGOsXiBfKFrcVjBQNE0oRlg9QDi0NKAziCrsJVQhjB2sGxQXIBIgDXgKbAb4AWv+n/oH9Jf0o/Kf7LPsl+xf78fn7+WL5GPjx9Yb1x/WG9bv1F/Xw9JjzuvI18frvSu/t7WjtSewl7DHsUuy77AHtPe0f7QDuIO7e7d3ude+g8FzxLfOq9Gz2mPcV+Of5Avzq/aL+jgD4AQ8DZgQcBuIHXQmWCqALBgz6DF4Nyw1oDgwPpw+bDxoQ0A80EPAPRxD4D38PTQ8oDygP/A5qD2APzg6xDTkNbQy5CysL4wpbCrIJzQjzB3oHDgdEBkEFoQSzA8UCxgE8AewAQgF9ARwBzQBeAIj/Hv64/Kj7P/rS+Mn4hPjn93T3ufaG9bz0mfTZ86TzlfPG8u/x//G88eHw5fB48V7xWPGf8bTxevGF8aHx9fGf8rfyZvNE9I311vYf+AT52PnI+tT7qvwR/cb9jf56/+7/PACSAPAADQE2AZQBMALDAoIDRAQpBVMGYwd4CDIJ/gmfCjULAwzBDHwNNQ4OD4gPlQ+iD7UP6g9DEKMQ1hDGEIEQCxCdD14PKA/pDnYOvw2FDDYLtgmcCK0HtQbBBZME0QOKAm0BdQCZ/4r+uP0R/RH8NvsB+u/46vdw9xT3pfaB9lf2QvYc9hz27fVa9df0OfRp87fyovKd8rLy6fK68lry9vHB8avxo/Hh8efxjvFG8Q3xOPGX8V7y6fI082fzzvN/9JT1Ivc9+FL5Hvr3+uH7Fv2P/sn/AQEtAlIDLgT6BAEGEQc6CIYJ1QrjC/oMJw4OD/kPwBBaEbkRSRK1EiUTchOXE38T/xK3EjwS1BFHEfQQahDED/sOIw5ADVEMcwtUCosJcAiMB38GbwVVBFsDqQLSAeQABwBC/yL+Gf0M/D77VPpq+ZT4zvfs9hP2X/XM9DP0iPMR83PyLfLi8XLx9vCK8FnwOfA78D/wDPDF79Dv6e8o8IvwFvGp8RLycfLD8jvz8PPD9Iv1ePYw9/T3nvhf+Yv64vs//YP+w/+3AK8BwwL7A0cFbQaXB6QIOwnSCXQK6QpAC64L5QstDJQM+AwyDW0N4Q3/DT4ORA5LDjAOKw4xDtsNlw0lDcsMcwzpC3ULFAvJCmIKxgkaCUcIjgf3BoMG+wVgBbUErgOMAl4BSgBx/63+3/2k/Cr75fni+A74YPfL9uz19fRK9LnzW/Mz8xbz3vK58tbyz/L88izzYfOQ86/zFvQ/9Kz0VfUV9r72nPfQ+Lb5kvpV+wz8pvxe/Qv+kf5G/wIAvwBXAccBEQIgAkQCggKzAucCCANWA6gDAgRWBMcENwWLBc8F0QXQBdQF7AXuBQwGSgZRBlgGbwZlBmIGfwaQBlcGJAbUBZsFmgXJBQcG5wXLBX0FEAWOBBEEnAMUA5cC9AEqAXsADQCt/yD/ev7e/VX90fxn/BP8yPt5+3j7gPtH+/76u/pW+gD69fn/+S/6Ofov+h36B/ot+qv6Vvv7+5H8+/w+/Yr94P1s/gv/ov8CABYANwBlAJAAtADaAOwA3QDZAN0AFgGYAQMCfQLLAgADKgNhA58D9AMSBA0EQgRZBG0EkQS5BMIE+AT0BOUEyQSsBKgEqwSsBJUEggR2BHQEHwTjA1kD2gJjAuEBMAFUANz/+/4u/of92vwJ/G777Po2+sP5bPks+cr4pvh1+Cj4J/gh+Cn4Evga+C34Svh/+Nr4O/mJ+Rn6ifoO+5P7Vvz//Kj9af4V/7r/JgDJAB0BbgHPAUQCjQLGAvQC7QL7AvMC9wL1AiUDcwPLA88D5wMbBCUEWgSVBMIE1gQDBREF/ATfBPUEDQUPBTQFRQUvBSAFKQUYBS0FLgU8BWsFdwVwBToF+QS4BKoEfgQsBK8DCwNiArwBSwGxADIAvP8//3v+4P1h/dr8a/wf/MP7WPv/+sT6Zvo1+hb6+vnf+ZP5kfmK+bH5zfkF+ur5HPoh+nL6fPrm+hX7ZftR+8b7rPvY+wb8PvxA/D38ePz3+zj8vvuZ/Lv7jv24/HAJDQ/fA20CkwMRBD4DsAUCBKMECASUBO0JwgdtBLcEugRUA2cENwQsBb4LuQ2zCrUFaQHqASIDMQTyBAwGEQjTCokLdgn5BvECjQFaAXUBhwIKBR4GfQY/BdYC9QHkAQcI+AtIDfsMPgu3B6kDIwEz/uT7UPs6/LT/KgIwAkcBbf7B/Nv6j/hA9hj1vvXU9/v55/pb+iP5+Piz+Uj5BPmX+Kb5/vpt+1z7Bvrn+AH5u/nn+bP5j/h2+NL4U/lt+cX4T/jb+Ej5GPlX+E/3APdm9+b3+Pfm9x34xvg5+ZX5YvnO+C74TvgT+U/6Ovty/dD/UgD3AZcDSgV5BtoHkwltCkEL1wtUDQIOQQ73DroPfhDPENIQRhC9D10PjA5hDa8MsAvLCg4KNAmMCPEH9QZ8BhcGRgR8Ay4DtAL8AVYBEwF0ABsAzP4u/T/8vPvw+1T8JPwr/Nr7TPtl+tb4lvfP9sL2t/bU9jj20/Wv9ZL1D/XZ8xTzjfIj8rTxL/F88FzwDPCC76bu0+0m7UfsveuX6/7qtulD6e3pHuzU7kPyL/YF+m7+OgJ4BW8IOQtLDR4PuRCAEbYR2hHjES8S3xIIE2YTzBP5E+ATzRNUE9QS5BJ9EskRIRA0Dj8MtgqnCeEICAl7CEoIJAhjB/YGCgZABX8E8gOAA9IC7AFtAZ4BvAFUAsYCBwPYAukCfgKIAagAJgA6ADv/T/6s/HH6svhH95z2qPWD9BnzCvH37j3uMu6G7TrtcOz66l/pHOjU5tzlReUl5G3idOCf3ljdCdzb2ZbYoNdV1zPZet415mXv1/msAo8LkxTVGyEityaRKUUqmCq7KX8mOiO9H0sd3Bv6GlMZLhYfEzYRrQ+SDRsL+Qf9BL8CJQF7/9n9zP12/6gBnQQNB9QIQAuRDVgPLRBDEFEPfQ4VDiMNswtjCjcK6gq3C/wL2gsQC+gJegjBBiUElgDk/HL5h/aN82TwEe6p7LTrPOvX6ZXo6Oco56LmpOaR5jrlJOQk497hieCM3gjdMN2Q3Q7d8dtT2qjZ/NlQ2bHXNtdP2cTeReee8Zv8agc+EqUdPic2LqwzpjbtN1Q4oDY0MRUqnyNDHhIa2xVyEfMMKwmrBlsE9AGH/4T9Gfw7+2D6Bvmq+Cr6Nv2mAREH+AvuD0YUhRi6G4QexB+NH8QesRy1GIMUDRE0DgANDgx2CmgIbgagBAwDlwGx//b8yfmT9m7zbfDB7XzsQeyY7KvsaOzE65frs+tu64nrPeuH6rrpGOjt5fPjQOJR4HLexdyE25HaUNjj1ubVAdVs1IDTvNIW16LfOemB9+EHyxT+HywsnzSiOfs8fTyzOXE3XDItKzYjohqWE3MP6gr2BQoDBv9H+zj5Rfi79sP14/RD9L3zz/Ob9uv7hwLWCn0TQBkxHjMjcia5J0AoTyZlIhsepxmnFMUPnAvTCB4IcgdUBs0EsgJPABv+f/sN+GD09fBc7mTtfO0u7iTwPPMS99b5ivrx+dH4hPdg9rv02vEe74jsPur851LmzOQk47DhiuCL33Hd3dr12PzV6tJ20TzP6szyy3bOyNU446jz6QX9F1wmqzGKO9lAVUERQP46FzO0KnQi/BhgEW8L6gazAwQBk/0r+uX2/fPS8sHxNfCd70/wt/BV8yL4v/4vBzASuBwsJTYr6S7lMIowCC6fKWEjdxvTFNIOkAlSBqMFYAW0BGkDNAHM/hn8XvnG9hD0GfHw7x/wgPGR9ND4B/1MAecENgaTBUkEJgI0/9D7MPho9WHyqe+u7ZXs2Ots69zqoOnx5knj9d2J167SVc/dzOfKpcrQyrzLMs4A0qzUItji4dLy3gQfFo8kPC7pNDw6Qj7APbw6RzX9Lnon6R74FTINNQVf/zP7+/Vw8EftK+z+6z/uTPG181n2OPuR/+kDFwrrELMXER9JJykuETI5NBk1SjPHLnMoRyAbF1sPvAgSAzf+Nfuc+bT3Jfaa9R71CPSc83nz+vKp8zb2lfli/SsBgASmBnMIzQkPCs0IfAaOBOkBkf4X++T3RvQr8U/uoutw6TPnO+Q74V3eP9uH2DHV79Fn0J7QbdD60BTTENdu21HeJd2h3arhceV+6+D4dwowGY8m0jEtOmk96Ds2ODAzrirUHxsVvApoAQX8ZPdz9Jf0j/Z791z2kffD+Tf9LwBYA8IFowdICvwNKBOZGZAfuyTjKTovvTE8MT8vhSuHJcwczRLzCCkBnPox9lLz2/HA8aDyM/NW9MX1yva290P5ZPsn/UX/KQJEBt8JFw0CD2MPkw6VDBIJlgQ7AM78dvi+8/rvDuzD5+XjaeHQ3yHf1N3f3Ojc0N3V3fXdo96+4FziUuJE4s3jbeTu4znlVeUf5JXjaOPq4Znk9uvQ+G4I3BbiIVAqsy0jLRAsuiYFHzkYVBH8CmEHZAVoBQsIqAp9Cx4MtQnKBoYDgwFdAeMCmwQmBy0LTQ8yFWkbGiDtI1AmXSWHIjIf4RqKFsYTlQ4fCEYCu/2s+bz2nvRO9Mr0TfTa9En3JPkU+7f+MgKRBRkIXQqODBMPvxByEU4QcQ0qCZMDRf3/91fzFO/V65rp2Og26RjqJ+s77ZjuTu5P7f3see1b7rDuye/y76vusu3x7NHrbOre6MnmyeU/5Fjh2t6g3a7cT9wK2yLZftsW5uP0TQVtFukh9CZuKQIq6SchJfogRBzFGfIW8xN3E5kTtBRlFoUVBxHfC9QFnAB9/1wA6AE0A0wFgQfuCAYKhQssDUgOoA4oDrwM8QshDV8OKA+WD+YNyAnrBb4C/P8X/s786vyR/vf/wAGIBKkGRgjTCYMJPgeQBNYBOP9X/TP85/r8+aT5MPlk+Ov39/ex+Iz52vno+T76FfuP/I39mf1x/Bb6Uvc+9fHzGvJa78jsE+uM6DTlzeLm4LTeQ95i39zfOuBR4abgmN8k31Hfft6V3BXcreBd7H78Bg+cH2gqyy/JMfsvKSx0JxsjSR8xHSAcIRvUGRAYJRaWEq0M5gPr+jbz5e7l7h7xBPVH+rr/lwSzCGALYgxmDPQLrQvzCk4KEQw6EO8TWxZIFz4WqhL0DWYJswRgAHb8SPqY+bz53PpR/eH/wgHFAmkBDv9N/SD8SPww/Rv+b/8jAQ8CHgP+BJEFOAWHBFIDTAHt/qf85ft0+xT6H/gg9VjxYe6c7FnrgOu664jr/ep46w3sJOyO6+frmuyW7P3rtusq7Insweyi6wXq4Of85hrmnuU45xXuefnvBnUUKx4kJM8lBiMuHjsabBdZFVcVYxjmG7wcXBupGcsVZQ7MBC/6wfAa6groB+qs7rv1c/0VBKkIsAvsDM0MGAyzCwwLjQrfCyoPTxOUFrwX2xV5Eo4NRAfoAPv7rPgi98735Pmo/Er+Rv8XAKb/z/3n+z/6SPkO+nf8sv8EAx8GpAg8CVUHJAW0Aqz/ZP3b/Hz8G/1J/zcB9AE/AbD/o/1k+wX5ifdS9gX1efVz94X3bfYR9kr0svBx7Yfqpeeu5bHl7ubW6FLpUuld6rrp0ujf5vPi7t4s4aPp6vWyBb4T8x4TJ+AoPiQbHxEa6hSjEjwS+REPEgMRKxGLEroOwAau/6v4fvFe7xPwhPIi+GD+ngOiB9II9wfTByIG3wSIBXAGvQg5DnsTHRYuF2wVBxHyCR0BlflO9WnzPPRN9+X6cf6UAVcEIgYIBnEDPAFcABQAYQGSBFIIWwtBDXkN+AtKCIgEKAJqAHb/AACEAR0D5gR+BogHjwdlBgsEOQFh/pP82/yi/Rj+D/5a+z72Y/EH7Y7nM+Pj4frfd96E4PLjcOa752boVOhJ58zkwuM55ZrkNeTO59bvffuTCEcRtxbDG0caTBRnEKkNHQpmC0sRRBZ6F54V3ROhECEJzQG0/EH18e8+8qD3dvwGA1cJIQzXC6YJHAavAnoAjwDTAn4FYAqgEJYUmxYZGCYWIhGSDCQIHgSmApoD6QU7CN8IRAihBr8DuAA3/l37HPrK+3f++wHvBqYKYAueCg4JxQYjBGQCWgKaAz8F5gcZC/YMOQ3hDEALFwieBKUB0v5k+1b5Xvj69WLxOOx/5lHgFtz82QHYadaG1jnZ0d2t4+foWevI6tDos+iG5kPkhOM941/kUeny9bMDYw4mE6MV/hQJD3UJ3gW/BX0J0BHjGkkhZSJeHm0YLRPTC84CtPoG99P4M/3XAjgITgt9CaYH8QRlALr96v8VBW4LDhPuGjkhhSPcIigfVBcHDpYHrAKP/iP+/QH1Bs8J1wl3BwAD2/3B+sf5Bfn0+Az8VQFFBi8JpwlcCfYHbgVvA+wCwALDAqwEHgePBzUFgwHq/dD5k/ZE9Yv1xfRW8x/0b/VY9ebyG+5c58fh5N8q3sTblNpq3JXgf+V96bjna+Ka3oPfheFp4V7hTuFk4dDpDPkjA+MKUROYFtETshEPEQQR7RHPFvwgniYJJkMlOiGiGNMQ+AqeA3j9+fsN/40F+AvuDsgM6QemBHICUQHRAX0D+QY/DTcVYht5HQUcjxqXFv8PfguoCOwFjwXTB94JiAnOBjwD5gCp/UL7wvpm+pP6Avzk/vcCrwWsBCIDrQFNAJX/M/9J/pr8Jvql+WD6Gvnr9kL2DfYy9tb2Q/fO9jn2lfci+p76KPjg9GDx9+097qTuc+uj5mjiZOAH30LdddoT2D3VCtQw1CfUZdQm2MfeCu0SABcNWxOqFssXlRceGTsd+SCkIZYknisdMCQsqycyItMZwBAiCLYACf0w/iEEXgoDCyMGOgG8/Vb8Of2G/Wr/MwIpBvELNBNtFh8WkBVjE6UPQw5WD4YRcRIhFPsVYRQZD6QJeAXhAGH+zv0r/Pf4Hfjv+dT6ivlb9w30DvHR8J3zEPYS+Cv6rftL/I38OPyT+8X5IfrK+9f8Rv28/kv/D/0C+yf3ovCo6ZrmpOVf5S3kdOR55fzlduWE5JTd7tW60ebQ5s990aLVMdpv5q72nAP+DAURhQ+9E/QWYBoRIIInqiqzMlE3kDNkL6so5x0RFpoPmwZ6BdAHdQmfCeQHn/9I+2H43PXj9FP2zfd9+wQCWQiTDW8PuhA/EIsPJw+gEVEU2RZtGFMaNxo6GL8VWhNrEGsNdgssCTMGfwJUABr+C/oy9VrxDu557F3ssO3B7g3wB/FT8xf1MPat9nX4zPie+kP8Kf1r/Ub84Puc+K71JvHe7jXqKeYu4pHgUt8+4eXhfd8Y3A3W3tEa0H/OPM+R0i7bfe1l+skCwwv1DjUMvQ6UEA8TWhmeIogswzU1OMw3mTYlLqsi2xkuE3QPzhGEExgTDhAoCt0C3fyi9fzvhO2y7T/vrPQt/CcCtQWYB/UFcQQ4B2ML2g5kEuAVlxjIGvoazBpSGHcVGBSRE38R0Q/XDuMNrQsyB50BhvxF+Mr29fal9oL11/N48f/uEuwx6b7mXuW95VboO+qo60vtIe5L76Hv6e647N3sNuqE61rtj+wg6ybru+ZQ44Dgbdm60ZnMIMkez4bfJ+1A+Ir/7AUvB+cJdAt/Dh8P2hY4JPUwBzZLOS069jO+KagewRWdDjYRyRUVGYcXmRWuEckO0AeJADz5z/Ok8bT04PlG/fEAoAJbARr+zfyl/Iz+/QA+BY0K0g5/EdwUQBbHFWYVrhSxEn8QnhD5EksTQhH2DWkLRwjeBvgFJwQQALH8Gvuj+I/0c/Fz7ovqgOcr5DfjfeFj4WzgoOCi3cDaWNqa21raPt3+3jvgtOEo4srirOD73RTZqdYa1OLcEui68oL8JAe6B3kInwm4CEEKQw7LFYcdbCZ0LNQzVDayM8krpCXVHUoamxkqG5wb4hpkGYEVwA/tB2QCjf3990/02fW699D7LP/n/xj+vPxf/Kr9q/4uAX8F/AmqDtURihQEFjAWFxWOEm8OfgumCxINIA3IDBsMZwoqCYoIvAYXA2cA6/4d/Yz7H/rp+Db3zvQ08Z3tIOqO52blmOJ130vdftsw2ivZcNfN11nZmtpo24/cGdyv2tvak9fg07HXduGF6sTzqPlg+ov8xv+4A74E4weuDM0UHx7yJDMpDi2XLoIsZCl/I5sfPx4ZIS0hWx8gHW0bphgeFC0OHwirAYz91/sq+q36Dfz7/lcAqAAQAKgBUgPaBDUFyQY1COYJqwz+DgIQGBDIEN8PMw0iCqcJ7AhqCPgGCQXAAokBzQDG/+79X/tg+ZX4IPf39PjzJfR79C/0efOD86TzfvTd9BH0e/Ka8CXv/+6I7xfuye3X7JDr3ejV5tPjYOIP4YnjWuZf6Vbs1e4T8Fvvq/D47xjwIfDq8nz0f/n6/WgCOQXEB8AIUwjtCC8JsQrgDDkQqxHBE1UUJhUCFKcSyxBeD/AOcQ9SECkR+BHpEfMRCxENEFMPiQ/aDxoRZxJdEzEUCRV6FUgVuxSRE1IS2RBDD64NqQuLCTAHmATdAVr/+fyl+sD4jPdy9q/11vUV9of2PPcp+OP4a/pQ/GH+4P+JAKEAgAAjAA7/u/0f/Gn60Pgo+OD2i/UH9SP0m/Kf8WnwuO4x7RbscOuH6svqbeur68brAeyV6zXreOuZ7EXuHPDz8QbzJ/Qk9br2Tviq+YH6XfvB+3D8Uf1i/sr/NwEJA0UEjwVwBxsKbQyvDiEQMxEZEnwTThUlF50Y+Bn7GkQbNBuTGkIaUxnfFx8WrxSxEwQTXhLSEbQQKg+9DWIMVwoJCLwGfAWvBNUDegPEAh8CrwGDAIT/b/4x/uj9xv00/Vv8pft5+977t/sz+1H6z/le+ej4H/hB97X1FvRP8k7wme5K7XHs6uvF63DrSesr62Dr2et97APtue1L7r3uBe9d73zvRO8176fuQ+6C7ibvIfAl8lX0hfYT+TL70fyH/hoARgFjAi8DkQRxBnEIgQpFDC4NyQ1vDnYOVg71DRUOlA7QD5QR0hL+EygVVhW8FKMTuRJrEm0S8RJCE+ASERIJEc4PbA7DDGULOQqUCWoJuQn9Cb4JSglrCPgGiwW/BM4DTgNjAzIDBQNVAmABzv+e/bT75PlA+Dv3ofaW9jb2w/Ut9aPzlvJJ8VDwre9774nv2u968JXx2vHJ8Y3xi/CJ76fuxu6J7vvuUO927zHv4O7U7gnvTO+i733w2fCB8ffyUPRa9Qn3aPje+Z77uf3g/yoCKgTnBZgH3gg/CvsL4Q1JD4cQVRFNEeoQWRBkD4oOBA5BDXgM+gsWDJYM+gw9DeMMQgx2C60KkAoICzMLrAs2DLQMEg3kDM4M0Qz7C0ILxQo6CqwJ/wguCJwGLgVrA6EBZQAm/5L9A/1C/RH+Ef5I/jT+KP2z++r5kvhd91T3g/cH+ET4nPii+OL32vah9Tv0QvOY82301/X99nH3Uvcc9lr0YfLy8ETw4e9G8LzwAPHY8bTyQPMR8/nyNvOk87L0F/bw9zj60vwk/0sBPANgBPoEbQUfBdIEAAWqBScGuwY2B4cH+wdICCsI5gd6B54G8wV9BQgFtQQOBeIEnwQ/BFcERgTGBFwFoAULBsEGhwdlCJEJeApaC5ULrQsVCxsL6QpYCgUKlQlTCdwI3AjvCJsIuQcYB6IGVQWaBKkDsQQvA2YBIwL+AIYAP//e/Zz8yfsO+wj75fsl/N/7+/uE+8H60fpB+jn6IPr5+E/4Dvhb99L2PvZm9bD07PNU86nyofJ98p/ydPPg86X0hvXc9jH4MvkA+pn6s/rb+pf7KfyA/Oj8M/0+/WX9WP01/Qz98fwU/T/9xP1o/lT//v+YADABxwFPAuwCuwOJBHIF5QVZBpoGTQcbCF8IiwjZCIAIkwijCLMI3gjWCAAJFQnOCTgKUQrwCqQLYQsnC9oKkAouCowJywm+CSYJmwjWB2UHiwW8BAQEuwLAARgBBgH0ALwAlQBZAAr/6f9Q/3P+af3z/Mv9wf3r/fD9N/1i/HL7pfqH+SP47fdQ91P3Affz9pP2bfYc9gX1uPSx9Jj0EvXe9e/2vff/90/4d/jz+Hb4jPg/+M/37/eq90f3t/af9mD2lvbi9oD3Zfh7+SL7avyT/Rf/agDIAbkDKQUiBqkHnQgZCZEJeglRCbUIGgiIB6kGJAa3BUsFxgSaBPUEAwX6Bf4FNgfLB9UH3AhNCI8IZwjACJYI7wfGB2wHFwc1B+kGlQfMCJ8I8wiQCNoHzgYqBiIGhgQlBJIDBANxAiYCpwG4AKH/Kv80/zv+J/7I/Aj93PxM/B77j/oL+jf5wPl/+Qn5Zvi7+OX4Gvn8+CL5lfmD+GP45vjm9/z3Vvd19sT1ZfUK9Zv1+/U09b/1XfX69FD1hvVO9u735vgB+gv7afx9/W3+Jv+Q/xgAhwAuAd0BygKoA/YDPwQqBH8DoQNiA+0C2wLAAsAC9wL+ArEDHgNYA4MD6gP/A78DYwQABUIGYgfkCFIJrAr+Ct8LiAumCp4LJQujC0YM7wvqC6ELkQo2CpkIGAfBBj8FYASNAwcD2gG+AMEAXgCw/8L+m/3f/ZP9L/2v/Cr8ov2a/HP9nfyT/tIA+f3R+9n5//nK+XT5UPjJ99r3ePhI+Pn3Q/YW9Vn0Z/R79fr0ffWX9RT3UvcS+PX4Q/k0+u/6q/s6/OD8kvwA/dj8oPzO/R7+1/09/tr+/v6b/mj+YP5k/mb+ov7S/gj/MP+I/5b/eQDxAIYBWwKFAjkEPwWVBSwGfwf4BwgIWAn8CU4Kkgo8CvAKCApvCpsKtAmxCnsKBQq3CWMJBgiqBqkGLQZ5BRUFSAP8AzQFxAPmAfUA+gJLAo4AowDi/x0A7f4BAEwArP+9/sn+3P86/wv+8vz8/F77p/t/+Sf6BfkT+Hn4Rvg+9wX2tfYX9+r2Avak98D3k/gu92b/GfqU9ZX9avz6+3v8mf2t/Wf/SADV/+YB0P8q++D9Zf1o+578VPz8+9/8J/t1/KH8nPwk+1v83vvV/IX9zv/Q/gcDeAaiA3kIdAS/B4MEMwnHCMYMkAhfBzQNPweYDEYKvQ/2CNUH4QkaCY0McAmNCFYGEgXOBRIHigXYBHMBQQE8ADgCYAH3/C0ASf9I/g/9BAAO/9X+n/+R/IP8xP1k/Ub8/f4X+xD95//O/x3/yv8RAOj9gf6B/5D8pfpm/T37vPuV+l/9PPr9+ur9sPc2+8X4sPiA+4r75PxA+W/8fPpg+P36/vc791/3gvdz+Rj58PiQ+bb44fkK9pn3d/fu9b34u/lJ+Zb6ZfuY/Aj/GgDrAVoAAwNMBIYFlAcdCJQJNQqJCVsKmQvmC9cLbQtaC+cKHgpdCpAK7QmGCesHKAlOCWAGmgcxCPYGNwdrBvUEuQPaBFcJGwj0BKQE2gEMBBEFowRGAmQAfgEpAWYBKAFA/mj9wv18/W7+Mvzc/Yf+YP4g/Yr8NPxM+r76lPts+WX4rPps+KH53Pdc91/3/vWX9jr0L/Pi8+ry+/Hh8YnuCO586mXrpO2P7efvd/H18kfz9/Pp9Bf0HfSj98v3yvvg/okAFwMjBjoKRAvwCpUKygthC/AOYhFSEnASnBLgEzIS6hHMEAgPtg6bD48O9QxHDVcMTgwODb4MwgqeCCYHDgd/CPEFwgWeBV0DjQRoBRkFyQQpBAME4QFfAzoEzQHRAiYEjwOlBXYGgwV/BGwARQKA//3/HP6P/KH9zfrY/Nn5U/iH9sz0J/NO8pLxRO6t7/zuP+3h7Wfq7efx5WzjweHC4End8dja25bgfOWo6/fvIu7b7Ebu/ux174Hy7PaE/OEDjAvVDUkQ0BPdF6IXNhZLFW4UXBfoHcEixyMMJQgiJR42HB4YRxPpDzQQzg9RDm0NBw/dDhwMUgrVBMb/TfyX/OD8jf6dAbsB2wM5BEgDWwEDAY4C+QIwA9kDdQaMCQYN5Q0XDYsKSQcsBwcHFQf8BAYEbQPhAvIAjfwZ+VL0gPIF8JzuGOvx6eTnleXa5KPeCdo71vvVCNUG1IfRz89yysLL6tQT2mfhUOcv5yvkGOqw7fLvV/YE+2P/4gcPE3cY0xvaIAMm8yY0Jn0mHSQMJ58u0jLUMn8wZS3xJxIlQyFpGoUTtRD5D6UNQA2KCsQGLQMo/8P4J/NY8GfvGPNp9vX4MPom+0v73ftk/T3+kAAlAz0G8AhmDUMS7BQaFnEVoRJPEOcQnRLCEVAQpw6AC5cHEQRJ/6P5+PQ68iXu1OjS5YLeR9uD1zDTmc93ys3FssEGwn28EruTvfPFCMx+1LfeytlA3PDgj+Vr6oz1TPyAARwQdRmnIhkmIiwaLsQt4zCZMXsyJjYpP+8/okBVPY00aS6SKdQjrBwXGKESYhC7DVILjQZ4AMP7EfYq723qxeiL6MjsIPBI8vDy3fJk82/2ivjn+zUAkATOCYYPPhSEFusZ9Rp/GzIaIhpSGY0ZBRrpGDwVCxAACg0EGf93+l/2hvAX7onmt+AQ2tPTqc2gxxvHP7+vuj+407S/tzu/c8jhymLQgNBZz5bVRNkA407oRPM2/ksI1RJgGuogIyKwKXMq3CrPLdsyzDl/QWlHYkMZPmI3UDPYLp4qkyWVHyEc8xh2FisR3wqaAmz8vvV67nDoQ+Sy6vHyhPI960zm4+f361bupvCh9C74OP5pBo0Ldw4AEVYTSRY2GVEblxxIHhMgryHsIdUd3BfOEJAKNQUjBNYBLP2k9sDuH+lO4FbaaNEbztLG0r/MvPy08bl8wRTHC8zpzi7K2saQzbHRzNjK4VnpD/Vu/1YJmBHeFUsZ3x7/ITwjIybzKH4xlzwiQrNAhjkQMkIuryxLKmkm4SDgHTweWxtHFxAPOQVm/3b6h/SF7hrrrOq+7qXw6+5h6tHlwOU16TPtzu818kT24vx9A7kIHwqhC00OWhGYFAMYEBo5HF0fjyEIIMgbfBcVE30PowxQCswGcgKc/eL3pvHi6sLj/d1s1+7RXs30x9TCJsaSyHLQ/dWY0pvPisu60L3URt/r4+boYPAT+egDvgeNDKYMVxOLFkoamBzeH9goNTGYNlUyySzTJeAkfCbOJQYjfh/1HT0c/Rr3FXIOLwlwBLEAC/tX9bvyU/P99HH02/Cb6/zoe+nA7Cnwj/GI8kv2SPkR/cT/OAGYAyYHiQmDC4oODxBSE48W2BeCFdcStRC4D2MNFg0jDNUI5gWnAs//RfmV9SDy0e6d65ToyOWW4vPi6N+Z3WPevt1V47vmoecx4zji6uXW6i3x5O8a8I3yAvzHAXcHNATpBEoE8gjGDskMjA48DJgSOxTdFcMRnw6QDYMQ2w+kDFUHCQSXBOMEkQW0/ln7xPi3+YX57/cZ9fj22Ppa/nD+aPsG/Gr9EwPwB/EHBgWYBBkK2w6YEXoQkw3vDnoRyxRHFbgSCA8iDh4QnBAADvYJ2we1BwUJiwhVBkMDkQCw/3QAyf+G/jP96/r7+kL7JvxS/LX7d/qr+Fv4nPiD+YH5zPhw+DP4XPic+Pv3EPiv98P2ZfaB9dr0evT+9I/1VPWB9Mbz6fJi8k7yCPKd8lHz+PMe9C70XPSf9Kn1VPbz9vP2qPc/+ZH6rvty/D39rv0S/20AIgKPA6EEbgZZB5EI1AmBCk4MIQ6WD9cQuREVE+kT4BNaE2ATUBPAEsERNhG4EBoQwA9wD7AO+QyLCyAKUgm7CAsI+QZvBmgF0AQgBRUFvQQzA3cCKAG7AEIB1ACiAHgAaAAHAGT/V/6v/PX7kftV+xP71PkA+UD42vef9yz2FfRL8jTxffBS8Nrvwe5A7q3tSe3J7ArsEOvC6s3qyeqA62Hse+3C7k/wOvHw8brySfQY9hb4vvrz/F/+4P/IAJ0ByQITBOgFEQcFCGwIGwm6CbYKjwuOCyYMCgxxDOUMqAyNDRAOnA7KDk8OuA1sDRIOgA4XD44Psw+rD9cPhhCwEG8QtBBZELkPJg9aDlsNvgx/DLALiAohCXoHxwXXBCoE3gJiAe//e/5w/Rf8ivro+HP3QvYi9bPzC/JB8ODuMu6q7Ubty+xm7NTrD+wX7Pvruewq7Yjty+5u7+TvB/FM8lvzm/Ph9PD13vYZ+AX5gPlX+pL7F/wg/db95/7c/+wAnwGUAeEBMALrAjQDewOPA1YEdAUjBhAGRgbFBnAHfQh3CEUJywndCpwLxAvRC70LqQx4DWQOaQ7ADvAOKw/UD4IPAw/1DU8N4ww6DMkL5wr3CXQJLgnqBxcGlgQjA+cB4gCU/y7+Rf2t/OL7tvpq+dz3OvYL9bDzhfLo8bXxzPGq8YvxJfFO8Y/x6vGy8lHzN/Qq9aH2uPe/+FH6cPtQ/MP8Lv0s/Qz+lv9pAMYA6gD5AGYAYwCcANsAvADBAIUADAAGAOT/AQD0/8v/aP+Y/ir+nP4W/5//SwCwAIcAzwCCAVwCSQNTBF8FwgW/BtcHbgiiCPgIqgmeCXQJTwnVCD0JowntCQcJVQf3BaEEUwS7AwsDnAFxAJL/g/5q/Sz8jPvl+lz6avmp+Pr34vcS+Az4pvc091r3fvfF92D4Afms+dD6DPy2/ML8df3t/eH+0f9SAJkA3wApAuQCXQN0A3sDPwNgAyoDsgLrAhgDWASUBHoEVAO4ATUBFQHgAnMBMwApAfcAygCmANf/wv6N/w0A1/9f/3//R/+8ABUDJAOqAn0B8wCFAeECnwPNA4wDPQOkAwoEPATLA3sD/QJ0AgcCaQEnAcAA+AAGAWgAL//K/db8KPzI+yj7u/rY+ab5XPkS+d/4Tvje9233ivfL9+P3N/hN+TP6NvvA+3j8t/xY/an+SP/J/zoALQGfAXMC+gIgA3ED6wP2A8QDBQQYBIEE4QRYBR8FcASeA0MD3QJ4AqICCwLCAYoBGwF6AAIA5f+1/5L/mf+A/1X/AgC9AFoB4QFXAlQCdwInA4YDDwQtBKcEHAW4BUMGPwbABuIGKQfOBkUGmgVXBb8FrwXGBRcFuATCA/cCSgK7AOn/K/9//nD9ivzI+/H6evoA+vz42vdF99n2YfYu9iL2hfb59j73OPfb9ij3qveR+Cn5ZfnJ+S36FfsD/HL8avy//OT8E/2C/bP9JP5C/rL+yf6b/n7+oP76/hf/Xf8A/5P+uP41/4r/8f8JADUAsABBAeoBFwJYAtUCbgNFBN8EeAUVBtYGXwdrB3MHvgcACC8I1Qj9CP4IVwlZCUkJEgpfCrQJ1whJCHAHNQfEB00HNQaNBRIFCQTXAzwDzgGbAEIA//+W/17/p/7j/TD99/yc/E78C/zH+5r7n/vg+7D7d/sr+9/6wfrf+hr7KPvm+sf6mfod+u756PnG+ZX5YPnt+HT4G/j+99/3q/d/9zH3B/cV9yX3Kfdd97z3Gfir+Cf5qfk++un6zvuT/HH9IP7m/un/OgEgAvQCqAMeBPEE+AXnBkgH2gcXCJgI3AgpCWwJSgmWCbMJpQleCYYJZQmnCFsI6QdPB9IGswa0BkcGFAaQBagEJgQNBJoDVwMNA50CXQJGAlwCBQK0AaIBwQG0AYcBBAF9AF4AVwAAAKj/N//a/uD+5/6F/q/9y/wO/Pb7b/sA+436zPk5+c/4mfgM+JX3R/fC9mD2LPYH9jb2q/Zp99v3a/jo+Cz5f/kG+tb6t/uZ/HD9TP4U/9n/HgBmANkAWwHlAbgCHgMzA3wD3QNgBJIEmwRyBHgEfgTQBNcEvATbBHsEyQN8Ax0DvAK/ArgCvwJMAiQCAgLqAS8CPgJBAjICTgIcAjICTAI+AnwCmwLIAowCVgIdAvIB3QHGAYUBDQHuALYAawAxAA0ApP8U/3b+zf1W/df8g/xa/Pn7oftF+9X6mvo5+jT6R/o/+lX6g/rP+g/7bPuK+837CvxR/Kn8PP0V/vv+v/8nAI4A0gALAV8B5AF2AvUCWQPOA/sDFAREBHEEmQS/BO0E7QTJBKsEgARdBGQEOwTYA2QDJwPnArMCpAJzAgcC4wHPAZ0BhwFfAQgB3AAMARcB+wDZAKUAegCCAFwAGAAAAAgAxf9m/wL/nv41/uT9rf1J/QT96fyL/P77aPvL+l769/nW+Yv5iPmE+W75sPnZ+ez5/vlh+rP6N/vu+4L83fxC/bX9/f1N/pH+//6W/10ALQGeAcUB6QEFAj0CjQK9AiEDnwPkAxwEWwRfBGoEpATABJUEbgRDBD8EbgR/BF8EBQTtA8sDsAOPA4IDWwMnA1YDbANgA0YDWgNXA1oDOwPoAqQCqQLlAuMC4wKJAhYC4wG/AUkBzwBUAPz/w/9m/wr/gv4o/un9oP1O/RL9qPxV/Aj8nvs0++76rfqa+rL6jvpl+nT6kPpz+oT6hPp/+tD6RPt7+3z7lPvd++r7Ufyz/Pz8V/1u/cX96f1A/or+ov4G/0//iv/J/9P/7f8RAGYA7gA4AWABcwF7Ab4B8AH2AS8CdgLZAk0DqQPrAwgEPQRtBH8EowSyBAUFXwWjBcAFiAVsBScFBwXYBH8EKwT9AxkE+gOvAzMDjwLIAS0BoAAcAO3/zv+5/4P/Mf+2/kX+CP6+/Yf9H/3B/In8cfzK/AX9IP0e/e78y/zR/Oz8C/1k/Yj9mv22/ZT9gv2p/bT90v3f/dv97f3//T3+N/46/kP+W/59/rv+5/7J/t7+Cv9J/3P/p//A/8f/3v/n/9n/wf/k/wQANwCcAN0A/AASAUEBgQGaAb8ByAECAloCswIRAyoDJwPWAnUCRgJCAlACWAJFAhkC+wHgAagBZAH4AIMAEQDm/7b/gP+G/5L/sf+P/13/Ff/U/sP+wf7q/gr/HP9N/3H/tf/d/+f/3P/g/+f/2v/w//n/GQAqACoAEgDW/7T/uv+k/4z/Yf8e/+3+5/7Y/qj+cP4x/tr9wf3Z/af9kP2Z/cT92/3y/Q7+CP4W/kH+cP6Z/sb+Nf/E/woAdgCdAKYA/wBTAbwBBQJbAqQC4gI6A20DeANsA3wDcANAAzMDMQNVA18DMwP8AnwCEQKyAWgBEwGnAEsAAgABAOT/r/9t/yP/8v66/o7+Zv5P/mb+mP7F/t/+9f7//if/O/9j/5T/sf/t/xUAIwA8AEwAPAAmAPz/9P/W/9D/7f/n/63/bv84/83+eP4o/tn9ff1M/Q795vzO/Kb8sfyy/MD8lvxw/IX8tPz5/Gn9tP0O/l/+vv4W/1n/yf/4/3AA7wBdAYwBBwKbAvACcAOFA3sDegOdA+cDKARFBD8EOgQCBNgDtANNA/gCsQKYAlsCPwIRAs4BrQGEAWcBMAH/ALMArwCrALIArAC0ANwA7wAZARMB9gDUAN4ABAErAVEBbgGAAY0BkQFkATUB/wDGAIYAMwANAOz/ov9Z/wT/hP71/XP97/yE/Cf81/us+2r7Tfsk++X6p/pv+l/6afqV+sD6/Po1+3/7xfsZ/HD8z/w6/Zn9HP6I/h3/yf8kAKkAGAFRAXkBpwHoATICpALjAgYDFQMuAy0DEgPaArICoQKTApYCagJAAhAC5AGuAXMBSgFIASsBKwE1ASoBLAEQATEBQAFBATgBMQFAAV0BowHZAQgCAQLwAdQBvQGyAaQBlQGDAYwBYgEvAeYAmQA+ABEAyf82/+T+e/5W/iD+5f3B/WL9Pf37/L/8oPyE/In8kvyp/LT8vfzG/Aj9R/2L/ev9EP5S/nH+1P5Q/7T/AAAcAGkAhwC9AOgA/gAbATsBTAFBAVwBVAEpATwBNAEbAd8AmgBgAD0APABBAEIAEwABAO3/3f/L/+D/5//a/8v/zP/G/9L/AgAOACQAEgAQAAAACQBKAK8A4gDdANYAtAC9AMEA1ADcAMYArAB6AFEAKQAbABMABADv/5n/LP/k/u7+/P4G//r+2P6b/mf+cv5q/nH+j/6i/oP+pv7P/un+Nv92/4v/ov/G/+f/AgBWAMsADQFOAW4BgAGTAb4B3wH0AQACCQIRAisCVgKEAnQCSgIgAvEByAGoAZ8BfwGFAXgBXwEPAdUAsQCCAGwAPQAPAPD/6P/3//j/+P/t/9r/tP9i/zf/Hf85/3f/nP9s/zr/Df/T/tn+x/64/oz+ZP5Z/kj+UP41/hz+BP7N/aX9gf11/XH9iv3J/dL9x/2z/bL94f0d/jv+Vv5o/oH+q/7p/jL/d/+o/8z/x//K//T/IgCTAOAALgFCAVIBPAFnAX0BnAGzAfQBJwKAApoCSAPiBMELtRNbElsMlv5J/PgG8AxeEL8TzRUYDZME/wNEBzAGXwQiAusA+QKiAp0DZgGD/RX56vQ89m38YvkB/TQAcfWl9Rv1qfiN9an0kPqd8zT2jvm4+TT8jv54+Qv3nPc99uD0sP9//p3+3v8l+VQD/fofA7v2GPpB+lz9CAV1/FMMcPrCC94EpA1kC7H7SQjm/YQJ8gZxB+L9HwxDDVsJCw9e+tv3Df1L/DMHrw0rBSIESv/1CCoHqf2C9B7wCe+G+eYEeQ3DDj3ut/L/9czzEwfj/fT1z/gS91cCXAozBtb6XfaD8tH+5gOb/q4Dq/K8CSwFbQqJC+jtUv9E+ZoAovw7A0cJewa8CSn1sPQv+rsLPPw8AMX6evG7BSMDjg0I9AT34/YQBhoGFfM/+Ev6Uf/v+9wEJ/8OAGT9Yf8z7EgAuwdXAYcCHPY/Abf5dAWUA7b+HAJJ+Pv+awAdDM/+dfbM/bn8fA45AjUI3ftLAQQBpAXnCq78JRDQ/IoGzP4+AWoOEgz3Cjj6xwJn/KkNOwPH/SMMGQDjCNb9AAZJBSf2RwddAJH+HQST93D7sgBt/RP7zweT+qb9PAKy82/44fUc/gP/NwTp/KL4HPlS/mz62/bKAnj6tPzj+Kv5lvyQAx75d/VbBu4D/vzC70r69PCz/TcHqgHRBiLxPfXF+Tj/Lf1y9l38tf5Q/mIEkvuE+WgBlv55AlcFG//Q/ksDXQCvB4AI4w68ENoJMwmXBfwFCwnXC7cTDBNtEN8QIQ6MDZAPQwjXCqQRKQ11EGsFwgVcAjoKBBAoDKMGmf9//Kv3df8198IHl/0C8Q/86vz0/7/08+0G5FXqdvKO9rDwkvVx8NPdle0p7B3t8ey+4t7gION55i7qbOuo7nbx3/J79nPzee+T68vrXvIG/YsBEQmECuUIXAwMDuMLcAszDEkQexaPG4UfWx/RHR8b7RwNIGcgZx69HKQVchRoGPcajRq2F/gRaw+ADmsLzAyCBOP8PQDC//8BAgIv/Wn8Z/go/b77ufcj9wL1JPei/Pv4+/Bz+Gj2NvY0+gL5Kviw74Pqt+6Q79/x/PJT6Wjp0uY54gLhz9r414nZN94n5GzuJ+0w71TrpObS6A7mDesx7vP15v32BywNkhBqE4kVIBn1FF4WwBrsHUsmtCdsJ2gqSiwPL68smyiyIbQblxq+GOkUFBNiE/kTWRKID34Hhf+X+Xz2NPby82fzePI18vzyWPV89kz2Fvdh9C7yLfT59c730/hp+oAANgKDAzIDhfzs/B34aPYv+Eb5eviq9YjwCuvx5yfhotvn0kLSudW/2xjja+lt52Hlf+NP4i7lIeMq41vlpe1C+pcFZg6mEroULBgWHHofPyA6ImokYSiLK/0wxTOgNPI2AjN7L6Ep0iLdHkQZjhbfEdwPVw8eDR4L5ASu/jP5//Tz8Irvmuv56jzqGu278WjxyvFl8sP0NPaS+P35SPsV/Tz/1gJ6BZIErAO2AKQAgwFn/7D9MvuN93zzGPCe7O3kttug07HJDsmMzmXXFN504vnjaN/53pXbx9m62tzcJOVO7+r6kATGDcgRbBiDIJ0k2CqTKsYrRywaL+QzPzTFNwY6PDsSOvs2rzA+KaMktRsVFt0PiQupCUwFnQOX/b758/Rd8pfvzOrH59jjjeQL5WXqie2O7v3wQvQO/FEAUwP8AgsEwAYgCPYLnQqPCMMH6AW6BpEE6QDJ+6n2JvTu7RPo69wl0h/Hjb2nwALDLM4j1+zZwNty2XjZ2tYI2AnYh9sa4r3w3/8ECaYUHhgoIpgqYDIjOVY3yjr7Ox0/gUBIPkQ88joaPbE6ozg6Mz4s6CRTHUcWEQxkB5kAKfz+9rTwyewR6GrmE+UV5FniHOIq4h3kbOYK58vquu9s9gf/kwMYCDoKQAymEMcStBT+Er4OywqACG0F6f9z/K31vvJD8OLpouK91HXHYrn6tEe3TLwPx73LT87hz7fTNtdM2HfaMtw55DXwXPwfBYQOSBTaHJgqmjTTP/hDNEiRSgtLb0z3R+1CJz/5PEc7nTgkMzgryyRFHdcWHBBACKYCVfug9cDtUOZv4XzdSNzs21vdcdxO3gnk6ulW7w3xiPPR+awA4wc3C8UMxRDUFNYauh2GHB0YSRRFEOELCQYk/aD11+w16XXhwNrwz87AnbdtqgSrXa2ZtQHArsI9yBzJlM4R0s/WftoM4X/rsPcpBtMLUhj7HvorpzqBQ1hO+k4+UyRSalIKUJZLOkeZQR4+njZYMcop6CTiHjYXPRDtB4sCI/z39KTud+WH32rbntl92uvaC9xN3unlIu089Lb4V/wyAgkIsQ6eE1UX1xkdHCcfMiHbH+cb2RXrELkLBgWD/Yzz5Os743baztLTxmu5CquhnaSbvJ0wpsOvZLUsu6nAxsn00XzaRN0H5GTqPPnPBmsRBh1aIz4wnj8WTzxW11sMW5BdyF3wWfdTa0sURZI8nTTvK90ktR1uFoUQVwqtAnb8wPVe8qzry+Mw3NDWXNbs1bjWNtdG27DiBu7V90r/hgXVC+sTShsHIlQjZiTWI2EkCSfNI+cfhReND7kK0AM1+9HxT+Vg2+LT88nLwamz6qMhlHqMmY8Wl82fvqYhr1m4U8ZS0WHeluaF7TP55AJYEvkeiigyMeM7ykcuVFVbUl/CY/5lvmdKY/ZbOlMWSdk+rzOLKCAfUhXCC5IDEfyV9FTu4+i55vXkluAL20vV/9Se1anWCdiG2pjhIOxG9/kBewpdEaUZ6yIELGoxsDF/Lnctpy02KwYiFBdiDMoDSvzx8bLpK9w80jbIvb9stuSpEp1GjoSNFo2bldibs6BcqzS2IsY31FXkHO/s+rcGTRf7JLMzNjymQipNt1KfWahcoV7QXzhj017UWtdSrUsPQ2c36SusH1sVGwkTAAr2bu0d4y3dANrZ2S7ZHNYg1BHWm9mr3SLhF+Ou6HrvEfr9BBsQARe0HO0j1yy5NX461jnnN4U1HTL5K9ohghYECNn9KfE+5jPZiMuVvtq0R63Som+YMouTjOaNnpQ6nCufMagdtmHER9Uq5TvuM/9lC34cGy9vOrBDmk1OU+FbWV/EXApflVu5W2NXZk9iSPNA9zakL58kzhcjDHj++fZT8V/oQ98t1/jR19Nq0lvRh9Eb1G3aGOIP57bsSvKK+OQDug8SGxoihSd3LIEztDjSO0w6GTi1NQMx/SlHH+8RQgUM+YbrDOJO0eXFrrhnrNKjnZhTjn+EgYeHil6WdJz+ofqsw7mvy4TdHu+9+qYJDxi9K+o8Z0oTUD9X+l7lZBlnHmN0XotZvFcpUDxJnj5PNQssCCW8GgoQ5gPC9kfvx+gY4kXZOdK9zAjNis21zdzO+NIc2mXj5+t882/7xwNfDc4ZtiO9KscvdDPfOAI9zj0kOv40bS/nKRciQRjVCpb9tO/M4sTWw8lLvB6v26M4mreOg4MBgDWEMI0EmVefk6bOtT/DvNll7Zf9NwwaGhIrHT5ETYlUG1hsW4tj82WWZvJgClr2UzROn0UvPt80vCjHIRwaIxAzBHT3yeqZ5ZLgvNnB0evMx8qczCjPedCa0zzZt+G66oz2fP78BjURhBz/JwIxlTQqOL093kHYRAFBdDqQM4YuoCWlHJUQvgCG9LPkKNhEzay+dbHFpQya1JIjhk6AVYCAhGaQ2JeboRSu071xzS/lu/TcBSIWjyMmOahKkFXyW6Nf6WB4aC9nZ2UiXk9VME31RKs7QTHVJdcb4xWmDHQGXvlt7UrmXuF127jWn84ZyxbMIs3Cz9LSA9ep3T7n9/C+/DIG4RBxGo0msDDHNxs8aD84QolFhETxP+c4IDHYKlYhQRabB275zOj03MPPHsSLtVmnRZt6kP6IG4AegBuE2It6lVafoKgDuYrHidq97tD9Hg6oH9cyQUXKU0VZK2C9ZMhp1mvraRpjhVuuU9hJeD+BNA4p9htIE5sJ5v9S98/tEubm42jfRtmd0y7Pvc30zjrQe9Gv1YjaOuKc6zn2T//BCIsT+B8kLZo2sTxdQFlEJkUiRo9CMT2JNpMuYyXOGFQNy/tL7nXgM9OCyHC6sqqUn4WTr4jOgqiAqoSFjEGWRp6gq7G3IsY916To7PkHDckenDF/QaFNg1buWztkrWhjanxosGK4WsRVAEs4QZU3RCpfHqcUOgjo/WrzGOhL43Pf5Nx42AHVcdHg0AzPa8+z0F3U3NnM33Tnee9s9/7/9gvfGGEnqTFhOes+O0RbSI1JU0f8QqE8qDRdKrgerBG6A6z0deX32ArM9b5UsYym1ptQkhWKUIeUid2OV5bFnX2oBrayxEzUbeYj9YUDZRTOJDg1wUXXTbFV6V5OY+lnimfsYQhdSFedT+5HKD2SMlwlFBmlD2cFafow74Ljut2s2t7UQ9I50H3P9dC+0QzTdddD2vzes+Wz7Fn1hP0YBhURJB0gJrMuXjXJO0tCf0WMRVxDrT7eOA4xZCYtHAcPTgCn8WDjqtVdyBq6JK5mo96Zw45khzuGSYf9jJyTLZp4pgm2/8Kd107obPgGCW4aHiwJP/RLq1NgXZVjumucbKVqZmUDX6VX4VAjRic8oC9fIjQZxQ83Btb73u9F5sPhWtvm1/LSxtAv0O7QktGc1XbYuttF4JLle+3l9B79RwXXD2oZmCLCKMkwFDgOPt5BEULIP0k9DzhHMfwoHh4eEboB7PMD5dzWmsYGuAeqXqEHl6iLUYdRg2OGmosnkkWaZ6bgswTDEtQh5z34PwcRHDAtuz7KTIJVcl6SaCVuj2/HbT9p8mN0XG9U+kiAPIUwUCRsGbARzAYs+g/wwugD43feaNgZ02/QNNCx0DzRUtRi1sXYtN0O5W7rV/Mn++cChg3SF0Yf0STaK+wynjj1PG89BjynOQ02QzDMKM0fahKgBJz2iehg2ajJ9bpyrJmhGpY+itaFMIRthRWNsJKUmWCoh7TkxOrY4edy+pQLvB2VMP4/wExYVpFemmiwbTZtIm2oZoBh61zoUllIYz1SL2kkdBq1D7EFIvkK8OHp1+Rm4dfbdtWg04vSotIa1DHVd9YH2VHdBuPP6Z3w1vdX/9AJQBNtGkshnCgCL/w1TzpkO9Q6nDhvNVIvTilnHykUogeh+q/rad6Ezu++urJzpCiaEo0fiMGFhIa2jDyRupdMpHCyjMCX1njmF/biCAEahSwuPqFJU1MzXHFkmmvlarZpI2a9XtJaJFQnSAU/HzLpJUQdChPSByb94vOo7i/qZOVX4VbagNib2ALYGdnl2n7aiNzG4J3lsuve8DL3l/0VBggPhBVkG5QiLymILxg18jbKNhY1YjL3LjcpPCIFFyUKGP888sjjhtUcxt224qoKnxiT24vEh+mFY4hAjj2UnJ0Yq6O5Bsxp32jxVQGNFFMnyTaWRQRSclrbYsxp1mo2a59opWIKWxhV7kwCQqY27ytkIF0WZQ3qAbH5yPNa7Vbnj+Mv3y/bvtlC2jraK9uq3PvcqN8M5YDpB+5E9Ln6ZgG2CIcPfBUkHFEjWSn8LfwxxDPXMn0y0zCsK6Ul6BtUEdQF3/mt7D/dUs4HwNWw+aLflgeNB4gMha+HoYqYjg2Y0aEVr5rDk9XA5q/5kgvoHZswhkFWTpdYymMUa45sbXBHbdFl1mFuW1dRA0pxPiMxuCYuHBYStQbT/l335e9Y62jnkeCq3RrcItqZ2yDd+9x73bnfs+Mu6Hjs4fGB9RL7qgJBCFEOFhU2GvkfAyb3KcssLy3GLZstkCqaJo4fLxUnC08BevTz6JbaRswnvWewiqKHmACSE4vUjGKL3I4alEOdzKbetjrHNNeX6of6Jw6SH+wx/j8mTcpXWWOkaPVs625eaqhmWGEwWqxSt0lwPAYyHSYiHbkSXQivAAr5O/Eq7bPn2OHu39PcGNxj3eject6u39bhCOYZ6sTuUfPT9qv8lgKLCJsOwhQIGZQctyFQJb8nxiiRKSEn8iQNIJUXww4tBLf5oe164SDTtMWDtk6qvJ2TlkORVI6kj9CPGpW4mzCltbBrwn3RjuOV9HEGiBm3KvQ6h0fyU25eqGYcanJuIWzcZ8Ji0lwSVZFMIEEDNTYqPSBgFxIMAgT2+2T14e6F60/mBeNP4I3ect6A36jgu99y4jfmVurO7bny//XS+5EBgAeBDCgSXRcKG1QfnCJ9JTAlnyUJJWQjyx+1GZ8PfAZz/aTysebw2CfMS73psLykGZsIlLyOAY6hjnySyZfunqOnWLczx/3WoelB+hQNuR6CMBhAo03aWM9iDGjWbJlvUWuJaHFjklzaVOpKmj4TNK4ppCBlFsMLXwRu+wz0w+/26uLljePW3wrfAODD35XfnOD44znolesY79PzR/dt/YYD/Ah/DiETpxb4GuEePCEDIhchOSGYH0Ecfhe+ENIG9f5r9bHqid+y0+3FN7k+rmaiNp11lhSVRpQylZyZp5+ep6izDsPMz07h+e+XAkgUxyQbNSFCgU1tWV5hM2V9alBo/mUHY6FehVfJTS1D2zgrLrAmLB3tD7AHuf81+BLzQO/r6KjlkuPD4uvh3uFl4hnhreTx6Srtwu9W9DL3TvztAlcIsQw5EOUUyRdIG4ceyR50Hb8d6hyJGjcWRxDrBxz/h/gs7xbjZtekzCS/2LXqq8GiSJzamT+ZcZcxnL2exKSRroC91crr2PTnDfZpCDkaqysrN1BEKk8aWcVf2GQ5ZrFjD2JDX5ZbyFNsS28/pjbhLw0oYBxiEp0J+gHz/HT3dfH76groT+Wn5OPjOOM84NjgWeVj6WLsXO5A8eD1ZP1GAykINgswD/ITtxdYHAMehxxQHDwcahq1F44R/wgVAu76FPOD6O3b6s81xcG6grHQqEqhIJyzmoabNZtzn9ijq6oTuKrHPtO/4ITvMP3XD4IhLC+HOopGTVChWMxeX2I2YbtfFWCKXHFXYVDDRaA7bDUVLnokZhnuD64HAwFT/Cj2gO4S66np5uYd5yjmg+N342/n/+rS7W3vDPGS9Pz6agEIBdUH3QuyECgVchplHCEceRtcHBMcCBodFQMO5AXP/9H4V+5G41jXZcujwsa4DK2yp9ae9pzwndubspv/n76lZ67vvvXKC9YW4dTxUgHyEkgk7i1+OGNFC1EVV6Fdel6sXWldfF4vXOtTxksqQ/Y6OzV6L5Yi/xV6Du0H7ABN/bn28O2q6yvsT+ov6XLoUOXq5Ubq3u5+7/7vaPOV99z9+AMrB2sIMQ2bEtgW9RmuG08b2xnMG9EbRxdxEZ4LCwS//vH4S+304f/Wvs1wxMO6pbAeppKgLJ2unfecl5u8naajEa2guiPIwM8N3NnqzvqNDIwdrSieMoM/5UpIVF5a813EXPNdol9rXalXsFAiSHFA4joQNPcpYh36FE0NnAY2Acv6/fE67sTsO+rf6NDmiOQS5C7o+uv97UHvmPGd9HL6JwG0BOIGgQpSD3EU5hiFGz0bxhpWG1sbPRkXFSQPxQcIAlv8zvPU6JPeYNRpy8zDK7qyrvenIaIIoK2gLaDLoHCjk6v7s62/nMow1CTelO0p/Y4KWxnWIkQtKDirQ8NKIVDnU8NVjFdOWfVYwVICTu9IK0SaPgQ4VS4AJDccQhZKD/AHeAFA+cj0rPJ47+nqNOiM5j/nn+m/68Tst+zj76r0VPo3/4sCbQSlCDMPOBSnF98Y0RkCGsIalxv2GCcT4A17CAYDOf5M9RrrnuGm2a7R8ckewDO1aKtZpfyjM6JIog+h3qHlpaCsjbUrwBzKrdMY4G/sXfupCF4VmiH1LKA4GEJcSklQ6FQaWHBbM1y2W1FYMVNiT3FJR0S6PXg0cSoFIuYZrBLsCgwDJvyb9TPx7exo6MXl1+Op4qTkI+aU5oHndepY76X0aPr4/okB9wXuC84QCRWvF6kYQBnvGo8b7Bh2FU0RJAzXB4wCB/sR8GHm0d2H1ZjNU8QaujOwCaklpASiHqBboEmgCKOWqE2wmLh+wnrPd9rI5pLztQFnDbQb4CiNMjQ9v0YaTk9To1l6W9JcBF4RXvla4FVwUVhKuEMfPsE20SuNItkaohKMC/QEHv3r9PrvaOyq56bke+Lr3i3eEOHy4nnj1eWD6dTtnfOm+fz9swD/BmEMnRCCFTkYcxgRGWMbixofGNASCA6uB4cBy/tJ8Qjnzd4L1iDNs8aVvjy1fK3Np7mllqNqo++kYKW8qnOyRLmEw+HP0dn55FfxOf7aCvUWQSQ/Lts3r0KVSv5QyFZUWXxbWF2xXdVcFFjaU1NPqkgFREc++DMhKowhSBk3EsYJBQIk+aLxPu3W5+TiZd8v26vYotox3IHdf95S4Tjmlesl8gr4Tvs5AOkGhgwQEvYVPxfKGIUaYxuYGhYV/BE4DEMGrwK5+svx+Omr4AHb19RkzZjH7ryIuLa0GK5rraCsQ6v3r2Gy67Scu8XBhsqo1ODfcuoP8pD8PQqkFC4ikC3VM989v0bHTbVU3lc3Wz5dU141YRxemlhGVTZPI0hTQ0s6Ai9cIyEaLxJwCNIAZffz7PTmYeKR2zPYMdWE0rLS99QI2LfZGNz/4iro/O3w9Ub74/9pBr4LnxB3FnsXyhq/GYMbtxoEFEwRsg1UB3UB3PpH8yfs5OLL3SbWJtBDy0bD8r0PvB62pLA9sNevW7FrtHO4irvBv1bH1s/a2TPlMu549zwCrw4cGiUmbDFTO7dDxUyPVj9bO1+IYnJlo2ZcZtBilVweVi1PTUdyPkE1TCh8GmQP1AVw/Inyeuiq30/YCdQS0S3NQcpQyjvLHs5n04TYjtwQ4kfpUvHp+bYBfAcuC7wSnhj6HAogHSEzIS4fdx2fG48VCA/rCOb/VPr689frbeJ12mfVV891ylrGLMFfu2a5dLdss2u0ULXBtpu7gcGixjfKgdHm2tHjIPCU+zYC8Qq4FkEinS4ZOuBBFkh/T7ZYb13IYNpiXGG4XyVfWFxNVGNLNkG+N2cu/iVIGYwJ3v0w9Lrqx+MN3BrT8cz3yvbKD8rry+XMaM4a1MrcfeLD6J/uMfVf/V0Ghg3XEPYVFRqHHV8fsCG8IEMdHRtqGeETzg6zB73/2/sk9m/wRugd4u/citek1WnUn88EzYTN6cvizbnNq8u7y1jJ5MwA0ZnSVtev2I3bieL26C/vVvc0/jwFwAtuFYggjybOMBc5Nz6MRuhMg1AJVGZUr1OuUl1Po0zURP47wTTGKeYfzRcrDdgA4PUE7Q7mPt/I2mHWKNHL0CrR3tG81fzXFdty4Brn5u2b8j34dv+DBIwKlBEgFcAXshm4HIEeVyDIHs8bbRmJFsQTFw21CPoDUfxT+D30le0e6Gbib95o24bZ3NXH0nnQNNDjz83NFtC7zTTMzc0lzADN4s+50OnWP9sa30Xmh+qY86D9/AYVERoZ3SCuK8I1L0DnRxBLOVFLVD5Wr1hBVZJPfElWQhM8RDQlKS4d0hBQB/r/hPbi7drkbd0s2jfYr9ah1H/T/NOC1yfc/uDY49rlLutw8T/4G/7/AGcELAnxDUkT6RY7GOMYMBqjHDgevxyKGdIVoRL6D/4M8QYZATP5vvJe7l7p+eN23SjaL9cN1jjU9tKY0dDQOdJl1PHVQden1cTUv9cf2Srck+Ae5DzoMuwH8h/52P5BB7EOURbVHu0kayt8NPM5Iz9pQ8NEMkftRdlDA0G7OmQzwiz2JDgdeROnCAj/Qfbc7/7pqeNF32baUtf82F/Z2trH3KzfqOOc6PztPPOD9z78PAKUBzkOuBG6E1cXxBqjHDkfWR4NHkAe5xtKHL8aOBdMFNsP1gwMC1gFvQHC+7725/OR7rzry+fa4jjfx948217a4dc31M/VCtQo1VHVjtR31KTS0NJ41H/UA9de3Czg9+Z17W/yDfwoBL0NNRjaILIp9i8DN4k94UEpQ1FEg0LgP5Y7RDS5LKoiRhruEa8JRwKQ+azwIOsg553ja+LY4PXfneAZ45PmhOlQ7N/v2/Pj+K/91gDQA5EGnwmeDWkSnBVKFwYZ6hsjH+8gyyJnIyIj+iLPIcsgAx4gGkEVyxBWDO0GnQBR+grz4+z551fi6d1R2ezVq9P90gvRxdCq0RnSztJ21WbXa9gD2i3c69143nPe4Nx13ljiq+cg7WHzhPnu/t0GUBGCGWEh6yiELskyuzdFOh055zZfMvAsySe9IcgXEg7ZBRv+AvgO9BDw+Otb6UzooehF6kbsd+7S8GL0+vcx+zX+yv8jAdcDbgelCTAMCg74D44S1BXWGYEdgiCOIkAkgyZWKPMnKifHJA0ivR66GqUVSg8sCdMCC/1u94TyuOy956HjtuDy3jfeqNwy3FjdRd7V30DghOGm4QTiEuPH4lLibuFU3vHbVNrr1rrUsNJF0v/Vv9oG4t3oYvAs+FgBVQw/Fn8eYCTmKHwrsC/+L6IuGSuMJDgezBlsFBkONgggAv3+PP19/Rj9pPwD/DL8iv2v/5gAYADs/3f/ZQBEAf8BggHkANQBtQQLCEML+w7PEb8VoBpsH6cjVibjJ2UoYiloKTYnRiMXHxsb3xdHFHoP+QnvBEgA9vzA+hj4tPSe8fruHO1j65LoHeZy4//hCuB53sbbJdjT1EPTEtJU0M/OYMwazFvKVcqAy53LPsxgy2vPvtZk3l/nnvD8+f8CUAviE/wcXyO8KAQsnS/8MYwxdS9FKz0mIiHtHFwYHBMMDd4INgX4AXUAif9S/uf8//rZ+ST5d/dL9cH0EffL+FH6M/1GAG8DzggfDy4WeR0fI+Ao9C7qM+k2mzgEOTE4/DUVM6ounif3H8AYxRIbDWUHPQId/fr3o/NX8KXtK+sr6P7lZ+Qn4vLfvN2524TattkM2UjZudjS2JbZPtr+2rnbj9xO3Tvdet2E3tbc7dwO22DZX9fE09DQ/9AP1RTameKb6e3ydfvqBK4O0Rj4IJUm5Su8Lr8xeDEoL08oJCNPHS4YURT6DzQMhAlvCKMHggrxCwYNywzVDQ0PGQ9lDe0K6gjuB+IIyQmfDPIOZRHoE0kYUx0qItwlUSjoKV4qaSktJTIgxxofFSMPSgl3A3P+7/mD9gb11/T/9WT2TffE+CX5QfhW9rHznvGF8GTuS+yp6U7nBebP5bDmbegg6h7rDewm7Wbuy+2e6z7oLOXu4JLbMdUgzz7JHMPovi67jbj7txa3ObiIv0PIi9bu54T3Uwj4GJ4mjDLsPP5D3EiHSrxJn0eFRRo+FTRrLI8l4x+fG6oXLhVzFBkSlBCzD0QNSQk5BY8B8P1u+E3x3Ool5izlC+fw6kbwcfcaANkJ1BObHEsk5inCLSIwzjFwMGYrOyRCHRkY/hL6DUgJ3gU0A+0BhgHuAacBHQDd/rr9HfyH+A3zgezV5pPi/d8J3kvdJt1h3hHhb+Pl5QXobukm6/rsi+2S7fDqP+c25A7hF97o2knXrNWn1dHWpths2Szb2dz73XrfWOCm4mfoDvAj+gMFug4yF9sdCyTsKa0t+S61Ljgv8i8VLsMp1COfHKsWnxIxD9gMywm+BuUFJgblBWwEvgK+AZ4BLgMlBPQCyAC7/9gArQSACdYNaxKRF2IdCyOTJ3IohyarI+kgxh0vGRQSdwmyAff75/gG9zb1DPQi9cX3a/vL/p0AjgD9/zj/4/21+9v2WPHu7F/qT+k46WzqI+3V8Af25/uhAFIEPwY4B48H5wa5A+v+O/n08p3so+Xu3k7Y59LyzrjMOMvHycXJ6snHyUTLB8z4yunJCsi+yFPO1tbx4cHwZv9fDnAeHyx+NwQ/gkLIRARH4UfzRrJCsztPM0ks/ybIITwdDBnRFdQUoBTTEqsOowfEAIz7lPfl8w7vMeqT5uTkn+Yd6xrw7fU9/T8G8g+nF2ocPx+UIBQhVSHFIFcfyBtdF4MTeRAsDS0JugUnA24BVP+i/D35hvU/8QPuauvf6STpKunA6pzt5PCC80/2SvkN/UcAXAJqAvUAVf52+lP2AfNW7+jrwOmd6ZnqSevl6rnpvui/55PmCeVB4+Tf+tud2MrWvdQ7007RadEw0xzWI9qS3cHicezr+TAKtRtwKw86N0WGTXRRVlGJS69Dvjx0OIM0Ii77Je4cXxWSD4YLVAcnA2X/A/4B/df7WvcC8OHnauKP4PjhD+QT5qbp6u4l9jD9UQMWCIAMvxDeFSUZ/RlsFwoTpw79C3gKPQmNBwMH3geHCJAHBgSq/3r6jPVb8cDu+ev96BPmVeWA5tXnCOno68LwSfej/W8CPQaCCOgJ8AraC3sMTgyuC0MMNg5kENYQNw+4DE0L2wk4CMoFtgK//gX6lPV+8a3sTOfO4qrgPuFK4r7jnOSe5OjkLuVl5YrmH+W842zi6eKr6NTxCv7WCk8XLSPPLj83AzsOOW0xhCa7HFUWmRFeDLQFTv8w+2j5FfjG9h31lvN982n1OPfQ9pTzu+5n6gTocedL6Ijq0+5z9ab8swJ4BlcIkwlfCu8KpAsRC44JFwiuBy8IJAiAB0YH5gdbCWULvwxtDNYJ5gXyAWX+Q/tg+SX62PwAAUIGZQvWDwwT5xWNGFIaKRu1GxocnhzsHAsc9hnYFsET1hGKEM0OIgxqCCgDp/0t+NbyXu2953PjbOFS4czhEeIA4gbic+FZ4a/gJuDP3o7d39x63OHbp9p+2YrZVNqu28jcnN054pbp+fNr/6AK6RPfG98hgyV2JQ0guRZVDpEJxQfsB8wI2Qh2CFoJIwqMCh8JSQYfA7kB/wCDAKv+C/sC97X0FfSp9JL2IPpQ/3cF8gsYETQUlBTiEzwT9xJBEmkR9BDgEYITzRSdFJwSUg9LDFcK6AhfBwQF6QHp/z//+v4Q/y3/5/9OAsMGqQtJECITIRQSFFETeBHDDo8LEQmvB/IGHQYSBO4AWf1L+rD3iPVJ8w7xau/K7pTuGO6w7IXq+ugV6OnnKOi55wjnsuXa407iUuDi3W/cU9zY3RDhxOQD6N/q/uzv7Qzur+xl6lHoZunD7nr3bgKWDQ0YqyHXKQMvuy/SK6YkKB0KGbwXfxdWF4IWvxUOFgQWJRQAECAKSgQeAHf9YPo/9jfxieyq6fjoNekC66PubvRn/D0EiwpNDlwPzw44DpANggwvC1UKtwpODAAOYA5gDe0LLAroCPwHigY4BcUDOAINAVYAVv8E/mz9Wv5FADUC0wMmBfYFVAWvA2sBOP9m/Uf8Hv1J/38BgQPvBOQFdAYVBpkESgJDAIX+M/0J/Lb6C/kA90r1ePSp9ML0V/TQ82TzS/N88vfvDO2I6THms+MZ4njh3uFy4j/jruU96M7pLupA6qnqJ+3H8nD66AN+DkYYsCEgKZQsuivTJScdNhWUEHYOnQ1JDgEQDhLeExQUHxIyDbMF0v4r+tz2CPQt8cHuVO3E7Ezthu5i8BfzGfef/PYBSgbaCBgJKAjEBocFaATfA2MERwYqCfoLJA4oDxcPVA3KCmUIBAaiBGoEHQVtBqMH1AcfCMEIcggYB1sFLQMkAe3/lP5K/aX7sPl6+Aj5zfrI/Jn+1v8qAbkCoANlAxgC+//g/a38Cf2Q/tP/ZQCpAPUA4gD7/yr+xvtq+bP32Pae9kv2APUc8wfxe+9x7jftNuyn66HrXuwq7ejsFeuJ6MHlSOT55oftKvaQAIkLahZ4IBwnRCijJD8dCBQwDVYKHQq+C4sOQRGuFPIWYBVjD5IG0fw69Gzuq+pO6N/m/eVs5pjozOq47GDvHPOO+Hf/AQYjC8ENcA0sC5oIfgWdAlMBeQFXA80GagqFDLgMzgqVB0kEGAGJ/lv9kP05/zECJgUCB0sIQAiOB9IGdAUtBLUDpQOBBHoG9AfYCB8KtwvQDVgQJhJrE5MUFxW5FLkTJxG1DesJpwZMBF4CBADm/Iz5ZPbF8xnxCu4867PpuulJ64ntOu9H71nuBu2K7Knr5enC5yvmZ+UV5ifn3OZy5TXinuCs47XpLvFB+twCoAtIFKoahhxBGVMRPQgfA5EBOwKiBJEHpgqaDvUQbQ/rCWUBUfi48bvuMO7V76Ty/PXl+oL/KAIIA0UD8QNDBWQHwAmGC9AMaA1EDdgMkgu+CfQIcAqVDQwRoxOuFF0U+BLUD5cLDQd+Aur//f+kAi4HKQtpDbEOGQ/yDR8LLAcNA24A0//cAIsDRAaeB48IowkRCowJ7wfGBSUESQM0As8AtP6Y+7/4r/YK9bbzL/Je8HHvp+/e7xvvYe3P6lboqebH5O7iCuGS3kjd6N0b34TgxuFn4sLjTuU85t7mzebG5mnqsvFN+vIEwA8lGYYi3illLGQrLiaoHaUX9BQ9Ex4UoxagGNEbyR6cHbcYzBAkBun8yPaZ8uHwJ/F58p/17Pni/LT9If14/Cb85fyY/h8AuAE8AwwF+gZRCFkIKQg7CTsLYQ0JD8APMw/6Da4LmAjfBLMA7fwa+177Sv3p/4oBbgIwAwYDYAHf/jP72/fN9Tn1efYg+YP7gv2W/3wB8AIGA+8BewCb/9X+Iv7e/X39E/3f/NX8//yf/HP72vqk+q76J/vm+jz64flO+Vj44PZJ9Ejx1O5W7WvsfuzE7ILsh+yu7O/rdOrE6Ffple109A3+oQhAEzkdMCW1KMEnDiLOGBYR+QyOCy0N5hCXFJ0ZRh6gHjkauhGtBUX6RPLr7DLqteky6p7s8fAT9Cj1i/R88vzwsfHs8/H2EPqi/Dz/NQK8BCgGxwa5BvMGswjPClEMugylCx0JSQY3A+n/fv0K/G38Hv80A/wG9wl7C2MLdwqaCMAFCQMpAVAAGwECAxkF1wYYCMUIJgkxCY4IrAcCB5IGbwZMBsQFxgRuA5cBlf93/Qv7m/iI9g71wfOg8j/x0+9v7rnso+qD6F/mU+Qr48TiyuIV4zLjFONn42jjjeWM6lLw//fcAfgLNBZKIDomuSdnJeYeUhj8FFoSOxFLE0QWWRpTHxAhXh2JFfsJif1q85/r9uWh40fkredW7YTyePUN9p/0yvIb8uPyDvU/+Fr8PQGoBiYL5w0gD78Oww1rDaANEg6DDswOuw4KDnsMvwmaBmkD8wD+/20A4wG2A0wF5gVmBbEDOwG1/uD8R/xI/db/lQMACNcLSA7gDrQN/gqPBywEIQEV/wX+y/1O/sr+Rv6J/Aj63/bQ80rxV+9U7p/tLu037U3tUux56ifoquXf46riTeJo4qLinOKT4kHibeJW5WvqSfEk+yYGjhGCHewm7ytjLGAnYx/RGToWyhPWFB4YcRy+Iu0nSiiAIxEZ2Ar+/XHz6+rd5QDkH+XV6RXwz/S89iz1qvGk7iXti+1y7xPyQPY5/LUCcAgHDP4Mkww0DJYMnw12DnsORA7BDQwNwAvrCCwFzAHM/4//zwAdAjYDGARABPADGgMgAfv+l/1w/Vf/tAJxBvkJ9AytDhcP0A3DCuYGvwIu/+b8tft1+877ZvzQ/Ob89Pu4+Rb3VvRg8czu6uxl69rqiuo16iHqnenz54rmCuVi41ri0uAA3/Ddxt1z4MbmLe5E9zYBBQvkFYwgXCadJ7MkDR4bGbYXfBa8FkIZ0BsmIRgo1yr3J2Ag2xNmB+T9qPXo7rLqvuis6inwYvX89/H2PfNr7wPtWezo7AjuufC09XP8RgN6CKkKxQqBCpYKGAu3C/wLgwxdDY8OSQ8mDosLLAj+BOwCGALNAZAC6wNmBZ4GzwYeBYoCOQA9/qj9pf5yAHQDVwe/CgcN/AydCuIGxwIZ/yP81/mZ+Ln44vlo+3f8Mfxn+g74aPWv8uLv7eyH6s3orucB50bmdOWD5AjjpOJp4ufgNt/H3QfcDN2b4jDphPEf/GkGRhFGHQklNyecJbcfUBnBF/MXRBhQG4AfpSSpK2EwcC6xJoYaxAy4AVT5TfJq7TfrdOyT8Fb1m/c39kPy9O3r6svpW+rF62PufPOK+kEBsAauCVkKdAqoCuoKlQsODKwMEA7KDwMRkhB5DnsLLggaBc4CFwETAPH/aQDFAKsApv+Y/cP7fvrf+Vz6FPzE/l4CZwbTCdELEwz6ClQJSAf6BOEC+AD5/+T/8P/n/7r+d/yh+bH2M/TG8bHvG+4U7f3sS+0C7ZjrGemV5t3jW+FF30LdJ9tn2VDaqd7F5PXswvbw/3UJ0xMAHL8g6iGkHSUYZRUxFJYULhd9GQ0c/CCiJdEmsCMwG4APLgWt/Tb4SfQG8lfxhvNl96r6BfsZ+IbzhO9v7UrtHe697wHzF/gn/pUDKwdhCB8JYgmeCY8K0wraCtkLMw2ADigP4A23C0MK0wiGB4AG0QRtA80CYgIXAiMBK/9z/QL9/v0GAHMCwARbBxUKJAxMDdQMrgryB4UF5gMtA7wCQAI6ApgCGQLIABT+3fl89W3xxu2g6lPoOeZe5YPl++Wb5WDks+Jy4V3gXN8E3h7bh9gr1xnZt95H5vfuvfh5A6cPzhpmIqskniG0G1sXXBWgFHQV4BbRGZcfgSUKKMUllh2rESsGLP3Z9b/wpO1/7VTxf/cT/c//qv7f+tb2q/Pj8VfxlPEo9Mn5fQBfB0kMVw65DmcO8A3tDcANoQ2bDoUQwBJyFFsUUxKYD4wMsQk/B+IE5ALDATYB5AAhAIP+Ovxc+mT5qvn7+qz8Cv8RAjgF0gcuCa8I5QZ+BPMBCACQ/jL93fxm/Yn+eP9d/yz+Cvwk+cv1H/It7p7qXede5SbkDOP84d7g5t+234fffN4l3YTbONnV2HHcE+HR5lXvp/h4AiIOQheKHNMejhyUGDAXOhb9FAsWwhhvHO8hsCbiJ1AlgB5EFSIMPQQp/Qn4LfWh9Zz4fPyT/7kAX/9t/Jf5DfeN9Wr1sfYz+m//MgRmCAQLPwslCusIcQefBjEHgQjdCjkOphAgEg0S7g/qDKgJGgaEAy8CPgFFAagBwgEXAa//Pf0d+5X5G/lT+rD87f+SA8UGDQnJCYAI5gWVAof/M/33+3/7JPxW/Qn+MP5e/Vv7pPiu9drytvAl7wDukO0z7THssOqf6DHmMuRx4mLhDOGz4NLgrOCs337f9uAe46DnW+479qX/qwl8Eq0Zvx0LHdYagRjSFcYUnhXHF4EbCyD/I0QmUyVNIIgYcQ/VBgYAh/tU+cv5//u+/hgB2QHeACf+Dvr89XLzgPLk89b3uvwqAR0FkgeCCIAIageqBa0EqAT4BScJuAxZD6EQKBAwDusLQwmDBigE4gJ5AgoDRwT9BLIECQPXAMP+c/37/GL9uv6sAEsD3QWSB8UHZwbzAy4B5f7//ML7TPt5+yv8B/0z/W/82/pH+LL1g/OK8QzwT+/B7qnuJu8378PuxO1R7KzqKemH5wXmkOTo4oPhN+D434/h6eP75wPuqfR5+1MDawo5D5wS1RJeEcMQlRASEKgRRBTkFv8aph5uIEQgyh1fGI8S0gw3B2MDTwGzAEkBfQKOA2UELASkApgAEP7A+9j6Cfun/BH/4QC0Aq0EMgZJByAIwgcKB1AH9Qd8CRcLegsSC4MKzgkTCVgIpQYABfsDdwPRAwAEXAMxAg0BCgCv/3H/6P4y/67/rwDIAbIC8wEBAdb/EP7w/E77cfpJ+X35cvkH+jP6rfkj+TD40vey9hn2PfUh9fP0HPUo9ZH0wfPK8uzxk/CC71juMO2Q7MHrv+oB6tzoXudu5vHlYeZI6MXrS/AP9f/6dgBaBf0JHQysDEkNiQ3IDXkPpRHVE+8WiBksGxQcFRs2GMAUohBsDFIJPgdpBsMGAwcOBxgHOQY7BRIE8wEMANn+ov3o/Zb/iQDEAdsCQgP8AyIFcwW+BSgGHQZiBlEHugevB0QHzQV0BEgDQAI3ASkBxgCBAYoB6wFPArIBaQGKACYA1/7t/r7+Hf/l//D/2P/R/4L//P6+/vD97/w5/P37tvtf/BL8kvt6+037efu7+yf8QPzY/N/8r/xb/Cb7i/lq92z1XfPW8dXwXfCb8PDwDvG48BHwnO7Z7FLroOmY6Anp6+pn7tzz3fj9/NoASANYBfUGHgejBTsFbwVOB6QLWQ6fD0MQSBAYECsQKw5zCp0HMAWGBbQHoQiTCPMHCAfhBuoGIQXzAh8BGgBgAb4DIgVcBjcHbwfOCKcJ2ggOCIEH5AaQBz0IjwfWBngFzAPrAu4BcADm/8X/2/8cAfIBeALiApEC3QFdAXoA7v8UABwAvAB2AdcBVQIvAz8DvAK/AVEAyf+o/3z/kP9u/23/5//XADIBlADk/5z+N/7m/ST9l/xV+3n6H/os+mb5z/f59Sz0f/Px8ifybPGE8BPwf/AQ8SHxtPA88MvvUPBG8a3xA/J98rDzX/Vz9gX3W/eA+ED6gvye/uf/GAGJAsEESgZYB/cGtgbiBtcHEQk1CQEJEQh0CF4IzgihCLYHGwfCBpAH9AdrCLcHvQe/CJAJswo6C+ELXQy6DD0M3gqWCHcFFAM7ARoAh/+Z/3IAVAJGBCgFPQUcBFIC4QDI/+H+v/6I/00B3gP4BUMH3gdVB/gFFgSYAUr/3P2N/Yr+x/+0AKgBsgKyA0YEGATaAl0BXwABABoA+f++/xf/yv7B/vn+v/7x/fr8VPxA/F37Cfvj+RL5rPh++Mf41fgo+WP5Afp4+kj6CfpH+Wr4E/jn9i72AfW+9Lb0BPWr9Qn28PYh9+H34vfx9233o/Yt9vn1VvYY93b48vkN/Bf+tP+nAGQBJgHgAFoABQAqAEsAdAG5AyoHQgn3CgwMFAxHDMULaQrqB0EFUAMrA4MEqQSJBEwEWwS8BR4H9wZRBZIDLwJqAi8DWwP9AvACtAPUBRAI8gjSCAsIbgctB9MGyQV5BDcDFAO1A5oEuQRxBPwDuQMxBBIEzgNwAzsDHAO+A1MEDgSmA9cCJwLEAUQBoAA3AJn/5v5q/lX++P2Y/SL9vfwy/V7+tP9cAA4BsQARAIb/qP4u/bH7H/pm+UD6RftC/In8cPxJ+yv69PjE94X2bfVB9fv1hPcY+fP5Fvq/+fX4evhp90L25/R+9GD1ofZj+K35Wfsw/Hb85PxO/WL9T/2I/c791f5B/xMA+P9GAIT/Ff/d/vn9uf6h/vX/hgAoAsAC3gP8BLYEvwSeA3oDHgOnA7QD0ASWBTEGmgehCDYJgQgbB1gFTgTAA0oDBwO9AsAC1QO0BLoFtQXIBJIDIQMXAz8DmgOxA5wEIgXRBQ0G3AV/BGoDKgI4ASgBKgGmAW0CwgN9BH4FkwVZBaQE+wNOA00DWwN7A0UERgSWBBkEpwNkAisBBQBz/4X/k/8fAHoAqQCNAFMAwv///uX9E/2X/Lz89fwp/Qb98Pyg/Aj8Gvv++UD5lPij+OP4jvkS+nH6s/qn+l765Pn7+Pv3OfeJ9vX1cPWD9ZD1gfXn9S323fYW92D3Cvik+Gb5XPlP+T755vnU+qv77fs0/Ln8QP7T//kAaAH8AKUBVgKrA/8D2wMAA4kCQwM2BIcFOAW0BCAEmwQfBUMFogTrAlwC4gFDA2wEmQXyBZgF9wW8BdEFNgT2AoIBjgA9AXgCrgQ7Bp4HfQgoCagJzAj1B1EGRwX5BEcFQgYyByQI2gf8B9EH/AbqBZcEmAMwA1kDZgOSA8UDQwPtArECHwLtAVcB2QDYAN8AhADc/4X/q/5X/k/+fv5y/+H/CwAEAP7/GP/l/W/8//oa+ov5y/ki+sf66/rq+mj6gflt+N/2Afag9df1a/Zk93L4W/nt+SH6KvoX+gT66/lo+sj6V/sE/Hj8y/y7/KX8dvzB/CP9lf0r/qb+ZP+Y/53/Iv9a/sL9Lf04/XL90f1Z/i7/vP/s/7D/Mf+G/t/9Vf3x/E79zf3y/uX/rwCCAbkBFgIIAjMCNAIKAoACLANfBEEF1wXqBVwFrwSZA84C/gGmARUC5wJBBGIFawYDB1MHvwafBaEE9AMFBIEEjAV6BmcH5QdGCBwINgf4BYUEzAOlA/UDiAQXBa4F/gW5BRgFywNXAhQBMADt/+D/y//K/+7/1P9E/1b+MP0L/Ej73fok+7L7R/zT/DT9mP2c/Sr9VPx++936kPqb+vr6f/v2+3z8BP16/aX9U/0b/Qf9Hf1Q/Xv95f1l/gn/Y/+c/4D/5f5O/sD9X/0v/ev8zfxA/eX9Rf6A/n/+ZP5g/ir+F/4k/iT+Qv6n/lD/1f8SADYAnADyAPsAyABFAAEAn/9O/9H+YP4K/uD9NP6C/uj+Bv8a/zL/Vf9S/yr/5/7a/uv+Xv8RAMcAeQHwAZ4CHgNGAxIDrwJVAioCMQLGAkcDrQPpA9QD8QPCA54DCANRAiECFwJnAo0CgwJaAgACyAGTATQBwQCDAJsAxQABAfsA0wDpAMgAoACUAHQAdAB1AJkAtwCtAHoACADo/6L/ff95/4f/vv/1/wYAHQBSABoAAgDU/7v/0f/w/9//8v8FAAkAFwAGAAEAzP/M/4z/n/+t/6T/tP++//P/CQBpALMACwFHAT0BQAFVATEB4wBiAAwA9v/L/6X/c/8y/9T+e/4U/sv9oP15/Vf9Vv1s/Yf9dv1b/Un9MP0r/UD9ev21/Qz+dP78/kT/Yf9d/1f/jP+x//P/EABKAJkA3QAcATQBCQHMAHwASQB9AJMA1QAGASgBVwF3AWABHAGjACYA1f+t/9L/1f/y/wgAMQBUAG0AUQAGAMb/a/85/wH/3/7c/vf+IP8v/x//BP/S/qP+iP5i/kj+OP5o/sb+LP+6//3/KABmAEUAIgACANz/pP+Y/9r/JwCoACsBlQHgAd0B3AGLATABBAESAWUBmgH/AU0CmQLAAq4CdAIKAqIBWAE9AVgBcgFpAXYBgAGbAWsBMwH1AJIAVgAbAAYA///w/+H/2P/e/7r/jP9z/1z/Uv9Z/2r/gf/B//P/DwAZABsAGQAEAP//5v+y/5z/sv/X////CAAdACsALgAgAAIA/v/H/4H/cf94/43/tP/O//T/AgAbACQACwD2/6//bP8m/+z+xf6g/q7+wf6y/pz+YP4q/s39d/0v/QT9CP0q/Wr9sf33/Uf+lP61/ub+7/4S/zb/Zf+v/9L/7////wIAEQAlAD8APQBVAHgAqgDoABEBNwFMAWUBbQGSAXQBYgFKARoBGQEQAR4BKQEtARcBDgH2AOMA1wCcAFoAGQAAAAUAHQAmABUAJAAgAAcA/f/W/5b/Zv82/zH/VP+B/97/CgAzAGwAdwB9AHAAQQAsACgAMABpALcAEQFaAYYBrwG9AawBjwFUAQwB2wDKAMoA1ADUAOEADQFOAYMBbQE/AScBCAHPAJsAUQAVAPr/6f/f/8X/kf80/wr/0P6R/lX+Bv6u/W/9Xv1R/XT9mv3S/Sv+ff60/gr/M/9E/23/e/+L/3//hf+S/5P/oP+d/6L/rf/J/+f/8f///wAAAAAAAAAAAAAAAAAAAAAAAAAAAAAAAAUAAwD//wEA/f/w/9n/sf+l/4v/jf+G/3T/d/95/4j/m/+a/5P/kv9+/3v/e/+K/5j/sP/Z/wAA9//+/wAABQAHAP3/AwD9/wUA/v8JAA8AHQBKAHIAhwCOAI8ApgCsAMwA1wDWAO4ADAFjAXUBkQGrAaMBqAGLAYABYwE2ASMBLQFEAVcBfAFyAUQBIQHrAJ4ATAD+/9n/sf+f/8L/x//R/9H/1P/O/7f/mf+Z/4j/fv+Z/6L/xP/P/9r/1f/e/9X/zf/c/97/7v8CAAIAAQAQAA0ACQADAAQA9//h/9H/xf+j/5H/cP9D/yH/Bf/i/sP+uf6P/qP+sP7I/sv+uv7A/qL+h/5X/jr+G/4F/iD+Uf56/sT++f4r/17/e/+B/3v/j/+Q/7b/2f/5//7/DwAyAEQAUQBGADEAIwA6AD0AYACLALkA5AADASIBKgEsAQMB7gD4APAA7QDlAOcA8wD4AA0BBQHuAPAABAEqAUYBYAFuAXQBaAE/ARkB8ACfAIAAcABLAFwAbABwAIEAjwCcAKcAoQCfAHEAVABfAGsAVgBSAHYAiQCeALsAwgCeAJQAagA/AC0AFQD3/+f/5v/5//7/BQAPAAAA///s/9v/h/8r/9P+mf6p/qf+wP7i/gX/LP81/zj/Hv/l/p/+WP4w/jP+TP57/tP+HP9s/6r/xv/T/7T/iv9s/17/e/+Z/9H/+v8JAFcAfAB+AHoAZwBLAFMAZQB1AJwAwwDtAC0BRAE0ARQB4QCjAHkAbABWAD4AKQA0ADIAKAAmABQAAAD7/wAACgAfAD4ASQBYAFEAKwAGAPz/2f+1/7b/zf/3/wEAKABGAGYAewBlAEsALAAGAAAA/f///wEAFAAmACwAMAAhABkACwD+/wAABQADABsALQBlAIUAnACXAIQAjACCAIIAagBdAEAALQAtACUAHwAOAA4ACwAPAA8AAAD4/9n/v/+r/6v/v//J/9H/6f/8/wAAAAD//wIA2v/N/7v/o/+g/5z/xv/d////DgAxAGgAcQCDAG8AbQBuAHYAlACpAM0A0wDhANsAwACGAEwANQANAAIABwAGAAUABwAAAAAA5v++/4//YP86/yr/Lf8T/xH/CP8D//v+4f7X/tj+0P7h/gz/G/8y/0//cv97/4P/hP9l/0j/Lv8k/xH/F/8j/0j/bf+N/5v/n/+5/6b/pf+P/4v/m/+v/9b/7P8DAAsAIgA7AEAANwAwACQAGgAbACMATgBrAHgAgwCAAGsAUAAzABQABQD+/wYALABgAJ0A0QDgAMoAiwB3AEgAMQA2ADIAagCSAK4AxADPANsA2ACpAHcATAA7AEkAmgDeACIBZQGEAZYBswGuAXoBRAHhAN8A6QAeAUwBXwFsAUEBGAHTAJAAJwD0/9r/5P8FAPr/DwAYAAEAAADx/7D/av8S/9T+v/7P/gX/Ff8s/yn/Mv84/zP/Pf8J/+r+vv6u/q7+t/60/pT+hv5l/kP+S/5s/nn+gv5r/mb+gv6O/pP+gv5h/k3+UP5U/nT+ov7l/hv/Vv+M/7X/3P/h/8v/rv+l/3j/nv+y/9r/9P/z/xEACAAXAAkAAAAAAPL/3v/+/xcAVgCdAJkAqgCLAIkAkQCaAK0AiwCjAKYA2gAAAfAA8wD5APoALgGBAdcBSQJ7AnwCbwIzAtgBiQFFAUIBaQGiAcwBAAItAjkCOgIRAq4BQwHdAJ4ApQDFANwA6gD4ANgAnwBzADAACQDq/5H/M/8e/03/d/+l/4v/Sf8I/9P+wv6i/n/+UP4s/jr+YP6O/qv+pf6f/qn+ev49/g3+5v3g/Rz+Y/6Y/tD+9f4y/zf/If/N/n/+Ov4E/vX9D/5o/ub+Qv9h/1j/IP/2/p3+ef4k/iH+Gv5t/vr+Xf/l/+3/CQDP/4T/LP83/2T/rv/W//X/OQBrAL8A7ABeAU4B/wCkAJgAtQCrANQA7gA5AScBIAFQAa4B/QHpAcQBfgGRAYABpQHSAcIBfQE8AWYBkgGzAXcBngHIAdABowFyAY4BbAF7AVABWAFpATQBQQF/AcUBlQFIAewAsQCEAFwAMwBAAG8ATQByAKkA6AC8AGgAIgDh/6r/Zf+K/7L/5v/i/+r/FAAiAA0Apv9Q/+7+5f7//gn/Bv/b/qr+1/4//1X/E/+U/nX+cf6A/pX+w/7+/sP+rP6K/pP+kv5C/kH+7v3Q/bH96/1L/pf+nv4b/tj9pf3z/Sr+Y/6I/o3+rP7C/tb+p/5y/kD+Nv5X/pn+Mf+v////BwAvADsADQDz/+r//v8RAEUAhwDeAA4BVwFtAYQBYQFAASYBLwGWAdEBKQJdAkoCIQIFAgcC4wGMATgBQAGWAfcBIwL3AfMBiwGTAWgBOwEUAeMANwFWAbQBngGQAYUBYQEXAc0AfAA3ADUAcwDjABgB+gCpAKIApgDKAKgARwD6/+j/9v8UAH0AlwBkAPP/j/9F/zX/Sv8q//z+uP66/v3+Of9f/zX/zP5k/iv+cv7L/if/Ff+6/l3+Qv5n/mb+Yf72/b39qf0K/oP+5P6k/nL+lf7N/hX/zP6z/pL+lP6e/s/+Bv+Q/w0AQgAtAOP/4/9NAMAA0AA4AOj/AgBxAGEBkgEuAYEAaQB4AK0AyQDaAOcAFgE8AWkBiwFMASMB4ADXAFEABAA+AAYBpAHbAWgBCQHtAK4ApwBUAGMAHQBjACoB1AEZAsQBagEOAacAJwDY/9X/AAAPAHYA3QArAW8BNAHaAGoAEwD9/+//CQDw/+f/AgBOAHIAQQDu/5j/nf/a//f/vv+H//3+DP+X/9//xv8l/x7/dP/k/xYAl/9N/8z+kf5+/nn+qv6e/v7+QP96/4v/ff+A/4n/Of+R/if+AP4p/qn+Vf+r/4n/XP9V/63/AgDw/9H/pP+t/9n/OACYAJEAUAAOABgAMAAkAAcAMAB2AG8AswD/ACUBFAHTALgAjQBwAF0AjACIAEUALABrANYArwBgAAoAEgApAA4APQAcAAYA6P8GAHwAlwBfADUAJgAcABMARwBUACYAy/9l/7D/MwCiAKYAdQBVAHcAowDSAJkALgDh/8f/1v/8/ygAFwAZAPf/u/+S/9L/CADo/6f/NP8z/8b//v8AAHj/P/9H/4//6/+2/3P/Ov9t/8P////7/9//5v8AALf/af8e/wv/Fv8i/yP/If+U////+/8KAMr/kf/a/wUAHQC5/1P/hP8qAAYB+QBHAM//hv/Q/wIA/P/T/+b/IACMAAYB+gDTAJAAewAiAPn/+/8YAOQAMAG5ABQA6P8FAAIA+P+2/6T/7P89AKkAkwAyAA4A/f8AAJz/CP9j/0QAsAD3AHAAFwDf/8H/4//E/wYA0f/R/y8AhgAQAT0B5gAWAFT/TP+f/zUAagCwAFwAZQC2ACIBYwF4AFT/m/5t//H/YgBDACsAIQAOAAYACAAKAL7/c/+K/8j/ov/5/wMAQQCo/wj/of4O/17/I/8+/1z/rv+P/8T/fP9D/yD/O/8//1H/nf/S/8X/Zf8I/8r+Mf8a/zL/7/79/kj/sv9SAAYAzP8q/1f/f/+b/wwAGAArAAYAJgBWAF4ALwDt/9P/vP+W/xIA+wAlAbUALgA3ADAAJgAsANL/9v/6/2kA9gD4AKQAWgCuAIEAHgD0//b/TQDEADABHQGyAHUAnwAiASoBagAYAFUAywDcADgBkwE3AeUArgAdAQ0BxAA+AOb/KADY/zIA0AACAUEAi//G/yoAYwBEAMT/Rv9K/1H/5/9CAEYAlP9R/3T/Lv8//3D/vP++/z3/6/5I/9j/AQBC//T+x/6v/rD+yv4e/4L/WP8p/2X/tP+3/0v/Qv8H//T+xP7k/jT/q/8SACIAJgDQ/5v/qv/o/9n/df94/7X/WgDMAOwA2wA1AAcA9//o/7P/cP+C/9z/gwDTAIsApgCiAHIAXAAmAPD/ov/b/+T/NwCiAMAACAFEAZQACgAPAJ8A6QAyABcA5v9FANEAlAGwAQgBWgAYAKEA6gDCAHMAcgA7ABYAJgAIASkBoQA7ACgApwCMALQAhQCmAIkAUgC5AKEAnwBEADkAVABcADAAAgAGAAsA9f/y/9//nv/l/wAAVAApAMv/Vv9R/5j/m/8h/2X+mf4J/4v/3/8NAMv/gv/x/vj+O/+Q/2n/Nf9b/zv/bP+4/yQABQDF/8v+pf7y/m7/tv/U/+P/P/9X/63/GgAEAIr/tf4k/nn+3/5c/6z/jf8T/wb/0P8UABMA4/8o/+T+AP9p/1gAcwAZAAUARACgAHoAggAiAAMAuP9Q/93/CwB8ALYAowB5AAcAqAB4AE4Avf/j/mb/3//LAKgAhQBDAFUA3gDGAJYAEwABAO//BQBPAOYAZAHmAZ0B1QBqAFoAjwBVAAcAe/9e//z/sQBdAbkBegFFAS4B+QBpAAIA7//o/+r/9f8oAI0AiAFOAekAfwAZABkAp/+E/yf/0P8yAPcA4QCXAHsAKADGAMb/5f7k/db+qf82ACcAvf9jAFsAwwBhAEsAf/8R/6b+0f47/5f/DAD1/+b/2v7Y/iv/4v9X/6z+O/5g/jz/SP9o/9r+yv6M/kH/g/91/27/fP/Y/3D/KP8e/xX/Gf+A/4z/3f/A/2L/gP/A/73/af86/4T/jP+z/8j/dQCdAB4AiP8//5L/ov8eAEUAxwBgADgAcwAcAQ8BWwAOAKz/GgCnAIsB8QEOAogBBQEMARYBCQGnAJsA8wC6AdYBqAEMAtABaQFDAMH/7P9SAHAAdQD2AAUBXAFNAegANwDr//P/7f8QACEApgCuAdMBFQEsAP3/FgBAAEoAKgCe/+3/ywC4Ad8BigDo/7L/9v90/7//pP9W/z//kf9NACkA1P+m/kr+gP5f/sb+d/9p/y7///71/ij/c/95/wb/Vv71/Wb+vv/2/7H/Ff80/1D/7v6E/27/iv/l/nb/wv/c/6v/YP+X/1f//f7D/sT/CQD8/6b/7v/v//v/+v/z/8v/1v+l/5f/LgAuAGgABAALAL3/AABOAIUAbgA8AO3/BADcAOYAkwD4/wkAAACpAKoAlwC0ALEAbQD1/wQAAgCVAPEA5gBoAH4AQQBSAKAAqQC6ADgAUQCzAFIBswGtAXoBuQBaABAAlgDlAM0AogBRADgBLAFLAfEAPwAhAN7/8P/7/w4A8f8jAGEAtAB6AA8A8v+z/1//Lv9S/87//v/q/+n/s//R/+n/0P+h/x7/jP4p/+//5v8pAOT/If8t/8D/EADE/1D/4/4u/9//+f/k/xIA4/9N/2//tP94/5r/zP97/3b/Xv+E/5z/vP8g/+P+QP8y/x7/BP8i/x7/2f/+//P/Wv83/4n/t/8EANH/x/9U/5f/KAB6AGsA/f/F/+H/+v9y/7P/DQAIAB8AHQBEAAoAcgBHAIEAOQDw//X/SgADAdAAdgE2AQcBgQCGAN4A+wDxAFsARQBfAOYAPwGlAZAB2gBbAB0AlQDiANwAWwDn/2MACQGPAdgAPwDQ/xAAkQDBADUAw/+7/xUAiwCEAGgABgC+/zz/uf8mAKUABwCj/3r/Zf+3//7/4/83/+P+AP/0/2YAYAAGAB8A0/9R/27/nP8p/+7+FP+i//X/2v8UAFEATgB4//D+3f73/jL/Af/N/kv/tv/z/yEAAAB4//P+tf60/vT+xP61/gb/qf/p//7/NQBoAHsAef+n/o3+kP8AAOX/5v/d/xcAQwBCATgBcQCX/3//DQBMAD8ALgDSAPcA/AAlAUcB4QAJAPz/6f/Y/ykAHgD2/04ApwD+ABgBigDn/8//EAA/ADsAFgAfABEA0wAJAZ8AtABfAAEACwA/AKMAuACdADEA+/89ALEAewDu/6D/CP81AGMAPwD6//7/o/+U/xoA4////zj/AAD7/ysApP9v/73/Sv9W/y//AwAiAGAAWQDZAMAAMQA0ALH/mv4I/gX/GAAHAYEAJwBeAJ8AbAADAIT/e/43/rH+2f/X/+///v+CAMEACABY//j+Gf8A/3H/bf/4/wUAswA6AeMAhwBVAFYARAAXAL//SQBWABABDwHvALEApgCwAI4AMQDN/w8A7P82AC0ANAAQAFsAfACFACgA5//C/4n/5/+j/73///8FAAUA2gCsACoAiwBDALL/DP8y/1r/sP+k/5r/AgBwADIA8/86AI3/1P5H/wcA5/+Q//n+XP/t/5UA4QCDAHX/mv5C/2wA0wAYAM//j/8OAIwAvgA2AEn/HP+C/7T/1f8NANn/EgADAOL/l/+7/+P/AQARAAAAzf/A/3MANQBWANf/Uf+l/+T/XQBlADgA7f9HACMAPgBaANj/lv9c/4f///9RAA4AFAD6/w4AIwBVAO//tv/O/4P/f/+s/8UANAFjAcIAIQDy/9D/8P+AAFsAUP9L/7z/pgDyAN8AtAB1ALH/uf9sAEsABwDJ/7j/DwBYAPv/JQAsABUAVgBIALv/x/8cACgATgBWACsA5P/M/8//UgCxAFAAwP/m/6L/df+v/8j/lv+H/93/YgClACQA1/9S/6P+IP7S/kn/Yf8c/0P/gAC6AOMAqQA5AG7/Yv9y/2b/DwC0/0EAvABlAO//cwBIAZcAjP97/rP+eP8nADcAKAArANn/IACCAEUAVf8c/7/+wf4z/7P/9/9EAKMAgwDPAEQA1/+0/9X/dP8O/5X/tP9MACMBugFGAVEA0f+E//P/AQCs/9j/xP+v/w8ABwF0AfcAgADR/+z+tv5P/1wAyQAEAIP/v/98AKwA1ADVAAoAFP9W//7/1v/6/7b/DwBJADoACAF4AVIBZwDK/9b/1//j/+v/nv+C/0IAMAFjAQQBhgD3/wwA2//X/9H/O/9Y/6r/jgBnADsAdAAHALD/p/4D/1r/DwCB/8z+If92/zABVgEnATr/xf5I/0YAhAC//3f/5P4vAHsAOQG8ACAA0P/W/xwA1f+L/1v/ov9r/3r/zv86AFUAyv9k/6n/HQByAEoAg//h/kL/4P8bAXsAnv/B/hP/egBpADkAof+a/8P/EgA1AKQAVACt/yT/Rv8RAAgATQCrAGQA9P9rAJsAfgA0AKL/4//X//X/RwACAXoBygCwAJQAPQD5/6L/yP+q//v/WwAdAXQB4gAxAOX/HACY/93/uv9x/07/xf8OAEsAHwB1/7n/3P/K/6r/CwB1AJ0ALQDr/47/gP+X/9z/EgAUALr/QwCXAMIA6AAzAMb/W/+Q/23/EADx/1YApgDiAJYAhgCJAOf/g//W/iH/F/9T/1L/zP/S/3wA2gDoAHUAlf8//zT/OP9K//H+oP5v/7n/7QAyAdMAAAAgAAYAMwA9AC7/y/4B/1EA/AAFATsA//8hAGIAxf9E/2f/P/9O/6L/IgAoAB8ALgCP/zX/bv8CAH4A/P8H/8/+NAALAe4AIACt/8b/PQDFAAkBkACw/5P/7f9hAGMAHADA/+D/WACCAKEAKQC//43/dP+6/5//uf9o/+j/iQCiAH4AJwDW/+3/JgD3/wAA2f85ALgA7QB9AGYAaADCAIMAAQDn/77/QABAAKwAAQDv/97/TQDOADYA6f8y/9z/MgDkAIcAHgDv/+r/ewDeACEBMgAFAA4AnACTAH8AcQBdAG0An/+D//H/CwDk/1v/Nv+W/1IASgDM/y//1/5Y/4v/AwD4/qP+sv7V/+MAsgAsAOv++/5M/ysAVACX/5D+j/7p/6oAKwFhAJz/lP98/yYAEwAdAPn+Jv9S//D/XACeAOMA4P+c/8b+CgDk//v/ff/I/yMAhgBHAcUAlwDq//L/v////5D/DQAqAAgAgACHAMAAdQCFAEYAAACP/yr/MgCHALEAaABYAAEAmwCIAVIBLgGe/0H/8f/xADUBCwEgAHv/i/+RAPsB4QG0AE7/ev/j/7sAowA+AND/vf57/zYB5AH4AJ//sf5F/zsAbgAPAJL/Iv8s/5EAowGFAKX/lf+K/7T/h//K//7/+P8W/z3/DgB8AGEA1/8p/8X9Tv1W/qP/6f/E/77/EABqAGoACgCN/0T+XP0S/ob/8/8UAJIAoQCtAKUAIACS/9f+dv76/lD/8f/3/wQBGgGnAPAAlAAtAIP/e/8x/1X/qP9VANUAeAANAEEAcwDFAL0APQBCADv/0/7C/3oAYAAKAAYAz/9DAMwASgHvAFIASP/h/rX/pv8RAOH/WABzALsAuQDtAAIBSQB9/9D+Z/9T/w0ASgBHAbkB6gB5AFwA0v8Z/+X+2/6Z/3L/rf+RAOIAHgGWAMUAQgBE/w//Hv8QAJoA1ABsAJEAdQDgAN0ATwCI/xT/Q/+t/yoACgBLAF4ATAAEALn/k/6P/vL+qP+2/0L/RP8dAMIAPwAAAEn/Hv+v/jX/5P9KAFoAIABWAAgAQgDd/8H/Fv95/gX/vf/iACMB6wB8ABMAgf/P/9T+y/6u/8P/xP///5cADAGHARMAFP9v/gf+X/7E/3gADwDh/4kA/wBbATEBDwDN/jr+dv6e//IAyACXAMwA3ABwAGcAbAA4AGT/mP7s/S3/eQBQAfgA5/+M/2L/ggCtAMz/ef7z/fP+cwD7ALQAYwBsAOsABwGuAGgAgwCyABsA//8QABABCALdAfAA+/8GAG8ARwG8APr/aP+f/58AgQCSAPP/rf9r/0X/1v8bAEsAx//s/3z/zP++/83/m//f/kP+xv5DAMAANwEIACYATwCFABEA1v/3/qv+Vf8lAP4AMQAVAFMAGQGjAJf/J/+a/xX/G/9q/8//2P+U/wAAlwBsAHb/f/7M/iL/U/8RADkA+f9u/+T/UgC9AOn/Vf8L/07/9v7Z/w8B0QAqAIr/hAAUAb4ADADn/6P/Nv/m/6kA4wBPADYAkwAAAOD/NP/K/w0Atv++/1EAIwAlAPQAagBhAK3/pv/9/0AAqgDCACUB0QAuAPv/YwAGACAAawAUABIA4f9gAIwA4gA+AN3/0//O/9L/MwDRAOP/o//Z//UAFwFtABn/4P6C//T/XwD4/3X/E/9uADUBpAAhAN//1P+H/y3/CgDMAIEA/f92AIIAoQDHANsAmQBB/5T+p//jAKYAcwAYAWYBUwAwAIgAcADU/+n+tP48/zn/hP85ALUAxQA1ANb/BADE//P/of9n/gj+t/4nANgAigALABoA9/8vAFP/QP/b/qv+I/9I/+H/LAD3ANEAqQDZ/6//vf+e/y3/yv5W/+T/IAAXAKAAmgBbAMH/ff/x//n/zf8f/xf/DwB7ACQBWAHCAIgAngAgADoA3v/j/7v/e/8+AHIABgHBADQA7f8cAM7/ef/n/lD+4/7B/67/Xf9B/7X/XgDCAGMA0P9Z/57+PP/C/2kALwADAD4AgAC2AFMBlwEBAcz/9v6r/xgAZwHAAdQA/f8TAAYB2wHLADv/ev7y/uz/ZQAyAeoAOQAZAKAAZQB7//T+yP7r/jr/9P8+ASUBfgD5/+j/qf+L/y//fv8R/wL/tQB4APoAdAAaAEAAdP91/+r/k/9c/5f/CABpAGIAkADKAAEAf/+9/9X/pf87/5H/jv8F/y7/z/8lALL/L/+Z/7P/i/8G//D/DwArAL0AlwCgAKsAYwBNAEsAzv/3/+n/GwAYAMwA8ACBABkAZAC3/1X/A/8G/33/yf9DAOT/EgCb/xQApv9t/4P+e/5q/xEASACsAOcA2gAhAZwASADo/3wAGwCqADYAvwD6AK8AAwBo/67/Xv/G/xYAngBtAA8AQgDdAFsAx/+A/6H/6f6L/10AGAGwAJAArQB+ACUAjv9aAE4A0f5+/hEAtQDWAe0A5ACg/xT/wf9BANz/1P6Y/of/egCp/xgAn//8/0v/pf+V/5j/BwBtAHoA5P/P/8X/mAA/AK3/T/8jAHUAvQC3AHEA5P9Y/2f/Xv/Y/4L/vv8IAE8AfQCQAEAAyf+E/9L+Xf+Z//T/FwDo/00ARwH2AJgAIwAx/0H/Cf/J/xsAIAACABcAmADnADAA0/+o/wX/Jf+I/1f/Uf/j/ysAMwD2/3P/Kf8kAGAAFgD1/xEA4P8fAL8AswBIACn/7v57/xcAgACaAOgAZgBs/87/XwBLAK3/Uf4n/zsAWgBxARUBsQCsACcABgAVANv+2P5S/7T/WgCl/7H/YgCzAP4AcwD8//H/sf6t/oz/BAAoALv/ev/n/w4ABgF3AfYAo/82/yv/m/9jAAsAcf/c/sj/gACsAQIBXgCZ/+7+jf6i/o7/6/8OABMAzADmAKsBkgHZAOz/2f4Q/m3+tv+YANAAzwDAAWkBCwEwAS0BkwDF/k7+0P5RAIwA+/84AEMAegDk/5kADwAv/2z/KP95/+z/GQAJAFoASQBcAKsASgDG/3L/Dv9G/7L/LwDP/97/PgCSAEUBDwFlANr/Kf/A/mH/2v/z/0r/tv5n/5gAiwFkAS0AJf93/2sAMQAHAGL/eP/r/3MAZADEAJoAOQBgAKn/p//T/pv/tP8AAHz/Hf/q/4sAxwAAANz/9v7X/v/+oP/a/6H/Jf9j/ycAkQC1AAsAnv/5/uv+t/+sAEoAwP+B/0kAAwECAcEAuP9G/x//8//cAFAA8/8uAJ8AtQAsACEAGwBP/+D+EwCZAJ4AeADpANEAJgDm/y4ARQCG//L+3/6r/y8A0QATARUAb/8nABoApQB5AL7/O/9f/zMAwgAxAMX/HQCVAH4ARv8CAE4A3/+L//D/AQAaAAYAlADiAB4AoP/s/4wApv8+/3v/MgCaAPwAtAB9AKD/l/+EAJ0A5v/S/jz/FwCyAPgA1gAQAOr/8f8ZABcAxP/n/8P/Xv+p/+z/KABCAFAAoACTAGkAdQBwAAcAD/8//hL/W/9g/9D/BwChANUAZwA0ABMAbP9d/gz+1v4qADsBvQBaABAAiABAADAAIQDU/lH+9/6LAMIBlQGAAI4BBQHyAIwAkABLAPH+9f4F/yYA3f8kAHkAuwDg/8n/+P/U/z//Uf7b/mn+lf5R/6AAzgDNAOEAxwA0AD7/DP/7/oj/Mf+f/+b/TQBdAbsCnwIcATwAXf/+/0wAAwAR/5D+LP/yAPcBxQGTAWIAJQDo/5P/U//9/sn+ev/h/38AEwHUAMYAYgDO/63/zf/Y/6X/O/8h/yH/GgA6AE0AUAD9APcAmgBHAJv/AADp/wX/eP4r/6b/NwDeAEgA/v8SAJv/w/9N/07/V/+d/xEAs/9d/7r/AwAqAPf/Ov6A/fb+9P/QALUAxv/j/tf+2f/jAMAAM//O/vP++ADkAZsCCQLv/2H+Qv4a/xIAPAAa/6b/Xv/OAGQBNgFLAHb/7P4p/of+Jv++ADAA4f/I/3QAyADCAFYA6f+L/oL9sP6C/0oABwBVALkAHwHTAAYBXAD7/8j/EQBVAAQAQQDYAIMB7QAKAcEAewAaAEkBogCb/y//lP94AEcARAAaAK8A7wAOAKH/q/9m/xEA6v/b/1b/2v9KAAwB2wBQAPz/5/9OAPX/JQCq/2oAzAAkAVoAKgC+AJYAVQAU/xX+SP6M/ycATADb/9D/1v///1oAzv9x/3P+ff4V/1H/zP9IAHQAHAAiAM7/AQAxAH///f5v/+7/+P+oAJgAzP+//xwA0v8jAHj/JP+0//7/lQDXAD8BFwA8AD4AbgCb/yH/yf4V//n/w/9xAHEA4gAkAKH/Qv/O//3/4//j////5v9HAEEBoAFOAcD/I//+/lH/Kv+S/4QAdgAzAEYAIgHkAZMBjwCe/0v/Hf/i/yIBEgGfAIoAgAFEAlEBMQBC//P+tv7Y/1YACgADADwA1gCLAGcAVADY/zf/3P/1/w8AI/+5/6QAXQA3ABkAHQADAMz/owCjASYAjf80/7r/HgBMAU0Bxf/L/jz/3QAPAiQBUf+V/uD9uv4YAI0AOQAYAPP/4QDwABYBDwDb/gP+rf35/v3/DAEAAaIAfwDsAKsAWADu/n79Ef6K/7EAnAGQARIB2gA2ANv/1f9F/+j9Q/2S/koA9ACPACIAogA8ADP/Ov/J/1T/Sf/4//wAogGNAKMADgFEAKL/Jf+JADIAtP8GALQAZwGkAOL/Sf/j/x4A9/90/w7/N/9LAKsAVAAgAOf/wf86ALkA2gAXAKL/i/+y/zQAtQA1AXwAbv91/28AaAGtAXsA1v9V//7/AwFBAWsANP+8/oL/pQAxALz/sv+0/33/5f/Y/8D+Sv5m/r3/tADN/9j+F/9BACoAYAA3AKb/YP+G/zUAbgBqAJEAngHzAJf/ff+DAAEBlwCS/2D/sv88AGgAOQAOAIL+mv4K/5D/Cf8t/+L/vP/+//7/hwBjAIz/N/7s/T/+SP+tAKMAFgCL/2sAmQFQAWoA7P4H/sr+qf/NASkCXgH7AD0AfAAYAKwAp/+E/h7+k/4KAEMBqwGhAPD/t//k/yMAQAA+//n+8f5i/3UA5ABDAdMAOABGAAQB2QFUAej/eP8eALQAmwBu/3//0v8dAC4BRAGmAMT/tP+3/5L/j/6j/qT/PwA5ABIAuQD5AIQA7f88//b+/f6z/m//wf9ZABAAzQBcAb8Ayf8Y/0r/0P48/87/3gCqABoA3AB9AuwBkABw/9j+tv72/jIAWQD3/7D/+v8XAIf/KP91/2z/Z/4+/dn99v5SAEUAiADS/tj9Wv/kAB0CIAD9/lj+h/+/AOkAnACF/wb/pP+UAVMC+QGGAAIADQAMAAQAMf/M/t/+qv9uABgCJAKgAbIA1f+r/5T+ff7g/oz/QADDALEB+AF0ATUBgwDS/7D+V/4z/jT/FQCIACkBGAFkAO7/8//1/8b/J/9K/4T/ov8r/+T/EwBoAPj/ff/g/wYAJABTALgA8/+m/3r/k/+n//f/ewAPAYkADwCbANQAWwAmANX/0P68/g//3/9IAEMAdACNAO//hP+Q/7f/EP/5/tj+If84AFsATQB8/53/GgACATYAcv/J/xAA6v+0//n/0f/X/zMALQGCAQsBMAARADAA5f8o/1b/Av/T/pL/zQAxATEBXAFYALr/bf+C/5j/NP9o/qD+HAALAQsCUQKUAAn/t/7D/zYAg//j/n//6v/wAJYBAAKeAbD/wf5v/sn+OP8fANv/9v9U/7n/3QBqAecA9P6L/g3/uv8yAPn/Qv/J/6P/qP8/AEsAjv+S/wEA9f+H/wz/3v7N/0sAQwDuAAQB+QD5AIEBhwALAC//7/6A/8P/jAB2AA0Aof/B/x8AJwAAAPn/7/8X/3f/ogA9AXcB6P+Q//P+AP+B/4n/5/7G/oH/4QDNAaIAHwDV/oX+Cf+u/53/8P/L/2cANAG1ASoCoAB5/3L+7P7n/0oAcQCPAAgAmADzAZwBmwCU/8n+uf7b/j//oQAhAHb/6/+IAOYADgDX/2//q/7Y/vr/2wClAPX/CQDWANMAuP92/0D/6P7l/gj/WAAwAesAbAB9AGoA6//S/5L/5f5e/pz+NABYAY4A2f83ABgA5P/s/8f/g/8a/4z/owBnARkBOgApAKj/k//T/+3/5/97/8H/CQBLADoAuf85/7P/SgCQAC8AAAAEAAAA5v+x/+D/8//D/zEACgG0AGQAhgAEACz/bP7c/hEAowAvAOX/wgCPALMA3wBFAKn/dP+i/0IAlgBEAFwAyQALATIBsAA4ABcAof82AEAAFwBz/+b/yQAKAX8AwP+w/03/wP/j/9QAHwBe/7b/6v8mALr/yv/S/z4Akv++/ykA/wDlAEsASQDT/nr////fABgBSgDv/4YAAwF9AKUAa/+z/p3+e/9ZADAA8P/Z/ycAiwDEAFYAov93/rj+0v9qAOMAdAA1AHgALwB0AKsARgCn/6H/xP/z/zcAdwBuAI7/9/7C/h4A7gCEAL7/Y/82/93+sv97/4T+AP6J/mYAhAFQAbcAZQD//0YAEQBEAHkAkv90/4X/jQDRAXMCtgHNAOn/jv+5/5AAPACH/+j/PADmAL4AAwHRAIQAXf8t/53/pv/X/5gA8ADn/8j/3v8YABAAj/+D/4T/M/9C/+X/gwBQAOv/I//3/mb/egCiABIArf8u/8T/QQD/ANMA2/9X/0gAIAEFAYEA1v/O/27/2f5p/x4AIwAoAGgA2QAJAJr/4/8UALP/8/7l/r3/EgAHAKsATQDV/yr/Jv/p/+f/3/8DAOX/lf+O/8T/MwB6/yD/lP8HAEcAfADsAJcAkv+e/kv/o//R//r/FgDZ/7r/8f+NAKUAk/8s/1n/HP83/8oAkAEtARUAuf8WAMQA3QDGACcAXP9S/6MAogHgAXYBBQCZ/1v/xv9IABAAW/+//wAAFQB0ACEB0QAIAL3+Kf6F/+n/AgATAKr/5f6r/6QAXwCR/xD/Gf9s/5b/Tv/1/6v/N//3/xAA7/8BAFsAdwBZAJn/vv8LAAYAIAD4/1H/LP8eAL0AAgERAbQA5v84ADAAQwDT//D+lf9iAF4AMAC9ANwA8gDCAJwAUAB+/1f/l/84AMD//P9WAJ8A3wANAQEBgAALABX/Ff/Y/j3/tP/y/7n/OQArAVEBoADi/+f/UP+Y/qj+L/8UAGkACgFhAbcAhgBPALoA/f/V/i7+CP8HAPAAGAGnAGIAFAB1AGsAngByAKn/rf6w/h//8/8MAFQAtQCiAJ4AYQBQAJX/y/49/u39Bv9XAMIA1wC/AGgAFwDm/yj/C/+Q/q3+Vf8YAEUATACXAAAAZP/W/oT+0v6i/5f/MQBKAOEAeAGgAaQA2f5S/nX+qv8AAHgAbgDXANYAxQDaABoAt//v/iP/qf9rANEAMAH2AE8AMQAbACQAAgDV/5D/s/+H//f/DgCpAFIBdQDe/8f/+v9rAGMA1P9x/2b/7f/l/wMA/f8gAHkAfADR/1YAwAB0AFcAuP9K/xf/2/8dAJgAzP9q//f/KQBBAKMApwC1/4z/eP+BAJEA9f9i/z//GgD6/xIA6f8zALT/S/8w/2P/uv9l//f/wP/e/4r//v/DAOoAJwC4/+D/6f+n/6L/EgD//wAA+//NACEBgAGVAIv/H//Y/vf+OP/N/yYA5f8DAJ4AZQHPAJL/V/8+/wv/w/6t/2oAKgGdALcAFAF4APH/nP9L/xD+jP1Z/iEAfwD2AC4BXAE3AS4A4f9S/03+T/6f//X/NAAxAMMA3wCeAEwAxv/s/mr+a/8OAKYAawA/ADwARwBaAJEAf/9T/u3+BwBKAOj/YwDAAPgAygCIAJgACABM/7b/YwAUAD8AuABnAEgAhQD0AN4ASACR/37/7P8CAEcAewCQ/zL/CgDFAC0BSAB5/xb/EP9g/+b/2v/1/j7/XQBEASoBcQBXAJQAVADu/xoADADX/+P/AgD2/yEAxwCzADkAAAC4//H/BgAAAFQA+P9L/0H/z/+p/wMAPgD1//b+Jv5E/94AyABI/2r+Yv6//zoBogFfAAv/EP9OAKgBjQFIAGb/Cv9V/0IAsQAoAHv/mv9HAFoAngDdACoAV/8s/x4AFwHKAAMAdgAcAPz/EQA/AMD/k/4t/pT+sf9jAMcArwBdAGAAdwBFAJf/mv6I/q/+Y/8XAF0AeQBPACQAAAA4/wf/gP+e/17/eP9PALoA6QAkAT0BNACM/6T/AwDD//X+P//w/8kAIwFCATMAUv+w/2MA1wDt/yT/j/8OAOr/1gCeAGoA8/+u/9z/DAA7AD0AmgAdAMD/AwD/AMEA2/8e/5//HADPAJsATwDm/0H/tP+mACcBPgA1/+D/5ADQAF8A0//P/6j/4/+6/6IAdACD/0f/Nv98/97/TwDs/37/Y/++/44AGAGIAKz/Dv88/8T/CAD7/5//eP+p/7EApQEpAagA0P8E/yz/i/8gAFUADAAHAJQAKgGwASwB0/+5/lD+Mf/K/08As/8y/8D/VAAQAaoA4P/n/qb+7v6n/xcACQD1/+r/AgCLAGwAlACoADkAfP9L/1gAkgDxAHAAKgAaADEAFgGiAdMAWv+9/ygAqv9w/yr/5/+y/+T/yABUAQMBzf/8/+H/ov9z/4b/DP/A/pz/3gCIAdUACQASAOf/Yv+N/9P//v+2/8j/mQC0AL0A6ACvANb/kf5k/nz/cQCGADIAEADz/0gAmQCwACoA0v5u/hn/IwB7AEsA5v/o//v/QQBhAJv/Lv9y/6//yP82AGkAKAB2/4v/MQBSAAEAa/8v/6T/UQDAAEUAiP+o/wYAOQAJAOX/7P92/yb/iP8BABQAAgACAPz/1P/l/yYAKwCX/zr/eP/s/7v//P/RAB0B2gBJABgAIQBNAKj/N//+/nb/EQCMAPkAdwF+AUEBDAGHAB0AXv9v/4z/ff9S//T/fQC2AIgABgAVANH/Sf9B/+X/3P9v/5P/GwAgAXIBEQEkADT/Nf+F/7b/e//i/tf+jv9uADcB0QDZACkAh/+G/8f/LAD+/+H/cv9j/wz/d/9bAEUA+P57/uz+0P90AM8A3wDs/0H/vf/QAHcAev9c/0wAGACP/zMABgG+AN7/IwBYABYA8f9TAAABGwAF/2v/GQAcAKb/CAAUAOX/uv/6/9D/k/7b/X/+l//Q/+P/JwCTAHcAngD//y//pv4O/9f/cgDPADABeQIeAgQBRwBGACQAHwAJACEAAwBlAN0AdwEhAZf/Hf+2/jX/IP9L/9n/AAD4/yUAeACdAAYAOf9l/9X/AgDK/zkA3gD9ANcA7QAbASwAxv+0/xsAFgCC/+r/DwAEAN7/hwChANb/Mf5A/pn/0v/f/uH+e/+k/wIAegDMAHv/av/X/ysAzP+W//v/KAAsAEkAUQFbAdsAawC4AOgAHQAIAMH/1/8JAGwA0AAwAEv/9P42ALcAPABb/zn/rf8VAPv/AADu/2b/If/p/wABmQApABUAsgBAAPr/3//a/+D/CwCaALAAPwCY/wMAPwAFAH7/k/+y/1n/kf8VADcALAD5/ycAFQCt/4z/Z/9b/63/yP+l/73/8v+KAGUAMgABABMA/f8KAPH/7f+o/83/TADn/xUACgCjAGwA6P+m/4P/qv/d/0wAowBgAEgAjQDbAJUAEgDc/6H/pf8//+7/iAByAOD/aADTAC8Ad//2/vH+7f4X/yoA7ABvAFcAfACQANH/Z/91/0//M//4/28A/ACNADMAYQC+/5H/sP+m/0r/Yf+o/14AYABgAPH/8/+y/3P/vf+n/wIAuv94/6f/DgDB/+3/ff+V//H/KAAtAaoARgDv/2kAWQDV/57/Bf8n/7j/fgCnAIcAXACqAMoAMADq//H/c//m/mj/iAAsAW8BDwGcAAwA4/+sAIMAiv9b/rX+7P/cAIABSgG2ALD/yf8uANr/lv9x/6f/hf/H////mwApAZ8AGAAf/9r++v8BAawAnP9i/+D/FAClAHEAGADb/9//swB2APL/DwAoAOX/1/42/tn+oP+eAH8Am//5/pz/8QBBAVoA8P6g/mH///+5AEMBBQGYAAYBwAAlAOv/rv/k/8j+Z/4d/78AbQG9AFEAAQDi/3v/v//g/mv9FP7I/9oABACu//b/iACwAPn/r/98/tn+if98ANoA+/+vAEwBGgFvAAMAHgBOABwA2P/0/xMAewByAJ4AMwDW/wgA+P8DAHn/ff+8/zcAfQAmABEAFwALAEkASQCAAE4A9f8u/wL/3f+aAAIBXwARAMz/OwATAXQBswAq/yz+xP4mAIIA9P/H/7j/sP8lABsA5P9P/yD/qf/u/wAAIQAWAcwAGADW/+//HADh/0oAu//O/+b/VQExAiQBSgAOAG4A/v9YAKsAPwC2/+7/sQCYATIBcQDG/7b+mP6F/wsACgAcAPz/aAACAEMAPgAIAET/G/5G/rP+5/9hAGEA9//O/8f//v+3/xj/7/5Y/ywAWwCCAKcA4wC/AEsA6f+//9v/EQA5ADAAbf97/8D/qP91/7f/2P+m/+//AAApAAAAzv+a/4j/Mv+T/3IAjgATAOz/FgAAAPr/DgDW/+7/AgCXABABfgAcAG0AsgCS/wT/gP/+/3//nf8rAGIAJAACAGYAGwBn/13/CAAaAAIAvv/i/xEA//9PAIkAIAAHAC4AZgBhADEAFAD3/xAA///w/6z/7P+kALgA6v9T/6b/2P95/2X/sf+j/87/BwBDAHgApgAkAQUBIAAc/xz/yf9KAFAAFQAUAFQA1wBXAfwAGADK/5X/u/8GADsAsAByAB8ArwDVAGMADABx/yP/R/9i/9v/UgA9APf/KAAFAOL/4P9z/xT/dP53/o3/ZgBEAJz/Zf+7/7n/rP/c/5z/IP87/9z/kwBzAAkAAAD8/wYA/v+8/0P/T//J/0AAbwBaADkAPgAjAA4AvP86/1v/iv/C/+//7v/3/zYARQAAAAQAsv99/6r/uf/k/xIAJAANAPL/ZgARAW4BuQCz/4L/9P9LAPv/BADx/x4AoQALAbsAHADW/5r/if87/1j/PgCPAOr/lv8VADYAiwCJANv/d/9D//b/RwAxAPj/cgDTAN0A+AAhAYwA9/8OAO3/DgDZ/zcAWwBSAFsAkACAAAAAtP9A/+X+7f5j/8H/AQA5AKwAkADJ/5X/nP8m/8/+Mf/N/3IA5wA5AToBEgF+AOL/2f9e/3r/HgCyAMsAmwAGAecA/P8f/8f+G/+T//P/CQAoACcAAAAXAOP/+/6j/h7/V//A/wAAEQAOACEAFwAQAKj/Cv8//y0ArgBdAEIAQAB/AHAARAAkANP/6/8EAAYABQAAACwARgDj/wj/9f6d/wcALQAZAJr/U//D/9z/mf9i/27/1f8VAAkARQAAAQIBYAAAAJ3/TP9X/9P/DAAFAFcAkACEADkA+f/X/7H/wf/l/wUAEwAeABEAHgB4APIAgwDD/4L/yf8NAAsAOwAKAMv/eP8hAJYAJQDS/9b/+P9t/0j/sf8QAPL/GABDACMA8P8+AJgADwDC//T/PQD7//H///8FAOn/6v99AHsAAwDV/0IAUwC4/2v/XP8+/zX/rP8gABEABQBFANcAigDg/0z/Gv9Y/4D/7v8CAB4AhAD7APAAfAApAKj/Xv9//7X/+P9wACEBTgHFAPr/5v8QAIv/9f7V/lv/xP/+/ycAgQByAFkAlwAJAE7/5f4z/4X/w/+7//z/mQDoAOAA4QCHANT/tf8x/zH/lv86AIgAdQAfAAAAXgChAIYA8/8P/5j+ff9oANsAXADh/5X/k/8hAEIA//8U/3n+zP52/wMA/v9DAAsAw//x/wUAIABKAHUACQDC/4//w/+MAMAAHgDl//3/QwCEAMMAsgBsADIAtf+c/9f//f89AJMAlwBJAPL/JwAjAPz/rf9p/3v/hf8NAMgAeQFpAXwAUAAgAJn/RP97/53/h//M/xsAnwCEADYA3v/C/yj/W/8FAMT/qv/r/30APQAFAIz/c/9n/07/xf8IAAQA5f8SADUAXABgAHcAOgDV/7r/8P8kAD4ALgAlAOP/u//4/wcABwALAOD/lf8QAGsAlAB/ABMA/f8XANr/vv8MAAYAAQBAACkAuv/p/y0AIQANAL//1P9DAC8AAwAzAD8A5f8TACQADQACAJX/gv/K//z/+f/S/8v/f/+E/9T/5v/8/2n/MP8h/5P/+P8QABUA3/98/2L/1/+//2D/Fv80/5D/LACYALYAkQBbAFMAMQDn/5D/vf8AAAYAOgAxACIAgADYAFwA1P9S/27/6v8CAAIACwDW/4n/8/99AIgAPwAAAMb/5v/F//b/AQDE/9b/WADHANEAfgANABEAIAACAKL/cP+a/+L/BwADAA8AaACCAHwAMwDF/5T/yv/v/yYAFAApAM4APQEZAecAhQAGAOP/if93/4T/+v9iAPoA2gByAC8AAQD//4H/Af/u/qL//P8SAIIAzACnAKEAXgDt/wn/U/7L/rj/HQD3/yAAJQBsAN8AJwF3ABX/kP4o//z//P8OAAAAIACFAO0A8wBpANT/m/+6/3v/Hv9S/9P/IQCJAIIAIgDu/zcAPQDo/2n/Lv+5//b/BAAPACgAFQAhAG0A1v/c/qv+f/8hAMX/9f4w/wwApgAFAV8Ag/9M/+H/qACPANH/Kv95/ykAoACVACoA7v/C/+7/NQBFAPH/0//C//r/KQBAAKcAWgD3/97/4f/V/6r/zP/D/8n/3f8CAGYAZQAdABMAOQAFAPr/5v/+/0UAVgCdAL0AuQCRAHkAmACUAFkA4/+V/9P/SABgACQA+v/x/+L/BQAbAPL/Pv8J/5r/8f8LANb/DQAgABEACgAjAAcA7v8uAFMAQAD7/y4AbQC1AG0AMwAUAPT/6v/h/6j/O/+M/w0ACwDz/9L/3v/4/97/uf9E/1D/R/+0/wAABgAOAAoAhwBpAPL/hv+6/wcA//8DAOf/4/8DAAQAIwDn/4n/q/8LAPz/kf/U/wsAEgAAAML/v//U/wEANABJABwALgCBAGoADwD0//7/+P8iAA8AAQDx/0EAfAAmANr/m/9q/xX/Z/+9/5z/Uf+v/2sAXgAFANL/xf+w/9P/MwBkACMA+v9xALAAmwBXAG0APQDq/wcAWgDLAKUATgACAB4AUgCZAHUA9/95/4D/2P8KAB4A0v+I/77/FgAvABIA8f/z//X/6v/q/wsA7v8bAHwAZQAsAAAAEQB6AHsALAD6/w0A9v8AAAEA9/8PABYA7//G/+X/JwBqABkArf99/9L/IQCWAKwAMQDo//L/2/+a/4f/l//B/+3/NwBgAEkAAAD1//b/of9k/5b/o//j/x8AfwBbAA8A0/+w/8r/if+R/67/DAAdAFcAXwCUAIsASQAdAOX/5v8HACsA8/8MAAgACwD2//L/x//N//b/AQD5/+D/7f9GAIEAFgD8/xgAOgB6ALYAWgD+/wcAaACpAKAAPwAHAGEAfQCRAK0ASADY/67/jf9B/2n/EABDADAA3f+//+n/8//G/3f/8f7m/mf/4f/4/woAJABzAF8A+f8CAO7/8f///9D/kP8FAJ4A5QC8AD0A4//S/4T/Yf97/5D/wP8hAFwAngCoAFUAHADu/wAAlP/O/wYABAApAGEA0gDkAIkA9f/+/wMA9f8YADQA5P+y/9//TgCTACQA3/+3/8L/AwAAAPv/sf+B/+P/BAABANH/v/+l/6v/9/8EAEkAfwA/AAQAdf9R/+L/PAAyAOP/9f8AAFAAWgAIAGj/9P7m/j7/oP/F/wkAJgAFANH///8FAMz/tv+x/3r/0f8sAFMALAABACQASwBGAAAAYgBmAP3/BAAAABEAJgD//6b/0P8LAP7/JADv/8j//f8ZAAAAAAD6/8D/m//c/+z/BAANAAUAYgB2AHwATgAkAP3/8v/8/w4APQAsABwAUgCVAJEAXAAIAPD/yP/O////AADl/8P/0v/e/w4APQBxAFwABAC//5T/1f8bAEsADwBp/zn/qf9wAK0AOgDd/67/bf+r/wwA/v9Q/+L+d/8XAGQATgBNACYApv9d/8z/o/9c/8//LQCHAIAAfACoAHMA+//J/+T//v8IABYAGAAVAP3/AwAJAP//2//O//P/BAAgACwADgAGAPL/0v/p/7L/jv/S/zoAfQCZAFcAGwAeAAcA5P+T/1z/c//+/0IAUQAtABMASgAkAN7/tP/F//T/5//j/wAABgAYABcADQD9/9z/BQBYACQA6f/i/wIAOwAcAEUARwD7/+3/+/8kAAsABAAuAFEAOwDu//X/TwBtAEQAFQDt/8D/t//+/xwAFACo/4////9MADMA7/8BANv/rf/C/ycAWADy/8L/7/8SACwAHgAYAM//Xv+z/ycAVwAkAP//LQBWACYABQDc/5f/mv+m/87/3/8qAD8AZgBrABgACQDj/9P/8//2/+b/9P8DAOn/6/8yAEwAGwDO/73/4P8LAAkAEwAVAOj/5/8ZAEYADAAAAPv/7//z/8n/l/+7//j/FABHAAcAzP/M//7/CQArAAMAof/Y/yYANQAkABMA+f/y/6H/rv8dAD0ACADX/6L/pv/p/zcAOgAPANj/0v8bAE4AMQD0//n///8JABIASwAxABcACQAcAB8ABgCX/1z/of/B/+//KgBKACEAAAAoALYAgQDr/3//WP9s/9T/IQBKADQABwA3AFkAUQASABEAwP9r/5X/7/8IABQACwAPAC4AHgAmANv/W/8m/1L/X/9Z/5j/8v8OAAgAAQBJAFIACgADANr/yP8CABgADwAMANn/6v9OAHgAMgA1AFIAQABJAEwAQQAzABkA8P/i//z/HgCjAMIAIAB0/3L/+f/3/+f/YP9d//7/cwCsAH0A//84/2D/qP+r/wYAJAAJABcADAAqAIUAQwDJ/63/k/+f/yIAVgAdAAAA9v8pADYAEwD9/4D/J/9T/+T/EwDq/6T/t/8XACAAMgD8/6n/dP/p/x0A6/+//9T/GwBPAHIARgAXAAsAKQAKAOb/f/+P/+j/CwAtAC4A5f/O/wwADQDK/xn/Df9c/+f/LAArAAQAZ/+V/yYAVQASAKn/lv/n/xQAFQAdAA4A8f8EAEcAJQDV/8//mv+9//n/BgAYACoAOwA0AFsARAAFAPz/sP9k/3n/q/////3/BwALAJcA2ACQAEcA7/+Q/yr/zP8QAAEACgD7/xgAYwCrAHwAMQDL/4H/mP/Z/wYA//8ZAFIApwDBAHMAHAADALX/a/+j/+T/BAAuAGYA2QAJAVUA/f8AANT/yP/7/+H//v8yAFsAqwDeAJ4AOgBCAOL/zf8AAP3/7P/c/9b/5v/7/0IAVQAmAMP/aP9Y/3//4f8aANn/Zv+L/+//RgAkAOf/g/80/z3/nv8AAPn/CQAEABwAEwAjACkAEAD8/9f/+f8CABEANQB+AGYABADM/9f/DgAbAAcA5v+//7n/HgCDAI0ATwAIAPL/DwAkAGgAbQBbAPf/0v/k/zgAlQAvAOb/tv/l/wUAPgA2AAgA9v/k/xQANwAMAP//7/+Z/3H/i//f/wMA8//h//r/CQDn//P/uP99/6j/+/9tADkA7//7/zkAKgD8/wgA4//M/9j/PwCYAG0ABwATADcAAAADAOz/u/+i/77/AABDADUA7//Q/9L/xP+h/5D/U/+X/97/CwA6ADoAIwD6/wEA2v+O/y//Q/+L/9D/EAB9ABEB/wBlANP/7//D/4v/bv+E/93/CQClACgB0QARAM3/+f8MAKH/e/94/5T/AwC2ABUB2gBMAPj/BgDt/+f/8P/A/4H/kv/k/0gAawA/AAYA7/+j/73/5v////T/mP+L/93/HwAbAA4Axv/D//v/XgBPANz/ev+H/yoASwAfALL/if/4/0oAOwAAAMb/yf/3/yQAQwA0ACYAAgASAPb/7/8LAAgA7v/a/wgAZwDVAI8AFQACABoAUQBhACEA8P/d/+z/OAByAH0AQwAxACsADQDp/7j/e/9Z/5L/3f8kACMAHQA2AEoAUAAaAAoA5v+r/+b/GQBkAEYABgAAAAAAAAADABYA3v+t/+H/BAD//0IANwAdAPD/5/8AABwADwDq/6D/ff/d/2kAdQD2/8r/tf8SABcAAwDf/3f/qf/o/yIAGAD4//b/GwBxABIA4v/P/7D/yv/0/0wAMwAjADwAcwByAC8ADgC3/1r/nv85AKUAcQAAAPj/GQBVAG4AKgC//1r/e//r//X/9P8JAA4AAAD7/yUAXQBbACEA2f+x/8D/OADYAPMAPwD6/z0ATQBUAAwA+P/C/8L/AAAfABgABAAzACUAAQD7/ygAMwDs/6L/h/+0/wUAUQAtAO3/8f8uALMA6gCIAN7/mP/f/zMALgAMABAAPABaAEwATwAWAMH/kv98/3X/d/+i/wAAFgDQ/8j/3//5//3/4f+S/1r/gP+o//f/BAD9/xYA+P/s//v/AwD9/8v/u//L//3/JgAfAAgA9P/Y/+///f/M//z/DQAEANz/vv/l/+//AAAAAAAA//8OADgAYAA5ANz/uP/K/wMAOwBxAF8AGAAtAIUAiQApAKX/jP/2/zoAYQBiADgADwBNAIYAWADe/1b/Xf/f/yoAWgBDAAAAAAAHAFwATwD+/5L/l//4/1YAWgA0AGQAZwBOABkACwATABEA9f/H/5z/x/8aAFoALQDz//H/+v8KAPn/pP9J/4P/4/8DAOv/2P8TAIoAigAfANr/rf+Y/9b/1/+M/8D/6f8XAEcADQD3/+f/7v/b/7f/vf/K//z/+v/5//3/AAALAE8AXQAVAAQAAwD2/wEAAgC0/87/CgA9AFwAUQBWADgADgAQADAAGQDb/8f/pP+K/7z/IgBaAAYAvP/N/xAABwDy/8n/gf+y//X/QQB+AE8AKABPAEkAGwBKAHAARQAUANf/0v/v/xoAIgALAOb/4f8YAFEAjQBLAAIA8//n/wAANQBdAEMAKABSAGoAbgA6AAUA8f/p/xwAEgADAPH/zf+9/5D/pP/l/6r/rv/z/+r/0P+p/57/gP9V/4f/7/8SAAcA//8BABAAOwA1AAAA+//6/zYAkQB0AEAABgD4/+v/6/8VAOv/6P/z/w4ASwA6APv/9f/u/9T/t/+L/1f/fv/h/xkAcAAzAP3/BQCy/2P/SP+O/8b/7//u/yYAhgB3AGwAKwC2/0z/I/99//n/BwD+/xIARAB2AOAAgQABAML/gf/h////DADx/zUAWQCMAJMAHAD4/6//p/+g/8L/AAAEAAgAKwBsAJwAjQA7APP/t/+o/9n/BAAGADIAUwBbADwAKQBCACEABQDU/9n/8v/+/ygAUAAtACsALQABAL3/jv/Z/9n/if9o/9b/CgD6/wAA/v8BAOL/0//0/9D/uP/2/wsA/v/3//3/SABeACIAHwD3/9P/v//x/wMA/v/r/8n/BQD4/xcAKgDX/3n/mP/u/9z/kv9u/3//z/8mAAkA7/+I/4j/AgCBAGYA/f+2/2H/6f+BAI8ARADV/7b/BABzAHIADwC2/5X/3v9MAIcAPAANALj/qP/5/+7/BwD7/9z/7P8XAF8AjABqACwA///+/wAACQAeABEAAAACAB8AYQBxAEoAEADn/+f/0v/d//b/6P/6/x4AHwAOAP7/AgD1/7v/rP/T//X/BQALACIAAAAQADwAHADj/4L/wP8PADoAQAAcAAgAFwBjAHUAJADA/43/tf/r//b/6v/N/93/AAAyAEQAUgAXAO3/4//t/8v/sv+u/6D/0f/q/wMAAADy/87/5v/Y/8v/5f/Q/93/AAAAAAAABQAHAAoA/v/8//T/AwAEAPT//f/n/xsAKQBTAGcACAD+/wEAKwBDADoABgAAAAsABQAJAPz/tv+t//r/CAAFAAEACgAPAAMA2v/K/83/AgARAAcACQAFADAASQAoAPL/+f/W/9//CgAAAMv/of/i//b/BAABANz////G/7H/AwACAPT/AwAlAAwAAgADAAkAEwD6//r/AAAZAPj/IAAxAP//AAD+/+f/pf/N//b/CgAIAPT/BQD9/xkAQwAhAN//uv+k/8P//f8SABoA5P/A//n/PgBgACQA9/+p/6P/9v8YAAwAsf+L/7j/9/8AACQARwBCAD8AKgAiAAAA1f/t//L/u/+1/xAAegCaAJcAXQAWAOr/4f/8//r/0//v/wEACQAuACoAEwAAAO7/yv/f/8n/yv/9/wAAAADx/wcAFwATAOn/vv/z////BAADAAAA/f8TAGoARAAJAAAADwAQAPj/5f/p//z/IQA/ADsAFwD6/xIALQA1AA8A7//L/83/6P///yQABQAAAAAABAD//wAA//++/6//yf/4////LwCJAIQAKQDi/9D/z//s//7/+P/C/8b/PwDHANQAOQDg/8D/uv/2/wgA4f9p/1j/vv80AIoAbwAtAOL/pP/D//v/7P+t/7//4v/x/3IAtwDEAEwAhv89/5z/7f/u/+T/kP/J/yAAjQBsAPj/s//L//j/3P8AAP3/5P/e/xAAGQACAPf/AAAFAMf/n//w//7/7f8DAA8AAADV/9H/7//0/8f/z//R/7r/sf/Y/+3/DwAZAAAA+P/x/xAAggBqAAcA4/9w/5//RgCAACkAAwD4/xMAbwBaACoA//+R/5r/+v8GABYAFQAGAO7/4//w/xQARwAgAOz/+P9HAJEAWwAfAAAA/v8UABEAFgDt/9//HQByAB8A2f/8////AQDg//v/AAAAAA0AUgAxAPD//P/7//z/sP+6/+j/AADv/+//CQDq/8r/uf/T/+///f/8//r/9//W/zkAZAAJAID/Mv+T/+L/AADv//D/6//z/1YAbwAKAJb/hv+9/8X/4//4/+3//v8QADcAOQALAAAA/v/z/6b/cP+t/wsAVwBHADoAPQBOAEMAJAAbAOH/1v/s/ysAdACwAMoAwACtAD8A+//y/+z/8f8NAAgA/v8GAA8AJgBNAFUAKQD5/8//8f8MAEAAVgARAAAAAAAQAFUAMQD8//v/9f/+//3/DQACAP//+v8GABkANQA9ADAAEADz/wcAAwAKAAIA3P+p/8T/9/8uADcA/f8GABAABADS/5f/eP+N/9L//P8IAEQAaAB4AFAA0/+k/9P/AgAPABsAAwD4//z/HAArABsA0v9t/4H/s/++/+b/3v+6/+j/BQAnABUAAwD///n/0P+m/+X/+v/m/8j/of+w//3/LQAqAAsA/////ycAHgAJAN7/n//c/wkACgD9/wYABwAMAAAA+v/m/+z/CQAEAP7/t//l/z4AIAC//23/gP/P/wgAAAAFAPj/4////wMA8//Z//v/IgAmAAkA/f9YAH0AVAAtAAQAAADy/xcAaQBwAGUAcgBOAAEA2//b//n/5/+S/4f/6/8kAGkAqQBvAP//mf+d/8P/x/+1/8X/7P/2/wwAIAAWANj/pP+Z/9L/9v/w//L/AADo/+D/9/8XAFcANwALAAEAAAAFADgALQADAO3/FwBTAF0AbQBcADEACgDo/+n/+f/Y//P/9v/3//n/BAADAPb/2v/a/+z/+P/8//r/+f/z/wYAJwBbAD0AAQDH/+H/CwBLAFAAQABSAGQAggBeACAA5v/W/83/4f/1/wIABQAQAA4AAAD+/wcABgDy/7r/u/8AAAsA/P8BACcAZgBTAAwA+f8AACIAHwD4/8L/0P8FAFAATgAAAAAAIgAjAAgA4f+R/5L/3f/j/9f/+v8tAGYARQAFAMX/zf/7/wIABQDV/9j/QgDDAJIACwCh/5b/6f/6/+z/xv/m/04AhABuABgA/v/5//v/2P+O/43/z/8aACMADwDs//n/CAD4/wAAvv9//2f/lv/8/xcAJAD7//n/7/8OAEYAKADk/4n/pf/t/x4APgBBABUA///9/xEAIQDa/6z/wv/X/9z/FQCBAIgAUQAFAPD/8f8UAB8A9v/r/woAnADOAJIATABKADUAEADf/6b/yf8FAHEAoQB4AE8AWwA6AAAA2P+M/1D/ev/T/wcAVwAzAA8A/f8IAAwA7//M/6n/3v8ZAFUAcgBfAE0AWgArAAEA6//v/9v/7P/8//7/MwBUAJcAhwAeAM3/l/+j/9f/7v/t//b/9P///wQA9//x/+j/6v/W/7r/x//a/9f/9//5/+L/tf/S//v/KACFAIkAMwD5/wMA+v8BAP//zP/i/wAABABGAJAAZgAQANn/cP+i//n/GgAOAAIA9v8fAHIAXwADAL//of+6//D/4/8AAP//IwAjAB0AHwA5ACgA+/+5/6z/CQBUAIEAJwD5/+//GwAeAO3/n/9w/3//1f8GAPf/7v+z/9r/+f8EAPn/y/9r/0z/uf8HACoAGwD+/wkACQAKAAUAAgDG/6H/wf/9/z4AHAANAA0AAwAdAGMAQwDs/4n/iv/u/1AAVwASAAAA5P8AAB4AHwD3/9D/rf/d/zYAXwA3APv/3//d//7/DQAcABAA0P+y//P/IQAtABMA9f/a/9b/BwBpAIsATwAeAAkALAAjABAAGAADAP//EAA5AE8AWwBMABMA2v/B/+P/7f/m/9P/7v8hAA8AGwANAMf/xP/y/8P/n/+O/6z/BwASAAMA/f8AAAcAIAAkAPj/wP+//8//AAAQAPT/5//R/+//EQADAOD/9v8AAAQAAQDY/+D/9v8AAA4AQQAzAA0ABQAEAAUA/v/x/7X/2v8CAAMACAAJAAoABQAHAAsA5P+R/23/k//f//j//v8FAAwAAQAlAFYAKgD4/6X/h//d/wQAJgAuADIAKgBCAD4ACgDs/6P/vf/Y//P/AwAPACwASABVADgAFAADAPr/9P/o/9j//f/0/xIAIgApADEAOwBKABUA/P/i/wcAFgAGAOn/4f8SAGQAhwAsAM7/jf/T/yAAIQDU/6j/4////x4AGAD+/wIA+v/0//v/5//0//v/BgDu/8//8P8OADIAFgABANv/x//6/xUADAD6/wAABAAHADMAKwD//wUA9v8GAPb/3//a//f/7v/q/wgADQAoAAkAAADV/7T/o/+v/8//0f/d//r/BwAGAPz/4//O/7X/mv+L/9n/+f8DABEABAABAP7/BgAGAAAA/P8RABwACgD//wMAEQAOAPD/zf+2/9f/DwAlABIA/P8CAP7/BAAAAO3/9v/o//L//P8NABgADgAIAP7/AgD+/wYACAACABAAAQDw//L/9/8JAAAAAgDz//P/AwDo/9L/xf/X//P/AAAAAP//BQD//wMA9P/W//b/CwAUAAkACgADAPv/FgAaAAUAAAD9//v/AQD//04AeQBbACYAAwABAA8ALwAYAAAA+P/3//7/GQAfAA0ABgAAAPb/BgAtAB8A///n/8//6P8JAAAA7P/O/+H/FQA/ADQAAwD8//v/+P/6/+X/4P/w//f/8f8BAA8ADwAOAPX/8v/l/+b/9f/6//P/9v/3/wgAEwAhACsACwDu/+D/7//5//n/+f/1//z/+/8BACsACwD2//v/2P/P/9j/BwAXAAMACwAHABsACwD6//n/t/+b/8n/+f/8//v//f/s/9D/yf/x/wIA+v/5/wMA/P8XAD8AGwAGAOH/zP/1/wEA//8CAPz/IQBeAF4AEgD+//j/8f8CAP7/AgD+/xcATQBdACIA/f/f/9//8f/7/wAA/f///w4AJAAlAA0AAAD7//L/9v/1/woAAgAEAAkABwAJABAACgACAAYADAAIAAYA9v/m//7/AAAGAAAAAQD7//7//P/s//T/BAAKAA8AFQAjABEAFgAvABQACgDm/9f/4f/6/wQAIwAkAAUA2//M/93/5//b/6T/r/+x/+7/DgAYAAAA4P///wEABQAAABcAFgAKAAAAAgAMAAcAAAAEAAUA9v8KABEAEQD+/+j/8P///wUAGgAjAP//rf+C/7z/6v8BAPn/1f+p/8X/DgAPABUA1/+q/67/x//5//v/CQAFAP//EAAoAB0A///x/73/zP/+/wgAMAAiAAAAAgACAAAAAAABAPr//v8CAP3/GwA9ADEACgD+/+//3P/m////AAAAAAAAFAAxACwAIAD//wAA2//Q//n/EQA2AFMAXwBfAF0AJgABAP//AAD4/woANQAyAEYAdwCSAF8ADwD6//r/+v/+//r/8v8IAC0AYABIABMA2//X//D/1//T/8r/6//3/wsACgAEAPz/9P/0//r/8v/d//f/9/8KAAUAFAAkACMAJQALAPr/8P/o//f/AgD4//r/+v8AAPf/+//u/+n//f/4//z/9//5//7/+f////n/+P/8/yUAJgAAAPz/AAAfAAsA/P/0//j/+/8IAAsA/v/3//f/CAAAAPv/5P/d//D/AAD4//3/9f8RACgAEwD//+b/3//i//f//v/8//7/CQAOABoADgACAAAAAADn//D///8AAB4AIgARAP//AAD8/wEA/f/M/7v/5//0/xcAIQAYABEADgAtABgABQD7//r///8HAC0AUwBCAC0AHgAHAAAAAAAAAAAA+f/6/wgAFgA4ACoADQDr/8X/0f/t/wMA/v8BAP//AgALAAEAAAD6/97/6v/9/wsAMwAzACcACQD//wUACgD1/+3/+/8DAB0AEgARAAYACQAGAP7/4v++/+n/DwAQAAEA+v8AAAMACgABAOv/3f/k//3/AQD+///////7/wAA/P/e/8L/5P8HAAwADwABAAAAAAD+//r/+P/4//7/AQAEAAAACQAaAAwA/P/a/8L/1//1//v/+f/5//j/9//+//f//P/p/9n/4f+0/8b/9P/4/wMAFgAQAAIAEgAbAAEA7f/d//P/BwAIAAQADQAfACoAVgAuAAQA/P/3/wAAEgAoAA8AEQAEAAAACQAHAPz/9//4//T/+f///xYADAAAAPz/AAAlAC0ACwD+//v/AgAiAC0AHQADAAUAIQA/ADkAIQAJAP//AQAEAAIA9//6/////f8HABEA/f8EAPb/7v/2/+L/6P/v//7/+v8IABEACwAAAAEA6f/j//3/+f8BAAAAAAAAAAAAAgACAP///P/9/wAAAAAAAAAAAAAEACwAKgASAPz/3P/w/+n/+//y//L/AwAIACYANAAjAAcAAAAAAAIABwATABAAAQAJABkAIwAnAAwA+f/4/wgACAALAAwA8f8AAAcABwANAPT/0v/H/9X/6P/5//z/+v8AAAAAAAAGABIACgD//wAA9f8AABIAFQAbAAwAAQAGABQAEQALAAAA//8NABYADAANABAAAgD3/9T/3v/w/wIA+//p/+7/+P8AAAAA7v/Q/7T/tP/q/wAAFgAKAAQAAAD+//3/9//x/9n/3//5/wsABAAPABIACAD7//v/9////wEA/P8AAAEACwAaABEAAwAFAAAACAAEAPv/9f8GAAcACAD6/9X/w//Z/wYAAAABAPr/+P/+/wIAAgD6/9n/0v/w//T/+v/+/wMAAgD+//n//v8CAAIA9//z/+b/5v/u//n/AgD//wAAAAD8//z/AQADAAoA+f/w/+v/7v/3////AAACABYAGgATAAYAAAAAAAAAAQD//wEA/v8NACwAKQAXAA8ADQD+/wAAAAAAAAAAAAAQABEAAQAAAAAAAAAAAAAAAgABAP///v///wkAFAAKAAIAAAAAAAIAEgAKAP//BAAQACwAKwASAAgAAwAKAA0AFAAHAP7/AQD//wEA//8BAAAAAAAAAAAAAAAAAAAAAAD5//T/9v8AAAAAAAAAAAAADwAMAAgAAAD6/97/3f/m/93/3f/3/wQADQAWAAYAAgD+/wIA7f/r/+D/7f8AAAAACAD+/wMABAABAOv/5P/0/wEA/v8WABUADgAtACQADAABAPb/5//6//f/+v8BAP7/CwAWAAUA/P8AAP3/AAD9/////f8AAAAAAAATABsADAAAAPr/9f/c/+D//P/+/wAA/v/+/wEACAAHAP///f/1//P/+////wAA+f///wAA//8HAA0AJwAqAB8ABQD8/wAAAgAAAP//AAD8/w0AHAAxACYAEwAGAAgAAAAFAA4ACAAgADMASQBgAEcAEgACAP3/+v/4//n/CAAJAP3/DwATACEAFAAAAOX/3f8AAP7/BwD7/////f/3/wcA+//9//P/6v/5//v/EwAGAAYAAQD//wIA+f/8//n/AAAAAAAA///6//n/+v/8/wwABAD9/wUAEgAYABkACgADAAMA/v8BAAMABQAEAAEAAgAVABEABAD///H/7v/q//T/+v/7/wEAAAAHAAAAAAACAPL/4v/R/9f/0//f//n/8v/x//D/8/8AAAAA/v/4/+z//v/9//z/9//v/+P/5v/+//3/BAAAAAAAAAAAAAAAAgACAAAACwAlACQAJwAgAAcAAQAAAAEA8v/z//b/+/8AAAAAAAAAAAMA///5//z///8HAAAACQAdABUACAAAAAQABwAFAAcABQAHAAcADgAkAAQABgAUAAcAAAACAPr/+f/6////CAAEAAAAAwAPABQAJgAnABMABAACAAMAHAAbAAAAAwD//wIAGQAlAB0ACAD///3/BwABAAUA9v/X/9H/4f/5//v/8v/Y/9X/xf/S/9j/zf+0/7//1f/d//D/5//y/+v/5//d/9H/4//w/+X/7P/t/+///P8BAP7/AwD0/+j/7f/1//z//f8BAAAAAAAAAAAACAALAAAAAAAAAAAA9f/8/wEA//8BAAQAFgANAAkACAD8/wMA8//9/+3/6f8AAAcAMAArAB4AAgAAAAAA/f/9//z/AAAAACQAJgAyAB8AHgAWAP7/AwD9/wwAAAAaACMAHwAkACkAPAAZAAAAAAD7/wsAFgAhACwAFQALAP//AAAAAAAAAAD8/wcAHwAnABgADQD//wAAAAAAAAAAAAAAAAAAAAAAAAAA/P8AAPX/7P/4/wIA//8EAAgABgAAAAAAAAD///v/5v/7/wAADwAFAP7/AQD+//3/8f8AAPn/AwD9/wgABwALABAAAAD6/+j/5v/s//v/AgD7//f/AQACAAIA+//n/87/0P/U/9j/4//3//z//f8AAAIAAgDy/+n/3f/2//3/AQAOAAwACgATABAACwARAAUACADu/9v/7f8FAAoABQADABAABwD7//f/vv+q/67/vf/Z/8z/3v/4////9//3//n/3//Z/+v/CAAIABQACwAMABsAEgAWAAkAAgDx//n/AQADAAUAAgAAAPT///8DAAIA/f/5////AAAAAAEABQAAAAAAAQACAP//AAABAA4ACAAGABkAEAAYABQAEAARAAMA/v8RAAsABAANAAwAAgD//wAAAQACAP//AAAAAAMABQATAAYA//8AAAAAAAD9/wAA/f8AAAEA///8//v/8f/s//L/+//9//v/AAD9//n//f8AAP3/AADi/9v//v/4//v//v/5////9f8CAAIA+P8CAPr//f8AAAQACQABAP7///8BAAMAAAAAAPf/CQALAAUADAD8////AAAAAAAAAAACAAIAAwAQAAYAAAAAAAAAAAAAAAAAAAACAAEA//8BAP3/DwATAP3/AgD+/wEAAgAcAAoAAAABABMAFQD+/wgAAAD+//P/AQADAAAAAAD//wQA//8DAAkABgAJAPf/+//8//H//P8DABAAFgAPAAsABAAFAAcA7//s/+3/7P8EAAYADwAQAP/////6/9j/1//u/+T/9f/0//f/+//7//L/6P/k/8D/tv/p/wEAAAAAAAAADgACABIAEAD+/wEAAAAAAAgAFAAFABEAEwAKABcACQD5//z/DwAMAA4ADQAIAAcACQARAAAAAQDv/wEADgAJAAwACQAMAPj/2P/g//r/+//5//7/BAADABcAEgDy/9j/1v/s//f/7P/8/wEAAAAIAP//AQD1/9f/yf/H/+r/DQAiACsACwAAAAAAAQD9/+L/0f+8/8f/8f8EABwAIwAYAP//+f/3////+v/y//n/BwA2AFQATgAuABMAAAD9//b/+//r//X/AwAWABAAEAAeABUAEwD+/wIA8P/p/+3/AQD9/wwAEgANABcAEAAbAAUA/v/7//j/+/8IAB0AMAA0AEAAOgA+AD8AFAACAPn/+f8DABEAHgAdABsALAApABUABADw/+7/7v///wIABAAKAP3/DAAMAAAA///w//v/AgD//wEA+//8/wEA//8BAP//AQAAABYAKAAaABcAAwADAAAAFQAaAAgABgAFAAgAAAAAAAAAAAD5//v//f/8////AwARAAoAAAAAAAAAAAAAAAAAAAD8/wIAAwABAAAA//8BAP3/AADw//L/+/8AAAAAAAAAAAAA///2//L/3//o/+D/4v/3//3/7P/R/9T/4//1/+7/6f/y/+r///8BAP//7//Z/9b/2f/b/9b/z//e//f/+//6//7/AAD4/+z/0v/n//H/AAAAAP3/AgABAAMABQD///b/AgABAAEABAAAABcAIQAbAB4AEgAiABoAIQAPAAAAAQD//wIAEAAUAAAAAAD9/wAAAQADAP//AQD//wkAFwAdABUAHAAHAAQAEQAAABoAEgAaABsAIgA+AFMAWAAhAAAA//8FAA4ABAD//wEA//8NABQABgD+//H/6P/3/wEAAAAAAPz/AAD///3/AAAAAAAA/P8CAPv/8//9/wAACwAIAPn/+P/4//T/6P/n/+n/4f/p//r//v/4//r//v/1/9X/0//P/9//9v/z//////8KAPb/+f/t/9//zv/H/9H/5f/9/woAJAANAAUA9//x//X/+P/4//P/9f8BACQAKwAmABYA/v/6//f/9v/w//L//f8HAAAA/////wUAAADz//3/+v8BAAYAAQD9//7/AAAWABQAAgD6////CAAnACwAKgAxAA8ABwAMAAoABwAQABQAIQAmACQAJwAwABIA/f/p/9f/8//8/wQABwAJACMALAAWAAsA///1//j/AQD//x0AMQA2ADwANgAiABwACwD9/wIA//8FABIAMgA+AEMAIgAOAAAAAgDs/8//2f/0/wYAAAANAAIABgD5/+n/2v/M/8D/xf/b/97/8P/5/wEA+v/3//j/3P/R/8b/zP/M/9D/2//g/////f8CAOz/3f/P/7//x//Q/9//3//z/woAEAAKABMAAQD6/wAA4v/i/+P/6P/v//f/CwAEAAAA/f/9//7//v////v//f/7/wEADAAIAAwA/v/+//n/8P/+//3/AAD7//z/DwAQAAUADgAIAAkABAADAAgAAwD+/wMA///9/wQAAAAGAP///v/r//T/AQAAAAAAAAD//wsADgAGAAUA/f8CAPH/8//9/wIA/v8LABYAHAAeAAUAAwAAAAAAAAAAAAAADQAUABEAAgAAAAAAAQD5//P/AQD7/wEAAAAAAAAAAAAJAAwAAwAAAAAAAAAAAAIAFgAPAAwAAAAEABIAAAAAAAAA//8BAP7/EgAfABQACQD+/wEAAAAAAAAAAAAAAAAAAAAAAAAAAAAAAAAAAAD0//b/AAAAAAAAAAAAAAMACQACAAAAAAAAAAAAAAD+//r/AAAAAAAAAAAAAAAAAAABAP//AgD5/+7/7//3//X/8v///wAAAAAAAAAAAAD9//H/9f/2/+P/7f/9//f////+/wEAAAAAAAAAAAD9/+r/9//o/+z/AAAAAAAAAAD//wIAAQABAPr/6//r//b/BAAXACgAGQAKAAkAAAAAAP//5v/o//X/AAD//w8AHgARAAMA//8BAP//BAAAAAAAAAACAAMAFwAXAAAAAAD9////AAAAAP7/9//9/wEAAAAAAAAAAAAAAAAAAAAAAAMAAQABAAsA//8DAAkA//8BAP7//v8AAAAAAwAAAAAAAAAAAAAAAAAAAAAAAAAAAAAAAAAAAAAAAAAAAAEA+P/k//j/+////wEAAAAAAAAAAAAAAAAAAAAAAP//AQACAAYAAQAAAAAAAAAAAAAAAAAAAAAAAAAAAAAAAAAAAAAAAAAAAAAAAAAAAAAA///9/wAAAAAAAAAAAAAAAAAAAgACAAAAAAAAAP//BQAAAAUABgAAAAAAAAAAAAAAAAAAAAAAAAD//wYAGAATAAQABgASAA4AEwAOAAEAAQAGABIAEgANAAAAAAAAAAAAAAD//wEA/v8MABAABQAAAAQABAD//wAAAAAAAAAAAAAAAAAAAAAAAAAAAAAAAAAAAAAAAAAA/f8AAAAAAAAAAAQAAAAAAAEA+v/7//7/AADv//P//P/z//v/AwD8//P/6v/1//v/+P/9//X/7v/2/wYA///8//j/9P/5//T/8//t//L/8f/5/wQAAAAAAAAAAAACAAYA///3//H/6////wMAAQABAPH/7//8/wEA//8BAP//AQD//wIABgD//wMAAAAAAAAAAAAAAAAAAAAAAAAAAAAAAAAAAAAAAAAAAAAAAAAAAAAAAAAAAAAAAP7/+//n//L/AAAAAAAAAAAAAAAAAQD//xUABwAAAAMAAAAAAAMACQAPAAoAAwAJAAkAFAAGAAAAAAAAAAAAAAADAAAAAAAAAA4AHAAIAAEAAQD+/wMAAQAHAAsACAABABIACQAKAA8A/v8BAAAAAAAAAAAAAAAGAAEABAAGAAIAAAAAAAAAAAAAAAAAAQADAAAAAAAAAAAAAAD9/wAA/v/+/wAAAAAAAAAAAAAEAP//AgABAAEA+v/p/+3/+/8DAAcABAAHAAMAAQAGAAAAAAAAAAIABwABAAIABQAAAAcABwAJAAYACgACAP7/9v/2/+n/4P/w//T/+f/w//j/+f/y/+b/3//b/9//3P/m/+P/5f/s//b/AAD5/wEA+//+//b/8//6/wAAAAAAAA0ABQD7//n/6P/a/9z/4f/o/9//3P/4//z/+////wAA/f/7/wMA+P/+/wEA/v8BAAoAEgAIAAsACQABAAcAAQD9//3/9//+/wQABgANABAABAAGAAUABwAHAAAAAgADAAIABwALAAYAIAATAAwADQABAAkAAgABAAAAAAAAAAAAAAAAAAAA///+/wAAAAAAAAAAAAAAAAgABgAAAAAAAAAAAAAAAAADAAAAAAADAAAAAAAAAAAAAAAAAAAAAAAAAAAAAAAAAAMAAAAAAAAAAAAAAAAAAAD//wEA+P/3/wEAAAD///n/+v/7//z///8AAPv//P/8////AQAHAAoAAAACAAMACQAMAAUACAABAPj//v/6//3////2//X/8//2//j/+f/0/+//7P/6/wMA+f/0//L/8v/6//j/9v/7//X//f///wAAAAAAAAMAAAABAAgAFgAMAAEA/v8MABUAFgAeABoAHAAfABkAFAAaAAoAAAALAAgAEAAWAAoA//8AAAMAAAAAAPj/AQD//wIAAAD+/wAAAAAAAAAA///w//v/+P/9/wEA//8AAAIAAQADAAUAAAAEAP7/AgADAAQADwAKAP//AgACAAAABgABAAIAAQACAAAABAAJAAEA//8HAAQABgAGAAsACAD+/wEA+/8BAP7//f/8////AAAAAAAAAAAAAAAAAAAAAAAAAAAAAP7/9f/7////9v/7//7/AQD8/wAAAAAAAP7//f////3/AAAAAAAA//8BAP//AQD9//n/7f/n/+f/7P/6//7/AAAAAAAAAAAAAAAAAQDy/+//9P/9/wEA//8AAAAABAAAAAAAAAD4//z/AQAAAAAAAAAAAAAAAAAAAAAAAAD///f//v/+/wAAAAAAAAAAAAAAAAIAAgD//wEA//8BAP//AQD//wcAAAAEAA8AAAD+/wQABAAAAP7/BAADAAkACAADAB4AIQATAAIAAgAAAAAAAAACAAMAAgAAAAQACwAFAAYAAgAAAAAAAAAAAAAAAAAAAAAAAAAAAAAAAAAAAAAAAAAAAAAAAAAAAAAAAAAGAAIA//8AAAAAAAAAAAAAAAAIABYADgAGAAgAAwD//wAAAAAAAAAAAAAAAAAAAAAAAAMAAAAAAAAAAAAAAAAAAAAAAAAAAAAAAAAAAAAAAAAAAAAAAAAAAAAAAAAAAAAAAAAAAAACAAIAAAAAAAAAAAAAAAAAAAAAAAAAAAAAAAAAAAAAAAAAAAAAAAAAAAAAAAAAAAAAAAAAAAAAAPz/+v/5/wAAAAAAAAAA/f///wAAAAAAAAAAAAAAAAAAAAAAAAAAAAAAAAAAAAAAAAAAAAAAAAAAAAAAAAAAAAAAAAAAAAAAAAAA///9/wAAAAAAAAAAAAAAAAAAAAAAAAAAAAD///3/AgD9//z/AwD8/wAAAQD8/wAA9P/8/wEA//8BAPz/AAAAAAAAAAAAAOz/7/8AAAAAAAAAAAAAAAAAAAAAAAAAAAAAAAAAAAAAAAAAAAAAAAAAAAAAAAAAAAAAAAAAAAAAAAAAAAAAAAAAAAAAAAAAAAAAAAAAAAAAAAAAAAIAAQAAAAAAAAAAAAAAAAAAAAAAAAAAAAAAAAAAAAAAAAAAAAAAAAAAAAAAAAAAAAAAAAAAAAAAAAAAAAAAAAAAAAAAAAAAAAAAAAAAAAAAAAAAAAAAAAAAAAAAAAAAAAAAAAAAAAAAAAAAAAAAAAAAAAAAAAAAAAAAAAABAPz//P/y//v//////wEA//8AAAAAAAAAAAAAAAAAAAAAAAAAAAAAAAAAAAAAAAAAAAAAAAAAAAAAAAAAAAAABAAAAAIAAgAAAAAAAAAAAAAAAwAAAAAAAAAAAAAAAAAAAAAAAAAAAAEA//8HAA8ADQANAAAAAAAAAAAAAAAAAAAAAAAAAAAAAAAAAP///f8AAAAAAAD+//3/AAD///7/AQAAAAAAAAAAAAAAAAAAAAAAAAD9/wIAAgD//wEA///+////AgABAAEACAAHAAYAAAADAPz/AAAAAAAAAAAAAAAAAAAAAAAAAAAAAAAAAAAAAAAAAAAAAAAAAAAAAAAAAAAAAAAAAAAAAAAAAAAAAAAAAAAAAAAAAAAAAAAAAAAAAAAAAAAAAAAAAAAAAAAAAAAAAAAAAAADAAAAAQADAAAABwACAAoABwD+/wEAAwD//wEAAgABAAQABwAKAAQADAAHAAgAAwANAAsADgAPAAoAEQAPAAwADAAOAAEABwAAAAIAAQACAAIA//8BAP//AQD//wEA//8CAAIAAQD+//f/AAD+//r/AwDu/+L/6//q//z/8P/3//r/8f/z/+3/+v8AAAAA///1//3/AADv//f/9//t/+X/7//2//H/9v/v/+//7v/s//X/8v/3//f/+P8CAP7/AgD+/wIA/v8DAPb/6v/2//b/9//2//T/7f/9//n//f8BAP//AQD//wEABgD8//3/AAAAAAAAAAAAAAAAAAD3//7/AQD8/wAA//8EAAUA/v8GAAMABwAHAA0ACwD8/wsAAAD3/wUAAQD//wYACAAIAAcABAAJAAUABQAJAAMAAgAGAAUAAQAAAAAAAAAAAAAAAAACAAYABQAGAP//AgAGAAAAAAAAAAAAAAAAAAAAAAADAAAAAAAAAAAAAAAAAAAAAAAAAAUABAAAAAAA//8EAAUA//8AAAAAAAAAAAAAAAADAAAAAAAAAAAAAAAAAAAAAAAAAAAAAAAAAAAAAAAAAAAAAAAAAAAAAAAAAAAAAAD9////AAAAAAAAAAD9////AAAAAAAAAAAAAAAA/v/+/wAAAAAAAAAAAAAAAAAAAAAAAAAAAAAAAAAAAAADAAAAAAAAAAEAAwD//wAAAAAAAAAAAAAAAAAAAwAAAAAAAAAAAAAAAAAAAAAAAAAAAAAAAwABAAAAAAAAAAAAAAAAAAAAAAAAAAAAAAAAAAAAAAAAAAAAAAAAAAAAAAAAAAAAAAAAAAAAAAAAAAAAAAAAAAAAAAAAAAAAAAAAAAAAAAAAAAAAAAAAAAAAAAAAAAAAAAAAAAAAAAAAAAAAAAAAAAAAAAAAAAAAAAAAAAAAAAAAAAAAAAABAP//AAD6//v/+f/x/+//7P/m/+//AAD6//z/+/8AAAAA/f///wAAAAAAAAAAAAABAP/////8//z/AAD9/wAAAAAAAAAAAAAAAAAAAAAAAAAAAAAAAAAAAAAAAAAAAAAAAAAAAAAAAAAAAAAAAAAAAAAAAAAAAAAAAAAAAAAAAAAAAAAAAAAAAAAAAAAAAAAAAAAAAAAAAAAAAAAAAAAAAAAAAAAAAAAAAAAAAAAAAAAAAAAAAAAAAAAAAAAAAAAAAAAAAAAAAAAAAAAAAAAAAAAAAAAAAAAAAAAAAAAAAAAAAwABAAAAAAACAAIAAwADAAAAAAAAAAAA/f8AAAwACwAIAAkABQAFAAAAAAAAAAAAAQADAAAAAAAAAAAA/f8CAAEA//8RAAIABQACAP//AQAAAAAAAAAAAAAAAAAAAAAAAAAAAAAAAAAAAAAAAAAAAAAAAAAAAAAAAAAAAAAAAAAAAAAAAAAAAAAAAAAAAAAAAAAAAAAAAwABAAAAAAAAAAAAAAAAAAAAAAAAAAAAAAAAAAAAAAAAAAcAAAAAAAAAAAADAAAAAwAAAAAAAwABAAAAAAAAAAAAAAAAAAAAAAAAAAAAAAAAAAAAAAAAAAAAAAAAAAMAAAAAAAQAAgAAAAAAAAAAAAAAAAAAAAAAAAADAAEAAAAAAAAAAAAAAAAAAAAEAAQACwADAAwABwD+/wEA//8AAAAAAAAAAAAAAgAKAAMAAwD9/wkACQD//wAA/P8AAAAAAAAAAAAAAAAAAP///f/+//z/AAD+//7/BQD6//v//v///wQA/f///wQA+/8BAAAA+v8AAPv/+//7//r/+v/+//T///8BAPn/AgAAAAAAAgAFAAAAAQAFAAEAAgAFAAAAAAAFAAIA//8CAAIAAAACAAIA//8AAAQACAAEAAEAAgAAAAAAAAAAAAAABQADAP//BQAOAP7/DQAMAP7/DAAAAAEACwAMAAEAAAACAAYAAwAEAAMA/v8GAAQAAwABAAUAAwABAAMAAAACAAMAAgAAAAQABQAAAAgABAD3/////f/6/wIA/f/8//n/AAD/////AwD//wAAAAAAAPz/+v8AAP7//v8BAP7//v8BAP3///8BAP7//v8AAAAAAAAAAAAAAAAAAAAAAAAAAAAAAAAAAAAAAAAAAAAAAAAAAAAAAAAAAAAAAAAAAAAAAAAAAAAAAAAAAAAAAAAAAAAAAAAAAAAAAAAAAAAAAAAAAAAAAAAAAAAAAAAAAAAAAAAAAAAAAAAAAAAAAAAAAAAAAAAAAAAAAAAAAAAAAAAAAAAAAAAAAP3/AAAAAAAA/f///wAAAAAAAPz/AAAAAAAAAAAAAAAAAAD9/wAA///7//3/+//+//r//v8AAPz//P/+//3/AAD+//v/+v/8//3//P/6//7//P/9/wMA9P8EAAAA+v8HAAEABgABAAcABgADAAAA/f8HAAUAAwAIAAUAAwAEAAUACQADAAgABAAOABIAAAAEAAcABgD//wYACAADAAsA//8HAAoACwAKAAkADgACAA0AEQATABAACwAUAAkABgALAP7/BAAAAAAAAAAAAAEAAgAAAAAAAwAAAAAAAAAAAAAAAAAAAAAAAAAAAAAAAQADAAQAAQAAAAYAAgD+/wMAAAAFAAQABQAMAAgACAACAP3///8DAAYA/v/y//X/9f8BAPz/+/8CAP//AQD//wIA+//y//H/5//0//b/6f/q//D/8f/t//L/7//v/+T/8P/i/+7/+v/z//X/9P/6/+7/9P/5//j/+P/0/+7//f/w//P/+f/y/wAA/P/t//z/9v/w//z/+P/6//7/+v/0//3/AAD6/+//AQD6//v////9/wEABAALAAEAAgD8/w0ADgAMAAUAAAAbABUAAwAIAAsAAgAAAAAAAAAAAAAAAgACAP//BwAJAP7/BAAEAAIAFAANAAwA/v8CAAIAAAAQAAMA//8AAAAAAAAAAAAAAwAAAAAAAAAAAPr///8AAAAA///+/wEA/v/9/////f/5/////f8BAPv/9//9//r/AwD4//b//v/9/wAA/////wAAAAD4//z//P////7/9f/y//b//////wMAAQAAAAAAAAAAAAAAAAAAAAAAAAAAAAAAAAAAAAAAAAAAAAAAAAAAAAAAAAAAAAAAAAAAAAAAAAAAAAAAAAAAAAAAAAAAAAAAAAAAAAAAAAAAAAAAAAAAAAAAAAAAAAAAAAAAAAAAAAAAAAAAAAAAAAAAAAAAAAAAAAAAAAAAAAAAAAAAAAAAAAAAAAAAAAAAAAAAAAAAAAAAAAAAAAAAAAAAAAAAAAAAAAAAAAAAAAAAAAAAAAAAAAAAAAAAAAAAAAAAAAAAAAAAAAAAAAAAAAAAAAAAAAAAAwABAAAAAAAAAAAAAgABAP//AgAJAAUAAAAFAAEAAgACAP///f8EAAMAAgAGAP//AwAFAAUABwABAAEAAgD9//r/9v8BAP///P8AAP3//f/5//z/+P/5/wMABAACAAEA/f/+//z/9//8//f/9v8BAP7/9P/7//7///8BAP3////5//n/BQD9//v/AAD4//n/+v/9//j/9P/5//r//P/x//X/8//x//b/9v/3//r/+P/t//n//f8CAAEA/f8EAAAAAAAAAAAAAQD+////AAD9/wAAAAAAAAAAAAAAAAAAAAAAAAAAAAAAAAAAAAAAAAAAAAAAAAAAAAAAAAAAAAAAAAAAAAAAAAAAAAAAAAAA///9/wAAAAABAAUACQACAAAA/v8AAAMAAwAGAAUABwABAAUACAADAAMACQALAAQABgACAAsABAAAAAQAAAADAAcABgAHAAYAAAAFAAQAAgAFAAQAAQADAP//AQD8//n/AAAEAAAA+v8EAAYAAQD4/wIABgAEAAIAAQAEAAQAAwAGAAUAAQAAAAEACQAIAAQACAAAAPr////+/wAA+/8AAP7//f8LAAsABAAAAAIACQAEAP//AAAAAP3///8AAAAAAAAAAP///f8AAAAAAAAAAAAAAAAAAAAAAAAAAAAAAAAAAAAAAAAAAAAAAAAAAAAAAAAAAAAAAAAAAAAAAAAAAAAAAAAAAAMAAAADAP7///8FAPj/9P/z/////P/x//v/+v/9/wUA/P/7/wAA+f/+//3/+P/5//3///8BAP7////6//n/AQAAAPz/+f/8//v/+//5/wEA+v8AAAMA+v/4//j//P////n/+/8DAP3/AAAAAAMAAgACAAMACAAGAAAABQAEAAMABgAEAAkABAADAAgAAAAEAAAAAAACAAIA/v/+/wAAAAAAAAEAAwD//wAAAAAAAAAAAAAAAAAAAAAAAAAAAAAAAAAAAAAAAAAAAAAAAAAAAAAAAAAAAAAAAAAAAAAAAAAABgABAAAAAAD9/wAA/v///wYAAwACAAcAAwABAAUABAAAAAAAAAD6//f/+//6//j////9//7///8BAAMAAAAIAAEA/P8CAP7///8DAAAAAAAAAAAAAAAAAAAAAAAAAAAAAAAAAAQAAwAAAAEAAwAGAAEA//8BAP7//v8AAAAA//8EAP3/AAADAP//AQD//wUAAQALAAYA/v8BAP//BQD//wcABgD+////+P/8/wAAAAAAAAEA/f///////f8AAAMAAAAEABIADAASAA0AAgADAP//AQAAAAQA/v8DAAYA/v8GAAgABgADAAIABgABAAcAEgACABMADwD//wQABAACAAIAAQAAAAgA//8EAAAAAAAAAP//AQAAAAgA+//z/wAA/v/3//n/BQAAAPz/+//3/wAA/P8AAAAA+//9//3/AgAAAAsA/v8EAAgACwAKAAIADQAAAAQABAAFAAQAAgD+/wQAAAADAA0AAAACAAIA/v///wAA/v8GAAAAAAAAAAAAAAAAAAAAAAAAAAAAAAAAAAAAAAAAAAAAAAAAAAAAAgACAAAAAAAAAAAAAAAAAAAAAAAAAAAAAAAAAAAAAAAAAAAAAAAAAAAAAAAAAAAAAAAAAAAAAAAAAAAAAAAAAAAAAAAAAAAAAAAAAAAAAAAAAAAAAAAAAAAAAAAAAAAAAAAAAAAAAAAAAAAAAwAAAAAAAAAAAAAAAAAAAAAAAAAAAAAAAAAAAAAAAAAAAAAAAAAAAAAAAAAAAAAAAAAAAAAAAAAAAAAAAAAAAAAAAAAAAAAAAAAAAAAAAAAAAAAAAAAAAAAAAAAAAAAAAAAAAAAAAAAAAAAAAAAAAAAAAAAAAAAAAAAAAAAAAAAAAAAAAAAAAAAAAAAAAAAAAAAAAAAAAAAAAAAAAAAAAP//+v8AAAAA///9/wAAAAAAAP3/AAAAAP3/AAAAAAAAAAAAAAAAAAAAAP7//v8BAPz/AAAAAP3/AAAAAAAAAAAAAAAAAAAAAAAAAAAAAAAAAAAAAAAAAAAAAAAA/f8AAAAAAAAAAAAAAAAAAAAAAAAAAAAAAAAAAAAAAAAAAAEAAwAAAAAAAAAAAAAAAgACAAAAAAAAAAAAAAAAAAAAAAAAAAAAAAAAAAAAAwABAAAAAAAAAAAAAAAAAAAAAAAAAAAAAAAAAAAAAAAAAAAAAAAAAAIABgD//wUAAwD//wAAAAABAAQABgD//wMAAQAAAAAAAAAGAAIAAAAAAAMABgAJAAQAAAAAAAAAAAAAAPz/+P/4//b/+P//////+v/6////+P/9////9v/6//z/AAD8//7//f8AAPr/9f/3//7/+//7//n/9f8AAP//CAAAAP7//v////z/+f/7//r///8AAPr//f/7//3/AQAAAAAA/P8AAAAAAAAAAAAAAAAAAAAAAAAAAAIAAgAAAAAAAAAAAAAABgACAP//AgABAAAAAAAAAAAAAAAAAP3/AAD6//3/9f/+/wAA+/8AAAAAAAD9/wAAAAAAAAAAAAAAAAoAAQAAAAAAAwAAAAAAAAAAAAAAAAAAAAAAAAAAAP7//v8HAAAAAAADAAAABwD//wAA//8BAPv//P/8//P/AAD5/wAAAAAAAAMAAAAAAAAA/f///wEA/v/+/wAA///9/wEAAAABAPj/+v/3//3//P/9/wIA+//+//P//P/7//j/9f/8//n/8f////v/+v/4//v/9f8CAAEA+P8CAPr/AgADAAEAAAAAAAMAAAAAAAAAAAAAAAAAAAAAAAAAAAD//wEA//8BAP//AAABAAMA/f8FAAQAAAARAAEAAwAAAAgABAAAAP3/AwADAAMABQAHAAQA/v8BAP//AAD5/wAA+//8/////f8AAAsABQAIAAUABgAEAAAABAAAAAMAAAAEAAIABAAAAAoABgACAAkABgADAAMABgACAAAAAgAJAAAAAAAAAPv//P/7/////f8CAAEA8P8BAAMAAAAAAPj/AAD9/wcABAD+/wIAAAD9/wUAAAD9/wAAAAAAAAEABQABAAsAAQD+/wQAAwD+/wUABwAHAAoAAwACAAEA+//9/wAAAAAAAP3/AAAAAAAAAAAAAAAAAAAAAAAAAAAAAAAAAAAAAAAAAAAAAAAAAAAAAAAAAAAAAAAAAAAAAAAAAAAAAAAAAAAAAAAAAAAAAP//AgABAPz/AAAAAAAAAAD+//7/AQAAAAAAAAAAAPv//v8AAPH/7//0//P/8f/5//n/9v/2//L/8P/3//n//v/1/+3/8f/z//z////7//3/+v/q/+7/+f/w/+7///8AAAAAAAAAAAAAAAAAAAAAAAAAAAAAAAAAAAAAAAAAAAAAAAAAAAAAAAACAAIA//8DAAEA//8KAAIABwD+/w4AGQAKABcAEgAXABAABwADAP7/BgAPAAgAAwAFAAAAAAAAAAEADwACAP3/AQAKABMACgARAAsABgAJAAkAAwD8/wAAAAADAP//AQADAAIABwANAAgA/v8HAAEAAAD+////CAD//wAAAAD//wAAAQAAAAAAAAD6////AAAGAAoA//8EAPz/AQAJAP///f///wAAAAAAAPr/AAD9//j/AAABAPr////+//j//v/7/wAAAAABAP7/+//+//3/+//8/wAAAAD//wUABAD7/wAAAAAAAAAAAAAAAAAAAwAAAAAAAAAAAAAAAAAAAAAAAAAAAAAAAAD9/wYAAAAAAAAAAAAAAAAAAAAAAAYAAgAAAAAAAAAAAP//AwAFAP//AAAAAAAAAAAAAAAAAAAAAAAAAwABAAAAAAAAAAAAAAAAAAAAAAAAAAMAAAAAAAAAAAAAAAAAAAAAAAAAAAABAPr/9//9//j/9f/+//T/+v////j//P8AAAAABQAFAPz/8//1/wAAAgACAAAAAwAAAAAAAAAAAAAAAAD6////BAD+/wQAAAAAAAAABQAFAP//BAAEAP//AAAAAAAAAwAAAAAA8//6/wQA+//0//3/AwABAAIAAgAAAAAAAAACAAEA//8BAP//AQDv//r/+v/q//T/9P/3//T/9f/o//P/AgD8/wAAAAAAAAAAAAAAAAAAAAAAAAAAAQD+//v//v/+/wEA/f8AAAAAAAAAAAAAAAAAAAAAAAAAAAAAAAAAAAAA///9/wAAAAADAAAAAAABAAMAAAAAAAAAAgABAP//AQD//wkADgAMAAQABQAAAAUABwAAABAACAAMAAcABgATAA4ADQACAAsACwABAAQADwAFAAgADwABAA8ACAAEAAAACQANAP3////+/////v/+/wIA/P8AAP//+v8DAPz/AAD///7////+//v///8AAPz////9//7//f8AAAAAAAAAAAAA/f8AAAAAAAD+////AAAAAAAAAAAAAAAAAAAAAAAAAAABAAMAAAAAAAAAAAAAAAAAAAAAAAYAAQAAAAAAAAAAAAAAAAABAAYAAAAAAAAAAAAAAAUAAwD//wAAAAAAAAAAAAAAAAAAAAAAAAAAAAAAAAAAAAAAAAAAAAAAAAAAAAAAAAAAAAAAAAAAAAAAAAAAAAAAAAAAAAD///z/9v8BAP3/AAAAAAAA/P/7/wEAAAAAAAAA9f/q//X/+//1//D/8//2//P/9f8CAPv//f8AAAAAAAAAAAAAAAAAAP3/AAAAAAAA+v///wEA//8BAAIAAAAAAAAAAAAAAAAAAAAAAAAAAAD///7/AAD8/wAAAAAAAPf//P/8//3/AwD5//7/AAABAAMAAAAAAAAAAAAAAAAAAAAAAAAAAAAAAAAAAAAAAAAAAAAAAAAAAAAAAAAAAAAAAAAAAAAAAAAAAAAAAAAAAAAAAAAAAAAAAP//AwAFAAAA//8FAAIAAAACAAQABAAAAAMAAAAEAAAAAAAAAAAAAAAAAAAAAAAAAAAAAQADAAAAAAAAAAAAAAAAAAAAAAAAAAAAAAAAAAAAAAAAAAAAAAAAAAAAAAAAAAAABAACAAAAAAAGAAIAAAAAAAAAAAAAAAAAAAAAAAAAAAAAAAAAAAAAAAAAAAAAAAAAAAAAAAAAAAAAAAAAAAAAAAAAAAAAAAAAAAAAAAAA/v///wEA/P8AAAAA/f8AAAAAAAAAAAAAAAAAAAAAAAAAAAAAAAAAAAAAAAD6////AAAAAAAAAAAAAAAAAAAAAAAAAAAAAAAAAAAAAAAAAAAAAAAAAAAAAAAAAAAAAAMAAAAAAAAAAAAAAAAAAAAAAAAAAAAAAAAAAAAAAAAAAAAAAAAAAAAAAAAAAAAAAAAAAAAAAAAAAAAAAAAAAAAAAAAAAAAAAAAAAAAAAAAAAAAAAAAAAAABAAMABQAEAAAAAgABAAAAAAAAAAAAAAAAAAAAAAAAAAAAAAAAAAAA/f8DAAAAAAAAAAAAAAAAAAAAAAAAAAAAAAAAAAAAAAAAAAAAAAAAAAAAAAAAAAAAAAAAAP3/AAAAAAAAAAAAAAAA/f8AAAAAAAANAAEA//8MAAQADwAOAA8AEAAHABAADgAOAAwAEAAUABAACQALAA4A///9/wAAAAAAAAAAAAAAAAAA/f8AAAAA/v/9//7////+/wAAAAAAAAAAAAAAAAAAAAAAAAAAAAAAAAAAAwAAAAAAAAAAAAAAAAAAAAAAAAAAAAAAAAAAAAAAAAAAAAAAAAAAAAAAAAAAAAAAAAAAAAAAAAAAAAAAAAAAAAAAAAAAAAAAAAAAAAAAAAAAAAAAAAAAAAAAAAAAAAAAAAAAAAAAAAAAAAAAAAAAAAAAAAAAAAAAAAAAAAAAAAAAAAAAAAAAAAAAAAAAAAAAAAAAAAAAAAAAAAAAAAAAAAAAAAAAAAAAAAAAAAAAAAAAAAAAAAAAAAAAAAAAAAAAAAABAP3/+v////3//P/6////AAD+//3///8AAAAAAAAAAAAAAAAAAAAAAAAAAAAAAAAAAAAAAAAAAAAAAAAAAAAAAAAAAAAAAAAAAAAAAAAAAAAAAAAAAAAAAAAAAAAAAAAAAAAAAAAAAAAAAAAAAAAAAAAAAAAAAAAAAAAAAAAAAAAAAAAAAAAAAAAAAAAAAAAAAAAAAAAAAAAAAAAAAAEAAwAAAAAAAAAAAAAAAAAAAAAAAAAAAAAAAAAAAAAAAwAAAAAAAgACAAAAAAAAAAAAAAAAAAAAAAAAAAAAAAAAAAAAAAAAAAAAAAAAAAAAAAAAAAAAAAAAAAAAAAAAAAAAAAAAAAAAAAAAAAAAAAAAAAAAAAAAAAAAAAAAAAAAAAAAAAAAAAAAAAAAAAAAAAAAAAAAAAAAAAAAAAAAAAAAAAAAAAAAAAAAAAAAAAAAAAAAAAAAAAAAAAAAAAAAAAAAAAAAAAAAAAAAAAAAAAAAAAQAAwAAAAQABAAHAAkABQAGAAUAAgAJAAUAAAAAAAcA//8BAAEABgAHAAgABQAFAAgA//8FAP3//v/6//3//P/8//3/9v/7/wEA9f/6/wAA7v/6//7/AAAAAP3/+f/2//v/+//6//////8BAP7/+P/7//z/AQAAAAAAAAACAAIA//8BAP///P/+/wEA//8GAAAA+/8AAAAAAAD9/wAAAAAAAAAAAAD5/wEA/f8BAAEA+/8CAPv////6//7/AAD9//r/9P/6//z/+//6//z////7//7/BgAIAAcAAQABAAUAAwABAAIAAgD//wAAAgADAAEAAAAEAAIA//8DAAEAAAAAAAAAAAAAAAMAAAAAAAAAAAAAAAAAAAAAAAAAAAAAAAAAAAAAAAAAAAD8//r/AAAAAAAAAAAAAAAAAAAAAAAA/f///wAAAAAAAAAAAAAAAAAAAAAAAP7///8BAAAAAQD9////AAAAAAAAAAAAAP7//v/8//7/AQD///3//v/8/wAAAAD9/wAAAAAAAAAAAwAAAAAA///9//7//P/7//n//P8CAP7/BQADAAcADQAEAAwABwALAAcAAQAAAAAAAAAAAAAAAAAAAAoAFQAHAAoAAwADAAoACgADAAUABAANAA0ABQANABIACwAAAAEA///+/////v8AAAAAAAAAAAAAAAAAAAAAAAAAAAAAAAAAAAAAAAAAAAEA/f/6/wAAAAD7//j///8AAAAAAAAAAAAAAAAAAAAAAAABAAMAAQABAP7/BwAGAAAAAAAAAP//BAAIAP//BAAAAAAAAAAAAAAAAAAAAAAAAAAAAAAAAAAAAAAAAAAAAAAAAAAAAAAAAAAAAAAAAAAAAAEAAwAAAAAAAAAAAAAAAAACAAIAAAAAAAAAAAAAAAAAAAAAAAAAAAADAAEABwAAAAAAAwAAAAIAAgAFAAIABwAGAP//AQACAAAAAAAAAAAAAAAAAAAAAAAAAAAAAAAAAAAAAAAAAAAAAAAAAAAAAAAAAAAAAAAAAAYAAgABAAYABQACAAAAAAAAAAAAAAAAAAAAAAAAAAAAAAAAAP3/AAAAAAAAAAAAAAAAAAAAAAAAAAAAAAAAAAAAAAAAAAAAAAQA/v/+//X/7v/1/+n/9v/z//H/+f/0/wMA/P8AAPj/6//6/+//8P/w/+f/7v/3//7/9f/8/wAA+f8AAPH//f8AAPj/AQD//wEA/v/+/wAAAADx/+//+/8CAPz/AAD///7/BAD8/wAAAAAAAAAAAAAAAAAAAAABAPz/+P8BAP//AQD7//3/AgD5//n///8AAAAAAAAAAAAAAAAAAAAAAAAAAAEAAwAAAAAAAAAAAAAAAAACAAIA//8AAAUABQAUAA4ACgASABEADgAPAA4ABQAPAAUA//8AAAAAAAAAAAAAAAAAAAEAAwD//wEA//8DAAUABwAOAAMABwAMAAcADQAMAAsABgATAA0ABgADAAgA//8JAA8A/P8LAA4AEgAIABAACgACAAQACwADAPz/AAAAAAEA/P8AAAAAAAAAAAEA+//9/wEAAAAAAP//+v8AAP7//v8AAAAA///9/wEA///+//3/AAAAAAAAAAAAAAAAAAAAAAAA/v///wAAAAAAAAAAAAAAAP3////9/wAAAAAAAAAAAAAAAAAAAAAAAAAAAAAAAAAAAAAAAAAAAAAAAAAAAAAAAAAAAAAAAAAAAAAAAAAAAAAAAAQACQABAAAAAwAAAAAAAAAAAAAAAAAAAAAAAAAAAAAAAAAAAP//CAAFAAYABgAAAAAA/f8AAAAAAAAAAAAAAAAAAAAAAAAAAAAA//8GAAMA//8CAAMAAgAEAAQA//8AAAAAAAAAAAAAAAAAAAAAAAABAP7//v8AAAAAAAAAAAAAAAAAAAEADQABAAAAAAAAAAAAAAAAAAAAAgACAAAAAQAEAAIAAAAAAAQAFgANAAAADgAHAAQAAAAAAAAAAAAAAAAAAAAAAAAAAAAAAAAAAAAAAAAAAAAAAAAAAAAAAAAAAAAAAAAAAAAAAAAAAAAAAAAAAAAAAAAAAAAAAAAAAAAAAAAAAAAAAAAAAAAAAAAAAAAAAAAAAAAAAAAAAAAAAAAAAAAAAAAAAAAAAAAAAAAAAP7//P/1//3//v///wAAAAD///3///////7//f8AAAAAAAAAAAAAAAAAAAAAAAAAAAAAAAAAAAAAAAAAAAAAAAAAAAAAAAAAAAAAAAAAAAAAAAAAAAAAAAAAAAAAAAAAAAAAAAAAAAEA//////j/9/////7/AQAAAAAAAAAAAAAAAAAAAAAAAAAAAAAAAAAAAAAAAAAAAAAAAAD9/wAAAAAAAAAAAAAAAAAAAAAAAAAAAAAAAAAAAAAAAAAAAAAAAAAAAAAAAAAAAwAAAAAAAAAAAAAAAAAEAAAABQACAP//BgACAP//BQACAAEA/v/+/wAA/f8FAAMAAQAFAAsACwAJAAsADwAJAAQAAQAAAAsAEQAQAAUA/f//////AQAGAP7///8BAP//AQACAAEA//////3/AwD5//X/AgD3//z/AAD8////AAAAAAAAAAAAAAMAAgADAP7//f8CAO//7//u//P/AADy//H/7//0//L/8//y/+j/5//n//r/+f/4////AAAAAAAAAAAAAAAAAAAAAAEA/v/6/wAAAQACAP//AQD//wEA/f///wAAAAAAAAAAAAAAAP///v8AAAAAAAD9/wAA//8JAAAABQAKAAUABgAGAAUABQAFAP7/AwABAAIAAQAAAAAAAAAAAAAAAAAAAAAAAAAAAAAAAAAAAAAAAAAAAAAAAAAAAAAAAAAAAAAAAAAAAAAAAAAAAAAAAQD+/////v/8//v/+f/9/wAAAAAAAAcAAAD+/wEA///+//3///8AAP//+f8BAP//AgAFAAAABAACAAAAAgACAP//BAAAAAAAAAD5/wAAAAABAAMA//8BAP//AgD+/wYABwALAAkADQAYAPv/CwACAAIABgAAAAMAAQACAP//AAAFAAcA//8BAAAAAAAAAAAABwAIAAAAAAAAAAcABwABAAIAAAADAP7/9P/5/wcAAAD+//n//P8AAAAA/P/7/wIA/v8CAPn////9//f//P/+/wEA+f8AAP7//v/8////AAAAAAAAAAAAAAEABwAAAAAAAAD+//7/AAAAAAAAAAAAAAAAAAAAAAAAAAAAAAAAAAAAAAAAAAAAAAAAAAAAAAAAAAAAAAAAAAAAAAAAAAAAAAAAAAAAAAAAAAAAAAAAAAAAAAAAAAAAAAAAAAAAAAAAAAAAAAAAAAAAAAAAAAAAAAAAAAAAAAAAAAD//wEAAAD7/wAAAAAAAAAAAAAAAP///f8AAAAAAAAAAAAA///+/wAAAAAAAAAAAAAAAAAAAQD8//z/AAAAAAAAAAD///3/AQD6//7/AQD+//7/AAAAAAAAAAAAAAAAAAAAAAAAAAAAAAAAAAAAAAAAAAAAAAAAAAAAAAAAAAAAAAAAAAAAAAAAAAAAAAAAAAAAAAAAAAAAAAAAAAAAAAAAAAAAAAAAAAAAAAAAAAAAAAAAAAAAAAAAAAAAAAAAAAAAAAAAAAAAAAAAAAAAAAAAAAAAAAAAAAAAAAAAAAAAAAAAAAAAAAAAAAAAAP3///8AAAAAAAAAAAAAAAAAAAAAAAAAAAAAAAAAAAAAAAAAAAAAAAD9/wAAAAAAAAAAAAAAAAAAAAAAAAAAAAAAAAAAAAAAAAAAAAD5//v/AQD//wEA/f///wAAAAAAAAAAAAAAAAAAAAAAAAAAAAAAAAAAAAAAAAAAAAD6//b/6v/5//f/8P/6/wAAAAAAAAAAAAAAAAAAAAAAAAAAAAAAAAAAAAAAAAAAAAAAAAAAAAAAAAAAAAAAAAAAAAAAAAAAAAAAAAAAAAAAAAAAAAAAAAAAAAAAAAAAAAAAAAAAAAAAAAAAAAAAAAAAAAAAAAAAAAAAAAAAAAAAAAAAAAAAAAAAAAAAAAAAAAAAAAAAAAAAAAAAAAAAAAAAAAD7//z//P/6//7//v/+/wIA9//z//3/+//5//z/AgD//wEA//8BAP//AQD9//v/AAD5/wEA//8BAPr//v8AAPz/AAAAAAAAAAAAAAAAAAAAAAAAAAAAAAAA///9//7///8BAPz/+f8AAAAA+//7//z/AQAAAP3/AAAAAAcABwACAAQACwADAAEACQAHAAAAAAD///r/AAD9//z/BAAEAAAABQD5//r/AQAAAAQAAAACAAYA/f8AAAAA/f8IAAgABAD//wIAAwAEAAEAAAAAAAIACgAIABAACQABAAcAAwAAAAgAAQAAAPz//v8FAP7/AwAFAAAACAADAAIAAAABAAIAAQALAAQAAgD3/wEA///3//3//P/5/wAAAQD//wMA//8AAAAAAAD9////AgAAAAAA+//9/wEAAAAAAP3/AAAAAAAAAAAAAAAABAD///7/BwAAAAAABQADAP//AAAAAAAAAAAAAAAAAQADAAAAAAAAAAAAAAAAAP//AwABAAAAAAABAAYAAAAAAAAAAAAAAAAAAAAAAAAAAAAAAAAAAAAAAAAAAAAAAAAAAAAAAAAAAAAAAAAAAAAAAAAAAAAAAAAAAAAAAAAAAAAAAAAAAAAAAAAAAAAAAAAAAAAAAAAAAAAAAAAAAAAAAAAAAAAAAAAAAAAAAP7//f/7/wEAAAAAAAAAAAAAAAAAAAAAAPn/+//+/+r/+/8BAAAAAAD9/wAA/f////3/AAD9////AAAAAAAAAAAAAAAAAAAAAPn/9f/9/////v8AAAAAAAAAAAAAAAAAAAAAAAAAAAAAAAAAAAAAAAAAAAAAAAAAAAAAAAAAAAAAAwAFAAEABAAEAAEAAwAAAAUACAAEAAkAAgD//wAAAAAAAAAAAAAAAAAAAAAAAAAAAAAAAAAAAAAAAAAAAAAAAAAAAAAAAAAAAAAAAAAAAAAAAAAABAAAAAIAAQADAAUA/v8BAAIAAAAAAAUAAQAAAAMAAAACAAIAAwACAP//AgD3//n/AAD9/wAAAgAAAP7////z//r/+f/5/////v////3///8AAP3/+v////n/+//7//r//v/9//j//f////n/AQD6////8v/5//r/9v/8//T/+f/1/////v8EAPz/AAADAAYABgAEAAcABQAAAAAACgAAAP7/AAABAPj/+P/w/////f/1/wIA/f8AAAEAAgAAAAAAAAADAAAAAAAAAAAAAAAAAAAAAAAAAAAAAAAAAAAAAAAAAAAAAAAAAAAAAQADAAAAAAAAAAAAAAAAAAAAAAAAAAAAAQACAP//CAAKAAMABgAKAAAACQANAAAACQAEAAMACAD8/////f/4//7/+P/+//z/9v8DAP//AQAGAAAAAQAFAAEAAAABAAIAAAD6/wEAAgAAAAAAAAD9/wEAAgD//wAAAAAAAAAABAD+//7/AAAAAAAAAwD+/wIAAQD//wEA/v8GAP7/DAAEAAEADwAOAA0AAAADAAAAAAAAAAMAAAAAAAEA//8CAPv/+f////L//v8CAAAAAwAAAAAAAgAAAP//AgACAAAA//8DAAEABQD6//r/+//4//P/7v/3////AAD7/wAAAAAEAPj//P8AAPv//f/7//b/+f/8//v/+P/6/wAA+/8IAAUA/v/+/wEACAAHAA8ACwAIAAIA//8AAAEAAwAAAP//+/8AAAAAAAAAAAAAAAAAAAAAAAAAAAAAAAAAAAAAAAAAAAAAAAAAAAAAAAAAAAAAAAAAAAAAAAAAAAAAAAAAAAAAAAAAAAMAAAAAAAIAAQD//wIAAgAAAAAAAAADAAAAAAAAAAAAAQAEAAQAAQAAAAAAAAAAAAAABgACAPz////7////AAD6//f/+v8BAAMAAQACAAUACQD+//j//v/9//z/+/8AAP7/+//9//z/AAAAAP7////+/wIA/v8AAP7//v8BAAAAAAAAAAAAAAD///3/AQAAAAAAAAAAAAAABAD9/wEAAgD6/wYAAwD//wAAAAAAAAAAAAAAAAAAAQD//wIA/P/8//3/+/8AAAAAAAACAAEAAAAGAAYAAgD//wIABAAIAAEAAAAAAAMA/v/+/wEA//8BAP//AwABAAAAAAAAAAAAAAAAAAAAAAD9/wAAAAAAAPv/5P/x/+3/8v/1//v/+v/1/wAA/v/7////AQD5/wAA/f8DAAUAAgAIAAEA//8FAAcAAwAAAAMABQAHAAMACAAEAAQABQD+/wcAAAACAAQA/v/6//b/8f/8//v/+f/4//T/8//8//7/9v///wIAAAD9/wAAAAAAAAAAAAAAAAAAAAAAAPL/AgD///n/AgD//wEA//8BAP//AQD9////AAAAAPv//v8BAAAAAAAAAAAAAAAAAAAAAAAAAAAAAAAAAAAAAAAAAAAAAAAAAAAAAAAAAAAAAAAAAAAAAAAAAAAAAAAAAAAAAAAAAAAAAAAAAAAAAAAAAAAAAAAAAAAAAAAAAAAAAAAAAAAAAAAAAAAAAAAAAAAAAAAAAAAAAAAAAAAAAAAAAAEABgAAAAAAAAAAAAAAAAAAAAAAAAAAAAAAAAAAAAAABgACAAIAAAAAAAAAAAAAAAAAAAAAAAAAAAAAAAAAAwADAAUA/v8FAP//BAAAAAMADQD+/wkA/v8IAA8AAAAAAAYAAgD//wAAAAAAAAAAAAAAAAAAAAAAAAAAAAAAAAAAAAAAAAAAAAAAAAAAAAAAAAAAAAAAAAAAAAAAAAAAAAAAAAAAAAAAAAAAAAAAAAAAAAAAAAAAAAAAAAAAAAAAAAAAAAAAAAAAAAAAAAAAAAAAAAAAAAAAAAAAAAAAAAAAAAAAAAAAAAAAAAAAAAAAAAAAAAAAAAAAAAAAAAAAAAD6/wAAAAAAAAAAAQD3//r//v/7/wAA/f8BAP//AAAAAAAAAAAAAAAAAAAAAAAAAAAAAAAAAAAAAAAAAAAAAAAAAAAAAAAAAAAAAAAAAAAAAAAAAAAAAAAAAAAAAAAAAAAAAAAAAAAAAAAAAAAAAAAAAAAAAAAAAAAAAAAAAAAAAAAAAAAAAAAAAAAAAAAAAAD+//7/AAAAAAAAAAAAAAAAAAAAAAAAAAAAAAAAAAAAAAAA/f8AAAAAAAABAP//AQD//wEA/v8CAP3/BAADAAAACwAGAAoACQAQABEADAAJAA4ACAAOAAAACgAOAAkACQAAAAoAAwAAAAAABQD6/woABwD6/wIA/v/7////AQD//wEA+f/8/wAAAAAAAAMABAAHAA0ADAACAAcACgAAAA8ABgAEAA4ABQAAAAAAAAAAAAAA/f8AAAAAAAAAAAAAAAAAAAAA///9//3/AAAAAAAAAAAAAAAAAAAAAAAAAwABAP7//v8BAP//AgALAAIAAwAAAAAAAAAAAAAAAAAAAAAAAAAAAAMAAAAAAAAAAAAAAAAAAAAAAAAAAAAAAAAAAAAAAAAAAwAAAAAAAAAAAAAAAAAAAAAAAAAAAAAAAAAAAAAAAwABAAAAAAAAAAAAAAAAAAAAAAAAAAAAAAAAAAAAAAAAAAAAAAAAAAAAAAAAAAAAAAAAAAAAAAAAAAAAAAAAAAAAAAAAAAAAAAAAAAAAAAAAAAAAAAAAAAAABAACAAAAAAADAAAAAAAAAAYAAgD//wAAAAAAAP//AwABAAAAAAADAAAAAAADABIABgACAAoAAwAFAAQABAD//wAAAAAAAAAAAAD+//7/AwABAAAAAAAAAAAAAAAAAP//+v/9/wAAAAAAAAAAAAAAAP3/AAAAAP3/AAAAAPj//f/8//v/BgAEAAkAAAD9////AQD///7/AAAAAP//BAAUAAsADAARAAUACAAMAAYACwAKAAIA+v///wAAAAAAAAAAAAAAAAAAAAAAAAAAAAAAAAAAAAAAAAAAAQACAAYAAAAGAAEAAAAAAAIABgD//wAAAAAAAAIAAgD//wAAAAAAAAAAAAAAAAAAAAAAAAAAAAAAAAAAAAAAAAAAAAAAAAAAAAAAAAAAAAAAAAAAAAAAAAAAAAAAAAAAAAAAAAEAAwAAAAAAAAAAAAAAAAAAAAAAAAAEAAAAAAAAAAAAAAD0/+7/9v/w/+b/9//v//r/9//u/+//8/8AAP7/AQABAAIA//8AAAAAAAAAAP3///8AAAAAAAAAAP//AgABAAIAAgAAAAAAAAAAAAAAAAAAAAAAAAABAP//BAD+/wAA8v/7/wAA9v/4/+n/9v/0//r/9v/+/wAA/P8BAP//AQAAAAAAAAAAAAAAAAAAAAAAAgACAAAABAD//wAAAAADAAEAAAAAAAAAAAAAAAAAAAAAAAAAAAAAAAAAAAAAAAAAAAAAAAAAAAAAAAIAAQAAAAAAAAAAAP3/AAAAAAAAAAAAAAAAAAAAAAAAAAAAAAAAAAAAAAAAAAAAAAAAAAAAAAAAAAAAAP3///8AAPz/AAD9//P////+//b//f8BAP7/+v////7/AgD4//H/AAAAAP3/+v8EAAQAAAAAAAAAAAAAAAMAAAAEAAMAAAD9/wAAAAAAAAAAAAAAAAAA/P/6//v/AAAAAPD//v/2//b/AgD//wEA///9/wAAAAAAAAAA/P////X/9//1/+3/9f/w//L/+v/8//z/AAD3//f/BQAAAAAAAAAAAAAAAgADAAEAAAAAAAAAAAAAAAAAAAAAAAAAAAABAAMAAAAAAAAAAAAAAAAAAAAAAAAAAAAAAAAAAAAAAAAAAAAAAAAAAAAAAAAAAAAAAAAAAAAAAAAAAAAAAAAAAAAAAAAAAAAAAAAAAAAAAAAAAAAAAAAAAAAAAAAAAAAAAAAABgACAAAAAAAAAAAAAAAAAAAAAAAAAAAAAAAAAAAAAAAAAAAAAAAAAAAAAAAAAAAAAAAAAAAAAAAAAAAAAAD///7/AAAAAP7//v8BAAAAAAAAAAAAAAAAAAAA/v//////+P/7/wEA+P/+/+7/9P////7/AAD6////+v8AAAAAAAAAAAAAAAAAAAEA/f///wAAAAAAAAAAAAAAAAAA+//9/wEA/f8AAAAAAAAAAAAAAAAAAAAAAAAAAAAAAAAAAAAAAAAAAAAAAAAAAAAAAAAAAAAAAAAAAAAAAAAAAAAAAAAAAAAAAAAAAAAAAAAAAAAAAAAAAAEAAwD//wAAAAAAAAAAAAADAAAAAAAAAAAAAAAAAAAAAAAAAAAAAAAEAAAAAAAAAAAA//8CAAEACgABAAsAHAAAAAkABAACAAAAAwABAAAAAwD//wAAAAAAAAAAAwADAAUAAAAAAAAAAAAAAAAAAAAAAAAAAAAAAAQAAwAAAAAAAAABAAMAAAACAAYAAgAAAAAAAAAAAAAAAAAAAAAAAAAAAAAAAAAAAAAAAAAAAAAAAAAAAAAAAAAAAAAAAAAAAAAAAAAAAAAAAAAAAAAAAAAAAAAAAAAAAAAAAAAAAAAAAAAAAAAAAAAAAAAAAAAAAAAA/P8AAAAAAAAAAP7//f/7/wEAAAAAAAAAAAAAAAAA///+/wAAAAAAAAAAAAD+//7/AQD///3/AAD+//n//v////3/AAAAAAAAAAAAAAAAAAAAAAAAAAAAAAAAAAAAAP7///8AAAAA/f8AAAAAAAD9/wAAAAAAAAAAAAAAAPz/AAAAAP3////9/wAA/v/+/wEAAAAAAAcAEwAKAAsACAADAA8ACQAOAAcABAAAAAAAAAD8/wMAAgAAAAAAAAAAAAAA+//9/wAAAQAAAAcACQACABMABgAJAA4ABgANAAYAEAABAAwACQADABIACAANAAwA//8NAA8A//8QAAYACQAHAP3/AgD+/////v/+/wAA///9//7/AAAAAP3//v/+//v/+/8BAP///f8AAAAAAAD9/wAAAAAAAAAAAAAAAAAAAAAAAAAAAAAAAAAAAAAAAAAAAAAAAAAA/f8AAAAAAAAAAAAAAAD///7/AAAAAAAAAAAAAAAAAAAAAAAAAAAAAAAAAAAAAAAAAAAAAAAAAAAAAAkAAgD//wAA//8BAAIABAAEAP//AQD//wIADAAAAAMAAAAAAAAAAAAAAAAAAAAAAAAAAAAAAAAAAAAAAAAAAAAAAAAAAAAAAAAAAAAAAAAAAAAAAAAAAAAAAAAAAAACAAEAAQAGAAIAEwAKAAYAFAAAAAcACAD//wAAAAAAAAAAAAAAAAAAAAAAAAAAAAAAAAAAAAAAAAAAAAAAAAAAAAAAAAAAAAAAAAAAAAAAAAAAAAAAAAAAAAAAAAAAAAAAAAAAAAAAAAAAAAAAAAAAAAAAAP3/AAAAAAAAAAAAAAAAAAAAAAAAAAAAAAAAAAAAAAAAAAAAAAAAAAAAAAAAAAAAAAAAAAAAAAAAAAAAAAAAAAAAAAAAAAAAAAAAAAAAAAAAAAAAAAAAAAAAAAAAAAAAAAAA/f/8/wAAAAAAAP3///8AAAAAAAD9////AAAAAAEA/f///wAA/P8AAPr///8AAAAAAAAAAAAAAAAAAAAAAAAAAAAAAAAAAAAAAAAAAAAAAAAAAAAAAAAAAAAAAAAAAAAAAAAGAAEAAAAAAAAAAAAAAAAAAAAAAAAAAAAAAAAAAAAAAAAAAAAAAAAAAAAAAAAAAAAAAAAAAAAAAAAAAAAAAAAAAAAAAAAAAAAAAAAAAwAAAP//AgACAAAAAwACAAEAAAAAAAAAAAAAAAAAAAAAAAAAAAAAAAAAAAAAAAAAAAAAAAAAAAAAAAAAAAAAAAAAAAAAAAAAAAAAAAAAAAAAAAAAAAAAAAAAAAAAAAAAAAAAAAAAAAAAAAAAAAAAAAAAAAAAAAAAAAAAAAAAAAAAAAAAAAAAAAAAAAAAAAAAAAAAAAAAAAAAAAAAAAAAAAAAAAAAAAAAAAAAAAAAAAAAAAAAAAAAAAAAAAAAAAAAAAAAAAAAAAAAAAAAAAAAAAAAAAAAAAAAAAD+////AQD//wIAAgD//xAACwAAAAMAAQAAAP3/AAAAAAAAAAAIAAMAAAAAAAYAAQAEABoAEAAXAAgABwAJAP7/AQAAAAAAAAAAAAIABgAAAAAAAAAAAAAAAAAAAAAAAgACAA==\" type=\"audio/wav\" />\n",
              "                    Your browser does not support the audio element.\n",
              "                </audio>\n",
              "              "
            ],
            "text/plain": [
              "<IPython.lib.display.Audio object>"
            ]
          },
          "execution_count": 65,
          "metadata": {},
          "output_type": "execute_result"
        }
      ],
      "source": [
        "# Plot the waveform using matplotlib\n",
        "plt.figure(figsize=(10, 3))\n",
        "plt.plot(data)\n",
        "plt.title('Simple audio')\n",
        "plt.xlabel('Time (s)')\n",
        "plt.ylabel('Amplitude')\n",
        "plt.show()\n",
        "\n",
        "# Display audio player\n",
        "Audio(data, rate=sample_rate)"
      ]
    },
    {
      "attachments": {},
      "cell_type": "markdown",
      "metadata": {},
      "source": [
        "np.hstack is then used to horizontally concatenate these feature vectors into a single, one-dimensional array (result), which becomes the feature representation for that audio file."
      ]
    },
    {
      "cell_type": "code",
      "execution_count": 13,
      "metadata": {},
      "outputs": [],
      "source": [
        "def extract_features(data):\n",
        "    # ZCR (Zero Crossing Rate)\n",
        "    zcr = np.mean(librosa.feature.zero_crossing_rate(y=data).T, axis=0)\n",
        "\n",
        "    # Energy\n",
        "    energy = np.mean((librosa.feature.rms(y=data)).T, axis=0)\n",
        "\n",
        "    # Spectral Centroid\n",
        "    spectral_centroid = np.mean(librosa.feature.spectral_centroid(y=data, sr=sample_rate).T, axis=0)\n",
        "\n",
        "    # Spectral Spread\n",
        "    spectral_spread = np.mean(librosa.feature.spectral_bandwidth(y=data, sr=sample_rate).T, axis=0)\n",
        "\n",
        "    # Spectral Flux\n",
        "    spectral_flux = np.mean(librosa.onset.onset_strength(y=data, sr=sample_rate).T, axis=0)\n",
        "\n",
        "    # MFCC (Mel-Frequency Cepstral Coefficients)\n",
        "    mfcc = np.mean(librosa.feature.mfcc(y=data, sr=sample_rate, n_mfcc=13).T, axis=0)\n",
        "\n",
        "    # Chroma Vector\n",
        "    chroma = np.mean(librosa.feature.chroma_stft(y=data, sr=sample_rate).T, axis=0)\n",
        "\n",
        "    # Stack all features horizontally\n",
        "    result = np.hstack((zcr, energy, spectral_centroid, spectral_spread, spectral_flux, mfcc, chroma))\n",
        "    return result"
      ]
    },
    {
      "cell_type": "code",
      "execution_count": 14,
      "metadata": {},
      "outputs": [],
      "source": [
        "\n",
        "def get_features(path):\n",
        "    # duration and offset are used to take care of the no audio in start \n",
        "    # and the ending of each audio files as seen above.\n",
        "    data, sample_rate = librosa.load(path, duration=2.5, offset=0.6)\n",
        "    \n",
        "    result = extract_features(data)\n",
        "    \n",
        "    return result\n",
        "    "
      ]
    },
    {
      "attachments": {},
      "cell_type": "markdown",
      "metadata": {},
      "source": [
        "#### Extract features "
      ]
    },
    {
      "cell_type": "code",
      "execution_count": 15,
      "metadata": {},
      "outputs": [],
      "source": [
        "# List of feature names\n",
        "feature_names = [\n",
        "    'ZCR', 'Energy', 'SpectralCentroid', 'SpectralSpread', 'SpectralFlux',\n",
        "    'MFCC1', 'MFCC2', 'MFCC3', 'MFCC4', 'MFCC5', 'MFCC6', 'MFCC7',\n",
        "    'MFCC8', 'MFCC9', 'MFCC10', 'MFCC11', 'MFCC12', 'MFCC13',\n",
        "    'Chroma1', 'Chroma2', 'Chroma3', 'Chroma4', 'Chroma5', 'Chroma6',\n",
        "    'Chroma7', 'Chroma8', 'Chroma9', 'Chroma10', 'Chroma11', 'Chroma12'\n",
        "]\n"
      ]
    },
    {
      "cell_type": "code",
      "execution_count": 19,
      "metadata": {},
      "outputs": [
        {
          "name": "stderr",
          "output_type": "stream",
          "text": [
            "/Users/siakesophie/Local_Docs/ING_3/S9/Engineering_project/project/SERAPP/.env-serapp/lib/python3.10/site-packages/librosa/core/pitch.py:101: UserWarning: Trying to estimate tuning from empty frequency set.\n",
            "  return pitch_tuning(\n"
          ]
        }
      ],
      "source": [
        "X, Y= [], []\n",
        "for path, emotion in zip(data_path.Path, data_path.Emotions):\n",
        "    feature = get_features(path)\n",
        "    X.append(feature)\n",
        "    Y.append(emotion)"
      ]
    },
    {
      "cell_type": "code",
      "execution_count": 22,
      "metadata": {},
      "outputs": [
        {
          "data": {
            "text/plain": [
              "(11682, 11682, (11682,))"
            ]
          },
          "execution_count": 22,
          "metadata": {},
          "output_type": "execute_result"
        }
      ],
      "source": [
        "len(X), len(Y), data_path.Path.shape"
      ]
    },
    {
      "attachments": {},
      "cell_type": "markdown",
      "metadata": {},
      "source": [
        "### Création du dataset"
      ]
    },
    {
      "cell_type": "code",
      "execution_count": 23,
      "metadata": {},
      "outputs": [
        {
          "data": {
            "text/html": [
              "<div>\n",
              "<style scoped>\n",
              "    .dataframe tbody tr th:only-of-type {\n",
              "        vertical-align: middle;\n",
              "    }\n",
              "\n",
              "    .dataframe tbody tr th {\n",
              "        vertical-align: top;\n",
              "    }\n",
              "\n",
              "    .dataframe thead th {\n",
              "        text-align: right;\n",
              "    }\n",
              "</style>\n",
              "<table border=\"1\" class=\"dataframe\">\n",
              "  <thead>\n",
              "    <tr style=\"text-align: right;\">\n",
              "      <th></th>\n",
              "      <th>ZCR</th>\n",
              "      <th>Energy</th>\n",
              "      <th>SpectralCentroid</th>\n",
              "      <th>SpectralSpread</th>\n",
              "      <th>SpectralFlux</th>\n",
              "      <th>MFCC1</th>\n",
              "      <th>MFCC2</th>\n",
              "      <th>MFCC3</th>\n",
              "      <th>MFCC4</th>\n",
              "      <th>MFCC5</th>\n",
              "      <th>...</th>\n",
              "      <th>Chroma4</th>\n",
              "      <th>Chroma5</th>\n",
              "      <th>Chroma6</th>\n",
              "      <th>Chroma7</th>\n",
              "      <th>Chroma8</th>\n",
              "      <th>Chroma9</th>\n",
              "      <th>Chroma10</th>\n",
              "      <th>Chroma11</th>\n",
              "      <th>Chroma12</th>\n",
              "      <th>labels</th>\n",
              "    </tr>\n",
              "  </thead>\n",
              "  <tbody>\n",
              "    <tr>\n",
              "      <th>0</th>\n",
              "      <td>0.204540</td>\n",
              "      <td>0.018793</td>\n",
              "      <td>3157.236579</td>\n",
              "      <td>2216.501199</td>\n",
              "      <td>2.351883</td>\n",
              "      <td>-440.286591</td>\n",
              "      <td>52.299297</td>\n",
              "      <td>-6.665863</td>\n",
              "      <td>4.278304</td>\n",
              "      <td>-15.808314</td>\n",
              "      <td>...</td>\n",
              "      <td>0.321975</td>\n",
              "      <td>0.346781</td>\n",
              "      <td>0.480067</td>\n",
              "      <td>0.331558</td>\n",
              "      <td>0.274953</td>\n",
              "      <td>0.354453</td>\n",
              "      <td>0.393035</td>\n",
              "      <td>0.393787</td>\n",
              "      <td>0.369280</td>\n",
              "      <td>angry</td>\n",
              "    </tr>\n",
              "    <tr>\n",
              "      <th>1</th>\n",
              "      <td>0.189815</td>\n",
              "      <td>0.012744</td>\n",
              "      <td>2744.419931</td>\n",
              "      <td>1984.251392</td>\n",
              "      <td>1.925617</td>\n",
              "      <td>-484.020691</td>\n",
              "      <td>52.436253</td>\n",
              "      <td>-8.613789</td>\n",
              "      <td>6.417563</td>\n",
              "      <td>-3.227553</td>\n",
              "      <td>...</td>\n",
              "      <td>0.285417</td>\n",
              "      <td>0.207637</td>\n",
              "      <td>0.242176</td>\n",
              "      <td>0.227869</td>\n",
              "      <td>0.242703</td>\n",
              "      <td>0.299185</td>\n",
              "      <td>0.388764</td>\n",
              "      <td>0.382405</td>\n",
              "      <td>0.378763</td>\n",
              "      <td>fear</td>\n",
              "    </tr>\n",
              "    <tr>\n",
              "      <th>2</th>\n",
              "      <td>0.200589</td>\n",
              "      <td>0.061085</td>\n",
              "      <td>3130.434636</td>\n",
              "      <td>2301.913172</td>\n",
              "      <td>2.341648</td>\n",
              "      <td>-315.505432</td>\n",
              "      <td>27.667685</td>\n",
              "      <td>-38.753201</td>\n",
              "      <td>0.213876</td>\n",
              "      <td>-14.901350</td>\n",
              "      <td>...</td>\n",
              "      <td>0.237158</td>\n",
              "      <td>0.168251</td>\n",
              "      <td>0.235008</td>\n",
              "      <td>0.320012</td>\n",
              "      <td>0.395711</td>\n",
              "      <td>0.443678</td>\n",
              "      <td>0.420142</td>\n",
              "      <td>0.433307</td>\n",
              "      <td>0.439407</td>\n",
              "      <td>fear</td>\n",
              "    </tr>\n",
              "    <tr>\n",
              "      <th>3</th>\n",
              "      <td>0.177156</td>\n",
              "      <td>0.040083</td>\n",
              "      <td>2874.637946</td>\n",
              "      <td>2220.399237</td>\n",
              "      <td>2.429970</td>\n",
              "      <td>-346.149780</td>\n",
              "      <td>52.521111</td>\n",
              "      <td>-14.139482</td>\n",
              "      <td>6.766320</td>\n",
              "      <td>-16.968788</td>\n",
              "      <td>...</td>\n",
              "      <td>0.367692</td>\n",
              "      <td>0.330350</td>\n",
              "      <td>0.368875</td>\n",
              "      <td>0.278672</td>\n",
              "      <td>0.218055</td>\n",
              "      <td>0.257016</td>\n",
              "      <td>0.376277</td>\n",
              "      <td>0.342528</td>\n",
              "      <td>0.312693</td>\n",
              "      <td>angry</td>\n",
              "    </tr>\n",
              "    <tr>\n",
              "      <th>4</th>\n",
              "      <td>0.175203</td>\n",
              "      <td>0.006512</td>\n",
              "      <td>2897.465696</td>\n",
              "      <td>2159.335761</td>\n",
              "      <td>2.339541</td>\n",
              "      <td>-532.369385</td>\n",
              "      <td>70.741547</td>\n",
              "      <td>-1.425078</td>\n",
              "      <td>11.303340</td>\n",
              "      <td>-9.632647</td>\n",
              "      <td>...</td>\n",
              "      <td>0.345111</td>\n",
              "      <td>0.322321</td>\n",
              "      <td>0.372758</td>\n",
              "      <td>0.350202</td>\n",
              "      <td>0.387294</td>\n",
              "      <td>0.438436</td>\n",
              "      <td>0.350818</td>\n",
              "      <td>0.331767</td>\n",
              "      <td>0.371133</td>\n",
              "      <td>disgust</td>\n",
              "    </tr>\n",
              "  </tbody>\n",
              "</table>\n",
              "<p>5 rows × 31 columns</p>\n",
              "</div>"
            ],
            "text/plain": [
              "        ZCR    Energy  SpectralCentroid  SpectralSpread  SpectralFlux  \\\n",
              "0  0.204540  0.018793       3157.236579     2216.501199      2.351883   \n",
              "1  0.189815  0.012744       2744.419931     1984.251392      1.925617   \n",
              "2  0.200589  0.061085       3130.434636     2301.913172      2.341648   \n",
              "3  0.177156  0.040083       2874.637946     2220.399237      2.429970   \n",
              "4  0.175203  0.006512       2897.465696     2159.335761      2.339541   \n",
              "\n",
              "        MFCC1      MFCC2      MFCC3      MFCC4      MFCC5  ...   Chroma4  \\\n",
              "0 -440.286591  52.299297  -6.665863   4.278304 -15.808314  ...  0.321975   \n",
              "1 -484.020691  52.436253  -8.613789   6.417563  -3.227553  ...  0.285417   \n",
              "2 -315.505432  27.667685 -38.753201   0.213876 -14.901350  ...  0.237158   \n",
              "3 -346.149780  52.521111 -14.139482   6.766320 -16.968788  ...  0.367692   \n",
              "4 -532.369385  70.741547  -1.425078  11.303340  -9.632647  ...  0.345111   \n",
              "\n",
              "    Chroma5   Chroma6   Chroma7   Chroma8   Chroma9  Chroma10  Chroma11  \\\n",
              "0  0.346781  0.480067  0.331558  0.274953  0.354453  0.393035  0.393787   \n",
              "1  0.207637  0.242176  0.227869  0.242703  0.299185  0.388764  0.382405   \n",
              "2  0.168251  0.235008  0.320012  0.395711  0.443678  0.420142  0.433307   \n",
              "3  0.330350  0.368875  0.278672  0.218055  0.257016  0.376277  0.342528   \n",
              "4  0.322321  0.372758  0.350202  0.387294  0.438436  0.350818  0.331767   \n",
              "\n",
              "   Chroma12   labels  \n",
              "0  0.369280    angry  \n",
              "1  0.378763     fear  \n",
              "2  0.439407     fear  \n",
              "3  0.312693    angry  \n",
              "4  0.371133  disgust  \n",
              "\n",
              "[5 rows x 31 columns]"
            ]
          },
          "execution_count": 23,
          "metadata": {},
          "output_type": "execute_result"
        }
      ],
      "source": [
        "Features_simple = pd.DataFrame(X, columns=feature_names)\n",
        "Features_simple['labels'] = Y\n",
        "Features_simple.to_csv('features_simple.csv', index=False)\n",
        "Features_simple.head()"
      ]
    },
    {
      "cell_type": "code",
      "execution_count": 24,
      "metadata": {},
      "outputs": [
        {
          "data": {
            "text/plain": [
              "(11682, 31)"
            ]
          },
          "execution_count": 24,
          "metadata": {},
          "output_type": "execute_result"
        }
      ],
      "source": [
        "Features_simple.shape"
      ]
    },
    {
      "cell_type": "code",
      "execution_count": 16,
      "metadata": {},
      "outputs": [],
      "source": [
        "df_features_simple = pd.read_csv('features_simple.csv')\n",
        "X_simple = df_features_simple.drop(['labels'], axis=1)\n",
        "Y_simple = df_features_simple['labels']"
      ]
    },
    {
      "cell_type": "code",
      "execution_count": 17,
      "metadata": {},
      "outputs": [],
      "source": [
        "original_labels = ['angry', 'calm', 'disgust', 'fear', 'happy', 'neutral', 'sad', 'surprise']\n",
        "\n",
        "# Define the four emotions you want to predict\n",
        "target_emotions = ['angry', 'fear', 'disgust', 'sad']\n"
      ]
    },
    {
      "cell_type": "code",
      "execution_count": 18,
      "metadata": {},
      "outputs": [
        {
          "data": {
            "text/plain": [
              "(11682, 31)"
            ]
          },
          "execution_count": 18,
          "metadata": {},
          "output_type": "execute_result"
        }
      ],
      "source": [
        "df_features_simple.shape"
      ]
    },
    {
      "cell_type": "code",
      "execution_count": 19,
      "metadata": {},
      "outputs": [],
      "source": [
        "# Filter the data to include only the target emotions\n",
        "filtered_data = df_features_simple[df_features_simple['labels'].isin(target_emotions)]\n",
        "\n",
        "# Prepare your features and labels\n",
        "X_simple = filtered_data.drop('labels', axis=1)  # Adjust according to your data\n",
        "Y_simple = filtered_data['labels']"
      ]
    },
    {
      "cell_type": "code",
      "execution_count": 20,
      "metadata": {},
      "outputs": [
        {
          "data": {
            "text/plain": [
              "(array(['angry', 'fear', 'disgust', 'sad'], dtype=object), (7452,))"
            ]
          },
          "execution_count": 20,
          "metadata": {},
          "output_type": "execute_result"
        }
      ],
      "source": [
        "Y_simple.unique(), Y_simple.shape"
      ]
    },
    {
      "cell_type": "code",
      "execution_count": 21,
      "metadata": {},
      "outputs": [],
      "source": [
        "Y_simple = np.array(Y_simple)\n",
        "X_simple = np.array(X_simple)"
      ]
    },
    {
      "cell_type": "code",
      "execution_count": 22,
      "metadata": {},
      "outputs": [
        {
          "data": {
            "text/plain": [
              "((7452, 30), (7452,))"
            ]
          },
          "execution_count": 22,
          "metadata": {},
          "output_type": "execute_result"
        }
      ],
      "source": [
        "X_simple.shape, Y_simple.shape"
      ]
    },
    {
      "cell_type": "code",
      "execution_count": 23,
      "metadata": {},
      "outputs": [
        {
          "data": {
            "text/plain": [
              "(-1131.3707275390625, 4990.732365133476)"
            ]
          },
          "execution_count": 23,
          "metadata": {},
          "output_type": "execute_result"
        }
      ],
      "source": [
        "np.min(X_simple), np.max(X_simple)"
      ]
    },
    {
      "attachments": {},
      "cell_type": "markdown",
      "metadata": {},
      "source": [
        "#### Data Scaling "
      ]
    },
    {
      "cell_type": "code",
      "execution_count": 24,
      "metadata": {},
      "outputs": [],
      "source": [
        "# Reshape X_simple if needed (MinMaxScaler expects 2D array)\n",
        "X_simple_reshaped = X_simple.reshape(-1, 1)\n",
        "\n",
        "# Initialize MinMaxScaler\n",
        "scaler = MinMaxScaler()\n",
        "\n",
        "# Fit and transform the data\n",
        "X_scaled = scaler.fit_transform(X_simple_reshaped)"
      ]
    },
    {
      "cell_type": "code",
      "execution_count": 25,
      "metadata": {},
      "outputs": [
        {
          "data": {
            "text/plain": [
              "(0.0, 0.9999999999999999)"
            ]
          },
          "execution_count": 25,
          "metadata": {},
          "output_type": "execute_result"
        }
      ],
      "source": [
        "np.min(X_scaled), np.max(X_scaled)"
      ]
    },
    {
      "attachments": {},
      "cell_type": "markdown",
      "metadata": {},
      "source": [
        "#### Data Split"
      ]
    },
    {
      "cell_type": "code",
      "execution_count": 26,
      "metadata": {},
      "outputs": [
        {
          "data": {
            "text/plain": [
              "((5961, 30), (5961,), (1491, 30), (1491,))"
            ]
          },
          "execution_count": 26,
          "metadata": {},
          "output_type": "execute_result"
        }
      ],
      "source": [
        "# splitting data\n",
        "X_train, X_test, y_train, y_test = train_test_split(X_simple, Y_simple, random_state=42, test_size=0.2)\n",
        "X_train.shape, y_train.shape, X_test.shape, y_test.shape"
      ]
    },
    {
      "cell_type": "code",
      "execution_count": 27,
      "metadata": {},
      "outputs": [
        {
          "data": {
            "text/plain": [
              "array(['disgust', 'fear', 'sad', ..., 'sad', 'fear', 'sad'], dtype=object)"
            ]
          },
          "execution_count": 27,
          "metadata": {},
          "output_type": "execute_result"
        }
      ],
      "source": [
        "y_train"
      ]
    },
    {
      "attachments": {},
      "cell_type": "markdown",
      "metadata": {},
      "source": [
        "#### Model Training"
      ]
    },
    {
      "cell_type": "code",
      "execution_count": 28,
      "metadata": {},
      "outputs": [],
      "source": [
        "def cnn_train_model(num_classes, input_features):\n",
        "    model = Sequential()\n",
        "    model.add(Dense(128, activation='relu', input_shape=(input_features,)))\n",
        "    model.add(BatchNormalization())\n",
        "    model.add(Dropout(0.5))\n",
        "    model.add(Dense(64, activation='relu'))\n",
        "    model.add(Dense(num_classes, activation='softmax'))  # Use 'softmax' for multi-class classification\n",
        "    \n",
        "    return model\n"
      ]
    },
    {
      "cell_type": "code",
      "execution_count": 29,
      "metadata": {},
      "outputs": [],
      "source": [
        "def evaluate_cnn_model(model, X_test, y_test, label_encoder, target_emotions):\n",
        "    # Evaluate the model\n",
        "    loss, accuracy = model.evaluate(X_test, y_test, verbose=0)\n",
        "    print(f'Test Loss: {loss:.4f}')\n",
        "    print(f'Test Accuracy: {accuracy:.4f}')\n",
        "\n",
        "    # Predictions\n",
        "    y_pred = model.predict(X_test)\n",
        "\n",
        "    # Decode labels\n",
        "    y_test_decoded = label_encoder.inverse_transform(y_test)\n",
        "    y_pred_decoded = label_encoder.inverse_transform(np.argmax(y_pred, axis=1))\n",
        "\n",
        "    # Create a DataFrame for easier handling\n",
        "    df_pred = pd.DataFrame({'Actual': y_test_decoded, 'Predicted': y_pred_decoded})\n",
        "\n",
        "    # Filter predictions and actual labels for the target emotions\n",
        "    df_pred_filtered = df_pred[df_pred['Actual'].isin(target_emotions) & df_pred['Predicted'].isin(target_emotions)]\n",
        "\n",
        "    # Calculate the correct predictions\n",
        "    df_pred_filtered['Correct'] = df_pred_filtered['Actual'] == df_pred_filtered['Predicted']\n",
        "\n",
        "    # Print the confusion matrix\n",
        "    confusion_matrix = pd.crosstab(df_pred_filtered['Actual'], df_pred_filtered['Predicted'],\n",
        "                                   rownames=['Actual'], colnames=['Predicted'])\n",
        "    print(\"Confusion Matrix:\")\n",
        "    print(confusion_matrix)\n",
        "\n",
        "    # Classification Report\n",
        "    print(\"\\nClassification Report:\")\n",
        "    print(classification_report(df_pred_filtered['Actual'], df_pred_filtered['Predicted']))\n",
        "\n",
        "    # Visualize the Confusion Matrix\n",
        "    plt.figure(figsize=(8, 6))\n",
        "    sns.heatmap(confusion_matrix, annot=True, fmt='d', cmap='Blues',\n",
        "                xticklabels=target_emotions, yticklabels=target_emotions)\n",
        "    plt.title('Confusion Matrix')\n",
        "    plt.xlabel('Predicted Labels')\n",
        "    plt.ylabel('True Labels')\n",
        "    plt.show()\n",
        "\n"
      ]
    },
    {
      "cell_type": "code",
      "execution_count": 30,
      "metadata": {},
      "outputs": [],
      "source": [
        "def evaluate_cnn_model_overfitting(loaded_history=None):\n",
        "    \n",
        "    if loaded_history:\n",
        "        # Plot training & validation loss values\n",
        "        plt.subplot(1, 2, 1)\n",
        "        plt.plot(loaded_history['loss'])\n",
        "        plt.plot(loaded_history['val_loss'])\n",
        "        plt.title('Model Loss')\n",
        "        plt.ylabel('Loss')\n",
        "        plt.xlabel('Epoch')\n",
        "        plt.legend(['Train', 'Validation'], loc='upper left')\n",
        "\n",
        "        # Plot training & validation accuracy values\n",
        "        plt.subplot(1, 2, 2)\n",
        "        plt.plot(loaded_history['accuracy'])\n",
        "        plt.plot(loaded_history['val_accuracy'])\n",
        "        plt.title('Model Accuracy')\n",
        "        plt.ylabel('Accuracy')\n",
        "        plt.xlabel('Epoch')\n",
        "        plt.legend(['Train', 'Validation'], loc='upper left')\n",
        "\n",
        "        plt.tight_layout()\n",
        "        plt.show()\n"
      ]
    },
    {
      "attachments": {},
      "cell_type": "markdown",
      "metadata": {},
      "source": [
        "#### Encode labels"
      ]
    },
    {
      "cell_type": "code",
      "execution_count": 31,
      "metadata": {},
      "outputs": [
        {
          "data": {
            "text/plain": [
              "['models_SIAKE/label_encoder.pkl']"
            ]
          },
          "execution_count": 31,
          "metadata": {},
          "output_type": "execute_result"
        }
      ],
      "source": [
        "label_encoder = LabelEncoder()\n",
        "y_train_encoded = label_encoder.fit_transform(y_train)\n",
        "y_test_encoded = label_encoder.fit_transform(y_test)\n",
        "\n",
        "#save label encoder\n",
        "joblib.dump(label_encoder, 'models_SIAKE/label_encoder.pkl')"
      ]
    },
    {
      "attachments": {},
      "cell_type": "markdown",
      "metadata": {},
      "source": [
        "#### CNN Model"
      ]
    },
    {
      "cell_type": "code",
      "execution_count": 33,
      "metadata": {},
      "outputs": [],
      "source": [
        "input_features = X_train.shape[1]\n",
        "num_classes = 4\n",
        "\n",
        "cnn_model = cnn_train_model(num_classes, input_features)"
      ]
    },
    {
      "cell_type": "code",
      "execution_count": 34,
      "metadata": {},
      "outputs": [],
      "source": [
        "num_epochs = 20\n",
        "learning_rate = 0.001\n",
        "batch_size = 35"
      ]
    },
    {
      "cell_type": "code",
      "execution_count": 35,
      "metadata": {},
      "outputs": [],
      "source": [
        "sgd = keras.optimizers.legacy.SGD(learning_rate = learning_rate)\n",
        "adam = keras.optimizers.legacy.Adam(learning_rate=learning_rate)\n",
        "optimizer = keras.optimizers.legacy.Adagrad(learning_rate=learning_rate)\n",
        "\n",
        "# Compile the model\n",
        "cnn_model.compile(optimizer=adam, loss='sparse_categorical_crossentropy', metrics=['accuracy'])\n"
      ]
    },
    {
      "cell_type": "code",
      "execution_count": 36,
      "metadata": {},
      "outputs": [
        {
          "name": "stdout",
          "output_type": "stream",
          "text": [
            "Model: \"sequential_1\"\n",
            "_________________________________________________________________\n",
            " Layer (type)                Output Shape              Param #   \n",
            "=================================================================\n",
            " dense_3 (Dense)             (None, 128)               3968      \n",
            "                                                                 \n",
            " batch_normalization_1 (Bat  (None, 128)               512       \n",
            " chNormalization)                                                \n",
            "                                                                 \n",
            " dropout_1 (Dropout)         (None, 128)               0         \n",
            "                                                                 \n",
            " dense_4 (Dense)             (None, 64)                8256      \n",
            "                                                                 \n",
            " dense_5 (Dense)             (None, 4)                 260       \n",
            "                                                                 \n",
            "=================================================================\n",
            "Total params: 12996 (50.77 KB)\n",
            "Trainable params: 12740 (49.77 KB)\n",
            "Non-trainable params: 256 (1.00 KB)\n",
            "_________________________________________________________________\n"
          ]
        }
      ],
      "source": [
        "cnn_model.summary()"
      ]
    },
    {
      "cell_type": "code",
      "execution_count": 37,
      "metadata": {},
      "outputs": [],
      "source": [
        "# Define callbacks\n",
        "early_stopping = EarlyStopping(monitor='val_loss', patience=20, restore_best_weights=True, verbose=1)\n",
        "model_checkpoint = ModelCheckpoint('best_model.h5', monitor='val_loss', save_best_only=True, verbose=0)"
      ]
    },
    {
      "cell_type": "code",
      "execution_count": 39,
      "metadata": {},
      "outputs": [
        {
          "name": "stdout",
          "output_type": "stream",
          "text": [
            "Epoch 1/20\n",
            "137/137 - 0s - loss: 0.9410 - accuracy: 0.5927 - val_loss: 0.9423 - val_accuracy: 0.6085 - 128ms/epoch - 938us/step\n",
            "Epoch 2/20\n",
            "137/137 - 0s - loss: 0.9446 - accuracy: 0.5841 - val_loss: 1.0000 - val_accuracy: 0.5826 - 127ms/epoch - 925us/step\n",
            "Epoch 3/20\n",
            "137/137 - 0s - loss: 0.9490 - accuracy: 0.5938 - val_loss: 0.9398 - val_accuracy: 0.5893 - 99ms/epoch - 726us/step\n",
            "Epoch 4/20\n",
            "137/137 - 0s - loss: 0.9387 - accuracy: 0.5875 - val_loss: 0.9696 - val_accuracy: 0.5943 - 98ms/epoch - 718us/step\n",
            "Epoch 5/20\n",
            "137/137 - 0s - loss: 0.9345 - accuracy: 0.5921 - val_loss: 0.9380 - val_accuracy: 0.6220 - 98ms/epoch - 712us/step\n",
            "Epoch 6/20\n",
            "137/137 - 0s - loss: 0.9395 - accuracy: 0.5908 - val_loss: 0.9382 - val_accuracy: 0.6136 - 97ms/epoch - 710us/step\n",
            "Epoch 7/20\n",
            "137/137 - 0s - loss: 0.9303 - accuracy: 0.5969 - val_loss: 0.9165 - val_accuracy: 0.6270 - 105ms/epoch - 769us/step\n",
            "Epoch 8/20\n",
            "137/137 - 0s - loss: 0.9291 - accuracy: 0.5992 - val_loss: 1.0263 - val_accuracy: 0.5574 - 98ms/epoch - 718us/step\n",
            "Epoch 9/20\n",
            "137/137 - 0s - loss: 0.9268 - accuracy: 0.5984 - val_loss: 0.9299 - val_accuracy: 0.6044 - 97ms/epoch - 708us/step\n",
            "Epoch 10/20\n",
            "137/137 - 0s - loss: 0.9310 - accuracy: 0.5944 - val_loss: 1.1596 - val_accuracy: 0.4954 - 102ms/epoch - 744us/step\n",
            "Epoch 11/20\n",
            "137/137 - 0s - loss: 0.9305 - accuracy: 0.5994 - val_loss: 0.9348 - val_accuracy: 0.6211 - 101ms/epoch - 734us/step\n",
            "Epoch 12/20\n",
            "137/137 - 0s - loss: 0.9318 - accuracy: 0.5998 - val_loss: 0.9452 - val_accuracy: 0.6010 - 101ms/epoch - 737us/step\n",
            "Epoch 13/20\n",
            "137/137 - 0s - loss: 0.9144 - accuracy: 0.6015 - val_loss: 1.0310 - val_accuracy: 0.5616 - 96ms/epoch - 703us/step\n",
            "Epoch 14/20\n",
            "137/137 - 0s - loss: 0.9380 - accuracy: 0.5963 - val_loss: 0.9142 - val_accuracy: 0.6169 - 103ms/epoch - 749us/step\n",
            "Epoch 15/20\n",
            "137/137 - 0s - loss: 0.9217 - accuracy: 0.5994 - val_loss: 0.9646 - val_accuracy: 0.5633 - 99ms/epoch - 725us/step\n",
            "Epoch 16/20\n",
            "137/137 - 0s - loss: 0.9185 - accuracy: 0.6028 - val_loss: 1.0324 - val_accuracy: 0.5474 - 101ms/epoch - 737us/step\n",
            "Epoch 17/20\n",
            "137/137 - 0s - loss: 0.9140 - accuracy: 0.6059 - val_loss: 0.9204 - val_accuracy: 0.5884 - 99ms/epoch - 720us/step\n",
            "Epoch 18/20\n",
            "137/137 - 0s - loss: 0.9229 - accuracy: 0.6044 - val_loss: 0.9859 - val_accuracy: 0.5826 - 100ms/epoch - 728us/step\n",
            "Epoch 19/20\n",
            "137/137 - 0s - loss: 0.9240 - accuracy: 0.6005 - val_loss: 0.9358 - val_accuracy: 0.6186 - 96ms/epoch - 701us/step\n",
            "Epoch 20/20\n",
            "137/137 - 0s - loss: 0.9069 - accuracy: 0.6068 - val_loss: 0.8962 - val_accuracy: 0.6127 - 161ms/epoch - 1ms/step\n"
          ]
        }
      ],
      "source": [
        "# Train the model with callbacks\n",
        "history = cnn_model.fit(X_train, y_train_encoded, epochs=num_epochs, batch_size=batch_size,\n",
        "                                  validation_split=0.2, verbose=2, callbacks=[early_stopping, model_checkpoint])\n"
      ]
    },
    {
      "cell_type": "code",
      "execution_count": 40,
      "metadata": {},
      "outputs": [],
      "source": [
        "# Save the model\n",
        "cnn_model.save('best_model.h5')\n",
        "\n",
        "# Save the training history\n",
        "import pickle\n",
        "with open('training_history.pkl', 'wb') as f:\n",
        "    pickle.dump(history.history, f)"
      ]
    },
    {
      "cell_type": "code",
      "execution_count": 41,
      "metadata": {},
      "outputs": [
        {
          "name": "stdout",
          "output_type": "stream",
          "text": [
            "Test Loss: 0.8956\n",
            "Test Accuracy: 0.6130\n",
            "47/47 [==============================] - 0s 349us/step\n",
            "Confusion Matrix:\n",
            "Predicted  angry  disgust  fear  sad\n",
            "Actual                              \n",
            "angry        306       76    12   13\n",
            "disgust       42      236     5   74\n",
            "fear          69      105    94   93\n",
            "sad            6       70    12  278\n",
            "\n",
            "Classification Report:\n",
            "              precision    recall  f1-score   support\n",
            "\n",
            "       angry       0.72      0.75      0.74       407\n",
            "     disgust       0.48      0.66      0.56       357\n",
            "        fear       0.76      0.26      0.39       361\n",
            "         sad       0.61      0.76      0.67       366\n",
            "\n",
            "    accuracy                           0.61      1491\n",
            "   macro avg       0.64      0.61      0.59      1491\n",
            "weighted avg       0.65      0.61      0.59      1491\n",
            "\n"
          ]
        },
        {
          "data": {
            "image/png": "[encoded data removed]",
            "text/plain": [
              "<Figure size 800x600 with 2 Axes>"
            ]
          },
          "metadata": {},
          "output_type": "display_data"
        }
      ],
      "source": [
        "from keras.models import load_model\n",
        "\n",
        "# Load the model\n",
        "loaded_model = load_model('best_model.h5')\n",
        "\n",
        "# Later, to load the label encoder\n",
        "loaded_label_encoder = joblib.load('models_SIAKE/label_encoder.pkl')\n",
        "\n",
        "# Assuming you have X_test, y_test, and label_encoder\n",
        "evaluate_cnn_model(loaded_model, X_test, y_test_encoded, loaded_label_encoder, target_emotions)\n"
      ]
    },
    {
      "cell_type": "code",
      "execution_count": 42,
      "metadata": {},
      "outputs": [],
      "source": [
        "# Load the training history\n",
        "with open('training_history.pkl', 'rb') as f:\n",
        "    loaded_history = pickle.load(f)\n"
      ]
    },
    {
      "cell_type": "code",
      "execution_count": 43,
      "metadata": {},
      "outputs": [
        {
          "data": {
            "image/png": "[encoded data removed]",
            "text/plain": [
              "<Figure size 640x480 with 2 Axes>"
            ]
          },
          "metadata": {},
          "output_type": "display_data"
        }
      ],
      "source": [
        "evaluate_cnn_model_overfitting(loaded_history)"
      ]
    },
    {
      "attachments": {},
      "cell_type": "markdown",
      "metadata": {},
      "source": [
        "### Predictions"
      ]
    },
    {
      "cell_type": "code",
      "execution_count": 44,
      "metadata": {},
      "outputs": [
        {
          "name": "stdout",
          "output_type": "stream",
          "text": [
            "47/47 [==============================] - 0s 1ms/step\n"
          ]
        }
      ],
      "source": [
        "# Make predictions\n",
        "predictions = loaded_model.predict(X_test)\n",
        "\n",
        "# Get the index of the maximum probability in each prediction\n",
        "predicted_labels = np.argmax(predictions, axis=1)\n",
        "\n",
        "# Convert predictions to binary labels\n",
        "#predicted_labels_binary = np.round(predictions_binary).flatten()\n",
        "\n",
        "# Decode the predicted labels using the label encoder\n",
        "predicted_emotions = label_encoder.inverse_transform(predicted_labels)\n",
        "\n",
        "\n"
      ]
    },
    {
      "cell_type": "code",
      "execution_count": 45,
      "metadata": {},
      "outputs": [
        {
          "data": {
            "text/html": [
              "<div>\n",
              "<style scoped>\n",
              "    .dataframe tbody tr th:only-of-type {\n",
              "        vertical-align: middle;\n",
              "    }\n",
              "\n",
              "    .dataframe tbody tr th {\n",
              "        vertical-align: top;\n",
              "    }\n",
              "\n",
              "    .dataframe thead th {\n",
              "        text-align: right;\n",
              "    }\n",
              "</style>\n",
              "<table border=\"1\" class=\"dataframe\">\n",
              "  <thead>\n",
              "    <tr style=\"text-align: right;\">\n",
              "      <th></th>\n",
              "      <th>Predicted Labels</th>\n",
              "      <th>Actual Labels</th>\n",
              "    </tr>\n",
              "  </thead>\n",
              "  <tbody>\n",
              "    <tr>\n",
              "      <th>0</th>\n",
              "      <td>fear</td>\n",
              "      <td>fear</td>\n",
              "    </tr>\n",
              "    <tr>\n",
              "      <th>1</th>\n",
              "      <td>sad</td>\n",
              "      <td>sad</td>\n",
              "    </tr>\n",
              "    <tr>\n",
              "      <th>2</th>\n",
              "      <td>angry</td>\n",
              "      <td>disgust</td>\n",
              "    </tr>\n",
              "    <tr>\n",
              "      <th>3</th>\n",
              "      <td>angry</td>\n",
              "      <td>angry</td>\n",
              "    </tr>\n",
              "    <tr>\n",
              "      <th>4</th>\n",
              "      <td>disgust</td>\n",
              "      <td>angry</td>\n",
              "    </tr>\n",
              "    <tr>\n",
              "      <th>5</th>\n",
              "      <td>disgust</td>\n",
              "      <td>angry</td>\n",
              "    </tr>\n",
              "    <tr>\n",
              "      <th>6</th>\n",
              "      <td>sad</td>\n",
              "      <td>sad</td>\n",
              "    </tr>\n",
              "    <tr>\n",
              "      <th>7</th>\n",
              "      <td>disgust</td>\n",
              "      <td>sad</td>\n",
              "    </tr>\n",
              "    <tr>\n",
              "      <th>8</th>\n",
              "      <td>disgust</td>\n",
              "      <td>sad</td>\n",
              "    </tr>\n",
              "    <tr>\n",
              "      <th>9</th>\n",
              "      <td>sad</td>\n",
              "      <td>sad</td>\n",
              "    </tr>\n",
              "  </tbody>\n",
              "</table>\n",
              "</div>"
            ],
            "text/plain": [
              "  Predicted Labels Actual Labels\n",
              "0             fear          fear\n",
              "1              sad           sad\n",
              "2            angry       disgust\n",
              "3            angry         angry\n",
              "4          disgust         angry\n",
              "5          disgust         angry\n",
              "6              sad           sad\n",
              "7          disgust           sad\n",
              "8          disgust           sad\n",
              "9              sad           sad"
            ]
          },
          "execution_count": 45,
          "metadata": {},
          "output_type": "execute_result"
        }
      ],
      "source": [
        "df = pd.DataFrame(columns=['Predicted Labels', 'Actual Labels'])\n",
        "df['Predicted Labels'] = predicted_emotions\n",
        "df['Actual Labels'] = y_test\n",
        "\n",
        "df.head(10)"
      ]
    },
    {
      "cell_type": "code",
      "execution_count": 46,
      "metadata": {},
      "outputs": [
        {
          "data": {
            "text/plain": [
              "(914, 1491)"
            ]
          },
          "execution_count": 46,
          "metadata": {},
          "output_type": "execute_result"
        }
      ],
      "source": [
        "np.sum(df['Predicted Labels']== df['Actual Labels']), len(df)"
      ]
    },
    {
      "attachments": {},
      "cell_type": "markdown",
      "metadata": {},
      "source": [
        "### Saving models"
      ]
    },
    {
      "cell_type": "code",
      "execution_count": 47,
      "metadata": {},
      "outputs": [
        {
          "name": "stdout",
          "output_type": "stream",
          "text": [
            "🔄 Models saving ...\n",
            "✅ Models saved successfully !\n"
          ]
        }
      ],
      "source": [
        "# Sauvegarde des modeles\n",
        "print(\"🔄 Models saving ...\")\n",
        "joblib.dump(loaded_model, 'models_SIAKE/cnn_model.pkl')\n",
        "print(\"✅ Models saved successfully !\")"
      ]
    },
    {
      "attachments": {},
      "cell_type": "markdown",
      "metadata": {},
      "source": [
        "### Test of models"
      ]
    },
    {
      "cell_type": "code",
      "execution_count": 48,
      "metadata": {},
      "outputs": [],
      "source": [
        "# Chargement des modeles\n",
        "loaded_cnn_model = joblib.load('models_SIAKE/cnn_model.pkl')"
      ]
    },
    {
      "cell_type": "code",
      "execution_count": 49,
      "metadata": {},
      "outputs": [],
      "source": [
        "# Later, to load the label encoder\n",
        "loaded_label_encoder = joblib.load('models_SIAKE/label_encoder.pkl')"
      ]
    },
    {
      "cell_type": "code",
      "execution_count": 50,
      "metadata": {},
      "outputs": [],
      "source": [
        "def predict_emotion(model, label_encoder, audio_test_file):\n",
        "    data, sample_rate = librosa.load(audio_test_file, duration=2.5, offset=0.6)\n",
        "    \n",
        "    # without augmentation\n",
        "    res1 = extract_features(data)\n",
        "    result = np.array(res1).reshape(1, -1)\n",
        "    res = scaler.fit_transform(result)\n",
        "        \n",
        "    # Make prediction using the provided model\n",
        "    prediction = model.predict(res)\n",
        "\n",
        "    # Get the index of the emotion with the highest probability\n",
        "    max_prob_index = np.argmax(prediction, axis=1)\n",
        "\n",
        "    # Decode the predicted label using the label encoder\n",
        "    predicted_emotion = label_encoder.inverse_transform(max_prob_index)\n",
        "\n",
        "    print(\"Audio File is anger: \", audio_test_file)\n",
        "    print(\"CNN Prediction: \", predicted_emotion)\n",
        "    \n",
        "    return predict_emotion\n"
      ]
    },
    {
      "cell_type": "code",
      "execution_count": 52,
      "metadata": {},
      "outputs": [
        {
          "name": "stdout",
          "output_type": "stream",
          "text": [
            "1/1 [==============================] - 0s 13ms/step\n",
            "Audio File is anger:  test_data/Savee_audios/DC_sa01.wav\n",
            "CNN Prediction:  ['fear']\n"
          ]
        }
      ],
      "source": [
        "audio_file = \"test_data/Savee_audios/DC_sa01.wav\"\n",
        "\n",
        "predicted_emotions = predict_emotion(loaded_model, loaded_label_encoder, audio_file)"
      ]
    },
    {
      "cell_type": "code",
      "execution_count": 53,
      "metadata": {},
      "outputs": [],
      "source": [
        "def get_true_label(file_path):\n",
        "    label_mapping = {\n",
        "        'a': 'angry',\n",
        "        'c': 'calm',\n",
        "        'd': 'disgust',\n",
        "        'f': 'fear',\n",
        "        'h': 'happy',\n",
        "        'n': 'neutral',\n",
        "        'sa': 'sad',\n",
        "        'su': 'surprise'\n",
        "    }\n",
        "\n",
        "    # Extract the first letter after the underscore\n",
        "    file_name = os.path.basename(file_path)\n",
        "    parts = file_name.split('.')[0]\n",
        "    part = parts.split('_')[1]\n",
        "    \n",
        "    letters = [char.lower() for char in part if char.isalpha()]\n",
        "    label = ''.join(letters)\n",
        "    \n",
        "    # Get the corresponding label from the mapping\n",
        "    true_label = label_mapping[label]\n",
        "\n",
        "    return true_label"
      ]
    },
    {
      "cell_type": "code",
      "execution_count": 54,
      "metadata": {},
      "outputs": [
        {
          "data": {
            "text/plain": [
              "'angry'"
            ]
          },
          "execution_count": 54,
          "metadata": {},
          "output_type": "execute_result"
        }
      ],
      "source": [
        "file_path = \"test_data/Savee_audios/DC_a01.wav\"\n",
        "get_true_label(file_path)"
      ]
    },
    {
      "cell_type": "code",
      "execution_count": 55,
      "metadata": {},
      "outputs": [],
      "source": [
        "def predict_emotions_in_directory(model, label_encoder, directory_path):\n",
        "    audio_files = [os.path.join(directory_path, file) for file in os.listdir(directory_path) if file.endswith('.wav')]\n",
        "        \n",
        "    predictions = []\n",
        "    probabilities = []\n",
        "    true_emotions = []\n",
        "\n",
        "    correct_predictions = 0\n",
        "    incorrect_predictions = 0\n",
        "\n",
        "    for audio_file in audio_files:\n",
        "        data, sample_rate = librosa.load(audio_file, duration=2.5, offset=0.6)\n",
        "        \n",
        "        # without augmentation\n",
        "        res1 = extract_features(data)\n",
        "        result = np.array(res1).reshape(1, -1)\n",
        "        res = scaler.fit_transform(result)\n",
        "            \n",
        "        # Make prediction using the provided model\n",
        "        prediction = model.predict(res)\n",
        "\n",
        "        # Get the index of the emotion with the highest probability\n",
        "        max_prob_index = np.argmax(prediction, axis=1)\n",
        "\n",
        "        # Decode the predicted label using the label encoder\n",
        "        predicted_emotion = label_encoder.inverse_transform(max_prob_index)\n",
        "        \n",
        "        true_label = get_true_label(audio_file)\n",
        "        \n",
        "        # Check if the prediction is correct\n",
        "        if predicted_emotion == true_label:\n",
        "            correct_predictions += 1\n",
        "        else:\n",
        "            incorrect_predictions += 1\n",
        "\n",
        "        # Get the probability of the predicted label\n",
        "        predicted_probability = np.max(prediction)\n",
        "\n",
        "        predictions.append(predicted_emotion)\n",
        "        probabilities.append(predicted_probability)\n",
        "        true_emotions.append(true_label)\n",
        "\n",
        "    total_predictions = len(audio_files)\n",
        "    print(f\"\\nTotal Predictions: {total_predictions}\")\n",
        "    print(f\"Correct Predictions: {correct_predictions}\")\n",
        "    print(f\"Incorrect Predictions: {incorrect_predictions}\")\n",
        "        \n",
        "    return audio_files, predictions, true_emotions, probabilities "
      ]
    },
    {
      "cell_type": "code",
      "execution_count": 56,
      "metadata": {},
      "outputs": [],
      "source": [
        "directory_path = \"test_data/Savee_audios\""
      ]
    },
    {
      "cell_type": "code",
      "execution_count": 57,
      "metadata": {},
      "outputs": [
        {
          "name": "stdout",
          "output_type": "stream",
          "text": [
            "1/1 [==============================] - 0s 86ms/step\n",
            "1/1 [==============================] - 0s 22ms/step\n",
            "1/1 [==============================] - 0s 112ms/step\n",
            "1/1 [==============================] - 0s 15ms/step\n",
            "1/1 [==============================] - 0s 79ms/step\n",
            "1/1 [==============================] - 0s 49ms/step\n",
            "1/1 [==============================] - 0s 11ms/step\n",
            "1/1 [==============================] - 0s 30ms/step\n",
            "1/1 [==============================] - 0s 16ms/step\n",
            "1/1 [==============================] - 0s 11ms/step\n",
            "1/1 [==============================] - 0s 14ms/step\n",
            "1/1 [==============================] - 0s 23ms/step\n",
            "1/1 [==============================] - 0s 63ms/step\n",
            "1/1 [==============================] - 0s 14ms/step\n",
            "1/1 [==============================] - 0s 27ms/step\n",
            "1/1 [==============================] - 0s 18ms/step\n",
            "1/1 [==============================] - 0s 12ms/step\n",
            "1/1 [==============================] - 0s 11ms/step\n",
            "1/1 [==============================] - 0s 12ms/step\n",
            "1/1 [==============================] - 0s 13ms/step\n",
            "1/1 [==============================] - 0s 11ms/step\n",
            "1/1 [==============================] - 0s 15ms/step\n",
            "1/1 [==============================] - 0s 29ms/step\n",
            "1/1 [==============================] - 0s 21ms/step\n",
            "1/1 [==============================] - 0s 14ms/step\n",
            "1/1 [==============================] - 0s 12ms/step\n",
            "1/1 [==============================] - 0s 19ms/step\n",
            "1/1 [==============================] - 0s 11ms/step\n",
            "1/1 [==============================] - 0s 19ms/step\n",
            "1/1 [==============================] - 0s 13ms/step\n",
            "1/1 [==============================] - 0s 11ms/step\n",
            "1/1 [==============================] - 0s 25ms/step\n",
            "1/1 [==============================] - 0s 23ms/step\n",
            "1/1 [==============================] - 0s 21ms/step\n",
            "1/1 [==============================] - 0s 32ms/step\n",
            "1/1 [==============================] - 0s 12ms/step\n",
            "1/1 [==============================] - 0s 44ms/step\n",
            "1/1 [==============================] - 0s 13ms/step\n",
            "1/1 [==============================] - 0s 29ms/step\n",
            "1/1 [==============================] - 0s 24ms/step\n",
            "1/1 [==============================] - 0s 14ms/step\n",
            "1/1 [==============================] - 0s 25ms/step\n",
            "1/1 [==============================] - 0s 20ms/step\n",
            "1/1 [==============================] - 0s 14ms/step\n",
            "1/1 [==============================] - 0s 24ms/step\n",
            "1/1 [==============================] - 0s 29ms/step\n",
            "1/1 [==============================] - 0s 18ms/step\n",
            "1/1 [==============================] - 0s 25ms/step\n",
            "1/1 [==============================] - 0s 12ms/step\n",
            "1/1 [==============================] - 0s 11ms/step\n",
            "1/1 [==============================] - 0s 11ms/step\n",
            "1/1 [==============================] - 0s 26ms/step\n",
            "1/1 [==============================] - 0s 15ms/step\n",
            "1/1 [==============================] - 0s 28ms/step\n",
            "1/1 [==============================] - 0s 18ms/step\n",
            "1/1 [==============================] - 0s 21ms/step\n",
            "1/1 [==============================] - 0s 11ms/step\n",
            "1/1 [==============================] - 0s 36ms/step\n",
            "1/1 [==============================] - 0s 28ms/step\n",
            "1/1 [==============================] - 0s 28ms/step\n",
            "1/1 [==============================] - 0s 19ms/step\n",
            "1/1 [==============================] - 0s 15ms/step\n",
            "1/1 [==============================] - 0s 19ms/step\n",
            "1/1 [==============================] - 0s 20ms/step\n",
            "1/1 [==============================] - 0s 19ms/step\n",
            "1/1 [==============================] - 0s 11ms/step\n",
            "1/1 [==============================] - 0s 23ms/step\n",
            "1/1 [==============================] - 0s 41ms/step\n",
            "1/1 [==============================] - 0s 33ms/step\n",
            "1/1 [==============================] - 0s 15ms/step\n",
            "1/1 [==============================] - 0s 24ms/step\n",
            "1/1 [==============================] - 0s 12ms/step\n",
            "1/1 [==============================] - 0s 43ms/step\n",
            "1/1 [==============================] - 0s 19ms/step\n",
            "1/1 [==============================] - 0s 17ms/step\n",
            "1/1 [==============================] - 0s 19ms/step\n",
            "1/1 [==============================] - 0s 61ms/step\n",
            "1/1 [==============================] - 0s 159ms/step\n",
            "1/1 [==============================] - 0s 15ms/step\n",
            "1/1 [==============================] - 0s 16ms/step\n",
            "1/1 [==============================] - 0s 55ms/step\n",
            "1/1 [==============================] - 0s 105ms/step\n",
            "1/1 [==============================] - 0s 107ms/step\n",
            "1/1 [==============================] - 0s 76ms/step\n",
            "1/1 [==============================] - 0s 13ms/step\n",
            "1/1 [==============================] - 0s 14ms/step\n",
            "1/1 [==============================] - 0s 12ms/step\n",
            "1/1 [==============================] - 0s 16ms/step\n",
            "1/1 [==============================] - 0s 152ms/step\n",
            "1/1 [==============================] - 0s 20ms/step\n",
            "1/1 [==============================] - 0s 14ms/step\n",
            "1/1 [==============================] - 0s 12ms/step\n",
            "1/1 [==============================] - 0s 17ms/step\n",
            "1/1 [==============================] - 0s 73ms/step\n",
            "1/1 [==============================] - 0s 63ms/step\n",
            "1/1 [==============================] - 0s 24ms/step\n",
            "1/1 [==============================] - 0s 14ms/step\n",
            "1/1 [==============================] - 0s 89ms/step\n",
            "1/1 [==============================] - 0s 37ms/step\n",
            "1/1 [==============================] - 0s 15ms/step\n",
            "1/1 [==============================] - 0s 18ms/step\n",
            "1/1 [==============================] - 0s 31ms/step\n",
            "1/1 [==============================] - 0s 115ms/step\n",
            "1/1 [==============================] - 0s 25ms/step\n",
            "1/1 [==============================] - 0s 62ms/step\n",
            "1/1 [==============================] - 0s 84ms/step\n",
            "1/1 [==============================] - 0s 28ms/step\n",
            "1/1 [==============================] - 0s 23ms/step\n",
            "1/1 [==============================] - 0s 32ms/step\n",
            "1/1 [==============================] - 0s 22ms/step\n",
            "1/1 [==============================] - 0s 43ms/step\n",
            "1/1 [==============================] - 0s 149ms/step\n",
            "1/1 [==============================] - 0s 82ms/step\n",
            "1/1 [==============================] - 0s 15ms/step\n",
            "1/1 [==============================] - 0s 18ms/step\n",
            "1/1 [==============================] - 0s 36ms/step\n",
            "1/1 [==============================] - 0s 17ms/step\n",
            "1/1 [==============================] - 0s 19ms/step\n",
            "1/1 [==============================] - 0s 46ms/step\n",
            "1/1 [==============================] - 0s 87ms/step\n",
            "1/1 [==============================] - 0s 147ms/step\n",
            "1/1 [==============================] - 0s 27ms/step\n",
            "1/1 [==============================] - 0s 114ms/step\n",
            "1/1 [==============================] - 0s 27ms/step\n",
            "1/1 [==============================] - 0s 142ms/step\n",
            "1/1 [==============================] - 0s 49ms/step\n",
            "1/1 [==============================] - 0s 41ms/step\n",
            "1/1 [==============================] - 0s 111ms/step\n",
            "1/1 [==============================] - 0s 47ms/step\n",
            "1/1 [==============================] - 0s 21ms/step\n",
            "1/1 [==============================] - 0s 50ms/step\n",
            "1/1 [==============================] - 0s 85ms/step\n",
            "1/1 [==============================] - 0s 25ms/step\n",
            "1/1 [==============================] - 0s 15ms/step\n",
            "1/1 [==============================] - 0s 19ms/step\n",
            "1/1 [==============================] - 0s 11ms/step\n",
            "1/1 [==============================] - 0s 18ms/step\n",
            "1/1 [==============================] - 0s 35ms/step\n",
            "1/1 [==============================] - 0s 34ms/step\n",
            "1/1 [==============================] - 0s 65ms/step\n",
            "1/1 [==============================] - 0s 45ms/step\n",
            "1/1 [==============================] - 0s 35ms/step\n",
            "1/1 [==============================] - 0s 12ms/step\n",
            "1/1 [==============================] - 0s 60ms/step\n",
            "1/1 [==============================] - 0s 26ms/step\n",
            "1/1 [==============================] - 0s 11ms/step\n",
            "1/1 [==============================] - 0s 23ms/step\n",
            "1/1 [==============================] - 0s 22ms/step\n",
            "1/1 [==============================] - 0s 18ms/step\n",
            "1/1 [==============================] - 0s 12ms/step\n",
            "1/1 [==============================] - 0s 25ms/step\n",
            "1/1 [==============================] - 0s 13ms/step\n",
            "1/1 [==============================] - 0s 20ms/step\n",
            "1/1 [==============================] - 0s 18ms/step\n",
            "1/1 [==============================] - 0s 24ms/step\n",
            "1/1 [==============================] - 0s 23ms/step\n",
            "1/1 [==============================] - 0s 47ms/step\n",
            "1/1 [==============================] - 0s 76ms/step\n",
            "1/1 [==============================] - 0s 25ms/step\n",
            "1/1 [==============================] - 0s 10ms/step\n",
            "1/1 [==============================] - 0s 24ms/step\n",
            "1/1 [==============================] - 0s 17ms/step\n",
            "1/1 [==============================] - 0s 15ms/step\n",
            "1/1 [==============================] - 0s 15ms/step\n",
            "1/1 [==============================] - 0s 46ms/step\n",
            "1/1 [==============================] - 0s 31ms/step\n",
            "1/1 [==============================] - 0s 57ms/step\n",
            "1/1 [==============================] - 0s 15ms/step\n",
            "1/1 [==============================] - 0s 23ms/step\n",
            "1/1 [==============================] - 0s 23ms/step\n",
            "1/1 [==============================] - 0s 12ms/step\n",
            "1/1 [==============================] - 0s 15ms/step\n",
            "1/1 [==============================] - 0s 12ms/step\n",
            "1/1 [==============================] - 0s 11ms/step\n",
            "1/1 [==============================] - 0s 18ms/step\n",
            "1/1 [==============================] - 0s 54ms/step\n",
            "1/1 [==============================] - 0s 15ms/step\n",
            "1/1 [==============================] - 0s 16ms/step\n",
            "1/1 [==============================] - 0s 32ms/step\n",
            "1/1 [==============================] - 0s 14ms/step\n",
            "1/1 [==============================] - 0s 18ms/step\n",
            "1/1 [==============================] - 0s 19ms/step\n",
            "1/1 [==============================] - 0s 15ms/step\n",
            "1/1 [==============================] - 0s 12ms/step\n",
            "1/1 [==============================] - 0s 16ms/step\n",
            "1/1 [==============================] - 0s 28ms/step\n",
            "1/1 [==============================] - 0s 11ms/step\n",
            "1/1 [==============================] - 0s 18ms/step\n",
            "1/1 [==============================] - 0s 28ms/step\n",
            "1/1 [==============================] - 0s 20ms/step\n",
            "1/1 [==============================] - 0s 24ms/step\n",
            "1/1 [==============================] - 0s 23ms/step\n",
            "1/1 [==============================] - 0s 54ms/step\n",
            "1/1 [==============================] - 0s 45ms/step\n",
            "1/1 [==============================] - 0s 62ms/step\n",
            "1/1 [==============================] - 0s 155ms/step\n",
            "1/1 [==============================] - 0s 119ms/step\n",
            "1/1 [==============================] - 0s 21ms/step\n",
            "1/1 [==============================] - 0s 18ms/step\n",
            "1/1 [==============================] - 0s 32ms/step\n",
            "1/1 [==============================] - 0s 38ms/step\n",
            "1/1 [==============================] - 0s 35ms/step\n",
            "1/1 [==============================] - 0s 187ms/step\n",
            "1/1 [==============================] - 0s 62ms/step\n",
            "1/1 [==============================] - 0s 28ms/step\n",
            "1/1 [==============================] - 0s 14ms/step\n",
            "1/1 [==============================] - 0s 106ms/step\n",
            "1/1 [==============================] - 0s 28ms/step\n",
            "1/1 [==============================] - 0s 18ms/step\n",
            "1/1 [==============================] - 0s 16ms/step\n",
            "1/1 [==============================] - 0s 43ms/step\n",
            "1/1 [==============================] - 0s 74ms/step\n",
            "1/1 [==============================] - 0s 33ms/step\n",
            "1/1 [==============================] - 0s 13ms/step\n",
            "1/1 [==============================] - 0s 71ms/step\n",
            "1/1 [==============================] - 0s 12ms/step\n",
            "1/1 [==============================] - 0s 15ms/step\n",
            "1/1 [==============================] - 0s 17ms/step\n",
            "1/1 [==============================] - 0s 13ms/step\n",
            "1/1 [==============================] - 0s 16ms/step\n",
            "1/1 [==============================] - 0s 18ms/step\n",
            "1/1 [==============================] - 0s 58ms/step\n",
            "1/1 [==============================] - 0s 108ms/step\n",
            "1/1 [==============================] - 0s 164ms/step\n",
            "1/1 [==============================] - 0s 132ms/step\n",
            "1/1 [==============================] - 0s 25ms/step\n",
            "1/1 [==============================] - 0s 53ms/step\n",
            "1/1 [==============================] - 0s 29ms/step\n",
            "1/1 [==============================] - 0s 14ms/step\n",
            "1/1 [==============================] - 0s 36ms/step\n",
            "1/1 [==============================] - 0s 12ms/step\n",
            "1/1 [==============================] - 0s 64ms/step\n",
            "1/1 [==============================] - 0s 16ms/step\n",
            "1/1 [==============================] - 0s 16ms/step\n",
            "1/1 [==============================] - 0s 18ms/step\n",
            "1/1 [==============================] - 0s 105ms/step\n",
            "1/1 [==============================] - 0s 45ms/step\n",
            "1/1 [==============================] - 0s 31ms/step\n",
            "1/1 [==============================] - 0s 16ms/step\n",
            "1/1 [==============================] - 0s 22ms/step\n",
            "1/1 [==============================] - 0s 18ms/step\n",
            "1/1 [==============================] - 0s 23ms/step\n",
            "1/1 [==============================] - 0s 76ms/step\n",
            "1/1 [==============================] - 0s 27ms/step\n",
            "1/1 [==============================] - 0s 20ms/step\n",
            "1/1 [==============================] - 0s 23ms/step\n",
            "1/1 [==============================] - 0s 34ms/step\n",
            "1/1 [==============================] - 0s 20ms/step\n",
            "1/1 [==============================] - 0s 13ms/step\n",
            "1/1 [==============================] - 0s 25ms/step\n",
            "1/1 [==============================] - 0s 26ms/step\n",
            "1/1 [==============================] - 0s 13ms/step\n",
            "1/1 [==============================] - 0s 24ms/step\n",
            "1/1 [==============================] - 0s 16ms/step\n",
            "1/1 [==============================] - 0s 97ms/step\n",
            "1/1 [==============================] - 0s 11ms/step\n",
            "1/1 [==============================] - 0s 13ms/step\n",
            "1/1 [==============================] - 0s 24ms/step\n",
            "1/1 [==============================] - 0s 11ms/step\n",
            "1/1 [==============================] - 0s 14ms/step\n",
            "1/1 [==============================] - 0s 39ms/step\n",
            "1/1 [==============================] - 0s 24ms/step\n",
            "1/1 [==============================] - 0s 64ms/step\n",
            "1/1 [==============================] - 0s 27ms/step\n",
            "1/1 [==============================] - 0s 25ms/step\n",
            "1/1 [==============================] - 0s 15ms/step\n",
            "1/1 [==============================] - 0s 26ms/step\n",
            "1/1 [==============================] - 0s 12ms/step\n",
            "1/1 [==============================] - 0s 17ms/step\n",
            "1/1 [==============================] - 0s 81ms/step\n",
            "1/1 [==============================] - 0s 130ms/step\n",
            "1/1 [==============================] - 0s 48ms/step\n",
            "1/1 [==============================] - 0s 17ms/step\n",
            "1/1 [==============================] - 0s 20ms/step\n",
            "1/1 [==============================] - 0s 27ms/step\n",
            "1/1 [==============================] - 0s 15ms/step\n",
            "1/1 [==============================] - 0s 18ms/step\n",
            "1/1 [==============================] - 0s 27ms/step\n",
            "1/1 [==============================] - 0s 18ms/step\n",
            "1/1 [==============================] - 0s 23ms/step\n",
            "1/1 [==============================] - 0s 20ms/step\n",
            "1/1 [==============================] - 0s 11ms/step\n",
            "1/1 [==============================] - 0s 24ms/step\n",
            "1/1 [==============================] - 0s 25ms/step\n",
            "1/1 [==============================] - 0s 30ms/step\n",
            "1/1 [==============================] - 0s 21ms/step\n",
            "1/1 [==============================] - 0s 18ms/step\n",
            "1/1 [==============================] - 0s 24ms/step\n",
            "1/1 [==============================] - 0s 52ms/step\n",
            "1/1 [==============================] - 0s 11ms/step\n",
            "1/1 [==============================] - 0s 17ms/step\n",
            "1/1 [==============================] - 0s 17ms/step\n",
            "1/1 [==============================] - 0s 16ms/step\n",
            "1/1 [==============================] - 0s 27ms/step\n",
            "1/1 [==============================] - 0s 34ms/step\n",
            "1/1 [==============================] - 0s 11ms/step\n",
            "1/1 [==============================] - 0s 12ms/step\n",
            "1/1 [==============================] - 0s 11ms/step\n",
            "1/1 [==============================] - 0s 13ms/step\n",
            "1/1 [==============================] - 0s 19ms/step\n",
            "1/1 [==============================] - 0s 15ms/step\n",
            "1/1 [==============================] - 0s 14ms/step\n",
            "1/1 [==============================] - 0s 61ms/step\n",
            "1/1 [==============================] - 0s 213ms/step\n",
            "1/1 [==============================] - 0s 15ms/step\n",
            "1/1 [==============================] - 0s 63ms/step\n",
            "1/1 [==============================] - 0s 70ms/step\n",
            "1/1 [==============================] - 0s 58ms/step\n",
            "1/1 [==============================] - 0s 17ms/step\n",
            "1/1 [==============================] - 0s 17ms/step\n",
            "1/1 [==============================] - 0s 26ms/step\n",
            "1/1 [==============================] - 0s 28ms/step\n",
            "1/1 [==============================] - 0s 81ms/step\n",
            "1/1 [==============================] - 0s 19ms/step\n",
            "1/1 [==============================] - 0s 18ms/step\n",
            "1/1 [==============================] - 0s 25ms/step\n",
            "1/1 [==============================] - 0s 21ms/step\n",
            "1/1 [==============================] - 0s 19ms/step\n",
            "1/1 [==============================] - 0s 79ms/step\n",
            "1/1 [==============================] - 0s 19ms/step\n",
            "1/1 [==============================] - 0s 16ms/step\n",
            "1/1 [==============================] - 0s 75ms/step\n",
            "1/1 [==============================] - 0s 35ms/step\n",
            "1/1 [==============================] - 0s 23ms/step\n",
            "1/1 [==============================] - 0s 28ms/step\n",
            "1/1 [==============================] - 0s 70ms/step\n",
            "1/1 [==============================] - 0s 27ms/step\n",
            "1/1 [==============================] - 0s 67ms/step\n",
            "1/1 [==============================] - 0s 158ms/step\n",
            "1/1 [==============================] - 0s 21ms/step\n",
            "1/1 [==============================] - 0s 59ms/step\n",
            "1/1 [==============================] - 0s 50ms/step\n",
            "1/1 [==============================] - 0s 18ms/step\n",
            "1/1 [==============================] - 0s 26ms/step\n",
            "1/1 [==============================] - 0s 29ms/step\n",
            "1/1 [==============================] - 0s 23ms/step\n",
            "1/1 [==============================] - 0s 32ms/step\n",
            "1/1 [==============================] - 0s 77ms/step\n",
            "1/1 [==============================] - 0s 38ms/step\n",
            "1/1 [==============================] - 0s 35ms/step\n",
            "1/1 [==============================] - 0s 31ms/step\n",
            "1/1 [==============================] - 0s 33ms/step\n",
            "1/1 [==============================] - 0s 60ms/step\n",
            "1/1 [==============================] - 0s 38ms/step\n",
            "1/1 [==============================] - 0s 32ms/step\n",
            "1/1 [==============================] - 0s 18ms/step\n",
            "1/1 [==============================] - 0s 21ms/step\n",
            "1/1 [==============================] - 0s 15ms/step\n",
            "1/1 [==============================] - 0s 11ms/step\n",
            "1/1 [==============================] - 0s 21ms/step\n",
            "1/1 [==============================] - 0s 11ms/step\n",
            "1/1 [==============================] - 0s 14ms/step\n",
            "1/1 [==============================] - 0s 33ms/step\n",
            "1/1 [==============================] - 0s 26ms/step\n",
            "1/1 [==============================] - 0s 12ms/step\n",
            "1/1 [==============================] - 0s 29ms/step\n",
            "1/1 [==============================] - 0s 79ms/step\n",
            "1/1 [==============================] - 0s 14ms/step\n",
            "1/1 [==============================] - 0s 16ms/step\n",
            "1/1 [==============================] - 0s 20ms/step\n",
            "1/1 [==============================] - 0s 81ms/step\n",
            "1/1 [==============================] - 0s 21ms/step\n",
            "1/1 [==============================] - 0s 20ms/step\n",
            "1/1 [==============================] - 0s 18ms/step\n",
            "1/1 [==============================] - 0s 17ms/step\n",
            "1/1 [==============================] - 0s 122ms/step\n",
            "1/1 [==============================] - 0s 78ms/step\n",
            "1/1 [==============================] - 0s 70ms/step\n",
            "1/1 [==============================] - 0s 95ms/step\n",
            "1/1 [==============================] - 0s 18ms/step\n",
            "1/1 [==============================] - 0s 25ms/step\n",
            "1/1 [==============================] - 0s 46ms/step\n",
            "1/1 [==============================] - 0s 17ms/step\n",
            "1/1 [==============================] - 0s 12ms/step\n",
            "1/1 [==============================] - 0s 19ms/step\n",
            "1/1 [==============================] - 0s 18ms/step\n",
            "1/1 [==============================] - 0s 21ms/step\n",
            "1/1 [==============================] - 0s 29ms/step\n",
            "1/1 [==============================] - 0s 32ms/step\n",
            "1/1 [==============================] - 0s 17ms/step\n",
            "1/1 [==============================] - 0s 20ms/step\n",
            "1/1 [==============================] - 0s 27ms/step\n",
            "1/1 [==============================] - 0s 14ms/step\n",
            "1/1 [==============================] - 0s 29ms/step\n",
            "1/1 [==============================] - 0s 14ms/step\n",
            "1/1 [==============================] - 0s 17ms/step\n",
            "1/1 [==============================] - 0s 23ms/step\n",
            "1/1 [==============================] - 0s 22ms/step\n",
            "1/1 [==============================] - 0s 22ms/step\n",
            "1/1 [==============================] - 0s 32ms/step\n",
            "1/1 [==============================] - 0s 42ms/step\n",
            "1/1 [==============================] - 0s 18ms/step\n",
            "1/1 [==============================] - 0s 16ms/step\n",
            "1/1 [==============================] - 0s 11ms/step\n",
            "1/1 [==============================] - 0s 24ms/step\n",
            "1/1 [==============================] - 0s 25ms/step\n",
            "1/1 [==============================] - 0s 26ms/step\n",
            "1/1 [==============================] - 0s 12ms/step\n",
            "1/1 [==============================] - 0s 19ms/step\n",
            "1/1 [==============================] - 0s 25ms/step\n",
            "1/1 [==============================] - 0s 13ms/step\n",
            "1/1 [==============================] - 0s 11ms/step\n",
            "1/1 [==============================] - 0s 12ms/step\n",
            "1/1 [==============================] - 0s 21ms/step\n",
            "1/1 [==============================] - 0s 26ms/step\n",
            "1/1 [==============================] - 0s 14ms/step\n",
            "1/1 [==============================] - 0s 18ms/step\n",
            "1/1 [==============================] - 0s 16ms/step\n",
            "1/1 [==============================] - 0s 15ms/step\n",
            "1/1 [==============================] - 0s 23ms/step\n",
            "1/1 [==============================] - 0s 16ms/step\n",
            "1/1 [==============================] - 0s 22ms/step\n",
            "1/1 [==============================] - 0s 16ms/step\n",
            "1/1 [==============================] - 0s 23ms/step\n",
            "1/1 [==============================] - 0s 22ms/step\n",
            "1/1 [==============================] - 0s 14ms/step\n",
            "1/1 [==============================] - 0s 94ms/step\n",
            "1/1 [==============================] - 0s 11ms/step\n",
            "1/1 [==============================] - 0s 20ms/step\n",
            "1/1 [==============================] - 0s 15ms/step\n",
            "1/1 [==============================] - 0s 10ms/step\n",
            "1/1 [==============================] - 0s 19ms/step\n",
            "1/1 [==============================] - 0s 12ms/step\n",
            "1/1 [==============================] - 0s 12ms/step\n",
            "1/1 [==============================] - 0s 11ms/step\n",
            "1/1 [==============================] - 0s 20ms/step\n",
            "1/1 [==============================] - 0s 13ms/step\n",
            "1/1 [==============================] - 0s 24ms/step\n",
            "1/1 [==============================] - 0s 15ms/step\n",
            "1/1 [==============================] - 0s 13ms/step\n",
            "1/1 [==============================] - 0s 14ms/step\n",
            "1/1 [==============================] - 0s 53ms/step\n",
            "1/1 [==============================] - 0s 19ms/step\n",
            "1/1 [==============================] - 0s 20ms/step\n",
            "1/1 [==============================] - 0s 32ms/step\n",
            "1/1 [==============================] - 0s 17ms/step\n",
            "1/1 [==============================] - 0s 59ms/step\n",
            "1/1 [==============================] - 0s 16ms/step\n",
            "1/1 [==============================] - 0s 26ms/step\n",
            "1/1 [==============================] - 0s 28ms/step\n",
            "1/1 [==============================] - 0s 12ms/step\n",
            "1/1 [==============================] - 0s 11ms/step\n",
            "1/1 [==============================] - 0s 24ms/step\n",
            "1/1 [==============================] - 0s 16ms/step\n",
            "1/1 [==============================] - 0s 20ms/step\n",
            "1/1 [==============================] - 0s 20ms/step\n",
            "1/1 [==============================] - 0s 14ms/step\n",
            "1/1 [==============================] - 0s 14ms/step\n",
            "1/1 [==============================] - 0s 24ms/step\n",
            "1/1 [==============================] - 0s 15ms/step\n",
            "1/1 [==============================] - 0s 18ms/step\n",
            "1/1 [==============================] - 0s 117ms/step\n",
            "1/1 [==============================] - 0s 28ms/step\n",
            "1/1 [==============================] - 0s 16ms/step\n",
            "1/1 [==============================] - 0s 60ms/step\n",
            "1/1 [==============================] - 0s 22ms/step\n",
            "1/1 [==============================] - 0s 18ms/step\n",
            "1/1 [==============================] - 0s 54ms/step\n",
            "1/1 [==============================] - 0s 86ms/step\n",
            "1/1 [==============================] - 0s 59ms/step\n",
            "1/1 [==============================] - 0s 89ms/step\n",
            "1/1 [==============================] - 0s 22ms/step\n",
            "1/1 [==============================] - 0s 39ms/step\n",
            "1/1 [==============================] - 0s 101ms/step\n",
            "1/1 [==============================] - 0s 14ms/step\n",
            "1/1 [==============================] - 0s 37ms/step\n",
            "1/1 [==============================] - 0s 151ms/step\n",
            "1/1 [==============================] - 0s 22ms/step\n",
            "1/1 [==============================] - 0s 15ms/step\n",
            "1/1 [==============================] - 0s 26ms/step\n",
            "1/1 [==============================] - 0s 25ms/step\n",
            "1/1 [==============================] - 0s 42ms/step\n",
            "1/1 [==============================] - 0s 20ms/step\n",
            "1/1 [==============================] - 0s 18ms/step\n",
            "1/1 [==============================] - 0s 25ms/step\n",
            "1/1 [==============================] - 0s 54ms/step\n",
            "1/1 [==============================] - 0s 20ms/step\n",
            "1/1 [==============================] - 0s 65ms/step\n",
            "1/1 [==============================] - 0s 107ms/step\n",
            "1/1 [==============================] - 0s 12ms/step\n",
            "\n",
            "Total Predictions: 480\n",
            "Correct Predictions: 60\n",
            "Incorrect Predictions: 420\n"
          ]
        }
      ],
      "source": [
        "audio_files, predicted_labels, true_emotions, predicted_probabilities = predict_emotions_in_directory(loaded_cnn_model, loaded_label_encoder, directory_path)"
      ]
    },
    {
      "cell_type": "code",
      "execution_count": 58,
      "metadata": {},
      "outputs": [],
      "source": [
        "prediction_list = [item[0] for item in predicted_labels]"
      ]
    },
    {
      "cell_type": "code",
      "execution_count": 59,
      "metadata": {},
      "outputs": [],
      "source": [
        "list_values = list(zip(true_emotions, prediction_list, predicted_probabilities))"
      ]
    },
    {
      "cell_type": "code",
      "execution_count": 60,
      "metadata": {},
      "outputs": [
        {
          "data": {
            "text/html": [
              "<div>\n",
              "<style scoped>\n",
              "    .dataframe tbody tr th:only-of-type {\n",
              "        vertical-align: middle;\n",
              "    }\n",
              "\n",
              "    .dataframe tbody tr th {\n",
              "        vertical-align: top;\n",
              "    }\n",
              "\n",
              "    .dataframe thead th {\n",
              "        text-align: right;\n",
              "    }\n",
              "</style>\n",
              "<table border=\"1\" class=\"dataframe\">\n",
              "  <thead>\n",
              "    <tr style=\"text-align: right;\">\n",
              "      <th></th>\n",
              "      <th>label</th>\n",
              "      <th>prediction</th>\n",
              "      <th>probability</th>\n",
              "    </tr>\n",
              "  </thead>\n",
              "  <tbody>\n",
              "    <tr>\n",
              "      <th>0</th>\n",
              "      <td>sad</td>\n",
              "      <td>fear</td>\n",
              "      <td>0.671101</td>\n",
              "    </tr>\n",
              "    <tr>\n",
              "      <th>1</th>\n",
              "      <td>sad</td>\n",
              "      <td>fear</td>\n",
              "      <td>0.671101</td>\n",
              "    </tr>\n",
              "    <tr>\n",
              "      <th>2</th>\n",
              "      <td>neutral</td>\n",
              "      <td>fear</td>\n",
              "      <td>0.671101</td>\n",
              "    </tr>\n",
              "    <tr>\n",
              "      <th>3</th>\n",
              "      <td>surprise</td>\n",
              "      <td>fear</td>\n",
              "      <td>0.671101</td>\n",
              "    </tr>\n",
              "    <tr>\n",
              "      <th>4</th>\n",
              "      <td>neutral</td>\n",
              "      <td>fear</td>\n",
              "      <td>0.671101</td>\n",
              "    </tr>\n",
              "  </tbody>\n",
              "</table>\n",
              "</div>"
            ],
            "text/plain": [
              "      label prediction  probability\n",
              "0       sad       fear     0.671101\n",
              "1       sad       fear     0.671101\n",
              "2   neutral       fear     0.671101\n",
              "3  surprise       fear     0.671101\n",
              "4   neutral       fear     0.671101"
            ]
          },
          "execution_count": 60,
          "metadata": {},
          "output_type": "execute_result"
        }
      ],
      "source": [
        "df_pred = pd.DataFrame(list_values, columns=['label', 'prediction', 'probability'])\n",
        "df_pred.head()"
      ]
    },
    {
      "cell_type": "code",
      "execution_count": 61,
      "metadata": {},
      "outputs": [],
      "source": [
        "# Assuming df_pred is your DataFrame containing predictions\n",
        "confusion_matrix = pd.crosstab(df_pred['label'], df_pred['prediction'], rownames=['Actual'], colnames=['Predicted'])\n",
        "\n",
        "# Count the correct predictions for each emotion\n",
        "correct_predictions = []\n",
        "\n",
        "for label in confusion_matrix.index:\n",
        "    try:\n",
        "        correct_predictions.append(confusion_matrix.loc[label, label])\n",
        "    except KeyError:\n",
        "        correct_predictions.append(0)\n",
        "\n",
        "# Add a new column to your DataFrame for correct predictions\n",
        "df_pred['correct_predictions'] = np.where(df_pred['label'] == df_pred['prediction'], 1, 0)\n",
        "\n",
        "# Calculate the total correct predictions for each emotion\n",
        "total_correct_predictions = df_pred.groupby('label')['correct_predictions'].sum()\n"
      ]
    },
    {
      "cell_type": "code",
      "execution_count": 62,
      "metadata": {},
      "outputs": [
        {
          "data": {
            "text/plain": [
              "label\n",
              "angry        0\n",
              "disgust      0\n",
              "fear        60\n",
              "happy        0\n",
              "neutral      0\n",
              "sad          0\n",
              "surprise     0\n",
              "Name: correct_predictions, dtype: int64"
            ]
          },
          "execution_count": 62,
          "metadata": {},
          "output_type": "execute_result"
        }
      ],
      "source": [
        "total_correct_predictions"
      ]
    }
  ],
  "metadata": {
    "colab": {
      "provenance": []
    },
    "kernelspec": {
      "display_name": "Python 3",
      "name": "python3"
    },
    "language_info": {
      "codemirror_mode": {
        "name": "ipython",
        "version": 3
      },
      "file_extension": ".py",
      "mimetype": "text/x-python",
      "name": "python",
      "nbconvert_exporter": "python",
      "pygments_lexer": "ipython3",
      "version": "3.10.6"
    }
  },
  "nbformat": 4,
  "nbformat_minor": 0
}
